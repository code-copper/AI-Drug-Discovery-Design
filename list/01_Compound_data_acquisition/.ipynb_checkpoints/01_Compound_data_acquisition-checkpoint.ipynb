{
 "cells": [
  {
   "cell_type": "markdown",
   "id": "a45326bd8b8e9cb7",
   "metadata": {
    "collapsed": false,
    "jupyter": {
     "outputs_hidden": false
    }
   },
   "source": [
    "# CheEMBL化合物数据采集 \n",
    "## 网址\n",
    "https://www.ebi.ac.uk/chembl/\n",
    "## 简介\n",
    "ChEMBL是由欧洲核生物研究组织（European Bioinformatics Institute, EBI）开发的化合物数据库，其包含了超过100万条化合物的结构、活性、活性指标、注释等信息。ChEMBL的目标是成为一个开放、公开、全面的化合物数据库，为全人类提供有效的化学信息。ChEMBL的开发始于2000年，目前已成为欧洲核生物研究组织（EBI）的重要组成部分。\n",
    "\n",
    "ChEMBL的化合物数据采集主要包括以下几个方面：\n",
    "1. 化合物结构采集：ChEMBL提供的化合物结构数据包括分子式、二维结构图、三维结构图、分子量等信息。\n",
    "2. 化合物活性数据采集：ChEMBL提供的化合物活性数据包括分子活性数据、化学反应数据、化学反应物质数据等。\n",
    "3. 化合物注释数据采集：ChEMBL提供的化合物注释数据包括化学家注释、结构注释、活性注释等。\n",
    "4. 化合物相互作用数据采集：ChEMBL提供的化合物相互作用数据包括化合物相互作用数据、化合物相互作用网络数据等。\n",
    "5. 化合物药物数据采集：ChEMBL提供的化合物药物数据包括药物结构、药物活性数据、药物相互作用数据等。\n",
    "\n",
    "ChEMBL化合物数据采集的主要流程如下：\n",
    "1. 注册ChEMBL账号：首先需要注册ChEMBL账号，注册地址为https://www.ebi.ac.uk/chembl/user_signup。\n",
    "2. 选择化合物数据类型：选择需要采集的化合物数据类型，如化合物结构数据、化合物活性数据、化合物注释数据等。\n",
    "3. 选择采集目标：选择需要采集的化合物数据目标，如特定分子、特定类型化合物、特定药物等。\n",
    "4. 选择采集方式：选择采集方式，如API、Web界面、Excel文件等。\n",
    "5. 采集数据：根据选择的采集方式，采集化合物数据。\n",
    "\n",
    "ChEMBL化合物数据采集的优点有：\n",
    "1. 全面性：ChEMBL提供的化合物数据覆盖了化学、生物、药物领域，涵盖了各个领域的最新研究成果。\n",
    "2. 准确性：ChEMBL的化合物数据采集是基于结构、活性、注释等多方面信息，具有较高的准确性。\n",
    "3. 开放性：ChEMBL的化合物数据采集是开放的，任何人都可以免费使用。\n",
    "\n",
    "## 目标\n",
    "本次项目的目标是利用ChEMBL数据库，采集化合物结构、活性、注释数据，并进行数据分析。\n",
    "了解 ChEMBL 数据库以及如何从 ChEMBL 中提取数据，即感兴趣目标的（化合物、活性数据）对。这些数据集可用于许多化学信息学任务，例如相似性搜索、聚类或机器学习。\n",
    "\n",
    "## 理论内容\n",
    "1. 化学信息学基础\n",
    "2. ChEMBL 数据库\n",
    "    ChEMBL 网络服务\n",
    "    ChEMBL 网络资源客户端\n",
    "3. 化合物结构数据\n",
    "4. 化合物活性数据\n",
    "    复合活性测量\n",
    "     IC50测量\n",
    "     pIC50值\n",
    "5. 化合物注释数据\n",
    "6. 化合物相互作用数据\n",
    "7. 化合物药物数据\n",
    "8. 数据分析方法\n",
    "\n",
    "## 实践内容\n",
    "目标：获取具有给定目标的生物活性数据的化合物列表\n",
    "- 连接到 ChEMBL 数据库\n",
    "- 获取目标数据（例如：VEGFR2 激酶）\n",
    "    - 获取并下载目标数据\n",
    "    - 选择目标 ChEMBL ID\n",
    "\n",
    "- 获取生物活性数据\n",
    "    - 获取并下载目标的生物活性数据\n",
    "    - 预处理和过滤生物活性数据\n",
    "\n",
    "- 获取化合物数据\n",
    "    - 获取并下载化合物数据\n",
    "    - 预处理和过滤化合物数据\n",
    "\n",
    "- 输出生物活性化合物数据\n",
    "    - 并生物活性和化合物数据，并添加 pIC50 值\n",
    "    - 绘制具有最高 pIC50 的分子\n",
    "\n",
    "\n",
    "\n",
    "####  pIC50 值\n",
    "\n",
    "- 为了便于比较 IC50 值，IC50 值具有较大的值范围并以不同的单位（M、nM、...）给出，通常使用 pIC50 值\n",
    "- pIC50 是转换为摩尔单位时 IC50 值的负对数： pIC50=−log10(IC50) ， 在哪里 IC50 以 M 为单位指定\n",
    "- pIC50 值越高表明药物的效力呈指数级增长\n",
    "- 请注意，转换可以适应相应的 IC50 单位，例如对于纳米： pIC50=−log10(IC50∗10−9)=9−log10(IC50)\n",
    "\n",
    " 其他活动措施：\n",
    "此外，IC50和pIC50，还使用其他生物活性测量，例如平衡常数[KI]和半最大有效浓度[EC50]"
   ]
  },
  {
   "cell_type": "code",
   "execution_count": 1,
   "id": "initial_id",
   "metadata": {},
   "outputs": [],
   "source": [
    "# 连接到 ChEMBL 数据库\n",
    "# 首先，导入 ChEMBL Web 资源客户端以及其他 Python 库。\n",
    "\n",
    "import math\n",
    "from pathlib import Path\n",
    "from zipfile import ZipFile\n",
    "from tempfile import TemporaryDirectory\n",
    "\n",
    "import numpy as np\n",
    "import pandas as pd\n",
    "from rdkit.Chem import PandasTools\n",
    "from chembl_webresource_client.new_client import new_client\n",
    "from tqdm.auto import tqdm"
   ]
  },
  {
   "cell_type": "code",
   "execution_count": 2,
   "id": "1e1a7fef2196c750",
   "metadata": {
    "collapsed": false,
    "jupyter": {
     "outputs_hidden": false
    }
   },
   "outputs": [
    {
     "name": "stdout",
     "output_type": "stream",
     "text": [
      "/Users/wangyang/Desktop/AI-drug-design/list/01_Compound_data_acquisition/data\n"
     ]
    }
   ],
   "source": [
    "from pathlib import Path\n",
    "import os\n",
    "\n",
    "# 获取当前工作目录\n",
    "HERE = Path(os.getcwd())\n",
    "DATA = HERE / 'data'\n",
    "if not DATA.exists():\n",
    "    DATA.mkdir(parents=True, exist_ok=True)\n",
    "print(DATA)"
   ]
  },
  {
   "cell_type": "code",
   "execution_count": 3,
   "id": "e3d55737ff3b386",
   "metadata": {
    "collapsed": false,
    "jupyter": {
     "outputs_hidden": false
    }
   },
   "outputs": [],
   "source": [
    "# 接下来，我们创建用于 API 访问的资源对象。\n",
    "targets_api = new_client.target\n",
    "compounds_api = new_client.molecule\n",
    "bioactivities_api = new_client.activity"
   ]
  },
  {
   "cell_type": "code",
   "execution_count": 4,
   "id": "2508cb2fadd727bd",
   "metadata": {
    "collapsed": false,
    "jupyter": {
     "outputs_hidden": false
    }
   },
   "outputs": [
    {
     "data": {
      "text/plain": [
       "chembl_webresource_client.query_set.QuerySet"
      ]
     },
     "execution_count": 4,
     "metadata": {},
     "output_type": "execute_result"
    }
   ],
   "source": [
    "# 查看类型\n",
    "type(targets_api)"
   ]
  },
  {
   "cell_type": "code",
   "execution_count": 5,
   "id": "f42660934d345c14",
   "metadata": {
    "collapsed": false,
    "jupyter": {
     "outputs_hidden": false
    }
   },
   "outputs": [],
   "source": [
    "'''\n",
    "获取目标数据（VEGFR2 激酶） \n",
    "从UniProt 网站获取感兴趣靶点的 UniProt ID（VEGFR2 激酶： P35968 ）https://www.uniprot.org/uniprotkb?query=VGFR2_HUMAN\n",
    "使用UniProt ID获取目标信息\n",
    "如果您对其他目标感兴趣，请选择不同的 UniProt ID。\n",
    "'''\n",
    "\n",
    "uniprot_id = \"P35968\""
   ]
  },
  {
   "cell_type": "markdown",
   "id": "030e1945-1964-4c4c-b9fe-336e6c726e98",
   "metadata": {},
   "source": [
    "## 从ChEMBL获取目标数据"
   ]
  },
  {
   "cell_type": "code",
   "execution_count": 6,
   "id": "04ccb71a-d90e-4feb-8c63-7b970bc9220c",
   "metadata": {},
   "outputs": [
    {
     "name": "stdout",
     "output_type": "stream",
     "text": [
      "目标的类型是 \"<class 'chembl_webresource_client.query_set.QuerySet'>\"\n"
     ]
    }
   ],
   "source": [
    "# 从 ChEMBL 获取目标信息，但仅限于指定值\n",
    "targets = targets_api.get(target_components__accession=uniprot_id).only(\n",
    "    \"target_chembl_id\", \"organism\", \"pref_name\", \"target_type\"\n",
    ")\n",
    "print(f'目标的类型是 \"{type(targets)}\"')"
   ]
  },
  {
   "cell_type": "markdown",
   "id": "6eb4abdf-babd-4565-a02e-70224be969fa",
   "metadata": {},
   "source": [
    "## 从ChEMBL下载目标数据\n",
    "\n",
    "查询结果存储在一个QuerySet（查询集）目标中，也就是说，在我们提出要求之前，查询结果不会从 ChEMBL 中获取（此处使用pandas.DataFrame.from_records）。\n"
   ]
  },
  {
   "cell_type": "code",
   "execution_count": 7,
   "id": "52695ecd-70ee-4d1f-8e82-d2f87a3f20a0",
   "metadata": {},
   "outputs": [
    {
     "data": {
      "text/html": [
       "<div>\n",
       "<style scoped>\n",
       "    .dataframe tbody tr th:only-of-type {\n",
       "        vertical-align: middle;\n",
       "    }\n",
       "\n",
       "    .dataframe tbody tr th {\n",
       "        vertical-align: top;\n",
       "    }\n",
       "\n",
       "    .dataframe thead th {\n",
       "        text-align: right;\n",
       "    }\n",
       "</style>\n",
       "<table border=\"1\" class=\"dataframe\">\n",
       "  <thead>\n",
       "    <tr style=\"text-align: right;\">\n",
       "      <th></th>\n",
       "      <th>organism</th>\n",
       "      <th>pref_name</th>\n",
       "      <th>target_chembl_id</th>\n",
       "      <th>target_type</th>\n",
       "    </tr>\n",
       "  </thead>\n",
       "  <tbody>\n",
       "    <tr>\n",
       "      <th>0</th>\n",
       "      <td>Homo sapiens</td>\n",
       "      <td>Vascular endothelial growth factor receptor 2</td>\n",
       "      <td>CHEMBL279</td>\n",
       "      <td>SINGLE PROTEIN</td>\n",
       "    </tr>\n",
       "    <tr>\n",
       "      <th>1</th>\n",
       "      <td>Homo sapiens</td>\n",
       "      <td>Vascular endothelial growth factor receptor 2</td>\n",
       "      <td>CHEMBL279</td>\n",
       "      <td>SINGLE PROTEIN</td>\n",
       "    </tr>\n",
       "    <tr>\n",
       "      <th>2</th>\n",
       "      <td>Homo sapiens</td>\n",
       "      <td>Vascular endothelial growth factor receptor</td>\n",
       "      <td>CHEMBL2095227</td>\n",
       "      <td>PROTEIN FAMILY</td>\n",
       "    </tr>\n",
       "    <tr>\n",
       "      <th>3</th>\n",
       "      <td>Homo sapiens</td>\n",
       "      <td>Vascular endothelial growth factor receptor 2 ...</td>\n",
       "      <td>CHEMBL2111409</td>\n",
       "      <td>SELECTIVITY GROUP</td>\n",
       "    </tr>\n",
       "    <tr>\n",
       "      <th>4</th>\n",
       "      <td>Homo sapiens</td>\n",
       "      <td>VEGF-receptor 2 and stem cell growth factor re...</td>\n",
       "      <td>CHEMBL2111428</td>\n",
       "      <td>SELECTIVITY GROUP</td>\n",
       "    </tr>\n",
       "    <tr>\n",
       "      <th>5</th>\n",
       "      <td>Homo sapiens</td>\n",
       "      <td>VEGF-receptor 2 and Fibroblast growth factor r...</td>\n",
       "      <td>CHEMBL2111434</td>\n",
       "      <td>SELECTIVITY GROUP</td>\n",
       "    </tr>\n",
       "    <tr>\n",
       "      <th>6</th>\n",
       "      <td>Homo sapiens</td>\n",
       "      <td>VEGF-receptor 2 and Fibroblast growth factor r...</td>\n",
       "      <td>CHEMBL2111439</td>\n",
       "      <td>PROTEIN FAMILY</td>\n",
       "    </tr>\n",
       "    <tr>\n",
       "      <th>7</th>\n",
       "      <td>Homo sapiens</td>\n",
       "      <td>VEGF-receptor 2 and PDGF-receptor beta (KDR an...</td>\n",
       "      <td>CHEMBL2111440</td>\n",
       "      <td>SELECTIVITY GROUP</td>\n",
       "    </tr>\n",
       "    <tr>\n",
       "      <th>8</th>\n",
       "      <td>Homo sapiens</td>\n",
       "      <td>Vascular endothelial growth factor receptor 1 ...</td>\n",
       "      <td>CHEMBL2111480</td>\n",
       "      <td>SELECTIVITY GROUP</td>\n",
       "    </tr>\n",
       "    <tr>\n",
       "      <th>9</th>\n",
       "      <td>Homo sapiens</td>\n",
       "      <td>VEGF-receptor 2 and tyrosine-protein kinase SRC</td>\n",
       "      <td>CHEMBL2111336</td>\n",
       "      <td>SELECTIVITY GROUP</td>\n",
       "    </tr>\n",
       "    <tr>\n",
       "      <th>10</th>\n",
       "      <td>Homo sapiens</td>\n",
       "      <td>Vascular endothelial growth factor receptor 2 ...</td>\n",
       "      <td>CHEMBL2111375</td>\n",
       "      <td>SELECTIVITY GROUP</td>\n",
       "    </tr>\n",
       "    <tr>\n",
       "      <th>11</th>\n",
       "      <td>Homo sapiens</td>\n",
       "      <td>TEL/KDR</td>\n",
       "      <td>CHEMBL4630759</td>\n",
       "      <td>CHIMERIC PROTEIN</td>\n",
       "    </tr>\n",
       "    <tr>\n",
       "      <th>12</th>\n",
       "      <td>Homo sapiens</td>\n",
       "      <td>VHL/Vascular endothelial growth factor receptor 2</td>\n",
       "      <td>CHEMBL5291691</td>\n",
       "      <td>PROTEIN-PROTEIN INTERACTION</td>\n",
       "    </tr>\n",
       "  </tbody>\n",
       "</table>\n",
       "</div>"
      ],
      "text/plain": [
       "        organism                                          pref_name  \\\n",
       "0   Homo sapiens      Vascular endothelial growth factor receptor 2   \n",
       "1   Homo sapiens      Vascular endothelial growth factor receptor 2   \n",
       "2   Homo sapiens        Vascular endothelial growth factor receptor   \n",
       "3   Homo sapiens  Vascular endothelial growth factor receptor 2 ...   \n",
       "4   Homo sapiens  VEGF-receptor 2 and stem cell growth factor re...   \n",
       "5   Homo sapiens  VEGF-receptor 2 and Fibroblast growth factor r...   \n",
       "6   Homo sapiens  VEGF-receptor 2 and Fibroblast growth factor r...   \n",
       "7   Homo sapiens  VEGF-receptor 2 and PDGF-receptor beta (KDR an...   \n",
       "8   Homo sapiens  Vascular endothelial growth factor receptor 1 ...   \n",
       "9   Homo sapiens    VEGF-receptor 2 and tyrosine-protein kinase SRC   \n",
       "10  Homo sapiens  Vascular endothelial growth factor receptor 2 ...   \n",
       "11  Homo sapiens                                            TEL/KDR   \n",
       "12  Homo sapiens  VHL/Vascular endothelial growth factor receptor 2   \n",
       "\n",
       "   target_chembl_id                  target_type  \n",
       "0         CHEMBL279               SINGLE PROTEIN  \n",
       "1         CHEMBL279               SINGLE PROTEIN  \n",
       "2     CHEMBL2095227               PROTEIN FAMILY  \n",
       "3     CHEMBL2111409            SELECTIVITY GROUP  \n",
       "4     CHEMBL2111428            SELECTIVITY GROUP  \n",
       "5     CHEMBL2111434            SELECTIVITY GROUP  \n",
       "6     CHEMBL2111439               PROTEIN FAMILY  \n",
       "7     CHEMBL2111440            SELECTIVITY GROUP  \n",
       "8     CHEMBL2111480            SELECTIVITY GROUP  \n",
       "9     CHEMBL2111336            SELECTIVITY GROUP  \n",
       "10    CHEMBL2111375            SELECTIVITY GROUP  \n",
       "11    CHEMBL4630759             CHIMERIC PROTEIN  \n",
       "12    CHEMBL5291691  PROTEIN-PROTEIN INTERACTION  "
      ]
     },
     "execution_count": 7,
     "metadata": {},
     "output_type": "execute_result"
    }
   ],
   "source": [
    "targets = pd.DataFrame.from_records(targets)\n",
    "targets"
   ]
  },
  {
   "cell_type": "markdown",
   "id": "56bfe904-e614-4997-a5ec-4315746934f3",
   "metadata": {},
   "source": [
    "## 选择目标（目标 ChEMBL ID）\n",
    "\n",
    "检查条目后，我们选择第一个条目作为关注目标："
   ]
  },
  {
   "cell_type": "code",
   "execution_count": 8,
   "id": "f73faac0-dfff-4cf2-bfe9-0086d651ecd4",
   "metadata": {},
   "outputs": [
    {
     "data": {
      "text/plain": [
       "organism                                             Homo sapiens\n",
       "pref_name           Vascular endothelial growth factor receptor 2\n",
       "target_chembl_id                                        CHEMBL279\n",
       "target_type                                        SINGLE PROTEIN\n",
       "Name: 0, dtype: object"
      ]
     },
     "execution_count": 8,
     "metadata": {},
     "output_type": "execute_result"
    }
   ],
   "source": [
    "target = targets.iloc[0]\n",
    "target"
   ]
  },
  {
   "cell_type": "markdown",
   "id": "3c25cf7b-37a0-4322-9a5a-310b630f7e57",
   "metadata": {},
   "source": [
    "## 保存选定的 ChEMBL ID"
   ]
  },
  {
   "cell_type": "code",
   "execution_count": 9,
   "id": "d704b55a-af37-4adb-8923-e70186dbbf8d",
   "metadata": {},
   "outputs": [
    {
     "name": "stdout",
     "output_type": "stream",
     "text": [
      "目标 ChEMBL ID 为 CHEMBL279\n"
     ]
    }
   ],
   "source": [
    "chembl_id = target.target_chembl_id\n",
    "print(f\"目标 ChEMBL ID 为 {chembl_id}\")"
   ]
  },
  {
   "cell_type": "markdown",
   "id": "41d0c2b0-9414-4f7a-92a7-a01ece4d8c3c",
   "metadata": {},
   "source": [
    "## 获取生物活性数据\n",
    "\n",
    "- 现在，我们要查询感兴趣目标的生物活性数据。\n",
    "\n",
    "- 从ChEMBL中获取目标的生物活性数据\n",
    "\n",
    "- 在这一步中，我们将获取生物活性数据，并对其进行筛选，以便只考虑\n",
    "\n",
    "    - 人类蛋白质\n",
    "    - 生物活性类型 IC50、\n",
    "    -  精确测量（关系式\"=\"）\n",
    "    - 结合数据（化验类型\"B\"）"
   ]
  },
  {
   "cell_type": "code",
   "execution_count": 15,
   "id": "edd4c66a-a69a-4ac2-8afd-a8650613bc2f",
   "metadata": {},
   "outputs": [
    {
     "name": "stdout",
     "output_type": "stream",
     "text": [
      "生物活动对象的长度和类型: 9149, <class 'chembl_webresource_client.query_set.QuerySet'>\n"
     ]
    }
   ],
   "source": [
    "# 使用bioactivities_api接口过滤符合条件的生物活动数据\n",
    "# 过滤条件：目标ID为chembl_id，类型为\"IC50\"，关系符为\"=\"，实验类型为\"B\"\n",
    "bioactivities = bioactivities_api.filter(\n",
    "    target_chembl_id=chembl_id,   # 指定目标的ChEMBL ID\n",
    "    type=\"IC50\",                 # 活动类型为IC50（半数抑制浓度）\n",
    "    relation=\"=\",                # 关系符为等于\n",
    "    assay_type=\"B\"                # 实验类型为B\n",
    ").only(\n",
    "    # 选择返回的数据字段\n",
    "    \"activity_id\",               # 活动ID\n",
    "    \"assay_chembl_id\",           # 实验的ChEMBL ID\n",
    "    \"assay_description\",         # 实验描述\n",
    "    \"assay_type\",                # 实验类型\n",
    "    \"molecule_chembl_id\",        # 分子的ChEMBL ID\n",
    "    \"type\",                      # 活动类型\n",
    "    \"standard_units\",            # 标准单位\n",
    "    \"relation\",                  # 活动值的关系符\n",
    "    \"standard_value\",            # 标准化后的活动值\n",
    "    \"target_chembl_id\",          # 目标的ChEMBL ID\n",
    "    \"target_organism\",           # 目标所属的生物体\n",
    ")\n",
    "\n",
    "# 打印生物活动对象的长度（数量）和数据类型\n",
    "print(f\"生物活动对象的长度和类型: {len(bioactivities)}, {type(bioactivities)}\")\n",
    "\n",
    "# 这段代码的作用是通过API过滤并获取符合条件的生物活动数据，然后输出获取到的数据数量和其数据类型。"
   ]
  },
  {
   "cell_type": "markdown",
   "id": "4d552c3f-e095-4e6a-9d40-a1e13650e98d",
   "metadata": {},
   "source": [
    "## 生物活性集的每个条目都包含以下信息："
   ]
  },
  {
   "cell_type": "code",
   "execution_count": 17,
   "id": "9d1a7bf4-4402-4fb6-813a-9c73fd84d9a8",
   "metadata": {},
   "outputs": [
    {
     "name": "stdout",
     "output_type": "stream",
     "text": [
      "第一个元素的长度和类型: 13, <class 'dict'>\n"
     ]
    },
    {
     "data": {
      "text/plain": [
       "{'activity_id': 32262,\n",
       " 'assay_chembl_id': 'CHEMBL816964',\n",
       " 'assay_description': 'Inhibition of tyrosine phosphorylation in cells expressing human VEGFR2 (Flk-1/KDR) kinase',\n",
       " 'assay_type': 'B',\n",
       " 'molecule_chembl_id': 'CHEMBL68920',\n",
       " 'relation': '=',\n",
       " 'standard_units': 'nM',\n",
       " 'standard_value': '16500.0',\n",
       " 'target_chembl_id': 'CHEMBL279',\n",
       " 'target_organism': 'Homo sapiens',\n",
       " 'type': 'IC50',\n",
       " 'units': 'uM',\n",
       " 'value': '16.5'}"
      ]
     },
     "execution_count": 17,
     "metadata": {},
     "output_type": "execute_result"
    }
   ],
   "source": [
    "print(f\"第一个元素的长度和类型: {len(bioactivities[0])}, {type(bioactivities[0])}\")\n",
    "bioactivities[0]"
   ]
  },
  {
   "cell_type": "markdown",
   "id": "255461c6-0c37-456e-9763-6c478977e537",
   "metadata": {},
   "source": [
    "'''\n",
    "- **activity_id**: `32262`\n",
    "  - 这是生物活性数据的唯一标识符，表示该条记录的编号。\n",
    "\n",
    "- **assay_chembl_id**: `'CHEMBL816964'`\n",
    "  - 这是实验（assay）的ChEMBL ID，用于唯一标识该生物实验。\n",
    "\n",
    "- **assay_description**: `'Inhibition of tyrosine phosphorylation in cells expressing human VEGFR22 (Flk-1/KDR) kinase'`\n",
    "  - 实验的描述，说明实验的内容。在这里，实验是研究一种化合物对人类VEGFR22（Flk-1/KDR）激酶磷酸化的抑制作用。\n",
    "\n",
    "- **assay_type**: `'B'`\n",
    "  - 实验类型，可能代表某种特定的实验类别或方法，例如细胞实验或体外实验。\n",
    "\n",
    "- **molecule_chembl_id**: `'CHEMBL68920'`\n",
    "  - 这是分子或化合物的ChEMBL ID，表示该条记录中研究的化合物的唯一标识符。\n",
    "\n",
    "- **relation**: `'='`\n",
    "  - 表示数值关系，在这里表示该生物活性值是精确的等于给出的值。\n",
    "\n",
    "- **standard_units**: `'nM'`\n",
    "  - 这是生物活性标准化后的单位。在该条记录中，单位是纳摩尔（nM）。\n",
    "\n",
    "- **standard_value**: `'16500.0'`\n",
    "  - 这是标准化后的生物活性值，表示IC50的值为16500纳摩尔（nM），即16.5微摩尔（uM）。\n",
    "\n",
    "- **target_chembl_id**: `'CHEMBL279'`\n",
    "  - 这是目标蛋白（如酶或受体）的ChEMBL ID，在此记录中，目标是编号为CHEMBL279的蛋白。\n",
    "\n",
    "- **target_organism**: `'Homo sapiens'`\n",
    "  - 目标生物体，这里表示实验是在人体的细胞或蛋白质上进行的。\n",
    "\n",
    "- **type**: `'IC50'`\n",
    "  - 活性类型，IC50表示半数抑制浓度，即能够抑制50%目标生物活性的化合物浓度。\n",
    "\n",
    "- **units**: `'uM'`\n",
    "  - 生物活性值的原始单位，在此为微摩尔（uM）。\n",
    "\n",
    "- **value**: `'16.5'`\n",
    "  - 实验原始记录的活性值，表示IC50为16.5微摩尔（uM）。\n",
    "\n",
    "这条记录描述了一个化合物（CHEMBL68920）在细胞实验中抑制人类VEGFR22激酶磷酸化的IC50值为16.5微摩尔。\n",
    "'''"
   ]
  },
  {
   "cell_type": "markdown",
   "id": "10bcaff3-af03-4305-a1fc-deffe9a6c426",
   "metadata": {},
   "source": [
    "## 从ChEMBL下载生物活性数据\n",
    "\n",
    "最后，我们以pandasDataFrame 的形式下载QuerySet。\n",
    "\n",
    "⚠️下面这一行代码差不多需要等待10分钟样子，请您耐心等待，！❤️"
   ]
  },
  {
   "cell_type": "code",
   "execution_count": 18,
   "id": "ddcf9982-5263-48c7-9f5c-ba1bfd58d36b",
   "metadata": {},
   "outputs": [
    {
     "name": "stdout",
     "output_type": "stream",
     "text": [
      "数据帧形状: (9149, 13)\n"
     ]
    },
    {
     "data": {
      "text/html": [
       "<div>\n",
       "<style scoped>\n",
       "    .dataframe tbody tr th:only-of-type {\n",
       "        vertical-align: middle;\n",
       "    }\n",
       "\n",
       "    .dataframe tbody tr th {\n",
       "        vertical-align: top;\n",
       "    }\n",
       "\n",
       "    .dataframe thead th {\n",
       "        text-align: right;\n",
       "    }\n",
       "</style>\n",
       "<table border=\"1\" class=\"dataframe\">\n",
       "  <thead>\n",
       "    <tr style=\"text-align: right;\">\n",
       "      <th></th>\n",
       "      <th>activity_id</th>\n",
       "      <th>assay_chembl_id</th>\n",
       "      <th>assay_description</th>\n",
       "      <th>assay_type</th>\n",
       "      <th>molecule_chembl_id</th>\n",
       "      <th>relation</th>\n",
       "      <th>standard_units</th>\n",
       "      <th>standard_value</th>\n",
       "      <th>target_chembl_id</th>\n",
       "      <th>target_organism</th>\n",
       "      <th>type</th>\n",
       "      <th>units</th>\n",
       "      <th>value</th>\n",
       "    </tr>\n",
       "  </thead>\n",
       "  <tbody>\n",
       "    <tr>\n",
       "      <th>0</th>\n",
       "      <td>32262</td>\n",
       "      <td>CHEMBL816964</td>\n",
       "      <td>Inhibition of tyrosine phosphorylation in cell...</td>\n",
       "      <td>B</td>\n",
       "      <td>CHEMBL68920</td>\n",
       "      <td>=</td>\n",
       "      <td>nM</td>\n",
       "      <td>16500.0</td>\n",
       "      <td>CHEMBL279</td>\n",
       "      <td>Homo sapiens</td>\n",
       "      <td>IC50</td>\n",
       "      <td>uM</td>\n",
       "      <td>16.5</td>\n",
       "    </tr>\n",
       "    <tr>\n",
       "      <th>1</th>\n",
       "      <td>32335</td>\n",
       "      <td>CHEMBL817617</td>\n",
       "      <td>Inhibition of Vascular endothelial growth fact...</td>\n",
       "      <td>B</td>\n",
       "      <td>CHEMBL69638</td>\n",
       "      <td>=</td>\n",
       "      <td>nM</td>\n",
       "      <td>7100.0</td>\n",
       "      <td>CHEMBL279</td>\n",
       "      <td>Homo sapiens</td>\n",
       "      <td>IC50</td>\n",
       "      <td>uM</td>\n",
       "      <td>7.1</td>\n",
       "    </tr>\n",
       "    <tr>\n",
       "      <th>2</th>\n",
       "      <td>33033</td>\n",
       "      <td>CHEMBL812621</td>\n",
       "      <td>Inhibitory activity towards vascular endotheli...</td>\n",
       "      <td>B</td>\n",
       "      <td>CHEMBL419526</td>\n",
       "      <td>=</td>\n",
       "      <td>nM</td>\n",
       "      <td>1880.0</td>\n",
       "      <td>CHEMBL279</td>\n",
       "      <td>Homo sapiens</td>\n",
       "      <td>IC50</td>\n",
       "      <td>nM</td>\n",
       "      <td>1880.0</td>\n",
       "    </tr>\n",
       "    <tr>\n",
       "      <th>3</th>\n",
       "      <td>33408</td>\n",
       "      <td>CHEMBL816964</td>\n",
       "      <td>Inhibition of tyrosine phosphorylation in cell...</td>\n",
       "      <td>B</td>\n",
       "      <td>CHEMBL443268</td>\n",
       "      <td>=</td>\n",
       "      <td>nM</td>\n",
       "      <td>10100.0</td>\n",
       "      <td>CHEMBL279</td>\n",
       "      <td>Homo sapiens</td>\n",
       "      <td>IC50</td>\n",
       "      <td>uM</td>\n",
       "      <td>10.1</td>\n",
       "    </tr>\n",
       "    <tr>\n",
       "      <th>4</th>\n",
       "      <td>34276</td>\n",
       "      <td>CHEMBL812621</td>\n",
       "      <td>Inhibitory activity towards vascular endotheli...</td>\n",
       "      <td>B</td>\n",
       "      <td>CHEMBL330621</td>\n",
       "      <td>=</td>\n",
       "      <td>nM</td>\n",
       "      <td>19.0</td>\n",
       "      <td>CHEMBL279</td>\n",
       "      <td>Homo sapiens</td>\n",
       "      <td>IC50</td>\n",
       "      <td>nM</td>\n",
       "      <td>19.0</td>\n",
       "    </tr>\n",
       "  </tbody>\n",
       "</table>\n",
       "</div>"
      ],
      "text/plain": [
       "   activity_id assay_chembl_id  \\\n",
       "0        32262    CHEMBL816964   \n",
       "1        32335    CHEMBL817617   \n",
       "2        33033    CHEMBL812621   \n",
       "3        33408    CHEMBL816964   \n",
       "4        34276    CHEMBL812621   \n",
       "\n",
       "                                   assay_description assay_type  \\\n",
       "0  Inhibition of tyrosine phosphorylation in cell...          B   \n",
       "1  Inhibition of Vascular endothelial growth fact...          B   \n",
       "2  Inhibitory activity towards vascular endotheli...          B   \n",
       "3  Inhibition of tyrosine phosphorylation in cell...          B   \n",
       "4  Inhibitory activity towards vascular endotheli...          B   \n",
       "\n",
       "  molecule_chembl_id relation standard_units standard_value target_chembl_id  \\\n",
       "0        CHEMBL68920        =             nM        16500.0        CHEMBL279   \n",
       "1        CHEMBL69638        =             nM         7100.0        CHEMBL279   \n",
       "2       CHEMBL419526        =             nM         1880.0        CHEMBL279   \n",
       "3       CHEMBL443268        =             nM        10100.0        CHEMBL279   \n",
       "4       CHEMBL330621        =             nM           19.0        CHEMBL279   \n",
       "\n",
       "  target_organism  type units   value  \n",
       "0    Homo sapiens  IC50    uM    16.5  \n",
       "1    Homo sapiens  IC50    uM     7.1  \n",
       "2    Homo sapiens  IC50    nM  1880.0  \n",
       "3    Homo sapiens  IC50    uM    10.1  \n",
       "4    Homo sapiens  IC50    nM    19.0  "
      ]
     },
     "execution_count": 18,
     "metadata": {},
     "output_type": "execute_result"
    }
   ],
   "source": [
    "bioactivities_df = pd.DataFrame.from_dict(bioactivities)\n",
    "print(f\"数据帧形状: {bioactivities_df.shape}\")\n",
    "bioactivities_df.head()"
   ]
  },
  {
   "cell_type": "code",
   "execution_count": 20,
   "id": "dd96719f-68be-4e17-bf5c-2231b245a29e",
   "metadata": {},
   "outputs": [],
   "source": [
    "# 保存生物活性数据\n",
    "bioactivities_df.to_csv(DATA / \"bioactivities.csv\", index=False)"
   ]
  },
  {
   "cell_type": "markdown",
   "id": "68a5cde0-4ebe-4327-afc2-82769f499741",
   "metadata": {},
   "source": [
    "## 如果使用单位和数值列，我们需要将所有不同单位的数值转换为 nM："
   ]
  },
  {
   "cell_type": "code",
   "execution_count": 21,
   "id": "82132cc0-fb42-4305-b3be-ae17661eac98",
   "metadata": {},
   "outputs": [
    {
     "data": {
      "text/plain": [
       "array(['uM', 'nM', 'uM l-1', 'M', 'um', \"10'-7g/ml\", \"10'-6g/ml\",\n",
       "       'ug ml-1', 'microM', 'umol/L', 'nmol/L', \"10'-9M\", \"10'-8M\",\n",
       "       '10^-9M', '10^-7M', '10^-5M', '10^-8M'], dtype=object)"
      ]
     },
     "execution_count": 21,
     "metadata": {},
     "output_type": "execute_result"
    }
   ],
   "source": [
    "bioactivities_df[\"units\"].unique()"
   ]
  },
  {
   "cell_type": "code",
   "execution_count": 22,
   "id": "f81d20c4-48f8-4f4c-96c6-1cea7330a166",
   "metadata": {},
   "outputs": [
    {
     "data": {
      "text/html": [
       "<div>\n",
       "<style scoped>\n",
       "    .dataframe tbody tr th:only-of-type {\n",
       "        vertical-align: middle;\n",
       "    }\n",
       "\n",
       "    .dataframe tbody tr th {\n",
       "        vertical-align: top;\n",
       "    }\n",
       "\n",
       "    .dataframe thead th {\n",
       "        text-align: right;\n",
       "    }\n",
       "</style>\n",
       "<table border=\"1\" class=\"dataframe\">\n",
       "  <thead>\n",
       "    <tr style=\"text-align: right;\">\n",
       "      <th></th>\n",
       "      <th>activity_id</th>\n",
       "      <th>assay_chembl_id</th>\n",
       "      <th>assay_description</th>\n",
       "      <th>assay_type</th>\n",
       "      <th>molecule_chembl_id</th>\n",
       "      <th>relation</th>\n",
       "      <th>standard_units</th>\n",
       "      <th>standard_value</th>\n",
       "      <th>target_chembl_id</th>\n",
       "      <th>target_organism</th>\n",
       "      <th>type</th>\n",
       "    </tr>\n",
       "  </thead>\n",
       "  <tbody>\n",
       "    <tr>\n",
       "      <th>0</th>\n",
       "      <td>32262</td>\n",
       "      <td>CHEMBL816964</td>\n",
       "      <td>Inhibition of tyrosine phosphorylation in cell...</td>\n",
       "      <td>B</td>\n",
       "      <td>CHEMBL68920</td>\n",
       "      <td>=</td>\n",
       "      <td>nM</td>\n",
       "      <td>16500.0</td>\n",
       "      <td>CHEMBL279</td>\n",
       "      <td>Homo sapiens</td>\n",
       "      <td>IC50</td>\n",
       "    </tr>\n",
       "    <tr>\n",
       "      <th>1</th>\n",
       "      <td>32335</td>\n",
       "      <td>CHEMBL817617</td>\n",
       "      <td>Inhibition of Vascular endothelial growth fact...</td>\n",
       "      <td>B</td>\n",
       "      <td>CHEMBL69638</td>\n",
       "      <td>=</td>\n",
       "      <td>nM</td>\n",
       "      <td>7100.0</td>\n",
       "      <td>CHEMBL279</td>\n",
       "      <td>Homo sapiens</td>\n",
       "      <td>IC50</td>\n",
       "    </tr>\n",
       "    <tr>\n",
       "      <th>2</th>\n",
       "      <td>33033</td>\n",
       "      <td>CHEMBL812621</td>\n",
       "      <td>Inhibitory activity towards vascular endotheli...</td>\n",
       "      <td>B</td>\n",
       "      <td>CHEMBL419526</td>\n",
       "      <td>=</td>\n",
       "      <td>nM</td>\n",
       "      <td>1880.0</td>\n",
       "      <td>CHEMBL279</td>\n",
       "      <td>Homo sapiens</td>\n",
       "      <td>IC50</td>\n",
       "    </tr>\n",
       "    <tr>\n",
       "      <th>3</th>\n",
       "      <td>33408</td>\n",
       "      <td>CHEMBL816964</td>\n",
       "      <td>Inhibition of tyrosine phosphorylation in cell...</td>\n",
       "      <td>B</td>\n",
       "      <td>CHEMBL443268</td>\n",
       "      <td>=</td>\n",
       "      <td>nM</td>\n",
       "      <td>10100.0</td>\n",
       "      <td>CHEMBL279</td>\n",
       "      <td>Homo sapiens</td>\n",
       "      <td>IC50</td>\n",
       "    </tr>\n",
       "    <tr>\n",
       "      <th>4</th>\n",
       "      <td>34276</td>\n",
       "      <td>CHEMBL812621</td>\n",
       "      <td>Inhibitory activity towards vascular endotheli...</td>\n",
       "      <td>B</td>\n",
       "      <td>CHEMBL330621</td>\n",
       "      <td>=</td>\n",
       "      <td>nM</td>\n",
       "      <td>19.0</td>\n",
       "      <td>CHEMBL279</td>\n",
       "      <td>Homo sapiens</td>\n",
       "      <td>IC50</td>\n",
       "    </tr>\n",
       "  </tbody>\n",
       "</table>\n",
       "</div>"
      ],
      "text/plain": [
       "   activity_id assay_chembl_id  \\\n",
       "0        32262    CHEMBL816964   \n",
       "1        32335    CHEMBL817617   \n",
       "2        33033    CHEMBL812621   \n",
       "3        33408    CHEMBL816964   \n",
       "4        34276    CHEMBL812621   \n",
       "\n",
       "                                   assay_description assay_type  \\\n",
       "0  Inhibition of tyrosine phosphorylation in cell...          B   \n",
       "1  Inhibition of Vascular endothelial growth fact...          B   \n",
       "2  Inhibitory activity towards vascular endotheli...          B   \n",
       "3  Inhibition of tyrosine phosphorylation in cell...          B   \n",
       "4  Inhibitory activity towards vascular endotheli...          B   \n",
       "\n",
       "  molecule_chembl_id relation standard_units standard_value target_chembl_id  \\\n",
       "0        CHEMBL68920        =             nM        16500.0        CHEMBL279   \n",
       "1        CHEMBL69638        =             nM         7100.0        CHEMBL279   \n",
       "2       CHEMBL419526        =             nM         1880.0        CHEMBL279   \n",
       "3       CHEMBL443268        =             nM        10100.0        CHEMBL279   \n",
       "4       CHEMBL330621        =             nM           19.0        CHEMBL279   \n",
       "\n",
       "  target_organism  type  \n",
       "0    Homo sapiens  IC50  \n",
       "1    Homo sapiens  IC50  \n",
       "2    Homo sapiens  IC50  \n",
       "3    Homo sapiens  IC50  \n",
       "4    Homo sapiens  IC50  "
      ]
     },
     "execution_count": 22,
     "metadata": {},
     "output_type": "execute_result"
    }
   ],
   "source": [
    "bioactivities_df.drop([\"units\", \"value\"], axis=1, inplace=True)\n",
    "bioactivities_df.head()"
   ]
  },
  {
   "cell_type": "code",
   "execution_count": 23,
   "id": "ead6e470-d7c8-4115-8d14-83491158109b",
   "metadata": {},
   "outputs": [],
   "source": [
    "# 保存生物活性数据只有nM的数据\n",
    "bioactivities_df.to_csv(DATA / \"bioactivities_only_nM.csv\", index=False)"
   ]
  },
  {
   "cell_type": "markdown",
   "id": "77fd2df5-5b70-4e65-bf5b-01f6cbd282a1",
   "metadata": {},
   "source": [
    "## 预处理和过滤生物活性数据\n",
    "- 将standard_value的数据类型从对象转换为浮点数\n",
    "- 删除缺失值的条目\n",
    "- 只保留标准单位 == nM 的条目\n",
    "- 删除重复的分子\n",
    "- 重置数据帧索引\n",
    "- 重新命名列"
   ]
  },
  {
   "cell_type": "code",
   "execution_count": null,
   "id": "7107b167-9d5d-44e5-879a-192df17fa0ab",
   "metadata": {},
   "outputs": [],
   "source": []
  }
 ],
 "metadata": {
  "kernelspec": {
   "display_name": "Python 3 (ipykernel)",
   "language": "python",
   "name": "python3"
  },
  "language_info": {
   "codemirror_mode": {
    "name": "ipython",
    "version": 3
   },
   "file_extension": ".py",
   "mimetype": "text/x-python",
   "name": "python",
   "nbconvert_exporter": "python",
   "pygments_lexer": "ipython3",
   "version": "3.9.15"
  }
 },
 "nbformat": 4,
 "nbformat_minor": 5
}

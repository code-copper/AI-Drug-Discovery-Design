{
 "cells": [
  {
   "cell_type": "markdown",
   "source": [
    "# CheEMBL化合物数据采集 \n",
    "## 网址\n",
    "https://www.ebi.ac.uk/chembl/\n",
    "## 简介\n",
    "ChEMBL是由欧洲核生物研究组织（European Bioinformatics Institute, EBI）开发的化合物数据库，其包含了超过100万条化合物的结构、活性、活性指标、注释等信息。ChEMBL的目标是成为一个开放、公开、全面的化合物数据库，为全人类提供有效的化学信息。ChEMBL的开发始于2000年，目前已成为欧洲核生物研究组织（EBI）的重要组成部分。\n",
    "\n",
    "ChEMBL的化合物数据采集主要包括以下几个方面：\n",
    "1. 化合物结构采集：ChEMBL提供的化合物结构数据包括分子式、二维结构图、三维结构图、分子量等信息。\n",
    "2. 化合物活性数据采集：ChEMBL提供的化合物活性数据包括分子活性数据、化学反应数据、化学反应物质数据等。\n",
    "3. 化合物注释数据采集：ChEMBL提供的化合物注释数据包括化学家注释、结构注释、活性注释等。\n",
    "4. 化合物相互作用数据采集：ChEMBL提供的化合物相互作用数据包括化合物相互作用数据、化合物相互作用网络数据等。\n",
    "5. 化合物药物数据采集：ChEMBL提供的化合物药物数据包括药物结构、药物活性数据、药物相互作用数据等。\n",
    "\n",
    "ChEMBL化合物数据采集的主要流程如下：\n",
    "1. 注册ChEMBL账号：首先需要注册ChEMBL账号，注册地址为https://www.ebi.ac.uk/chembl/user_signup。\n",
    "2. 选择化合物数据类型：选择需要采集的化合物数据类型，如化合物结构数据、化合物活性数据、化合物注释数据等。\n",
    "3. 选择采集目标：选择需要采集的化合物数据目标，如特定分子、特定类型化合物、特定药物等。\n",
    "4. 选择采集方式：选择采集方式，如API、Web界面、Excel文件等。\n",
    "5. 采集数据：根据选择的采集方式，采集化合物数据。\n",
    "\n",
    "ChEMBL化合物数据采集的优点有：\n",
    "1. 全面性：ChEMBL提供的化合物数据覆盖了化学、生物、药物领域，涵盖了各个领域的最新研究成果。\n",
    "2. 准确性：ChEMBL的化合物数据采集是基于结构、活性、注释等多方面信息，具有较高的准确性。\n",
    "3. 开放性：ChEMBL的化合物数据采集是开放的，任何人都可以免费使用。\n",
    "\n",
    "## 目标\n",
    "本次项目的目标是利用ChEMBL数据库，采集化合物结构、活性、注释数据，并进行数据分析。\n",
    "了解 ChEMBL 数据库以及如何从 ChEMBL 中提取数据，即感兴趣目标的（化合物、活性数据）对。这些数据集可用于许多化学信息学任务，例如相似性搜索、聚类或机器学习。\n",
    "\n",
    "## 理论内容\n",
    "1. 化学信息学基础\n",
    "2. ChEMBL 数据库\n",
    "    ChEMBL 网络服务\n",
    "    ChEMBL 网络资源客户端\n",
    "3. 化合物结构数据\n",
    "4. 化合物活性数据\n",
    "    复合活性测量\n",
    "     IC50测量\n",
    "     pIC50值\n",
    "5. 化合物注释数据\n",
    "6. 化合物相互作用数据\n",
    "7. 化合物药物数据\n",
    "8. 数据分析方法\n",
    "\n",
    "\n",
    "\n",
    "\n",
    "\n",
    "## 实践内容\n",
    "1. 注册 ChEMBL 账号\n",
    "2. 选择化合物数据类型\n",
    "3. 选择采集目标\n",
    "4. 选择采集方式\n",
    "5. 采集数据\n",
    "6. 数据分析"
   ],
   "metadata": {
    "collapsed": false
   },
   "id": "a45326bd8b8e9cb7"
  },
  {
   "cell_type": "code",
   "execution_count": null,
   "id": "initial_id",
   "metadata": {
    "collapsed": true
   },
   "outputs": [],
   "source": []
  }
 ],
 "metadata": {
  "kernelspec": {
   "display_name": "Python 3",
   "language": "python",
   "name": "python3"
  },
  "language_info": {
   "codemirror_mode": {
    "name": "ipython",
    "version": 2
   },
   "file_extension": ".py",
   "mimetype": "text/x-python",
   "name": "python",
   "nbconvert_exporter": "python",
   "pygments_lexer": "ipython2",
   "version": "2.7.6"
  }
 },
 "nbformat": 4,
 "nbformat_minor": 5
}

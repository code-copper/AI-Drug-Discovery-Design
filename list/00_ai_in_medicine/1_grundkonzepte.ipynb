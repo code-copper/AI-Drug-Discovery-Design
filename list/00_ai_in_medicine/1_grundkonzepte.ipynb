{
 "cells": [
  {
   "cell_type": "markdown",
   "metadata": {},
   "source": [
    "# 人工智能在医学中的应用：基本概念\n",
    "\n",
    "## Python 编程：语言入门\n",
    "\n",
    "* **讲师**: itwangyang (itwangyang@gmail.com). \n",
    "* **目标读者**: Medical students \n",
    "* **课程日期**: September 2024 11\n"
   ]
  },
  {
   "cell_type": "markdown",
   "metadata": {},
   "source": [
    "# # 1 .本次课程的目的\n",
    "本note将根据课程期间将要使用的数据集，用实际的例子教给你理解和编写基本Python代码所必需的基本概念!"
   ]
  },
  {
   "cell_type": "markdown",
   "metadata": {},
   "source": [
    "## 2.学习目标\n",
    "\n",
    "一般来说，学习目标应该是理解教材背后的基本概念(自己去查阅相关的文献，比如说pubmed或者wikipedia)，因为其他的知识点都是依赖于这些概念。如果您不知道每个问题的答案，请不要担心。尽可能多地理解，并经常提问以解决问题（在群里面提问以及github提问）。\n",
    "\n",
    "### 理论\n",
    "- Python 和 Jupyter 笔记本\n",
    "- 变量\n",
    "- 流程控制\n",
    "- 功能\n",
    "- 模块\n",
    "- 导入\n",
    "#### 实用\n",
    "- 如何使用 Jupyter notebooks\n",
    "- 数据结构\n",
    "    - 分配变量\n",
    "    - 对变量进行操作\n",
    "    - 索引和切分列表\n",
    "    - 创建和更改字典\n",
    "- 流程控制\n",
    "    - 判断：if-else \"条件\n",
    "    - 循环：for \"循环\n",
    "- Reusing code\n",
    "    - 封装\n",
    "    - 继承\n",
    "    - 定义和调用函数\n",
    "    - 导入模块"
   ]
  },
  {
   "cell_type": "markdown",
   "metadata": {},
   "source": [
    "## 3. Python文档以及数据来源\n",
    "\n",
    "Python 的官方文档：\n",
    "- https://docs.python.org/3/\n",
    "- https://docs.python.org/3/tutorial/modules.html\n",
    "\n",
    "数据来源：\n",
    "- [RKI 数据集](https://npgeo-corona-npgeo-de.hub.arcgis.com/datasets/dd4580c810204019a7b8eb3e0b329dd6_0/data?orderBy=Bundesland&where=Bundesland%20%3D%20%27Berlin%27)\n",
    "- Berlin.de 数据集](https://www.berlin.de/lageso/gesundheit/infektionsepidemiologie-infektionsschutz/corona/tabelle-bezirke/)\n",
    "- PIMA 印第安人糖尿病数据集](https://www.kaggle.com/uciml/pima-indians-diabetes-database)\n"
   ]
  },
  {
   "cell_type": "markdown",
   "metadata": {},
   "source": [
    "## 4.内容\n",
    "这是一本边做边学的notebooks，理论与实践交替进行。首先，对特定主题进行简短介绍，并展示带有代码的示例。然后，要求您执行与理论中的示例类似的任务。\n",
    "\n",
    "### 开始之前！\n",
    "熟悉你将要处理的数据是每个数据科学管道的第一步。在前三节课中，我们将处理德国登记的电晕病例数。RKI.de 维护着德国所有 CoViD-19 案例的记录。Berlin.de 也提供了一个按社区划分的电晕案例数据集。我们将使用这两个数据集来说明 Python 的不同方面，同时与当前事件保持联系。其余课程将使用皮马印第安人糖尿病数据库。"
   ]
  },
  {
   "cell_type": "markdown",
   "metadata": {},
   "source": [
    "#### 4.1 Python 和 Jupyter 笔记本\n",
    "\n",
    "#### 什么是 Python？\n",
    "Python 是一种广泛使用的通用高级编程语言。\n",
    "所谓 \"高级\"，是指该语言抽象了大部分技术细节，并为您管理这些细节（如内存分配）。\n",
    "在本课程中，我们将使用 Python 3.9.1。\n",
    "\n",
    "#### 这是什么interface(接口)？\n",
    "这个基于网络的界面是所谓的**Jupyter笔记本**，是一个网络应用程序，允许您创建和共享包含可执行代码、方程式、可视化和解释性文本的文档。\n",
    "它允许您定义不同格式的所谓 \"单元\"：\n",
    "- 富文本或 Markdown 单元（如本单元）\n",
    "- 代码单元格\n",
    "您可以按 <kbd>Shift</kbd>+<kbd>Enter</kbd> 或 <kbd>Ctrl</kbd>+<kbd>Enter</kbd> 单独运行*（执行）每个单元格。您定义的所有名称（变量、函数......）一经执行，即可用于***前面的单元格和后面的单元格。请注意执行单元格的顺序！***\n",
    "\n",
    "有些代码单元格还会产生输出（文本、图像等）。在这种情况下，输出将显示在代码单元格下方。\n"
   ]
  },
  {
   "cell_type": "code",
   "execution_count": 2,
   "metadata": {
    "ExecuteTime": {
     "end_time": "2024-09-11T11:52:24.361482Z",
     "start_time": "2024-09-11T11:52:24.343121Z"
    }
   },
   "outputs": [
    {
     "name": "stdout",
     "output_type": "stream",
     "text": [
      "This is a cell with code1.\n"
     ]
    }
   ],
   "source": [
    "print(\"This is a cell with code.\")\n",
    "# 这是一行注释。\n",
    "# 代码单元格中以 \"#\"符号开头的行是\n",
    "# 在运行代码时被忽略\n",
    "# print('这句话不会出现在单元格下方的输出中。')"
   ]
  },
  {
   "cell_type": "markdown",
   "metadata": {},
   "source": [
    "#### 4.2 变量和操作\n",
    "根据内容的不同，对象有几种***类型。\n",
    "在下面的单元格中，您将学习到以下内容：\n",
    "- 标量（单元素）对象：\n",
    "    - 整数 (`int`)\n",
    "    - 布尔 (`bool`)\n",
    "    - 浮点数 (`float`)\n",
    "    - 字符串 (`str`)\n",
    "- 集合对象：\n",
    "    - 列表 (`list`)\n",
    "    - 字典 (`dict`)\n",
    "#### 赋值\n",
    "无论哪种类型，都可以使用以下语法进行赋值：\n",
    "```python\n",
    "\n",
    "name = value\n",
    "\n",
    "```\n",
    "你可以把_names_看作是挂在_value_上的标签。与实际对象一样，您可以为同一个值附加多个名称：\n",
    "```python\n",
    "color = \"pink\"\n",
    "# 为同一对象添加标签\n",
    "color = 颜色\n",
    "# 也可以这样做\n",
    "color = color = \"pink\"\n",
    "```\n",
    "\n",
    "有两点需要注意\n",
    "1.值的 _type_ 会从值的 _contents_ 中隐含推断出来。\n",
    "2.不能在名称中使用空格。Python 样式指南推荐使用 \"lowercase_words_separated_by_underscores\"。"
   ]
  },
  {
   "cell_type": "markdown",
   "metadata": {},
   "source": [
    "#### 标量对象\n",
    "##### 整数\n",
    "整数（简称 `int`）是没有小数位的数字。在下面的示例中，我们将看到一个名为 `numeric_variable` 的变量的定义。赋值后，名称将被重新赋值两次。每次操作后，新值都会通过函数 `print()` 显示出来。(...)`内的所有内容都将作为输出显示。\n",
    "```python\n",
    "# 将名称 'numeric_variable' 赋值为 '3'。\n",
    "numeric_variable = 3\n",
    "# 打印变量会在单元格下方显示其内容\n",
    "\n",
    "print(numeric_variable)\n",
    "# 为变量 namend 'var1' 赋值，从而覆盖之前的定义：\n",
    "\n",
    "numeric_variable = 4\n",
    "print(numeric_variable)\n",
    "# 为变量 namend 'var1' 赋新值，从而使用旧值设置新值。\n",
    "numeric_variable = numeric_variable + 1\n",
    "print(numeric_variable)\n",
    "```\n",
    "\n",
    "输出结果将是\n",
    "```python\n",
    "3\n",
    "4\n",
    "5\n",
    "```\n",
    "请注意，Python 并不关心实际的 _name_。您可以使用任何单词 (例如 `ugly_table = 4`)，但通常建议使用**有意义的**名称，这样我们就能知道名称所指的是什么。"
   ]
  },
  {
   "cell_type": "markdown",
   "metadata": {},
   "source": [
    "##### 布尔型\n",
    "布尔变量只能有两个值：真 \"和 \"假\"。它们可以被视为 `int` 的一个很小的子集：`True` 等同于 `1`，`False` 等同于 `0`。赋值的工作原理类似，但必须使用 _Capitalized_ 拼写！\n",
    "\n",
    "```python\n",
    "this_is_a_boolean = True\n",
    "```"
   ]
  },
  {
   "cell_type": "code",
   "execution_count": null,
   "metadata": {},
   "outputs": [],
   "source": [
    "this_is_a_boolean = False\n",
    "print(this_is_a_boolean)"
   ]
  },
  {
   "cell_type": "markdown",
   "metadata": {},
   "source": [
    "##### Strings\n",
    "`str` 类型可以存储 _text_，即表示单词、句子或符号。您需要使用`\"\"`引号来定义它们！\n",
    "```python\n",
    "# 给名为 'my_string' 的变量赋值 \"This is a string\"。\n",
    "my_string = \"这是一个字符串\"\n",
    "```\n",
    "请注意，`str` 可以包含数字的文本表示。它们的结果类型将取决于是否存在引号！\n",
    "```python\n",
    "also_a_string = \"1\" # 由于有\"\"，我是一个字符串，而不是一个数字！\n",
    "i_am_an_int = 1 # 由于缺少\"\"，我是一个 int\n",
    "```"
   ]
  },
  {
   "cell_type": "markdown",
   "metadata": {},
   "source": [
    "##### Float\n",
    "浮点型 \"变量是具有浮点十进制的数字。无论何时写入包含 `.` 的数字，变量的类型都会被推断为 `float`。\n",
    "```python\n",
    "one_and_a_half = 1.5 # 典型的浮点数\n",
    "# 下面也是一个浮点数。\n",
    "# 虽然这个数字在数学上没有浮点小数，但在书写时却用了\".\n",
    "one_dot_zero = 1.0\n",
    "also_one_dot_zero = 1.# 这个也是！\n",
    "```"
   ]
  },
  {
   "cell_type": "code",
   "execution_count": null,
   "metadata": {},
   "outputs": [],
   "source": [
    "my_string = \"This is a string\"\n",
    "# 您的代码行"
   ]
  },
  {
   "cell_type": "markdown",
   "metadata": {},
   "source": [
    "#### Exercise time!\n",
    "\n",
    "> 让我们访问 [RKI.de 数据集网站](https://npgeo-corona-npgeo-de.hub.arcgis.com/datasets/dd4580c810204019a7b8eb3e0b329dd6_0/data?orderBy=Bundesland&where=Bundesland%20%3D%20%27Berlin%27)，并尝试识别每一行中包含的不同_类型。"
   ]
  },
  {
   "attachments": {},
   "cell_type": "markdown",
   "metadata": {},
   "source": [
    "#### Collection objects\n",
    "##### lists\n",
    "Python 有一种数据类型叫做 `list`，在这种数据类型中，其他变量（无论其类型如何）可以按位置存储。换句话说，`list` 是元素的排序集合。\n",
    "定义 list 的语法使用方括号 `[]`，其周围的值用逗号 `,`分隔：\n",
    "因此，代码 `my_list = [5, 10]` 将在第一个位置存储 `5`，在第二个位置存储 `10`。\n",
    "\n",
    "  \n",
    "> *TASK:*<br>\n",
    "> *Try to:*\n",
    "> - *define a list called `animals`*\n",
    "> - *at the first* **position**, *store the string `\"horse\"`.*\n",
    "> - *store the string `\"spider\"` TWICE at* **position** *2 and 3.*\n",
    " "
   ]
  },
  {
   "cell_type": "code",
   "execution_count": null,
   "metadata": {},
   "outputs": [],
   "source": [
    "# TASK contents here\n",
    "\n",
    "\n"
   ]
  },
  {
   "cell_type": "code",
   "execution_count": null,
   "metadata": {},
   "outputs": [],
   "source": [
    "# This is another list\n",
    "neighborhoods = [\"mitte\", \"kreuzberg\", \"kreuzberg\"]\n",
    "print(neighborhoods)"
   ]
  },
  {
   "cell_type": "markdown",
   "metadata": {},
   "source": [
    "定义后，您可以通过不同方式访问所包含的元素。最常见的方法是使用元素的 **index** 。这是位置编号，但计数从 \"0 \"开始。\n",
    "```python\n",
    "# print the first element of the list\n",
    "print(neighborhoods[0])\n",
    "```\n",
    "\n",
    "Note that the `index` itself could be a variable of the type `int`!\n",
    "\n",
    "```python\n",
    "index = 0\n",
    "print(neighborhoods[index])\n",
    "```\n",
    "\n",
    "\n",
    "> *TASK:*\n",
    "> *Now print out your favorite kiez in the list in two ways:*\n",
    "> - *by using an integer number corresponding to the `index` of your favorite kiez.*\n",
    "> - *by using a variable called `index`.*"
   ]
  },
  {
   "cell_type": "code",
   "execution_count": null,
   "metadata": {},
   "outputs": [],
   "source": [
    "neighborhoods = [\"mitte\", \"kreuzberg\", \"neukölln\"]\n",
    "print(neighborhoods[0])\n",
    "\n",
    "index = 0\n",
    "print(neighborhoods[index])\n",
    "\n",
    "print(neighborhoods[3])"
   ]
  },
  {
   "cell_type": "markdown",
   "metadata": {},
   "source": [
    "***\n",
    "\n",
    "Oh! Was that an error? \n",
    "\n",
    "<font color=red>Setting or accessing a value of an index of a list which is not defined results in an error!</font>\n",
    "\n",
    "```python\n",
    "list1[3]\n",
    "---------------------------------------------------------------------------\n",
    "IndexError                                Traceback (most recent call last)\n",
    "<ipython-input-9-831b15cbf272> in <module>()\n",
    "----> 1 list1[3]\n",
    "\n",
    "IndexError: list index out of range\n",
    "\n",
    "```"
   ]
  },
  {
   "cell_type": "markdown",
   "metadata": {},
   "source": [
    "###### Slicing (range-indexing) a list\n",
    "\n",
    "下面是一个名为 `more_neighborhoods` 的列表定义。通过给出一个**范围**的索引，你可以访问列表的一个连续子集。范围的设置方法如下：\n",
    "\n",
    "```python\n",
    "more_neighborhoods = [\"mitte\", \"kreuzberg\", \"neukölln\", \"spandau\"]\n",
    "more_neighborhoods[start:stop]\n",
    "```\n",
    "其中 `start` 和 `stop` 是数字（整数）。因此，`more_neighborhoods[1:3]` 的输出结果是`[\"kreuzberg\", \"neukölln\"]`。注意输出中不包括 `stop` 索引。\n",
    "\n",
    "> *TASK:*\n",
    ">\n",
    "> *print out all strings in the list `more_neighborhoods` ending in a consonant*"
   ]
  },
  {
   "cell_type": "code",
   "execution_count": null,
   "metadata": {},
   "outputs": [],
   "source": [
    "more_neighborhoods = [\"mitte\", \"kreuzberg\", \"neukölln\", \"spandau\"]\n",
    "print(more_neighborhoods[1:3])"
   ]
  },
  {
   "cell_type": "code",
   "execution_count": null,
   "metadata": {},
   "outputs": [],
   "source": [
    "# More examples\n",
    "print(more_neighborhoods[3:5])  # even if we are out of bounds, this will not raise an error\n",
    "print(more_neighborhoods[3])\n",
    "print(more_neighborhoods[-1])  # negative slicing can be used to count from the end; -1 == last one!"
   ]
  },
  {
   "cell_type": "markdown",
   "metadata": {},
   "source": [
    "Cool trick: Python considers `str` types to be a _sequence_ of characters, which is very similar to the structure of a `list`. In fact, we can apply the same synthax to get a **substring** of our string. Keep that in mind, it will become necessary later on.\n",
    "\n",
    "```python\n",
    "far_away = \"spandau\"\n",
    "print(far_away[1:4])\n",
    "# will print:    \n",
    "\"pan\"\n",
    "```"
   ]
  },
  {
   "attachments": {
    "def_dict.png": {
     "image/png": "[encoded data removed]"
    }
   },
   "cell_type": "markdown",
   "metadata": {},
   "source": [
    "##### Dictionaries\n",
    "\n",
    "我们已经学过，不同的对象可以分组在一个名为 \"list \"的顺序容器中。还有一种有用的容器叫字典（类型为`dict`）。\n",
    "\n",
    "使用 `dict` 对象时，你得到的不是变量的_sequence_，而是变量_key-value_对的_mapping_，就像现实生活中的字典一样！(词是键，值是该词的定义）。\n",
    "\n",
    "例如，它们可以用来为变量分配属性。比方说，同学和他们的年龄：\n",
    "\n",
    "\n",
    "![def_dict.png](https://github.com/volkamerlab/ai_in_medicine/raw/update-2021.02/images/def_dict.png)\n",
    "\n",
    "\n",
    "Or, neighborhoods and the [number of cases as of 07.02.2021](https://www.berlin.de/lageso/gesundheit/infektionsepidemiologie-infektionsschutz/corona/tabelle-bezirke/):\n",
    "\n",
    "```python\n",
    "cases_by_neighborhood = {\"mitte\": 15672, \"kreuzberg\": 100569, \"neukölln\": 14630, \"spandau\": 9243}\n",
    "```\n",
    "本例中的键分别是 `\"mitte\"、`\"kreuzberg\"、`\"neukölln \"和`\"spandau\"。值分别为`15672`、`100569`、`14630`和`9243`。\n",
    "\n",
    "可以通过使用\"[]\"括号（与列表相同！）引用特定的**键**来访问值：\n",
    "```python\n",
    "cases_by_neighborhood[\"mitte\"]\n",
    "\n",
    "    1188\n",
    "```\n",
    "\n",
    "通过为字典指定**key**-**value**对，可以轻松扩展`dict`类型的变量。如下所示：\n",
    "\n",
    "```python\n",
    "cases_by_neighborhood[\"lichtenberg\"] = 419\n",
    "```\n",
    "\n",
    "In the same way already existent  **key**-**value** pairs can be overwritten.\n",
    "\n",
    "> **TASK:**\n",
    "> *We made a typo in the dict definition above. Kreuzberg (or more specifically, Friedrichshain-Kreuzberg) has 10569 cases, not 100569! Correct the **key**-**value** pair and set its value to `10569` without redefining the entire `cases_by_neighborhood` dictionary. \n",
    "> Check your correction by printing the new dictionary value.*"
   ]
  },
  {
   "cell_type": "code",
   "execution_count": null,
   "metadata": {},
   "outputs": [],
   "source": [
    "cases_by_neighborhood = {\"mitte\": 15672, \"kreuzberg\": 100569, \"neukölln\": 14630, \"spandau\": 9243}\n",
    "# Your lines of code here\n",
    "\n",
    "print(cases_by_neighborhood)"
   ]
  },
  {
   "cell_type": "markdown",
   "metadata": {},
   "source": [
    "***\n",
    "\n",
    "#### Operations\n",
    "\n",
    "每个对象类型（`int`、`str`等）都定义了一些**操作**来完成基本任务。\n",
    "\n",
    "例如，一个 `int` 类型的变量定义了以下操作：\n",
    "\n",
    "- 加法 `+`\n",
    "\n",
    "- 子运算 `-`\n",
    "\n",
    "- 乘法 `*`\n",
    "\n",
    "- 除法 `/`\n",
    "\n",
    "可以进行除法运算，但会***改变_返回_变量的类型（从 `int` 变为 `float`）。\n",
    "\n",
    "```python\n",
    "# applying basic operations on the cases registerd in Mitte and Friedrichshain-Kreuzberg\n",
    "print(cases_by_neighborhood[\"mitte\"] + cases_by_neighborhood[\"kreuzberg\"])  \n",
    "   7854 # type int\n",
    "print(cases_by_neighborhood[\"mitte\"] - cases_by_neighborhood[\"kreuzberg\"])  \n",
    "   -5478 # type int\n",
    "print(cases_by_neighborhood[\"mitte\"] * cases_by_neighborhood[\"kreuzberg\"])  \n",
    "   7919208 # type int\n",
    "print(cases_by_neighborhood[\"mitte\"] / cases_by_neighborhood[\"kreuzberg\"])  \n",
    "   0.1782178217821782 # type float\n",
    "\n",
    "\n",
    "```\n",
    "\n",
    "> *TASK:* <br>\n",
    "*Now try to use the addition-operation for the variable named `my_string` already defined in the cell below. <br>\n",
    "Save the addition in a variable called `res1` and print the result.*\n"
   ]
  },
  {
   "cell_type": "code",
   "execution_count": null,
   "metadata": {},
   "outputs": [],
   "source": [
    "my_string = \"grundkonzepte\"\n",
    "# ...\n",
    "# res1 = ..."
   ]
  },
  {
   "cell_type": "markdown",
   "metadata": {},
   "source": [
    "根据对象的类型，这些操作是**上下文**定义的。\n",
    "\n",
    "请注意，将两种类型的变量与操作混合使用会导致错误！例如，以下操作是禁止的：\n",
    "\n",
    "```python\n",
    "var1 = 5\n",
    "res1 = \"test\"\n",
    "# this should produce an error, since the operator '+' can not combine 'int' and 'str' variables! \n",
    "var1 + res1\n",
    "\n",
    "---------------------------------------------------------------------------\n",
    "TypeError                                 Traceback (most recent call last)\n",
    "<ipython-input-6-05639e44053b> in <module>()\n",
    "      1 # this should produce an error, since the operant '+' can not combine 'int' and 'str' variables!\n",
    "----> 2 var1 + res1\n",
    "\n",
    "TypeError: unsupported operand type(s) for +: 'int' and 'str'\n",
    "```"
   ]
  },
  {
   "cell_type": "markdown",
   "metadata": {},
   "source": [
    "除了数学运算，您还可以应用逻辑运算，如**比较**。\n",
    "\n",
    "使用`===`操作符可以执行**等式运算**（比较运算）。结果总是一个`bool`类型，其值为`true`或`false`，这取决于两个变量的内容是否相等。除了相等，我们还可以使用 `！=` 操作来检查不相等。\n",
    "\n",
    "把它想象成你向计算机提出的一个问题。\"var1 的内容与 var2 的内容***相等***吗？\n",
    "\n",
    "- 相等 `==`\n",
    "- 不等式 `!=`\n",
    "\n",
    "```python\n",
    "print(var1 == var1)  # type bool\n",
    "    True\n",
    "    \n",
    "print(var1 != var1)  # type bool\n",
    "    False\n",
    "```\n",
    "\n",
    "Note how comparisons _always_ produce a `bool` type!"
   ]
  },
  {
   "cell_type": "code",
   "execution_count": null,
   "metadata": {},
   "outputs": [],
   "source": [
    "x = 7\n",
    "y = 7\n",
    "print(\"Is x equal to y? The answer is...\", x == y)\n",
    "print(\"Is x not equal to y? The answer is...\", x != y)"
   ]
  },
  {
   "cell_type": "markdown",
   "metadata": {},
   "source": [
    "除了相等（\"===\"），还有其他返回 \"bool \"类型值的比较操作。可以把它看作是向计算机提出的其他问题，而不仅仅是要求它相等。这些 \"问题 \"可以在 `while` 循环中使用：\n",
    "- `<` strictly less than\n",
    "- `>` strictly greater than\n",
    "- `<=` less than or equal\n",
    "- `>=` greater than or equal\n",
    "- `!=` not equal\n"
   ]
  },
  {
   "cell_type": "markdown",
   "metadata": {},
   "source": [
    "***\n",
    "⌚ Suggested break!\n",
    "***"
   ]
  },
  {
   "cell_type": "markdown",
   "metadata": {},
   "source": [
    "### 4.3 Flow control\n",
    "\n",
    "与其他编程语言一样，python 提供了流程控制的可能性： `if, else, for, while`.\n",
    "\n",
    "#### Decisions: if, elif, else\n",
    "\n",
    "条件允许您轻松定义自动决策。\n",
    "\n",
    "我们可以编写一段代码，每天检查附近的病例数，如果病例数超过某个阈值，就会发出警报。例如\n",
    "\n",
    "```python\n",
    "if cases_by_neighborhood[\"kreuzberg\"] > 10000:\n",
    "    print(\"The number of Friedrichshain-Kreuzberg is above ten thousand!!!!!\")\n",
    "    # here, more lines could follow\n",
    "else:\n",
    "    # If the `if` clause is not true, then this block gets executed instead.\")\n",
    "    print(\"Kreuzberg has not reached a 10000 cases yet.\")\n",
    "\n",
    "# These lines are not indented anymore.\n",
    "# They will be executed regardless of the value of variable 'status'. \n",
    "print(\"Number of cases in Kreuzberg:\", cases_by_neighborhood[\"kreuzberg\"])    \n",
    "```\n",
    "\n",
    "注意语法：\n",
    "\n",
    "* 关键字 `if` 表示 `if` 语句的开始。\n",
    "\n",
    "* 后面是一个**条件表达式**（这里是`cases_by_neighborhood[\"kreuzberg\"]>1000`），它将返回（显式或隐式）一个`bool`类型。因此，要么是 `True` 要么是 `False`。\n",
    "\n",
    "* `:`结束`if`语句。\n",
    "\n",
    "* 接下来是一个**缩进**块。所有缩进程度相同（或更深）的连续行都属于同一个块，只有在条件满足时才会被执行。\n",
    "\n",
    "* 在 `if` 块之后，定义了一个 `else` 块。这是可选项！\n",
    "\n",
    "现在进一步想一想，我们必须根据 3 个或更多不同的条件来决定是否运行某个代码。可以用 `elif` 代替排他性条件。\n",
    "\n",
    "```python\n",
    "if cases_by_neighborhood[\"kreuzberg\"] > 15000:\n",
    "    print(\"The number of Friedrichshain-Kreuzberg is above a 15000!!!!!\")\n",
    "    # here, more lines could follow\n",
    "elif cases_by_neighborhood[\"kreuzberg\"] > 7500:\n",
    "    print(\"The number of Friedrichshain-Kreuzberg is above a 7500!!!\")\n",
    "    # here, more lines could follow\n",
    "elif cases_by_neighborhood[\"kreuzberg\"] > 3750:\n",
    "    print(\"The number of Friedrichshain-Kreuzberg is above a 3750!!!\")\n",
    "    # here, more lines could follow\n",
    "else:\n",
    "    # If the `if` clause is not true, then this block gets executed instead.\")\n",
    "    print(\"Kreuzberg has not reached a 3750 cases yet.\")\n",
    "```\n",
    "***\n",
    "\n",
    "> **TASK**\n",
    ">\n",
    "> Copy the code above in a new cell. Before running it, think: What's the expected output of the cell below? Why?"
   ]
  },
  {
   "cell_type": "code",
   "execution_count": null,
   "metadata": {},
   "outputs": [],
   "source": [
    "# Copy the if-elif-elif-else code here\n",
    "\n"
   ]
  },
  {
   "cell_type": "markdown",
   "metadata": {},
   "source": [
    "#### Repetition: for-loop\n",
    "\n",
    "当我们想对不同的参数重复相同的操作时，我们不希望写 N 次相同的代码，对吗？无论如何，这就是计算机的用途。\n",
    "\n",
    "让我们来看看哪些邻域的情况超过了一万次。你可能很想这么做：\n",
    "\n",
    "```python\n",
    "if cases_by_neighborhood[\"kreuzberg\"] > 10000:\n",
    "    print(\"The number of cases in Friedrichshain-Kreuzberg is above ten thousand!!!!!\")\n",
    "if cases_by_neighborhood[\"mitte\"] > 10000:\n",
    "    print(\"The number of cases in Mitte is above ten thousand!!!!!\")\n",
    "if cases_by_neighborhood[\"neukölln\"] > 10000:\n",
    "    print(\"The number of cases in Neukölln is above ten thousand!!!!!\")\n",
    "if cases_by_neighborhood[\"spandau\"] > 10000:\n",
    "    print(\"The number of cases in Spandau is above ten thousand!!!!!\")\n",
    "\n",
    "```"
   ]
  },
  {
   "cell_type": "code",
   "execution_count": null,
   "metadata": {},
   "outputs": [],
   "source": []
  },
  {
   "cell_type": "markdown",
   "metadata": {},
   "source": [
    "这样做真的很无聊，因为我们必须复制和粘贴 N 次相同的代码，然后替换字典的 _key_ 和邻居的全名。这还会带来大量重复。如果将来我们想把阈值从 \"1000 \"改为 \"2000 \"呢？这将需要四次替换。试想一下，柏林的所有社区或德国的所有城市都要这样做！没办法！\n",
    "\n",
    "这就是循环的目的！我们来分析一下每个街区。它们真的很相似，因为，它们都是复制品：\n",
    "\n",
    "```python\n",
    "if cases_by_neighborhood[THIS_IS_THE_DICT_KEY] > 1000:\n",
    "    print(\"The number of cases in THIS_IS_THE_FULL_NAME is above a thousand!!!!!\")\n",
    "```\n",
    "\n",
    "We need to repeat _that_ action, using different dictionary keys.\n",
    "\n",
    "```python\n",
    "neighborhoods = [\"mitte\", \"kreuzberg\", \"neukölln\", \"spandau\"]\n",
    "\n",
    "for neighborhood_key in neighborhoods:\n",
    "    if cases_by_neighborhood[neighborhood_key] > 1000:\n",
    "        print(\"The number of cases in\", neighborhood_key, \"is above a thousand!!!!!\")    \n",
    "```"
   ]
  },
  {
   "cell_type": "code",
   "execution_count": null,
   "metadata": {},
   "outputs": [],
   "source": []
  },
  {
   "cell_type": "markdown",
   "metadata": {},
   "source": [
    "What's happening here?\n",
    "\n",
    "1. `For NAME in COLLECTION:`。与 `if` 一样，需要用 `:` 结束该行。\n",
    "2.将把 `NAME` 分配给 `COLLECTION` 中的第一个元素。\n",
    "3.缩进代码块将以 `NAME = FIRST VALUE` 的方式执行。\n",
    "4.`NAME` 将取第二个元素。\n",
    "5.缩进代码块将以 `NAME = SECOND VALUE` 的方式执行。\n",
    "6. ... 以此类推。当列表中没有元素需要赋值时，循环结束。\n",
    "\n",
    "> **TASK**\n",
    ">\n",
    "> How many entries does `neighborhoods` contain? You can use `len(neighborhoods)` to guess the answer, but you can also compute it with a `for` loop, a reassignable `int` variable and the `+` operator."
   ]
  },
  {
   "cell_type": "code",
   "execution_count": null,
   "metadata": {},
   "outputs": [],
   "source": [
    "#  Try your best here\n",
    "count = 0\n",
    "for neighborhood in neighborhoods:\n",
    "    ..."
   ]
  },
  {
   "cell_type": "markdown",
   "metadata": {},
   "source": [
    "注意: 在 Python 中还有更多重复操作的方法，如使用 `while` 循环或递归，但到目前为止，`for` 是最常用的！"
   ]
  },
  {
   "cell_type": "code",
   "execution_count": null,
   "metadata": {},
   "outputs": [],
   "source": []
  },
  {
   "cell_type": "markdown",
   "metadata": {},
   "source": [
    "### 4.4 Introduction to functions\n",
    "\n",
    "正如你所看到的，重复单个操作是非常有用的，这样你就不会一次又一次地编写相同的行文而感到厌烦。事实上，避免重复任务是编程的主要核心理念之一！我们都很懒，希望做的事情越少越好。这就需要设计一些机制，以灵活的方式重复使用相同的代码。\n",
    "\n",
    "这就是函数的作用：**可重复使用的代码片段，可以参数化**。这意味着它们接受变量作为参数！它们也可以选择_返回_结果。在这个意义上，它们与数学函数非常相似！\n",
    "\n",
    "```python\n",
    "# Define a function\n",
    "def square(number):\n",
    "    output = number ** 2\n",
    "    return output\n",
    "\n",
    "# Use the function\n",
    "result = square(2)\n",
    "```\n",
    "\n",
    "What's the result?"
   ]
  },
  {
   "cell_type": "code",
   "execution_count": null,
   "metadata": {},
   "outputs": [],
   "source": []
  },
  {
   "cell_type": "markdown",
   "metadata": {},
   "source": [
    "功能可以理解为任务。厨师可能会被要求执行一项任务，比如 \"切菜\"。该函数将包含如何动刀的指令，但不包含切什么的指令，因为该指令适用于不止一种蔬菜。例如，您把一根胡萝卜交给厨师（以 \"胡萝卜 \"为参数调用函数），然后得到切好的胡萝卜。\n",
    "\n",
    "请注意\n",
    "1.定义函数并不意味着使用或调用该函数。\n",
    "2.如果有返回值，您还需要收集它。否则，它将被产生并丢弃。想想你让厨师切胡萝卜。他切得很好，并把切好的胡萝卜递给你，但你没有接。\n",
    "因此，综上所述，要使用一个功能，首先必须了解它：\n",
    "1.该函数是否***存在***，要么是因为你编写了它，要么是因为你从另一个文件中导入了它（见下文）。\n",
    "2.函数需要哪些**参数**或**参数**。函数可以接受参数，也可以不接受参数。参数可以是必需的（位置参数）或可选的（关键字参数）。\n",
    "3.函数是否**返回**。如果函数没有返回任何东西，并不意味着它什么也没做。它可能有某种副作用（例如将文件写入磁盘）。\n",
    "\n",
    ">*TASK:*\n",
    "*You already know and even used one particular function. Do you know how it is named and what it does?*"
   ]
  },
  {
   "cell_type": "markdown",
   "metadata": {},
   "source": [
    "#### Methods and atributes\n",
    "\n",
    "函数可以独立存在（如 `len()` 或 `print()`），但也可以附加到变量上。当变量包含方法时，软件科学家称它们为 _objects_。令人惊讶的是，在 Python 中，_everything_ 都是对象！即使是最基本的数据类型，如 `int` 或 `str`，也定义了自己的函数。与对象相连的函数被称为 **方法**。除了方法，你还可以找到**属性**。属性就像 \"子变量\"，是变量中的变量。要访问这两种属性，需要使用\". \"符号。\n",
    "\n",
    "例如，\"float \"数据类型有一个名为 \"real \"的属性和一个名为 \"is_integer() \"的函数。\n",
    "\n",
    "```python\n",
    "\n",
    "x = 1.2  # a float value\n",
    "print(x.real)  # accessing attribute of variable \"x\" called \"real\". Notice: No () brackets!\n",
    "print(x.is_integer())  # calling function is_integer() of variable \"x\" with no argument.\n",
    "\n",
    "    1.2\n",
    "    True\n",
    "```\n",
    "\n",
    "**属性** `real`包含浮点数的实数部分（如果是复数，这一点就很重要）。\n",
    "\n",
    "***函数***`is_integer()` 不使用任何参数，如果 `x` 可以写成 `int` 类型，则返回值为 `True` 的 `bool` 类型。\n",
    "\n",
    "> TASK\n",
    "> \n",
    "> You can explore the list of attributes and methods in each object by typing `.` after their name. If you press <kbd>TAB</kbd> you will see an autocompletion list! Execute the cell below and explore these lists."
   ]
  },
  {
   "cell_type": "code",
   "execution_count": null,
   "metadata": {},
   "outputs": [],
   "source": [
    "number = 4\n",
    "string = \"Jaime\"\n",
    "dictionary = {\"python_version\": \"3.6\"}"
   ]
  },
  {
   "cell_type": "code",
   "execution_count": null,
   "metadata": {},
   "outputs": [],
   "source": [
    "# 将光标放在句号后面，然后按制表符！\n",
    "number.\n",
    "string.\n",
    "dictionary."
   ]
  },
  {
   "cell_type": "markdown",
   "metadata": {},
   "source": [
    "### 4.5 模块和导入\n",
    "\n",
    "通过 [`import`系统](https://docs.python.org/3/reference/import.html)，Python 允许您重用其他模块中定义的对象。模块是一个包含 Python 定义和语句的文件。由于文件扩展名为 `*.py`，您可以很容易地识别它们。\n",
    "\n",
    "> 更多信息请参阅 [Python 文档](https://docs.python.org/3/tutorial/modules.html)！\n",
    "\n",
    "Python 提供了大量可以立即使用的模块。由于在启动 Python 时直接加载所有定义是不可行的（时间太长，内存消耗太大），所以只有很小的子集在初始化时可用（如 `len()`、 `print()`、 `range()`）。其他函数必须_明确_调用或**导入**。这可以通过 `import` 关键字来实现。\n",
    "\n",
    "例如，要访问更多的标量函数（如平方根），需要导入定义了 `sqrt` 的 `math` 模块。正如你所看到的，可以通过 `.`访问 `math` 中定义的函数。\n",
    "\n",
    "```python\n",
    "import math\n",
    "help(math.sqrt)\n",
    "```"
   ]
  },
  {
   "cell_type": "code",
   "execution_count": null,
   "metadata": {},
   "outputs": [],
   "source": [
    "# Try it here!\n",
    "\n"
   ]
  },
  {
   "cell_type": "markdown",
   "metadata": {},
   "source": [
    "导入系统还可用于加载第三方开发的模块。最受欢迎的模块之一是**numpy**和**pandas**，你将在下面的日期中看到。导入语句如下\n",
    "\n",
    "```python\n",
    "import numpy\n",
    "import pandas\n",
    "```\n",
    "\n",
    "Definition\n",
    "\n",
    "```python\n",
    "# 调用 numpy 模块中的函数 \"mean\"，将列表\"[1,2,3,4]\"作为参数。\n",
    "numpy.mean([1,2,3,4])\n",
    "\n",
    "```\n",
    "\n",
    "由于模块名称有时较长（信息学家也很懒惰），我们可以使用关键字 `as` 来别名它们。\n",
    "\n",
    "```python\n",
    "import numpy as np\n",
    "import pandas as pd\n",
    "```\n",
    "\n",
    "每当我们需要来自 `numpy` 模块的函数/定义时，我们可以进一步将该模块称为 `np`。\n",
    "\n",
    "```python\n",
    "# calling the function \"mean\" from the numpy module, giving the list \"[1,2,3,4]\" as argument.\n",
    "np.mean([1,2,3,4])\n",
    "```\n",
    "\n",
    "***"
   ]
  },
  {
   "cell_type": "markdown",
   "metadata": {},
   "source": [
    "\n",
    "## 5. Discussion\n",
    "\n",
    "Python 是一种表现力很强的语言，近年来越来越受欢迎。用于数据科学，更具体地说，数据科学的软件包和模块生态系统非常庞大。学习基础知识最终会成为你职业生涯的主要财富之一，尤其是如果你决定走学术研究的道路！\n",
    "\n",
    "现在，所有这些概念可能非常分散，放在一起也没有意义。希望在接下来的几天里，你能看到更多面向应用的例子，从而更好地理解 Python 的潜力和威力。\n",
    "\n",
    "_Hello world, future Pythonista!_\n",
    "\n",
    "***"
   ]
  },
  {
   "cell_type": "markdown",
   "metadata": {},
   "source": [
    "## 6. Exercises\n",
    "\n",
    "6.1 执行以下代码时，会出现错误吗？\n",
    "\n",
    "```python\n",
    "x = 5\n",
    "y = \"5\"\n",
    "\n",
    "print(x + y)\n",
    "\n",
    "```"
   ]
  },
  {
   "cell_type": "markdown",
   "metadata": {},
   "source": []
  },
  {
   "cell_type": "markdown",
   "metadata": {},
   "source": [
    "6.2 为了得到正确的输出 \"10\"，我们需要修改什么？"
   ]
  },
  {
   "cell_type": "markdown",
   "metadata": {},
   "source": []
  },
  {
   "cell_type": "markdown",
   "metadata": {},
   "source": [
    "6.3 下面代码的预期输出是什么？\n",
    "```python\n",
    "x = \"\"\n",
    "for i in \"python_is_amazing!\":\n",
    "    if i == \"_\":\n",
    "        x += \" \"\n",
    "    else:\n",
    "        x += i\n",
    "print(x)\n",
    "```"
   ]
  },
  {
   "cell_type": "code",
   "execution_count": null,
   "metadata": {},
   "outputs": [],
   "source": []
  },
  {
   "cell_type": "markdown",
   "metadata": {},
   "source": [
    "## 7. Solutions\n",
    "\n",
    "在查看解答之前，请尝试自己解答这些练习！所有需要的信息都在 5.实践--如果你遇到困难，首先看看那里的资料。与同学交流。如果你有了解决方案，那就到这里来看看。\n",
    "\n",
    "\n",
    "<details><summary>Exercise 6.1</summary>\n",
    "\n",
    "整数和字符串不能相加或连接在一起，因此会导致错误。为了使用 `+`，您必须通过将其中一个转换为预期类型来决定您想要的行为。\n",
    "    \n",
    "</details>\n",
    "\n",
    "\n",
    "***\n",
    "\n",
    "\n",
    "<details><summary>Exercise 6.2</summary>\n",
    "   \n",
    "```python\n",
    "# Without changing the assignment, use `int(  )` to cast string to integer\n",
    "print(x + int(y))    \n",
    "```\n",
    "    \n",
    "</details>\n",
    "\n",
    "***\n",
    "\n",
    "<details><summary>Exercise 6.3</summary>\n",
    "\n",
    "The solution would be:\n",
    "    \n",
    "```python\n",
    "\"python is amazing!\"\n",
    "\n",
    "```\n",
    "\n",
    "为什么？因为我们正在逐个字母地遍历字符串内容，并一次一个字母地将它们添加到一个新的字符串 (`x`)。但是，在添加到 `x` 之前，我们首先要检查字母是否是 `_`，如果是，我们就用空格 ` ` 代替。实际上，这意味着我们要将下划线替换为空格。当然，还有更简单的方法来完成这种常见的操作！\n",
    "    \n",
    "```python\n",
    "x = \"python_is_amazing!\".replace(\"_\", \" \")\n",
    "```\n",
    "    \n",
    "</details>"
   ]
  },
  {
   "cell_type": "code",
   "execution_count": null,
   "metadata": {
    "collapsed": false,
    "jupyter": {
     "outputs_hidden": false
    }
   },
   "outputs": [],
   "source": []
  }
 ],
 "metadata": {
  "kernelspec": {
   "display_name": "Python 3 (ipykernel)",
   "language": "python",
   "name": "python3"
  },
  "language_info": {
   "codemirror_mode": {
    "name": "ipython",
    "version": 3
   },
   "file_extension": ".py",
   "mimetype": "text/x-python",
   "name": "python",
   "nbconvert_exporter": "python",
   "pygments_lexer": "ipython3",
   "version": "3.11.7"
  }
 },
 "nbformat": 4,
 "nbformat_minor": 4
}

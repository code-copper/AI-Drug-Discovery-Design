{
 "cells": [
  {
   "metadata": {},
   "cell_type": "markdown",
   "source": [
    "# 医学中的人工智能：数据科学-基础知识IV \n",
    "## 深度学习简介"
   ]
  },
  {
   "metadata": {},
   "cell_type": "markdown",
   "source": [
    "- 定义\n",
    " - 神经网络\n",
    " - 激活函数\n",
    "- 前向传播\n",
    "- 反向传播\n",
    "- 卷积神经网络\n",
    "## Python编程：使用 *Keras* 进行深度学习\n",
    "## 安装\n",
    "## 实战案例"
   ]
  },
  {
   "metadata": {},
   "cell_type": "markdown",
   "source": "## 深度学习简介"
  },
  {
   "metadata": {},
   "cell_type": "markdown",
   "source": [
    "- Keras\n",
    "- 数据集\n",
    "- 实战案例"
   ]
  },
  {
   "cell_type": "markdown",
   "metadata": {
    "id": "l5_jtm5BUh88"
   },
   "source": "## Python编程：使用 *Keras* 进行深度学习"
  },
  {
   "cell_type": "markdown",
   "metadata": {
    "id": "MulWXbThUh88"
   },
   "source": [
    "* **Instructor**: itwangyang (itwangyang@gmail.com) <br>\n",
    "* **Target audience**:  Medical students <br>\n",
    "* **Course date**:  September 28, 2024"
   ]
  },
  {
   "cell_type": "markdown",
   "metadata": {
    "id": "rhSxBhNcUh8-"
   },
   "source": "**首先，请确保您正在使用Python 3.8内核以上！**<br>"
  },
  {
   "cell_type": "code",
   "metadata": {
    "colab": {
     "base_uri": "https://localhost:8080/"
    },
    "id": "LeBKwxQtjPYA",
    "outputId": "094f63b1-5789-4d0e-ed98-e714f709180d",
    "ExecuteTime": {
     "end_time": "2024-09-28T09:41:18.124830Z",
     "start_time": "2024-09-28T09:41:17.997724Z"
    }
   },
   "source": [
    "!python --version"
   ],
   "outputs": [
    {
     "name": "stdout",
     "output_type": "stream",
     "text": [
      "Python 3.9.15\r\n"
     ]
    }
   ],
   "execution_count": 1
  },
  {
   "cell_type": "markdown",
   "metadata": {
    "id": "Ub-T-KMxjN84"
   },
   "source": [
    "## **TensorFlow Update:**<br>\n",
    "笔记本需要2.0.0版本。请通过执行以下单元格来查看。"
   ]
  },
  {
   "cell_type": "code",
   "metadata": {
    "colab": {
     "base_uri": "https://localhost:8080/",
     "height": 36
    },
    "id": "dIaqZZDtivmz",
    "outputId": "404cd42b-2707-46cf-9683-2f4ef9810a92",
    "ExecuteTime": {
     "end_time": "2024-09-28T09:42:22.498846Z",
     "start_time": "2024-09-28T09:42:17.395786Z"
    }
   },
   "source": [
    "import tensorflow as tf\n",
    "tf.__version__"
   ],
   "outputs": [
    {
     "data": {
      "text/plain": [
       "'2.6.0'"
      ]
     },
     "execution_count": 2,
     "metadata": {},
     "output_type": "execute_result"
    }
   ],
   "execution_count": 2
  },
  {
   "cell_type": "markdown",
   "metadata": {
    "id": "u_pJOsotUh9J"
   },
   "source": "## 1.本次目标"
  },
  {
   "cell_type": "markdown",
   "metadata": {
    "id": "O1nsdV1IUh9L"
   },
   "source": "本教程使用***Keras***在Python中介绍**深度学习**。它旨在**介绍*Keras*库 和<ins>而不是</ins>深入了解围绕深度学习的理论**。本次会议的目标是，您将能够在Python中实现自己的神经网络。"
  },
  {
   "cell_type": "markdown",
   "metadata": {
    "id": "Z5gY7MmcUh9M"
   },
   "source": "## 2.学习目标"
  },
  {
   "cell_type": "markdown",
   "metadata": {
    "id": "muMORQO_Uh9N"
   },
   "source": "### 理论"
  },
  {
   "cell_type": "markdown",
   "metadata": {
    "id": "DlJh1x8WUh9N"
   },
   "source": [
    "深度学习\n",
    "- 定义\n",
    "- 全连接神经网络\n",
    "- 激活函数\n",
    "- 向前传球\n",
    "- 后向传球\n",
    "- 卷积神经网络"
   ]
  },
  {
   "cell_type": "markdown",
   "metadata": {
    "id": "y4A0vJJXUh9P"
   },
   "source": "### 实战"
  },
  {
   "cell_type": "markdown",
   "metadata": {
    "id": "_R6reocbUh9Q"
   },
   "source": [
    "1.深度学习游乐场\n",
    "2.数据集\n",
    "3.克拉斯\n",
    "- 介绍\n",
    "- 工作流程\n",
    "    - 准备数据\n",
    "    - 构建模型\n",
    "    - 编译模型\n",
    "    - 适合模型\n",
    "    - 预测\n",
    "    - 评估模型\n",
    "    - 保存模型"
   ]
  },
  {
   "cell_type": "markdown",
   "metadata": {
    "id": "cosraY4LUh9Q"
   },
   "source": "## 3. 参考"
  },
  {
   "cell_type": "markdown",
   "metadata": {
    "id": "NeV_-HNfUh9Y"
   },
   "source": [
    "- Deep Learning<br>\n",
    "https://www.deeplearningbook.org/<br>\n",
    "https://cs231n.github.io/\n",
    "\n",
    "- Keras<br>\n",
    "https://keras.io/guides/<br>\n",
    "https://www.tensorflow.org/tutorials/keras/classification\n",
    "\n",
    "- Data<br>\n",
    "https://www.kaggle.com/uciml/pima-indians-diabetes-database"
   ]
  },
  {
   "cell_type": "markdown",
   "metadata": {
    "id": "FyXVV-5hUh9Y"
   },
   "source": [
    "## 4. Theory"
   ]
  },
  {
   "cell_type": "markdown",
   "metadata": {
    "id": "DzloYLXvUh9Z"
   },
   "source": [
    "See accompanying slide deck."
   ]
  },
  {
   "cell_type": "markdown",
   "metadata": {
    "id": "-IKKFtrEUh9Z"
   },
   "source": [
    "## 5. Practical"
   ]
  },
  {
   "cell_type": "markdown",
   "metadata": {
    "id": "LxDD36XgUh9Z"
   },
   "source": [
    "### 5.1 Playground excersises"
   ]
  },
  {
   "cell_type": "markdown",
   "metadata": {
    "id": "AtlCJ6UeUh9Z"
   },
   "source": "*Tensorflow* Playground是浏览器中神经网络的交互式可视化。在这个游乐场里，您可以选择神经网络的不同超参数，并直观地观察训练过程。这可以让你对神经网络的工作有一些直觉"
  },
  {
   "cell_type": "markdown",
   "metadata": {
    "id": "qIHWjpWYUh9b"
   },
   "source": [
    "https://playground.tensorflow.org"
   ]
  },
  {
   "cell_type": "markdown",
   "metadata": {
    "id": "-WP0QGVMUh9b"
   },
   "source": [
    "### Exercises"
   ]
  },
  {
   "cell_type": "markdown",
   "metadata": {
    "id": "FnNgJVqSUh9b"
   },
   "source": [
    "**1.** Play around and get some intution!"
   ]
  },
  {
   "cell_type": "markdown",
   "metadata": {
    "id": "LpjHqPCWUh9c"
   },
   "source": [
    "**2.** Let's try a different dataset. Investigate the effects of the learning rate on the training results. <br>"
   ]
  },
  {
   "cell_type": "code",
   "execution_count": null,
   "metadata": {
    "id": "4YNYpk80Uh9f"
   },
   "outputs": [],
   "source": []
  },
  {
   "cell_type": "markdown",
   "metadata": {
    "id": "4YIwIAzfUh9h"
   },
   "source": [
    "**3.** We now select the spiral dataset and add noise to the training data (noise=50). What do you observe using the following network architecture?<br>\n",
    "https://playground.tensorflow.org/#activation=sigmoid&batchSize=10&dataset=spiral&regDataset=reg-plane&learningRate=0.03&regularizationRate=0&noise=50&networkShape=2&seed=0.00906&showTestData=false&discretize=false&percTrainData=50&x=true&y=true&xTimesY=false&xSquared=true&ySquared=true&cosX=false&sinX=false&cosY=false&sinY=false&collectStats=false&problem=classification&initZero=false&hideText=false"
   ]
  },
  {
   "cell_type": "code",
   "execution_count": null,
   "metadata": {
    "id": "YR--lsyqUh9i"
   },
   "outputs": [],
   "source": []
  },
  {
   "cell_type": "markdown",
   "metadata": {
    "id": "Bwo7O4_gUh9k"
   },
   "source": [
    "### 5.2 Data set"
   ]
  },
  {
   "cell_type": "markdown",
   "metadata": {
    "id": "YIPH1UIRUh9l"
   },
   "source": [
    "我们在本教程中使用的数据是您在上一个教程中已经准备的糖尿病数据集。\n",
    "\n",
    "<ins>来源：</ins><br>\n",
    "\n",
    "*Smith, J.W., Everhart, J.E., Dickson, W.C., Knowler, W.C., & Johannes, R.S. (1988). Using the ADAP learning algorithm to forecast the onset of diabetes mellitus. In Proceedings of the Symposium on Computer Applications and Medical Care (pp. 261--265). IEEE Computer Society Press.*\n"
   ]
  },
  {
   "cell_type": "code",
   "metadata": {
    "id": "SbCC38ffUh9m",
    "ExecuteTime": {
     "end_time": "2024-09-28T10:11:18.522151Z",
     "start_time": "2024-09-28T10:11:18.514669Z"
    }
   },
   "source": [
    "# Import the Pandas and NumPy library\n",
    "import pandas as pd\n",
    "import numpy as np\n",
    "\n",
    "\n",
    "# Read the Diabetes data set \n",
    "diabetes = pd.read_csv('data/diabetes.csv')"
   ],
   "outputs": [],
   "execution_count": 58
  },
  {
   "cell_type": "code",
   "metadata": {
    "colab": {
     "base_uri": "https://localhost:8080/",
     "height": 206
    },
    "id": "pTGfru68Uh9m",
    "outputId": "2fe33c3e-4c77-4926-97c8-0ae212b826cf",
    "ExecuteTime": {
     "end_time": "2024-09-28T10:11:20.208453Z",
     "start_time": "2024-09-28T10:11:20.199828Z"
    }
   },
   "source": [
    "diabetes.head()"
   ],
   "outputs": [
    {
     "data": {
      "text/plain": [
       "   Pregnancies  Glucose  BloodPressure  SkinThickness  Insulin   BMI  \\\n",
       "0            6      148             72             35        0  33.6   \n",
       "1            1       85             66             29        0  26.6   \n",
       "2            8      183             64              0        0  23.3   \n",
       "3            1       89             66             23       94  28.1   \n",
       "4            0      137             40             35      168  43.1   \n",
       "\n",
       "   DiabetesPedigreeFunction  Age  Outcome  \n",
       "0                     0.627   50        1  \n",
       "1                     0.351   31        0  \n",
       "2                     0.672   32        1  \n",
       "3                     0.167   21        0  \n",
       "4                     2.288   33        1  "
      ],
      "text/html": [
       "<div>\n",
       "<style scoped>\n",
       "    .dataframe tbody tr th:only-of-type {\n",
       "        vertical-align: middle;\n",
       "    }\n",
       "\n",
       "    .dataframe tbody tr th {\n",
       "        vertical-align: top;\n",
       "    }\n",
       "\n",
       "    .dataframe thead th {\n",
       "        text-align: right;\n",
       "    }\n",
       "</style>\n",
       "<table border=\"1\" class=\"dataframe\">\n",
       "  <thead>\n",
       "    <tr style=\"text-align: right;\">\n",
       "      <th></th>\n",
       "      <th>Pregnancies</th>\n",
       "      <th>Glucose</th>\n",
       "      <th>BloodPressure</th>\n",
       "      <th>SkinThickness</th>\n",
       "      <th>Insulin</th>\n",
       "      <th>BMI</th>\n",
       "      <th>DiabetesPedigreeFunction</th>\n",
       "      <th>Age</th>\n",
       "      <th>Outcome</th>\n",
       "    </tr>\n",
       "  </thead>\n",
       "  <tbody>\n",
       "    <tr>\n",
       "      <th>0</th>\n",
       "      <td>6</td>\n",
       "      <td>148</td>\n",
       "      <td>72</td>\n",
       "      <td>35</td>\n",
       "      <td>0</td>\n",
       "      <td>33.6</td>\n",
       "      <td>0.627</td>\n",
       "      <td>50</td>\n",
       "      <td>1</td>\n",
       "    </tr>\n",
       "    <tr>\n",
       "      <th>1</th>\n",
       "      <td>1</td>\n",
       "      <td>85</td>\n",
       "      <td>66</td>\n",
       "      <td>29</td>\n",
       "      <td>0</td>\n",
       "      <td>26.6</td>\n",
       "      <td>0.351</td>\n",
       "      <td>31</td>\n",
       "      <td>0</td>\n",
       "    </tr>\n",
       "    <tr>\n",
       "      <th>2</th>\n",
       "      <td>8</td>\n",
       "      <td>183</td>\n",
       "      <td>64</td>\n",
       "      <td>0</td>\n",
       "      <td>0</td>\n",
       "      <td>23.3</td>\n",
       "      <td>0.672</td>\n",
       "      <td>32</td>\n",
       "      <td>1</td>\n",
       "    </tr>\n",
       "    <tr>\n",
       "      <th>3</th>\n",
       "      <td>1</td>\n",
       "      <td>89</td>\n",
       "      <td>66</td>\n",
       "      <td>23</td>\n",
       "      <td>94</td>\n",
       "      <td>28.1</td>\n",
       "      <td>0.167</td>\n",
       "      <td>21</td>\n",
       "      <td>0</td>\n",
       "    </tr>\n",
       "    <tr>\n",
       "      <th>4</th>\n",
       "      <td>0</td>\n",
       "      <td>137</td>\n",
       "      <td>40</td>\n",
       "      <td>35</td>\n",
       "      <td>168</td>\n",
       "      <td>43.1</td>\n",
       "      <td>2.288</td>\n",
       "      <td>33</td>\n",
       "      <td>1</td>\n",
       "    </tr>\n",
       "  </tbody>\n",
       "</table>\n",
       "</div>"
      ]
     },
     "execution_count": 59,
     "metadata": {},
     "output_type": "execute_result"
    }
   ],
   "execution_count": 59
  },
  {
   "cell_type": "markdown",
   "metadata": {
    "id": "4WgXZmQlVlQS"
   },
   "source": [
    "Remember yesterday's tutorial, we observed that some patients had 0 entries for the variables `Glucose`,`BMI`, and `BloodPressure`. We are going to remove these entries from the dataset since those unrealistic entries might have an influence on our predictions."
   ]
  },
  {
   "cell_type": "code",
   "metadata": {
    "ExecuteTime": {
     "end_time": "2024-09-28T09:48:29.196167Z",
     "start_time": "2024-09-28T09:48:29.191823Z"
    }
   },
   "source": [
    "diabetes_clean = diabetes[(diabetes['Glucose']!=0) & \n",
    "                          (diabetes['BMI']!=0) & \n",
    "                          (diabetes['BloodPressure']!=0)]"
   ],
   "outputs": [],
   "execution_count": 6
  },
  {
   "cell_type": "markdown",
   "metadata": {},
   "source": [
    "Let's check the dimensions of our final dataset."
   ]
  },
  {
   "cell_type": "code",
   "metadata": {
    "ExecuteTime": {
     "end_time": "2024-09-28T09:48:31.386484Z",
     "start_time": "2024-09-28T09:48:31.382617Z"
    }
   },
   "source": [
    "diabetes_clean.shape"
   ],
   "outputs": [
    {
     "data": {
      "text/plain": [
       "(724, 9)"
      ]
     },
     "execution_count": 7,
     "metadata": {},
     "output_type": "execute_result"
    }
   ],
   "execution_count": 7
  },
  {
   "cell_type": "markdown",
   "metadata": {
    "id": "7NZLHzTmUh9o"
   },
   "source": [
    "### 5.3 Keras\n"
   ]
  },
  {
   "cell_type": "markdown",
   "metadata": {
    "id": "acsny_xVUh9p"
   },
   "source": [
    "Keras is a high-level neural networks API, capable of running on top of Tensorflow, Theano, and CNTK. It enables fast experimentation through a high level, user-friendly, modular and extensible API\n",
    "\n",
    "<img src=\"https://keras.io/img/logo.png\" width=\"40%\">\n",
    "\n",
    "<ins>Source:</ins> https://keras.io/img/logo.png"
   ]
  },
  {
   "cell_type": "markdown",
   "metadata": {
    "id": "j_YMY3nWUh9p"
   },
   "source": [
    "### Installation"
   ]
  },
  {
   "cell_type": "markdown",
   "metadata": {
    "id": "__XnytcRUh9p"
   },
   "source": [
    "For an installation of the *Keras* library, you have to enter the following command in the terminal."
   ]
  },
  {
   "cell_type": "markdown",
   "metadata": {
    "id": "j3KOYchaUh9q"
   },
   "source": [
    "```python\n",
    "!pip install tensorflow\n",
    "```"
   ]
  },
  {
   "cell_type": "markdown",
   "metadata": {
    "id": "_ql4nQgRUh9q"
   },
   "source": [
    "Keras comes packaged with *TensorFlow 2.0* as `tensorflow.keras`. To start using *Keras*, simply install *TensorFlow 2.0*."
   ]
  },
  {
   "cell_type": "markdown",
   "metadata": {
    "id": "mEIhPfo5Uh9r"
   },
   "source": [
    "*Keras* is a model-level library, providing high-level building blocks for developing deep learning models. It doesn't handle itself low-level operations such as tensor products, convolutions and so on. Instead, it relies on a specialized, well-optimized tensor manipulation library to do so, serving as the \"backend engine\" of Keras. \n",
    "\n",
    "Rather than picking one single tensor library and making the implementation of *Keras* tied to that library, *Keras* handles the problem in a modular way, and several different backend engines can be plugged seamlessly into *Keras*."
   ]
  },
  {
   "cell_type": "markdown",
   "metadata": {
    "id": "rtgIJJ1GUh9r"
   },
   "source": [
    "### Importing the library"
   ]
  },
  {
   "cell_type": "markdown",
   "metadata": {
    "id": "a9U5V2EEUh9t"
   },
   "source": [
    "We aren't going to import the whole *Keras* library but only specific classes that we need for our implementation. This will later be done using the following command:"
   ]
  },
  {
   "cell_type": "markdown",
   "metadata": {
    "id": "Sev4kbIjUh9u"
   },
   "source": [
    "```python\n",
    "import tensorflow as tf\n",
    "from tensorflow.keras.xyz import ...\n",
    "```"
   ]
  },
  {
   "cell_type": "markdown",
   "metadata": {
    "id": "ThgpIYjAUh9u"
   },
   "source": [
    "### Workflow"
   ]
  },
  {
   "cell_type": "markdown",
   "metadata": {
    "id": "EeLZsFYCUh9v"
   },
   "source": [
    "Training your first simple neural network with *Keras* doesn't require a lot of code, but we're going to start slow, taking it step-by-step, ensuring you understand the process of how to train a network. The workflow in *Keras* consits of the following steps:\n",
    "1. **Prepare data**\n",
    "2. **Build model**\n",
    "3. **Compile model**\n",
    "4. **Fit model**\n",
    "5. **Predict**\n",
    "6. **Evaluate model**\n",
    "7. **Save model**\n",
    "\n",
    "We're now going to introduce all these steps in more detail in the following part of the notebook. "
   ]
  },
  {
   "cell_type": "markdown",
   "metadata": {
    "id": "X3Iej-MNUh9v"
   },
   "source": [
    "#### 1. Data preparation"
   ]
  },
  {
   "cell_type": "markdown",
   "metadata": {
    "id": "oWnAxNECUh9v"
   },
   "source": [
    "Before we start building our neural network, we have to prepare our data. A first step should always be data inspection, which you have already done in the last tutorial. Here, we will split our data in different subsets to train our model and will standardise the data."
   ]
  },
  {
   "cell_type": "markdown",
   "metadata": {
    "id": "JPrH05GZUh9x"
   },
   "source": [
    "**Data splitting**"
   ]
  },
  {
   "cell_type": "markdown",
   "metadata": {
    "id": "9HV0QMqcUh9x"
   },
   "source": [
    "As you have learnt in the last tutorial, we have to split our dataset in subsets since we do not know the (hidden) data generating distribution to calculate the true error of our model. For this, we split the diabetes dataset into a training set, validation set and test set using the following split 60-20-20 to approximate the true error. We use the `train_test_split()`function from them `sklearn.model_selection` module to perform the splitting."
   ]
  },
  {
   "cell_type": "markdown",
   "metadata": {
    "id": "SXzeWl3RUh9x"
   },
   "source": [
    "Here, we split the dataset only in a training and test set. Later in the training step, we use *Keras*' functionality to create a validation set from the training set. "
   ]
  },
  {
   "cell_type": "code",
   "metadata": {
    "id": "URVclPL_Uh9x",
    "ExecuteTime": {
     "end_time": "2024-09-28T09:48:39.484Z",
     "start_time": "2024-09-28T09:48:38.942692Z"
    }
   },
   "source": [
    "from sklearn.model_selection import train_test_split\n",
    "\n",
    "X_train, X_test, y_train, y_test = train_test_split(diabetes_clean[['Glucose','BMI','Age']], diabetes_clean['Outcome'], \n",
    "                                                    test_size=0.2)"
   ],
   "outputs": [],
   "execution_count": 8
  },
  {
   "cell_type": "markdown",
   "metadata": {
    "id": "QkPdmBBHUh9x"
   },
   "source": [
    "Let's check how many observations are in each set."
   ]
  },
  {
   "cell_type": "code",
   "metadata": {
    "colab": {
     "base_uri": "https://localhost:8080/"
    },
    "id": "4AMXv4ODUh9y",
    "outputId": "48d5d796-7b24-4244-99f3-91289269e965",
    "ExecuteTime": {
     "end_time": "2024-09-28T09:48:41.076820Z",
     "start_time": "2024-09-28T09:48:41.073666Z"
    }
   },
   "source": [
    "print(\"Number of training samples: %i\" % len(X_train))\n",
    "print(\"Number of test samples: %i\" % len(X_test))"
   ],
   "outputs": [
    {
     "name": "stdout",
     "output_type": "stream",
     "text": [
      "Number of training samples: 579\n",
      "Number of test samples: 145\n"
     ]
    }
   ],
   "execution_count": 9
  },
  {
   "cell_type": "markdown",
   "metadata": {
    "id": "Y1DBHAb7Uh9z"
   },
   "source": [
    "**Tranformations**"
   ]
  },
  {
   "cell_type": "markdown",
   "metadata": {
    "id": "wYXY_WmJUh90"
   },
   "source": [
    "Convergence of neural networks is ususally faster if the **average of each input variable**  over the training set is **close to zero**. In general, any shift of the average input away from zero will bias the updates in a particular direction and thus slow down learning. Additionally, **scaling the inputs** - to have **about the same covariance** - speeds up learning because it helps to balance out the rate at which the weights connected to the input nodes learn. Therefore, we will *standardize* our data \n",
    "\n",
    "$$z=\\frac{x-\\mu}{\\sigma} $$\n",
    "\n",
    "with mean $\\mu$ and standard deviation $\\sigma$. This transformation will speed up and stabilise the training process. We can use the `StandardScaler()` function from the `sklearn.preprocessing` module to perform the standardisation."
   ]
  },
  {
   "cell_type": "code",
   "metadata": {
    "id": "I5Hj349qUh92",
    "ExecuteTime": {
     "end_time": "2024-09-28T09:48:43.027068Z",
     "start_time": "2024-09-28T09:48:43.020343Z"
    }
   },
   "source": [
    "from sklearn.preprocessing import StandardScaler\n",
    "\n",
    "# Instatiate scaler\n",
    "scaler = StandardScaler()\n",
    "\n",
    "# Train scaler on the data set\n",
    "scaler.fit(X_train)\n",
    "\n",
    "# Transform datasets\n",
    "X_train = scaler.transform(X_train)\n",
    "X_test = scaler.transform(X_test)"
   ],
   "outputs": [],
   "execution_count": 10
  },
  {
   "cell_type": "markdown",
   "metadata": {
    "id": "IFA4d1z7Uh92"
   },
   "source": [
    "Let us have a look at our transformed training set."
   ]
  },
  {
   "cell_type": "code",
   "metadata": {
    "colab": {
     "base_uri": "https://localhost:8080/"
    },
    "id": "GBRjFuFOUh92",
    "outputId": "001a9ec3-bbb0-4495-a4a5-a0fbf412d61a",
    "ExecuteTime": {
     "end_time": "2024-09-28T09:48:44.030066Z",
     "start_time": "2024-09-28T09:48:44.025801Z"
    }
   },
   "source": [
    "X_train[:10,:]"
   ],
   "outputs": [
    {
     "data": {
      "text/plain": [
       "array([[ 0.81325108, -0.24767434, -0.3766816 ],\n",
       "       [ 1.70421111,  0.10173506,  1.55042901],\n",
       "       [ 0.62233107, -0.32046796,  0.79634225],\n",
       "       [-0.14134895, -1.38325489,  1.0477045 ],\n",
       "       [-0.39590896, -0.96105186, -0.29289419],\n",
       "       [-0.01406895,  0.10173506, -0.04153193],\n",
       "       [-0.33226896,  0.98981729, -0.79561869],\n",
       "       [-0.74592897,  0.02894144, -0.04153193],\n",
       "       [-0.42772896, -1.07752166, -0.87940611],\n",
       "       [-0.45954896, -0.77178844, -0.12531935]])"
      ]
     },
     "execution_count": 11,
     "metadata": {},
     "output_type": "execute_result"
    }
   ],
   "execution_count": 11
  },
  {
   "cell_type": "markdown",
   "metadata": {
    "id": "ZSyq9fCZUh93"
   },
   "source": [
    "Let us also check the mean and standard deviation of our standardised training dataset."
   ]
  },
  {
   "cell_type": "code",
   "metadata": {
    "colab": {
     "base_uri": "https://localhost:8080/"
    },
    "id": "_r_zsDIHUh94",
    "outputId": "cf580001-ddba-45e6-9a0d-e5611f91913d",
    "ExecuteTime": {
     "end_time": "2024-09-28T09:48:45.176600Z",
     "start_time": "2024-09-28T09:48:45.173243Z"
    }
   },
   "source": [
    "print(np.mean(X_train,0))\n",
    "print(np.std(X_train,0))"
   ],
   "outputs": [
    {
     "name": "stdout",
     "output_type": "stream",
     "text": [
      "[-1.96350324e-16  1.74874508e-16 -3.37477120e-17]\n",
      "[1. 1. 1.]\n"
     ]
    }
   ],
   "execution_count": 12
  },
  {
   "cell_type": "markdown",
   "metadata": {
    "id": "Ztbd-o7HUh94"
   },
   "source": [
    "#### 2. Model Building"
   ]
  },
  {
   "cell_type": "markdown",
   "metadata": {
    "id": "2DCl3nGqUh94"
   },
   "source": [
    "The core data structures of *Keras* are **layers** and **models**. There are three ways to create Keras models:\n",
    "\n",
    "- The Sequential model is simply a linear stack of layers. *(for simple implementations)*\n",
    "- The Functional API fully-featured API that supports arbitrary model architectures. *(for more complex implementations)*\n",
    "- Model subclassing, where you implement everything from scratch on your own. *(for more complex implementations)*\n",
    "\n",
    "We are going to use the **Sequential model** class in this tutorial. You simply need to import the model from the *Keras* library and initialise a model object using the following commands:"
   ]
  },
  {
   "cell_type": "code",
   "metadata": {
    "id": "a7gc80ZfUh95",
    "ExecuteTime": {
     "end_time": "2024-09-28T09:49:39.007400Z",
     "start_time": "2024-09-28T09:49:39.002984Z"
    }
   },
   "source": [
    "import tensorflow as tf\n",
    "import os\n",
    "os.environ['TF_CPP_MIN_LOG_LEVEL'] = '2'  # 0 = all logs, 1 = info, 2 = warning, 3 = error\n",
    "\n",
    "from tensorflow.keras.models import Sequential\n",
    "\n",
    "model = Sequential()"
   ],
   "outputs": [],
   "execution_count": 15
  },
  {
   "cell_type": "markdown",
   "metadata": {
    "id": "IpmpOjfxUh95"
   },
   "source": [
    "Then, we can stack layers and add those to our model object. Before we do so, the implementation of the layer types  \n",
    "- dense layer and \n",
    "- convolutional layer \n",
    "\n",
    "is introduced, which you are going to use later in this notebook. A complete list of supported layer types is given in the *Keras* documentation https://keras.io/api/layers/. First, we have to import these layers from the *Keras* layer module using the following command:"
   ]
  },
  {
   "cell_type": "markdown",
   "metadata": {
    "id": "w72LP4ipUh95"
   },
   "source": [
    "```python\n",
    "from tensorflow.keras.layers import Dense, Conv2D\n",
    "```"
   ]
  },
  {
   "cell_type": "markdown",
   "metadata": {
    "id": "R52VX13DUh95"
   },
   "source": [
    "**Dense layer**<br>\n",
    "A dense layer/fully-connected layer is a layer in which each input neuron is connected to each output neuron, the parameters units just tells you the dimensionality of your output. \n",
    "\n",
    "```python\n",
    "Dense(units='dimensionality of the output space',\n",
    "      activation='activation function to use',\n",
    "      ...)\n",
    "```\n",
    "<ins>Example:</ins>"
   ]
  },
  {
   "cell_type": "markdown",
   "metadata": {
    "id": "CMincqCAUh95"
   },
   "source": [
    "```python\n",
    "Dense(units=6, activation='relu',...)\n",
    "```"
   ]
  },
  {
   "cell_type": "markdown",
   "metadata": {
    "id": "S3JgPKH1Uh95"
   },
   "source": [
    "**Convolutional layer**<br>\n",
    "The convolutional layer’s parameters consist of a set of learnable filters. During the forward pass, we convolve each filter across the width and height of the input and compute dot products between the entries of the filter and the input at any position. By doing so, we produce an activation map that gives the responses of that filter at every spatial position.\n",
    "\n",
    "```python\n",
    "Conv2D(filters='the dimensionality of the output space (i.e. the number of output filters in convolution)', \n",
    "       kernel_size='specifying the height and width of the 2D convolutional kernel', \n",
    "       strides=' specifying the strides of the convolution along the height and width', \n",
    "       activation='activation function to use',\n",
    "       ...)\n",
    "```\n",
    "<ins>Example:</ins>"
   ]
  },
  {
   "cell_type": "markdown",
   "metadata": {
    "id": "8E14gK7wUh96"
   },
   "source": [
    "```python\n",
    "Conv2D(filters=16, kernel_size=(3,3), strides=(1,1), activation='relu',...)\n",
    "# if width and height are equal you can write in short\n",
    "Conv2D(filters=16, kernel_size=3, strides=1, activation='relu',...)\n",
    "```"
   ]
  },
  {
   "cell_type": "markdown",
   "metadata": {
    "id": "NiIPEAy_Uh96"
   },
   "source": [
    "We can simply add these layers to the Sequential model using the `add()` method.\n",
    "Here, we add  \n",
    "- an dense input layer with 3 units, \n",
    "- a dense sigmoid output layer with 1 unit\n",
    "\n",
    "to create a **fully-connected neural network**."
   ]
  },
  {
   "cell_type": "code",
   "metadata": {
    "id": "cwi8JcVZUh96",
    "ExecuteTime": {
     "end_time": "2024-09-28T09:49:41.823543Z",
     "start_time": "2024-09-28T09:49:41.789179Z"
    }
   },
   "source": [
    "from tensorflow.keras import Input\n",
    "from tensorflow.keras.layers import Dense\n",
    "\n",
    "model.add(Input(shape=(3,)))\n",
    "model.add(Dense(1, activation='sigmoid'))"
   ],
   "outputs": [],
   "execution_count": 16
  },
  {
   "cell_type": "markdown",
   "metadata": {
    "id": "MewTFbooUh97"
   },
   "source": [
    "We can display the content of our neural network by calling the `summary()` method."
   ]
  },
  {
   "cell_type": "code",
   "metadata": {
    "colab": {
     "base_uri": "https://localhost:8080/"
    },
    "id": "eDek3IM-Uh97",
    "outputId": "d5d92226-850e-4e6b-e7d7-6db3efdb882d",
    "ExecuteTime": {
     "end_time": "2024-09-28T09:49:42.990104Z",
     "start_time": "2024-09-28T09:49:42.987040Z"
    }
   },
   "source": [
    "model.summary()"
   ],
   "outputs": [
    {
     "name": "stdout",
     "output_type": "stream",
     "text": [
      "Model: \"sequential_2\"\n",
      "_________________________________________________________________\n",
      "Layer (type)                 Output Shape              Param #   \n",
      "=================================================================\n",
      "dense (Dense)                (None, 1)                 4         \n",
      "=================================================================\n",
      "Total params: 4\n",
      "Trainable params: 4\n",
      "Non-trainable params: 0\n",
      "_________________________________________________________________\n"
     ]
    }
   ],
   "execution_count": 17
  },
  {
   "cell_type": "markdown",
   "metadata": {
    "id": "Z5RVIWapUh98"
   },
   "source": [
    "*Why does our network have 4 parameters?*"
   ]
  },
  {
   "cell_type": "markdown",
   "metadata": {
    "id": "EWzeB6VJUh98"
   },
   "source": [
    "#### 3. Model compilation"
   ]
  },
  {
   "cell_type": "markdown",
   "metadata": {
    "id": "bBBy-ENyUh99"
   },
   "source": [
    "In order to train our neural network, we need to compile our model. This requires us to define a loss function and an optimiser to do so. A list already implemented losses and optimisers can be found in the documentary:\n",
    "\n",
    "- losses: https://keras.io/api/losses/,\n",
    "- optimisers: https://keras.io/api/optimizers/. "
   ]
  },
  {
   "cell_type": "markdown",
   "metadata": {
    "id": "jupgR4smUh99"
   },
   "source": [
    "**Loss function**\n",
    "\n",
    "The purpose of loss functions is to compute the quantity that a model should seek to minimize during training. \n",
    "This function will essentially calculate how poorly our model is performing by comparing what the model is predicting with the actual value it is supposed to output. Therefore, the selection of the loss function depends on the the task.\n",
    "\n",
    "<ins>Examples:</ins><br>\n",
    "\n",
    "*Classification:*\n",
    "- `BinaryCrossentropy()`<br> Computes the cross-entropy loss between true labels and predicted labels *(binary)*.\n",
    "- `CategoricalCrossentropy()`<br> Computes the cross-entropy loss between true labels and predicted labels *(multi-class)*.\n",
    "- ...\n",
    "\n",
    "*Regression:*\n",
    "- `MeanSquaredError()`<br> Computes the mean of squares of errors between labels and predictions.\n",
    "- ...\n",
    "\n",
    "You can import the loss functions from the *Keras* losses module by entering the following command:"
   ]
  },
  {
   "cell_type": "markdown",
   "metadata": {
    "id": "UDP-4PpbUh9-"
   },
   "source": [
    "```python\n",
    "from tensorflow.keras.losses import BinaryCrossentropy, CategoricalCrossentropy, MeanSquaredError\n",
    "```"
   ]
  },
  {
   "cell_type": "markdown",
   "metadata": {
    "id": "-EIWQ_pZUh9-"
   },
   "source": [
    "**Optimiser**\n",
    "\n",
    "We have already dealt with the loss function, which is a mathematical way of measuring how wrong your predictions are. In other words, the loss function lets us quantify the quality of any particular set of model parameters. The goal of optimisation is to find those parameteres that minimize the loss function. For this, we can compute the best direction along which we should change our parameters that is mathematically guaranteed to be the direction of the steepest descend. This direction will be related to the gradient of the loss function."
   ]
  },
  {
   "cell_type": "markdown",
   "metadata": {
    "id": "BAb-sovUUh9-"
   },
   "source": [
    "<ins>Examples:</ins>\n",
    "- `SGD()`<br> Stochastic gradient descent is an implementation of gradient descent - that you know from the lecture - on batches of observations or single random examples on each pass.\n",
    "\n",
    "- `Adam()`<br> Adam stands for adaptive moment estimation, and is another way of using past gradients to calculate current gradients. Adam also utilizes the concept of momentum by adding fractions of previous gradients to the current one.\n",
    "\n",
    "You can import the optimiser from the `tf.keras.optimizers` module by entering the following command:"
   ]
  },
  {
   "cell_type": "markdown",
   "metadata": {
    "id": "TqRtHMErUh9-"
   },
   "source": [
    "```python\n",
    "from tensorflow.keras.optimizers import SGD, Adam\n",
    "```"
   ]
  },
  {
   "cell_type": "markdown",
   "metadata": {
    "id": "v2e4xBarUh9-"
   },
   "source": [
    "We instatiate the loss function and the optimiser before we pass them to the model."
   ]
  },
  {
   "cell_type": "code",
   "metadata": {
    "id": "fxlquR4jUh9-",
    "ExecuteTime": {
     "end_time": "2024-09-28T09:49:47.702007Z",
     "start_time": "2024-09-28T09:49:47.690927Z"
    }
   },
   "source": [
    "from tensorflow.keras.losses import BinaryCrossentropy\n",
    "from tensorflow.keras.optimizers import SGD\n",
    "\n",
    "loss = BinaryCrossentropy()\n",
    "\n",
    "lr =5e-2 #lr = 0.05\n",
    "optimiser = SGD(learning_rate=lr)\n",
    "\n",
    "model.compile(loss=loss,\n",
    "              optimizer=optimiser, \n",
    "              metrics=['accuracy'])"
   ],
   "outputs": [],
   "execution_count": 18
  },
  {
   "cell_type": "markdown",
   "metadata": {
    "id": "3IIzAO07Uh-A"
   },
   "source": [
    "After compiling our model, we're now ready to start the training."
   ]
  },
  {
   "cell_type": "markdown",
   "metadata": {
    "id": "qpXJdIUxUh-A"
   },
   "source": [
    "#### 4. Model training"
   ]
  },
  {
   "cell_type": "markdown",
   "metadata": {
    "id": "Xydm8CZcUh-B"
   },
   "source": [
    "To train our model we can simply use the `fit()` method. Here, we just have to provide the *number of epochs*, the *batch size* and the *training dataset* (features and targerts). Instead of providing a separate validation dataset, we use the `validation_split` functionality, which uses the last x% observations of the training dataset before shuffling to create a validation set.\n",
    "\n",
    "At the end of each epoch, the model will iterate over the validation dataset and compute the validation loss and validation metric.\n",
    "\n",
    "The `fit()` method outputs a `History` object; its `History.history` attribute is a record of loss and metrics values (training + validation)."
   ]
  },
  {
   "cell_type": "markdown",
   "metadata": {
    "id": "-rfGPuS6Uh-B"
   },
   "source": [
    "In our example, we use 50 *epochs* and a *batch size* of 64 to train our model. Additionally, we use a validation split of 0.25 such that our overall data split in training, validation and test set is 60-20-20."
   ]
  },
  {
   "cell_type": "code",
   "metadata": {
    "colab": {
     "base_uri": "https://localhost:8080/"
    },
    "id": "rfmSlXFeUh-B",
    "outputId": "5fa547c8-005a-4db6-a368-240c5067d2c2",
    "ExecuteTime": {
     "end_time": "2024-09-28T09:49:51.096008Z",
     "start_time": "2024-09-28T09:49:49.609186Z"
    }
   },
   "source": [
    "epochs = 50\n",
    "batch_size = 64\n",
    "\n",
    "\n",
    "history = model.fit(x=X_train, y=y_train,\n",
    "                validation_split=0.25,\n",
    "                epochs=epochs, \n",
    "                batch_size=batch_size)"
   ],
   "outputs": [
    {
     "name": "stdout",
     "output_type": "stream",
     "text": [
      "Epoch 1/50\n",
      "7/7 [==============================] - 0s 18ms/step - loss: 0.8647 - accuracy: 0.3986 - val_loss: 0.8604 - val_accuracy: 0.3241\n",
      "Epoch 2/50\n",
      "7/7 [==============================] - 0s 3ms/step - loss: 0.8048 - accuracy: 0.4078 - val_loss: 0.7993 - val_accuracy: 0.3931\n",
      "Epoch 3/50\n",
      "7/7 [==============================] - 0s 3ms/step - loss: 0.7537 - accuracy: 0.4516 - val_loss: 0.7482 - val_accuracy: 0.4483\n",
      "Epoch 4/50\n",
      "7/7 [==============================] - 0s 3ms/step - loss: 0.7121 - accuracy: 0.5046 - val_loss: 0.7059 - val_accuracy: 0.5034\n",
      "Epoch 5/50\n",
      "7/7 [==============================] - 0s 3ms/step - loss: 0.6781 - accuracy: 0.5806 - val_loss: 0.6711 - val_accuracy: 0.5655\n",
      "Epoch 6/50\n",
      "7/7 [==============================] - 0s 3ms/step - loss: 0.6504 - accuracy: 0.6244 - val_loss: 0.6420 - val_accuracy: 0.6207\n",
      "Epoch 7/50\n",
      "7/7 [==============================] - 0s 2ms/step - loss: 0.6278 - accuracy: 0.6498 - val_loss: 0.6173 - val_accuracy: 0.6552\n",
      "Epoch 8/50\n",
      "7/7 [==============================] - 0s 3ms/step - loss: 0.6090 - accuracy: 0.6613 - val_loss: 0.5967 - val_accuracy: 0.6828\n",
      "Epoch 9/50\n",
      "7/7 [==============================] - 0s 3ms/step - loss: 0.5937 - accuracy: 0.6843 - val_loss: 0.5795 - val_accuracy: 0.6759\n",
      "Epoch 10/50\n",
      "7/7 [==============================] - 0s 3ms/step - loss: 0.5812 - accuracy: 0.7074 - val_loss: 0.5647 - val_accuracy: 0.6966\n",
      "Epoch 11/50\n",
      "7/7 [==============================] - 0s 3ms/step - loss: 0.5708 - accuracy: 0.7120 - val_loss: 0.5520 - val_accuracy: 0.7103\n",
      "Epoch 12/50\n",
      "7/7 [==============================] - 0s 3ms/step - loss: 0.5620 - accuracy: 0.7143 - val_loss: 0.5411 - val_accuracy: 0.7172\n",
      "Epoch 13/50\n",
      "7/7 [==============================] - 0s 3ms/step - loss: 0.5546 - accuracy: 0.7235 - val_loss: 0.5315 - val_accuracy: 0.7379\n",
      "Epoch 14/50\n",
      "7/7 [==============================] - 0s 3ms/step - loss: 0.5482 - accuracy: 0.7327 - val_loss: 0.5234 - val_accuracy: 0.7448\n",
      "Epoch 15/50\n",
      "7/7 [==============================] - 0s 3ms/step - loss: 0.5431 - accuracy: 0.7350 - val_loss: 0.5162 - val_accuracy: 0.7586\n",
      "Epoch 16/50\n",
      "7/7 [==============================] - 0s 3ms/step - loss: 0.5385 - accuracy: 0.7327 - val_loss: 0.5100 - val_accuracy: 0.7655\n",
      "Epoch 17/50\n",
      "7/7 [==============================] - 0s 3ms/step - loss: 0.5348 - accuracy: 0.7304 - val_loss: 0.5046 - val_accuracy: 0.7724\n",
      "Epoch 18/50\n",
      "7/7 [==============================] - 0s 2ms/step - loss: 0.5316 - accuracy: 0.7304 - val_loss: 0.4998 - val_accuracy: 0.7724\n",
      "Epoch 19/50\n",
      "7/7 [==============================] - 0s 3ms/step - loss: 0.5288 - accuracy: 0.7350 - val_loss: 0.4955 - val_accuracy: 0.7793\n",
      "Epoch 20/50\n",
      "7/7 [==============================] - 0s 3ms/step - loss: 0.5265 - accuracy: 0.7396 - val_loss: 0.4915 - val_accuracy: 0.7862\n",
      "Epoch 21/50\n",
      "7/7 [==============================] - 0s 3ms/step - loss: 0.5243 - accuracy: 0.7419 - val_loss: 0.4879 - val_accuracy: 0.7862\n",
      "Epoch 22/50\n",
      "7/7 [==============================] - 0s 3ms/step - loss: 0.5226 - accuracy: 0.7419 - val_loss: 0.4847 - val_accuracy: 0.7862\n",
      "Epoch 23/50\n",
      "7/7 [==============================] - 0s 3ms/step - loss: 0.5209 - accuracy: 0.7488 - val_loss: 0.4819 - val_accuracy: 0.7862\n",
      "Epoch 24/50\n",
      "7/7 [==============================] - 0s 3ms/step - loss: 0.5195 - accuracy: 0.7512 - val_loss: 0.4795 - val_accuracy: 0.7931\n",
      "Epoch 25/50\n",
      "7/7 [==============================] - 0s 3ms/step - loss: 0.5182 - accuracy: 0.7512 - val_loss: 0.4772 - val_accuracy: 0.7931\n",
      "Epoch 26/50\n",
      "7/7 [==============================] - 0s 3ms/step - loss: 0.5172 - accuracy: 0.7512 - val_loss: 0.4750 - val_accuracy: 0.7931\n",
      "Epoch 27/50\n",
      "7/7 [==============================] - 0s 3ms/step - loss: 0.5162 - accuracy: 0.7512 - val_loss: 0.4731 - val_accuracy: 0.7931\n",
      "Epoch 28/50\n",
      "7/7 [==============================] - 0s 3ms/step - loss: 0.5156 - accuracy: 0.7488 - val_loss: 0.4714 - val_accuracy: 0.7931\n",
      "Epoch 29/50\n",
      "7/7 [==============================] - 0s 3ms/step - loss: 0.5146 - accuracy: 0.7465 - val_loss: 0.4699 - val_accuracy: 0.7862\n",
      "Epoch 30/50\n",
      "7/7 [==============================] - 0s 3ms/step - loss: 0.5141 - accuracy: 0.7465 - val_loss: 0.4684 - val_accuracy: 0.7862\n",
      "Epoch 31/50\n",
      "7/7 [==============================] - 0s 3ms/step - loss: 0.5134 - accuracy: 0.7465 - val_loss: 0.4671 - val_accuracy: 0.7862\n",
      "Epoch 32/50\n",
      "7/7 [==============================] - 0s 3ms/step - loss: 0.5128 - accuracy: 0.7488 - val_loss: 0.4658 - val_accuracy: 0.7862\n",
      "Epoch 33/50\n",
      "7/7 [==============================] - 0s 3ms/step - loss: 0.5124 - accuracy: 0.7488 - val_loss: 0.4645 - val_accuracy: 0.7862\n",
      "Epoch 34/50\n",
      "7/7 [==============================] - 0s 3ms/step - loss: 0.5119 - accuracy: 0.7488 - val_loss: 0.4633 - val_accuracy: 0.7862\n",
      "Epoch 35/50\n",
      "7/7 [==============================] - 0s 3ms/step - loss: 0.5115 - accuracy: 0.7488 - val_loss: 0.4624 - val_accuracy: 0.7862\n",
      "Epoch 36/50\n",
      "7/7 [==============================] - 0s 3ms/step - loss: 0.5113 - accuracy: 0.7488 - val_loss: 0.4614 - val_accuracy: 0.7862\n",
      "Epoch 37/50\n",
      "7/7 [==============================] - 0s 3ms/step - loss: 0.5109 - accuracy: 0.7465 - val_loss: 0.4607 - val_accuracy: 0.7862\n",
      "Epoch 38/50\n",
      "7/7 [==============================] - 0s 3ms/step - loss: 0.5106 - accuracy: 0.7465 - val_loss: 0.4598 - val_accuracy: 0.7862\n",
      "Epoch 39/50\n",
      "7/7 [==============================] - 0s 3ms/step - loss: 0.5103 - accuracy: 0.7465 - val_loss: 0.4592 - val_accuracy: 0.7862\n",
      "Epoch 40/50\n",
      "7/7 [==============================] - 0s 3ms/step - loss: 0.5102 - accuracy: 0.7442 - val_loss: 0.4585 - val_accuracy: 0.7862\n",
      "Epoch 41/50\n",
      "7/7 [==============================] - 0s 3ms/step - loss: 0.5099 - accuracy: 0.7465 - val_loss: 0.4578 - val_accuracy: 0.8000\n",
      "Epoch 42/50\n",
      "7/7 [==============================] - 0s 3ms/step - loss: 0.5098 - accuracy: 0.7465 - val_loss: 0.4572 - val_accuracy: 0.8069\n",
      "Epoch 43/50\n",
      "7/7 [==============================] - 0s 3ms/step - loss: 0.5094 - accuracy: 0.7465 - val_loss: 0.4566 - val_accuracy: 0.8069\n",
      "Epoch 44/50\n",
      "7/7 [==============================] - 0s 3ms/step - loss: 0.5094 - accuracy: 0.7465 - val_loss: 0.4561 - val_accuracy: 0.8069\n",
      "Epoch 45/50\n",
      "7/7 [==============================] - 0s 3ms/step - loss: 0.5092 - accuracy: 0.7465 - val_loss: 0.4555 - val_accuracy: 0.8069\n",
      "Epoch 46/50\n",
      "7/7 [==============================] - 0s 3ms/step - loss: 0.5091 - accuracy: 0.7465 - val_loss: 0.4550 - val_accuracy: 0.8069\n",
      "Epoch 47/50\n",
      "7/7 [==============================] - 0s 3ms/step - loss: 0.5090 - accuracy: 0.7442 - val_loss: 0.4545 - val_accuracy: 0.8069\n",
      "Epoch 48/50\n",
      "7/7 [==============================] - 0s 3ms/step - loss: 0.5089 - accuracy: 0.7442 - val_loss: 0.4542 - val_accuracy: 0.8069\n",
      "Epoch 49/50\n",
      "7/7 [==============================] - 0s 3ms/step - loss: 0.5089 - accuracy: 0.7442 - val_loss: 0.4539 - val_accuracy: 0.8069\n",
      "Epoch 50/50\n",
      "7/7 [==============================] - 0s 3ms/step - loss: 0.5088 - accuracy: 0.7442 - val_loss: 0.4535 - val_accuracy: 0.8069\n"
     ]
    }
   ],
   "execution_count": 19
  },
  {
   "cell_type": "markdown",
   "metadata": {
    "id": "HM6xNwsDUh-C"
   },
   "source": [
    "The `fit()` methods prints the loss and metric values after every epochs, but we can also use the `History` object to visualise those values to get intuition about the performance of our model."
   ]
  },
  {
   "cell_type": "code",
   "metadata": {
    "colab": {
     "base_uri": "https://localhost:8080/",
     "height": 918
    },
    "id": "bjzzBU5nUh-C",
    "outputId": "6d80c6d7-670d-4f92-8dc8-be4dd8199b3c",
    "ExecuteTime": {
     "end_time": "2024-09-28T09:49:57.464905Z",
     "start_time": "2024-09-28T09:49:56.577885Z"
    }
   },
   "source": [
    "import matplotlib.pyplot as plt\n",
    "\n",
    "n_epochs = np.arange(0,epochs)\n",
    "\n",
    "fig, (ax1,ax2) = plt.subplots(2,1,figsize=(8,16))\n",
    "ax1.plot(n_epochs, history.history['loss'], label='training loss')\n",
    "ax1.plot(n_epochs, history.history['val_loss'], label='validation loss')\n",
    "ax1.set_ylim(-0.05,1.05)\n",
    "ax1.legend()\n",
    "\n",
    "ax2.plot(n_epochs, history.history['accuracy'], label='training accuracy')\n",
    "ax2.plot(n_epochs, history.history['val_accuracy'], label='validation accuracy')\n",
    "ax2.set_ylim(-0.05,1.05)\n",
    "ax2.legend()\n",
    "\n",
    "plt.show()"
   ],
   "outputs": [
    {
     "data": {
      "text/plain": [
       "<Figure size 800x1600 with 2 Axes>"
      ],
      "image/png": "[encoded data removed]"
     },
     "metadata": {},
     "output_type": "display_data"
    }
   ],
   "execution_count": 20
  },
  {
   "cell_type": "markdown",
   "metadata": {
    "id": "LoVD-RmuUh-C"
   },
   "source": [
    "#### 5. Prediciton"
   ]
  },
  {
   "cell_type": "markdown",
   "metadata": {
    "id": "DNpO23_cUh-D"
   },
   "source": [
    "After training, we can use our model to predict the target variable using the `predict()` method, which returns the probabilities $P(Outcome=1|X,w)$."
   ]
  },
  {
   "cell_type": "code",
   "metadata": {
    "id": "igTgfUfzUh-D",
    "ExecuteTime": {
     "end_time": "2024-09-28T09:50:02.990687Z",
     "start_time": "2024-09-28T09:50:02.913696Z"
    }
   },
   "source": [
    "y_pred = model.predict(X_test).ravel()"
   ],
   "outputs": [],
   "execution_count": 21
  },
  {
   "cell_type": "code",
   "metadata": {
    "colab": {
     "base_uri": "https://localhost:8080/"
    },
    "id": "9o_Rg_1SUh-E",
    "outputId": "085a028e-a425-4b72-d2c6-f085498d922b",
    "ExecuteTime": {
     "end_time": "2024-09-28T09:50:03.440632Z",
     "start_time": "2024-09-28T09:50:03.435669Z"
    }
   },
   "source": [
    "y_pred"
   ],
   "outputs": [
    {
     "data": {
      "text/plain": [
       "array([0.34903795, 0.39787322, 0.38369203, 0.06661844, 0.70413536,\n",
       "       0.5400187 , 0.2789706 , 0.22170436, 0.4203661 , 0.3937579 ,\n",
       "       0.09096256, 0.08939019, 0.15332156, 0.06758288, 0.2722358 ,\n",
       "       0.86221504, 0.38232234, 0.7313864 , 0.5735719 , 0.2119059 ,\n",
       "       0.07169431, 0.76502246, 0.08013791, 0.12278935, 0.60049   ,\n",
       "       0.25620967, 0.3564452 , 0.23758736, 0.28451592, 0.8051709 ,\n",
       "       0.3076554 , 0.1447795 , 0.27381775, 0.42868453, 0.14566731,\n",
       "       0.29594868, 0.5453832 , 0.14966783, 0.4244457 , 0.23866075,\n",
       "       0.34063357, 0.04340437, 0.38934693, 0.09974441, 0.13899752,\n",
       "       0.8765953 , 0.18651131, 0.63450944, 0.328088  , 0.72033614,\n",
       "       0.81899726, 0.6434724 , 0.9179653 , 0.48720807, 0.80940163,\n",
       "       0.14739805, 0.7679835 , 0.04873347, 0.36601946, 0.22900128,\n",
       "       0.06965619, 0.17326924, 0.26300874, 0.25354874, 0.27469176,\n",
       "       0.06757975, 0.06757158, 0.6850963 , 0.68777466, 0.22420168,\n",
       "       0.11691976, 0.3776868 , 0.63662046, 0.46767575, 0.15335113,\n",
       "       0.10230827, 0.54784   , 0.06955639, 0.10958865, 0.40404582,\n",
       "       0.1495758 , 0.71008813, 0.3323372 , 0.7338366 , 0.83364594,\n",
       "       0.4956308 , 0.56349283, 0.19931495, 0.21187195, 0.38017592,\n",
       "       0.37502545, 0.21904889, 0.21116656, 0.33137792, 0.29510224,\n",
       "       0.08725178, 0.17802426, 0.02481446, 0.13599819, 0.06956479,\n",
       "       0.85212475, 0.29011047, 0.88009053, 0.31824338, 0.13009205,\n",
       "       0.05476806, 0.7327382 , 0.0973869 , 0.08843288, 0.36806002,\n",
       "       0.37115952, 0.57099295, 0.80692345, 0.80263984, 0.39931124,\n",
       "       0.5692999 , 0.32621372, 0.41572738, 0.44227934, 0.22526401,\n",
       "       0.6227134 , 0.21424136, 0.13922018, 0.32414204, 0.2207044 ,\n",
       "       0.08477533, 0.11531693, 0.23929241, 0.12064618, 0.15693119,\n",
       "       0.20533818, 0.26701683, 0.86859226, 0.19720423, 0.6306283 ,\n",
       "       0.34698257, 0.23599401, 0.14867258, 0.8568079 , 0.59804344,\n",
       "       0.14627436, 0.18003458, 0.06780928, 0.10589632, 0.10570595],\n",
       "      dtype=float32)"
      ]
     },
     "execution_count": 22,
     "metadata": {},
     "output_type": "execute_result"
    }
   ],
   "execution_count": 22
  },
  {
   "cell_type": "markdown",
   "metadata": {
    "id": "-gAVC9_eUh-E"
   },
   "source": [
    "If you're not interested in the probability $P(Outcome=1|X,w)$ but simply want to predict the class label, you can use the `predict_classes()` method. This method uses a threshold of 0.5 to classify examples."
   ]
  },
  {
   "cell_type": "code",
   "metadata": {
    "colab": {
     "base_uri": "https://localhost:8080/"
    },
    "id": "bJKBfZaoUh-E",
    "outputId": "2971e304-f65c-4365-ad70-9c6f32dcfc98",
    "ExecuteTime": {
     "end_time": "2024-09-28T09:50:04.673624Z",
     "start_time": "2024-09-28T09:50:04.637662Z"
    }
   },
   "source": [
    "(model.predict(X_test) > 0.5).astype('int32').ravel()"
   ],
   "outputs": [
    {
     "data": {
      "text/plain": [
       "array([0, 0, 0, 0, 1, 1, 0, 0, 0, 0, 0, 0, 0, 0, 0, 1, 0, 1, 1, 0, 0, 1,\n",
       "       0, 0, 1, 0, 0, 0, 0, 1, 0, 0, 0, 0, 0, 0, 1, 0, 0, 0, 0, 0, 0, 0,\n",
       "       0, 1, 0, 1, 0, 1, 1, 1, 1, 0, 1, 0, 1, 0, 0, 0, 0, 0, 0, 0, 0, 0,\n",
       "       0, 1, 1, 0, 0, 0, 1, 0, 0, 0, 1, 0, 0, 0, 0, 1, 0, 1, 1, 0, 1, 0,\n",
       "       0, 0, 0, 0, 0, 0, 0, 0, 0, 0, 0, 0, 1, 0, 1, 0, 0, 0, 1, 0, 0, 0,\n",
       "       0, 1, 1, 1, 0, 1, 0, 0, 0, 0, 1, 0, 0, 0, 0, 0, 0, 0, 0, 0, 0, 0,\n",
       "       1, 0, 1, 0, 0, 0, 1, 1, 0, 0, 0, 0, 0], dtype=int32)"
      ]
     },
     "execution_count": 23,
     "metadata": {},
     "output_type": "execute_result"
    }
   ],
   "execution_count": 23
  },
  {
   "cell_type": "markdown",
   "metadata": {
    "id": "o3OF4CXlUh-G"
   },
   "source": [
    "#### 6. Model evaluation"
   ]
  },
  {
   "cell_type": "markdown",
   "metadata": {
    "id": "K6flm6tPUh-G"
   },
   "source": [
    "To see how good/bad those predictions are, we've to evaluate them using the built-in `evaluate()` method. This returns the loss and metrics values for the model in test mode."
   ]
  },
  {
   "cell_type": "code",
   "metadata": {
    "colab": {
     "base_uri": "https://localhost:8080/"
    },
    "id": "36Nbr-opUh-G",
    "outputId": "1d6e0309-d934-4cd3-e6ec-3316795dcd85",
    "ExecuteTime": {
     "end_time": "2024-09-28T09:50:06.115393Z",
     "start_time": "2024-09-28T09:50:06.076193Z"
    }
   },
   "source": [
    "loss_and_metrics = model.evaluate(X_test, y_test, \n",
    "                                  batch_size=batch_size)"
   ],
   "outputs": [
    {
     "name": "stdout",
     "output_type": "stream",
     "text": [
      "3/3 [==============================] - 0s 1ms/step - loss: 0.4542 - accuracy: 0.7931\n"
     ]
    }
   ],
   "execution_count": 24
  },
  {
   "cell_type": "markdown",
   "metadata": {
    "id": "466tUYg2Uh-H"
   },
   "source": [
    "In addition to loss and metric values, we're going to use the receiver operating characteristics (ROC) and the area under the curve (AUC) to evaluate our model. We can use the `roc_curve()` and `auc` function from the `sklearn.metrics` module to calculate those values. "
   ]
  },
  {
   "cell_type": "code",
   "metadata": {
    "id": "6d_7aYgXUh-I",
    "ExecuteTime": {
     "end_time": "2024-09-28T09:50:08.579678Z",
     "start_time": "2024-09-28T09:50:08.573938Z"
    }
   },
   "source": [
    "from sklearn.metrics import roc_curve, auc\n",
    "fpr, tpr, thresholds_keras = roc_curve(y_test, y_pred)\n",
    "auc_keras = auc(fpr, tpr)"
   ],
   "outputs": [],
   "execution_count": 25
  },
  {
   "cell_type": "markdown",
   "metadata": {
    "id": "5rbMl597Uh-I"
   },
   "source": [
    "After calculating all values, we can use *matplotllib* to plot the ROC curve."
   ]
  },
  {
   "cell_type": "code",
   "metadata": {
    "colab": {
     "base_uri": "https://localhost:8080/",
     "height": 513
    },
    "id": "fRgkYOVTUh-I",
    "outputId": "db9c7d98-9430-46a7-c369-d5488b5d763d",
    "ExecuteTime": {
     "end_time": "2024-09-28T09:50:10.232301Z",
     "start_time": "2024-09-28T09:50:10.082757Z"
    }
   },
   "source": [
    "fig, ax = plt.subplots(1,1,figsize=(12,8))\n",
    "ax.plot([0, 1], [0, 1], 'k--')\n",
    "ax.plot(fpr, tpr, label='Keras (area = {:.3f})'.format(auc_keras))\n",
    "ax.set_xlabel('False positive rate')\n",
    "ax.set_ylabel('True positive rate')\n",
    "ax.set_title('ROC curve')\n",
    "ax.legend(loc='best')\n",
    "\n",
    "plt.show()"
   ],
   "outputs": [
    {
     "data": {
      "text/plain": [
       "<Figure size 1200x800 with 1 Axes>"
      ],
      "image/png": "[encoded data removed]"
     },
     "metadata": {},
     "output_type": "display_data"
    }
   ],
   "execution_count": 26
  },
  {
   "cell_type": "markdown",
   "metadata": {
    "id": "i7VjoafyUh-K"
   },
   "source": [
    "#### 7. Model saving"
   ]
  },
  {
   "cell_type": "markdown",
   "metadata": {
    "id": "5YeHs3dsUh-L"
   },
   "source": [
    "A Keras model consists of multiple components:\n",
    "\n",
    "- An architecture, or configuration, which specifyies what layers the model contains, and how they're connected.\n",
    "- A set of weights values (the \"state of the model\").\n",
    "- An optimizer (defined by compiling the model).\n",
    "- A set of losses and metrics (defined by compiling the model).\n",
    "\n",
    "We can save these pieces to disk at once into a single archive in the *Tensorflow* `SavedModel`."
   ]
  },
  {
   "cell_type": "markdown",
   "metadata": {
    "id": "qcoS90GJUh-L"
   },
   "source": [
    "```python\n",
    "model.save('path/to/location')\n",
    "```\n",
    "\n",
    "We can save our neural network to the working directory by entering the following command:"
   ]
  },
  {
   "cell_type": "code",
   "metadata": {
    "colab": {
     "base_uri": "https://localhost:8080/"
    },
    "id": "pAlEyHd4Uh-M",
    "outputId": "ff29ca90-e45f-42b7-ab6e-801f8d280d24",
    "ExecuteTime": {
     "end_time": "2024-09-28T09:50:56.948371Z",
     "start_time": "2024-09-28T09:50:56.744326Z"
    }
   },
   "source": [
    "from pathlib import Path\n",
    "Path(\"results/week1_session5_deep-learning\").mkdir(parents=True, exist_ok=True)\n",
    "model.save('results/5_deep-learning/my_nn')"
   ],
   "outputs": [
    {
     "name": "stdout",
     "output_type": "stream",
     "text": [
      "INFO:tensorflow:Assets written to: results/5_deep-learning/my_nn/assets\n"
     ]
    }
   ],
   "execution_count": 29
  },
  {
   "cell_type": "markdown",
   "metadata": {
    "id": "xidD1YzCUh-M"
   },
   "source": [
    "This can then simply be loaded using the following command:\n",
    "\n",
    "```python\n",
    "model = tf.keras.models.load_model('my_nn')\n",
    "```"
   ]
  },
  {
   "cell_type": "markdown",
   "metadata": {
    "id": "WJEjehtYUh-M"
   },
   "source": [
    "**Put everything together**<br>\n",
    "After having itroduced all the steps separately in more detail, everything is put together in one cell, so you don't have to scroll too much."
   ]
  },
  {
   "cell_type": "code",
   "metadata": {
    "colab": {
     "base_uri": "https://localhost:8080/",
     "height": 1000
    },
    "id": "cfZhhlzrUh-M",
    "outputId": "7ced0f04-dcfe-48e9-bae4-b761ae4329d6",
    "scrolled": true,
    "ExecuteTime": {
     "end_time": "2024-09-28T09:51:22.144076Z",
     "start_time": "2024-09-28T09:51:19.490265Z"
    }
   },
   "source": [
    "import tensorflow as tf\n",
    "from tensorflow.keras import Input\n",
    "from tensorflow.keras.models import Sequential\n",
    "from tensorflow.keras.layers import Dense\n",
    "from tensorflow.keras.losses import BinaryCrossentropy\n",
    "from tensorflow.keras.optimizers import SGD\n",
    "\n",
    "from sklearn.model_selection import train_test_split\n",
    "from sklearn.preprocessing import StandardScaler\n",
    "from sklearn.metrics import roc_curve, auc\n",
    "\n",
    "import matplotlib.pyplot as plt\n",
    "\n",
    "\n",
    "## Data preparation\n",
    "# Data Splitting\n",
    "X_train, X_test, y_train, y_test = train_test_split(diabetes_clean[['Glucose','BMI','Age']], \n",
    "                                                    diabetes_clean['Outcome'], \n",
    "                                                    test_size=0.2)\n",
    "\n",
    "# Data transformation       \n",
    "scaler = StandardScaler()\n",
    "scaler.fit(X_train)\n",
    "X_train = scaler.transform(X_train)\n",
    "X_test = scaler.transform(X_test)\n",
    "\n",
    "\n",
    "\n",
    "## Model building\n",
    "model = Sequential()\n",
    "model.add(Input(shape=(3,)))\n",
    "model.add(Dense(1, activation='sigmoid'))\n",
    "\n",
    "## Model compilation\n",
    "# Loss function\n",
    "loss = BinaryCrossentropy()\n",
    "\n",
    "# Optimiser\n",
    "lr = 4e-2 \n",
    "optimiser = SGD(learning_rate=lr)\n",
    "\n",
    "model.compile(loss=loss,\n",
    "              optimizer=optimiser, \n",
    "              metrics=['accuracy'])\n",
    "\n",
    "## Model training\n",
    "epochs = 50\n",
    "batch_size = 16\n",
    "\n",
    "history = model.fit(x=X_train, y=y_train, \n",
    "                    validation_split=0.25,\n",
    "                    epochs=epochs,\n",
    "                    batch_size=batch_size)\n",
    "\n",
    "\n",
    "n_epochs = np.arange(0,epochs)\n",
    "\n",
    "fig, (ax1,ax2) = plt.subplots(2,1,figsize=(8,16))\n",
    "ax1.plot(n_epochs, history.history['loss'], label='training loss')\n",
    "ax1.plot(n_epochs, history.history['val_loss'], label='validation loss')\n",
    "ax1.set_ylim(-0.05,1.05)\n",
    "ax1.legend()\n",
    "\n",
    "ax2.plot(n_epochs, history.history['accuracy'], label='training accuracy')\n",
    "ax2.plot(n_epochs, history.history['val_accuracy'], label='validation accuracy')\n",
    "ax2.set_ylim(-0.05,1.05)\n",
    "ax2.legend()\n",
    "plt.show()\n",
    "\n",
    "## Prediciton\n",
    "y_pred = model.predict(X_test).ravel()\n",
    "\n",
    "## Model evaluation\n",
    "loss_and_metrics = model.evaluate(X_test, y_test, \n",
    "                                  batch_size=batch_size)\n",
    "\n",
    "fpr, tpr, thresholds_keras = roc_curve(y_test, y_pred)\n",
    "auc_keras = auc(fpr, tpr)\n",
    "\n",
    "fig, ax = plt.subplots(1,1,figsize=(12,8))\n",
    "ax.plot([0, 1], [0, 1], 'k--')\n",
    "ax.plot(fpr, tpr, label='Keras (area = {:.3f})'.format(auc_keras))\n",
    "ax.set_xlabel('False positive rate')\n",
    "ax.set_ylabel('True positive rate')\n",
    "ax.set_title('ROC curve')\n",
    "ax.legend(loc='best')\n",
    "\n",
    "plt.show()\n",
    "\n",
    "## Save model\n",
    "model.save('results/5_deep-learning/my_nn')"
   ],
   "outputs": [
    {
     "name": "stdout",
     "output_type": "stream",
     "text": [
      "Epoch 1/50\n",
      "28/28 [==============================] - 0s 4ms/step - loss: 0.5625 - accuracy: 0.7304 - val_loss: 0.5353 - val_accuracy: 0.7310\n",
      "Epoch 2/50\n",
      "28/28 [==============================] - 0s 1ms/step - loss: 0.5408 - accuracy: 0.7373 - val_loss: 0.5134 - val_accuracy: 0.7517\n",
      "Epoch 3/50\n",
      "28/28 [==============================] - 0s 1ms/step - loss: 0.5269 - accuracy: 0.7512 - val_loss: 0.4977 - val_accuracy: 0.7517\n",
      "Epoch 4/50\n",
      "28/28 [==============================] - 0s 1ms/step - loss: 0.5174 - accuracy: 0.7350 - val_loss: 0.4835 - val_accuracy: 0.7655\n",
      "Epoch 5/50\n",
      "28/28 [==============================] - 0s 1ms/step - loss: 0.5102 - accuracy: 0.7419 - val_loss: 0.4752 - val_accuracy: 0.7724\n",
      "Epoch 6/50\n",
      "28/28 [==============================] - 0s 1ms/step - loss: 0.5062 - accuracy: 0.7419 - val_loss: 0.4670 - val_accuracy: 0.7586\n",
      "Epoch 7/50\n",
      "28/28 [==============================] - 0s 1ms/step - loss: 0.5018 - accuracy: 0.7465 - val_loss: 0.4628 - val_accuracy: 0.7724\n",
      "Epoch 8/50\n",
      "28/28 [==============================] - 0s 1ms/step - loss: 0.4996 - accuracy: 0.7512 - val_loss: 0.4582 - val_accuracy: 0.7862\n",
      "Epoch 9/50\n",
      "28/28 [==============================] - 0s 984us/step - loss: 0.4974 - accuracy: 0.7442 - val_loss: 0.4570 - val_accuracy: 0.7862\n",
      "Epoch 10/50\n",
      "28/28 [==============================] - 0s 1ms/step - loss: 0.4964 - accuracy: 0.7488 - val_loss: 0.4557 - val_accuracy: 0.7862\n",
      "Epoch 11/50\n",
      "28/28 [==============================] - 0s 1ms/step - loss: 0.4960 - accuracy: 0.7488 - val_loss: 0.4544 - val_accuracy: 0.7862\n",
      "Epoch 12/50\n",
      "28/28 [==============================] - 0s 985us/step - loss: 0.4954 - accuracy: 0.7442 - val_loss: 0.4531 - val_accuracy: 0.7862\n",
      "Epoch 13/50\n",
      "28/28 [==============================] - 0s 992us/step - loss: 0.4949 - accuracy: 0.7465 - val_loss: 0.4512 - val_accuracy: 0.7862\n",
      "Epoch 14/50\n",
      "28/28 [==============================] - 0s 993us/step - loss: 0.4944 - accuracy: 0.7465 - val_loss: 0.4513 - val_accuracy: 0.7931\n",
      "Epoch 15/50\n",
      "28/28 [==============================] - 0s 1ms/step - loss: 0.4944 - accuracy: 0.7558 - val_loss: 0.4499 - val_accuracy: 0.8000\n",
      "Epoch 16/50\n",
      "28/28 [==============================] - 0s 1ms/step - loss: 0.4937 - accuracy: 0.7512 - val_loss: 0.4490 - val_accuracy: 0.8000\n",
      "Epoch 17/50\n",
      "28/28 [==============================] - 0s 991us/step - loss: 0.4936 - accuracy: 0.7558 - val_loss: 0.4481 - val_accuracy: 0.8000\n",
      "Epoch 18/50\n",
      "28/28 [==============================] - 0s 1ms/step - loss: 0.4935 - accuracy: 0.7558 - val_loss: 0.4470 - val_accuracy: 0.8000\n",
      "Epoch 19/50\n",
      "28/28 [==============================] - 0s 1ms/step - loss: 0.4934 - accuracy: 0.7535 - val_loss: 0.4483 - val_accuracy: 0.8000\n",
      "Epoch 20/50\n",
      "28/28 [==============================] - 0s 1ms/step - loss: 0.4934 - accuracy: 0.7535 - val_loss: 0.4474 - val_accuracy: 0.8000\n",
      "Epoch 21/50\n",
      "28/28 [==============================] - 0s 1ms/step - loss: 0.4934 - accuracy: 0.7512 - val_loss: 0.4469 - val_accuracy: 0.8000\n",
      "Epoch 22/50\n",
      "28/28 [==============================] - 0s 1ms/step - loss: 0.4933 - accuracy: 0.7535 - val_loss: 0.4458 - val_accuracy: 0.8069\n",
      "Epoch 23/50\n",
      "28/28 [==============================] - 0s 1ms/step - loss: 0.4932 - accuracy: 0.7558 - val_loss: 0.4446 - val_accuracy: 0.8069\n",
      "Epoch 24/50\n",
      "28/28 [==============================] - 0s 998us/step - loss: 0.4931 - accuracy: 0.7535 - val_loss: 0.4439 - val_accuracy: 0.8069\n",
      "Epoch 25/50\n",
      "28/28 [==============================] - 0s 1ms/step - loss: 0.4931 - accuracy: 0.7558 - val_loss: 0.4433 - val_accuracy: 0.8069\n",
      "Epoch 26/50\n",
      "28/28 [==============================] - 0s 1ms/step - loss: 0.4932 - accuracy: 0.7558 - val_loss: 0.4430 - val_accuracy: 0.8069\n",
      "Epoch 27/50\n",
      "28/28 [==============================] - 0s 1ms/step - loss: 0.4931 - accuracy: 0.7535 - val_loss: 0.4431 - val_accuracy: 0.8069\n",
      "Epoch 28/50\n",
      "28/28 [==============================] - 0s 1ms/step - loss: 0.4931 - accuracy: 0.7558 - val_loss: 0.4455 - val_accuracy: 0.8000\n",
      "Epoch 29/50\n",
      "28/28 [==============================] - 0s 987us/step - loss: 0.4933 - accuracy: 0.7581 - val_loss: 0.4459 - val_accuracy: 0.8000\n",
      "Epoch 30/50\n",
      "28/28 [==============================] - 0s 998us/step - loss: 0.4933 - accuracy: 0.7535 - val_loss: 0.4455 - val_accuracy: 0.8069\n",
      "Epoch 31/50\n",
      "28/28 [==============================] - 0s 983us/step - loss: 0.4931 - accuracy: 0.7558 - val_loss: 0.4484 - val_accuracy: 0.8000\n",
      "Epoch 32/50\n",
      "28/28 [==============================] - 0s 1ms/step - loss: 0.4936 - accuracy: 0.7558 - val_loss: 0.4484 - val_accuracy: 0.8000\n",
      "Epoch 33/50\n",
      "28/28 [==============================] - 0s 992us/step - loss: 0.4934 - accuracy: 0.7581 - val_loss: 0.4468 - val_accuracy: 0.8000\n",
      "Epoch 34/50\n",
      "28/28 [==============================] - 0s 1ms/step - loss: 0.4932 - accuracy: 0.7558 - val_loss: 0.4448 - val_accuracy: 0.8000\n",
      "Epoch 35/50\n",
      "28/28 [==============================] - 0s 1ms/step - loss: 0.4933 - accuracy: 0.7558 - val_loss: 0.4466 - val_accuracy: 0.8069\n",
      "Epoch 36/50\n",
      "28/28 [==============================] - 0s 1ms/step - loss: 0.4932 - accuracy: 0.7535 - val_loss: 0.4462 - val_accuracy: 0.8000\n",
      "Epoch 37/50\n",
      "28/28 [==============================] - 0s 1ms/step - loss: 0.4931 - accuracy: 0.7558 - val_loss: 0.4456 - val_accuracy: 0.8000\n",
      "Epoch 38/50\n",
      "28/28 [==============================] - 0s 1ms/step - loss: 0.4932 - accuracy: 0.7558 - val_loss: 0.4465 - val_accuracy: 0.8069\n",
      "Epoch 39/50\n",
      "28/28 [==============================] - 0s 1ms/step - loss: 0.4933 - accuracy: 0.7558 - val_loss: 0.4466 - val_accuracy: 0.8069\n",
      "Epoch 40/50\n",
      "28/28 [==============================] - 0s 1ms/step - loss: 0.4931 - accuracy: 0.7558 - val_loss: 0.4430 - val_accuracy: 0.8207\n",
      "Epoch 41/50\n",
      "28/28 [==============================] - 0s 1ms/step - loss: 0.4932 - accuracy: 0.7558 - val_loss: 0.4430 - val_accuracy: 0.8138\n",
      "Epoch 42/50\n",
      "28/28 [==============================] - 0s 1ms/step - loss: 0.4932 - accuracy: 0.7512 - val_loss: 0.4442 - val_accuracy: 0.8069\n",
      "Epoch 43/50\n",
      "28/28 [==============================] - 0s 1ms/step - loss: 0.4931 - accuracy: 0.7512 - val_loss: 0.4426 - val_accuracy: 0.8069\n",
      "Epoch 44/50\n",
      "28/28 [==============================] - 0s 1ms/step - loss: 0.4933 - accuracy: 0.7512 - val_loss: 0.4435 - val_accuracy: 0.8069\n",
      "Epoch 45/50\n",
      "28/28 [==============================] - 0s 1ms/step - loss: 0.4932 - accuracy: 0.7512 - val_loss: 0.4437 - val_accuracy: 0.8138\n",
      "Epoch 46/50\n",
      "28/28 [==============================] - 0s 1ms/step - loss: 0.4933 - accuracy: 0.7558 - val_loss: 0.4434 - val_accuracy: 0.8138\n",
      "Epoch 47/50\n",
      "28/28 [==============================] - 0s 1ms/step - loss: 0.4931 - accuracy: 0.7535 - val_loss: 0.4432 - val_accuracy: 0.8069\n",
      "Epoch 48/50\n",
      "28/28 [==============================] - 0s 1ms/step - loss: 0.4931 - accuracy: 0.7512 - val_loss: 0.4430 - val_accuracy: 0.8069\n",
      "Epoch 49/50\n",
      "28/28 [==============================] - 0s 1ms/step - loss: 0.4930 - accuracy: 0.7512 - val_loss: 0.4430 - val_accuracy: 0.8069\n",
      "Epoch 50/50\n",
      "28/28 [==============================] - 0s 997us/step - loss: 0.4931 - accuracy: 0.7535 - val_loss: 0.4431 - val_accuracy: 0.8069\n"
     ]
    },
    {
     "data": {
      "text/plain": [
       "<Figure size 800x1600 with 2 Axes>"
      ],
      "image/png": "[encoded data removed]"
     },
     "metadata": {},
     "output_type": "display_data"
    },
    {
     "name": "stdout",
     "output_type": "stream",
     "text": [
      "10/10 [==============================] - 0s 511us/step - loss: 0.4946 - accuracy: 0.7724\n"
     ]
    },
    {
     "data": {
      "text/plain": [
       "<Figure size 1200x800 with 1 Axes>"
      ],
      "image/png": "[encoded data removed]"
     },
     "metadata": {},
     "output_type": "display_data"
    },
    {
     "name": "stdout",
     "output_type": "stream",
     "text": [
      "INFO:tensorflow:Assets written to: results/5_deep-learning/my_nn/assets\n"
     ]
    }
   ],
   "execution_count": 32
  },
  {
   "cell_type": "markdown",
   "metadata": {
    "id": "XXnhc-0AUh-N"
   },
   "source": [
    "## 6. Discussion"
   ]
  },
  {
   "cell_type": "markdown",
   "metadata": {
    "id": "3aF_LeRsUh-N"
   },
   "source": [
    "In this notebook, the implementation of a neural network using the *Keras* library was introduced.\n",
    "The workflow to build and train a neural network was presented using a step-by-step introduction.\n",
    "- **Data Preparation:** We splitted the dataset and standardised the input features.\n",
    "- **Model Building:** We created a neural network using the Sequential model class and introduced dense and convolutional layers.\n",
    "- **Model compilaton:** We compiled a neural network and introduced different loss functions and optimisers.\n",
    "- **Model training:** We trained a neural network and visualised the training process.\n",
    "- **Model prediction and evaluation:** We used the trained network to predict the target variable and evaluated the network using different metrics.\n",
    "- **Save model:** We saved all model components in a single archive `SavedModel`"
   ]
  },
  {
   "cell_type": "markdown",
   "metadata": {
    "id": "H1S--I93Uh-N"
   },
   "source": [
    "## 7. Exercises"
   ]
  },
  {
   "cell_type": "markdown",
   "metadata": {
    "id": "v3vgvCFrUh-N"
   },
   "source": [
    "Now that you know the basics to implement a neural network in *Keras*, it's time for you to get your hands dirty and get started.\n",
    "\n",
    "*Tip:* The following resources might be helpful:\n",
    "- www.stackoverflow.com\n",
    "- Keras documentation: https://keras.io/api/"
   ]
  },
  {
   "cell_type": "markdown",
   "metadata": {
    "id": "a-k7cUjsUh-O"
   },
   "source": [
    "### 7.1 Fully-connected neural network (Basic)"
   ]
  },
  {
   "cell_type": "markdown",
   "metadata": {
    "id": "Jny6Au3PUh-P"
   },
   "source": [
    "<ins>**Task:**</ins> Please **implement your own classifier to predict the outcome classes** in the diabetes dataset. <br>\n",
    "<ins>**Model:**</ins> Use a **fully-connected neural network** with at least 1 hidden layer.<br> (*Note:* Since this is still a binary classification task, please use 1 unit and the sigmoid activation in your output layer.)<br>\n",
    "<ins>**Data:**</ins> Use all available data features to predict the outcome class. Split the data into training, validation and test set using a split of 60-20-20.\n",
    "\n",
    "*Do your results look different from the ones in the example above?*"
   ]
  },
  {
   "cell_type": "markdown",
   "metadata": {
    "id": "czwiTTuZUh-P"
   },
   "source": [
    "#### Data preparation"
   ]
  },
  {
   "cell_type": "code",
   "metadata": {
    "id": "phQ7DUzTUh-P",
    "ExecuteTime": {
     "end_time": "2024-09-28T09:51:32.876879Z",
     "start_time": "2024-09-28T09:51:32.874069Z"
    }
   },
   "source": [
    "### Data preparation ###\n",
    "# TO DO: Split and transform dataset\n",
    "\n",
    "\n"
   ],
   "outputs": [],
   "execution_count": 33
  },
  {
   "cell_type": "markdown",
   "metadata": {
    "id": "g_ySb_OPUh-Q"
   },
   "source": [
    "#### Model building"
   ]
  },
  {
   "cell_type": "code",
   "metadata": {
    "id": "DZziPuBQUh-Q",
    "ExecuteTime": {
     "end_time": "2024-09-28T10:02:23.145603Z",
     "start_time": "2024-09-28T10:02:23.116649Z"
    }
   },
   "source": [
    "### Model building ###\n",
    "model = Sequential()\n",
    "# TO DO: Create a neural network with at least 1 hidden layer\n",
    "\n",
    "\n",
    "\n",
    "model.summary()"
   ],
   "outputs": [
    {
     "ename": "ValueError",
     "evalue": "This model has not yet been built. Build the model first by calling `build()` or calling `fit()` with some data, or specify an `input_shape` argument in the first layer(s) for automatic build.",
     "output_type": "error",
     "traceback": [
      "\u001B[0;31m---------------------------------------------------------------------------\u001B[0m",
      "\u001B[0;31mValueError\u001B[0m                                Traceback (most recent call last)",
      "Cell \u001B[0;32mIn[57], line 7\u001B[0m\n\u001B[1;32m      2\u001B[0m model \u001B[38;5;241m=\u001B[39m Sequential()\n\u001B[1;32m      3\u001B[0m \u001B[38;5;66;03m# TO DO: Create a neural network with at least 1 hidden layer\u001B[39;00m\n\u001B[0;32m----> 7\u001B[0m \u001B[43mmodel\u001B[49m\u001B[38;5;241;43m.\u001B[39;49m\u001B[43msummary\u001B[49m\u001B[43m(\u001B[49m\u001B[43m)\u001B[49m\n",
      "File \u001B[0;32m/opt/anaconda3/envs/AIDrugDesign/lib/python3.9/site-packages/keras/engine/training.py:2521\u001B[0m, in \u001B[0;36mModel.summary\u001B[0;34m(self, line_length, positions, print_fn)\u001B[0m\n\u001B[1;32m   2503\u001B[0m \u001B[38;5;250m\u001B[39m\u001B[38;5;124;03m\"\"\"Prints a string summary of the network.\u001B[39;00m\n\u001B[1;32m   2504\u001B[0m \n\u001B[1;32m   2505\u001B[0m \u001B[38;5;124;03mArgs:\u001B[39;00m\n\u001B[0;32m   (...)\u001B[0m\n\u001B[1;32m   2518\u001B[0m \u001B[38;5;124;03m    ValueError: if `summary()` is called before the model is built.\u001B[39;00m\n\u001B[1;32m   2519\u001B[0m \u001B[38;5;124;03m\"\"\"\u001B[39;00m\n\u001B[1;32m   2520\u001B[0m \u001B[38;5;28;01mif\u001B[39;00m \u001B[38;5;129;01mnot\u001B[39;00m \u001B[38;5;28mself\u001B[39m\u001B[38;5;241m.\u001B[39mbuilt:\n\u001B[0;32m-> 2521\u001B[0m   \u001B[38;5;28;01mraise\u001B[39;00m \u001B[38;5;167;01mValueError\u001B[39;00m(\u001B[38;5;124m'\u001B[39m\u001B[38;5;124mThis model has not yet been built. \u001B[39m\u001B[38;5;124m'\u001B[39m\n\u001B[1;32m   2522\u001B[0m                    \u001B[38;5;124m'\u001B[39m\u001B[38;5;124mBuild the model first by calling `build()` or calling \u001B[39m\u001B[38;5;124m'\u001B[39m\n\u001B[1;32m   2523\u001B[0m                    \u001B[38;5;124m'\u001B[39m\u001B[38;5;124m`fit()` with some data, or specify \u001B[39m\u001B[38;5;124m'\u001B[39m\n\u001B[1;32m   2524\u001B[0m                    \u001B[38;5;124m'\u001B[39m\u001B[38;5;124man `input_shape` argument in the first layer(s) for \u001B[39m\u001B[38;5;124m'\u001B[39m\n\u001B[1;32m   2525\u001B[0m                    \u001B[38;5;124m'\u001B[39m\u001B[38;5;124mautomatic build.\u001B[39m\u001B[38;5;124m'\u001B[39m)\n\u001B[1;32m   2526\u001B[0m layer_utils\u001B[38;5;241m.\u001B[39mprint_summary(\u001B[38;5;28mself\u001B[39m,\n\u001B[1;32m   2527\u001B[0m                           line_length\u001B[38;5;241m=\u001B[39mline_length,\n\u001B[1;32m   2528\u001B[0m                           positions\u001B[38;5;241m=\u001B[39mpositions,\n\u001B[1;32m   2529\u001B[0m                           print_fn\u001B[38;5;241m=\u001B[39mprint_fn)\n",
      "\u001B[0;31mValueError\u001B[0m: This model has not yet been built. Build the model first by calling `build()` or calling `fit()` with some data, or specify an `input_shape` argument in the first layer(s) for automatic build."
     ]
    }
   ],
   "execution_count": 57
  },
  {
   "cell_type": "markdown",
   "metadata": {
    "id": "YicHVCCFUh-Q"
   },
   "source": [
    "#### Model compilation"
   ]
  },
  {
   "cell_type": "code",
   "execution_count": null,
   "metadata": {
    "id": "ujSj8JNGUh-Q"
   },
   "outputs": [],
   "source": [
    "# TO DO: Define loss function and optimiser\n",
    "\n",
    "\n",
    "# TO DO: compile model\n",
    "\n",
    "\n"
   ]
  },
  {
   "cell_type": "markdown",
   "metadata": {
    "id": "3DS2NSSRUh-Q"
   },
   "source": [
    "#### Model training"
   ]
  },
  {
   "cell_type": "code",
   "metadata": {
    "id": "j7u9YkQ0Uh-Q",
    "ExecuteTime": {
     "end_time": "2024-09-28T09:51:39.573047Z",
     "start_time": "2024-09-28T09:51:39.569634Z"
    }
   },
   "source": [
    "# TO DO: Choose the training length and batch size\n",
    "\n",
    "history = # TO DO: Train your model (Don't forget validation_split)\n",
    "\n"
   ],
   "outputs": [
    {
     "ename": "SyntaxError",
     "evalue": "invalid syntax (2071666984.py, line 3)",
     "output_type": "error",
     "traceback": [
      "\u001B[0;36m  Cell \u001B[0;32mIn[35], line 3\u001B[0;36m\u001B[0m\n\u001B[0;31m    history = # TO DO: Train your model (Don't forget validation_split)\u001B[0m\n\u001B[0m              ^\u001B[0m\n\u001B[0;31mSyntaxError\u001B[0m\u001B[0;31m:\u001B[0m invalid syntax\n"
     ]
    }
   ],
   "execution_count": 35
  },
  {
   "cell_type": "code",
   "metadata": {
    "id": "92pv2JUzUh-R",
    "ExecuteTime": {
     "end_time": "2024-09-28T09:51:40.059389Z",
     "start_time": "2024-09-28T09:51:39.848749Z"
    }
   },
   "source": [
    "n_epochs = np.arange(0,epochs)\n",
    "\n",
    "fig, (ax1,ax2) = plt.subplots(2,1,figsize=(8,16))\n",
    "ax1.plot(n_epochs, history.history['loss'], label='training loss')\n",
    "ax1.plot(n_epochs, history.history['val_loss'], label='validation loss')\n",
    "ax1.set_ylim(-0.05,1.05)\n",
    "ax1.legend()\n",
    "\n",
    "ax2.plot(n_epochs, history.history['accuracy'], label='training accuracy')\n",
    "ax2.plot(n_epochs, history.history['val_accuracy'], label='validation accuracy')\n",
    "ax2.set_ylim(-0.05,1.05)\n",
    "ax2.legend()\n",
    "plt.show()"
   ],
   "outputs": [
    {
     "data": {
      "text/plain": [
       "<Figure size 800x1600 with 2 Axes>"
      ],
      "image/png": "[encoded data removed]"
     },
     "metadata": {},
     "output_type": "display_data"
    }
   ],
   "execution_count": 36
  },
  {
   "cell_type": "markdown",
   "metadata": {
    "id": "Ub7ZLspqUh-R"
   },
   "source": [
    "#### Model evaluation"
   ]
  },
  {
   "cell_type": "code",
   "metadata": {
    "id": "4Rz2Wg58Uh-R",
    "ExecuteTime": {
     "end_time": "2024-09-28T09:51:40.155628Z",
     "start_time": "2024-09-28T09:51:40.152960Z"
    }
   },
   "source": [
    "# TO DO: Calculate test loss and accurcy"
   ],
   "outputs": [],
   "execution_count": 37
  },
  {
   "cell_type": "code",
   "metadata": {
    "id": "5oL2ZXgbUh-R",
    "ExecuteTime": {
     "end_time": "2024-09-28T09:51:40.317104Z",
     "start_time": "2024-09-28T09:51:40.315065Z"
    }
   },
   "source": [],
   "outputs": [],
   "execution_count": null
  },
  {
   "cell_type": "code",
   "metadata": {
    "id": "Jhdgx4uvUh-R",
    "ExecuteTime": {
     "end_time": "2024-09-28T09:51:40.878863Z",
     "start_time": "2024-09-28T09:51:40.876885Z"
    }
   },
   "source": [],
   "outputs": [],
   "execution_count": null
  },
  {
   "cell_type": "markdown",
   "metadata": {
    "id": "_bOg7qVCUh-S"
   },
   "source": [
    "### 7.2 Convolutional neural network (Advanced)"
   ]
  },
  {
   "cell_type": "markdown",
   "metadata": {
    "id": "0a707cYtUh-S"
   },
   "source": [
    "The second task is to implement a multi-class image classifier for the famous MNIST dataset. This dataset contains 70,000 (28*28 pixel) images of digits 0-9.\n",
    "\n",
    "<img src=\"https://upload.wikimedia.org/wikipedia/commons/2/27/MnistExamples.png\" width=\"40%\">\n",
    "\n",
    "*Source: https://upload.wikimedia.org/wikipedia/commons/2/27/MnistExamples.png*\n",
    "\n",
    "\n",
    "<ins>**Task:**</ins> Please **implement your own multi-class image classifier to predict the outcome classes** in the MNIST dataset. Can you get a **model accuracy of $> 0.98$?** <br>\n",
    "<ins>**Model:**</ins> Use a **convolutional neural network** with at least 1 hidden convolutional layer.<br> (*Note:* Since this is still a multi-class classification task, please use 10 units and the softmax activation in your output layer.)<br>\n",
    "<ins>**Data:**</ins> Use the 28*28 pixel images to predict the digit class.\n"
   ]
  },
  {
   "cell_type": "markdown",
   "metadata": {
    "id": "0fr0snQswRkR"
   },
   "source": [
    "#### Hardware acceleration (Colab users only!)"
   ]
  },
  {
   "cell_type": "markdown",
   "metadata": {
    "id": "kZ7bt-EzwdIn"
   },
   "source": [
    "When using high-dimensional data (e.g., images), training your network on a CPU is very slow. Hardware accelarators like GPUs or TPUs decrease the training time by parallelising the your computations. Colab allows us to use a TPU to train our neural network. To use such kind of hardware acceleration, select the device: Runtime > change runtime type > Hardware accelarator > GPU/TPU. After changing the runtime type, all the data in memory is lost; so, you have to import all libraries again.\n",
    "\n",
    "For this tutorial, please use a TPU for your training and run the following cell."
   ]
  },
  {
   "cell_type": "code",
   "metadata": {
    "ExecuteTime": {
     "end_time": "2024-09-28T09:51:47.844193Z",
     "start_time": "2024-09-28T09:51:47.841199Z"
    }
   },
   "source": [
    "import tensorflow as tf\n",
    "import matplotlib.pyplot as plt\n",
    "import numpy as np"
   ],
   "outputs": [],
   "execution_count": 40
  },
  {
   "cell_type": "code",
   "metadata": {
    "colab": {
     "base_uri": "https://localhost:8080/"
    },
    "id": "FujHii7Bcmt1",
    "outputId": "8db9d990-0fec-44ad-e76c-e575f79b3fc9",
    "ExecuteTime": {
     "end_time": "2024-09-28T09:53:31.322822Z",
     "start_time": "2024-09-28T09:53:31.300807Z"
    }
   },
   "source": [
    "import tensorflow as tf\n",
    "\n",
    "# 打印 TensorFlow 版本\n",
    "print(\"TensorFlow version: \", tf.__version__)\n",
    "\n",
    "# 尝试检测 TPU，并相应地配置策略\n",
    "try:\n",
    "    tpu = tf.distribute.cluster_resolver.TPUClusterResolver()  # 尝试检测 TPU\n",
    "    print(\"Running on TPU: \", tpu.cluster_spec().as_dict()['worker'])\n",
    "\n",
    "    # 连接 TPU 并初始化系统\n",
    "    tf.config.experimental_connect_to_cluster(tpu)\n",
    "    tf.tpu.experimental.initialize_tpu_system(tpu)\n",
    "    strategy = tf.distribute.TPUStrategy(tpu)\n",
    "except (ValueError, KeyError):\n",
    "    print(\"No TPU detected, checking for GPU...\")\n",
    "\n",
    "    # 检测 GPU\n",
    "    gpus = tf.config.list_logical_devices(\"GPU\")\n",
    "    if gpus:\n",
    "        print(f\"Running on GPU: {len(gpus)} GPU(s) detected\")\n",
    "        strategy = tf.distribute.MirroredStrategy()  # 在多 GPU 上并行训练\n",
    "    else:\n",
    "        print(\"No GPU detected, using CPU.\")\n",
    "        strategy = tf.distribute.get_strategy()  # 默认策略（CPU）\n",
    "\n",
    "# 打印最终使用的策略\n",
    "print(f\"Using strategy: {strategy}\")\n",
    "\n",
    "# 在分布式策略下编写模型训练的逻辑\n",
    "with strategy.scope():\n",
    "    model = tf.keras.models.Sequential([\n",
    "        tf.keras.layers.Dense(128, activation='relu', input_shape=(784,)),\n",
    "        tf.keras.layers.Dense(10, activation='softmax')\n",
    "    ])\n",
    "    \n",
    "    model.compile(\n",
    "        optimizer='adam',\n",
    "        loss='sparse_categorical_crossentropy',\n",
    "        metrics=['accuracy']\n",
    "    )\n",
    "\n",
    "# 输出模型概览\n",
    "model.summary()\n",
    "\n"
   ],
   "outputs": [
    {
     "name": "stdout",
     "output_type": "stream",
     "text": [
      "TensorFlow version:  2.6.0\n",
      "No TPU detected, checking for GPU...\n",
      "No GPU detected, using CPU.\n",
      "Using strategy: <tensorflow.python.distribute.distribute_lib._DefaultDistributionStrategy object at 0x14c20ba60>\n",
      "Model: \"sequential_8\"\n",
      "_________________________________________________________________\n",
      "Layer (type)                 Output Shape              Param #   \n",
      "=================================================================\n",
      "dense_6 (Dense)              (None, 128)               100480    \n",
      "_________________________________________________________________\n",
      "dense_7 (Dense)              (None, 10)                1290      \n",
      "=================================================================\n",
      "Total params: 101,770\n",
      "Trainable params: 101,770\n",
      "Non-trainable params: 0\n",
      "_________________________________________________________________\n"
     ]
    }
   ],
   "execution_count": 43
  },
  {
   "metadata": {
    "ExecuteTime": {
     "end_time": "2024-09-28T09:57:38.009392Z",
     "start_time": "2024-09-28T09:57:38.006044Z"
    }
   },
   "cell_type": "code",
   "source": "print(strategy)",
   "outputs": [
    {
     "name": "stdout",
     "output_type": "stream",
     "text": [
      "<tensorflow.python.distribute.distribute_lib._DefaultDistributionStrategy object at 0x14c20ba60>\n"
     ]
    }
   ],
   "execution_count": 50
  },
  {
   "cell_type": "markdown",
   "metadata": {
    "id": "U6BbEM5LUh-S"
   },
   "source": [
    "#### Data preparation"
   ]
  },
  {
   "cell_type": "markdown",
   "metadata": {
    "id": "V6URfze6Uh-S"
   },
   "source": [
    "Before we can use the MNIST data to predict the class labels, we have to **split** the dataset, **normalise** (transform range from 0-255 to 0-1) and reshape the data and **one-hot encode** the target. The data preparation step is already done for you, just execute the following cell and check the data."
   ]
  },
  {
   "cell_type": "code",
   "metadata": {
    "id": "zDmzkfsoUh-S",
    "ExecuteTime": {
     "end_time": "2024-09-28T09:53:49.735659Z",
     "start_time": "2024-09-28T09:53:49.190330Z"
    }
   },
   "source": [
    "# Import the MNIST dataset\n",
    "from tensorflow.keras.datasets import mnist\n",
    "from tensorflow.keras.utils import to_categorical\n",
    "\n",
    "# Load MNIST images and labels and normalise (range 0 to 1) image data\n",
    "(X_train, y_train), (X_test, y_test) = mnist.load_data() # 60,000 training + 10,000 test images/labels\n",
    "X_train = X_train / 255.0\n",
    "X_test  = X_test / 255.0\n",
    "\n",
    "# Reshape dataset to have a single channel \n",
    "X_train = X_train.reshape((X_train.shape[0], 28, 28, 1)) # The CNN requires this layout (batch_size, height, width, n_channels)\n",
    "X_test = X_test.reshape((X_test.shape[0], 28, 28, 1)) # The CNN requires this layout (batch_size, height, width, n_channels)\n",
    "\n",
    "# One-hot encode target values\n",
    "y_train = to_categorical(y_train)\n",
    "y_test = to_categorical(y_test)"
   ],
   "outputs": [],
   "execution_count": 44
  },
  {
   "cell_type": "markdown",
   "metadata": {
    "id": "uvMb_jKuUh-T"
   },
   "source": [
    "Let's have a look at the image data..."
   ]
  },
  {
   "cell_type": "code",
   "metadata": {
    "colab": {
     "base_uri": "https://localhost:8080/",
     "height": 195
    },
    "id": "5uYuYEvtUh-T",
    "outputId": "110a2128-3a46-47ae-eee2-4d6e4d3609c5",
    "scrolled": true,
    "ExecuteTime": {
     "end_time": "2024-09-28T09:53:55.344118Z",
     "start_time": "2024-09-28T09:53:54.828003Z"
    }
   },
   "source": [
    "fig, (ax1,ax2,ax3,ax4) = plt.subplots(1,4, figsize=(12,4))\n",
    "ax1.imshow(X_train[0,:,:,0])\n",
    "ax2.imshow(X_train[1,:,:,0])\n",
    "ax3.imshow(X_train[2,:,:,0])\n",
    "ax4.imshow(X_train[3,:,:,0]);"
   ],
   "outputs": [
    {
     "data": {
      "text/plain": [
       "<Figure size 1200x400 with 4 Axes>"
      ],
      "image/png": "[encoded data removed]"
     },
     "metadata": {},
     "output_type": "display_data"
    }
   ],
   "execution_count": 45
  },
  {
   "cell_type": "markdown",
   "metadata": {
    "id": "UlXwmgIiUh-T"
   },
   "source": [
    "and the one-hot encoded target variable."
   ]
  },
  {
   "cell_type": "code",
   "metadata": {
    "colab": {
     "base_uri": "https://localhost:8080/"
    },
    "id": "BTOe7H8eUh-T",
    "outputId": "bde5a4e9-f1a5-4cbf-b266-291adc876f42",
    "ExecuteTime": {
     "end_time": "2024-09-28T09:54:25.642301Z",
     "start_time": "2024-09-28T09:54:25.638239Z"
    }
   },
   "source": [
    "y_train[:4]"
   ],
   "outputs": [
    {
     "data": {
      "text/plain": [
       "array([[0., 0., 0., 0., 0., 1., 0., 0., 0., 0.],\n",
       "       [1., 0., 0., 0., 0., 0., 0., 0., 0., 0.],\n",
       "       [0., 0., 0., 0., 1., 0., 0., 0., 0., 0.],\n",
       "       [0., 1., 0., 0., 0., 0., 0., 0., 0., 0.]], dtype=float32)"
      ]
     },
     "execution_count": 47,
     "metadata": {},
     "output_type": "execute_result"
    }
   ],
   "execution_count": 47
  },
  {
   "cell_type": "markdown",
   "metadata": {
    "id": "M3uYMIOtUh-U"
   },
   "source": [
    "Instead of the categorical class values, we now have a vector of length equal to the number of categories. The i-th component is equal to 1 if target is assigned to the i-th category and all other components are 0. By using this transformation, we transform the categorical variable into a numerical form."
   ]
  },
  {
   "cell_type": "markdown",
   "metadata": {
    "id": "ZzPEZojLUh-U"
   },
   "source": [
    "#### Model building"
   ]
  },
  {
   "cell_type": "markdown",
   "metadata": {
    "id": "dYBab8vqUh-U"
   },
   "source": [
    "Now, it's time to implement your convolutional neural network. The last layer of the network is a fully-connected output layer with 10 units and softmax activation function, since we have a classification task with 10 classes."
   ]
  },
  {
   "cell_type": "markdown",
   "metadata": {
    "id": "Zr1HsRSw3RY_"
   },
   "source": [
    "**Colab users only!**"
   ]
  },
  {
   "cell_type": "code",
   "metadata": {
    "colab": {
     "base_uri": "https://localhost:8080/"
    },
    "id": "luDQB20wUh-U",
    "outputId": "e87b2d9a-f80b-43a8-efdd-355ec833f671",
    "ExecuteTime": {
     "end_time": "2024-09-28T10:01:12.731489Z",
     "start_time": "2024-09-28T10:01:12.705553Z"
    }
   },
   "source": [
    "from tensorflow.keras.layers import Flatten, Conv2D, Dense, Input  # 正确导入所需的层\n",
    "from tensorflow.keras.models import Sequential\n",
    "\n",
    "# 使用 TPU 或其他策略\n",
    "with strategy.scope():\n",
    "    model = Sequential()\n",
    "    \n",
    "    # 输入层：28x28的单通道图像 (灰度图像)\n",
    "    model.add(Input(shape=(28, 28, 1)))\n",
    "    \n",
    "    # 添加卷积层\n",
    "    model.add(Conv2D(filters=32, kernel_size=(3, 3), activation='relu'))  # 32个3x3卷积核\n",
    "    \n",
    "    # 添加Flatten层，将二维特征图展平成向量\n",
    "    model.add(Flatten())\n",
    "    \n",
    "    # 添加全连接层，输出10个类别\n",
    "    model.add(Dense(10, activation='softmax'))\n",
    "\n",
    "# 打印模型结构\n",
    "model.summary()\n"
   ],
   "outputs": [
    {
     "name": "stdout",
     "output_type": "stream",
     "text": [
      "Model: \"sequential_9\"\n",
      "_________________________________________________________________\n",
      "Layer (type)                 Output Shape              Param #   \n",
      "=================================================================\n",
      "conv2d (Conv2D)              (None, 26, 26, 32)        320       \n",
      "_________________________________________________________________\n",
      "flatten (Flatten)            (None, 21632)             0         \n",
      "_________________________________________________________________\n",
      "dense_8 (Dense)              (None, 10)                216330    \n",
      "=================================================================\n",
      "Total params: 216,650\n",
      "Trainable params: 216,650\n",
      "Non-trainable params: 0\n",
      "_________________________________________________________________\n"
     ]
    }
   ],
   "execution_count": 53
  },
  {
   "cell_type": "markdown",
   "metadata": {
    "id": "ZzpKEcyT3r9E"
   },
   "source": [
    "**Non-Colab users only!**"
   ]
  },
  {
   "cell_type": "code",
   "metadata": {
    "id": "uRWYC2IN3cOC",
    "ExecuteTime": {
     "end_time": "2024-09-28T10:01:47.111979Z",
     "start_time": "2024-09-28T10:01:47.093771Z"
    }
   },
   "source": [
    "from tensorflow.keras.layers import Flatten, Conv2D, Dense, Input  # 正确导入所需的层\n",
    "from tensorflow.keras.models import Sequential\n",
    "model = Sequential()\n",
    "model.add(Input(shape=(28,28,1)))\n",
    "\n",
    "# TO DO: Add at least 1 convolutional layer\n",
    "\n",
    "model.add(Flatten()) # This flattens your image with width and height into a vector of length widht*height. \n",
    "model.add(Dense(10, activation='softmax')) \n",
    "\n",
    "model.summary()"
   ],
   "outputs": [
    {
     "name": "stdout",
     "output_type": "stream",
     "text": [
      "Model: \"sequential_10\"\n",
      "_________________________________________________________________\n",
      "Layer (type)                 Output Shape              Param #   \n",
      "=================================================================\n",
      "flatten_1 (Flatten)          (None, 784)               0         \n",
      "_________________________________________________________________\n",
      "dense_9 (Dense)              (None, 10)                7850      \n",
      "=================================================================\n",
      "Total params: 7,850\n",
      "Trainable params: 7,850\n",
      "Non-trainable params: 0\n",
      "_________________________________________________________________\n"
     ]
    }
   ],
   "execution_count": 55
  },
  {
   "cell_type": "markdown",
   "metadata": {
    "id": "c73CAtOHUh-V"
   },
   "source": [
    "#### Model compilation"
   ]
  },
  {
   "cell_type": "markdown",
   "metadata": {
    "id": "5uMpREwKyLl6"
   },
   "source": [
    "Here, we have a multi-class problem; therefore, you can't use the binary cross-entropy loss. Do you know a loss function which you can use in this setting?"
   ]
  },
  {
   "cell_type": "code",
   "metadata": {
    "id": "F-loiCMoUh-V",
    "ExecuteTime": {
     "end_time": "2024-09-28T10:01:52.127803Z",
     "start_time": "2024-09-28T10:01:52.123145Z"
    }
   },
   "source": [
    "from tensorflow.keras.losses import # TO DO: Import loss function\n",
    "from tensorflow.keras.optimizers import # TO DO: Import optimiser\n",
    "\n",
    "loss = # TO DO: Define loss function\n",
    "optimiser = # TO DO: Define optimiser\n",
    "\n",
    "# TO DO: Compile your model"
   ],
   "outputs": [
    {
     "ename": "SyntaxError",
     "evalue": "invalid syntax (3524855220.py, line 1)",
     "output_type": "error",
     "traceback": [
      "\u001B[0;36m  Cell \u001B[0;32mIn[56], line 1\u001B[0;36m\u001B[0m\n\u001B[0;31m    from tensorflow.keras.losses import # TO DO: Import loss function\u001B[0m\n\u001B[0m                                        ^\u001B[0m\n\u001B[0;31mSyntaxError\u001B[0m\u001B[0;31m:\u001B[0m invalid syntax\n"
     ]
    }
   ],
   "execution_count": 56
  },
  {
   "cell_type": "markdown",
   "metadata": {
    "id": "H07mRdelUh-V"
   },
   "source": [
    "#### Model training"
   ]
  },
  {
   "cell_type": "markdown",
   "metadata": {
    "id": "Hwj4ti0oUh-V"
   },
   "source": [
    "Please train your model choosing an adequate number of epochs and batch size. To validate your model, use `validation_split = 0.1`.\n",
    "\n",
    "*Recommendation:* For non-Colab users, please use $\\leq 2$ epochs to train your network."
   ]
  },
  {
   "cell_type": "code",
   "execution_count": null,
   "metadata": {
    "id": "lGF5gg9kUh-W"
   },
   "outputs": [],
   "source": [
    "# Define number of epochs and batch size\n",
    "epochs = # TO DO: Choose number of epochs\n",
    "batch_size = # TO DO: Choose batch size\n",
    "\n",
    "history = # TO DO: Train your model (Don't forget validation_split!)\n"
   ]
  },
  {
   "cell_type": "code",
   "execution_count": null,
   "metadata": {
    "id": "7a_dlAQZUh-W"
   },
   "outputs": [],
   "source": [
    "n_epochs = np.arange(0,20)\n",
    "\n",
    "fig, (ax1,ax2) = plt.subplots(2,1,figsize=(8,16))\n",
    "ax1.plot(n_epochs, history.history['loss'], label='training loss')\n",
    "ax1.plot(n_epochs, history.history['val_loss'], label='validation loss')\n",
    "ax1.set_ylim(-0.05,1.05)\n",
    "ax1.legend()\n",
    "\n",
    "ax2.plot(n_epochs, history.history['accuracy'], label='training accuracy')\n",
    "ax2.plot(n_epochs, history.history['val_accuracy'], label='validation accuracy')\n",
    "ax2.set_ylim(-0.05,1.05)\n",
    "ax2.legend()\n",
    "\n",
    "plt.show()"
   ]
  },
  {
   "cell_type": "markdown",
   "metadata": {
    "id": "-Fdb9yHdUh-X"
   },
   "source": [
    "#### Model evaluation"
   ]
  },
  {
   "cell_type": "code",
   "execution_count": null,
   "metadata": {
    "id": "1UHhheIBUh-X"
   },
   "outputs": [],
   "source": [
    "# TO DO: Calculate test loss and accuracy"
   ]
  },
  {
   "cell_type": "code",
   "execution_count": null,
   "metadata": {
    "id": "nehuxiYjUh-X"
   },
   "outputs": [],
   "source": []
  },
  {
   "cell_type": "markdown",
   "metadata": {
    "id": "Iz1gBS3VUh-X"
   },
   "source": [
    "## 8. Solutions"
   ]
  },
  {
   "cell_type": "markdown",
   "metadata": {
    "id": "olNYzb3eUh-X"
   },
   "source": [
    "### 1) Fully-connected neural network"
   ]
  },
  {
   "cell_type": "markdown",
   "metadata": {
    "id": "W-PeqRuxUh-X"
   },
   "source": [
    "<ins>**Task:**</ins> Please **implement your own classifier to predict the outcome classes** in the diabetes dataset. <br>\n",
    "<ins>**Model:**</ins> Use a **fully-connected neural network** with at least 1 hidden layer.<br> (*Note:* Since this is still a binary classification task, please use 1 unit and the sigmoid activation in your output layer.)<br>\n",
    "<ins>**Data:**</ins> Use all available data features to predict the outcome class. Split the data into training, validation and test set using a split of 60-20-20.\n",
    "\n",
    "The following solution consider a fully-connected neural network with the following architecture:\n",
    "- <ins>input layer</ins> with 8 units,\n",
    "- <ins>1st hidden layer</ins> with **6 units** and **ReLu** activations,\n",
    "- <ins>2nd hidden layer</ins> with **6 units** and **tanh** activations,\n",
    "- <ins>3rd hidden layer</ins> with **4 units** and **tanh** activations,\n",
    "- <ins>output layer</ins> with **1 unit** and **sigmoid** activation."
   ]
  },
  {
   "cell_type": "markdown",
   "metadata": {
    "id": "0XECT_D5Uh-Y"
   },
   "source": [
    "**Data preparation**"
   ]
  },
  {
   "cell_type": "code",
   "execution_count": null,
   "metadata": {
    "id": "QXvxUBjaUh-Y"
   },
   "outputs": [],
   "source": [
    "# Data Splitting\n",
    "X_train, X_test, y_train, y_test = train_test_split(diabetes.iloc[:,:-1], \n",
    "                                                    diabetes['Outcome'], \n",
    "                                                    test_size=0.2)\n",
    "\n",
    "# Data transformation       \n",
    "scaler = StandardScaler()\n",
    "scaler.fit(X_train)\n",
    "X_train = scaler.transform(X_train)\n",
    "X_test = scaler.transform(X_test)"
   ]
  },
  {
   "cell_type": "markdown",
   "metadata": {
    "id": "85RUvcV3Uh-Y"
   },
   "source": [
    "**Model building**"
   ]
  },
  {
   "cell_type": "code",
   "execution_count": null,
   "metadata": {
    "colab": {
     "base_uri": "https://localhost:8080/"
    },
    "id": "jtAqS2TQUh-Y",
    "outputId": "f58b69bc-ab4e-4aa8-dfb7-40c1a5c523ba"
   },
   "outputs": [],
   "source": [
    "## Model building\n",
    "model = Sequential()\n",
    "model.add(Input(shape=(8,)))\n",
    "model.add(Dense(6, activation='relu'))\n",
    "model.add(Dense(6, activation='tanh'))\n",
    "model.add(Dense(6, activation='tanh'))\n",
    "model.add(Dense(1, activation='sigmoid'))\n",
    "\n",
    "model.summary()"
   ]
  },
  {
   "cell_type": "markdown",
   "metadata": {
    "id": "UvG9OjLdUh-Y"
   },
   "source": [
    "**Model compilation**"
   ]
  },
  {
   "cell_type": "code",
   "execution_count": null,
   "metadata": {
    "id": "rHqe1wjNUh-Y"
   },
   "outputs": [],
   "source": [
    "from tensorflow.keras.optimizers import Adam\n",
    "\n",
    "# Loss function\n",
    "loss = BinaryCrossentropy()\n",
    "\n",
    "# Optimiser\n",
    "lr = 1e-3\n",
    "#optimiser = SGD(learning_rate=lr)\n",
    "optimiser = SGD(learning_rate=lr)\n",
    "\n",
    "model.compile(loss=loss,\n",
    "              optimizer=optimiser, \n",
    "              metrics=['accuracy'])"
   ]
  },
  {
   "cell_type": "markdown",
   "metadata": {
    "id": "9JBmuGEQUh-Z"
   },
   "source": [
    "**Model training**"
   ]
  },
  {
   "cell_type": "code",
   "execution_count": null,
   "metadata": {
    "colab": {
     "base_uri": "https://localhost:8080/",
     "height": 1000
    },
    "id": "C5sQs8jKUh-Z",
    "outputId": "c11edd74-c533-4471-9a1b-eba10dce191f"
   },
   "outputs": [],
   "source": [
    "## Model training\n",
    "epochs = 50\n",
    "batch_size = 16\n",
    "\n",
    "history = model.fit(x=X_train, y=y_train, \n",
    "                    validation_split=0.25,\n",
    "                    epochs=epochs,\n",
    "                    batch_size=batch_size)\n",
    "\n",
    "\n",
    "n_epochs = np.arange(0,epochs)\n",
    "\n",
    "fig, (ax1,ax2) = plt.subplots(2,1,figsize=(8,16))\n",
    "ax1.plot(n_epochs, history.history['loss'], label='training loss')\n",
    "ax1.plot(n_epochs, history.history['val_loss'], label='validation loss')\n",
    "ax1.set_ylim(-0.05,1.05)\n",
    "ax1.legend()\n",
    "\n",
    "ax2.plot(n_epochs, history.history['accuracy'], label='training accuracy')\n",
    "ax2.plot(n_epochs, history.history['val_accuracy'], label='validation accuracy')\n",
    "ax2.set_ylim(-0.05,1.05)\n",
    "ax2.legend()\n",
    "plt.show()"
   ]
  },
  {
   "cell_type": "markdown",
   "metadata": {
    "id": "BENpofJbUh-Z"
   },
   "source": [
    "**Model evaluation**"
   ]
  },
  {
   "cell_type": "code",
   "execution_count": null,
   "metadata": {
    "colab": {
     "base_uri": "https://localhost:8080/"
    },
    "id": "ugjjIBXSUh-a",
    "outputId": "39cd1121-539f-4053-f276-aad87fbb1cc9"
   },
   "outputs": [],
   "source": [
    "loss_and_metrics = model.evaluate(X_test, y_test, \n",
    "                                  batch_size=batch_size)"
   ]
  },
  {
   "cell_type": "markdown",
   "metadata": {
    "id": "LWSbmOPGUh-a"
   },
   "source": [
    "### 2) Convolutional Neural Network"
   ]
  },
  {
   "cell_type": "markdown",
   "metadata": {
    "id": "0SZE57X7Uh-a"
   },
   "source": [
    "<ins>**Task:**</ins> Please **implement your own multi-class image classifier to predict the outcome classes** in the diabetes dataset. <br>\n",
    "<ins>**Model:**</ins> Use a **convolutional neural network** with at least 1 hidden convolutional layer.<br> (*Note:* Since this is still a multi-class classification task, please use 10 units and the softmax activation in your output layer.)<br>\n",
    "<ins>**Data:**</ins> Use the 28*28 pixel images to predict the digit class."
   ]
  },
  {
   "cell_type": "markdown",
   "metadata": {
    "id": "XCl6xpkYUh-a"
   },
   "source": [
    "The following solution consider a convolutional neural network with the following architecture:\n",
    "- <ins>input</ins> shape $28 \\times 28 \\times 1$,\n",
    "- <ins>1st hidden (convolutional) layer</ins> with **32 filters**, **kernel size (3,3)**, **stride (1,1)** and **ReLu** activations,\n",
    "- <ins>2nd hidden (convolutional) layer</ins> with **64 filters**, **kernel size (3,3)**, **stride (1,1)** and **ReLu** activations,\n",
    "- <ins>3rd hidden (convolutional) layer</ins> with **256 filters**, **kernel size (3,3)**, **stride (1,1)** and **tanh** activations,\n",
    "- <ins>output layer</ins> with **10 units** and **softmax** activation."
   ]
  },
  {
   "cell_type": "markdown",
   "metadata": {
    "id": "vSqvLQGTUh-b"
   },
   "source": [
    "**Data Preparation**"
   ]
  },
  {
   "cell_type": "code",
   "execution_count": null,
   "metadata": {
    "id": "2c-WB7USUh-b"
   },
   "outputs": [],
   "source": [
    "# Import the MNIST dataset\n",
    "from tensorflow.keras.datasets import mnist\n",
    "from tensorflow.keras.utils import to_categorical\n",
    "\n",
    "# Load MNIST images and labels and normalise (range 0 to 1) image data\n",
    "(X_train, y_train), (X_test, y_test) = mnist.load_data() # 60,000 training + 10,000 test images/labels\n",
    "X_train = X_train / 255.0\n",
    "X_test  = X_test / 255.0\n",
    "\n",
    "# Reshape dataset to have a single channel \n",
    "X_train = X_train.reshape((X_train.shape[0], 28, 28, 1)) # The CNN requires this layout (batch_size, height, width, n_channels)\n",
    "X_test = X_test.reshape((X_test.shape[0], 28, 28, 1)) # The CNN requires this layout (batch_size, height, width, n_channels)\n",
    "\n",
    "# One-hot encode target values\n",
    "y_train = to_categorical(y_train)\n",
    "y_test = to_categorical(y_test)"
   ]
  },
  {
   "cell_type": "markdown",
   "metadata": {
    "id": "ek8NxwWtUh-b"
   },
   "source": [
    "**Model building**"
   ]
  },
  {
   "cell_type": "markdown",
   "metadata": {},
   "source": [
    "For Colab-users:"
   ]
  },
  {
   "cell_type": "code",
   "execution_count": null,
   "metadata": {
    "colab": {
     "base_uri": "https://localhost:8080/"
    },
    "id": "2pJdleZDUh-c",
    "outputId": "1a9ed8fe-f461-45e0-e71f-8a43277f278d"
   },
   "outputs": [],
   "source": [
    "from tensorflow.keras.models import Sequential\n",
    "from tensorflow.keras.layers import Input, Conv2D, Dense, Flatten\n",
    "with tpu_strategy.scope():\n",
    "  model = Sequential()\n",
    "  model.add(Input(shape=(28,28,1)))\n",
    "  model.add(Conv2D(32, kernel_size=(3,3), strides=(1,1), activation='relu'))\n",
    "  model.add(Conv2D(64, kernel_size=(3,3), strides=(1,1), activation='relu'))\n",
    "  model.add(Conv2D(256, kernel_size=(3,3), strides=(1,1), activation='tanh'))\n",
    "  model.add(Flatten()) # This flattens your image with width and height into a vector of length widht*height. \n",
    "  model.add(Dense(10, activation='softmax')) \n",
    "\n",
    "model.summary()"
   ]
  },
  {
   "cell_type": "markdown",
   "metadata": {
    "id": "qSsr9bcCbLm6"
   },
   "source": [
    "For non-Colab-users:"
   ]
  },
  {
   "cell_type": "code",
   "execution_count": null,
   "metadata": {},
   "outputs": [],
   "source": [
    "from tensorflow.keras.models import Sequential\n",
    "from tensorflow.keras.layers import Input, Conv2D, Dense, Flatten\n",
    "\n",
    "model = Sequential()\n",
    "model.add(Input(shape=(28,28,1)))\n",
    "model.add(Conv2D(32, kernel_size=(3,3), strides=(1,1), activation='relu'))\n",
    "model.add(Conv2D(64, kernel_size=(3,3), strides=(1,1), activation='relu'))\n",
    "model.add(Conv2D(256, kernel_size=(3,3), strides=(1,1), activation='tanh'))\n",
    "model.add(Flatten()) # This flattens your image with width and height into a vector of length widht*height. \n",
    "model.add(Dense(10, activation='softmax')) \n",
    "\n",
    "model.summary()"
   ]
  },
  {
   "cell_type": "markdown",
   "metadata": {
    "id": "1uKhX5rBUh-c"
   },
   "source": [
    "**Model compilation**"
   ]
  },
  {
   "cell_type": "code",
   "execution_count": null,
   "metadata": {
    "id": "oFWio_qOUh-c"
   },
   "outputs": [],
   "source": [
    "from tensorflow.keras.losses import CategoricalCrossentropy\n",
    "from tensorflow.keras.optimizers import Adam\n",
    "\n",
    "# Loss function\n",
    "loss = CategoricalCrossentropy()\n",
    "\n",
    "# Optimiser\n",
    "lr = 1e-3\n",
    "\n",
    "optimiser = Adam(learning_rate=lr)\n",
    "\n",
    "model.compile(loss=loss,\n",
    "              optimizer=optimiser, \n",
    "              metrics=['accuracy'])"
   ]
  },
  {
   "cell_type": "code",
   "execution_count": null,
   "metadata": {
    "id": "YhVeA-QFZdSE"
   },
   "outputs": [],
   "source": []
  },
  {
   "cell_type": "markdown",
   "metadata": {
    "id": "RvHWyEp_Uh-c"
   },
   "source": [
    "**Model training**"
   ]
  },
  {
   "cell_type": "code",
   "execution_count": null,
   "metadata": {
    "colab": {
     "base_uri": "https://localhost:8080/",
     "height": 1000
    },
    "id": "0-F3al1VUh-c",
    "outputId": "79a1d53e-8945-4c66-c38a-79db2d2acc50"
   },
   "outputs": [],
   "source": [
    "# Define number of epochs and batch size\n",
    "epochs = 50\n",
    "batch_size = 512\n",
    "\n",
    "\n",
    "history = model.fit(x=X_train, y=y_train, \n",
    "                    validation_split=0.1,\n",
    "                    epochs=epochs,\n",
    "                    batch_size=batch_size)\n",
    "\n",
    "\n",
    "n_epochs = np.arange(0,epochs)\n",
    "\n",
    "fig, (ax1,ax2) = plt.subplots(2,1,figsize=(8,16))\n",
    "ax1.plot(n_epochs, history.history['loss'], label='training loss')\n",
    "ax1.plot(n_epochs, history.history['val_loss'], label='validation loss')\n",
    "ax1.set_ylim(-0.05,1.05)\n",
    "ax1.legend()\n",
    "\n",
    "ax2.plot(n_epochs, history.history['accuracy'], label='training accuracy')\n",
    "ax2.plot(n_epochs, history.history['val_accuracy'], label='validation accuracy')\n",
    "ax2.set_ylim(-0.05,1.05)\n",
    "ax2.legend()\n",
    "plt.show()"
   ]
  },
  {
   "cell_type": "markdown",
   "metadata": {
    "id": "Xa3TPeflUh-c"
   },
   "source": [
    "**Model evaluation**"
   ]
  },
  {
   "cell_type": "code",
   "execution_count": null,
   "metadata": {
    "colab": {
     "base_uri": "https://localhost:8080/"
    },
    "id": "YDONIU6yUh-d",
    "outputId": "30a546ff-d255-4635-8d6a-5c7dfd6fb9e9"
   },
   "outputs": [],
   "source": [
    "loss_and_metrics = model.evaluate(X_test, y_test, \n",
    "                                  batch_size=batch_size)"
   ]
  },
  {
   "cell_type": "code",
   "execution_count": null,
   "metadata": {
    "id": "4uMtcpK_drVz"
   },
   "outputs": [],
   "source": []
  }
 ],
 "metadata": {
  "colab": {
   "collapsed_sections": [],
   "name": "week1_session5_deep_learning.ipynb",
   "provenance": []
  },
  "kernelspec": {
   "display_name": "Python 3",
   "language": "python",
   "name": "python3"
  },
  "language_info": {
   "codemirror_mode": {
    "name": "ipython",
    "version": 3
   },
   "file_extension": ".py",
   "mimetype": "text/x-python",
   "name": "python",
   "nbconvert_exporter": "python",
   "pygments_lexer": "ipython3",
   "version": "3.8.8"
  }
 },
 "nbformat": 4,
 "nbformat_minor": 1
}

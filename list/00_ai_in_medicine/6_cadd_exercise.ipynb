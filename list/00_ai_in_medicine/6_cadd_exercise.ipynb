{
 "cells": [
  {
   "cell_type": "markdown",
   "metadata": {},
   "source": [
    "# AI in medicine - CADD exercise"
   ]
  },
  {
   "cell_type": "markdown",
   "metadata": {},
   "source": [
    "- **Tutor:** David Schaller, AG Volkamer, Charité - Universitätsmedizin Berlin (david.schaller@charite.de)\n",
    "- **Target audience**: Medical students from Charité\n",
    "\n",
    "This notebook is based on [TeachOpenCADD](https://github.com/volkamerlab/TeachOpenCADD/) and the scikit-learn [intro](https://github.com/volkamerlab/ai_in_medicine) from week 1."
   ]
  },
  {
   "cell_type": "markdown",
   "metadata": {},
   "source": [
    "## Aim\n",
    "\n",
    "In this notebook, the experience gained in the first week will be applied to perform a virtual screening experiment for inhibitors of the epidermal growth factor receptor ([EGFR](https://en.wikipedia.org/wiki/Epidermal_growth_factor_receptor)) via machine learning. First, computer-friendly molecular representations will be introduced, which allow the training of machine learning models. Next, a support vector machine will be trained to classify molecules as active or inactive. The trained model will be used to predict the activity of a small molecule set. Finally, successful participants can check their hits for potential activity against EGFR via online resources."
   ]
  },
  {
   "cell_type": "markdown",
   "metadata": {},
   "source": [
    "## Learning goals\n",
    "\n",
    "- apply knowledge from first week\n",
    "- represent molecules in a computer-friendly fashion\n",
    "- perform a virtual screening experiment\n",
    "- check online resources for potential activities"
   ]
  },
  {
   "cell_type": "markdown",
   "metadata": {},
   "source": [
    "## Theory\n",
    "The essential theory of machine learning algorithms was covered in the first week. The concept of virtual screening will be presented seperately via slides."
   ]
  },
  {
   "cell_type": "markdown",
   "metadata": {},
   "source": [
    "## References\n",
    "- [epidermal growth factor receptor](https://en.wikipedia.org/wiki/Epidermal_growth_factor_receptor)\n",
    "- [molecular fingerprints](http://infochim.u-strasbg.fr/CS3/program/material/Bajorath.pdf)\n",
    "- [support vector machine](https://en.wikipedia.org/wiki/Support_vector_machine)\n",
    "- [virtual screening](https://en.wikipedia.org/wiki/Virtual_screening)\n",
    "- [TeachOpenCADD](https://github.com/volkamerlab/TeachOpenCADD/)\n",
    "- [scikit-learn Intro from week 1](https://github.com/volkamerlab/ai_in_medicine)"
   ]
  },
  {
   "cell_type": "markdown",
   "metadata": {},
   "source": [
    "## Python packages\n",
    "- [scikit-learn](https://scikit-learn.org/stable/)\n",
    "- [rdkit](https://www.rdkit.org/)\n",
    "- [pandas](https://pandas.pydata.org/)\n",
    "- [numpy](https://numpy.org/)\n",
    "- [matplotlib](https://matplotlib.org/)"
   ]
  },
  {
   "cell_type": "markdown",
   "metadata": {},
   "source": [
    "## Practical"
   ]
  },
  {
   "cell_type": "markdown",
   "metadata": {},
   "source": [
    "**Content**\n",
    "\n",
    "1. Install RDKit  \n",
    "2. Import modules  \n",
    "3. Data preparation  \n",
    " 3.1 Load data  \n",
    " 3.2 Interpret molecules  \n",
    "4. Classify data  \n",
    "5. Split data  \n",
    "6. Train a support vector classifier\n",
    "7. Assess performance\n",
    "8. Apply to unknown molecules"
   ]
  },
  {
   "cell_type": "markdown",
   "metadata": {},
   "source": [
    "### 1. Install RDKit\n",
    "\n",
    "RDKit is not installed in Google Colab, and RDKit is only available via `conda` (a package manager), which is not available on Colab either. To provide RDKit, we will need to (1) Install conda (we will use `condacolab` for that) and (2) Install RDKit using `mamba`."
   ]
  },
  {
   "cell_type": "code",
   "execution_count": null,
   "metadata": {},
   "outputs": [],
   "source": [
    "!pip install condacolab\n",
    "import condacolab\n",
    "condacolab.install()"
   ]
  },
  {
   "cell_type": "code",
   "execution_count": null,
   "metadata": {},
   "outputs": [],
   "source": [
    "!mamba install -yq rdkit"
   ]
  },
  {
   "cell_type": "markdown",
   "metadata": {},
   "source": [
    "### 2. Import modules\n",
    "\n",
    "These modules are needed to perform all parts of this exercise. Feel free to add other modules, since there are multiple solutions to succeed."
   ]
  },
  {
   "cell_type": "code",
   "execution_count": null,
   "metadata": {},
   "outputs": [],
   "source": [
    "#data handling\n",
    "import numpy as np\n",
    "import pandas as pd\n",
    "\n",
    "# chemistry\n",
    "from rdkit import Chem\n",
    "from rdkit.Chem import MACCSkeys\n",
    "from rdkit.Chem.Draw import IPythonConsole, rdMolDraw2D\n",
    "\n",
    "# machine learning\n",
    "from sklearn.svm import SVC\n",
    "from sklearn.metrics import roc_curve, roc_auc_score\n",
    "from sklearn.model_selection import train_test_split\n",
    "\n",
    "# plotting\n",
    "import matplotlib.pyplot as plt"
   ]
  },
  {
   "cell_type": "markdown",
   "metadata": {},
   "source": [
    "### 3. Data preparation"
   ]
  },
  {
   "cell_type": "markdown",
   "metadata": {},
   "source": [
    "#### 3.1 Load data\n",
    "\n",
    "We will use a subset of molecules retrieved from the [ChEMBL](https://www.ebi.ac.uk/chembl/) database, which contains ~5k molecules with reported activity against EGFR. The whole ChEMBL database currently contains ~16 million datapoints for ~2 million compounds.\n",
    "\n",
    "***Insert code to load the data found in `data/egfr_chembl25.csv` into a pandas dataframe named 'df' and display the first few rows.***"
   ]
  },
  {
   "cell_type": "code",
   "execution_count": null,
   "metadata": {},
   "outputs": [],
   "source": [
    "# Read activity data for EGFR into a pandas dataframe named df\n",
    "egfr_chembl25_link = 'https://github.com/volkamerlab/ai_in_medicine/raw/master/data/egfr_chembl25.csv'\n",
    "#################### <-- insert code below\n",
    "\n",
    "#################### <-- insert code above"
   ]
  },
  {
   "cell_type": "markdown",
   "metadata": {},
   "source": [
    "The dataframe contains information about the ChEMBL ID, which can be used to query the ChEMBL database, a molecule in the form of a SMILES string and an activity value in the form of IC50 in nM. The IC50 describes the molar concentration that will result in 50 percent of inhibition in-vitro."
   ]
  },
  {
   "cell_type": "markdown",
   "metadata": {},
   "source": [
    "#### 3.2 Interpret molecules\n",
    "\n",
    "Next, we will interpret the molecules that are stored as SMILES strings and transform them in a format that a machine learning algorithm can handle. The [RDKit](https://www.rdkit.org/) library is a free open-source framework that can be used to work with molecular data. In the following cells you will learn a few basic functionalities from RDKit and how you can store substructures of molecules in computer-friendly bit vectors, that can be later used to train your model."
   ]
  },
  {
   "cell_type": "code",
   "execution_count": null,
   "metadata": {},
   "outputs": [],
   "source": [
    "# pick the first SMILES stored in the dataframe and display the molecule with RDKit\n",
    "print(df['smiles'][0])\n",
    "mol = Chem.MolFromSmiles(df['smiles'][0])\n",
    "mol"
   ]
  },
  {
   "cell_type": "markdown",
   "metadata": {},
   "source": [
    "The SMILES (**S**implified **M**olecular **I**nput **L**ine **E**ntry **S**ystem) representation allows to store the types and connectivity of atoms in a single string.  \n",
    "**Atom types** are represented by their atomic symbols, upper case letters represent aliphatic atoms, lower case letters represented aromatic atoms, hydrogens are often stripped away, since those can be inferred from atom type and connectivity:  \n",
    "`C` - aliphatic (sp3) carbon  \n",
    "`n` - aromatic (sp2) nitrogen  \n",
    "**Bonds** are only represented if needed:  \n",
    "`-` - single bond (`CC` and `C-C` are the same, since single bonds are used by default)  \n",
    "`=` - double bond (`C=C-C=C` and `cccc` are the same)  \n",
    "`#` - triple bond  \n",
    "**Ring** opening and closures are represented with numbers:  \n",
    "`c1ccccc1` - benzene  \n",
    "**Substituents** leaving a chain or ring are represented with brackets:  \n",
    "`c1cc(C)ccc1` - methyl-substituted benzene.  \n",
    "`CC(F)(Br)Cl`  - ethane substituted with fluorine, chlorine and bromine"
   ]
  },
  {
   "cell_type": "markdown",
   "metadata": {},
   "source": [
    "**With the rules from above, you should be able to create the SMILES for acetylsalicylic acid, the active ingredient of Aspirin.**\n",
    "\n",
    "<img src='images/aspirin.png'>\n",
    "\n",
    "2D representation of acetylsalicylic acid taken from [Wikipedia](https://en.wikipedia.org/wiki/Aspirin#/media/File:Aspirin-skeletal.svg)."
   ]
  },
  {
   "cell_type": "code",
   "execution_count": null,
   "metadata": {},
   "outputs": [],
   "source": [
    "# Write the smiles for acetylsalicylic acid\n",
    "####################\n",
    "\n",
    "####################"
   ]
  },
  {
   "cell_type": "markdown",
   "metadata": {},
   "source": [
    "Molecules can be represented in form of [molecular fingerprints](http://infochim.u-strasbg.fr/CS3/program/material/Bajorath.pdf), which store the presence of substructures in a bit vector consisting of zeros and ones. Here we will use Molecular ACCess System (MACCS) keys, which are implemented in RDKit and record the presence of a predefined set of substructures."
   ]
  },
  {
   "cell_type": "code",
   "execution_count": null,
   "metadata": {},
   "outputs": [],
   "source": [
    "maccs_keys = list(MACCSkeys.GenMACCSKeys(mol))\n",
    "print(maccs_keys)\n",
    "print('Zeros:', len(maccs_keys) - sum(maccs_keys))\n",
    "print('Ones:', sum(maccs_keys))"
   ]
  },
  {
   "cell_type": "markdown",
   "metadata": {},
   "source": [
    "Let's explore which substrucutres can be found in our sample molecule."
   ]
  },
  {
   "cell_type": "code",
   "execution_count": null,
   "metadata": {},
   "outputs": [],
   "source": [
    "# Get indices of ones\n",
    "maccs_key_series = pd.Series(maccs_keys)\n",
    "maccs_key_series[maccs_key_series==1].index"
   ]
  },
  {
   "cell_type": "markdown",
   "metadata": {},
   "source": [
    "The underlying substructures are provided in RDKit via a dictionary and are represented as [SMARTS](https://www.daylight.com/dayhtml/doc/theory/theory.smarts.html), which is an extension of the SMILES language and especially useful for substructure searches. The SMARTS of bit 80 represents the substructure `[#7]~*~*~*~[#7]`.\n",
    "- `#7` - any nitrogen\n",
    "- `~` - any bond\n",
    "- `*` - any atom\n",
    "\n",
    "We can also visualize substructures with the following lines. Just replace the `bit_index` with any of the indices found above."
   ]
  },
  {
   "cell_type": "code",
   "execution_count": null,
   "metadata": {},
   "outputs": [],
   "source": [
    "bit_index = 80\n",
    "smarts = MACCSkeys.smartsPatts[bit_index][0]\n",
    "Chem.MolFromSmarts(smarts)"
   ]
  },
  {
   "cell_type": "markdown",
   "metadata": {},
   "source": [
    "Next, let's use the following function to add an RDKit representation and the MACCS keys for each of the SMILES in the data set."
   ]
  },
  {
   "cell_type": "code",
   "execution_count": null,
   "metadata": {},
   "outputs": [],
   "source": [
    "def add_mols_and_maccs(df, smiles_column='smiles'):\n",
    "    \"\"\"\n",
    "    Generate rdkit molecule objects and MACCSkeys and add them to the given dataframe.\n",
    "    \n",
    "    Parameters\n",
    "    ----------\n",
    "    df: pandas.DataFrame\n",
    "        A data frame containing a column with SMILES.\n",
    "    \"\"\"\n",
    "    df['mol'] = df[smiles_column].apply(Chem.MolFromSmiles)\n",
    "    df['maccs'] = df['mol'].apply(MACCSkeys.GenMACCSKeys)\n",
    "    return"
   ]
  },
  {
   "cell_type": "code",
   "execution_count": null,
   "metadata": {},
   "outputs": [],
   "source": [
    "# add columns for rdkit molecules and maccs keys\n",
    "add_mols_and_maccs(df)\n",
    "display(df.head())"
   ]
  },
  {
   "cell_type": "markdown",
   "metadata": {},
   "source": [
    "### 4. Classify data\n",
    "\n",
    "To train a machine learning model to classify molecules as active or inactive, we need to add an activity label to our data set.\n",
    "\n",
    "***Insert code below that adds a column named 'active' to the dataframe that holds the value 1.0 if the IC50 is lower than 500 and otherwise 0.0.***"
   ]
  },
  {
   "cell_type": "code",
   "execution_count": null,
   "metadata": {},
   "outputs": [],
   "source": [
    "# Mark every molecule as active with an IC50 < 500\n",
    "####################\n",
    "\n",
    "####################"
   ]
  },
  {
   "cell_type": "markdown",
   "metadata": {},
   "source": [
    "The following lines should find 2762 actives and 2147 inactives."
   ]
  },
  {
   "cell_type": "code",
   "execution_count": null,
   "metadata": {},
   "outputs": [],
   "source": [
    "print('Actives:', int(df['active'].sum()))\n",
    "print('Inactives:', int(len(df)-df['active'].sum()))"
   ]
  },
  {
   "cell_type": "markdown",
   "metadata": {},
   "source": [
    "### 5. Split data\n",
    "\n",
    "***Split the data into training and test set by using the [train_test_split](https://scikit-learn.org/stable/modules/generated/sklearn.model_selection.train_test_split.html) function.***"
   ]
  },
  {
   "cell_type": "code",
   "execution_count": null,
   "metadata": {},
   "outputs": [],
   "source": [
    "# specify features and label\n",
    "x, y = df['maccs'].to_list(), df['active'].to_list()\n",
    "# Split the features and labels into training and test sets\n",
    "####################\n",
    "\n",
    "####################"
   ]
  },
  {
   "cell_type": "markdown",
   "metadata": {},
   "source": [
    "### 6. Train a support vector classifier\n",
    "\n",
    "***Train a [support vector classifier](https://scikit-learn.org/stable/modules/generated/sklearn.svm.SVC.html).***"
   ]
  },
  {
   "cell_type": "code",
   "execution_count": null,
   "metadata": {},
   "outputs": [],
   "source": [
    "# train model\n",
    "####################\n",
    "\n",
    "####################"
   ]
  },
  {
   "cell_type": "markdown",
   "metadata": {},
   "source": [
    "### 7. Assess performance\n",
    "\n",
    "- ***[predict](https://scikit-learn.org/stable/modules/generated/sklearn.svm.SVC.html#sklearn.svm.SVC.predict) the activity of the test set***  \n",
    "- ***assess the performance of your model by plotting a [ROC curve](https://scikit-learn.org/stable/modules/generated/sklearn.metrics.roc_curve.html) and calcuation of the [AUC](https://scikit-learn.org/stable/modules/generated/sklearn.metrics.roc_auc_score.html)***"
   ]
  },
  {
   "cell_type": "code",
   "execution_count": null,
   "metadata": {},
   "outputs": [],
   "source": [
    "# predict the activity of the test set\n",
    "####################\n",
    "\n",
    "####################"
   ]
  },
  {
   "cell_type": "code",
   "execution_count": null,
   "metadata": {},
   "outputs": [],
   "source": [
    "# calculate AUC\n",
    "####################\n",
    "\n",
    "####################"
   ]
  },
  {
   "cell_type": "code",
   "execution_count": null,
   "metadata": {},
   "outputs": [],
   "source": [
    "# plot the ROC curve\n",
    "####################\n",
    "\n",
    "####################"
   ]
  },
  {
   "cell_type": "markdown",
   "metadata": {},
   "source": [
    "### 8. Apply to unknown molecules\n",
    "\n",
    "***Use your model and predict the activity of a set of unknown molecules located at*** `data/egfr_candidates.csv`***.***"
   ]
  },
  {
   "cell_type": "code",
   "execution_count": null,
   "metadata": {},
   "outputs": [],
   "source": [
    "# load data and assign maccs keys \n",
    "egfr_candidates_link = 'https://github.com/volkamerlab/ai_in_medicine/raw/master/data/egfr_candidates.csv'\n",
    "####################\n",
    "\n",
    "####################"
   ]
  },
  {
   "cell_type": "code",
   "execution_count": null,
   "metadata": {},
   "outputs": [],
   "source": [
    "# predict the activity\n",
    "####################\n",
    "\n",
    "####################"
   ]
  },
  {
   "cell_type": "markdown",
   "metadata": {},
   "source": [
    "***Visit [PubChem](https://pubchem.ncbi.nlm.nih.gov/), an online resource for chemical information, and query the database with a SMILES of a predicted active and predicted inactive. What can you find out about the molecules?***"
   ]
  }
 ],
 "metadata": {
  "kernelspec": {
   "display_name": "Python 3",
   "language": "python",
   "name": "python3"
  },
  "language_info": {
   "codemirror_mode": {
    "name": "ipython",
    "version": 3
   },
   "file_extension": ".py",
   "mimetype": "text/x-python",
   "name": "python",
   "nbconvert_exporter": "python",
   "pygments_lexer": "ipython3",
   "version": "3.8.10"
  }
 },
 "nbformat": 4,
 "nbformat_minor": 4
}

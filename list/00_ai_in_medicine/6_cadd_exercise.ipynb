{
 "cells": [
  {
   "cell_type": "markdown",
   "metadata": {},
   "source": "#  医学中的人工智能-CADD练习"
  },
  {
   "cell_type": "markdown",
   "metadata": {},
   "source": [
    "## 目标\n",
    "\n",
    "通过03_Al Drug Discovery & Design -> 01_Compound_data_acquisition机器学习对表皮生长因子受体（[EGFR] 的抑制剂进行虚拟筛选实验。首先，将引入计算机友好的分子表示，允许机器学习模型的训练。接下来，将训练一个支持载体机，将分子分类为活性或非活性分子。训练有素的模型将用于预测小分子集的活性。最后，成功的参与者可以通过在线资源检查他们针对EGFR的潜在活动。"
   ]
  },
  {
   "cell_type": "markdown",
   "metadata": {},
   "source": [
    "## Python软件包\n",
    "- [scikit-learn](https://scikit-learn.org/stable/)\n",
    "- [rdkit](https://www.rdkit.org/)\n",
    "- [pandas](https://pandas.pydata.org/)\n",
    "- [numpy](https://numpy.org/)\n",
    "- [matplotlib](https://matplotlib.org/)"
   ]
  },
  {
   "cell_type": "markdown",
   "metadata": {},
   "source": [
    "## Practical"
   ]
  },
  {
   "cell_type": "markdown",
   "metadata": {},
   "source": [
    "**内容**\n",
    "\n",
    "1.安装RDKit\n",
    "\n",
    "2.导入模块\n",
    "\n",
    "3.数据提供\n",
    "\n",
    "3.1 加载数据\n",
    "\n",
    "3.2 解释分子\n",
    "\n",
    "4.分类数据\n",
    "\n",
    "5.拆分数据\n",
    "\n",
    "6.训练一个支持向量分类器\n",
    "\n",
    "7.评估绩效\n",
    "\n",
    "8.使用未被解的分子"
   ]
  },
  {
   "cell_type": "markdown",
   "metadata": {},
   "source": [
    "### 1.安装RDKit\n",
    "\n",
    "RDKit未安装在Google Colab中，RDKit仅通过“conda”（软件包管理器）提供，Colab上也不可用。要提供RDKit，我们需要（1）安装conda（我们将使用“condacolab”）和（2）使用“mamba”安装RDKit。"
   ]
  },
  {
   "cell_type": "code",
   "execution_count": null,
   "metadata": {},
   "outputs": [],
   "source": [
    "!pip install condacolab\n",
    "import condacolab\n",
    "condacolab.install()"
   ]
  },
  {
   "cell_type": "code",
   "execution_count": null,
   "metadata": {},
   "outputs": [],
   "source": [
    "!mamba install -yq rdkit"
   ]
  },
  {
   "cell_type": "markdown",
   "metadata": {},
   "source": [
    "### 2.导入模块\n",
    "\n",
    "执行此练习的所有部分都需要这些模块。随意添加其他模块，因为有多种解决方案可以成功。"
   ]
  },
  {
   "cell_type": "code",
   "metadata": {
    "ExecuteTime": {
     "end_time": "2024-10-13T03:58:51.382698Z",
     "start_time": "2024-10-13T03:58:51.378577Z"
    }
   },
   "source": [
    "#data handling\n",
    "import numpy as np\n",
    "import pandas as pd\n",
    "\n",
    "# chemistry\n",
    "from rdkit import Chem\n",
    "from rdkit.Chem import MACCSkeys\n",
    "from rdkit.Chem.Draw import IPythonConsole, rdMolDraw2D\n",
    "\n",
    "# machine learning\n",
    "from sklearn.svm import SVC\n",
    "from sklearn.metrics import roc_curve, roc_auc_score\n",
    "from sklearn.model_selection import train_test_split\n",
    "\n",
    "# plotting\n",
    "import matplotlib.pyplot as plt"
   ],
   "outputs": [],
   "execution_count": 6
  },
  {
   "metadata": {
    "ExecuteTime": {
     "end_time": "2024-10-13T03:57:05.820311Z",
     "start_time": "2024-10-13T03:57:05.816502Z"
    }
   },
   "cell_type": "code",
   "source": [
    "from pathlib import Path\n",
    "import os\n",
    "\n",
    "# 获取当前工作目录\n",
    "HERE = Path(os.getcwd())\n",
    "DATA = HERE / 'data'\n",
    "if not DATA.exists():\n",
    "    DATA.mkdir(parents=True, exist_ok=True)\n",
    "print(DATA)"
   ],
   "outputs": [
    {
     "name": "stdout",
     "output_type": "stream",
     "text": [
      "/Users/wangyang/Desktop/AI-drug-design/list/00_ai_in_medicine/data\n"
     ]
    }
   ],
   "execution_count": 3
  },
  {
   "cell_type": "markdown",
   "metadata": {},
   "source": [
    "### 3. Data preparation"
   ]
  },
  {
   "cell_type": "markdown",
   "metadata": {},
   "source": [
    "#### 3.1 加载数据\n",
    "\n",
    "我们将使用从[ChEMBL]数据库中检索的分子子集，该数据库包含约约5k分子，报告了针对EGFR的活性。整个ChEMBL数据库目前包含约1600万个数据点，用于约200万种化合物。\n",
    "\n",
    "***插入代码，将`data/egfr_chembl25.csv`中发现的数据加载到名为“df”的pandas数据框架中，并显示前几行。***"
   ]
  },
  {
   "cell_type": "code",
   "metadata": {
    "ExecuteTime": {
     "end_time": "2024-10-13T03:59:42.613355Z",
     "start_time": "2024-10-13T03:59:42.590096Z"
    }
   },
   "source": [
    "# Read activity data for EGFR into a pandas dataframe named df\n",
    "egfr_chembl25_link = pd.read_csv(DATA / 'egfr_chembl25.csv')"
   ],
   "outputs": [],
   "execution_count": 10
  },
  {
   "cell_type": "markdown",
   "metadata": {},
   "source": "该数据帧包含有关ChEMBL ID的信息，可用于查询ChEMBL数据库、SMILES字符串形式的分子和nM形式的IC50形式的活性值。半数抑制浓度( IC50 )是指在体外实验中产生50 %抑制率的摩尔浓度。"
  },
  {
   "cell_type": "markdown",
   "metadata": {},
   "source": [
    "#### 3.2 解释分子\n",
    "\n",
    "接下来，我们将解释存储为SMILES字符串的分子，并将其转换为机器学习算法可以处理的格式。[RDKit]库是一个免费的开源框架，可用于处理分子数据。在以下单元格中，您将学习RDKit的一些基本功能，以及如何在计算机友好的位向量中存储分子子结构，这些子结构以后可用于训练您的模型。"
   ]
  },
  {
   "metadata": {
    "ExecuteTime": {
     "end_time": "2024-10-13T04:00:30.735050Z",
     "start_time": "2024-10-13T04:00:30.727180Z"
    }
   },
   "cell_type": "code",
   "source": "egfr_chembl25_link.head()",
   "outputs": [
    {
     "data": {
      "text/plain": [
       "       chembl_id                                             smiles  IC50[nM]\n",
       "0   CHEMBL207869  Clc1c(OCc2cc(F)ccc2)ccc(Nc2c(C#Cc3ncccn3)cncn2)c1     77.00\n",
       "1  CHEMBL3940060  ClCC(=O)OCCN1C(=O)Oc2c1cc1c(Nc3cc(Cl)c(F)cc3)n...    330.00\n",
       "2  CHEMBL3678951  FC(F)(F)c1cc(Nc2n(C(C)C)c3nc(Nc4ccc(N5CC[NH+](...      1.00\n",
       "3   CHEMBL504034  Clc1c(OCc2cc(F)ccc2)ccc(Nc2ncnc3c2sc(C#C[C@H]2...     40.00\n",
       "4   CHEMBL158797  S(Sc1n(C)c2c(c1C(=O)NCC(O)CO)cccc2)c1n(C)c2c(c...  43000.01"
      ],
      "text/html": [
       "<div>\n",
       "<style scoped>\n",
       "    .dataframe tbody tr th:only-of-type {\n",
       "        vertical-align: middle;\n",
       "    }\n",
       "\n",
       "    .dataframe tbody tr th {\n",
       "        vertical-align: top;\n",
       "    }\n",
       "\n",
       "    .dataframe thead th {\n",
       "        text-align: right;\n",
       "    }\n",
       "</style>\n",
       "<table border=\"1\" class=\"dataframe\">\n",
       "  <thead>\n",
       "    <tr style=\"text-align: right;\">\n",
       "      <th></th>\n",
       "      <th>chembl_id</th>\n",
       "      <th>smiles</th>\n",
       "      <th>IC50[nM]</th>\n",
       "    </tr>\n",
       "  </thead>\n",
       "  <tbody>\n",
       "    <tr>\n",
       "      <th>0</th>\n",
       "      <td>CHEMBL207869</td>\n",
       "      <td>Clc1c(OCc2cc(F)ccc2)ccc(Nc2c(C#Cc3ncccn3)cncn2)c1</td>\n",
       "      <td>77.00</td>\n",
       "    </tr>\n",
       "    <tr>\n",
       "      <th>1</th>\n",
       "      <td>CHEMBL3940060</td>\n",
       "      <td>ClCC(=O)OCCN1C(=O)Oc2c1cc1c(Nc3cc(Cl)c(F)cc3)n...</td>\n",
       "      <td>330.00</td>\n",
       "    </tr>\n",
       "    <tr>\n",
       "      <th>2</th>\n",
       "      <td>CHEMBL3678951</td>\n",
       "      <td>FC(F)(F)c1cc(Nc2n(C(C)C)c3nc(Nc4ccc(N5CC[NH+](...</td>\n",
       "      <td>1.00</td>\n",
       "    </tr>\n",
       "    <tr>\n",
       "      <th>3</th>\n",
       "      <td>CHEMBL504034</td>\n",
       "      <td>Clc1c(OCc2cc(F)ccc2)ccc(Nc2ncnc3c2sc(C#C[C@H]2...</td>\n",
       "      <td>40.00</td>\n",
       "    </tr>\n",
       "    <tr>\n",
       "      <th>4</th>\n",
       "      <td>CHEMBL158797</td>\n",
       "      <td>S(Sc1n(C)c2c(c1C(=O)NCC(O)CO)cccc2)c1n(C)c2c(c...</td>\n",
       "      <td>43000.01</td>\n",
       "    </tr>\n",
       "  </tbody>\n",
       "</table>\n",
       "</div>"
      ]
     },
     "execution_count": 15,
     "metadata": {},
     "output_type": "execute_result"
    }
   ],
   "execution_count": 15
  },
  {
   "metadata": {
    "ExecuteTime": {
     "end_time": "2024-10-13T04:00:31.745851Z",
     "start_time": "2024-10-13T04:00:31.733066Z"
    }
   },
   "cell_type": "code",
   "source": [
    "\n",
    "df = pd.read_csv(DATA / 'egfr_chembl25.csv')"
   ],
   "outputs": [],
   "execution_count": 16
  },
  {
   "cell_type": "code",
   "metadata": {
    "ExecuteTime": {
     "end_time": "2024-10-13T04:00:32.464068Z",
     "start_time": "2024-10-13T04:00:32.450151Z"
    }
   },
   "source": [
    "# 挑选数据中存储的第一个SMILES，用RDKit显示分子\n",
    "print(df['smiles'][0])\n",
    "mol = Chem.MolFromSmiles(df['smiles'][0])\n",
    "mol"
   ],
   "outputs": [
    {
     "name": "stdout",
     "output_type": "stream",
     "text": [
      "Clc1c(OCc2cc(F)ccc2)ccc(Nc2c(C#Cc3ncccn3)cncn2)c1\n"
     ]
    },
    {
     "data": {
      "text/plain": [
       "<rdkit.Chem.rdchem.Mol at 0x7fdd0354e340>"
      ],
      "image/png": "[encoded data removed]"
     },
     "execution_count": 17,
     "metadata": {},
     "output_type": "execute_result"
    }
   ],
   "execution_count": 17
  },
  {
   "cell_type": "markdown",
   "metadata": {},
   "source": [
    "SMILES（**S**implified **M**olecular **I**nput **L**ine **E**ntry **S**ystem）表示法允许将原子的类型和连接性存储在一个单独的字符串中。\n",
    " - **原子类型**  由它们的原子符号表示，大写字母代表脂肪族原子，小写字母代表芳香族原子，氢原子通常被省略，因为可以从原子类型和连接性推断出来：\n",
    "- C - 烯丙基（sp3）碳\n",
    "- n - 芳香族（sp2）氮\n",
    "- **Bonds**   只在需要时才表示：\n",
    "- - - 单键（`CC` 和 `C-C` 相同，因为单键默认使用）\n",
    "- `=` - 双键（`C=C-C=C` 和 `cccc` 相同）\n",
    "- `#` - 三键\n",
    "- **环** 开启和闭合用数字表示：\n",
    "- 苯\n",
    "- **取代基**  留下链条或环用括号表示：\n",
    "- c1cc(C)ccc1 - 甲基取代苯。\n",
    "-  CC(F)(Br)Cl - 以氟、氯和溴取代的乙烷"
   ]
  },
  {
   "cell_type": "markdown",
   "metadata": {},
   "source": [
    "* *根据上述规则，您应该能够创建阿司匹林活性成分乙酰水杨酸的SMILES。* *\n",
    "\n",
    "<img src='images/aspirin.png'>\n",
    "\n",
    "2D representation of acetylsalicylic acid taken from [Wikipedia](https://en.wikipedia.org/wiki/Aspirin#/media/File:Aspirin-skeletal.svg)."
   ]
  },
  {
   "cell_type": "markdown",
   "metadata": {},
   "source": "## 分子可以以[分子指纹],将子结构的存在存储在一个由01组成的比特向量中。在这里我们将使用分子ACCess系统( MACCS ))键的形式表示，在RDKit中实现，并记录预定义的子结构集合的存在。"
  },
  {
   "cell_type": "code",
   "metadata": {
    "ExecuteTime": {
     "end_time": "2024-10-13T04:09:10.134828Z",
     "start_time": "2024-10-13T04:09:10.117384Z"
    }
   },
   "source": [
    "maccs_keys = list(MACCSkeys.GenMACCSKeys(mol))\n",
    "print(maccs_keys)\n",
    "print('Zeros:', len(maccs_keys) - sum(maccs_keys))\n",
    "print('Ones:', sum(maccs_keys))"
   ],
   "outputs": [
    {
     "name": "stdout",
     "output_type": "stream",
     "text": [
      "[0, 0, 0, 0, 0, 0, 0, 0, 0, 0, 0, 0, 0, 0, 0, 0, 0, 1, 0, 0, 0, 0, 0, 0, 0, 0, 0, 0, 0, 0, 0, 0, 0, 0, 0, 0, 0, 0, 1, 0, 0, 0, 1, 0, 0, 0, 0, 0, 0, 0, 0, 0, 0, 0, 0, 0, 0, 0, 0, 0, 0, 0, 0, 0, 0, 1, 0, 0, 0, 0, 0, 0, 0, 0, 0, 0, 0, 1, 0, 0, 1, 0, 0, 0, 0, 0, 0, 1, 0, 0, 0, 0, 0, 0, 0, 0, 0, 0, 1, 0, 0, 0, 0, 1, 0, 0, 0, 1, 0, 1, 0, 0, 0, 1, 0, 0, 0, 0, 0, 0, 1, 1, 0, 0, 0, 1, 1, 1, 0, 0, 0, 0, 0, 1, 1, 1, 0, 1, 0, 0, 0, 0, 1, 1, 1, 1, 0, 0, 0, 0, 1, 1, 1, 1, 0, 1, 1, 1, 1, 0, 0, 1, 1, 1, 1, 1, 0]\n",
      "Zeros: 129\n",
      "Ones: 38\n"
     ]
    }
   ],
   "execution_count": 18
  },
  {
   "cell_type": "markdown",
   "metadata": {},
   "source": "让我们来探究在我们的样品分子中可以找到哪些子结构。"
  },
  {
   "cell_type": "code",
   "metadata": {
    "ExecuteTime": {
     "end_time": "2024-10-13T04:09:41.557093Z",
     "start_time": "2024-10-13T04:09:41.550484Z"
    }
   },
   "source": [
    "# 获得指标\n",
    "maccs_key_series = pd.Series(maccs_keys)\n",
    "maccs_key_series[maccs_key_series==1].index"
   ],
   "outputs": [
    {
     "data": {
      "text/plain": [
       "Int64Index([ 17,  38,  42,  65,  77,  80,  87,  98, 103, 107, 109, 113, 120,\n",
       "            121, 125, 126, 127, 133, 134, 135, 137, 142, 143, 144, 145, 150,\n",
       "            151, 152, 153, 155, 156, 157, 158, 161, 162, 163, 164, 165],\n",
       "           dtype='int64')"
      ]
     },
     "execution_count": 19,
     "metadata": {},
     "output_type": "execute_result"
    }
   ],
   "execution_count": 19
  },
  {
   "cell_type": "markdown",
   "metadata": {},
   "source": [
    "底层子结构通过字典在RDKit中提供，并表示为[ SMARTS ]，它是SMILES语言的扩展，特别适用于子结构搜索。位80的SMARTS表示子结构' [ # 7 ] ~ * ~ * ~ * ~ [ # 7 ] '。\n",
    "- `#7` - any nitrogen\n",
    "- `~` - any bond\n",
    "- `*` - any atom\n",
    "\n",
    "我们还可以用下面的线条来可视化子结构。只需用上面找到的任何一个索引替换\" bit _ index \"。"
   ]
  },
  {
   "cell_type": "code",
   "metadata": {
    "ExecuteTime": {
     "end_time": "2024-10-13T04:10:36.918533Z",
     "start_time": "2024-10-13T04:10:36.902893Z"
    }
   },
   "source": [
    "bit_index = 80\n",
    "smarts = MACCSkeys.smartsPatts[bit_index][0]\n",
    "Chem.MolFromSmarts(smarts)"
   ],
   "outputs": [
    {
     "data": {
      "text/plain": [
       "<rdkit.Chem.rdchem.Mol at 0x7fdd097551c0>"
      ],
      "image/png": "[encoded data removed]"
     },
     "execution_count": 20,
     "metadata": {},
     "output_type": "execute_result"
    }
   ],
   "execution_count": 20
  },
  {
   "cell_type": "markdown",
   "metadata": {},
   "source": "接下来，我们使用下面的函数为数据集中的每个SMILES添加一个RDKit表示和MACCS密钥。"
  },
  {
   "cell_type": "code",
   "metadata": {
    "ExecuteTime": {
     "end_time": "2024-10-13T04:11:12.642391Z",
     "start_time": "2024-10-13T04:11:12.638688Z"
    }
   },
   "source": [
    "def add_mols_and_maccs(df, smiles_column='smiles'):\n",
    "    \"\"\"\n",
    "    生成rdkit分子对象和MACCSkey，并将其添加到给定的数据框架中。\n",
    "    \n",
    "    Parameters\n",
    "    ----------\n",
    "    df: pandas.DataFrame\n",
    "        A data frame containing a column with SMILES.\n",
    "    \"\"\"\n",
    "    df['mol'] = df[smiles_column].apply(Chem.MolFromSmiles)\n",
    "    df['maccs'] = df['mol'].apply(MACCSkeys.GenMACCSKeys)\n",
    "    return"
   ],
   "outputs": [],
   "execution_count": 22
  },
  {
   "cell_type": "code",
   "metadata": {
    "ExecuteTime": {
     "end_time": "2024-10-13T04:11:18.951897Z",
     "start_time": "2024-10-13T04:11:12.908011Z"
    }
   },
   "source": [
    "# 为rdkit分子添加列和maccs键\n",
    "add_mols_and_maccs(df)\n",
    "display(df.head())"
   ],
   "outputs": [
    {
     "data": {
      "text/plain": [
       "       chembl_id                                             smiles  IC50[nM]  \\\n",
       "0   CHEMBL207869  Clc1c(OCc2cc(F)ccc2)ccc(Nc2c(C#Cc3ncccn3)cncn2)c1     77.00   \n",
       "1  CHEMBL3940060  ClCC(=O)OCCN1C(=O)Oc2c1cc1c(Nc3cc(Cl)c(F)cc3)n...    330.00   \n",
       "2  CHEMBL3678951  FC(F)(F)c1cc(Nc2n(C(C)C)c3nc(Nc4ccc(N5CC[NH+](...      1.00   \n",
       "3   CHEMBL504034  Clc1c(OCc2cc(F)ccc2)ccc(Nc2ncnc3c2sc(C#C[C@H]2...     40.00   \n",
       "4   CHEMBL158797  S(Sc1n(C)c2c(c1C(=O)NCC(O)CO)cccc2)c1n(C)c2c(c...  43000.01   \n",
       "\n",
       "                                                mol  \\\n",
       "0  <rdkit.Chem.rdchem.Mol object at 0x7fdd0247ca00>   \n",
       "1  <rdkit.Chem.rdchem.Mol object at 0x7fdd0247cfa0>   \n",
       "2  <rdkit.Chem.rdchem.Mol object at 0x7fdd0247cbe0>   \n",
       "3  <rdkit.Chem.rdchem.Mol object at 0x7fdd0247c820>   \n",
       "4  <rdkit.Chem.rdchem.Mol object at 0x7fdd0ada2820>   \n",
       "\n",
       "                                               maccs  \n",
       "0  [0, 0, 0, 0, 0, 0, 0, 0, 0, 0, 0, 0, 0, 0, 0, ...  \n",
       "1  [0, 0, 0, 0, 0, 0, 0, 0, 0, 0, 0, 0, 0, 0, 0, ...  \n",
       "2  [0, 0, 0, 0, 0, 0, 0, 0, 0, 0, 0, 0, 0, 0, 0, ...  \n",
       "3  [0, 0, 0, 0, 0, 0, 0, 0, 0, 0, 0, 0, 0, 0, 0, ...  \n",
       "4  [0, 0, 0, 0, 0, 0, 0, 0, 0, 0, 0, 0, 0, 0, 1, ...  "
      ],
      "text/html": [
       "<div>\n",
       "<style scoped>\n",
       "    .dataframe tbody tr th:only-of-type {\n",
       "        vertical-align: middle;\n",
       "    }\n",
       "\n",
       "    .dataframe tbody tr th {\n",
       "        vertical-align: top;\n",
       "    }\n",
       "\n",
       "    .dataframe thead th {\n",
       "        text-align: right;\n",
       "    }\n",
       "</style>\n",
       "<table border=\"1\" class=\"dataframe\">\n",
       "  <thead>\n",
       "    <tr style=\"text-align: right;\">\n",
       "      <th></th>\n",
       "      <th>chembl_id</th>\n",
       "      <th>smiles</th>\n",
       "      <th>IC50[nM]</th>\n",
       "      <th>mol</th>\n",
       "      <th>maccs</th>\n",
       "    </tr>\n",
       "  </thead>\n",
       "  <tbody>\n",
       "    <tr>\n",
       "      <th>0</th>\n",
       "      <td>CHEMBL207869</td>\n",
       "      <td>Clc1c(OCc2cc(F)ccc2)ccc(Nc2c(C#Cc3ncccn3)cncn2)c1</td>\n",
       "      <td>77.00</td>\n",
       "      <td>&lt;rdkit.Chem.rdchem.Mol object at 0x7fdd0247ca00&gt;</td>\n",
       "      <td>[0, 0, 0, 0, 0, 0, 0, 0, 0, 0, 0, 0, 0, 0, 0, ...</td>\n",
       "    </tr>\n",
       "    <tr>\n",
       "      <th>1</th>\n",
       "      <td>CHEMBL3940060</td>\n",
       "      <td>ClCC(=O)OCCN1C(=O)Oc2c1cc1c(Nc3cc(Cl)c(F)cc3)n...</td>\n",
       "      <td>330.00</td>\n",
       "      <td>&lt;rdkit.Chem.rdchem.Mol object at 0x7fdd0247cfa0&gt;</td>\n",
       "      <td>[0, 0, 0, 0, 0, 0, 0, 0, 0, 0, 0, 0, 0, 0, 0, ...</td>\n",
       "    </tr>\n",
       "    <tr>\n",
       "      <th>2</th>\n",
       "      <td>CHEMBL3678951</td>\n",
       "      <td>FC(F)(F)c1cc(Nc2n(C(C)C)c3nc(Nc4ccc(N5CC[NH+](...</td>\n",
       "      <td>1.00</td>\n",
       "      <td>&lt;rdkit.Chem.rdchem.Mol object at 0x7fdd0247cbe0&gt;</td>\n",
       "      <td>[0, 0, 0, 0, 0, 0, 0, 0, 0, 0, 0, 0, 0, 0, 0, ...</td>\n",
       "    </tr>\n",
       "    <tr>\n",
       "      <th>3</th>\n",
       "      <td>CHEMBL504034</td>\n",
       "      <td>Clc1c(OCc2cc(F)ccc2)ccc(Nc2ncnc3c2sc(C#C[C@H]2...</td>\n",
       "      <td>40.00</td>\n",
       "      <td>&lt;rdkit.Chem.rdchem.Mol object at 0x7fdd0247c820&gt;</td>\n",
       "      <td>[0, 0, 0, 0, 0, 0, 0, 0, 0, 0, 0, 0, 0, 0, 0, ...</td>\n",
       "    </tr>\n",
       "    <tr>\n",
       "      <th>4</th>\n",
       "      <td>CHEMBL158797</td>\n",
       "      <td>S(Sc1n(C)c2c(c1C(=O)NCC(O)CO)cccc2)c1n(C)c2c(c...</td>\n",
       "      <td>43000.01</td>\n",
       "      <td>&lt;rdkit.Chem.rdchem.Mol object at 0x7fdd0ada2820&gt;</td>\n",
       "      <td>[0, 0, 0, 0, 0, 0, 0, 0, 0, 0, 0, 0, 0, 0, 1, ...</td>\n",
       "    </tr>\n",
       "  </tbody>\n",
       "</table>\n",
       "</div>"
      ]
     },
     "metadata": {},
     "output_type": "display_data"
    }
   ],
   "execution_count": 23
  },
  {
   "cell_type": "markdown",
   "metadata": {},
   "source": [
    "#### 4。对数据进行分类\n",
    "为了训练一个机器学习模型将分子分类为有活性或无活性，我们需要在我们的数据集中添加一个活性标签。\n",
    "- 在下面的代码中，如果IC50低于500，否则为0.0，则在数值为1.0的数据框中添加一个名为\" active \"的列。"
   ]
  },
  {
   "metadata": {
    "ExecuteTime": {
     "end_time": "2024-10-13T04:13:12.806322Z",
     "start_time": "2024-10-13T04:13:12.801956Z"
    }
   },
   "cell_type": "code",
   "source": [
    "# Mark every molecule as active with an IC50 < 500\n",
    "df['active'] = (df['IC50[nM]'] < 500).astype(float)"
   ],
   "outputs": [],
   "execution_count": 27
  },
  {
   "metadata": {},
   "cell_type": "markdown",
   "source": "#### 5. 拆分数据"
  },
  {
   "cell_type": "markdown",
   "metadata": {},
   "source": [
    "The following lines should find 2762 actives and 2147 inactives."
   ]
  },
  {
   "cell_type": "code",
   "metadata": {
    "ExecuteTime": {
     "end_time": "2024-10-13T04:13:16.487691Z",
     "start_time": "2024-10-13T04:13:16.482389Z"
    }
   },
   "source": [
    "print('Actives:', int(df['active'].sum()))\n",
    "print('Inactives:', int(len(df)-df['active'].sum()))"
   ],
   "outputs": [
    {
     "name": "stdout",
     "output_type": "stream",
     "text": [
      "Actives: 2762\n",
      "Inactives: 2147\n"
     ]
    }
   ],
   "execution_count": 28
  },
  {
   "cell_type": "markdown",
   "metadata": {},
   "source": [
    "### 5. Split data\n",
    "\n",
    "***Split the data into training and test set by using the [train_test_split](https://scikit-learn.org/stable/modules/generated/sklearn.model_selection.train_test_split.html) function.***"
   ]
  },
  {
   "metadata": {
    "ExecuteTime": {
     "end_time": "2024-10-13T04:14:33.045056Z",
     "start_time": "2024-10-13T04:14:33.037064Z"
    }
   },
   "cell_type": "code",
   "source": [
    "# specify features and label\n",
    "x, y = df['maccs'].to_list(), df['active'].to_list()\n",
    "# Split the features and labels into training and test sets\n",
    "x_train, x_test, y_train, y_test = train_test_split(x, y, test_size=0.2, random_state=42)"
   ],
   "outputs": [],
   "execution_count": 30
  },
  {
   "metadata": {},
   "cell_type": "markdown",
   "source": "### 6. Train a support vector classifier\n"
  },
  {
   "metadata": {
    "ExecuteTime": {
     "end_time": "2024-10-13T04:14:39.015174Z",
     "start_time": "2024-10-13T04:14:34.351938Z"
    }
   },
   "cell_type": "code",
   "source": [
    "# train model\n",
    "model = SVC(kernel='linear', C=1.0, random_state=42)\n",
    "model.fit(x_train, y_train)"
   ],
   "outputs": [
    {
     "data": {
      "text/plain": [
       "SVC(kernel='linear', random_state=42)"
      ],
      "text/html": [
       "<style>#sk-container-id-1 {color: black;background-color: white;}#sk-container-id-1 pre{padding: 0;}#sk-container-id-1 div.sk-toggleable {background-color: white;}#sk-container-id-1 label.sk-toggleable__label {cursor: pointer;display: block;width: 100%;margin-bottom: 0;padding: 0.3em;box-sizing: border-box;text-align: center;}#sk-container-id-1 label.sk-toggleable__label-arrow:before {content: \"▸\";float: left;margin-right: 0.25em;color: #696969;}#sk-container-id-1 label.sk-toggleable__label-arrow:hover:before {color: black;}#sk-container-id-1 div.sk-estimator:hover label.sk-toggleable__label-arrow:before {color: black;}#sk-container-id-1 div.sk-toggleable__content {max-height: 0;max-width: 0;overflow: hidden;text-align: left;background-color: #f0f8ff;}#sk-container-id-1 div.sk-toggleable__content pre {margin: 0.2em;color: black;border-radius: 0.25em;background-color: #f0f8ff;}#sk-container-id-1 input.sk-toggleable__control:checked~div.sk-toggleable__content {max-height: 200px;max-width: 100%;overflow: auto;}#sk-container-id-1 input.sk-toggleable__control:checked~label.sk-toggleable__label-arrow:before {content: \"▾\";}#sk-container-id-1 div.sk-estimator input.sk-toggleable__control:checked~label.sk-toggleable__label {background-color: #d4ebff;}#sk-container-id-1 div.sk-label input.sk-toggleable__control:checked~label.sk-toggleable__label {background-color: #d4ebff;}#sk-container-id-1 input.sk-hidden--visually {border: 0;clip: rect(1px 1px 1px 1px);clip: rect(1px, 1px, 1px, 1px);height: 1px;margin: -1px;overflow: hidden;padding: 0;position: absolute;width: 1px;}#sk-container-id-1 div.sk-estimator {font-family: monospace;background-color: #f0f8ff;border: 1px dotted black;border-radius: 0.25em;box-sizing: border-box;margin-bottom: 0.5em;}#sk-container-id-1 div.sk-estimator:hover {background-color: #d4ebff;}#sk-container-id-1 div.sk-parallel-item::after {content: \"\";width: 100%;border-bottom: 1px solid gray;flex-grow: 1;}#sk-container-id-1 div.sk-label:hover label.sk-toggleable__label {background-color: #d4ebff;}#sk-container-id-1 div.sk-serial::before {content: \"\";position: absolute;border-left: 1px solid gray;box-sizing: border-box;top: 0;bottom: 0;left: 50%;z-index: 0;}#sk-container-id-1 div.sk-serial {display: flex;flex-direction: column;align-items: center;background-color: white;padding-right: 0.2em;padding-left: 0.2em;position: relative;}#sk-container-id-1 div.sk-item {position: relative;z-index: 1;}#sk-container-id-1 div.sk-parallel {display: flex;align-items: stretch;justify-content: center;background-color: white;position: relative;}#sk-container-id-1 div.sk-item::before, #sk-container-id-1 div.sk-parallel-item::before {content: \"\";position: absolute;border-left: 1px solid gray;box-sizing: border-box;top: 0;bottom: 0;left: 50%;z-index: -1;}#sk-container-id-1 div.sk-parallel-item {display: flex;flex-direction: column;z-index: 1;position: relative;background-color: white;}#sk-container-id-1 div.sk-parallel-item:first-child::after {align-self: flex-end;width: 50%;}#sk-container-id-1 div.sk-parallel-item:last-child::after {align-self: flex-start;width: 50%;}#sk-container-id-1 div.sk-parallel-item:only-child::after {width: 0;}#sk-container-id-1 div.sk-dashed-wrapped {border: 1px dashed gray;margin: 0 0.4em 0.5em 0.4em;box-sizing: border-box;padding-bottom: 0.4em;background-color: white;}#sk-container-id-1 div.sk-label label {font-family: monospace;font-weight: bold;display: inline-block;line-height: 1.2em;}#sk-container-id-1 div.sk-label-container {text-align: center;}#sk-container-id-1 div.sk-container {/* jupyter's `normalize.less` sets `[hidden] { display: none; }` but bootstrap.min.css set `[hidden] { display: none !important; }` so we also need the `!important` here to be able to override the default hidden behavior on the sphinx rendered scikit-learn.org. See: https://github.com/scikit-learn/scikit-learn/issues/21755 */display: inline-block !important;position: relative;}#sk-container-id-1 div.sk-text-repr-fallback {display: none;}</style><div id=\"sk-container-id-1\" class=\"sk-top-container\"><div class=\"sk-text-repr-fallback\"><pre>SVC(kernel=&#x27;linear&#x27;, random_state=42)</pre><b>In a Jupyter environment, please rerun this cell to show the HTML representation or trust the notebook. <br />On GitHub, the HTML representation is unable to render, please try loading this page with nbviewer.org.</b></div><div class=\"sk-container\" hidden><div class=\"sk-item\"><div class=\"sk-estimator sk-toggleable\"><input class=\"sk-toggleable__control sk-hidden--visually\" id=\"sk-estimator-id-1\" type=\"checkbox\" checked><label for=\"sk-estimator-id-1\" class=\"sk-toggleable__label sk-toggleable__label-arrow\">SVC</label><div class=\"sk-toggleable__content\"><pre>SVC(kernel=&#x27;linear&#x27;, random_state=42)</pre></div></div></div></div></div>"
      ]
     },
     "execution_count": 31,
     "metadata": {},
     "output_type": "execute_result"
    }
   ],
   "execution_count": 31
  },
  {
   "metadata": {},
   "cell_type": "markdown",
   "source": [
    "### 7. Assess performance   \n",
    "\n"
   ]
  },
  {
   "metadata": {
    "ExecuteTime": {
     "end_time": "2024-10-13T04:14:42.379259Z",
     "start_time": "2024-10-13T04:14:41.365872Z"
    }
   },
   "cell_type": "code",
   "source": [
    "# predict the activity of the test set\n",
    "y_pred = model.predict(x_test)"
   ],
   "outputs": [],
   "execution_count": 32
  },
  {
   "metadata": {},
   "cell_type": "markdown",
   "source": ""
  },
  {
   "metadata": {},
   "cell_type": "markdown",
   "source": [
    "#### 8. Use unexplored molecules\n",
    "\n",
    "***Use your model and predict the activity of a set of unknown molecules located at*** `data/egfr_candidates.csv`***.***"
   ]
  },
  {
   "metadata": {},
   "cell_type": "code",
   "outputs": [],
   "execution_count": null,
   "source": ""
  },
  {
   "cell_type": "code",
   "execution_count": null,
   "metadata": {},
   "outputs": [],
   "source": ""
  },
  {
   "cell_type": "markdown",
   "metadata": {},
   "source": [
    "### 7. Assess performance\n",
    "\n",
    "- ***[predict](https://scikit-learn.org/stable/modules/generated/sklearn.svm.SVC.html#sklearn.svm.SVC.predict) the activity of the test set***  \n",
    "- ***assess the performance of your model by plotting a [ROC curve](https://scikit-learn.org/stable/modules/generated/sklearn.metrics.roc_curve.html) and calcuation of the [AUC](https://scikit-learn.org/stable/modules/generated/sklearn.metrics.roc_auc_score.html)***"
   ]
  },
  {
   "cell_type": "code",
   "metadata": {
    "ExecuteTime": {
     "end_time": "2024-10-13T04:15:51.006273Z",
     "start_time": "2024-10-13T04:15:50.012019Z"
    }
   },
   "source": [
    "# predict the activity of the test set\n",
    "y_pred = model.predict(x_test)\n",
    "####################\n",
    "\n",
    "####################"
   ],
   "outputs": [],
   "execution_count": 33
  },
  {
   "metadata": {
    "ExecuteTime": {
     "end_time": "2024-10-13T04:15:51.731922Z",
     "start_time": "2024-10-13T04:15:51.723999Z"
    }
   },
   "cell_type": "code",
   "source": [
    "# calculate AUC\n",
    "auc = roc_auc_score(y_test, y_pred)\n",
    "print('AUC:', auc)"
   ],
   "outputs": [
    {
     "name": "stdout",
     "output_type": "stream",
     "text": [
      "AUC: 0.7879133313067855\n"
     ]
    }
   ],
   "execution_count": 34
  },
  {
   "metadata": {},
   "cell_type": "markdown",
   "source": [
    "\n",
    "\n",
    "####################\n",
    "\n",
    "####################"
   ]
  },
  {
   "metadata": {
    "ExecuteTime": {
     "end_time": "2024-10-13T04:15:53.332981Z",
     "start_time": "2024-10-13T04:15:53.163212Z"
    }
   },
   "cell_type": "code",
   "source": [
    "# plot the ROC curve\n",
    "fpr, tpr, thresholds = roc_curve(y_test, y_pred)\n",
    "plt.plot(fpr, tpr, label='ROC curve (AUC = %0.2f)' % auc)\n",
    "plt.plot([0, 1], [0, 1], 'k--')\n",
    "plt.xlim([0.0, 1.0])\n",
    "plt.ylim([0.0, 1.05])\n",
    "plt.xlabel('False Positive Rate')\n",
    "plt.ylabel('True Positive Rate')\n",
    "plt.title('Receiver operating characteristic example')\n",
    "plt.legend(loc=\"lower right\")\n",
    "plt.show()"
   ],
   "outputs": [
    {
     "data": {
      "text/plain": [
       "<Figure size 640x480 with 1 Axes>"
      ],
      "image/png": "[encoded data removed]"
     },
     "metadata": {},
     "output_type": "display_data"
    }
   ],
   "execution_count": 35
  },
  {
   "metadata": {},
   "cell_type": "markdown",
   "source": [
    "####################\n",
    "\n",
    "####################"
   ]
  },
  {
   "cell_type": "markdown",
   "metadata": {},
   "source": ""
  },
  {
   "cell_type": "code",
   "execution_count": null,
   "metadata": {},
   "outputs": [],
   "source": ""
  },
  {
   "cell_type": "code",
   "execution_count": null,
   "metadata": {},
   "outputs": [],
   "source": ""
  },
  {
   "cell_type": "markdown",
   "metadata": {},
   "source": ""
  }
 ],
 "metadata": {
  "kernelspec": {
   "display_name": "Python 3",
   "language": "python",
   "name": "python3"
  },
  "language_info": {
   "codemirror_mode": {
    "name": "ipython",
    "version": 3
   },
   "file_extension": ".py",
   "mimetype": "text/x-python",
   "name": "python",
   "nbconvert_exporter": "python",
   "pygments_lexer": "ipython3",
   "version": "3.8.10"
  }
 },
 "nbformat": 4,
 "nbformat_minor": 4
}

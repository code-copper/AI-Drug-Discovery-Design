{
 "cells": [
  {
   "cell_type": "markdown",
   "source": [
    "# 01_Graph_neural_network_Amphiphilic_Molecule_Analysis.ipynb\n",
    "- Amphiphilic_Molecule_Analysis\n",
    "- Study on solubility prediction of amphiphilic molecules based on molecular descriptor and graph neural network"
   ],
   "metadata": {
    "collapsed": false
   },
   "id": "20ee96405f2d3f61"
  },
  {
   "cell_type": "markdown",
   "source": [
    "# 1. 安装必要的库"
   ],
   "metadata": {
    "collapsed": false
   },
   "id": "134025837bc06694"
  },
  {
   "cell_type": "code",
   "execution_count": null,
   "outputs": [],
   "source": [
    "!pip install PyTDC rdkit-pypi torch-geometric torch-scatter torch-sparse -f https://data.pyg.org/whl/torch-1.13.0+cpu.html"
   ],
   "metadata": {
    "collapsed": true,
    "ExecuteTime": {
     "end_time": "2024-09-14T16:33:40.731758Z",
     "start_time": "2024-09-14T16:33:40.718989Z"
    }
   },
   "id": "initial_id"
  },
  {
   "cell_type": "markdown",
   "source": [
    "# 2. 导入必要的库"
   ],
   "metadata": {
    "collapsed": false
   },
   "id": "7c9774e682de97be"
  },
  {
   "cell_type": "code",
   "execution_count": 10,
   "outputs": [
    {
     "name": "stdout",
     "output_type": "stream",
     "text": [
      "1.13.0\n"
     ]
    }
   ],
   "source": [
    "import torch\n",
    "print(torch.__version__)"
   ],
   "metadata": {
    "collapsed": false,
    "ExecuteTime": {
     "end_time": "2024-09-15T01:13:23.568073Z",
     "start_time": "2024-09-15T01:13:23.554384Z"
    }
   },
   "id": "b1397332138f192"
  },
  {
   "cell_type": "markdown",
   "source": [
    "# 3. 导入数据集和工具"
   ],
   "metadata": {
    "collapsed": false
   },
   "id": "aab86164bf00a8d7"
  },
  {
   "cell_type": "code",
   "execution_count": 11,
   "outputs": [
    {
     "ename": "ValueError",
     "evalue": "numpy.dtype size changed, may indicate binary incompatibility. Expected 96 from C header, got 88 from PyObject",
     "output_type": "error",
     "traceback": [
      "\u001B[0;31m---------------------------------------------------------------------------\u001B[0m",
      "\u001B[0;31mValueError\u001B[0m                                Traceback (most recent call last)",
      "Cell \u001B[0;32mIn[11], line 1\u001B[0m\n\u001B[0;32m----> 1\u001B[0m \u001B[38;5;28;01mfrom\u001B[39;00m \u001B[38;5;21;01mtdc\u001B[39;00m\u001B[38;5;21;01m.\u001B[39;00m\u001B[38;5;21;01msingle_pred\u001B[39;00m \u001B[38;5;28;01mimport\u001B[39;00m ADME\n\u001B[1;32m      2\u001B[0m \u001B[38;5;28;01mfrom\u001B[39;00m \u001B[38;5;21;01mrdkit\u001B[39;00m \u001B[38;5;28;01mimport\u001B[39;00m Chem, RDLogger\n\u001B[1;32m      3\u001B[0m \u001B[38;5;28;01mfrom\u001B[39;00m \u001B[38;5;21;01mrdkit\u001B[39;00m\u001B[38;5;21;01m.\u001B[39;00m\u001B[38;5;21;01mChem\u001B[39;00m \u001B[38;5;28;01mimport\u001B[39;00m AllChem, Descriptors\n",
      "File \u001B[0;32m/opt/anaconda3/envs/AIDrugDesign/lib/python3.9/site-packages/tdc/__init__.py:1\u001B[0m\n\u001B[0;32m----> 1\u001B[0m \u001B[38;5;28;01mfrom\u001B[39;00m \u001B[38;5;21;01m.\u001B[39;00m\u001B[38;5;21;01mevaluator\u001B[39;00m \u001B[38;5;28;01mimport\u001B[39;00m Evaluator\n\u001B[1;32m      2\u001B[0m \u001B[38;5;28;01mfrom\u001B[39;00m \u001B[38;5;21;01m.\u001B[39;00m\u001B[38;5;21;01moracles\u001B[39;00m \u001B[38;5;28;01mimport\u001B[39;00m Oracle\n\u001B[1;32m      3\u001B[0m \u001B[38;5;28;01mfrom\u001B[39;00m \u001B[38;5;21;01m.\u001B[39;00m\u001B[38;5;21;01mbenchmark_deprecated\u001B[39;00m \u001B[38;5;28;01mimport\u001B[39;00m BenchmarkGroup\n",
      "File \u001B[0;32m/opt/anaconda3/envs/AIDrugDesign/lib/python3.9/site-packages/tdc/evaluator.py:1\u001B[0m\n\u001B[0;32m----> 1\u001B[0m \u001B[38;5;28;01mimport\u001B[39;00m \u001B[38;5;21;01mpandas\u001B[39;00m \u001B[38;5;28;01mas\u001B[39;00m \u001B[38;5;21;01mpd\u001B[39;00m\n\u001B[1;32m      2\u001B[0m \u001B[38;5;28;01mimport\u001B[39;00m \u001B[38;5;21;01mnumpy\u001B[39;00m \u001B[38;5;28;01mas\u001B[39;00m \u001B[38;5;21;01mnp\u001B[39;00m\n\u001B[1;32m      3\u001B[0m \u001B[38;5;28;01mimport\u001B[39;00m \u001B[38;5;21;01mos\u001B[39;00m\u001B[38;5;241m,\u001B[39m \u001B[38;5;21;01msys\u001B[39;00m\u001B[38;5;241m,\u001B[39m \u001B[38;5;21;01mjson\u001B[39;00m\n",
      "File \u001B[0;32m/opt/anaconda3/envs/AIDrugDesign/lib/python3.9/site-packages/pandas/__init__.py:37\u001B[0m\n\u001B[1;32m     30\u001B[0m     _module \u001B[38;5;241m=\u001B[39m _err\u001B[38;5;241m.\u001B[39mname\n\u001B[1;32m     31\u001B[0m     \u001B[38;5;28;01mraise\u001B[39;00m \u001B[38;5;167;01mImportError\u001B[39;00m(\n\u001B[1;32m     32\u001B[0m         \u001B[38;5;124mf\u001B[39m\u001B[38;5;124m\"\u001B[39m\u001B[38;5;124mC extension: \u001B[39m\u001B[38;5;132;01m{\u001B[39;00m_module\u001B[38;5;132;01m}\u001B[39;00m\u001B[38;5;124m not built. If you want to import \u001B[39m\u001B[38;5;124m\"\u001B[39m\n\u001B[1;32m     33\u001B[0m         \u001B[38;5;124m\"\u001B[39m\u001B[38;5;124mpandas from the source directory, you may need to run \u001B[39m\u001B[38;5;124m\"\u001B[39m\n\u001B[1;32m     34\u001B[0m         \u001B[38;5;124m\"\u001B[39m\u001B[38;5;124m'\u001B[39m\u001B[38;5;124mpython setup.py build_ext\u001B[39m\u001B[38;5;124m'\u001B[39m\u001B[38;5;124m to build the C extensions first.\u001B[39m\u001B[38;5;124m\"\u001B[39m\n\u001B[1;32m     35\u001B[0m     ) \u001B[38;5;28;01mfrom\u001B[39;00m \u001B[38;5;21;01m_err\u001B[39;00m\n\u001B[0;32m---> 37\u001B[0m \u001B[38;5;28;01mfrom\u001B[39;00m \u001B[38;5;21;01mpandas\u001B[39;00m\u001B[38;5;21;01m.\u001B[39;00m\u001B[38;5;21;01m_config\u001B[39;00m \u001B[38;5;28;01mimport\u001B[39;00m (\n\u001B[1;32m     38\u001B[0m     get_option,\n\u001B[1;32m     39\u001B[0m     set_option,\n\u001B[1;32m     40\u001B[0m     reset_option,\n\u001B[1;32m     41\u001B[0m     describe_option,\n\u001B[1;32m     42\u001B[0m     option_context,\n\u001B[1;32m     43\u001B[0m     options,\n\u001B[1;32m     44\u001B[0m )\n\u001B[1;32m     46\u001B[0m \u001B[38;5;66;03m# let init-time option registration happen\u001B[39;00m\n\u001B[1;32m     47\u001B[0m \u001B[38;5;28;01mimport\u001B[39;00m \u001B[38;5;21;01mpandas\u001B[39;00m\u001B[38;5;21;01m.\u001B[39;00m\u001B[38;5;21;01mcore\u001B[39;00m\u001B[38;5;21;01m.\u001B[39;00m\u001B[38;5;21;01mconfig_init\u001B[39;00m  \u001B[38;5;66;03m# pyright: ignore[reportUnusedImport] # noqa: F401\u001B[39;00m\n",
      "File \u001B[0;32m/opt/anaconda3/envs/AIDrugDesign/lib/python3.9/site-packages/pandas/_config/__init__.py:20\u001B[0m\n\u001B[1;32m      1\u001B[0m \u001B[38;5;124;03m\"\"\"\u001B[39;00m\n\u001B[1;32m      2\u001B[0m \u001B[38;5;124;03mpandas._config is considered explicitly upstream of everything else in pandas,\u001B[39;00m\n\u001B[1;32m      3\u001B[0m \u001B[38;5;124;03mshould have no intra-pandas dependencies.\u001B[39;00m\n\u001B[0;32m   (...)\u001B[0m\n\u001B[1;32m      6\u001B[0m \u001B[38;5;124;03mare initialized.\u001B[39;00m\n\u001B[1;32m      7\u001B[0m \u001B[38;5;124;03m\"\"\"\u001B[39;00m\n\u001B[1;32m      8\u001B[0m __all__ \u001B[38;5;241m=\u001B[39m [\n\u001B[1;32m      9\u001B[0m     \u001B[38;5;124m\"\u001B[39m\u001B[38;5;124mconfig\u001B[39m\u001B[38;5;124m\"\u001B[39m,\n\u001B[1;32m     10\u001B[0m     \u001B[38;5;124m\"\u001B[39m\u001B[38;5;124mdetect_console_encoding\u001B[39m\u001B[38;5;124m\"\u001B[39m,\n\u001B[0;32m   (...)\u001B[0m\n\u001B[1;32m     18\u001B[0m     \u001B[38;5;124m\"\u001B[39m\u001B[38;5;124mwarn_copy_on_write\u001B[39m\u001B[38;5;124m\"\u001B[39m,\n\u001B[1;32m     19\u001B[0m ]\n\u001B[0;32m---> 20\u001B[0m \u001B[38;5;28;01mfrom\u001B[39;00m \u001B[38;5;21;01mpandas\u001B[39;00m\u001B[38;5;21;01m.\u001B[39;00m\u001B[38;5;21;01m_config\u001B[39;00m \u001B[38;5;28;01mimport\u001B[39;00m config\n\u001B[1;32m     21\u001B[0m \u001B[38;5;28;01mfrom\u001B[39;00m \u001B[38;5;21;01mpandas\u001B[39;00m\u001B[38;5;21;01m.\u001B[39;00m\u001B[38;5;21;01m_config\u001B[39;00m \u001B[38;5;28;01mimport\u001B[39;00m dates  \u001B[38;5;66;03m# pyright: ignore[reportUnusedImport]  # noqa: F401\u001B[39;00m\n\u001B[1;32m     22\u001B[0m \u001B[38;5;28;01mfrom\u001B[39;00m \u001B[38;5;21;01mpandas\u001B[39;00m\u001B[38;5;21;01m.\u001B[39;00m\u001B[38;5;21;01m_config\u001B[39;00m\u001B[38;5;21;01m.\u001B[39;00m\u001B[38;5;21;01mconfig\u001B[39;00m \u001B[38;5;28;01mimport\u001B[39;00m (\n\u001B[1;32m     23\u001B[0m     _global_config,\n\u001B[1;32m     24\u001B[0m     describe_option,\n\u001B[0;32m   (...)\u001B[0m\n\u001B[1;32m     29\u001B[0m     set_option,\n\u001B[1;32m     30\u001B[0m )\n",
      "File \u001B[0;32m/opt/anaconda3/envs/AIDrugDesign/lib/python3.9/site-packages/pandas/_config/config.py:68\u001B[0m\n\u001B[1;32m     58\u001B[0m \u001B[38;5;28;01mfrom\u001B[39;00m \u001B[38;5;21;01mtyping\u001B[39;00m \u001B[38;5;28;01mimport\u001B[39;00m (\n\u001B[1;32m     59\u001B[0m     TYPE_CHECKING,\n\u001B[1;32m     60\u001B[0m     Any,\n\u001B[0;32m   (...)\u001B[0m\n\u001B[1;32m     64\u001B[0m     cast,\n\u001B[1;32m     65\u001B[0m )\n\u001B[1;32m     66\u001B[0m \u001B[38;5;28;01mimport\u001B[39;00m \u001B[38;5;21;01mwarnings\u001B[39;00m\n\u001B[0;32m---> 68\u001B[0m \u001B[38;5;28;01mfrom\u001B[39;00m \u001B[38;5;21;01mpandas\u001B[39;00m\u001B[38;5;21;01m.\u001B[39;00m\u001B[38;5;21;01m_typing\u001B[39;00m \u001B[38;5;28;01mimport\u001B[39;00m (\n\u001B[1;32m     69\u001B[0m     F,\n\u001B[1;32m     70\u001B[0m     T,\n\u001B[1;32m     71\u001B[0m )\n\u001B[1;32m     72\u001B[0m \u001B[38;5;28;01mfrom\u001B[39;00m \u001B[38;5;21;01mpandas\u001B[39;00m\u001B[38;5;21;01m.\u001B[39;00m\u001B[38;5;21;01mutil\u001B[39;00m\u001B[38;5;21;01m.\u001B[39;00m\u001B[38;5;21;01m_exceptions\u001B[39;00m \u001B[38;5;28;01mimport\u001B[39;00m find_stack_level\n\u001B[1;32m     74\u001B[0m \u001B[38;5;28;01mif\u001B[39;00m TYPE_CHECKING:\n",
      "File \u001B[0;32m/opt/anaconda3/envs/AIDrugDesign/lib/python3.9/site-packages/pandas/_typing.py:198\u001B[0m\n\u001B[1;32m    192\u001B[0m Frequency \u001B[38;5;241m=\u001B[39m Union[\u001B[38;5;28mstr\u001B[39m, \u001B[38;5;124m\"\u001B[39m\u001B[38;5;124mBaseOffset\u001B[39m\u001B[38;5;124m\"\u001B[39m]\n\u001B[1;32m    193\u001B[0m Axes \u001B[38;5;241m=\u001B[39m ListLike\n\u001B[1;32m    195\u001B[0m RandomState \u001B[38;5;241m=\u001B[39m Union[\n\u001B[1;32m    196\u001B[0m     \u001B[38;5;28mint\u001B[39m,\n\u001B[1;32m    197\u001B[0m     np\u001B[38;5;241m.\u001B[39mndarray,\n\u001B[0;32m--> 198\u001B[0m     \u001B[43mnp\u001B[49m\u001B[38;5;241;43m.\u001B[39;49m\u001B[43mrandom\u001B[49m\u001B[38;5;241m.\u001B[39mGenerator,\n\u001B[1;32m    199\u001B[0m     np\u001B[38;5;241m.\u001B[39mrandom\u001B[38;5;241m.\u001B[39mBitGenerator,\n\u001B[1;32m    200\u001B[0m     np\u001B[38;5;241m.\u001B[39mrandom\u001B[38;5;241m.\u001B[39mRandomState,\n\u001B[1;32m    201\u001B[0m ]\n\u001B[1;32m    203\u001B[0m \u001B[38;5;66;03m# dtypes\u001B[39;00m\n\u001B[1;32m    204\u001B[0m NpDtype \u001B[38;5;241m=\u001B[39m Union[\u001B[38;5;28mstr\u001B[39m, np\u001B[38;5;241m.\u001B[39mdtype, type_t[Union[\u001B[38;5;28mstr\u001B[39m, \u001B[38;5;28mcomplex\u001B[39m, \u001B[38;5;28mbool\u001B[39m, \u001B[38;5;28mobject\u001B[39m]]]\n",
      "File \u001B[0;32m/opt/anaconda3/envs/AIDrugDesign/lib/python3.9/site-packages/numpy/__init__.py:337\u001B[0m, in \u001B[0;36m__getattr__\u001B[0;34m(attr)\u001B[0m\n\u001B[1;32m    336\u001B[0m \u001B[38;5;28;01mdef\u001B[39;00m \u001B[38;5;21m__dir__\u001B[39m():\n\u001B[0;32m--> 337\u001B[0m     public_symbols \u001B[38;5;241m=\u001B[39m \u001B[38;5;28mglobals\u001B[39m()\u001B[38;5;241m.\u001B[39mkeys() \u001B[38;5;241m|\u001B[39m {\u001B[38;5;124m'\u001B[39m\u001B[38;5;124mtesting\u001B[39m\u001B[38;5;124m'\u001B[39m}\n\u001B[1;32m    338\u001B[0m     public_symbols \u001B[38;5;241m-\u001B[39m\u001B[38;5;241m=\u001B[39m {\n\u001B[1;32m    339\u001B[0m         \u001B[38;5;124m\"\u001B[39m\u001B[38;5;124mcore\u001B[39m\u001B[38;5;124m\"\u001B[39m, \u001B[38;5;124m\"\u001B[39m\u001B[38;5;124mmatrixlib\u001B[39m\u001B[38;5;124m\"\u001B[39m,\n\u001B[1;32m    340\u001B[0m         \u001B[38;5;66;03m# These were moved in 1.25 and may be deprecated eventually:\u001B[39;00m\n\u001B[1;32m    341\u001B[0m         \u001B[38;5;124m\"\u001B[39m\u001B[38;5;124mModuleDeprecationWarning\u001B[39m\u001B[38;5;124m\"\u001B[39m, \u001B[38;5;124m\"\u001B[39m\u001B[38;5;124mVisibleDeprecationWarning\u001B[39m\u001B[38;5;124m\"\u001B[39m,\n\u001B[1;32m    342\u001B[0m         \u001B[38;5;124m\"\u001B[39m\u001B[38;5;124mComplexWarning\u001B[39m\u001B[38;5;124m\"\u001B[39m, \u001B[38;5;124m\"\u001B[39m\u001B[38;5;124mTooHardError\u001B[39m\u001B[38;5;124m\"\u001B[39m, \u001B[38;5;124m\"\u001B[39m\u001B[38;5;124mAxisError\u001B[39m\u001B[38;5;124m\"\u001B[39m\n\u001B[1;32m    343\u001B[0m     }\n\u001B[1;32m    344\u001B[0m     \u001B[38;5;28;01mreturn\u001B[39;00m \u001B[38;5;28mlist\u001B[39m(public_symbols)\n",
      "File \u001B[0;32m/opt/anaconda3/envs/AIDrugDesign/lib/python3.9/site-packages/numpy/random/__init__.py:180\u001B[0m\n\u001B[1;32m    126\u001B[0m __all__ \u001B[38;5;241m=\u001B[39m [\n\u001B[1;32m    127\u001B[0m     \u001B[38;5;124m'\u001B[39m\u001B[38;5;124mbeta\u001B[39m\u001B[38;5;124m'\u001B[39m,\n\u001B[1;32m    128\u001B[0m     \u001B[38;5;124m'\u001B[39m\u001B[38;5;124mbinomial\u001B[39m\u001B[38;5;124m'\u001B[39m,\n\u001B[0;32m   (...)\u001B[0m\n\u001B[1;32m    176\u001B[0m     \u001B[38;5;124m'\u001B[39m\u001B[38;5;124mzipf\u001B[39m\u001B[38;5;124m'\u001B[39m,\n\u001B[1;32m    177\u001B[0m ]\n\u001B[1;32m    179\u001B[0m \u001B[38;5;66;03m# add these for module-freeze analysis (like PyInstaller)\u001B[39;00m\n\u001B[0;32m--> 180\u001B[0m \u001B[38;5;28;01mfrom\u001B[39;00m \u001B[38;5;21;01m.\u001B[39;00m \u001B[38;5;28;01mimport\u001B[39;00m _pickle\n\u001B[1;32m    181\u001B[0m \u001B[38;5;28;01mfrom\u001B[39;00m \u001B[38;5;21;01m.\u001B[39;00m \u001B[38;5;28;01mimport\u001B[39;00m _common\n\u001B[1;32m    182\u001B[0m \u001B[38;5;28;01mfrom\u001B[39;00m \u001B[38;5;21;01m.\u001B[39;00m \u001B[38;5;28;01mimport\u001B[39;00m _bounded_integers\n",
      "File \u001B[0;32m/opt/anaconda3/envs/AIDrugDesign/lib/python3.9/site-packages/numpy/random/_pickle.py:1\u001B[0m\n\u001B[0;32m----> 1\u001B[0m \u001B[38;5;28;01mfrom\u001B[39;00m \u001B[38;5;21;01m.\u001B[39;00m\u001B[38;5;21;01mmtrand\u001B[39;00m \u001B[38;5;28;01mimport\u001B[39;00m RandomState\n\u001B[1;32m      2\u001B[0m \u001B[38;5;28;01mfrom\u001B[39;00m \u001B[38;5;21;01m.\u001B[39;00m\u001B[38;5;21;01m_philox\u001B[39;00m \u001B[38;5;28;01mimport\u001B[39;00m Philox\n\u001B[1;32m      3\u001B[0m \u001B[38;5;28;01mfrom\u001B[39;00m \u001B[38;5;21;01m.\u001B[39;00m\u001B[38;5;21;01m_pcg64\u001B[39;00m \u001B[38;5;28;01mimport\u001B[39;00m PCG64, PCG64DXSM\n",
      "File \u001B[0;32mnumpy/random/mtrand.pyx:1\u001B[0m, in \u001B[0;36minit numpy.random.mtrand\u001B[0;34m()\u001B[0m\n",
      "\u001B[0;31mValueError\u001B[0m: numpy.dtype size changed, may indicate binary incompatibility. Expected 96 from C header, got 88 from PyObject"
     ]
    }
   ],
   "source": [
    "from tdc.single_pred import ADME\n",
    "from rdkit import Chem, RDLogger\n",
    "from rdkit.Chem import AllChem, Descriptors\n",
    "import numpy as np\n",
    "import pandas as pd\n",
    "import tqdm\n",
    "import matplotlib.pyplot as plt\n",
    "import seaborn as sns"
   ],
   "metadata": {
    "collapsed": false,
    "ExecuteTime": {
     "end_time": "2024-09-15T01:13:24.264804Z",
     "start_time": "2024-09-15T01:13:23.933314Z"
    }
   },
   "id": "d65fc63ac3b6c3df"
  },
  {
   "cell_type": "markdown",
   "source": [
    "# 关闭 rdkit 日志"
   ],
   "metadata": {
    "collapsed": false
   },
   "id": "b1ef2ae89dba6339"
  },
  {
   "cell_type": "code",
   "execution_count": 12,
   "outputs": [
    {
     "ename": "NameError",
     "evalue": "name 'RDLogger' is not defined",
     "output_type": "error",
     "traceback": [
      "\u001B[0;31m---------------------------------------------------------------------------\u001B[0m",
      "\u001B[0;31mNameError\u001B[0m                                 Traceback (most recent call last)",
      "Cell \u001B[0;32mIn[12], line 1\u001B[0m\n\u001B[0;32m----> 1\u001B[0m \u001B[43mRDLogger\u001B[49m\u001B[38;5;241m.\u001B[39mDisableLog(\u001B[38;5;124m'\u001B[39m\u001B[38;5;124mrdApp.*\u001B[39m\u001B[38;5;124m'\u001B[39m)\n",
      "\u001B[0;31mNameError\u001B[0m: name 'RDLogger' is not defined"
     ]
    }
   ],
   "source": [
    "RDLogger.DisableLog('rdApp.*')"
   ],
   "metadata": {
    "collapsed": false,
    "ExecuteTime": {
     "end_time": "2024-09-15T01:13:25.336849Z",
     "start_time": "2024-09-15T01:13:25.305538Z"
    }
   },
   "id": "d12ad54e36420921"
  },
  {
   "cell_type": "code",
   "execution_count": 13,
   "outputs": [
    {
     "ename": "NameError",
     "evalue": "name 'ADME' is not defined",
     "output_type": "error",
     "traceback": [
      "\u001B[0;31m---------------------------------------------------------------------------\u001B[0m",
      "\u001B[0;31mNameError\u001B[0m                                 Traceback (most recent call last)",
      "Cell \u001B[0;32mIn[13], line 2\u001B[0m\n\u001B[1;32m      1\u001B[0m \u001B[38;5;66;03m# 加载溶解度数据集\u001B[39;00m\n\u001B[0;32m----> 2\u001B[0m data \u001B[38;5;241m=\u001B[39m \u001B[43mADME\u001B[49m(name\u001B[38;5;241m=\u001B[39m\u001B[38;5;124m'\u001B[39m\u001B[38;5;124mSolubility_AqSolDB\u001B[39m\u001B[38;5;124m'\u001B[39m)\n\u001B[1;32m      3\u001B[0m split \u001B[38;5;241m=\u001B[39m data\u001B[38;5;241m.\u001B[39mget_split(method\u001B[38;5;241m=\u001B[39m\u001B[38;5;124m'\u001B[39m\u001B[38;5;124mrandom\u001B[39m\u001B[38;5;124m'\u001B[39m)\n\u001B[1;32m      4\u001B[0m data\u001B[38;5;241m.\u001B[39mprint_stats()\n",
      "\u001B[0;31mNameError\u001B[0m: name 'ADME' is not defined"
     ]
    }
   ],
   "source": [
    "# 加载溶解度数据集\n",
    "data = ADME(name='Solubility_AqSolDB')\n",
    "split = data.get_split(method='random')\n",
    "data.print_stats()\n",
    "\n",
    "# 计算分子描述符函数\n",
    "def calculate_descriptors(smiles):\n",
    "    mol = Chem.MolFromSmiles(smiles)\n",
    "    logp = Descriptors.MolLogP(mol)\n",
    "    tpsa = Descriptors.TPSA(mol)\n",
    "    mol_weight = Descriptors.MolWt(mol)\n",
    "    num_h_donors = Descriptors.NumHDonors(mol)\n",
    "    num_h_acceptors = Descriptors.NumHAcceptors(mol)\n",
    "    return [logp, tpsa, mol_weight, num_h_donors, num_h_acceptors]\n",
    "\n",
    "# 计算分子指纹函数（Morgan Fingerprint）\n",
    "from rdkit.Chem import rdFingerprintGenerator\n",
    "mfpgen = rdFingerprintGenerator.GetMorganGenerator(radius=2, fpSize=1024)\n",
    "smiles2fp = lambda smiles: mfpgen.GetFingerprintAsNumPy(Chem.MolFromSmiles(smiles))\n",
    "\n",
    "# 整合指纹和描述符\n",
    "def smiles_to_features(smiles):\n",
    "    fingerprint = smiles2fp(smiles)\n",
    "    descriptors = calculate_descriptors(smiles)\n",
    "    features = np.concatenate([fingerprint, descriptors])\n",
    "    return features\n",
    "\n",
    "# 处理训练集、验证集和测试集\n",
    "def process_dataset(split):\n",
    "    X = np.stack(list(map(smiles_to_features, tqdm.tqdm(split['Drug']))))\n",
    "    y = split['Y'].values\n",
    "    return X, y\n",
    "\n",
    "X_train, y_train = process_dataset(split['train'])\n",
    "X_valid, y_valid = process_dataset(split['valid'])\n",
    "X_test, y_test = process_dataset(split['test'])\n",
    "\n",
    "# 查看特征维度\n",
    "print(\"Feature dimension:\", X_train.shape[1])\n",
    "\n",
    "# 标准化描述符（可选）\n",
    "from sklearn.preprocessing import StandardScaler\n",
    "\n",
    "scaler = StandardScaler()\n",
    "X_train[:, -5:] = scaler.fit_transform(X_train[:, -5:])\n",
    "X_valid[:, -5:] = scaler.transform(X_valid[:, -5:])\n",
    "X_test[:, -5:] = scaler.transform(X_test[:, -5:])\n",
    "\n",
    "# ---------------------------\n",
    "# 随机森林回归模型\n",
    "# ---------------------------\n",
    "\n",
    "from sklearn.ensemble import RandomForestRegressor\n",
    "from sklearn.metrics import mean_squared_error, mean_absolute_error\n",
    "\n",
    "rf_model = RandomForestRegressor(n_estimators=100, random_state=0)\n",
    "rf_model.fit(X_train, y_train)\n",
    "\n",
    "y_pred_rf = rf_model.predict(X_test)\n",
    "\n",
    "mse_rf = mean_squared_error(y_test, y_pred_rf)\n",
    "mae_rf = mean_absolute_error(y_test, y_pred_rf)\n",
    "print(f\"Random Forest Test MSE: {mse_rf:.4f}, MAE: {mae_rf:.4f}\")\n",
    "\n",
    "# 可视化预测结果\n",
    "plt.figure(figsize=(6,6))\n",
    "plt.scatter(y_test, y_pred_rf, alpha=0.6)\n",
    "plt.plot([-10, 2], [-10, 2], 'r--')\n",
    "plt.xlabel('True Solubility')\n",
    "plt.ylabel('Predicted Solubility')\n",
    "plt.title('Random Forest Predictions')\n",
    "plt.show()\n",
    "\n",
    "# 特征重要性分析\n",
    "importances = rf_model.feature_importances_\n",
    "indices = np.argsort(importances)[::-1]\n",
    "\n",
    "# 打印最重要的前10个特征\n",
    "print(\"Top 10 feature importances:\")\n",
    "for f in range(10):\n",
    "    if indices[f] < 1024:\n",
    "        feature_name = f\"Fingerprint {indices[f]}\"\n",
    "    else:\n",
    "        descriptor_names = ['LogP', 'TPSA', 'MolWt', 'NumHDonors', 'NumHAcceptors']\n",
    "        feature_name = descriptor_names[indices[f] - 1024]\n",
    "    print(f\"{f + 1}. {feature_name} ({importances[indices[f]]:.4f})\")\n",
    "\n",
    "# ---------------------------\n",
    "# 多层感知器（MLP）\n",
    "# ---------------------------\n",
    "\n",
    "import torch\n",
    "from torch.utils.data import Dataset, DataLoader\n",
    "import torch.nn as nn\n",
    "import torch.optim as optim\n",
    "\n",
    "class SolubilityDataset(Dataset):\n",
    "    def __init__(self, X, y):\n",
    "        self.features = torch.tensor(X, dtype=torch.float32)\n",
    "        self.labels = torch.tensor(y, dtype=torch.float32)\n",
    "\n",
    "    def __len__(self):\n",
    "        return len(self.labels)\n",
    "\n",
    "    def __getitem__(self, idx):\n",
    "        return self.features[idx], self.labels[idx]\n",
    "\n",
    "train_dataset = SolubilityDataset(X_train, y_train)\n",
    "valid_dataset = SolubilityDataset(X_valid, y_valid)\n",
    "test_dataset = SolubilityDataset(X_test, y_test)\n",
    "\n",
    "train_dataloader = DataLoader(train_dataset, batch_size=32, shuffle=True)\n",
    "valid_dataloader = DataLoader(valid_dataset, batch_size=32)\n",
    "test_dataloader = DataLoader(test_dataset, batch_size=32)\n",
    "\n",
    "# 定义 MLP 模型\n",
    "class SolubilityMLP(nn.Module):\n",
    "    def __init__(self, input_dim):\n",
    "        super(SolubilityMLP, self).__init__()\n",
    "        self.fc1 = nn.Linear(input_dim, 512)\n",
    "        self.fc2 = nn.Linear(512, 256)\n",
    "        self.fc3 = nn.Linear(256, 1)\n",
    "        self.relu = nn.ReLU()\n",
    "        self.dropout = nn.Dropout(p=0.2)\n",
    "\n",
    "    def forward(self, x):\n",
    "        x = self.relu(self.fc1(x))\n",
    "        x = self.dropout(x)\n",
    "        x = self.relu(self.fc2(x))\n",
    "        x = self.fc3(x)\n",
    "        return x\n",
    "\n",
    "input_dim = X_train.shape[1]\n",
    "model = SolubilityMLP(input_dim)\n",
    "criterion = nn.MSELoss()\n",
    "optimizer = optim.Adam(model.parameters(), lr=0.001)\n",
    "\n",
    "# 训练和验证函数\n",
    "def train(model, dataloader, criterion, optimizer):\n",
    "    model.train()\n",
    "    total_loss = 0\n",
    "    for features, labels in dataloader:\n",
    "        optimizer.zero_grad()\n",
    "        outputs = model(features)\n",
    "        loss = criterion(outputs.squeeze(), labels)\n",
    "        loss.backward()\n",
    "        optimizer.step()\n",
    "        total_loss += loss.item() * len(labels)\n",
    "    return total_loss / len(dataloader.dataset)\n",
    "\n",
    "def evaluate(model, dataloader, criterion):\n",
    "    model.eval()\n",
    "    total_loss = 0\n",
    "    with torch.no_grad():\n",
    "        for features, labels in dataloader:\n",
    "            outputs = model(features)\n",
    "            loss = criterion(outputs.squeeze(), labels)\n",
    "            total_loss += loss.item() * len(labels)\n",
    "    return total_loss / len(dataloader.dataset)\n",
    "\n",
    "# 开始训练\n",
    "num_epochs = 50\n",
    "for epoch in range(num_epochs):\n",
    "    train_loss = train(model, train_dataloader, criterion, optimizer)\n",
    "    valid_loss = evaluate(model, valid_dataloader, criterion)\n",
    "    if (epoch+1) % 5 == 0 or epoch == 0:\n",
    "        print(f'Epoch: {epoch + 1:03d}, Train Loss: {train_loss:.4f}, Validation Loss: {valid_loss:.4f}')\n",
    "\n",
    "# 测试集评估\n",
    "test_loss = evaluate(model, test_dataloader, criterion)\n",
    "print(f'Test Loss (MSE): {test_loss:.4f}')\n",
    "\n",
    "# 可视化预测结果\n",
    "model.eval()\n",
    "with torch.no_grad():\n",
    "    y_pred_mlp = model(torch.tensor(X_test, dtype=torch.float32)).squeeze().numpy()\n",
    "\n",
    "mae_mlp = mean_absolute_error(y_test, y_pred_mlp)\n",
    "print(f\"MLP Test MAE: {mae_mlp:.4f}\")\n",
    "\n",
    "plt.figure(figsize=(6,6))\n",
    "plt.scatter(y_test, y_pred_mlp, alpha=0.6)\n",
    "plt.plot([-10, 2], [-10, 2], 'r--')\n",
    "plt.xlabel('True Solubility')\n",
    "plt.ylabel('Predicted Solubility')\n",
    "plt.title('MLP Predictions')\n",
    "plt.show()\n",
    "\n",
    "# ---------------------------\n",
    "# 图神经网络（GNN）\n",
    "# ---------------------------\n",
    "\n",
    "from torch_geometric.utils import from_smiles\n",
    "from torch_geometric.loader import DataLoader as GeoDataLoader\n",
    "from torch_geometric.nn import global_mean_pool, GINConv\n",
    "from torch.nn import Linear, Sequential, ReLU\n",
    "import torch.nn.functional as F\n",
    "\n",
    "# 处理分子图数据\n",
    "def process_smiles(row):\n",
    "    data = from_smiles(row.Drug)\n",
    "    data.x = data.x.to(torch.float)\n",
    "    # 添加描述符作为全局特征\n",
    "    descriptors = calculate_descriptors(row.Drug)\n",
    "    data.descriptors = torch.tensor(descriptors, dtype=torch.float).unsqueeze(0)  # 修改此处\n",
    "    data.y = torch.tensor([row.Y], dtype=torch.float)  # 确保 y 是二维的\n",
    "    return data\n",
    "\n",
    "train_graphs = list(map(process_smiles, split['train'].itertuples()))\n",
    "valid_graphs = list(map(process_smiles, split['valid'].itertuples()))\n",
    "test_graphs = list(map(process_smiles, split['test'].itertuples()))\n",
    "\n",
    "train_dataloader = GeoDataLoader(train_graphs, batch_size=32, shuffle=True)\n",
    "valid_dataloader = GeoDataLoader(valid_graphs, batch_size=32)\n",
    "test_dataloader = GeoDataLoader(test_graphs, batch_size=32)\n",
    "\n",
    "# 定义 GIN 模型，整合描述符\n",
    "class GINWithDescriptors(torch.nn.Module):\n",
    "    def __init__(self, dim_h):\n",
    "        super(GINWithDescriptors, self).__init__()\n",
    "\n",
    "        self.conv1 = GINConv(Sequential(Linear(9, dim_h), ReLU(), Linear(dim_h, dim_h), ReLU()))\n",
    "        self.conv2 = GINConv(Sequential(Linear(dim_h, dim_h), ReLU(), Linear(dim_h, dim_h), ReLU()))\n",
    "        self.conv3 = GINConv(Sequential(Linear(dim_h, dim_h), ReLU(), Linear(dim_h, dim_h), ReLU()))\n",
    "\n",
    "        self.lin1 = Linear(dim_h + 5, dim_h)  # 加上描述符的维度\n",
    "        self.lin2 = Linear(dim_h, 1)\n",
    "\n",
    "    def forward(self, data):\n",
    "        x, edge_index, batch = data.x, data.edge_index, data.batch\n",
    "\n",
    "        # 节点嵌入\n",
    "        x = self.conv1(x, edge_index)\n",
    "        x = F.relu(x)\n",
    "        x = self.conv2(x, edge_index)\n",
    "        x = F.relu(x)\n",
    "        x = self.conv3(x, edge_index)\n",
    "\n",
    "        # 图级读出\n",
    "        x = global_mean_pool(x, batch)\n",
    "\n",
    "        # 整合描述符\n",
    "        descriptors = data.descriptors.view(data.num_graphs, -1)  # 修改此处\n",
    "\n",
    "        x = torch.cat([x, descriptors], dim=1)\n",
    "\n",
    "        x = self.lin1(x)\n",
    "        x = F.relu(x)\n",
    "        x = F.dropout(x, p=0.2, training=self.training)\n",
    "        x = self.lin2(x)\n",
    "\n",
    "        return x.squeeze()\n",
    "\n",
    "# 模型、损失函数和优化器\n",
    "model = GINWithDescriptors(dim_h=64)\n",
    "optimizer = torch.optim.Adam(model.parameters(), lr=0.001)\n",
    "criterion = nn.MSELoss()\n",
    "\n",
    "# 训练和验证函数\n",
    "def train(model, dataloader, criterion, optimizer):\n",
    "    model.train()\n",
    "    total_loss = 0\n",
    "    for data in dataloader:\n",
    "        optimizer.zero_grad()\n",
    "        out = model(data)\n",
    "        loss = criterion(out, data.y.view(-1))\n",
    "        loss.backward()\n",
    "        optimizer.step()\n",
    "        total_loss += loss.item() * data.num_graphs\n",
    "    return total_loss / len(dataloader.dataset)\n",
    "\n",
    "def evaluate(model, dataloader, criterion):\n",
    "    model.eval()\n",
    "    total_loss = 0\n",
    "    with torch.no_grad():\n",
    "        for data in dataloader:\n",
    "            out = model(data)\n",
    "            loss = criterion(out, data.y.view(-1))\n",
    "            total_loss += loss.item() * data.num_graphs\n",
    "    return total_loss / len(dataloader.dataset)\n",
    "\n",
    "# 开始训练\n",
    "num_epochs = 50\n",
    "for epoch in range(num_epochs):\n",
    "    train_loss = train(model, train_dataloader, criterion, optimizer)\n",
    "    valid_loss = evaluate(model, valid_dataloader, criterion)\n",
    "    if (epoch+1) % 5 == 0 or epoch == 0:\n",
    "        print(f'Epoch: {epoch + 1:03d}, Train Loss: {train_loss:.4f}, Validation Loss: {valid_loss:.4f}')\n",
    "\n",
    "# 测试集评估\n",
    "test_loss = evaluate(model, test_dataloader, criterion)\n",
    "print(f'Test Loss (MSE): {test_loss:.4f}')\n",
    "\n",
    "# 可视化预测结果\n",
    "model.eval()\n",
    "with torch.no_grad():\n",
    "    predictions = []\n",
    "    ground_truth = []\n",
    "    for data in test_dataloader:\n",
    "        outputs = model(data)\n",
    "        predictions.extend(outputs.cpu().numpy())\n",
    "        ground_truth.extend(data.y.cpu().numpy())\n",
    "\n",
    "mae_gnn = mean_absolute_error(ground_truth, predictions)\n",
    "print(f\"GNN Test MAE: {mae_gnn:.4f}\")\n",
    "\n",
    "plt.figure(figsize=(6,6))\n",
    "plt.scatter(ground_truth, predictions, alpha=0.6)\n",
    "plt.plot([-10, 2], [-10, 2], 'r--')\n",
    "plt.xlabel('True Solubility')\n",
    "plt.ylabel('Predicted Solubility')\n",
    "plt.title('GNN Predictions')\n",
    "plt.show()\n",
    "\n",
    "# ---------------------------\n",
    "# 分析两亲性分子\n",
    "# ---------------------------\n",
    "\n",
    "# 添加一列用于存储 LogP 和 TPSA 差值的组合指标（示例）\n",
    "split['test']['LogP'] = split['test']['Drug'].apply(lambda x: Descriptors.MolLogP(Chem.MolFromSmiles(x)))\n",
    "split['test']['TPSA'] = split['test']['Drug'].apply(lambda x: Descriptors.TPSA(Chem.MolFromSmiles(x)))\n",
    "split['test']['Hydrophilic_Lipophilic_Balance'] = split['test']['TPSA'] / (split['test']['LogP'] + 1e-6)  # 防止除零\n",
    "\n",
    "# 可视化 Hydrophilic-Lipophilic Balance 与溶解度的关系\n",
    "plt.figure(figsize=(8,6))\n",
    "sns.scatterplot(data=split['test'], x='Hydrophilic_Lipophilic_Balance', y='Y')\n",
    "plt.xlabel('Hydrophilic-Lipophilic Balance (TPSA / LogP)')\n",
    "plt.ylabel('Solubility')\n",
    "plt.title('Hydrophilic-Lipophilic Balance vs Solubility')\n",
    "plt.show()\n",
    "\n",
    "# 筛选可能的两亲性分子\n",
    "amphiphilic_molecules = split['test'][(split['test']['LogP'] > 0) & (split['test']['LogP'] < 5) &\n",
    "                                      (split['test']['TPSA'] > 20) & (split['test']['TPSA'] < 100)]\n",
    "\n",
    "print(f\"Potential amphiphilic molecules: {len(amphiphilic_molecules)}\")\n",
    "\n",
    "# 显示一些可能的两亲性分子\n",
    "from rdkit.Chem import Draw\n",
    "\n",
    "sample_mols = [Chem.MolFromSmiles(smi) for smi in amphiphilic_molecules['Drug'].head(10)]\n",
    "Draw.MolsToGridImage(sample_mols, molsPerRow=5, subImgSize=(200, 200))"
   ],
   "metadata": {
    "collapsed": false,
    "ExecuteTime": {
     "end_time": "2024-09-15T01:13:25.794211Z",
     "start_time": "2024-09-15T01:13:25.707074Z"
    }
   },
   "id": "a027e3a8a9762e3"
  },
  {
   "cell_type": "code",
   "execution_count": 13,
   "outputs": [],
   "source": [],
   "metadata": {
    "collapsed": false,
    "ExecuteTime": {
     "end_time": "2024-09-15T01:13:25.978525Z",
     "start_time": "2024-09-15T01:13:25.972763Z"
    }
   },
   "id": "7c326d10ee531e67"
  },
  {
   "cell_type": "code",
   "execution_count": null,
   "outputs": [],
   "source": [],
   "metadata": {
    "collapsed": false
   },
   "id": "419051b7162f5c77"
  }
 ],
 "metadata": {
  "kernelspec": {
   "display_name": "Python 3",
   "language": "python",
   "name": "python3"
  },
  "language_info": {
   "codemirror_mode": {
    "name": "ipython",
    "version": 2
   },
   "file_extension": ".py",
   "mimetype": "text/x-python",
   "name": "python",
   "nbconvert_exporter": "python",
   "pygments_lexer": "ipython2",
   "version": "2.7.6"
  }
 },
 "nbformat": 4,
 "nbformat_minor": 5
}

{
 "cells": [
  {
   "cell_type": "markdown",
   "id": "5451708c90b29ffe",
   "metadata": {
    "collapsed": false,
    "jupyter": {
     "outputs_hidden": false
    }
   },
   "source": [
    "# 04_基于配体的筛选：化合物相似度\n",
    "## 本次目的\n",
    "- 在本次中，我们熟悉了编码(描述符、指纹图谱)和比较(相似性度量)分子的不同方法。进一步地，我们通过 Lipinski’s rule of five 过滤ChEMBL数据库中的 VEGFR2 测试分子数据集，以相似性搜索的形式对 VEGFR2 抑制剂 Gefitinib 进行虚拟筛选"
   ]
  },
  {
   "cell_type": "markdown",
   "id": "7b9bda54-8488-4052-8c02-1aba41895ff1",
   "metadata": {},
   "source": [
    "## 理论内容\n",
    "- 分子相似性\n",
    "- 分子描述符\n",
    "- 分子指纹图谱\n",
    "- 基于子结构的指纹\n",
    "- MACCS指纹图谱\n",
    "- 摩尔根指纹和圆形指纹\n",
    "- 分子相似性度量\n",
    "- Tanimoto系数\n",
    "- Dice系数\n",
    "- 虚拟筛选\n",
    "- 利用相似性搜索进行虚拟筛选\n",
    "- 富集图"
   ]
  },
  {
   "cell_type": "markdown",
   "id": "2bd6e156-f92d-4550-8415-ea4e4b72a70e",
   "metadata": {},
   "source": [
    "## 实践\n",
    "- 导入并绘制分子\n",
    "- 计算分子描述符\n",
    "- 1D分子描述符：分子量\n",
    "- 2D分子描述符：MACCS指纹图谱\n",
    "- 2D分子描述符：Morgan指纹图谱\n",
    "- 计算分子相似性\n",
    "- MACCS指纹图谱：Tanimoto和Dice相似度\n",
    "- 摩尔根指纹图谱：Tanimoto和Dice相似度\n",
    "- 利用相似性搜索进行虚拟筛选\n",
    "- 将查询分子与数据集中的所有分子进行比较\n",
    "- 相似度值的分布\n",
    "- 将大多数相似的分子可视化\n",
    "- 生成富集图\n",
    "- 计算富集因子"
   ]
  },
  {
   "cell_type": "markdown",
   "id": "d7862a91-304e-457f-b3de-2aa8bb07ebff",
   "metadata": {},
   "source": [
    "## 理论\n",
    "### 分子相似性\n",
    "- 分子相似性是化学信息学中一个广为人知且经常使用的概念。比较分子和它们的性质可以用许多不同的方法，并帮助我们识别具有所需性质和生物活性的新分子。\n",
    "- 相似性质原理( SPP )和构效关系( SAR )方法都是基于结构相似的分子具有相似的性质，从而具有相似的生物活性的假设。在此背景下，虚拟筛选遵循这一思路，在给定的一组具有已知结合亲和力的分子中寻找相似的分子，并将其作为潜在的新活性分子提出。"
   ]
  },
  {
   "cell_type": "markdown",
   "id": "41141c4983e60132",
   "metadata": {
    "collapsed": false,
    "jupyter": {
     "outputs_hidden": false
    }
   },
   "source": [
    "## 分子描述符\n",
    "- 根据应用的不同，相似度可以用多种不同的方法进行评估\n",
    "### （1） 1D 分子描述符：Solubility, logP, molecular weight, melting point. （溶解度、log P、分子量、熔点）\n",
    "- 全局描述符：只有一个值代表整个分子\n",
    "- 通常不包含足够的信息来应用于机器学习( ML )。\n",
    "- 可以添加到2D指纹中，改善ML的分子编码"
   ]
  },
  {
   "cell_type": "markdown",
   "id": "7c077940-1b93-4a6f-8c2c-bc931ab3e9ce",
   "metadata": {},
   "source": [
    "### （2）2D 分子描述符：Molecular graphs, paths, fragments, atom environments （分子图、路径、片段、原子环境）\n",
    "- 对分子的各个部分进行详细的表征\n",
    "- 每个分子包含许多特征/位，称为指纹\n",
    "- 常用于相似性搜索和最大似然法"
   ]
  },
  {
   "cell_type": "markdown",
   "id": "0600f634-911e-4da6-9723-b258ec06a5e7",
   "metadata": {},
   "source": [
    "### （3）3D 分子描述符：Shape, stereochemistry （形状、立体化学）\n",
    "- 由于分子柔性(分子的\"正确\"构象是什么?)生物相似性，其鲁棒性不如2D表示\n",
    "- 生物指纹，例如个体位代表针对不同目标的生物活性度量\n",
    "- 不依赖于分子结构\n",
    "- 需要实验(或预测)数据"
   ]
  },
  {
   "cell_type": "markdown",
   "id": "2a52e225-9ff2-4c18-8ff4-c9e5257fe54c",
   "metadata": {},
   "source": [
    "- 我们已经在 02 章节中学习了如何计算一维物理化学参数，如分子量和log P。rdkit文档中关于这些描述符的更多信息。\n",
    "- 接下来，我们重点介绍了 2D 分子描述符的定义。由于这些描述符大多具有每个分子的唯一性，因此也被称为指纹。"
   ]
  },
  {
   "cell_type": "markdown",
   "id": "440ac9ab-7bd0-4afb-bd1f-094c8a4cbb09",
   "metadata": {},
   "source": [
    "## 分子指纹图谱\n",
    "### （1）基于子结构的指纹\n",
    "- 分子指纹是以比特串、比特向量或数组的形式编码化学和分子特征的分子的计算表示。每个位对应一个预定义的分子特征或环境，其中' 1 '表示存在，' 0 '表示没有特征。注意，有些实现是基于计数的。因此，他们计算一个特定特征出现的频率。\n",
    "- 指纹的设计有多种方法。这里，我们引入  MACCS 密钥和 Morgan 指纹作为两种常用的二维指纹。正如在rdkit关于指纹的文档中所看到的那样， rdkit 还提供了多个备选指纹。"
   ]
  },
  {
   "cell_type": "markdown",
   "id": "e4ff4a0a-09e6-4d74-9d77-8c04584e74c6",
   "metadata": {},
   "source": [
    "### （2）MACCS指纹图谱\n",
    "- 分子ACCess系统( Molecular ACCess System，MACCS )指纹，也称为MACCS结构键，由166个预定义的结构片段组成。每个位置查询一个特定的结构片段或键的存在与否。个人钥匙由药物化学家经验性地定义，并且简单地使用和解释( MACCS密钥的rdkit文档)。"
   ]
  },
  {
   "cell_type": "markdown",
   "id": "42436080-7dcd-482c-b76a-1f0e26ed4b24",
   "metadata": {},
   "source": [
    "### （3）摩尔根指纹和圆形指纹\n",
    "- 这一族指纹是基于Morgan算法的。这些比特对应于分子中每个原子的环形环境。所要考虑的近邻键和原子的数目是由半径来设定的。也可以定义比特串的长度，将更长的比特串修改为所需的长度。因此，摩根指纹并不局限于一定的位数。关于摩尔根指纹的更多信息可以在rdkit文献中找到。扩展连通性指纹( ECFP )也是常用的指纹，它是使用Morgan算法的变体。"
   ]
  },
  {
   "cell_type": "markdown",
   "id": "ba67a855-0a3a-4e52-81b7-313b72d6327e",
   "metadata": {},
   "source": [
    "### （4）分子相似性度量\n",
    "- 一旦计算出描述符/指纹图谱，就可以比较它们来评估两个分子之间的相似性。分子相似性可以用多个不同的相似性系数来量化，常见的两种相似性度量是Tanimoto和Dice指数。"
   ]
  },
  {
   "cell_type": "markdown",
   "id": "eaddfff7-1a49-409a-a251-35920c5eaee4",
   "metadata": {},
   "source": [
    "### Tanimoto系数\n",
    "$$\n",
    "Tc(A,B)=ca+b−c\n",
    "$$\n",
    "\n",
    "⚠️ 每一个元素代表说明解释：\n",
    "- A：分子A中存在的特征数\n",
    "- B：分子B中存在的特征数\n",
    "- C：分子A和B共有的特征数\n"
   ]
  },
  {
   "cell_type": "markdown",
   "id": "40ae0366-6459-45c0-a649-ef061c657bcc",
   "metadata": {},
   "source": [
    "\n",
    "###  Dice系数\n",
    "\n",
    "$$\n",
    "Dc(A,B)=c12(a+b)\n",
    "$$\n",
    "\t\t\t\t\t\n",
    "- A：分子A中存在的特征数\n",
    "- B：分子B中存在的特征数\n",
    "- C：分子A和B共有的特征数\n",
    "  \t\t\t\n",
    "- ***  相似性度量通常考虑指纹中出现的正比特数( 1 ')和两者共有的正比特数。由于分母的原因，Dice相似度通常比Tanimoto相似度返回更高的值：***\t\t\t\t\n",
    "\t\t\t\t\t"
   ]
  },
  {
   "cell_type": "markdown",
   "id": "b717b2e7-8b45-43be-aa11-aea69ad9deda",
   "metadata": {},
   "source": [
    "\n",
    "$$\n",
    "ca+b−c≤c12(a+b)\n",
    "$$\n"
   ]
  },
  {
   "cell_type": "markdown",
   "id": "8c2303a5-9259-47d2-80c6-046f1bc0386c",
   "metadata": {},
   "source": [
    "## 虚拟筛选\n",
    "- 在药物发现的早期阶段面临的挑战是，从现有的大化学空间中缩小一组小分子(分子)，这些小分子(分子)可能与所研究的目标结合。注意到这个化学空间是广阔的：小分子可以由1020个化学基团组合而成。\n",
    "- 由于对所有这些小分子针对目标物的活性进行实验高通量筛选( HTS )需要花费大量的成本和时间，因此需要借助计算机辅助方法来提出待测小分子的重点列表。这个过程被称为虚拟(高通量)筛选：通过规则和/或模式来筛选一个大的小分子库，以识别那些最有可能与所研究的靶标结合的小分子。"
   ]
  },
  {
   "cell_type": "markdown",
   "id": "9dd1b64a-099e-47c3-ab21-58d28b9e8b48",
   "metadata": {},
   "source": [
    "### （1）利用相似性搜索ö进行虚拟筛选\n",
    "- 将一组新的分子与一个(或几个)已知的活性分子进行比较，找到最相似的分子，可以作为一种简单的虚拟筛选方式。根据相似性质原理，我们可以假设最相似的分子，例如已知的抑制剂，也具有相似的作用。相似性搜索的要求是以下(如上所述详细讨论)：\n",
    "    - 一种编码化学/分子特征的表征\n",
    "    - 特征的潜在权重(可选)\n",
    "    - 一种相似性度量\n",
    "- 相似性搜索可以通过计算一个分子与特定数据集中所有分子之间的相似性来进行。通过它们的相似系数对数据集的分子进行排序，得到最相似的分子排在最前面。"
   ]
  },
  {
   "cell_type": "markdown",
   "id": "90f4e0a7-434a-4bb4-b42d-29aca6e0c98b",
   "metadata": {},
   "source": [
    "## 富集图\n",
    "- 富集图用于验证虚拟筛选结果，显示在排名前x %中检测到的活性分子的比率，即：\n",
    "    - 从整个数据集中排名靠前的分子( x轴)的比率vs .\n",
    "    - 整个数据集中活性分子( y轴)的比例。"
   ]
  },
  {
   "cell_type": "markdown",
   "id": "edd560eb-cf9c-4a9e-974e-6f00cadc138b",
   "metadata": {},
   "source": [
    "## 实战\n",
    "- 在本实践部分的第一部分，我们将使用rdkit对分子(分子指纹)进行编码，并进行比较，以计算它们的相似度(分子相似性度量)，如上文理论部分所讨论的。\n",
    "- 在第二部分中，我们将使用这些编码和比较技术进行相似性搜索(虚拟筛选)：我们使用已知的VEGFR2抑制剂Gefitinib作为查询，在我们的EGFR测试分子数据集中搜索相似的分子，这些分子来自 01 章节中的  ChEMBL 数据库，并通过 02 章节中的 Lipinski’s rule of five 进行筛选。"
   ]
  },
  {
   "cell_type": "markdown",
   "id": "ef2e9553-62e3-452a-9c60-8b02baf10c1c",
   "metadata": {},
   "source": [
    "## 导入并画出分子\n",
    "- 首先，我们定义并画出了八个例子分子，之后我们将对它们进行编码和比较。将SMILES格式的分子转换为rdkit分子对象，并用rdkit中的Draw模块进行可视化。"
   ]
  },
  {
   "metadata": {},
   "cell_type": "markdown",
   "source": "",
   "id": "ea62aa91cb05a19"
  },
  {
   "metadata": {},
   "cell_type": "markdown",
   "source": "",
   "id": "d3db47e98ad20837"
  },
  {
   "cell_type": "code",
   "execution_count": 4,
   "id": "initial_id",
   "metadata": {
    "ExecuteTime": {
     "end_time": "2024-09-19T08:02:55.516931Z",
     "start_time": "2024-09-19T08:02:55.505894Z"
    }
   },
   "outputs": [],
   "source": [
    "from pathlib import Path\n",
    "from warnings import filterwarnings\n",
    "import time\n",
    "\n",
    "import pandas as pd\n",
    "import numpy as np\n",
    "from sklearn import svm, metrics, clone\n",
    "from sklearn.ensemble import RandomForestClassifier\n",
    "from sklearn.neural_network import MLPClassifier\n",
    "from sklearn.model_selection import KFold, train_test_split\n",
    "from sklearn.metrics import auc, accuracy_score, recall_score\n",
    "from sklearn.metrics import roc_curve, roc_auc_score\n",
    "import matplotlib.pyplot as plt\n",
    "from rdkit import Chem\n",
    "from rdkit.Chem import MACCSkeys, rdFingerprintGenerator\n",
    "\n",
    "from teachopencadd.utils import seed_everything\n",
    "\n",
    "# 忽略警告\n",
    "filterwarnings(\"ignore\")\n",
    "# 固定以获得重复性结果\n",
    "SEED = 22\n",
    "seed_everything(SEED)"
   ]
  },
  {
   "metadata": {},
   "cell_type": "markdown",
   "source": [
    "### ❤️如果在你之前没有 按照的话的，运行下面有报错的话，请先安装teachopencadd，如果没有报错的话，那就说明你已经安装了teachopencadd，可以直接运行下面的代码。因为我在AIDrugDesign中已经安装了teachopencadd，所以我就不再安装了。\n",
    "#### pip install teachopencadd=2023.05.1\n",
    "- 因下面需要用到 from teachopencadd.utils import seed_everything\n",
    "- 而teachopencadd 2023.05.1 版本才有这个函数\n",
    "- 所以请先安装teachopencadd\n",
    "- 然后再运行下面的代码"
   ],
   "id": "163019448d1806ed"
  },
  {
   "cell_type": "code",
   "execution_count": 5,
   "id": "9f5ab8301dbc73d",
   "metadata": {
    "ExecuteTime": {
     "end_time": "2024-09-19T08:02:55.744298Z",
     "start_time": "2024-09-19T08:02:55.703316Z"
    },
    "collapsed": false,
    "jupyter": {
     "outputs_hidden": false
    }
   },
   "outputs": [
    {
     "name": "stdout",
     "output_type": "stream",
     "text": [
      "/Users/wangyang/Desktop/AI-drug-design/list/04_Ligand-based_screening_machine_learning/data\n"
     ]
    }
   ],
   "source": [
    "from pathlib import Path\n",
    "import os\n",
    "\n",
    "# 获取当前工作目录\n",
    "HERE = Path(os.getcwd())\n",
    "DATA = HERE / 'data'\n",
    "if not DATA.exists():\n",
    "    DATA.mkdir(parents=True, exist_ok=True)\n",
    "print(DATA)\n"
   ]
  },
  {
   "cell_type": "markdown",
   "id": "fe3028d65b2df6ce",
   "metadata": {
    "collapsed": false,
    "jupyter": {
     "outputs_hidden": false
    }
   },
   "source": [
    "### 加载化合物和活动数据 ¶\n",
    "\n",
    "让我们首先加载数据，重点关注 (VEGFR2) 激酶。 02章节 中的 csv 文件被加载到包含重要列的数据框中：\n",
    "\n",
    "-  CHEBL-ID\n",
    "- SMILES 对应复合字符串\n",
    "-  测得的亲和力：pIC50"
   ]
  },
  {
   "cell_type": "code",
   "execution_count": 6,
   "id": "11bc5870b8b5601c",
   "metadata": {
    "ExecuteTime": {
     "end_time": "2024-09-19T08:02:56.098248Z",
     "start_time": "2024-09-19T08:02:56.075397Z"
    },
    "collapsed": false,
    "jupyter": {
     "outputs_hidden": false
    }
   },
   "outputs": [
    {
     "name": "stdout",
     "output_type": "stream",
     "text": [
      "Shape of dataframe :  (6143, 10)\n"
     ]
    },
    {
     "data": {
      "text/html": [
       "<div>\n",
       "<style scoped>\n",
       "    .dataframe tbody tr th:only-of-type {\n",
       "        vertical-align: middle;\n",
       "    }\n",
       "\n",
       "    .dataframe tbody tr th {\n",
       "        vertical-align: top;\n",
       "    }\n",
       "\n",
       "    .dataframe thead th {\n",
       "        text-align: right;\n",
       "    }\n",
       "</style>\n",
       "<table border=\"1\" class=\"dataframe\">\n",
       "  <thead>\n",
       "    <tr style=\"text-align: right;\">\n",
       "      <th></th>\n",
       "      <th>molecule_chembl_id</th>\n",
       "      <th>IC50</th>\n",
       "      <th>units</th>\n",
       "      <th>smiles</th>\n",
       "      <th>pIC50</th>\n",
       "      <th>molecular_weight</th>\n",
       "      <th>n_hba</th>\n",
       "      <th>n_hbd</th>\n",
       "      <th>logp</th>\n",
       "      <th>ro5_fulfilled</th>\n",
       "    </tr>\n",
       "  </thead>\n",
       "  <tbody>\n",
       "    <tr>\n",
       "      <th>0</th>\n",
       "      <td>CHEMBL5189340</td>\n",
       "      <td>0.023</td>\n",
       "      <td>nM</td>\n",
       "      <td>CN(C)c1ccc(/C=N/NC(=O)Cn2nc(Cc3ccc(Cl)cc3)c3cc...</td>\n",
       "      <td>10.638272</td>\n",
       "      <td>473.161853</td>\n",
       "      <td>6</td>\n",
       "      <td>1</td>\n",
       "      <td>3.85700</td>\n",
       "      <td>True</td>\n",
       "    </tr>\n",
       "    <tr>\n",
       "      <th>1</th>\n",
       "      <td>CHEMBL429743</td>\n",
       "      <td>0.030</td>\n",
       "      <td>nM</td>\n",
       "      <td>COc1cc2nccc(Oc3ccc4c(C(=O)Nc5ccc(Cl)cc5)cccc4c...</td>\n",
       "      <td>10.522879</td>\n",
       "      <td>484.118985</td>\n",
       "      <td>5</td>\n",
       "      <td>1</td>\n",
       "      <td>7.10320</td>\n",
       "      <td>True</td>\n",
       "    </tr>\n",
       "    <tr>\n",
       "      <th>2</th>\n",
       "      <td>CHEMBL5186748</td>\n",
       "      <td>0.120</td>\n",
       "      <td>nM</td>\n",
       "      <td>CNC(=O)c1cc(Oc2ccc(NC(=O)c3nn(-c4ccc(Cl)cc4)cc...</td>\n",
       "      <td>9.920819</td>\n",
       "      <td>489.120382</td>\n",
       "      <td>7</td>\n",
       "      <td>2</td>\n",
       "      <td>3.99352</td>\n",
       "      <td>True</td>\n",
       "    </tr>\n",
       "    <tr>\n",
       "      <th>3</th>\n",
       "      <td>CHEMBL3586072</td>\n",
       "      <td>0.140</td>\n",
       "      <td>nM</td>\n",
       "      <td>CNC(=O)c1ccc(-c2ccc(NC(=O)Nc3cc(Br)cc(C(F)(F)F...</td>\n",
       "      <td>9.853872</td>\n",
       "      <td>492.040873</td>\n",
       "      <td>3</td>\n",
       "      <td>3</td>\n",
       "      <td>5.53350</td>\n",
       "      <td>True</td>\n",
       "    </tr>\n",
       "    <tr>\n",
       "      <th>4</th>\n",
       "      <td>CHEMBL3586071</td>\n",
       "      <td>0.150</td>\n",
       "      <td>nM</td>\n",
       "      <td>CNC(=O)c1cc(-c2ccc(NC(=O)Nc3ccc(Cl)c(C(F)(F)F)...</td>\n",
       "      <td>9.823909</td>\n",
       "      <td>448.091388</td>\n",
       "      <td>3</td>\n",
       "      <td>3</td>\n",
       "      <td>5.42440</td>\n",
       "      <td>True</td>\n",
       "    </tr>\n",
       "  </tbody>\n",
       "</table>\n",
       "</div>"
      ],
      "text/plain": [
       "  molecule_chembl_id   IC50 units  \\\n",
       "0      CHEMBL5189340  0.023    nM   \n",
       "1       CHEMBL429743  0.030    nM   \n",
       "2      CHEMBL5186748  0.120    nM   \n",
       "3      CHEMBL3586072  0.140    nM   \n",
       "4      CHEMBL3586071  0.150    nM   \n",
       "\n",
       "                                              smiles      pIC50  \\\n",
       "0  CN(C)c1ccc(/C=N/NC(=O)Cn2nc(Cc3ccc(Cl)cc3)c3cc...  10.638272   \n",
       "1  COc1cc2nccc(Oc3ccc4c(C(=O)Nc5ccc(Cl)cc5)cccc4c...  10.522879   \n",
       "2  CNC(=O)c1cc(Oc2ccc(NC(=O)c3nn(-c4ccc(Cl)cc4)cc...   9.920819   \n",
       "3  CNC(=O)c1ccc(-c2ccc(NC(=O)Nc3cc(Br)cc(C(F)(F)F...   9.853872   \n",
       "4  CNC(=O)c1cc(-c2ccc(NC(=O)Nc3ccc(Cl)c(C(F)(F)F)...   9.823909   \n",
       "\n",
       "   molecular_weight  n_hba  n_hbd     logp  ro5_fulfilled  \n",
       "0        473.161853      6      1  3.85700           True  \n",
       "1        484.118985      5      1  7.10320           True  \n",
       "2        489.120382      7      2  3.99352           True  \n",
       "3        492.040873      3      3  5.53350           True  \n",
       "4        448.091388      3      3  5.42440           True  "
      ]
     },
     "execution_count": 6,
     "metadata": {},
     "output_type": "execute_result"
    }
   ],
   "source": [
    "# 从以往材料中读取数据，从分子过滤_不需要的子结构去拿到数据\n",
    "# # 保存过滤后的数据\n",
    "# molecules_ro5_fulfilled.to_csv(DATA / \"compounds_lipinski.csv\")\n",
    "# ❤️ 所以我们需要 使用 compounds_lipinski.csv 这个数据\n",
    "chembl_df = pd.read_csv(\n",
    "     DATA / \"./compounds_lipinski.csv\",\n",
    ")\n",
    "\n",
    "# Look at head\n",
    "print(\"Shape of dataframe : \", chembl_df.shape)\n",
    "chembl_df.head()"
   ]
  },
  {
   "cell_type": "code",
   "execution_count": 7,
   "id": "c350df9aa13736f1",
   "metadata": {
    "ExecuteTime": {
     "end_time": "2024-09-19T08:02:56.403517Z",
     "start_time": "2024-09-19T08:02:56.293624Z"
    },
    "collapsed": false,
    "jupyter": {
     "outputs_hidden": false
    }
   },
   "outputs": [
    {
     "data": {
      "text/html": [
       "<div>\n",
       "<style scoped>\n",
       "    .dataframe tbody tr th:only-of-type {\n",
       "        vertical-align: middle;\n",
       "    }\n",
       "\n",
       "    .dataframe tbody tr th {\n",
       "        vertical-align: top;\n",
       "    }\n",
       "\n",
       "    .dataframe thead th {\n",
       "        text-align: right;\n",
       "    }\n",
       "</style>\n",
       "<table border=\"1\" class=\"dataframe\">\n",
       "  <thead>\n",
       "    <tr style=\"text-align: right;\">\n",
       "      <th></th>\n",
       "      <th>molecule_chembl_id</th>\n",
       "      <th>smiles</th>\n",
       "      <th>pIC50</th>\n",
       "    </tr>\n",
       "  </thead>\n",
       "  <tbody>\n",
       "    <tr>\n",
       "      <th>0</th>\n",
       "      <td>CHEMBL5189340</td>\n",
       "      <td>CN(C)c1ccc(/C=N/NC(=O)Cn2nc(Cc3ccc(Cl)cc3)c3cc...</td>\n",
       "      <td>10.638272</td>\n",
       "    </tr>\n",
       "    <tr>\n",
       "      <th>1</th>\n",
       "      <td>CHEMBL429743</td>\n",
       "      <td>COc1cc2nccc(Oc3ccc4c(C(=O)Nc5ccc(Cl)cc5)cccc4c...</td>\n",
       "      <td>10.522879</td>\n",
       "    </tr>\n",
       "    <tr>\n",
       "      <th>2</th>\n",
       "      <td>CHEMBL5186748</td>\n",
       "      <td>CNC(=O)c1cc(Oc2ccc(NC(=O)c3nn(-c4ccc(Cl)cc4)cc...</td>\n",
       "      <td>9.920819</td>\n",
       "    </tr>\n",
       "    <tr>\n",
       "      <th>3</th>\n",
       "      <td>CHEMBL3586072</td>\n",
       "      <td>CNC(=O)c1ccc(-c2ccc(NC(=O)Nc3cc(Br)cc(C(F)(F)F...</td>\n",
       "      <td>9.853872</td>\n",
       "    </tr>\n",
       "    <tr>\n",
       "      <th>4</th>\n",
       "      <td>CHEMBL3586071</td>\n",
       "      <td>CNC(=O)c1cc(-c2ccc(NC(=O)Nc3ccc(Cl)c(C(F)(F)F)...</td>\n",
       "      <td>9.823909</td>\n",
       "    </tr>\n",
       "  </tbody>\n",
       "</table>\n",
       "</div>"
      ],
      "text/plain": [
       "  molecule_chembl_id                                             smiles  \\\n",
       "0      CHEMBL5189340  CN(C)c1ccc(/C=N/NC(=O)Cn2nc(Cc3ccc(Cl)cc3)c3cc...   \n",
       "1       CHEMBL429743  COc1cc2nccc(Oc3ccc4c(C(=O)Nc5ccc(Cl)cc5)cccc4c...   \n",
       "2      CHEMBL5186748  CNC(=O)c1cc(Oc2ccc(NC(=O)c3nn(-c4ccc(Cl)cc4)cc...   \n",
       "3      CHEMBL3586072  CNC(=O)c1ccc(-c2ccc(NC(=O)Nc3cc(Br)cc(C(F)(F)F...   \n",
       "4      CHEMBL3586071  CNC(=O)c1cc(-c2ccc(NC(=O)Nc3ccc(Cl)c(C(F)(F)F)...   \n",
       "\n",
       "       pIC50  \n",
       "0  10.638272  \n",
       "1  10.522879  \n",
       "2   9.920819  \n",
       "3   9.853872  \n",
       "4   9.823909  "
      ]
     },
     "execution_count": 7,
     "metadata": {},
     "output_type": "execute_result"
    }
   ],
   "source": [
    "# 只保留我们想要的列\n",
    "chembl_df = chembl_df[[\"molecule_chembl_id\", \"smiles\", \"pIC50\"]]\n",
    "chembl_df.head()"
   ]
  },
  {
   "cell_type": "markdown",
   "id": "c423ff6d3b45fd69",
   "metadata": {
    "collapsed": false,
    "jupyter": {
     "outputs_hidden": false
    }
   },
   "source": [
    "我们需要将每种化合物分类为活性或非活性。因此，我们使用pIC50值。\n",
    "\n",
    "- pIC50 = -log10(IC50)\n",
    "- IC50描述了在体外抑制某个过程50%所需的物质的量。\n",
    "- 离散化 pIC50 数据的常见截止值为 6.3，我们将在实验中使用它。\n",
    "- 请注意，文献中还有其他一些关于 pIC50 值范围为 5 至 7 的活性截止值的建议，甚至定义了不获取数据点时的排除范围。"
   ]
  },
  {
   "cell_type": "code",
   "execution_count": 8,
   "id": "c4cb28b98135be6c",
   "metadata": {
    "ExecuteTime": {
     "end_time": "2024-09-19T08:02:56.819926Z",
     "start_time": "2024-09-19T08:02:56.725965Z"
    },
    "collapsed": false,
    "jupyter": {
     "outputs_hidden": false
    }
   },
   "outputs": [
    {
     "name": "stdout",
     "output_type": "stream",
     "text": [
      "活性化合物数量: 4083\n",
      "非活性化合物数量: 2060\n"
     ]
    }
   ],
   "source": [
    "# 添加活性栏\n",
    "chembl_df[\"active\"] = np.zeros(len(chembl_df))\n",
    "\n",
    "# 将每个分子标记为活性，pIC50 > = 6.3，否则为0\n",
    "chembl_df.loc[chembl_df[chembl_df.pIC50 >= 6.3].index, \"active\"] = 1.0\n",
    "\n",
    "print(\"活性化合物数量:\", int(chembl_df.active.sum()))\n",
    "print(\"非活性化合物数量:\", len(chembl_df) - int(chembl_df.active.sum()))"
   ]
  },
  {
   "cell_type": "code",
   "execution_count": 9,
   "id": "71dcdb079b2efaef",
   "metadata": {
    "ExecuteTime": {
     "end_time": "2024-09-19T08:02:56.998121Z",
     "start_time": "2024-09-19T08:02:56.949590Z"
    },
    "collapsed": false,
    "jupyter": {
     "outputs_hidden": false
    }
   },
   "outputs": [
    {
     "data": {
      "text/html": [
       "<div>\n",
       "<style scoped>\n",
       "    .dataframe tbody tr th:only-of-type {\n",
       "        vertical-align: middle;\n",
       "    }\n",
       "\n",
       "    .dataframe tbody tr th {\n",
       "        vertical-align: top;\n",
       "    }\n",
       "\n",
       "    .dataframe thead th {\n",
       "        text-align: right;\n",
       "    }\n",
       "</style>\n",
       "<table border=\"1\" class=\"dataframe\">\n",
       "  <thead>\n",
       "    <tr style=\"text-align: right;\">\n",
       "      <th></th>\n",
       "      <th>molecule_chembl_id</th>\n",
       "      <th>smiles</th>\n",
       "      <th>pIC50</th>\n",
       "      <th>active</th>\n",
       "    </tr>\n",
       "  </thead>\n",
       "  <tbody>\n",
       "    <tr>\n",
       "      <th>0</th>\n",
       "      <td>CHEMBL5189340</td>\n",
       "      <td>CN(C)c1ccc(/C=N/NC(=O)Cn2nc(Cc3ccc(Cl)cc3)c3cc...</td>\n",
       "      <td>10.638272</td>\n",
       "      <td>1.0</td>\n",
       "    </tr>\n",
       "    <tr>\n",
       "      <th>1</th>\n",
       "      <td>CHEMBL429743</td>\n",
       "      <td>COc1cc2nccc(Oc3ccc4c(C(=O)Nc5ccc(Cl)cc5)cccc4c...</td>\n",
       "      <td>10.522879</td>\n",
       "      <td>1.0</td>\n",
       "    </tr>\n",
       "    <tr>\n",
       "      <th>2</th>\n",
       "      <td>CHEMBL5186748</td>\n",
       "      <td>CNC(=O)c1cc(Oc2ccc(NC(=O)c3nn(-c4ccc(Cl)cc4)cc...</td>\n",
       "      <td>9.920819</td>\n",
       "      <td>1.0</td>\n",
       "    </tr>\n",
       "    <tr>\n",
       "      <th>3</th>\n",
       "      <td>CHEMBL3586072</td>\n",
       "      <td>CNC(=O)c1ccc(-c2ccc(NC(=O)Nc3cc(Br)cc(C(F)(F)F...</td>\n",
       "      <td>9.853872</td>\n",
       "      <td>1.0</td>\n",
       "    </tr>\n",
       "    <tr>\n",
       "      <th>4</th>\n",
       "      <td>CHEMBL3586071</td>\n",
       "      <td>CNC(=O)c1cc(-c2ccc(NC(=O)Nc3ccc(Cl)c(C(F)(F)F)...</td>\n",
       "      <td>9.823909</td>\n",
       "      <td>1.0</td>\n",
       "    </tr>\n",
       "  </tbody>\n",
       "</table>\n",
       "</div>"
      ],
      "text/plain": [
       "  molecule_chembl_id                                             smiles  \\\n",
       "0      CHEMBL5189340  CN(C)c1ccc(/C=N/NC(=O)Cn2nc(Cc3ccc(Cl)cc3)c3cc...   \n",
       "1       CHEMBL429743  COc1cc2nccc(Oc3ccc4c(C(=O)Nc5ccc(Cl)cc5)cccc4c...   \n",
       "2      CHEMBL5186748  CNC(=O)c1cc(Oc2ccc(NC(=O)c3nn(-c4ccc(Cl)cc4)cc...   \n",
       "3      CHEMBL3586072  CNC(=O)c1ccc(-c2ccc(NC(=O)Nc3cc(Br)cc(C(F)(F)F...   \n",
       "4      CHEMBL3586071  CNC(=O)c1cc(-c2ccc(NC(=O)Nc3ccc(Cl)c(C(F)(F)F)...   \n",
       "\n",
       "       pIC50  active  \n",
       "0  10.638272     1.0  \n",
       "1  10.522879     1.0  \n",
       "2   9.920819     1.0  \n",
       "3   9.853872     1.0  \n",
       "4   9.823909     1.0  "
      ]
     },
     "execution_count": 9,
     "metadata": {},
     "output_type": "execute_result"
    }
   ],
   "source": [
    "chembl_df.head()"
   ]
  },
  {
   "cell_type": "markdown",
   "id": "93d68c7bfb13fb99",
   "metadata": {
    "collapsed": false,
    "jupyter": {
     "outputs_hidden": false
    }
   },
   "source": [
    "#### 分子编码 ¶\n",
    "\n",
    "现在我们定义一个函数 `smiles_to_fp` 来从SMILES生成指纹。目前，我们合并了以下指纹之间的选择：\n",
    "\n",
    "- maccs\n",
    "- morgan2 and morgan3"
   ]
  },
  {
   "cell_type": "code",
   "execution_count": 10,
   "id": "99a2a1074f1d8f5b",
   "metadata": {
    "ExecuteTime": {
     "end_time": "2024-09-19T08:02:57.618138Z",
     "start_time": "2024-09-19T08:02:57.573392Z"
    },
    "collapsed": false,
    "jupyter": {
     "outputs_hidden": false
    }
   },
   "outputs": [],
   "source": [
    "def smiles_to_fp(smiles, method=\"maccs\", n_bits=2048):\n",
    "    \"\"\"\n",
    "    将 SMILES 字符串中的分子编码为指纹。\n",
    "    参数\n",
    "    ----------\n",
    "    smiles : str\n",
    "    定义分子的 SMILES 字符串。\n",
    "    method : str\n",
    "    要使用的指纹类型。默认为 MACCS 键。\n",
    "    n_bits : int\n",
    "    指纹的长度。\n",
    "    返回值\n",
    "    -------\n",
    "    阵列\n",
    "    指纹数组。\n",
    "    \"\"\"\n",
    "    # 将 smiles 转换为 RDKit mol 对象\n",
    "    mol = Chem.MolFromSmiles(smiles)\n",
    "\n",
    "    if method == \"maccs\":\n",
    "        return np.array(MACCSkeys.GenMACCSKeys(mol))\n",
    "    if method == \"morgan2\":\n",
    "        fpg = rdFingerprintGenerator.GetMorganGenerator(radius=2, fpSize=n_bits)\n",
    "        return np.array(fpg.GetFingerprint(mol))\n",
    "    if method == \"morgan3\":\n",
    "        fpg = rdFingerprintGenerator.GetMorganGenerator(radius=3, fpSize=n_bits)\n",
    "        return np.array(fpg.GetFingerprint(mol))\n",
    "    else:\n",
    "        print(f\"警告：指定了错误的方法：{method}。将使用默认值。\")\n",
    "        return np.array(MACCSkeys.GenMACCSKeys(mol))"
   ]
  },
  {
   "cell_type": "code",
   "execution_count": 11,
   "id": "37164e890b81c451",
   "metadata": {
    "ExecuteTime": {
     "end_time": "2024-09-19T08:02:57.885751Z",
     "start_time": "2024-09-19T08:02:57.869356Z"
    },
    "collapsed": false,
    "jupyter": {
     "outputs_hidden": false
    }
   },
   "outputs": [],
   "source": [
    "compound_df = chembl_df.copy()"
   ]
  },
  {
   "cell_type": "code",
   "execution_count": 12,
   "id": "5bb36c58589244f1",
   "metadata": {
    "ExecuteTime": {
     "end_time": "2024-09-19T08:02:59.502073Z",
     "start_time": "2024-09-19T08:02:58.204362Z"
    },
    "collapsed": false,
    "jupyter": {
     "outputs_hidden": false
    }
   },
   "outputs": [
    {
     "data": {
      "text/html": [
       "<div>\n",
       "<style scoped>\n",
       "    .dataframe tbody tr th:only-of-type {\n",
       "        vertical-align: middle;\n",
       "    }\n",
       "\n",
       "    .dataframe tbody tr th {\n",
       "        vertical-align: top;\n",
       "    }\n",
       "\n",
       "    .dataframe thead th {\n",
       "        text-align: right;\n",
       "    }\n",
       "</style>\n",
       "<table border=\"1\" class=\"dataframe\">\n",
       "  <thead>\n",
       "    <tr style=\"text-align: right;\">\n",
       "      <th></th>\n",
       "      <th>molecule_chembl_id</th>\n",
       "      <th>smiles</th>\n",
       "      <th>pIC50</th>\n",
       "      <th>active</th>\n",
       "      <th>fp</th>\n",
       "    </tr>\n",
       "  </thead>\n",
       "  <tbody>\n",
       "    <tr>\n",
       "      <th>0</th>\n",
       "      <td>CHEMBL5189340</td>\n",
       "      <td>CN(C)c1ccc(/C=N/NC(=O)Cn2nc(Cc3ccc(Cl)cc3)c3cc...</td>\n",
       "      <td>10.638272</td>\n",
       "      <td>1.0</td>\n",
       "      <td>[0, 0, 0, 0, 0, 0, 0, 0, 0, 0, 0, 0, 0, 0, 0, ...</td>\n",
       "    </tr>\n",
       "    <tr>\n",
       "      <th>1</th>\n",
       "      <td>CHEMBL429743</td>\n",
       "      <td>COc1cc2nccc(Oc3ccc4c(C(=O)Nc5ccc(Cl)cc5)cccc4c...</td>\n",
       "      <td>10.522879</td>\n",
       "      <td>1.0</td>\n",
       "      <td>[0, 0, 0, 0, 0, 0, 0, 0, 0, 0, 0, 0, 0, 0, 0, ...</td>\n",
       "    </tr>\n",
       "    <tr>\n",
       "      <th>2</th>\n",
       "      <td>CHEMBL5186748</td>\n",
       "      <td>CNC(=O)c1cc(Oc2ccc(NC(=O)c3nn(-c4ccc(Cl)cc4)cc...</td>\n",
       "      <td>9.920819</td>\n",
       "      <td>1.0</td>\n",
       "      <td>[0, 0, 0, 0, 0, 0, 0, 0, 0, 0, 0, 0, 0, 0, 0, ...</td>\n",
       "    </tr>\n",
       "  </tbody>\n",
       "</table>\n",
       "</div>"
      ],
      "text/plain": [
       "  molecule_chembl_id                                             smiles  \\\n",
       "0      CHEMBL5189340  CN(C)c1ccc(/C=N/NC(=O)Cn2nc(Cc3ccc(Cl)cc3)c3cc...   \n",
       "1       CHEMBL429743  COc1cc2nccc(Oc3ccc4c(C(=O)Nc5ccc(Cl)cc5)cccc4c...   \n",
       "2      CHEMBL5186748  CNC(=O)c1cc(Oc2ccc(NC(=O)c3nn(-c4ccc(Cl)cc4)cc...   \n",
       "\n",
       "       pIC50  active                                                 fp  \n",
       "0  10.638272     1.0  [0, 0, 0, 0, 0, 0, 0, 0, 0, 0, 0, 0, 0, 0, 0, ...  \n",
       "1  10.522879     1.0  [0, 0, 0, 0, 0, 0, 0, 0, 0, 0, 0, 0, 0, 0, 0, ...  \n",
       "2   9.920819     1.0  [0, 0, 0, 0, 0, 0, 0, 0, 0, 0, 0, 0, 0, 0, 0, ...  "
      ]
     },
     "execution_count": 12,
     "metadata": {},
     "output_type": "execute_result"
    }
   ],
   "source": [
    "# 添加指纹列\n",
    "compound_df[\"fp\"] = compound_df[\"smiles\"].apply(smiles_to_fp)\n",
    "compound_df.head(3)"
   ]
  },
  {
   "cell_type": "markdown",
   "id": "ec63ae755fd02a6d",
   "metadata": {
    "collapsed": false,
    "jupyter": {
     "outputs_hidden": false
    }
   },
   "source": [
    "### 机器学习 (ML) ¶\n",
    "\n",
    "接下来，我们将尝试几种机器学习方法来对分子进行分类。我们将使用：\n",
    "\n",
    "-  随机森林 (RF)\n",
    "- 支持向量机（SVM）\n",
    "- 人工神经网络 (ANN)\n",
    "\n",
    "此外，我们将对结果发表评论。\n",
    "\n",
    "目标是测试模型预测以前从未见过的数据的能力，以便标记称为过度拟合的问题并评估模型的泛化能力。\n",
    "\n",
    "我们首先定义一个函数 `model_training_and_validation` ，该函数在数据的随机训练测试分割上拟合模型，并返回在测试集上评估的准确性、灵敏度、特异性和 AUC 等度量。我们还使用 `plot_roc_curves_for_models` 绘制 ROC 曲线。\n",
    "\n",
    "然后，我们定义一个名为 `crossvalidation` 的函数，它执行交叉验证过程并打印折叠结果的统计信息。\n",
    "\n",
    "辅助函数 ¶\n",
    "用于绘制自定义 ROC 曲线的辅助函数。代码灵感来自 stackoverflow。\n",
    "\n"
   ]
  },
  {
   "cell_type": "code",
   "execution_count": 13,
   "id": "b6952dafa681902d",
   "metadata": {
    "ExecuteTime": {
     "end_time": "2024-09-19T08:02:59.507458Z",
     "start_time": "2024-09-19T08:02:59.504513Z"
    },
    "collapsed": false,
    "jupyter": {
     "outputs_hidden": false
    }
   },
   "outputs": [],
   "source": [
    "def plot_roc_curves_for_models(models, test_x, test_y, save_png=False):\n",
    "    \"\"\"\n",
    "    绘制自定义大鹏曲线的辅助函数。\n",
    "    参数\n",
    "    ----------\n",
    "    模型: dict\n",
    "    预训练机器学习模型的字典。\n",
    "    test_x: list\n",
    "    测试集的分子指纹。\n",
    "    test_y: 列表\n",
    "    测试集的相关活动标签。\n",
    "    save_png: bool\n",
    "    将图像保存到磁盘（默认 = False）\n",
    "    返回值\n",
    "    -------\n",
    "    无\n",
    "    图。\n",
    "    \"\"\"\n",
    "    fig, ax = plt.subplots()\n",
    "    # 防止中文乱码\n",
    "    plt.rcParams['font.sans-serif'] = ['SimHei']\n",
    "    plt.rcParams['axes.unicode_minus'] = False\n",
    "    # 下面的 for 循环遍历模型列表\n",
    "    for model in models:\n",
    "        # 选择模型\n",
    "        ml_model = model[\"model\"]\n",
    "        # 在测试集上的预测概率\n",
    "        test_prob = ml_model.predict_proba(test_x)[:, 1]\n",
    "        # 测试集上的预测类\n",
    "        test_pred = ml_model.predict(test_x)\n",
    "        # 计算假阳性率和真阳性率\n",
    "        fpr, tpr, thresholds = metrics.roc_curve(test_y, test_prob)\n",
    "        # 计算曲线下面积，显示在图上\n",
    "        auc = roc_auc_score(test_y, test_prob)\n",
    "        # 绘制计算值\n",
    "        ax.plot(fpr, tpr, label=(f\"{model['label']} AUC area = {auc:.2f}\"))\n",
    "\n",
    "    # 自定义设置\n",
    "    ax.plot([0, 1], [0, 1], \"r--\")\n",
    "    ax.set_xlabel(\"False Positive Rate\")\n",
    "    ax.set_ylabel(\"True Positive Rate\")\n",
    "    ax.set_title(\"Receiver Operating Characteristic\")\n",
    "    ax.legend(loc=\"lower right\")\n",
    "    # Save plot\n",
    "    if save_png:\n",
    "        fig.savefig(f\"{DATA}/roc_auc\", dpi=300, bbox_inches=\"tight\", transparent=True)\n",
    "    return fig"
   ]
  },
  {
   "cell_type": "markdown",
   "id": "225a3fdc0b00c62c",
   "metadata": {
    "collapsed": false,
    "jupyter": {
     "outputs_hidden": false
    }
   },
   "source": [
    "用于计算模型性能的辅助函数。"
   ]
  },
  {
   "cell_type": "code",
   "execution_count": 14,
   "id": "df742a5ec68c1239",
   "metadata": {
    "ExecuteTime": {
     "end_time": "2024-09-19T08:03:00.382515Z",
     "start_time": "2024-09-19T08:03:00.350688Z"
    },
    "collapsed": false,
    "jupyter": {
     "outputs_hidden": false
    }
   },
   "outputs": [],
   "source": [
    "def model_performance(ml_model, test_x, test_y, verbose=True):\n",
    "    \"\"\"\n",
    "    计算模型性能的辅助函数\n",
    "    参数\n",
    "    ----------\n",
    "    ml_model: sklearn 模型对象\n",
    "    要训练的机器学习模型。\n",
    "    test_x: 列表\n",
    "    测试集的分子指纹。\n",
    "    test_y: 列表\n",
    "    测试集的相关活动标签。\n",
    "    verbose: bool\n",
    "    打印性能指标（默认 = True）\n",
    "    返回值\n",
    "    -------\n",
    "    tuple：\n",
    "    测试集上的准确性、灵敏度、特异性和 auc。\n",
    "    \"\"\"\n",
    "    # 测试集上的预测概率\n",
    "    test_prob = ml_model.predict_proba(test_x)[:, 1]\n",
    "\n",
    "    # 测试集上的预测类别\n",
    "    test_pred = ml_model.predict(test_x)\n",
    "\n",
    "    # 模型在测试集上的性能\n",
    "    accuracy = accuracy_score(test_y, test_pred)\n",
    "    sens = recall_score(test_y, test_pred)\n",
    "    spec = recall_score(test_y, test_pred, pos_label=0)\n",
    "    auc = roc_auc_score(test_y, test_prob)\n",
    "\n",
    "    if verbose:\n",
    "        # 打印性能结果\n",
    "        # NBVAL_CHECK_OUTPUT print(f \"Accuracy: {accuracy:.2}\")\n",
    "        print(f\"Sensitivity: {sens:.2f}\")\n",
    "        print(f\"Specificity: {spec:.2f}\")\n",
    "        print(f\"AUC: {auc:.2f}\")\n",
    "\n",
    "    return accuracy, sens, spec, auc"
   ]
  },
  {
   "cell_type": "markdown",
   "id": "ef3e687c27f4a272",
   "metadata": {
    "collapsed": false,
    "jupyter": {
     "outputs_hidden": false
    }
   },
   "source": [
    "辅助函数可在数据的随机训练测试分割上拟合机器学习模型并返回性能度量。\n",
    "\n"
   ]
  },
  {
   "cell_type": "code",
   "execution_count": 15,
   "id": "d4a8a3155bdc7fbf",
   "metadata": {
    "ExecuteTime": {
     "end_time": "2024-09-19T08:03:01.057782Z",
     "start_time": "2024-09-19T08:03:01.020577Z"
    },
    "collapsed": false,
    "jupyter": {
     "outputs_hidden": false
    }
   },
   "outputs": [],
   "source": [
    "def model_training_and_validation(ml_model, name, splits, verbose=True):\n",
    "    \"\"\"\n",
    "    在数据的随机训练-测试分割上拟合机器学习模型\n",
    "    并返回性能指标。\n",
    "    参数\n",
    "    ----------\n",
    "    ml_model: sklearn 模型对象\n",
    "    要训练的机器学习模型。\n",
    "    name: str\n",
    "    机器学习算法的名称：RF、SVM、ANN\n",
    "    splits: list\n",
    "    描述符和标签数据列表：train_x、test_x、train_y、test_y。\n",
    "    verbose: bool\n",
    "    打印性能信息（默认 = True）\n",
    "    返回\n",
    "    -------\n",
    "    tuple：\n",
    "    测试集上的准确性、灵敏度、特异性和 auc。\n",
    "    \"\"\"\n",
    "    train_x, test_x, train_y, test_y = splits\n",
    "\n",
    "    # 拟合模型\n",
    "    ml_model.fit(train_x, train_y)\n",
    "\n",
    "    # 计算模型性能结果\n",
    "    accuracy, sens, spec, auc = model_performance(ml_model, test_x, test_y, verbose)\n",
    "\n",
    "    return accuracy, sens, spec, auc"
   ]
  },
  {
   "cell_type": "markdown",
   "id": "886e610d7b975967",
   "metadata": {
    "collapsed": false,
    "jupyter": {
     "outputs_hidden": false
    }
   },
   "source": [
    "预处理：分割数据（将被其他模型重用）"
   ]
  },
  {
   "cell_type": "code",
   "execution_count": 16,
   "id": "7985f9fa3025f846",
   "metadata": {
    "ExecuteTime": {
     "end_time": "2024-09-19T08:03:01.919638Z",
     "start_time": "2024-09-19T08:03:01.872877Z"
    },
    "collapsed": false,
    "jupyter": {
     "outputs_hidden": false
    }
   },
   "outputs": [
    {
     "name": "stdout",
     "output_type": "stream",
     "text": [
      "训练数据规模: 4914\n",
      "试验数据量: 1229\n"
     ]
    }
   ],
   "source": [
    "fingerprint_to_model = compound_df.fp.tolist()\n",
    "label_to_model = compound_df.active.tolist()\n",
    "\n",
    "# 将数据随机拆分为训练集和测试集\n",
    "# 请注意，我们使用 test/train_x 来进行各自的指纹分割\n",
    "# 和 test/train_y 表示各自的标签分割\n",
    "(\n",
    "    static_train_x,\n",
    "    static_test_x,\n",
    "    static_train_y,\n",
    "    static_test_y,\n",
    ") = train_test_split(fingerprint_to_model, label_to_model, test_size=0.2, random_state=SEED)\n",
    "splits = [static_train_x, static_test_x, static_train_y, static_test_y]\n",
    "# NBVAL_CHECK_OUTPUT\n",
    "print(\"训练数据规模:\", len(static_train_x))\n",
    "print(\"试验数据量:\", len(static_test_x))"
   ]
  },
  {
   "cell_type": "markdown",
   "id": "219db710426e4e9f",
   "metadata": {
    "collapsed": false,
    "jupyter": {
     "outputs_hidden": false
    }
   },
   "source": [
    "随机森林分类器 ¶\n",
    "我们从随机森林分类器开始，首先设置参数。\n",
    "\n",
    "我们通过随机训练-测试分割来训练模型并绘制结果。"
   ]
  },
  {
   "cell_type": "code",
   "execution_count": 17,
   "id": "2f67e49788798eb5",
   "metadata": {
    "ExecuteTime": {
     "end_time": "2024-09-19T08:03:02.726318Z",
     "start_time": "2024-09-19T08:03:02.715449Z"
    },
    "collapsed": false,
    "jupyter": {
     "outputs_hidden": false
    }
   },
   "outputs": [],
   "source": [
    "# 为随机森林设置模型参数\n",
    "param = {\n",
    "    \"n_estimators\": 100,  # 生长的树木数量\n",
    "    \"criterion\": \"entropy\",  # 待优化的成本函数进行拆分\n",
    "}\n",
    "model_RF = RandomForestClassifier(**param)"
   ]
  },
  {
   "cell_type": "code",
   "execution_count": 18,
   "id": "a2f0c1be1c013c5c",
   "metadata": {
    "ExecuteTime": {
     "end_time": "2024-09-19T08:03:03.100222Z",
     "start_time": "2024-09-19T08:03:02.968853Z"
    },
    "collapsed": false,
    "jupyter": {
     "outputs_hidden": false
    }
   },
   "outputs": [
    {
     "name": "stdout",
     "output_type": "stream",
     "text": [
      "Sensitivity: 0.89\n",
      "Specificity: 0.59\n",
      "AUC: 0.85\n"
     ]
    }
   ],
   "source": [
    "# 将模型与单个分割模型相匹配\n",
    "performance_measures = model_training_and_validation(model_RF, \"RF\", splits)"
   ]
  },
  {
   "cell_type": "code",
   "execution_count": 19,
   "id": "78d653cb7cc5c28c",
   "metadata": {
    "ExecuteTime": {
     "end_time": "2024-09-19T08:03:03.812505Z",
     "start_time": "2024-09-19T08:03:03.657819Z"
    },
    "collapsed": false,
    "jupyter": {
     "outputs_hidden": false
    }
   },
   "outputs": [
    {
     "data": {
      "image/png": "[encoded data removed]",
      "text/plain": [
       "<Figure size 640x480 with 1 Axes>"
      ]
     },
     "metadata": {},
     "output_type": "display_data"
    }
   ],
   "source": [
    "# 初始化存储所有型号的列表。第一个是 RF。\n",
    "models = [{\"label\": \"Model_RF\", \"model\": model_RF}]\n",
    "# 绘制roc曲线\n",
    "plot_roc_curves_for_models(models, static_test_x, static_test_y);"
   ]
  },
  {
   "cell_type": "markdown",
   "id": "87ab3cab0d01b9f5",
   "metadata": {
    "collapsed": false,
    "jupyter": {
     "outputs_hidden": false
    }
   },
   "source": [
    "#### 支持向量分类器 ¶\n",
    "\n",
    "在这里，我们使用径向基函数核（也称为平方指数核）训练 SVM。有关更多信息，请参阅 sklearn RBF 内核。"
   ]
  },
  {
   "cell_type": "code",
   "execution_count": 20,
   "id": "b00aa533a8899097",
   "metadata": {
    "ExecuteTime": {
     "end_time": "2024-09-19T08:03:05.580551Z",
     "start_time": "2024-09-19T08:03:05.556030Z"
    },
    "collapsed": false,
    "jupyter": {
     "outputs_hidden": false
    }
   },
   "outputs": [
    {
     "name": "stdout",
     "output_type": "stream",
     "text": [
      "Sensitivity: 0.93\n",
      "Specificity: 0.57\n",
      "AUC: 0.87\n"
     ]
    }
   ],
   "source": [
    "# 指定模型\n",
    "model_SVM = svm.SVC(kernel=\"rbf\", C=1, gamma=0.1, probability=True)\n",
    "\n",
    "# 将模型与单个分割模型相匹配\n",
    "performance_measures = model_training_and_validation(model_SVM, \"SVM\", splits)"
   ]
  },
  {
   "cell_type": "code",
   "execution_count": 21,
   "id": "ccb3988b4f503cec",
   "metadata": {
    "ExecuteTime": {
     "end_time": "2024-09-19T08:03:06.299626Z",
     "start_time": "2024-09-19T08:03:06.112705Z"
    },
    "collapsed": false,
    "jupyter": {
     "outputs_hidden": false
    }
   },
   "outputs": [
    {
     "data": {
      "image/png": "[encoded data removed]",
      "text/plain": [
       "<Figure size 640x480 with 1 Axes>"
      ]
     },
     "metadata": {},
     "output_type": "display_data"
    }
   ],
   "source": [
    "# 添加 SVM 模型\n",
    "models.append({\"label\": \"Model_SVM\", \"model\": model_SVM})\n",
    "# 绘制roc曲线\n",
    "plot_roc_curves_for_models(models, static_test_x, static_test_y);"
   ]
  },
  {
   "cell_type": "markdown",
   "id": "aa8f4b53513b9bf1",
   "metadata": {
    "collapsed": false,
    "jupyter": {
     "outputs_hidden": false
    }
   },
   "source": [
    "#### 神经网络分类器 ¶\n",
    "\n",
    "我们在这里尝试的最后一种方法是神经网络模型。我们训练一个有 2 层的 MLPClassifier（多层感知器分类器）：第一层有 5 个神经元，第二层有 3 个神经元。和以前一样，我们进行交叉验证过程并绘制结果。有关 MLP 的更多信息，请参阅 sklearn MLPClassifier。"
   ]
  },
  {
   "cell_type": "code",
   "execution_count": 22,
   "id": "626e79cbe631aeef",
   "metadata": {
    "ExecuteTime": {
     "end_time": "2024-09-19T08:03:07.727466Z",
     "start_time": "2024-09-19T08:03:07.628914Z"
    },
    "collapsed": false,
    "jupyter": {
     "outputs_hidden": false
    }
   },
   "outputs": [
    {
     "name": "stdout",
     "output_type": "stream",
     "text": [
      "Sensitivity: 0.87\n",
      "Specificity: 0.54\n",
      "AUC: 0.80\n"
     ]
    }
   ],
   "source": [
    "# 指定模型\n",
    "# 设置20层\n",
    "model_ANN = MLPClassifier(hidden_layer_sizes=(5, 3), random_state=SEED)\n",
    "\n",
    "# 创建一个具有20层隐藏层的MLP分类器，每层有10个神经元\n",
    "# 注意：这个例子中的层数和神经元数量可能对于实际应用来说过大或过小，需要根据具体问题进行调整\n",
    "# model_ANN = MLPClassifier(hidden_layer_sizes=(10,)*10, random_state=SEED)\n",
    "# 单分裂上的模型拟合\n",
    "performance_measures = model_training_and_validation(model_ANN, \"ANN\", splits)"
   ]
  },
  {
   "cell_type": "code",
   "execution_count": 23,
   "id": "daabb96f46bf5cde",
   "metadata": {
    "ExecuteTime": {
     "end_time": "2024-09-19T08:03:08.318213Z",
     "start_time": "2024-09-19T08:03:07.951384Z"
    },
    "collapsed": false,
    "jupyter": {
     "outputs_hidden": false
    }
   },
   "outputs": [
    {
     "data": {
      "image/png": "[encoded data removed]",
      "text/plain": [
       "<Figure size 640x480 with 1 Axes>"
      ]
     },
     "metadata": {},
     "output_type": "display_data"
    }
   ],
   "source": [
    "# 添加ANN模型\n",
    "models.append({\"label\": \"Model_ANN\", \"model\": model_ANN})\n",
    "# 绘制roc曲线\n",
    "plot_roc_curves_for_models(models, static_test_x, static_test_y, True);"
   ]
  },
  {
   "cell_type": "markdown",
   "id": "6389cedd29ccf4a",
   "metadata": {
    "collapsed": false,
    "jupyter": {
     "outputs_hidden": false
    }
   },
   "source": [
    "我们的模型对所有测量值都显示出非常好的值（参见 AUC），因此似乎具有预测性。"
   ]
  },
  {
   "cell_type": "markdown",
   "id": "201072e118d1dc57",
   "metadata": {
    "collapsed": false,
    "jupyter": {
     "outputs_hidden": false
    }
   },
   "source": [
    "#### 交叉验证 ¶\n",
    "\n",
    "接下来，我们将使用三种不同的模型进行交叉验证实验。因此，我们定义了一个辅助函数，用于交叉验证循环中的机器学习模型训练和验证。"
   ]
  },
  {
   "cell_type": "code",
   "execution_count": 24,
   "id": "890331023e9f152d",
   "metadata": {
    "ExecuteTime": {
     "end_time": "2024-09-19T08:02:28.365635Z",
     "start_time": "2024-09-19T08:02:28.341727Z"
    },
    "collapsed": false,
    "jupyter": {
     "outputs_hidden": false
    }
   },
   "outputs": [],
   "source": [
    "def crossvalidation(ml_model, df, n_folds=5, verbose=False):\n",
    "    \"\"\"\n",
    "    交叉验证循环中的机器学习模型训练和验证。\n",
    "    参数\n",
    "    ----------\n",
    "    ml_model: sklearn 模型对象\n",
    "    要训练的机器学习模型。\n",
    "    df: pd.DataFrame\n",
    "    包含 SMILES 及其相关活动标签的数据集。\n",
    "    n_folds：int，可选\n",
    "    用于交叉验证的折叠数。\n",
    "    verbose: bool, 可选\n",
    "    打印性能指标。\n",
    "    返回\n",
    "    -------\n",
    "    无\n",
    "    \"\"\"\n",
    "    t0 = time.time()\n",
    "    # 对k - fold交叉验证的指标进行洗牌\n",
    "    kf = KFold(n_splits=n_folds, shuffle=True, random_state=SEED)\n",
    "\n",
    "    # 每个交叉验证折中的结果\n",
    "    acc_per_fold = []\n",
    "    sens_per_fold = []\n",
    "    spec_per_fold = []\n",
    "    auc_per_fold = []\n",
    "\n",
    "    # 循环\n",
    "    for train_index, test_index in kf.split(df):\n",
    "        # clone model -- we want a fresh copy per fold!\n",
    "        fold_model = clone(ml_model)\n",
    "        # 训练\n",
    "\n",
    "        # 将指纹和标签转换为列表\n",
    "        train_x = df.iloc[train_index].fp.tolist()\n",
    "        train_y = df.iloc[train_index].active.tolist()\n",
    "\n",
    "        # 拟合模型\n",
    "        fold_model.fit(train_x, train_y)\n",
    "\n",
    "        # 测试\n",
    "\n",
    "        # 将指纹和标签转换为列表\n",
    "        test_x = df.iloc[test_index].fp.tolist()\n",
    "        test_y = df.iloc[test_index].active.tolist()\n",
    "\n",
    "        # 遍历每一个\n",
    "        accuracy, sens, spec, auc = model_performance(fold_model, test_x, test_y, verbose)\n",
    "\n",
    "        # 保存结果\n",
    "        acc_per_fold.append(accuracy)\n",
    "        sens_per_fold.append(sens)\n",
    "        spec_per_fold.append(spec)\n",
    "        auc_per_fold.append(auc)\n",
    "\n",
    "    # 打印结果统计\n",
    "    print(\n",
    "        f\"Mean accuracy: {np.mean(acc_per_fold):.2f} \\t\"\n",
    "        f\"and std : {np.std(acc_per_fold):.2f} \\n\"\n",
    "        f\"Mean sensitivity: {np.mean(sens_per_fold):.2f} \\t\"\n",
    "        f\"and std : {np.std(sens_per_fold):.2f} \\n\"\n",
    "        f\"Mean specificity: {np.mean(spec_per_fold):.2f} \\t\"\n",
    "        f\"and std : {np.std(spec_per_fold):.2f} \\n\"\n",
    "        f\"Mean AUC: {np.mean(auc_per_fold):.2f} \\t\"\n",
    "        f\"and std : {np.std(auc_per_fold):.2f} \\n\"\n",
    "        f\"Time taken : {time.time() - t0:.2f}s\\n\"\n",
    "    )\n",
    "\n",
    "    return acc_per_fold, sens_per_fold, spec_per_fold, auc_per_fold"
   ]
  },
  {
   "cell_type": "markdown",
   "id": "c42304673a9ec095",
   "metadata": {
    "collapsed": false,
    "jupyter": {
     "outputs_hidden": false
    }
   },
   "source": [
    "**交叉验证**\n",
    "\n",
    "我们现在应用交叉验证并显示所有三个 ML 模型的统计数据。在现实条件下，交叉验证通常应用 5 次或更多，但出于性能考虑，我们将其减少到 20 次。您可以更改下面此单元格中 `N_FOLDS` 的值。"
   ]
  },
  {
   "cell_type": "code",
   "execution_count": 25,
   "id": "c86d8942b850a0ef",
   "metadata": {
    "ExecuteTime": {
     "end_time": "2024-09-19T08:02:28.928660Z",
     "start_time": "2024-09-19T08:02:28.854465Z"
    },
    "collapsed": false,
    "jupyter": {
     "outputs_hidden": false
    }
   },
   "outputs": [],
   "source": [
    "N_FOLDS = 20"
   ]
  },
  {
   "cell_type": "markdown",
   "id": "fffd56e0d23c2434",
   "metadata": {
    "collapsed": false,
    "jupyter": {
     "outputs_hidden": false
    }
   },
   "source": [
    "注意：下一个单元格需要很长时间才能执行"
   ]
  },
  {
   "cell_type": "code",
   "execution_count": 26,
   "id": "dd7bc744f515c1a6",
   "metadata": {
    "ExecuteTime": {
     "end_time": "2024-09-19T08:02:31.333308Z",
     "start_time": "2024-09-19T08:02:29.339500Z"
    },
    "collapsed": false,
    "jupyter": {
     "outputs_hidden": false
    }
   },
   "outputs": [
    {
     "name": "stdout",
     "output_type": "stream",
     "text": [
      "\n",
      "======= \n",
      "Model_RF\n",
      "Mean accuracy: 0.80 \tand std : 0.03 \n",
      "Mean sensitivity: 0.89 \tand std : 0.03 \n",
      "Mean specificity: 0.61 \tand std : 0.05 \n",
      "Mean AUC: 0.86 \tand std : 0.02 \n",
      "Time taken : 14.66s\n",
      "\n",
      "\n",
      "======= \n",
      "Model_SVM\n",
      "Mean accuracy: 0.81 \tand std : 0.02 \n",
      "Mean sensitivity: 0.92 \tand std : 0.03 \n",
      "Mean specificity: 0.59 \tand std : 0.05 \n",
      "Mean AUC: 0.86 \tand std : 0.02 \n",
      "Time taken : 333.15s\n",
      "\n",
      "\n",
      "======= \n",
      "Model_ANN\n",
      "Mean accuracy: 0.75 \tand std : 0.02 \n",
      "Mean sensitivity: 0.84 \tand std : 0.03 \n",
      "Mean specificity: 0.57 \tand std : 0.05 \n",
      "Mean AUC: 0.79 \tand std : 0.03 \n",
      "Time taken : 53.33s\n",
      "\n"
     ]
    }
   ],
   "source": [
    "for model in models:\n",
    "    print(\"\\n======= \")\n",
    "    print(f\"{model['label']}\")\n",
    "    crossvalidation(model[\"model\"], compound_df, n_folds=N_FOLDS)"
   ]
  },
  {
   "cell_type": "markdown",
   "id": "6def57d65a15c3fb",
   "metadata": {
    "collapsed": false,
    "jupyter": {
     "outputs_hidden": false
    }
   },
   "source": [
    "我们研究使用 Morgan 指纹而不是 MACCS 密钥编码的分子的交叉验证性能。"
   ]
  },
  {
   "cell_type": "code",
   "execution_count": 27,
   "id": "eea50d03c7e94a74",
   "metadata": {
    "ExecuteTime": {
     "end_time": "2024-09-19T08:02:31.339487Z",
     "start_time": "2024-09-19T08:02:31.335298Z"
    },
    "collapsed": false,
    "jupyter": {
     "outputs_hidden": false
    }
   },
   "outputs": [],
   "source": [
    "# 重置数据帧\n",
    "compound_df = chembl_df.copy()"
   ]
  },
  {
   "cell_type": "code",
   "execution_count": 28,
   "id": "a4772bdadc52979a",
   "metadata": {
    "ExecuteTime": {
     "start_time": "2024-09-19T08:02:31.337443Z"
    },
    "collapsed": false,
    "jupyter": {
     "outputs_hidden": false
    }
   },
   "outputs": [
    {
     "data": {
      "text/html": [
       "<div>\n",
       "<style scoped>\n",
       "    .dataframe tbody tr th:only-of-type {\n",
       "        vertical-align: middle;\n",
       "    }\n",
       "\n",
       "    .dataframe tbody tr th {\n",
       "        vertical-align: top;\n",
       "    }\n",
       "\n",
       "    .dataframe thead th {\n",
       "        text-align: right;\n",
       "    }\n",
       "</style>\n",
       "<table border=\"1\" class=\"dataframe\">\n",
       "  <thead>\n",
       "    <tr style=\"text-align: right;\">\n",
       "      <th></th>\n",
       "      <th>molecule_chembl_id</th>\n",
       "      <th>smiles</th>\n",
       "      <th>pIC50</th>\n",
       "      <th>active</th>\n",
       "      <th>fp</th>\n",
       "    </tr>\n",
       "  </thead>\n",
       "  <tbody>\n",
       "    <tr>\n",
       "      <th>0</th>\n",
       "      <td>CHEMBL5189340</td>\n",
       "      <td>CN(C)c1ccc(/C=N/NC(=O)Cn2nc(Cc3ccc(Cl)cc3)c3cc...</td>\n",
       "      <td>10.638272</td>\n",
       "      <td>1.0</td>\n",
       "      <td>[0, 0, 0, 0, 0, 0, 0, 0, 0, 0, 0, 0, 0, 0, 0, ...</td>\n",
       "    </tr>\n",
       "    <tr>\n",
       "      <th>1</th>\n",
       "      <td>CHEMBL429743</td>\n",
       "      <td>COc1cc2nccc(Oc3ccc4c(C(=O)Nc5ccc(Cl)cc5)cccc4c...</td>\n",
       "      <td>10.522879</td>\n",
       "      <td>1.0</td>\n",
       "      <td>[0, 0, 1, 0, 0, 0, 0, 0, 0, 0, 0, 0, 0, 0, 0, ...</td>\n",
       "    </tr>\n",
       "    <tr>\n",
       "      <th>2</th>\n",
       "      <td>CHEMBL5186748</td>\n",
       "      <td>CNC(=O)c1cc(Oc2ccc(NC(=O)c3nn(-c4ccc(Cl)cc4)cc...</td>\n",
       "      <td>9.920819</td>\n",
       "      <td>1.0</td>\n",
       "      <td>[0, 0, 0, 0, 0, 0, 0, 0, 0, 0, 0, 0, 0, 0, 0, ...</td>\n",
       "    </tr>\n",
       "  </tbody>\n",
       "</table>\n",
       "</div>"
      ],
      "text/plain": [
       "  molecule_chembl_id                                             smiles  \\\n",
       "0      CHEMBL5189340  CN(C)c1ccc(/C=N/NC(=O)Cn2nc(Cc3ccc(Cl)cc3)c3cc...   \n",
       "1       CHEMBL429743  COc1cc2nccc(Oc3ccc4c(C(=O)Nc5ccc(Cl)cc5)cccc4c...   \n",
       "2      CHEMBL5186748  CNC(=O)c1cc(Oc2ccc(NC(=O)c3nn(-c4ccc(Cl)cc4)cc...   \n",
       "\n",
       "       pIC50  active                                                 fp  \n",
       "0  10.638272     1.0  [0, 0, 0, 0, 0, 0, 0, 0, 0, 0, 0, 0, 0, 0, 0, ...  \n",
       "1  10.522879     1.0  [0, 0, 1, 0, 0, 0, 0, 0, 0, 0, 0, 0, 0, 0, 0, ...  \n",
       "2   9.920819     1.0  [0, 0, 0, 0, 0, 0, 0, 0, 0, 0, 0, 0, 0, 0, 0, ...  "
      ]
     },
     "execution_count": 28,
     "metadata": {},
     "output_type": "execute_result"
    }
   ],
   "source": [
    "# 使用半径为3的Morgan指纹\n",
    "compound_df[\"fp\"] = compound_df[\"smiles\"].apply(smiles_to_fp, args=(\"morgan3\",))\n",
    "compound_df.head(3)"
   ]
  },
  {
   "cell_type": "markdown",
   "id": "d5e381c854848c8f",
   "metadata": {
    "collapsed": false,
    "jupyter": {
     "outputs_hidden": false
    }
   },
   "source": [
    "注意：下一个单元格需要很长时间才能执行"
   ]
  },
  {
   "cell_type": "code",
   "execution_count": 29,
   "id": "7404df90ddfc64c4",
   "metadata": {
    "ExecuteTime": {
     "start_time": "2024-09-19T08:02:31.339365Z"
    },
    "collapsed": false,
    "jupyter": {
     "outputs_hidden": false
    }
   },
   "outputs": [],
   "source": [
    "# 保存数据\n",
    "compound_df.to_csv(f\"{DATA}/chembl_morgan3.csv\", index=False)"
   ]
  },
  {
   "cell_type": "code",
   "execution_count": null,
   "id": "ca20f91fc8892010",
   "metadata": {
    "ExecuteTime": {
     "end_time": "2024-09-19T08:02:31.341860Z",
     "start_time": "2024-09-19T08:02:31.340961Z"
    },
    "collapsed": false,
    "jupyter": {
     "outputs_hidden": false
    }
   },
   "outputs": [],
   "source": [
    "for model in models:\n",
    "    if model[\"label\"] == \"Model_SVM\":\n",
    "        # SVM具有超慢的长指纹\n",
    "        # 并将具有类似于RF的性能\n",
    "        # 我们可以在这个测试中跳过它，但如果你想的话\n",
    "        # 运行它，随意将'继续'替换为'pass'\n",
    "        pass\n",
    "    print(\"\\n=======\")\n",
    "    print(model[\"label\"])\n",
    "    crossvalidation(model[\"model\"], compound_df, n_folds=N_FOLDS)"
   ]
  },
  {
   "cell_type": "markdown",
   "id": "a555b252d394d8cd",
   "metadata": {
    "collapsed": false,
    "jupyter": {
     "outputs_hidden": false
    }
   },
   "source": [
    "## 讨论 ¶\n",
    "\n",
    "- 哪种模型在我们的数据集上表现最好，为什么？\n",
    "  - 所有三个模型在我们的数据集上都表现得（非常）好。最好的模型是随机森林和支持向量机模型，其平均 AUC 约为 90%。我们的神经网络显示的结果略低。\n",
    "  - 随机森林和支持向量机模型表现最佳可能有多种原因。我们的数据集可以通过一些简单的树状决策或径向基函数轻松地在活动/非活动状态下分离。因此，指纹中不存在如此复杂的模式来进行这种分类。\n",
    "  - 人工神经网络性能稍差的一个原因可能是用于训练模型的数据太少。\n",
    "  - 此外，始终建议使用另一个外部验证集来进行模型评估。\n",
    "- MACCS 是正确的选择吗？\n",
    "  - 显然，MACCS 很好地开始训练和验证模型，看看是否可以进行分类。\n",
    "  - 然而，与其他密钥（2048 位）相比，MACCS 密钥相当短（166 位），例如摩根指纹。如上一次模拟所示，较长的指纹有助于学习过程。使用 Morgan 指纹，所有测试模型的表现都稍好一些（参见平均 AUC 增加）。"
   ]
  },
  {
   "cell_type": "code",
   "execution_count": null,
   "id": "1157e46c4b982844",
   "metadata": {
    "ExecuteTime": {
     "end_time": "2024-09-19T08:02:33.908480Z",
     "start_time": "2024-09-19T08:02:31.472687Z"
    },
    "collapsed": false,
    "jupyter": {
     "outputs_hidden": false
    }
   },
   "outputs": [],
   "source": [
    "# 绘制交叉验证结果 (AUC)\n",
    "fig, ax = plt.subplots(figsize=(10, 10))\n",
    "for model in models:\n",
    "    if model[\"label\"] == \"Model_SVM\":\n",
    "        # SVM具有超慢的长指纹\n",
    "        # 并将具有类似于RF的性能\n",
    "        # 我们可以在这个测试中跳过它，但如果你想的话\n",
    "        # 运行它，随意将'继续'替换为'pass'\n",
    "        pass\n",
    "    # 绘制交叉验证结果\n",
    "    cv_results = crossvalidation(model[\"model\"], compound_df, n_folds=N_FOLDS, verbose=False)\n",
    "    ax.plot(cv_results[3], label=model[\"label\"])\n",
    "ax.set_xlabel(\"Number of folds\")\n",
    "ax.set_ylabel(\"AUC\")\n",
    "ax.set_title(\"Cross-validation results\")\n",
    "ax.legend(loc=\"lower right\")\n",
    "# Save plot\n",
    "fig.savefig(f\"{DATA}/cross_validation_results\", dpi=300, bbox_inches=\"tight\", transparent=True)"
   ]
  },
  {
   "cell_type": "code",
   "execution_count": null,
   "id": "d0ed3453dd46de4",
   "metadata": {
    "ExecuteTime": {
     "start_time": "2024-09-19T08:02:33.903296Z"
    },
    "collapsed": false,
    "jupyter": {
     "outputs_hidden": false
    }
   },
   "outputs": [],
   "source": []
  },
  {
   "cell_type": "code",
   "execution_count": null,
   "id": "e8b52b06287f9d3",
   "metadata": {
    "ExecuteTime": {
     "start_time": "2024-09-19T07:56:41.932231Z"
    },
    "collapsed": false,
    "jupyter": {
     "outputs_hidden": false
    }
   },
   "outputs": [],
   "source": []
  },
  {
   "cell_type": "code",
   "execution_count": 84,
   "id": "88874ba6e2d89049",
   "metadata": {
    "ExecuteTime": {
     "end_time": "2024-09-19T07:56:42.066695Z",
     "start_time": "2024-09-19T07:56:41.988815Z"
    },
    "collapsed": false,
    "jupyter": {
     "outputs_hidden": false
    }
   },
   "outputs": [],
   "source": []
  },
  {
   "cell_type": "code",
   "execution_count": 84,
   "id": "a4fdbc65139c5941",
   "metadata": {
    "ExecuteTime": {
     "end_time": "2024-09-19T07:56:42.154244Z",
     "start_time": "2024-09-19T07:56:42.090498Z"
    },
    "collapsed": false,
    "jupyter": {
     "outputs_hidden": false
    }
   },
   "outputs": [],
   "source": []
  },
  {
   "cell_type": "code",
   "execution_count": 84,
   "id": "790f9620786c2dfc",
   "metadata": {
    "ExecuteTime": {
     "end_time": "2024-09-19T07:56:42.251518Z",
     "start_time": "2024-09-19T07:56:42.176984Z"
    },
    "collapsed": false,
    "jupyter": {
     "outputs_hidden": false
    }
   },
   "outputs": [],
   "source": []
  },
  {
   "cell_type": "code",
   "execution_count": 84,
   "id": "20609fef6715ec2f",
   "metadata": {
    "ExecuteTime": {
     "end_time": "2024-09-19T07:56:42.338647Z",
     "start_time": "2024-09-19T07:56:42.312593Z"
    },
    "collapsed": false,
    "jupyter": {
     "outputs_hidden": false
    }
   },
   "outputs": [],
   "source": []
  },
  {
   "cell_type": "code",
   "execution_count": 84,
   "id": "7ba1e71dade8fd00",
   "metadata": {
    "ExecuteTime": {
     "end_time": "2024-09-19T07:56:42.403516Z",
     "start_time": "2024-09-19T07:56:42.340877Z"
    },
    "collapsed": false,
    "jupyter": {
     "outputs_hidden": false
    }
   },
   "outputs": [],
   "source": []
  },
  {
   "cell_type": "code",
   "execution_count": 84,
   "id": "76fed76576f086c",
   "metadata": {
    "ExecuteTime": {
     "end_time": "2024-09-19T07:56:42.473701Z",
     "start_time": "2024-09-19T07:56:42.411561Z"
    },
    "collapsed": false,
    "jupyter": {
     "outputs_hidden": false
    }
   },
   "outputs": [],
   "source": []
  },
  {
   "cell_type": "code",
   "execution_count": 84,
   "id": "6d7be3b5d135243d",
   "metadata": {
    "ExecuteTime": {
     "end_time": "2024-09-19T07:56:42.548587Z",
     "start_time": "2024-09-19T07:56:42.512874Z"
    },
    "collapsed": false,
    "jupyter": {
     "outputs_hidden": false
    }
   },
   "outputs": [],
   "source": []
  },
  {
   "cell_type": "code",
   "execution_count": null,
   "id": "ff6f092b49ebdf4f",
   "metadata": {
    "collapsed": false,
    "jupyter": {
     "outputs_hidden": false
    }
   },
   "outputs": [],
   "source": []
  }
 ],
 "metadata": {
  "kernelspec": {
   "display_name": "Python 3 (ipykernel)",
   "language": "python",
   "name": "python3"
  },
  "language_info": {
   "codemirror_mode": {
    "name": "ipython",
    "version": 3
   },
   "file_extension": ".py",
   "mimetype": "text/x-python",
   "name": "python",
   "nbconvert_exporter": "python",
   "pygments_lexer": "ipython3",
   "version": "3.9.15"
  }
 },
 "nbformat": 4,
 "nbformat_minor": 5
}

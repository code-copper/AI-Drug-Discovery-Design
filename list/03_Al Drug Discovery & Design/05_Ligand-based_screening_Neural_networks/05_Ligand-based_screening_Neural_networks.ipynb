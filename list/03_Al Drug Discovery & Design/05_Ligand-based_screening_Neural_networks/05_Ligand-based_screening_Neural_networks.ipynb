{
 "cells": [
  {
   "metadata": {},
   "cell_type": "markdown",
   "source": [
    "# Ligand-based screening with neural networks\n",
    "## 这一块后面是有预测PIC50的功能的，主要是预测生成新的 smiles 序列，然后用神经网络来预测其对应的 pIC50 值。"
   ],
   "id": "b4ba8cfbd5dc2c64"
  },
  {
   "metadata": {},
   "cell_type": "markdown",
   "source": [
    "## 目标 ¶\n",
    "\n",
    "近年来，机器学习和深度学习在药物研究中的应用在解决药物发现中的各种问题上显示出有希望的结果。在本讲义中，我们将熟悉神经网络的基础知识。我们将学习如何构建一个简单的两层神经网络，并在 ChEMBL 数据的一个子集上对其进行训练，以预测化合物对 EGFR（感兴趣的目标）的 pIC50 值。此外，我们从外部未标记的数据集中选择了三种化合物，这些化合物被预测对该激酶活性最高。\n",
    "\n",
    "###  内容在理论中 ¶\n",
    "\n",
    "-  生物背景\n",
    "  -  EGFR 激酶\n",
    "  - 复合活动指标\n",
    "  -  分子编码\n",
    "-  神经网络\n",
    "  - 什么是神经网络？\n",
    "  -  激活函数\n",
    "  -  损失函数\n",
    "- 训练神经网络\n",
    "-  Keras 工作流程\n",
    "- 神经网络的优势和应用\n",
    "\n",
    "###  内容在实用篇中\n",
    "\n",
    "-  数据准备\n",
    "-  定义神经网络\n",
    "-  训练模型\n",
    "- 评估与预测在测试集上\n",
    "  -  散点图\n",
    "- 预测外部/未标记数据\n",
    "  - 选择前 3 个化合物"
   ],
   "id": "8f904e5b3cae9dce"
  },
  {
   "metadata": {},
   "cell_type": "markdown",
   "source": [
    "## 理论 ¶\n",
    "\n",
    "###  生物背景 ¶\n",
    "\n",
    "####  EGFR 激酶\n",
    "\n",
    "- 表皮生长因子受体（EGFR）是一种存在于细胞膜上的跨膜蛋白/受体。它是 ErbB 受体家族的成员。\n",
    "- EGFR 在控制正常细胞生长、细胞凋亡和其他细胞功能中起着重要作用。\n",
    "- 它通过配体与其细胞外域结合而被激活，激活后 EGFR 从非活性单体形式转变为活性同源二聚体。\n",
    "- EGFR 受体在各种肿瘤或癌症中上调，因此 EGFR 抑制是一种可能阻止癌细胞生长的生物治疗方法。\n",
    "\n",
    "#### 复合活动测量指标\n",
    "\n",
    "- IC50 是药物的半数最大抑制浓度，表示需要多少药物才能将生物过程抑制一半。\n",
    "- pIC50 是 IC50 值的负对数。它比 IC50 值更容易理解，是衡量化合物活性的常用指标（详见 Talktorial T001 以获取更多详细信息）。\n",
    "\n",
    "####  分子编码\n",
    "\n",
    "对于机器学习算法，分子需要转换为机器可读的格式，例如特征列表。在这个笔记本中，使用了分子指纹。\n",
    "\n",
    "分子指纹通过位串编码化学结构和分子特征，其中每个位置上的“1”代表特征的存在，“0”代表特征的缺失。常用的指纹之一是分子访问系统指纹（MACCS Keys），它是一种 166 位的结构键描述符，其中每个位都与一个 SMARTS 模式相关联，用于编码特定的亚结构（详见 Talktorial T004 以获取更多详细信息）。\n",
    "\n",
    "###  神经网络\n",
    "\n",
    "#### 什么是神经网络？\n",
    "\n",
    "神经网络，也称为人工神经网络（ANNs），是机器学习算法的一个子集。神经网络的架构和名称灵感来源于人脑，模仿了生物神经元之间传递信号的方式。"
   ],
   "id": "419c2d2aab3edaea"
  },
  {
   "metadata": {},
   "cell_type": "markdown",
   "source": [
    "## 理论 ¶\n",
    "\n",
    "###  生物背景 ¶\n",
    "\n",
    "####  EGFR 激酶\n",
    "\n",
    "- 表皮生长因子受体（EGFR）是一种存在于细胞膜上的跨膜蛋白/受体。它是 ErbB 受体家族的成员。\n",
    "- EGFR 在控制正常细胞生长、细胞凋亡和其他细胞功能中起着重要作用。\n",
    "- 它通过配体与其细胞外域结合而被激活，激活后 EGFR 从非活性单体形式转变为活性同源二聚体。\n",
    "- EGFR 受体在各种肿瘤或癌症中上调，因此 EGFR 抑制是一种可能阻止癌细胞生长的生物治疗方法。\n",
    "\n",
    "#### 复合活动测量指标\n",
    "\n",
    "- IC50 是药物的半数最大抑制浓度，表示需要多少药物才能将生物过程抑制一半。\n",
    "- pIC50 是 IC50 值的负对数。它比 IC50 值更容易理解，是衡量化合物活性的常用指标（详见 Talktorial T001 以获取更多详细信息）。\n",
    "\n",
    "####  分子编码\n",
    "\n",
    "对于机器学习算法，分子需要转换为机器可读的格式，例如特征列表。在这个笔记本中，使用了分子指纹。\n",
    "\n",
    "分子指纹通过位串编码化学结构和分子特征，其中每个位置上的“1”代表特征的存在，“0”代表特征的缺失。常用的指纹之一是分子访问系统指纹（MACCS Keys），它是一种 166 位的结构键描述符，其中每个位都与一个 SMARTS 模式相关联，用于编码特定的亚结构（详见 Talktorial T004 以获取更多详细信息）。\n",
    "\n",
    "###  神经网络\n",
    "\n",
    "#### 什么是神经网络？\n",
    "\n",
    "神经网络，也称为人工神经网络（ANNs），是机器学习算法的一个子集。神经网络的架构和名称灵感来源于人脑，模仿了生物神经元之间传递信号的方式。"
   ],
   "id": "afd9743ae946f19c"
  },
  {
   "metadata": {},
   "cell_type": "markdown",
   "source": [
    "每个输入神经元 xi 乘以权重 wi 。在图 2 中，我们有 (x1,x2,x3) 和 (w1,w2,w3) 。权重的值决定了输入神经元对下一层神经元的 影响。然后将乘积相加。还添加了一个额外的值，称为偏差，它允许移动激活函数。这个新值成为隐藏神经元的值。数学上，我们有：\n",
    "$$\n",
    "h=(w1∗x1+w2∗x2+w3∗x3)+b=∑i3wi∗xi+b\n",
    "$$\n",
    "激活函数，在下一节中将有更详细的讨论，随后应用于隐藏神经元以确定神经元值是否应该被激活。激活的神经元将数据传输到下一层的神经元。通过这种方式，数据在网络中传播，这被称为正向传播。\n",
    "\n",
    "神经网络中的权重和偏差被称为可学习参数。在训练模型以获得良好性能时，它们会被调整。\n",
    "\n",
    "####  激活函数 ¶\n",
    "\n",
    "**什么是激活函数？**\n",
    "\n",
    "激活函数调节通过神经网络的信量。此函数应用于每个神经元，并决定神经元是否应该被激活。它作为输入供给当前神经元及其输出传递到下一层的“门”作用，如图所示。\n",
    "\n"
   ],
   "id": "38f7c2fc7a0d9218"
  },
  {
   "metadata": {},
   "cell_type": "markdown",
   "source": [
    "**激活函数的类型**\n",
    "\n",
    "有许多激活函数类型，但我们只讨论下面实际部分中使用的两种。更多信息，请参阅补充部分和参考文献。大多数神经网络在隐藏层中使用非线性激活函数来学习复杂特征并适应各种数据。\n",
    "\n",
    "1. 修正线性单元（ReLU）\n",
    "\n",
    "- 它呈现为： f(x)=max{0,x} 。\n",
    "- 如图所示，ReLU 输出 x ，如果 x 为正，否则输出 0 。ReLU 的范围为 [0,+∞) 。\n",
    "- 其中一个原因是因为它的稀疏性：只有少数神经元会被激活，从而使激活变得稀疏且高效。\n",
    "- 已成为许多类型神经网络的默认激活函数，因为它使得模型的训练成本更低，并且模型通常能取得更好的性能。\n",
    "- ReLU 的一个可能缺点是所谓的“死亡 ReLU”问题，其中神经元对所有输入都处于不活跃状态，这是一种梯度消失问题。"
   ],
   "id": "6f93c8b53908f2a7"
  },
  {
   "metadata": {},
   "cell_type": "markdown",
   "source": [
    "1. 线性激活函数\n",
    "\n",
    "- 线性激活函数的形式为： a(x)=x 。\n",
    "- 这是回归设置中最合适的激活函数，因为输出没有约束。\n",
    "\n",
    "####  损失函数 ¶\n",
    "\n",
    "当训练神经网络时，目标是优化预测误差，即真实值与模型预测值之间的差异。预测误差可以写成函数，称为目标函数、代价函数或损失函数。因此，目标是因此最小化损失函数，换句话说，找到局部最小值。损失函数是训练神经网络的重要组件之一。有关损失函数的更多详细信息，请参阅博客文章：训练深度学习神经网络的损失与损失函数。在回归任务中常用的两个损失函数是\n",
    "\n",
    "1. 均方误差（MSE）：正如其名所示，这种损失是通过计算真实值和预测值之间差的平方的平均值来计算的。\n",
    "2. 平均绝对误差（MAE）：损失通过计算真实值与预测值之间绝对差的平均值来计算。\n",
    "\n",
    "### 训练神经网络 ¶\n",
    "\n",
    "当开始使用神经网络时，参数，即权重和偏差，是随机初始化的。然后输入被送入网络并产生输出。然而，相应的输出很可能与真实值非常不同。换句话说，预测误差将非常糟糕：损失函数远未达到最小。因此，必须优化初始参数以获得更好的预测。\n",
    "\n",
    "为此，我们需要最小化损失函数。找到这样一个最小值的有效方法是使用梯度下降算法。这种优化方案是迭代的，并使用损失函数的导数（或多元情况下的梯度）和学习率。算法背后的主要思想是跟随函数的最陡方向，这是通过梯度获得的，并通过学习率管理每一步的长度。后者通常被称为超参数，可以通过交叉验证进行调整（更多细节将在未来的教程中介绍）。\n",
    "\n",
    "在训练神经网络时，使用反向传播是非常常见的，这是一种利用链式法则进行微分来高效获取梯度的方法。\n",
    "\n",
    "总结来说，每次网络正向传播后，反向传播都会进行反向传播，同时调整模型的参数以最小化损失函数。\n",
    "\n",
    " **计算成本**\n",
    "\n",
    "如果所使用的数据集非常大，计算损失函数的梯度可能会非常昂贵。解决这个问题的方法是一次使用训练数据的一个样本或小批量，这被称为随机梯度下降（SGD）或小批量随机梯度下降。\n",
    "\n",
    "###  Keras 工作流程 ¶\n",
    "\n",
    "Keras 是一个开源的机器学习库，更具体地说，是神经网络。它的 API 运行在广为人知的 TensorFlow 深度学习平台之上。\n",
    "\n",
    "以下，我们展示了一个使用 keras 训练神经网络的常见工作流程。\n",
    "\n",
    "- 准备数据 − 对于任何机器学习算法，我们首先从数据中处理、过滤和选择所需的信息。然后，将数据分为训练集和测试集。测试数据用于评估算法的预测并交叉检查学习过程的效率。\n",
    "- 定义模型 - 在 keras 中，每个 ANN 都由 keras 模型表示。Keras 提供了一种创建模型的方法，称为序列模型。层按顺序排列，数据按照给定顺序从一层流向另一层，直到数据最终到达输出层。ANN 中的每一层都可以由一个 keras 层表示。\n",
    "- 编译模型 − 编译是创建模型的最后一步。一旦编译完成，我们就可以进入训练阶段。在学习阶段，需要一个损失函数和一个优化器来定义预测误差并分别最小化它。在本教程的实践部分，我们使用均方误差作为损失函数，并使用 adam 优化器，这是一种流行的梯度下降版本，已在广泛的问题中显示出良好的效果。\n",
    "- 适配模型 - 实际的学习过程将在本阶段使用训练数据集进行。我们可以调用需要多个参数的 fit()方法，例如 x 输入数据， y 目标数据，批量大小，训练轮数等。一个训练轮次是指整个数据集通过神经网络正向和反向传播一次。\n",
    "- 评估模型 - 我们可以通过使用 evaluate()方法，观察测试数据预测值与真实值之间的损失函数来评估模型。\n",
    "  - 散点图是可视化模型评估的一种常见且简单的方法。它们绘制预测值与真实值之间的关系。如果拟合完美，我们应该看到 y=x 线，这意味着预测值与真实值完全一致。\n",
    "- 预测外部/未标记数据 - 我们使用 predict()方法基于训练模型对外部数据集进行预测。\n",
    "\n",
    "### 神经网络的优势和应用\n",
    "\n",
    "**神经网络的优势**\n",
    "\n",
    "- 有机学习：神经网络具有通过提取输入数据中存在的关键特征来学习的能力。\n",
    "- 非线性数据处理：它们具有学习和建模非线性及复杂关系的能力。\n",
    "- 训练时间操作：在训练时间内，可以通过并行化来降低计算成本。**应用神经网络**\n",
    "\n",
    "神经网络在计算机辅助药物设计中有各种应用，例如：\n",
    "\n",
    "- 药物设计与发现\n",
    "- 生物标志物鉴定和/或分类\n",
    "- 各种癌症检测类型\n",
    "-  模式识别"
   ],
   "id": "5457d5975b9d9fe3"
  },
  {
   "cell_type": "code",
   "id": "initial_id",
   "metadata": {
    "collapsed": true,
    "ExecuteTime": {
     "end_time": "2024-10-07T16:47:11.656557Z",
     "start_time": "2024-10-07T16:47:00.744625Z"
    }
   },
   "source": [
    "from pathlib import Path\n",
    "from warnings import filterwarnings\n",
    "\n",
    "# Silence some expected warnings\n",
    "filterwarnings(\"ignore\")\n",
    "\n",
    "import pandas as pd\n",
    "import numpy as np\n",
    "from rdkit import Chem\n",
    "from rdkit.Chem import MACCSkeys, Draw, rdFingerprintGenerator\n",
    "from sklearn.model_selection import train_test_split\n",
    "import matplotlib.pyplot as plt\n",
    "from sklearn import metrics\n",
    "import seaborn as sns\n",
    "\n",
    "# Neural network specific libraries\n",
    "from tensorflow.keras.models import Sequential, load_model\n",
    "from tensorflow.keras.layers import Dense\n",
    "from tensorflow.keras.callbacks import ModelCheckpoint\n",
    "\n",
    "%matplotlib inline"
   ],
   "outputs": [
    {
     "name": "stderr",
     "output_type": "stream",
     "text": [
      "2024-10-08 00:47:08.001395: I tensorflow/core/platform/cpu_feature_guard.cc:182] This TensorFlow binary is optimized to use available CPU instructions in performance-critical operations.\n",
      "To enable the following instructions: AVX2 FMA, in other operations, rebuild TensorFlow with the appropriate compiler flags.\n"
     ]
    }
   ],
   "execution_count": 1
  },
  {
   "metadata": {
    "ExecuteTime": {
     "end_time": "2024-10-07T16:47:15.327391Z",
     "start_time": "2024-10-07T16:47:15.322667Z"
    }
   },
   "cell_type": "code",
   "source": [
    "from pathlib import Path\n",
    "import os\n",
    "\n",
    "# 获取当前工作目录\n",
    "HERE = Path(os.getcwd())\n",
    "DATA = HERE / 'data'\n",
    "if not DATA.exists():\n",
    "    DATA.mkdir(parents=True, exist_ok=True)\n",
    "print(DATA)\n"
   ],
   "id": "9c73ae810cb39ea3",
   "outputs": [
    {
     "name": "stdout",
     "output_type": "stream",
     "text": [
      "/Users/wangyang/Desktop/Breast_cancer_brain_metastasis/wang_Gene/AIDD/05_Ligand-based_screening_Neural_networks/data\n"
     ]
    }
   ],
   "execution_count": 2
  },
  {
   "metadata": {},
   "cell_type": "markdown",
   "source": [
    "### 数据准备 ¶\n",
    "\n",
    "让我们加载 ChEMBL 中 EGFR 的子集数据。DataFrame 中的重要列包括：\n",
    "\n",
    "- CHEMBL-ID\n",
    "- SMILES 字符串对应的化合物\n",
    "-  测量亲和力：pIC50"
   ],
   "id": "c47219cd61e9419e"
  },
  {
   "metadata": {
    "ExecuteTime": {
     "end_time": "2024-10-07T16:48:05.836398Z",
     "start_time": "2024-10-07T16:48:05.821559Z"
    }
   },
   "cell_type": "code",
   "source": [
    "# Load data\n",
    "df = pd.read_csv(\n",
    "    HERE / \"../03_Molecular_filtration_of_unwanted_substructures/data/data_ubstructures_matches.csv\"\n",
    ")\n",
    "df = df.reset_index(drop=True)"
   ],
   "id": "237d8370dbec00e4",
   "outputs": [],
   "execution_count": 3
  },
  {
   "metadata": {
    "ExecuteTime": {
     "end_time": "2024-10-07T16:48:11.678642Z",
     "start_time": "2024-10-07T16:48:11.664126Z"
    }
   },
   "cell_type": "code",
   "source": [
    "# Check the dimension and missing value of the data\n",
    "print(\"Shape of dataframe : \", df.shape)\n",
    "df.info()"
   ],
   "id": "715aa336e243db06",
   "outputs": [
    {
     "name": "stdout",
     "output_type": "stream",
     "text": [
      "Shape of dataframe :  (1738, 7)\n",
      "<class 'pandas.core.frame.DataFrame'>\n",
      "RangeIndex: 1738 entries, 0 to 1737\n",
      "Data columns (total 7 columns):\n",
      " #   Column              Non-Null Count  Dtype  \n",
      "---  ------              --------------  -----  \n",
      " 0   molecule_chembl_id  1738 non-null   object \n",
      " 1   IC50                1738 non-null   float64\n",
      " 2   units               1738 non-null   object \n",
      " 3   smiles              1738 non-null   object \n",
      " 4   pIC50               1738 non-null   float64\n",
      " 5   ro5_fulfilled       1738 non-null   bool   \n",
      " 6   ROMol               1738 non-null   object \n",
      "dtypes: bool(1), float64(2), object(4)\n",
      "memory usage: 83.3+ KB\n"
     ]
    }
   ],
   "execution_count": 4
  },
  {
   "metadata": {
    "ExecuteTime": {
     "end_time": "2024-10-07T16:48:22.011549Z",
     "start_time": "2024-10-07T16:48:21.999932Z"
    }
   },
   "cell_type": "code",
   "source": [
    "# Look at head\n",
    "df.head()"
   ],
   "id": "7fbd481dcde587d1",
   "outputs": [
    {
     "data": {
      "text/plain": [
       "  molecule_chembl_id   IC50 units  \\\n",
       "0      CHEMBL3685304  0.010    nM   \n",
       "1      CHEMBL4443279  0.012    nM   \n",
       "2      CHEMBL4462759  0.012    nM   \n",
       "3      CHEMBL4476212  0.012    nM   \n",
       "4      CHEMBL3675462  0.030    nM   \n",
       "\n",
       "                                              smiles      pIC50  \\\n",
       "0  C[C@@H](Nc1ncnc2c(C(N)=O)cccc12)c1cccc(NC(=O)c...  11.000000   \n",
       "1       Fc1ccccc1Oc1nc(Nc2ccc(-c3nnn[nH]3)cc2)ncc1Cl  10.920819   \n",
       "2    COc1ccc(Oc2nc(Nc3ccc(-c4nnn[nH]4)cc3)ncc2Cl)cc1  10.920819   \n",
       "3     Fc1ccc(Oc2nc(Nc3ccc(-c4nnn[nH]4)cc3)ncc2Cl)cc1  10.920819   \n",
       "4  C[C@@H](Nc1ncnc2c(C(N)=O)cccc12)c1cccc(NC(=O)c...  10.522879   \n",
       "\n",
       "   ro5_fulfilled                                             ROMol  \n",
       "0           True  <rdkit.Chem.rdchem.Mol object at 0x7fd465e18100>  \n",
       "1           True  <rdkit.Chem.rdchem.Mol object at 0x7fd465e18fa0>  \n",
       "2           True  <rdkit.Chem.rdchem.Mol object at 0x7fd465e181c0>  \n",
       "3           True  <rdkit.Chem.rdchem.Mol object at 0x7fd465e18580>  \n",
       "4           True  <rdkit.Chem.rdchem.Mol object at 0x7fd465e18ee0>  "
      ],
      "text/html": [
       "<div>\n",
       "<style scoped>\n",
       "    .dataframe tbody tr th:only-of-type {\n",
       "        vertical-align: middle;\n",
       "    }\n",
       "\n",
       "    .dataframe tbody tr th {\n",
       "        vertical-align: top;\n",
       "    }\n",
       "\n",
       "    .dataframe thead th {\n",
       "        text-align: right;\n",
       "    }\n",
       "</style>\n",
       "<table border=\"1\" class=\"dataframe\">\n",
       "  <thead>\n",
       "    <tr style=\"text-align: right;\">\n",
       "      <th></th>\n",
       "      <th>molecule_chembl_id</th>\n",
       "      <th>IC50</th>\n",
       "      <th>units</th>\n",
       "      <th>smiles</th>\n",
       "      <th>pIC50</th>\n",
       "      <th>ro5_fulfilled</th>\n",
       "      <th>ROMol</th>\n",
       "    </tr>\n",
       "  </thead>\n",
       "  <tbody>\n",
       "    <tr>\n",
       "      <th>0</th>\n",
       "      <td>CHEMBL3685304</td>\n",
       "      <td>0.010</td>\n",
       "      <td>nM</td>\n",
       "      <td>C[C@@H](Nc1ncnc2c(C(N)=O)cccc12)c1cccc(NC(=O)c...</td>\n",
       "      <td>11.000000</td>\n",
       "      <td>True</td>\n",
       "      <td>&lt;rdkit.Chem.rdchem.Mol object at 0x7fd465e18100&gt;</td>\n",
       "    </tr>\n",
       "    <tr>\n",
       "      <th>1</th>\n",
       "      <td>CHEMBL4443279</td>\n",
       "      <td>0.012</td>\n",
       "      <td>nM</td>\n",
       "      <td>Fc1ccccc1Oc1nc(Nc2ccc(-c3nnn[nH]3)cc2)ncc1Cl</td>\n",
       "      <td>10.920819</td>\n",
       "      <td>True</td>\n",
       "      <td>&lt;rdkit.Chem.rdchem.Mol object at 0x7fd465e18fa0&gt;</td>\n",
       "    </tr>\n",
       "    <tr>\n",
       "      <th>2</th>\n",
       "      <td>CHEMBL4462759</td>\n",
       "      <td>0.012</td>\n",
       "      <td>nM</td>\n",
       "      <td>COc1ccc(Oc2nc(Nc3ccc(-c4nnn[nH]4)cc3)ncc2Cl)cc1</td>\n",
       "      <td>10.920819</td>\n",
       "      <td>True</td>\n",
       "      <td>&lt;rdkit.Chem.rdchem.Mol object at 0x7fd465e181c0&gt;</td>\n",
       "    </tr>\n",
       "    <tr>\n",
       "      <th>3</th>\n",
       "      <td>CHEMBL4476212</td>\n",
       "      <td>0.012</td>\n",
       "      <td>nM</td>\n",
       "      <td>Fc1ccc(Oc2nc(Nc3ccc(-c4nnn[nH]4)cc3)ncc2Cl)cc1</td>\n",
       "      <td>10.920819</td>\n",
       "      <td>True</td>\n",
       "      <td>&lt;rdkit.Chem.rdchem.Mol object at 0x7fd465e18580&gt;</td>\n",
       "    </tr>\n",
       "    <tr>\n",
       "      <th>4</th>\n",
       "      <td>CHEMBL3675462</td>\n",
       "      <td>0.030</td>\n",
       "      <td>nM</td>\n",
       "      <td>C[C@@H](Nc1ncnc2c(C(N)=O)cccc12)c1cccc(NC(=O)c...</td>\n",
       "      <td>10.522879</td>\n",
       "      <td>True</td>\n",
       "      <td>&lt;rdkit.Chem.rdchem.Mol object at 0x7fd465e18ee0&gt;</td>\n",
       "    </tr>\n",
       "  </tbody>\n",
       "</table>\n",
       "</div>"
      ]
     },
     "execution_count": 6,
     "metadata": {},
     "output_type": "execute_result"
    }
   ],
   "execution_count": 6
  },
  {
   "metadata": {
    "ExecuteTime": {
     "end_time": "2024-10-07T16:49:08.386921Z",
     "start_time": "2024-10-07T16:49:08.378660Z"
    }
   },
   "cell_type": "code",
   "source": [
    "# Keep necessary columns\n",
    "chembl_df = df[[\"smiles\", \"pIC50\"]]\n",
    "chembl_df.head()"
   ],
   "id": "cee0d7f6180b5899",
   "outputs": [
    {
     "data": {
      "text/plain": [
       "                                              smiles      pIC50\n",
       "0  C[C@@H](Nc1ncnc2c(C(N)=O)cccc12)c1cccc(NC(=O)c...  11.000000\n",
       "1       Fc1ccccc1Oc1nc(Nc2ccc(-c3nnn[nH]3)cc2)ncc1Cl  10.920819\n",
       "2    COc1ccc(Oc2nc(Nc3ccc(-c4nnn[nH]4)cc3)ncc2Cl)cc1  10.920819\n",
       "3     Fc1ccc(Oc2nc(Nc3ccc(-c4nnn[nH]4)cc3)ncc2Cl)cc1  10.920819\n",
       "4  C[C@@H](Nc1ncnc2c(C(N)=O)cccc12)c1cccc(NC(=O)c...  10.522879"
      ],
      "text/html": [
       "<div>\n",
       "<style scoped>\n",
       "    .dataframe tbody tr th:only-of-type {\n",
       "        vertical-align: middle;\n",
       "    }\n",
       "\n",
       "    .dataframe tbody tr th {\n",
       "        vertical-align: top;\n",
       "    }\n",
       "\n",
       "    .dataframe thead th {\n",
       "        text-align: right;\n",
       "    }\n",
       "</style>\n",
       "<table border=\"1\" class=\"dataframe\">\n",
       "  <thead>\n",
       "    <tr style=\"text-align: right;\">\n",
       "      <th></th>\n",
       "      <th>smiles</th>\n",
       "      <th>pIC50</th>\n",
       "    </tr>\n",
       "  </thead>\n",
       "  <tbody>\n",
       "    <tr>\n",
       "      <th>0</th>\n",
       "      <td>C[C@@H](Nc1ncnc2c(C(N)=O)cccc12)c1cccc(NC(=O)c...</td>\n",
       "      <td>11.000000</td>\n",
       "    </tr>\n",
       "    <tr>\n",
       "      <th>1</th>\n",
       "      <td>Fc1ccccc1Oc1nc(Nc2ccc(-c3nnn[nH]3)cc2)ncc1Cl</td>\n",
       "      <td>10.920819</td>\n",
       "    </tr>\n",
       "    <tr>\n",
       "      <th>2</th>\n",
       "      <td>COc1ccc(Oc2nc(Nc3ccc(-c4nnn[nH]4)cc3)ncc2Cl)cc1</td>\n",
       "      <td>10.920819</td>\n",
       "    </tr>\n",
       "    <tr>\n",
       "      <th>3</th>\n",
       "      <td>Fc1ccc(Oc2nc(Nc3ccc(-c4nnn[nH]4)cc3)ncc2Cl)cc1</td>\n",
       "      <td>10.920819</td>\n",
       "    </tr>\n",
       "    <tr>\n",
       "      <th>4</th>\n",
       "      <td>C[C@@H](Nc1ncnc2c(C(N)=O)cccc12)c1cccc(NC(=O)c...</td>\n",
       "      <td>10.522879</td>\n",
       "    </tr>\n",
       "  </tbody>\n",
       "</table>\n",
       "</div>"
      ]
     },
     "execution_count": 8,
     "metadata": {},
     "output_type": "execute_result"
    }
   ],
   "execution_count": 8
  },
  {
   "metadata": {},
   "cell_type": "markdown",
   "source": [
    " 分子编码\n",
    "\n",
    "我们将 SMILES 字符串转换为数值数据以应用神经网络。 smiles_to_fp 函数，该函数从 SMILES 生成指纹。默认编码是 166 位的 MACCS 键（有关分子编码的更多信息"
   ],
   "id": "343d92b3122d1f40"
  },
  {
   "metadata": {
    "ExecuteTime": {
     "end_time": "2024-10-07T16:49:35.079283Z",
     "start_time": "2024-10-07T16:49:35.073405Z"
    }
   },
   "cell_type": "code",
   "source": [
    "def smiles_to_fp(smiles, method=\"maccs\", n_bits=2048):\n",
    "    \"\"\"\n",
    "    Encode a molecule from a SMILES string into a fingerprint.\n",
    "\n",
    "    Parameters\n",
    "    ----------\n",
    "    smiles : str\n",
    "        The SMILES string defining the molecule.\n",
    "\n",
    "    method : str\n",
    "        The type of fingerprint to use. Default is MACCS keys.\n",
    "\n",
    "    n_bits : int\n",
    "        The length of the fingerprint.\n",
    "\n",
    "    Returns\n",
    "    -------\n",
    "    array\n",
    "        The fingerprint array.\n",
    "    \"\"\"\n",
    "\n",
    "    # Convert smiles to RDKit mol object\n",
    "    mol = Chem.MolFromSmiles(smiles)\n",
    "\n",
    "    if method == \"maccs\":\n",
    "        return np.array(MACCSkeys.GenMACCSKeys(mol))\n",
    "    if method == \"morgan2\":\n",
    "        fpg = rdFingerprintGenerator.GetMorganGenerator(radius=2, fpSize=n_bits)\n",
    "        return np.array(fpg.GetCountFingerprint(mol))\n",
    "    if method == \"morgan3\":\n",
    "        fpg = rdFingerprintGenerator.GetMorganGenerator(radius=3, fpSize=n_bits)\n",
    "        return np.array(fpg.GetCountFingerprint(mol))\n",
    "    else:\n",
    "        print(f\"Warning: Wrong method specified: {method}.\" \" Default will be used instead.\")\n",
    "        return np.array(MACCSkeys.GenMACCSKeys(mol))"
   ],
   "id": "f673aaef7c103c5f",
   "outputs": [],
   "execution_count": 9
  },
  {
   "metadata": {},
   "cell_type": "markdown",
   "source": "将所有 SMILES 字符串转换为 MACCS 指纹。",
   "id": "956eb46ce6429bbe"
  },
  {
   "metadata": {
    "ExecuteTime": {
     "end_time": "2024-10-07T16:49:56.804329Z",
     "start_time": "2024-10-07T16:49:51.470282Z"
    }
   },
   "cell_type": "code",
   "source": [
    "chembl_df[\"fingerprints_df\"] = chembl_df[\"smiles\"].apply(smiles_to_fp)\n",
    "\n",
    "# Look at head\n",
    "print(\"Shape of dataframe:\", chembl_df.shape)\n",
    "chembl_df.head(3)\n",
    "# NBVAL_CHECK_OUTPUT"
   ],
   "id": "381e90a51712bb0d",
   "outputs": [
    {
     "name": "stdout",
     "output_type": "stream",
     "text": [
      "Shape of dataframe: (1738, 3)\n"
     ]
    },
    {
     "data": {
      "text/plain": [
       "                                              smiles      pIC50  \\\n",
       "0  C[C@@H](Nc1ncnc2c(C(N)=O)cccc12)c1cccc(NC(=O)c...  11.000000   \n",
       "1       Fc1ccccc1Oc1nc(Nc2ccc(-c3nnn[nH]3)cc2)ncc1Cl  10.920819   \n",
       "2    COc1ccc(Oc2nc(Nc3ccc(-c4nnn[nH]4)cc3)ncc2Cl)cc1  10.920819   \n",
       "\n",
       "                                     fingerprints_df  \n",
       "0  [0, 0, 0, 0, 0, 0, 0, 0, 0, 0, 0, 0, 0, 0, 0, ...  \n",
       "1  [0, 0, 0, 0, 0, 0, 0, 0, 0, 0, 0, 0, 0, 0, 0, ...  \n",
       "2  [0, 0, 0, 0, 0, 0, 0, 0, 0, 0, 0, 0, 0, 0, 0, ...  "
      ],
      "text/html": [
       "<div>\n",
       "<style scoped>\n",
       "    .dataframe tbody tr th:only-of-type {\n",
       "        vertical-align: middle;\n",
       "    }\n",
       "\n",
       "    .dataframe tbody tr th {\n",
       "        vertical-align: top;\n",
       "    }\n",
       "\n",
       "    .dataframe thead th {\n",
       "        text-align: right;\n",
       "    }\n",
       "</style>\n",
       "<table border=\"1\" class=\"dataframe\">\n",
       "  <thead>\n",
       "    <tr style=\"text-align: right;\">\n",
       "      <th></th>\n",
       "      <th>smiles</th>\n",
       "      <th>pIC50</th>\n",
       "      <th>fingerprints_df</th>\n",
       "    </tr>\n",
       "  </thead>\n",
       "  <tbody>\n",
       "    <tr>\n",
       "      <th>0</th>\n",
       "      <td>C[C@@H](Nc1ncnc2c(C(N)=O)cccc12)c1cccc(NC(=O)c...</td>\n",
       "      <td>11.000000</td>\n",
       "      <td>[0, 0, 0, 0, 0, 0, 0, 0, 0, 0, 0, 0, 0, 0, 0, ...</td>\n",
       "    </tr>\n",
       "    <tr>\n",
       "      <th>1</th>\n",
       "      <td>Fc1ccccc1Oc1nc(Nc2ccc(-c3nnn[nH]3)cc2)ncc1Cl</td>\n",
       "      <td>10.920819</td>\n",
       "      <td>[0, 0, 0, 0, 0, 0, 0, 0, 0, 0, 0, 0, 0, 0, 0, ...</td>\n",
       "    </tr>\n",
       "    <tr>\n",
       "      <th>2</th>\n",
       "      <td>COc1ccc(Oc2nc(Nc3ccc(-c4nnn[nH]4)cc3)ncc2Cl)cc1</td>\n",
       "      <td>10.920819</td>\n",
       "      <td>[0, 0, 0, 0, 0, 0, 0, 0, 0, 0, 0, 0, 0, 0, 0, ...</td>\n",
       "    </tr>\n",
       "  </tbody>\n",
       "</table>\n",
       "</div>"
      ]
     },
     "execution_count": 11,
     "metadata": {},
     "output_type": "execute_result"
    }
   ],
   "execution_count": 11
  },
  {
   "metadata": {},
   "cell_type": "markdown",
   "source": [
    "接下来，我们定义 \n",
    "x\n",
    " ，特征，以及 \n",
    "y\n",
    " ，用于训练模型的目标数据。在我们的案例中，特征是位向量，目标值是分子的 pIC50 值。\n",
    "\n",
    "我们使用 scikit-learn 库中的 train_test_split 将数据分为 70%的训练数据和 30%的测试数据。"
   ],
   "id": "4427c15fbc69763c"
  },
  {
   "metadata": {
    "ExecuteTime": {
     "end_time": "2024-10-07T16:50:07.203307Z",
     "start_time": "2024-10-07T16:50:07.195530Z"
    }
   },
   "cell_type": "code",
   "source": [
    "# Split the data into training and test set\n",
    "x_train, x_test, y_train, y_test = train_test_split(\n",
    "    chembl_df[\"fingerprints_df\"], chembl_df[[\"pIC50\"]], test_size=0.3, random_state=42\n",
    ")\n",
    "\n",
    "# Print the shape of training and testing data\n",
    "print(\"Shape of training data:\", x_train.shape)\n",
    "print(\"Shape of test data:\", x_test.shape)\n",
    "# NBVAL_CHECK_OUTPUT"
   ],
   "id": "988ca3aa61c1c5b0",
   "outputs": [
    {
     "name": "stdout",
     "output_type": "stream",
     "text": [
      "Shape of training data: (1216,)\n",
      "Shape of test data: (522,)\n"
     ]
    }
   ],
   "execution_count": 12
  },
  {
   "metadata": {},
   "cell_type": "markdown",
   "source": [
    "定义神经网络 ¶\n",
    "A keras 模型通过指定隐藏层中的神经元数量和激活函数作为参数来定义。为了我们的目的，我们定义了一个具有两个隐藏层的模型。我们在隐藏层中使用 ReLU，在输出层上使用线性函数，因为目标是预测 pIC50 值。最后，我们使用均方误差作为损失参数和 adam 作为优化器来编译模型。"
   ],
   "id": "89959d9232ece631"
  },
  {
   "metadata": {
    "ExecuteTime": {
     "end_time": "2024-10-07T16:50:31.215805Z",
     "start_time": "2024-10-07T16:50:31.211008Z"
    }
   },
   "cell_type": "code",
   "source": [
    "def neural_network_model(hidden1, hidden2):\n",
    "    \"\"\"\n",
    "    Creating a neural network from two hidden layers\n",
    "    using ReLU as activation function in the two hidden layers\n",
    "    and a linear activation in the output layer.\n",
    "\n",
    "    Parameters\n",
    "    ----------\n",
    "    hidden1 : int\n",
    "        Number of neurons in first hidden layer.\n",
    "\n",
    "    hidden2: int\n",
    "        Number of neurons in second hidden layer.\n",
    "\n",
    "    Returns\n",
    "    -------\n",
    "    model\n",
    "        Fully connected neural network model with two hidden layers.\n",
    "    \"\"\"\n",
    "\n",
    "    model = Sequential()\n",
    "    # First hidden layer\n",
    "    model.add(Dense(hidden1, activation=\"relu\", name=\"layer1\"))\n",
    "    # Second hidden layer\n",
    "    model.add(Dense(hidden2, activation=\"relu\", name=\"layer2\"))\n",
    "    # Output layer\n",
    "    model.add(Dense(1, activation=\"linear\", name=\"layer3\"))\n",
    "\n",
    "    # Compile model\n",
    "    model.compile(loss=\"mean_squared_error\", optimizer=\"adam\", metrics=[\"mse\", \"mae\"])\n",
    "    return model"
   ],
   "id": "de2c610b77bbae29",
   "outputs": [],
   "execution_count": 13
  },
  {
   "metadata": {},
   "cell_type": "markdown",
   "source": [
    "训练模型 ¶\n",
    "我们尝试不同的迷你批量大小并绘制相应的损失图。"
   ],
   "id": "56375c89622c746b"
  },
  {
   "metadata": {
    "ExecuteTime": {
     "end_time": "2024-10-07T16:50:40.929057Z",
     "start_time": "2024-10-07T16:50:40.925531Z"
    }
   },
   "cell_type": "code",
   "source": [
    "# Neural network parameters\n",
    "batch_sizes = [16, 32, 64]\n",
    "nb_epoch = 50\n",
    "layer1_size = 64\n",
    "layer2_size = 32"
   ],
   "id": "98b9c65a26cdbab8",
   "outputs": [],
   "execution_count": 14
  },
  {
   "metadata": {
    "ExecuteTime": {
     "end_time": "2024-10-07T16:50:57.509634Z",
     "start_time": "2024-10-07T16:50:44.922014Z"
    }
   },
   "cell_type": "code",
   "source": [
    "# Plot\n",
    "fig = plt.figure(figsize=(12, 6))\n",
    "sns.set(color_codes=True)\n",
    "for index, batch in enumerate(batch_sizes):\n",
    "    fig.add_subplot(1, len(batch_sizes), index + 1)\n",
    "    model = neural_network_model(layer1_size, layer2_size)\n",
    "\n",
    "    # Fit model on x_train, y_train data\n",
    "    history = model.fit(\n",
    "        np.array(list((x_train))).astype(float),\n",
    "        y_train.values,\n",
    "        batch_size=batch,\n",
    "        validation_data=(np.array(list((x_test))).astype(float), y_test.values),\n",
    "        verbose=0,\n",
    "        epochs=nb_epoch,\n",
    "    )\n",
    "    plt.plot(history.history[\"loss\"], label=\"train\")\n",
    "    plt.plot(history.history[\"val_loss\"], label=\"test\")\n",
    "    plt.legend([\"train\", \"test\"], loc=\"upper right\")\n",
    "    plt.ylabel(\"loss\")\n",
    "    plt.xlabel(\"epoch\")\n",
    "    plt.ylim((0, 15))\n",
    "    plt.title(\n",
    "        f\"test loss = {history.history['val_loss'][nb_epoch-1]:.2f}, \" f\"batch size = {batch}\"\n",
    "    )\n",
    "plt.show()"
   ],
   "id": "8cf9c13224fc0912",
   "outputs": [
    {
     "data": {
      "text/plain": [
       "<Figure size 1200x600 with 3 Axes>"
      ],
      "image/png": "[encoded data removed]"
     },
     "metadata": {},
     "output_type": "display_data"
    }
   ],
   "execution_count": 15
  },
  {
   "metadata": {},
   "cell_type": "markdown",
   "source": [
    "从上面的损失图中可以看出，批量大小为 64 似乎能给出最佳性能。\n",
    "\n",
    "A ModelCheckpoint 回调用于在某个间隔内保存最佳模型/权重（在检查点文件中），以便模型/权重可以保存为当前状态或稍后加载以继续从保存的状态进行训练。\n",
    "\n",
    "现在，我们以 64 个批次的规模训练模型（因为如上图所示，它具有最低的测试损失），并将给出最佳性能的权重保存在文件 best_weights.hdf5 中。"
   ],
   "id": "ff2e5d99fd2b475f"
  },
  {
   "metadata": {
    "ExecuteTime": {
     "end_time": "2024-10-07T16:51:58.488514Z",
     "start_time": "2024-10-07T16:51:56.655312Z"
    }
   },
   "cell_type": "code",
   "source": [
    "# Save the trained model\n",
    "filepath = DATA / \"best_weights.hdf5\"\n",
    "checkpoint = ModelCheckpoint(\n",
    "    str(filepath),\n",
    "    monitor=\"loss\",\n",
    "    verbose=0,\n",
    "    save_best_only=True,\n",
    "    mode=\"min\",\n",
    "    save_weights_only=True,\n",
    ")\n",
    "callbacks_list = [checkpoint]\n",
    "\n",
    "# Fit the model\n",
    "model.fit(\n",
    "    np.array(list((x_train))).astype(float),\n",
    "    y_train.values,\n",
    "    epochs=nb_epoch,\n",
    "    batch_size=64,\n",
    "    callbacks=callbacks_list,\n",
    "    verbose=0,\n",
    ")"
   ],
   "id": "78e863d91518cb4d",
   "outputs": [
    {
     "data": {
      "text/plain": [
       "<keras.src.callbacks.History at 0x7f843d48db20>"
      ]
     },
     "execution_count": 16,
     "metadata": {},
     "output_type": "execute_result"
    }
   ],
   "execution_count": 16
  },
  {
   "metadata": {},
   "cell_type": "markdown",
   "source": [
    "评估与预测在测试集上\n",
    "评估()方法用于检查我们模型的性能。它报告损失（在我们的情况下是 mse）以及评估指标（mse 和 mae）。"
   ],
   "id": "69a969fdbdfaee1b"
  },
  {
   "metadata": {
    "ExecuteTime": {
     "end_time": "2024-10-07T16:52:54.724305Z",
     "start_time": "2024-10-07T16:52:54.576522Z"
    }
   },
   "cell_type": "code",
   "source": [
    "# Evalute the model\n",
    "print(f\"Evaluate the model on the test data\")\n",
    "scores = model.evaluate(np.array(list((x_test))), y_test.values, verbose=0)\n",
    "print(f\" loss: {scores[0]:.2f}\")\n",
    "print(f\" mse (same as loss): {scores[1]:.2f}\")\n",
    "print(f\" mae: {scores[2]:.2f}\")"
   ],
   "id": "d03e447b277bae44",
   "outputs": [
    {
     "name": "stdout",
     "output_type": "stream",
     "text": [
      "Evaluate the model on the test data\n",
      " loss: 1.09\n",
      " mse (same as loss): 1.09\n",
      " mae: 0.79\n"
     ]
    }
   ],
   "execution_count": 17
  },
  {
   "metadata": {},
   "cell_type": "markdown",
   "source": [
    "测试集上的平均绝对误差如下 \n",
    "1.0\n",
    " ，考虑到 pIC50 值的范围，这个误差相当低。\n",
    "\n",
    "我们现在预测测试数据中的 pIC50 值。"
   ],
   "id": "c3f358b6b3385a12"
  },
  {
   "metadata": {
    "ExecuteTime": {
     "end_time": "2024-10-07T16:53:41.329417Z",
     "start_time": "2024-10-07T16:53:41.184149Z"
    }
   },
   "cell_type": "code",
   "source": [
    "# Predict pIC50 values on x_test data\n",
    "y_pred = model.predict(np.array(list((x_test))))\n",
    "\n",
    "# Print 5 first pIC50 predicted values\n",
    "first_5_prediction = [print(f\"{value[0]:.2f}\") for value in y_pred[0:5]]"
   ],
   "id": "625109327a13c9e5",
   "outputs": [
    {
     "name": "stdout",
     "output_type": "stream",
     "text": [
      "17/17 [==============================] - 0s 756us/step\n",
      "8.88\n",
      "4.68\n",
      "5.88\n",
      "7.27\n",
      "8.05\n"
     ]
    }
   ],
   "execution_count": 18
  },
  {
   "metadata": {},
   "cell_type": "markdown",
   "source": [
    "####  散点图 ¶\n",
    "\n",
    "为了可视化预测结果，我们在测试集上绘制预测值与真实 pIC50 值的关系图。"
   ],
   "id": "d11bc791ed5526f4"
  },
  {
   "metadata": {
    "ExecuteTime": {
     "end_time": "2024-10-07T16:53:58.580670Z",
     "start_time": "2024-10-07T16:53:58.414436Z"
    }
   },
   "cell_type": "code",
   "source": [
    "# Scatter plot\n",
    "limits = 0, 15\n",
    "fig, ax = plt.subplots()\n",
    "ax.scatter(y_pred, y_test, marker=\".\")\n",
    "lin = np.linspace(*limits, 100)\n",
    "ax.plot(lin, lin)\n",
    "ax.set_aspect(\"equal\", adjustable=\"box\")\n",
    "ax.set_xlabel(\"Predicted values\")\n",
    "ax.set_ylabel(\"True values\")\n",
    "ax.set_title(\"Scatter plot: pIC50 values\")\n",
    "ax.set_xlim(limits)\n",
    "ax.set_ylim(limits)\n",
    "plt.show()"
   ],
   "id": "cc6f48ff65fa5c75",
   "outputs": [
    {
     "data": {
      "text/plain": [
       "<Figure size 640x480 with 1 Axes>"
      ],
      "image/png": "[encoded data removed]"
     },
     "metadata": {},
     "output_type": "display_data"
    }
   ],
   "execution_count": 19
  },
  {
   "metadata": {},
   "cell_type": "markdown",
   "source": [
    "如您所见，预测值与真实值之间存在正线性关系，但拟合程度远非完美。\n",
    "\n",
    "预测外部/未标记数据\n",
    "我们使用训练好的神经网络预测来自 test.csv 文件的无标签化合物的 pIC50 值。"
   ],
   "id": "bc6fbd81114ec573"
  },
  {
   "metadata": {},
   "cell_type": "markdown",
   "source": [
    "## 这一块是重点，需要用到之前训练好的模型，所以需要先加载模型\n",
    "## 这一块主要是用作，自己设计的smiles字符串预测pIC50值"
   ],
   "id": "f8041a14cce12662"
  },
  {
   "metadata": {},
   "cell_type": "markdown",
   "source": "",
   "id": "7b8842d165964900"
  },
  {
   "metadata": {
    "ExecuteTime": {
     "end_time": "2024-10-07T17:01:17.957285Z",
     "start_time": "2024-10-07T17:01:17.948677Z"
    }
   },
   "cell_type": "code",
   "source": [
    "# Load external/unlabeled data set\n",
    "external_data = pd.read_csv(DATA / \"test.csv\")\n",
    "external_data = external_data.reset_index(drop=True)\n",
    "external_data.head()"
   ],
   "id": "bd0145ec92c53e4b",
   "outputs": [
    {
     "data": {
      "text/plain": [
       "                                              smiles  original pIC50 \n",
       "0  C=CC(C)(C)c1cc(C(=O)c2c(-c3cc(-c4cc5cc(C(C)(C)...         8.221849\n",
       "1  C[C@H]1[C@H](C)CC[C@]2(C(=O)O)CC[C@]3(C)C(=CC[...         7.508638\n",
       "2     COc1cc2ncnc(Nc3ccc(F)c(Cl)c3)c2cc1OCCCN1CCOCC1         7.259637\n",
       "3  COc1ccc([C@@]23Oc4cc(OC)cc(OC)c4[C@]2(O)[C@H](...         7.096910\n",
       "4    COc1ccc(/C=C/C(=O)c2nnn(-c3ccc(Cl)cc3)c2C)cc1OC         6.872895"
      ],
      "text/html": [
       "<div>\n",
       "<style scoped>\n",
       "    .dataframe tbody tr th:only-of-type {\n",
       "        vertical-align: middle;\n",
       "    }\n",
       "\n",
       "    .dataframe tbody tr th {\n",
       "        vertical-align: top;\n",
       "    }\n",
       "\n",
       "    .dataframe thead th {\n",
       "        text-align: right;\n",
       "    }\n",
       "</style>\n",
       "<table border=\"1\" class=\"dataframe\">\n",
       "  <thead>\n",
       "    <tr style=\"text-align: right;\">\n",
       "      <th></th>\n",
       "      <th>smiles</th>\n",
       "      <th>original pIC50</th>\n",
       "    </tr>\n",
       "  </thead>\n",
       "  <tbody>\n",
       "    <tr>\n",
       "      <th>0</th>\n",
       "      <td>C=CC(C)(C)c1cc(C(=O)c2c(-c3cc(-c4cc5cc(C(C)(C)...</td>\n",
       "      <td>8.221849</td>\n",
       "    </tr>\n",
       "    <tr>\n",
       "      <th>1</th>\n",
       "      <td>C[C@H]1[C@H](C)CC[C@]2(C(=O)O)CC[C@]3(C)C(=CC[...</td>\n",
       "      <td>7.508638</td>\n",
       "    </tr>\n",
       "    <tr>\n",
       "      <th>2</th>\n",
       "      <td>COc1cc2ncnc(Nc3ccc(F)c(Cl)c3)c2cc1OCCCN1CCOCC1</td>\n",
       "      <td>7.259637</td>\n",
       "    </tr>\n",
       "    <tr>\n",
       "      <th>3</th>\n",
       "      <td>COc1ccc([C@@]23Oc4cc(OC)cc(OC)c4[C@]2(O)[C@H](...</td>\n",
       "      <td>7.096910</td>\n",
       "    </tr>\n",
       "    <tr>\n",
       "      <th>4</th>\n",
       "      <td>COc1ccc(/C=C/C(=O)c2nnn(-c3ccc(Cl)cc3)c2C)cc1OC</td>\n",
       "      <td>6.872895</td>\n",
       "    </tr>\n",
       "  </tbody>\n",
       "</table>\n",
       "</div>"
      ]
     },
     "execution_count": 22,
     "metadata": {},
     "output_type": "execute_result"
    }
   ],
   "execution_count": 22
  },
  {
   "metadata": {},
   "cell_type": "markdown",
   "source": [
    "我们使用相同的 smiles_to_fp 函数，将 SMILES 字符串转换为 MACCS 指纹。\n",
    "\n"
   ],
   "id": "c8b6303da0ced6fd"
  },
  {
   "metadata": {
    "ExecuteTime": {
     "end_time": "2024-10-07T17:01:42.035263Z",
     "start_time": "2024-10-07T17:01:41.724865Z"
    }
   },
   "cell_type": "code",
   "source": [
    "# Convert SMILES strings to MACCS fingerprints\n",
    "external_data[\"fingerprints_df\"] = external_data[\"smiles\"].apply(smiles_to_fp)\n",
    "\n",
    "# Look at head\n",
    "print(\"Shape of dataframe : \", external_data.shape)\n",
    "external_data.head(3)"
   ],
   "id": "274d2dd09be98592",
   "outputs": [
    {
     "name": "stdout",
     "output_type": "stream",
     "text": [
      "Shape of dataframe :  (93, 3)\n"
     ]
    },
    {
     "data": {
      "text/plain": [
       "                                              smiles  original pIC50   \\\n",
       "0  C=CC(C)(C)c1cc(C(=O)c2c(-c3cc(-c4cc5cc(C(C)(C)...         8.221849   \n",
       "1  C[C@H]1[C@H](C)CC[C@]2(C(=O)O)CC[C@]3(C)C(=CC[...         7.508638   \n",
       "2     COc1cc2ncnc(Nc3ccc(F)c(Cl)c3)c2cc1OCCCN1CCOCC1         7.259637   \n",
       "\n",
       "                                     fingerprints_df  \n",
       "0  [0, 0, 0, 0, 0, 0, 0, 0, 0, 0, 0, 0, 0, 0, 0, ...  \n",
       "1  [0, 0, 0, 0, 0, 0, 0, 0, 0, 0, 0, 0, 0, 0, 0, ...  \n",
       "2  [0, 0, 0, 0, 0, 0, 0, 0, 0, 0, 0, 0, 0, 0, 0, ...  "
      ],
      "text/html": [
       "<div>\n",
       "<style scoped>\n",
       "    .dataframe tbody tr th:only-of-type {\n",
       "        vertical-align: middle;\n",
       "    }\n",
       "\n",
       "    .dataframe tbody tr th {\n",
       "        vertical-align: top;\n",
       "    }\n",
       "\n",
       "    .dataframe thead th {\n",
       "        text-align: right;\n",
       "    }\n",
       "</style>\n",
       "<table border=\"1\" class=\"dataframe\">\n",
       "  <thead>\n",
       "    <tr style=\"text-align: right;\">\n",
       "      <th></th>\n",
       "      <th>smiles</th>\n",
       "      <th>original pIC50</th>\n",
       "      <th>fingerprints_df</th>\n",
       "    </tr>\n",
       "  </thead>\n",
       "  <tbody>\n",
       "    <tr>\n",
       "      <th>0</th>\n",
       "      <td>C=CC(C)(C)c1cc(C(=O)c2c(-c3cc(-c4cc5cc(C(C)(C)...</td>\n",
       "      <td>8.221849</td>\n",
       "      <td>[0, 0, 0, 0, 0, 0, 0, 0, 0, 0, 0, 0, 0, 0, 0, ...</td>\n",
       "    </tr>\n",
       "    <tr>\n",
       "      <th>1</th>\n",
       "      <td>C[C@H]1[C@H](C)CC[C@]2(C(=O)O)CC[C@]3(C)C(=CC[...</td>\n",
       "      <td>7.508638</td>\n",
       "      <td>[0, 0, 0, 0, 0, 0, 0, 0, 0, 0, 0, 0, 0, 0, 0, ...</td>\n",
       "    </tr>\n",
       "    <tr>\n",
       "      <th>2</th>\n",
       "      <td>COc1cc2ncnc(Nc3ccc(F)c(Cl)c3)c2cc1OCCCN1CCOCC1</td>\n",
       "      <td>7.259637</td>\n",
       "      <td>[0, 0, 0, 0, 0, 0, 0, 0, 0, 0, 0, 0, 0, 0, 0, ...</td>\n",
       "    </tr>\n",
       "  </tbody>\n",
       "</table>\n",
       "</div>"
      ]
     },
     "execution_count": 23,
     "metadata": {},
     "output_type": "execute_result"
    }
   ],
   "execution_count": 23
  },
  {
   "metadata": {},
   "cell_type": "markdown",
   "source": "注意：为确保结果的可重复性，我们将一个模型保存为 ANN_model.hdf5 ，其结构与上述相同。尽管模型相同，但由于随机梯度算法中的随机性，从一次模拟到另一次模拟保存的权重可能不同。我们使用 load_model()函数加载 ANN 模型权重。",
   "id": "985c4d9068252715"
  },
  {
   "metadata": {
    "ExecuteTime": {
     "end_time": "2024-10-07T17:05:27.627006Z",
     "start_time": "2024-10-07T17:05:27.582300Z"
    }
   },
   "cell_type": "code",
   "source": [
    "# Load model\n",
    "model = load_model(DATA / \"ANN_model.hdf5\", compile=False)"
   ],
   "id": "b7afafdfa0d65095",
   "outputs": [],
   "execution_count": 36
  },
  {
   "metadata": {
    "ExecuteTime": {
     "end_time": "2024-10-07T17:05:28.386685Z",
     "start_time": "2024-10-07T17:05:28.381311Z"
    }
   },
   "cell_type": "code",
   "source": "model",
   "id": "e0d4935e50673193",
   "outputs": [
    {
     "data": {
      "text/plain": [
       "<keras.src.engine.sequential.Sequential at 0x7f843d3cce80>"
      ]
     },
     "execution_count": 37,
     "metadata": {},
     "output_type": "execute_result"
    }
   ],
   "execution_count": 37
  },
  {
   "metadata": {
    "ExecuteTime": {
     "end_time": "2024-10-07T17:05:29.162716Z",
     "start_time": "2024-10-07T17:05:29.072648Z"
    }
   },
   "cell_type": "code",
   "source": [
    "# Prediction on external/unlabeled data\n",
    "predictions = model.predict(\n",
    "    np.array(list((external_data[\"fingerprints_df\"]))).astype(float), callbacks=callbacks_list\n",
    ")\n",
    "\n",
    "predicted_pIC50 = pd.DataFrame(predictions, columns=[\"predicted_pIC50\"])\n",
    "predicted_pIC50_df = external_data.join(predicted_pIC50)\n",
    "\n",
    "predicted_pIC50_df.head(3)"
   ],
   "id": "718937ce57cff073",
   "outputs": [
    {
     "name": "stdout",
     "output_type": "stream",
     "text": [
      "3/3 [==============================] - 0s 1ms/step\n"
     ]
    },
    {
     "data": {
      "text/plain": [
       "                                              smiles  original pIC50   \\\n",
       "0  C=CC(C)(C)c1cc(C(=O)c2c(-c3cc(-c4cc5cc(C(C)(C)...         8.221849   \n",
       "1  C[C@H]1[C@H](C)CC[C@]2(C(=O)O)CC[C@]3(C)C(=CC[...         7.508638   \n",
       "2     COc1cc2ncnc(Nc3ccc(F)c(Cl)c3)c2cc1OCCCN1CCOCC1         7.259637   \n",
       "\n",
       "                                     fingerprints_df  predicted_pIC50  \n",
       "0  [0, 0, 0, 0, 0, 0, 0, 0, 0, 0, 0, 0, 0, 0, 0, ...         8.009878  \n",
       "1  [0, 0, 0, 0, 0, 0, 0, 0, 0, 0, 0, 0, 0, 0, 0, ...         5.305697  \n",
       "2  [0, 0, 0, 0, 0, 0, 0, 0, 0, 0, 0, 0, 0, 0, 0, ...         7.477018  "
      ],
      "text/html": [
       "<div>\n",
       "<style scoped>\n",
       "    .dataframe tbody tr th:only-of-type {\n",
       "        vertical-align: middle;\n",
       "    }\n",
       "\n",
       "    .dataframe tbody tr th {\n",
       "        vertical-align: top;\n",
       "    }\n",
       "\n",
       "    .dataframe thead th {\n",
       "        text-align: right;\n",
       "    }\n",
       "</style>\n",
       "<table border=\"1\" class=\"dataframe\">\n",
       "  <thead>\n",
       "    <tr style=\"text-align: right;\">\n",
       "      <th></th>\n",
       "      <th>smiles</th>\n",
       "      <th>original pIC50</th>\n",
       "      <th>fingerprints_df</th>\n",
       "      <th>predicted_pIC50</th>\n",
       "    </tr>\n",
       "  </thead>\n",
       "  <tbody>\n",
       "    <tr>\n",
       "      <th>0</th>\n",
       "      <td>C=CC(C)(C)c1cc(C(=O)c2c(-c3cc(-c4cc5cc(C(C)(C)...</td>\n",
       "      <td>8.221849</td>\n",
       "      <td>[0, 0, 0, 0, 0, 0, 0, 0, 0, 0, 0, 0, 0, 0, 0, ...</td>\n",
       "      <td>8.009878</td>\n",
       "    </tr>\n",
       "    <tr>\n",
       "      <th>1</th>\n",
       "      <td>C[C@H]1[C@H](C)CC[C@]2(C(=O)O)CC[C@]3(C)C(=CC[...</td>\n",
       "      <td>7.508638</td>\n",
       "      <td>[0, 0, 0, 0, 0, 0, 0, 0, 0, 0, 0, 0, 0, 0, 0, ...</td>\n",
       "      <td>5.305697</td>\n",
       "    </tr>\n",
       "    <tr>\n",
       "      <th>2</th>\n",
       "      <td>COc1cc2ncnc(Nc3ccc(F)c(Cl)c3)c2cc1OCCCN1CCOCC1</td>\n",
       "      <td>7.259637</td>\n",
       "      <td>[0, 0, 0, 0, 0, 0, 0, 0, 0, 0, 0, 0, 0, 0, 0, ...</td>\n",
       "      <td>7.477018</td>\n",
       "    </tr>\n",
       "  </tbody>\n",
       "</table>\n",
       "</div>"
      ]
     },
     "execution_count": 38,
     "metadata": {},
     "output_type": "execute_result"
    }
   ],
   "execution_count": 38
  },
  {
   "metadata": {
    "ExecuteTime": {
     "end_time": "2024-10-07T17:05:30.280352Z",
     "start_time": "2024-10-07T17:05:30.250222Z"
    }
   },
   "cell_type": "code",
   "source": [
    "# Save the predicted values in a csv file in the data folder\n",
    "predicted_pIC50_df.to_csv(DATA / \"predicted_pIC50_df.csv\")"
   ],
   "id": "ee9e3bd421900f99",
   "outputs": [],
   "execution_count": 39
  },
  {
   "metadata": {},
   "cell_type": "markdown",
   "source": [
    "选择前 3 个化合物 ¶\n",
    "我们选择预测 pIC50 值最高的 3 个化合物，这些化合物可以作为潜在的  抑制剂进一步研究。\n",
    "\n"
   ],
   "id": "87cda9da68d0ffda"
  },
  {
   "metadata": {
    "ExecuteTime": {
     "end_time": "2024-10-07T17:07:45.401446Z",
     "start_time": "2024-10-07T17:07:45.384199Z"
    }
   },
   "cell_type": "code",
   "source": [
    "# Select top 3 drugs\n",
    "predicted_pIC50_df = pd.read_csv(DATA / \"predicted_pIC50_df.csv\", index_col=0)\n",
    "top3_drug = predicted_pIC50_df.nlargest(3, \"predicted_pIC50\")\n",
    "top3_drug"
   ],
   "id": "dbff2646e438ac61",
   "outputs": [
    {
     "data": {
      "text/plain": [
       "                                               smiles  original pIC50   \\\n",
       "0   C=CC(C)(C)c1cc(C(=O)c2c(-c3cc(-c4cc5cc(C(C)(C)...         8.221849   \n",
       "2      COc1cc2ncnc(Nc3ccc(F)c(Cl)c3)c2cc1OCCCN1CCOCC1         7.259637   \n",
       "67   COc1cc(/C=C/C(=O)c2ccc(N)c(-c3ccc(F)cc3)c2)ccc1O         5.165579   \n",
       "\n",
       "                                      fingerprints_df  predicted_pIC50  \n",
       "0   [0 0 0 0 0 0 0 0 0 0 0 0 0 0 0 0 0 0 0 0 0 0 0...         8.009878  \n",
       "2   [0 0 0 0 0 0 0 0 0 0 0 0 0 0 0 0 0 0 0 0 0 0 0...         7.477018  \n",
       "67  [0 0 0 0 0 0 0 0 0 0 0 0 0 0 0 0 0 0 0 0 0 0 0...         7.158886  "
      ],
      "text/html": [
       "<div>\n",
       "<style scoped>\n",
       "    .dataframe tbody tr th:only-of-type {\n",
       "        vertical-align: middle;\n",
       "    }\n",
       "\n",
       "    .dataframe tbody tr th {\n",
       "        vertical-align: top;\n",
       "    }\n",
       "\n",
       "    .dataframe thead th {\n",
       "        text-align: right;\n",
       "    }\n",
       "</style>\n",
       "<table border=\"1\" class=\"dataframe\">\n",
       "  <thead>\n",
       "    <tr style=\"text-align: right;\">\n",
       "      <th></th>\n",
       "      <th>smiles</th>\n",
       "      <th>original pIC50</th>\n",
       "      <th>fingerprints_df</th>\n",
       "      <th>predicted_pIC50</th>\n",
       "    </tr>\n",
       "  </thead>\n",
       "  <tbody>\n",
       "    <tr>\n",
       "      <th>0</th>\n",
       "      <td>C=CC(C)(C)c1cc(C(=O)c2c(-c3cc(-c4cc5cc(C(C)(C)...</td>\n",
       "      <td>8.221849</td>\n",
       "      <td>[0 0 0 0 0 0 0 0 0 0 0 0 0 0 0 0 0 0 0 0 0 0 0...</td>\n",
       "      <td>8.009878</td>\n",
       "    </tr>\n",
       "    <tr>\n",
       "      <th>2</th>\n",
       "      <td>COc1cc2ncnc(Nc3ccc(F)c(Cl)c3)c2cc1OCCCN1CCOCC1</td>\n",
       "      <td>7.259637</td>\n",
       "      <td>[0 0 0 0 0 0 0 0 0 0 0 0 0 0 0 0 0 0 0 0 0 0 0...</td>\n",
       "      <td>7.477018</td>\n",
       "    </tr>\n",
       "    <tr>\n",
       "      <th>67</th>\n",
       "      <td>COc1cc(/C=C/C(=O)c2ccc(N)c(-c3ccc(F)cc3)c2)ccc1O</td>\n",
       "      <td>5.165579</td>\n",
       "      <td>[0 0 0 0 0 0 0 0 0 0 0 0 0 0 0 0 0 0 0 0 0 0 0...</td>\n",
       "      <td>7.158886</td>\n",
       "    </tr>\n",
       "  </tbody>\n",
       "</table>\n",
       "</div>"
      ]
     },
     "execution_count": 40,
     "metadata": {},
     "output_type": "execute_result"
    }
   ],
   "execution_count": 40
  },
  {
   "metadata": {
    "ExecuteTime": {
     "end_time": "2024-10-07T17:08:00.566600Z",
     "start_time": "2024-10-07T17:08:00.531359Z"
    }
   },
   "cell_type": "code",
   "source": [
    "# Draw the drug molecules\n",
    "highest_pIC50 = predicted_pIC50_df[\"smiles\"][top3_drug.index]\n",
    "\n",
    "mols_EGFR = [Chem.MolFromSmiles(smile) for smile in highest_pIC50]\n",
    "pIC50_EGFR = top3_drug[\"predicted_pIC50\"].tolist()\n",
    "pIC50_values = [(f\"pIC50 value: {value:.2f}\") for value in pIC50_EGFR]\n",
    "\n",
    "Draw.MolsToGridImage(mols_EGFR, molsPerRow=3, subImgSize=(450, 300), legends=pIC50_values)"
   ],
   "id": "d3a4e6f405ea9f8b",
   "outputs": [
    {
     "data": {
      "image/png": "[encoded data removed]",
      "text/plain": [
       "<IPython.core.display.Image object>"
      ]
     },
     "execution_count": 42,
     "metadata": {},
     "output_type": "execute_result"
    }
   ],
   "execution_count": 42
  },
  {
   "metadata": {},
   "cell_type": "code",
   "outputs": [],
   "execution_count": null,
   "source": "",
   "id": "20bd4c750710420a"
  }
 ],
 "metadata": {
  "kernelspec": {
   "display_name": "Python 3",
   "language": "python",
   "name": "python3"
  },
  "language_info": {
   "codemirror_mode": {
    "name": "ipython",
    "version": 2
   },
   "file_extension": ".py",
   "mimetype": "text/x-python",
   "name": "python",
   "nbconvert_exporter": "python",
   "pygments_lexer": "ipython2",
   "version": "2.7.6"
  }
 },
 "nbformat": 4,
 "nbformat_minor": 5
}

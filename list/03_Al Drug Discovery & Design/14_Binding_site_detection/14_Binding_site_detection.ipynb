{
 "cells": [
  {
   "metadata": {},
   "cell_type": "markdown",
   "source": "# Binding site detection\n",
   "id": "2d98825989334fc"
  },
  {
   "cell_type": "code",
   "id": "initial_id",
   "metadata": {
    "collapsed": true,
    "ExecuteTime": {
     "end_time": "2024-10-10T08:45:06.264200Z",
     "start_time": "2024-10-10T08:45:06.258541Z"
    }
   },
   "source": [
    "# Import libraries\n",
    "from pathlib import Path\n",
    "import time\n",
    "import warnings\n",
    "\n",
    "warnings.filterwarnings(\"ignore\")\n",
    "\n",
    "import pandas as pd\n",
    "import nglview as nv\n",
    "import openbabel\n",
    "import numpy as np\n",
    "import matplotlib.pyplot as plt\n",
    "from matplotlib import colors\n",
    "from plip.structure.preparation import PDBComplex\n",
    "from plip.exchange.report import BindingSiteReport\n",
    "\n",
    "from opencadd.structure.core import Structure"
   ],
   "outputs": [],
   "execution_count": 64
  },
  {
   "metadata": {
    "ExecuteTime": {
     "end_time": "2024-10-10T08:45:07.170894Z",
     "start_time": "2024-10-10T08:45:07.165732Z"
    }
   },
   "cell_type": "code",
   "source": [
    "from pathlib import Path\n",
    "import os\n",
    "\n",
    "# 获取当前工作目录\n",
    "HERE = Path(os.getcwd())\n",
    "DATA = HERE / 'data'\n",
    "if not DATA.exists():\n",
    "    DATA.mkdir(parents=True, exist_ok=True)\n",
    "print(DATA)\n"
   ],
   "id": "4aaf1f93c80359d7",
   "outputs": [
    {
     "name": "stdout",
     "output_type": "stream",
     "text": [
      "/Users/wangyang/Desktop/Breast_cancer_brain_metastasis/wang_Gene/AIDD/14_Binding_site_detection/data\n"
     ]
    }
   ],
   "execution_count": 65
  },
  {
   "metadata": {
    "ExecuteTime": {
     "end_time": "2024-10-10T08:48:35.847570Z",
     "start_time": "2024-10-10T08:48:35.844527Z"
    }
   },
   "cell_type": "code",
   "source": "pdb_id = \"4J8M\"",
   "id": "a85b27453dae8a12",
   "outputs": [],
   "execution_count": 99
  },
  {
   "metadata": {
    "ExecuteTime": {
     "end_time": "2024-10-10T08:48:54.927706Z",
     "start_time": "2024-10-10T08:48:52.649151Z"
    }
   },
   "cell_type": "code",
   "source": [
    "import MDAnalysis as mda\n",
    "from MDAnalysis.core.universe import Universe\n",
    "from io import StringIO\n",
    "import requests\n",
    "from collections import OrderedDict\n",
    "\n",
    "# 定义函数来下载 PDB 结构\n",
    "def download_pdb_structure(pdb_id):\n",
    "    url = f\"https://files.rcsb.org/download/{pdb_id}.pdb\"\n",
    "    try:\n",
    "        response = requests.get(url, verify=False)\n",
    "        if response.status_code == 200:\n",
    "            return response.text\n",
    "        else:\n",
    "            print(f\"Failed to download {pdb_id}. Status code: {response.status_code}\")\n",
    "            return None\n",
    "    except requests.exceptions.RequestException as e:\n",
    "        print(f\"Error occurred while downloading {pdb_id}: {e}\")\n",
    "        return None\n",
    "\n",
    "# 定义结构和配体信息\n",
    "\n",
    "\n",
    "# 下载结构文件\n",
    "structures = {pdb_id: download_pdb_structure(pdb_id)}\n",
    "\n",
    "# 保存到data目录下\n",
    "with open(f\"{DATA}/{pdb_id}.pdb\", \"w\") as f:\n",
    "    f.write(structures[pdb_id])\n",
    "\n",
    "\n",
    "\n"
   ],
   "id": "a14b9d55241e552a",
   "outputs": [],
   "execution_count": 104
  },
  {
   "metadata": {},
   "cell_type": "markdown",
   "source": "显示基于 PDB ID 的复合物",
   "id": "e24c3b0be9b1e877"
  },
  {
   "metadata": {
    "ExecuteTime": {
     "end_time": "2024-10-10T08:49:12.743144Z",
     "start_time": "2024-10-10T08:49:11.688297Z"
    }
   },
   "cell_type": "code",
   "source": [
    "ngl_viewer = nv.show_pdbid(pdb_id)\n",
    "# add the ligands\n",
    "ngl_viewer.add_representation(repr_type=\"ball+stick\", selection=\"hetero and not water\")\n",
    "# center view on binding site\n",
    "ngl_viewer.center(\"ligand\")\n",
    "ngl_viewer"
   ],
   "id": "8534a87c4339548d",
   "outputs": [
    {
     "ename": "URLError",
     "evalue": "<urlopen error EOF occurred in violation of protocol (_ssl.c:1131)>",
     "output_type": "error",
     "traceback": [
      "\u001B[0;31m---------------------------------------------------------------------------\u001B[0m",
      "\u001B[0;31mSSLEOFError\u001B[0m                               Traceback (most recent call last)",
      "File \u001B[0;32m/opt/anaconda3/envs/teachopencadd/lib/python3.8/urllib/request.py:1354\u001B[0m, in \u001B[0;36mAbstractHTTPHandler.do_open\u001B[0;34m(self, http_class, req, **http_conn_args)\u001B[0m\n\u001B[1;32m   1353\u001B[0m \u001B[38;5;28;01mtry\u001B[39;00m:\n\u001B[0;32m-> 1354\u001B[0m     \u001B[43mh\u001B[49m\u001B[38;5;241;43m.\u001B[39;49m\u001B[43mrequest\u001B[49m\u001B[43m(\u001B[49m\u001B[43mreq\u001B[49m\u001B[38;5;241;43m.\u001B[39;49m\u001B[43mget_method\u001B[49m\u001B[43m(\u001B[49m\u001B[43m)\u001B[49m\u001B[43m,\u001B[49m\u001B[43m \u001B[49m\u001B[43mreq\u001B[49m\u001B[38;5;241;43m.\u001B[39;49m\u001B[43mselector\u001B[49m\u001B[43m,\u001B[49m\u001B[43m \u001B[49m\u001B[43mreq\u001B[49m\u001B[38;5;241;43m.\u001B[39;49m\u001B[43mdata\u001B[49m\u001B[43m,\u001B[49m\u001B[43m \u001B[49m\u001B[43mheaders\u001B[49m\u001B[43m,\u001B[49m\n\u001B[1;32m   1355\u001B[0m \u001B[43m              \u001B[49m\u001B[43mencode_chunked\u001B[49m\u001B[38;5;241;43m=\u001B[39;49m\u001B[43mreq\u001B[49m\u001B[38;5;241;43m.\u001B[39;49m\u001B[43mhas_header\u001B[49m\u001B[43m(\u001B[49m\u001B[38;5;124;43m'\u001B[39;49m\u001B[38;5;124;43mTransfer-encoding\u001B[39;49m\u001B[38;5;124;43m'\u001B[39;49m\u001B[43m)\u001B[49m\u001B[43m)\u001B[49m\n\u001B[1;32m   1356\u001B[0m \u001B[38;5;28;01mexcept\u001B[39;00m \u001B[38;5;167;01mOSError\u001B[39;00m \u001B[38;5;28;01mas\u001B[39;00m err: \u001B[38;5;66;03m# timeout error\u001B[39;00m\n",
      "File \u001B[0;32m/opt/anaconda3/envs/teachopencadd/lib/python3.8/http/client.py:1256\u001B[0m, in \u001B[0;36mHTTPConnection.request\u001B[0;34m(self, method, url, body, headers, encode_chunked)\u001B[0m\n\u001B[1;32m   1255\u001B[0m \u001B[38;5;250m\u001B[39m\u001B[38;5;124;03m\"\"\"Send a complete request to the server.\"\"\"\u001B[39;00m\n\u001B[0;32m-> 1256\u001B[0m \u001B[38;5;28;43mself\u001B[39;49m\u001B[38;5;241;43m.\u001B[39;49m\u001B[43m_send_request\u001B[49m\u001B[43m(\u001B[49m\u001B[43mmethod\u001B[49m\u001B[43m,\u001B[49m\u001B[43m \u001B[49m\u001B[43murl\u001B[49m\u001B[43m,\u001B[49m\u001B[43m \u001B[49m\u001B[43mbody\u001B[49m\u001B[43m,\u001B[49m\u001B[43m \u001B[49m\u001B[43mheaders\u001B[49m\u001B[43m,\u001B[49m\u001B[43m \u001B[49m\u001B[43mencode_chunked\u001B[49m\u001B[43m)\u001B[49m\n",
      "File \u001B[0;32m/opt/anaconda3/envs/teachopencadd/lib/python3.8/http/client.py:1302\u001B[0m, in \u001B[0;36mHTTPConnection._send_request\u001B[0;34m(self, method, url, body, headers, encode_chunked)\u001B[0m\n\u001B[1;32m   1301\u001B[0m     body \u001B[38;5;241m=\u001B[39m _encode(body, \u001B[38;5;124m'\u001B[39m\u001B[38;5;124mbody\u001B[39m\u001B[38;5;124m'\u001B[39m)\n\u001B[0;32m-> 1302\u001B[0m \u001B[38;5;28;43mself\u001B[39;49m\u001B[38;5;241;43m.\u001B[39;49m\u001B[43mendheaders\u001B[49m\u001B[43m(\u001B[49m\u001B[43mbody\u001B[49m\u001B[43m,\u001B[49m\u001B[43m \u001B[49m\u001B[43mencode_chunked\u001B[49m\u001B[38;5;241;43m=\u001B[39;49m\u001B[43mencode_chunked\u001B[49m\u001B[43m)\u001B[49m\n",
      "File \u001B[0;32m/opt/anaconda3/envs/teachopencadd/lib/python3.8/http/client.py:1251\u001B[0m, in \u001B[0;36mHTTPConnection.endheaders\u001B[0;34m(self, message_body, encode_chunked)\u001B[0m\n\u001B[1;32m   1250\u001B[0m     \u001B[38;5;28;01mraise\u001B[39;00m CannotSendHeader()\n\u001B[0;32m-> 1251\u001B[0m \u001B[38;5;28;43mself\u001B[39;49m\u001B[38;5;241;43m.\u001B[39;49m\u001B[43m_send_output\u001B[49m\u001B[43m(\u001B[49m\u001B[43mmessage_body\u001B[49m\u001B[43m,\u001B[49m\u001B[43m \u001B[49m\u001B[43mencode_chunked\u001B[49m\u001B[38;5;241;43m=\u001B[39;49m\u001B[43mencode_chunked\u001B[49m\u001B[43m)\u001B[49m\n",
      "File \u001B[0;32m/opt/anaconda3/envs/teachopencadd/lib/python3.8/http/client.py:1011\u001B[0m, in \u001B[0;36mHTTPConnection._send_output\u001B[0;34m(self, message_body, encode_chunked)\u001B[0m\n\u001B[1;32m   1010\u001B[0m \u001B[38;5;28;01mdel\u001B[39;00m \u001B[38;5;28mself\u001B[39m\u001B[38;5;241m.\u001B[39m_buffer[:]\n\u001B[0;32m-> 1011\u001B[0m \u001B[38;5;28;43mself\u001B[39;49m\u001B[38;5;241;43m.\u001B[39;49m\u001B[43msend\u001B[49m\u001B[43m(\u001B[49m\u001B[43mmsg\u001B[49m\u001B[43m)\u001B[49m\n\u001B[1;32m   1013\u001B[0m \u001B[38;5;28;01mif\u001B[39;00m message_body \u001B[38;5;129;01mis\u001B[39;00m \u001B[38;5;129;01mnot\u001B[39;00m \u001B[38;5;28;01mNone\u001B[39;00m:\n\u001B[1;32m   1014\u001B[0m \n\u001B[1;32m   1015\u001B[0m     \u001B[38;5;66;03m# create a consistent interface to message_body\u001B[39;00m\n",
      "File \u001B[0;32m/opt/anaconda3/envs/teachopencadd/lib/python3.8/http/client.py:951\u001B[0m, in \u001B[0;36mHTTPConnection.send\u001B[0;34m(self, data)\u001B[0m\n\u001B[1;32m    950\u001B[0m \u001B[38;5;28;01mif\u001B[39;00m \u001B[38;5;28mself\u001B[39m\u001B[38;5;241m.\u001B[39mauto_open:\n\u001B[0;32m--> 951\u001B[0m     \u001B[38;5;28;43mself\u001B[39;49m\u001B[38;5;241;43m.\u001B[39;49m\u001B[43mconnect\u001B[49m\u001B[43m(\u001B[49m\u001B[43m)\u001B[49m\n\u001B[1;32m    952\u001B[0m \u001B[38;5;28;01melse\u001B[39;00m:\n",
      "File \u001B[0;32m/opt/anaconda3/envs/teachopencadd/lib/python3.8/http/client.py:1425\u001B[0m, in \u001B[0;36mHTTPSConnection.connect\u001B[0;34m(self)\u001B[0m\n\u001B[1;32m   1423\u001B[0m     server_hostname \u001B[38;5;241m=\u001B[39m \u001B[38;5;28mself\u001B[39m\u001B[38;5;241m.\u001B[39mhost\n\u001B[0;32m-> 1425\u001B[0m \u001B[38;5;28mself\u001B[39m\u001B[38;5;241m.\u001B[39msock \u001B[38;5;241m=\u001B[39m \u001B[38;5;28;43mself\u001B[39;49m\u001B[38;5;241;43m.\u001B[39;49m\u001B[43m_context\u001B[49m\u001B[38;5;241;43m.\u001B[39;49m\u001B[43mwrap_socket\u001B[49m\u001B[43m(\u001B[49m\u001B[38;5;28;43mself\u001B[39;49m\u001B[38;5;241;43m.\u001B[39;49m\u001B[43msock\u001B[49m\u001B[43m,\u001B[49m\n\u001B[1;32m   1426\u001B[0m \u001B[43m                                      \u001B[49m\u001B[43mserver_hostname\u001B[49m\u001B[38;5;241;43m=\u001B[39;49m\u001B[43mserver_hostname\u001B[49m\u001B[43m)\u001B[49m\n",
      "File \u001B[0;32m/opt/anaconda3/envs/teachopencadd/lib/python3.8/ssl.py:500\u001B[0m, in \u001B[0;36mSSLContext.wrap_socket\u001B[0;34m(self, sock, server_side, do_handshake_on_connect, suppress_ragged_eofs, server_hostname, session)\u001B[0m\n\u001B[1;32m    494\u001B[0m \u001B[38;5;28;01mdef\u001B[39;00m \u001B[38;5;21mwrap_socket\u001B[39m(\u001B[38;5;28mself\u001B[39m, sock, server_side\u001B[38;5;241m=\u001B[39m\u001B[38;5;28;01mFalse\u001B[39;00m,\n\u001B[1;32m    495\u001B[0m                 do_handshake_on_connect\u001B[38;5;241m=\u001B[39m\u001B[38;5;28;01mTrue\u001B[39;00m,\n\u001B[1;32m    496\u001B[0m                 suppress_ragged_eofs\u001B[38;5;241m=\u001B[39m\u001B[38;5;28;01mTrue\u001B[39;00m,\n\u001B[1;32m    497\u001B[0m                 server_hostname\u001B[38;5;241m=\u001B[39m\u001B[38;5;28;01mNone\u001B[39;00m, session\u001B[38;5;241m=\u001B[39m\u001B[38;5;28;01mNone\u001B[39;00m):\n\u001B[1;32m    498\u001B[0m     \u001B[38;5;66;03m# SSLSocket class handles server_hostname encoding before it calls\u001B[39;00m\n\u001B[1;32m    499\u001B[0m     \u001B[38;5;66;03m# ctx._wrap_socket()\u001B[39;00m\n\u001B[0;32m--> 500\u001B[0m     \u001B[38;5;28;01mreturn\u001B[39;00m \u001B[38;5;28;43mself\u001B[39;49m\u001B[38;5;241;43m.\u001B[39;49m\u001B[43msslsocket_class\u001B[49m\u001B[38;5;241;43m.\u001B[39;49m\u001B[43m_create\u001B[49m\u001B[43m(\u001B[49m\n\u001B[1;32m    501\u001B[0m \u001B[43m        \u001B[49m\u001B[43msock\u001B[49m\u001B[38;5;241;43m=\u001B[39;49m\u001B[43msock\u001B[49m\u001B[43m,\u001B[49m\n\u001B[1;32m    502\u001B[0m \u001B[43m        \u001B[49m\u001B[43mserver_side\u001B[49m\u001B[38;5;241;43m=\u001B[39;49m\u001B[43mserver_side\u001B[49m\u001B[43m,\u001B[49m\n\u001B[1;32m    503\u001B[0m \u001B[43m        \u001B[49m\u001B[43mdo_handshake_on_connect\u001B[49m\u001B[38;5;241;43m=\u001B[39;49m\u001B[43mdo_handshake_on_connect\u001B[49m\u001B[43m,\u001B[49m\n\u001B[1;32m    504\u001B[0m \u001B[43m        \u001B[49m\u001B[43msuppress_ragged_eofs\u001B[49m\u001B[38;5;241;43m=\u001B[39;49m\u001B[43msuppress_ragged_eofs\u001B[49m\u001B[43m,\u001B[49m\n\u001B[1;32m    505\u001B[0m \u001B[43m        \u001B[49m\u001B[43mserver_hostname\u001B[49m\u001B[38;5;241;43m=\u001B[39;49m\u001B[43mserver_hostname\u001B[49m\u001B[43m,\u001B[49m\n\u001B[1;32m    506\u001B[0m \u001B[43m        \u001B[49m\u001B[43mcontext\u001B[49m\u001B[38;5;241;43m=\u001B[39;49m\u001B[38;5;28;43mself\u001B[39;49m\u001B[43m,\u001B[49m\n\u001B[1;32m    507\u001B[0m \u001B[43m        \u001B[49m\u001B[43msession\u001B[49m\u001B[38;5;241;43m=\u001B[39;49m\u001B[43msession\u001B[49m\n\u001B[1;32m    508\u001B[0m \u001B[43m    \u001B[49m\u001B[43m)\u001B[49m\n",
      "File \u001B[0;32m/opt/anaconda3/envs/teachopencadd/lib/python3.8/ssl.py:1040\u001B[0m, in \u001B[0;36mSSLSocket._create\u001B[0;34m(cls, sock, server_side, do_handshake_on_connect, suppress_ragged_eofs, server_hostname, context, session)\u001B[0m\n\u001B[1;32m   1039\u001B[0m             \u001B[38;5;28;01mraise\u001B[39;00m \u001B[38;5;167;01mValueError\u001B[39;00m(\u001B[38;5;124m\"\u001B[39m\u001B[38;5;124mdo_handshake_on_connect should not be specified for non-blocking sockets\u001B[39m\u001B[38;5;124m\"\u001B[39m)\n\u001B[0;32m-> 1040\u001B[0m         \u001B[38;5;28;43mself\u001B[39;49m\u001B[38;5;241;43m.\u001B[39;49m\u001B[43mdo_handshake\u001B[49m\u001B[43m(\u001B[49m\u001B[43m)\u001B[49m\n\u001B[1;32m   1041\u001B[0m \u001B[38;5;28;01mexcept\u001B[39;00m (\u001B[38;5;167;01mOSError\u001B[39;00m, \u001B[38;5;167;01mValueError\u001B[39;00m):\n",
      "File \u001B[0;32m/opt/anaconda3/envs/teachopencadd/lib/python3.8/ssl.py:1309\u001B[0m, in \u001B[0;36mSSLSocket.do_handshake\u001B[0;34m(self, block)\u001B[0m\n\u001B[1;32m   1308\u001B[0m         \u001B[38;5;28mself\u001B[39m\u001B[38;5;241m.\u001B[39msettimeout(\u001B[38;5;28;01mNone\u001B[39;00m)\n\u001B[0;32m-> 1309\u001B[0m     \u001B[38;5;28;43mself\u001B[39;49m\u001B[38;5;241;43m.\u001B[39;49m\u001B[43m_sslobj\u001B[49m\u001B[38;5;241;43m.\u001B[39;49m\u001B[43mdo_handshake\u001B[49m\u001B[43m(\u001B[49m\u001B[43m)\u001B[49m\n\u001B[1;32m   1310\u001B[0m \u001B[38;5;28;01mfinally\u001B[39;00m:\n",
      "\u001B[0;31mSSLEOFError\u001B[0m: EOF occurred in violation of protocol (_ssl.c:1131)",
      "\nDuring handling of the above exception, another exception occurred:\n",
      "\u001B[0;31mURLError\u001B[0m                                  Traceback (most recent call last)",
      "Cell \u001B[0;32mIn[107], line 1\u001B[0m\n\u001B[0;32m----> 1\u001B[0m ngl_viewer \u001B[38;5;241m=\u001B[39m \u001B[43mnv\u001B[49m\u001B[38;5;241;43m.\u001B[39;49m\u001B[43mshow_pdbid\u001B[49m\u001B[43m(\u001B[49m\u001B[43mpdb_id\u001B[49m\u001B[43m)\u001B[49m\n\u001B[1;32m      2\u001B[0m \u001B[38;5;66;03m# add the ligands\u001B[39;00m\n\u001B[1;32m      3\u001B[0m ngl_viewer\u001B[38;5;241m.\u001B[39madd_representation(repr_type\u001B[38;5;241m=\u001B[39m\u001B[38;5;124m\"\u001B[39m\u001B[38;5;124mball+stick\u001B[39m\u001B[38;5;124m\"\u001B[39m, selection\u001B[38;5;241m=\u001B[39m\u001B[38;5;124m\"\u001B[39m\u001B[38;5;124mhetero and not water\u001B[39m\u001B[38;5;124m\"\u001B[39m)\n",
      "File \u001B[0;32m/opt/anaconda3/envs/teachopencadd/lib/python3.8/site-packages/nglview/show.py:54\u001B[0m, in \u001B[0;36mshow_pdbid\u001B[0;34m(pdbid, **kwargs)\u001B[0m\n\u001B[1;32m     45\u001B[0m \u001B[38;5;250m\u001B[39m\u001B[38;5;124;03m'''Show PDB entry.\u001B[39;00m\n\u001B[1;32m     46\u001B[0m \n\u001B[1;32m     47\u001B[0m \u001B[38;5;124;03mExamples\u001B[39;00m\n\u001B[0;32m   (...)\u001B[0m\n\u001B[1;32m     51\u001B[0m \u001B[38;5;124;03m>>> w # doctest: +SKIP\u001B[39;00m\n\u001B[1;32m     52\u001B[0m \u001B[38;5;124;03m'''\u001B[39;00m\n\u001B[1;32m     53\u001B[0m structure \u001B[38;5;241m=\u001B[39m PdbIdStructure(pdbid)\n\u001B[0;32m---> 54\u001B[0m \u001B[38;5;28;01mreturn\u001B[39;00m \u001B[43mNGLWidget\u001B[49m\u001B[43m(\u001B[49m\u001B[43mstructure\u001B[49m\u001B[43m,\u001B[49m\u001B[43m \u001B[49m\u001B[38;5;241;43m*\u001B[39;49m\u001B[38;5;241;43m*\u001B[39;49m\u001B[43mkwargs\u001B[49m\u001B[43m)\u001B[49m\n",
      "File \u001B[0;32m/opt/anaconda3/envs/teachopencadd/lib/python3.8/site-packages/nglview/widget.py:246\u001B[0m, in \u001B[0;36mNGLWidget.__init__\u001B[0;34m(self, structure, representations, parameters, **kwargs)\u001B[0m\n\u001B[1;32m    244\u001B[0m \u001B[38;5;28;01melse\u001B[39;00m:\n\u001B[1;32m    245\u001B[0m     \u001B[38;5;28;01mif\u001B[39;00m structure \u001B[38;5;129;01mis\u001B[39;00m \u001B[38;5;129;01mnot\u001B[39;00m \u001B[38;5;28;01mNone\u001B[39;00m:\n\u001B[0;32m--> 246\u001B[0m         \u001B[38;5;28;43mself\u001B[39;49m\u001B[38;5;241;43m.\u001B[39;49m\u001B[43madd_structure\u001B[49m\u001B[43m(\u001B[49m\u001B[43mstructure\u001B[49m\u001B[43m,\u001B[49m\u001B[43m \u001B[49m\u001B[38;5;241;43m*\u001B[39;49m\u001B[38;5;241;43m*\u001B[39;49m\u001B[43mkwargs\u001B[49m\u001B[43m)\u001B[49m\n\u001B[1;32m    248\u001B[0m \u001B[38;5;28;01mif\u001B[39;00m representations:\n\u001B[1;32m    249\u001B[0m     \u001B[38;5;66;03m# If initial representations are provided,\u001B[39;00m\n\u001B[1;32m    250\u001B[0m     \u001B[38;5;66;03m# we need to set defaultRepresentation to False\u001B[39;00m\n\u001B[1;32m    251\u001B[0m     \u001B[38;5;28mself\u001B[39m\u001B[38;5;241m.\u001B[39mrepresentations \u001B[38;5;241m=\u001B[39m representations\n",
      "File \u001B[0;32m/opt/anaconda3/envs/teachopencadd/lib/python3.8/site-packages/nglview/widget.py:1128\u001B[0m, in \u001B[0;36mNGLWidget.add_structure\u001B[0;34m(self, structure, **kwargs)\u001B[0m\n\u001B[1;32m   1126\u001B[0m \u001B[38;5;28;01mif\u001B[39;00m \u001B[38;5;129;01mnot\u001B[39;00m \u001B[38;5;28misinstance\u001B[39m(structure, Structure):\n\u001B[1;32m   1127\u001B[0m     \u001B[38;5;28;01mraise\u001B[39;00m \u001B[38;5;167;01mValueError\u001B[39;00m(\u001B[38;5;124mf\u001B[39m\u001B[38;5;124m'\u001B[39m\u001B[38;5;132;01m{\u001B[39;00mstructure\u001B[38;5;132;01m}\u001B[39;00m\u001B[38;5;124m is not an instance of Structure\u001B[39m\u001B[38;5;124m'\u001B[39m)\n\u001B[0;32m-> 1128\u001B[0m \u001B[38;5;28;43mself\u001B[39;49m\u001B[38;5;241;43m.\u001B[39;49m\u001B[43m_load_data\u001B[49m\u001B[43m(\u001B[49m\u001B[43mstructure\u001B[49m\u001B[43m,\u001B[49m\u001B[43m \u001B[49m\u001B[38;5;241;43m*\u001B[39;49m\u001B[38;5;241;43m*\u001B[39;49m\u001B[43mkwargs\u001B[49m\u001B[43m)\u001B[49m\n\u001B[1;32m   1129\u001B[0m \u001B[38;5;28mself\u001B[39m\u001B[38;5;241m.\u001B[39m_ngl_component_ids\u001B[38;5;241m.\u001B[39mappend(structure\u001B[38;5;241m.\u001B[39mid)\n\u001B[1;32m   1130\u001B[0m \u001B[38;5;28;01mif\u001B[39;00m \u001B[38;5;28mself\u001B[39m\u001B[38;5;241m.\u001B[39mn_components \u001B[38;5;241m>\u001B[39m \u001B[38;5;241m1\u001B[39m:\n",
      "File \u001B[0;32m/opt/anaconda3/envs/teachopencadd/lib/python3.8/site-packages/nglview/widget.py:1242\u001B[0m, in \u001B[0;36mNGLWidget._load_data\u001B[0;34m(self, obj, **kwargs)\u001B[0m\n\u001B[1;32m   1240\u001B[0m \u001B[38;5;28;01mif\u001B[39;00m \u001B[38;5;129;01mnot\u001B[39;00m is_url:\n\u001B[1;32m   1241\u001B[0m     \u001B[38;5;28;01mif\u001B[39;00m \u001B[38;5;28mhasattr\u001B[39m(obj, \u001B[38;5;124m'\u001B[39m\u001B[38;5;124mget_structure_string\u001B[39m\u001B[38;5;124m'\u001B[39m):\n\u001B[0;32m-> 1242\u001B[0m         blob \u001B[38;5;241m=\u001B[39m \u001B[43mobj\u001B[49m\u001B[38;5;241;43m.\u001B[39;49m\u001B[43mget_structure_string\u001B[49m\u001B[43m(\u001B[49m\u001B[43m)\u001B[49m\n\u001B[1;32m   1243\u001B[0m         kwargs2[\u001B[38;5;124m'\u001B[39m\u001B[38;5;124mext\u001B[39m\u001B[38;5;124m'\u001B[39m] \u001B[38;5;241m=\u001B[39m obj\u001B[38;5;241m.\u001B[39mext\n\u001B[1;32m   1244\u001B[0m         passing_buffer \u001B[38;5;241m=\u001B[39m \u001B[38;5;28;01mTrue\u001B[39;00m\n",
      "File \u001B[0;32m/opt/anaconda3/envs/teachopencadd/lib/python3.8/site-packages/nglview/adaptor.py:125\u001B[0m, in \u001B[0;36mPdbIdStructure.get_structure_string\u001B[0;34m(self)\u001B[0m\n\u001B[1;32m    123\u001B[0m \u001B[38;5;28;01mdef\u001B[39;00m \u001B[38;5;21mget_structure_string\u001B[39m(\u001B[38;5;28mself\u001B[39m):\n\u001B[1;32m    124\u001B[0m     url \u001B[38;5;241m=\u001B[39m \u001B[38;5;124m\"\u001B[39m\u001B[38;5;124mhttp://www.rcsb.org/pdb/files/\u001B[39m\u001B[38;5;124m\"\u001B[39m \u001B[38;5;241m+\u001B[39m \u001B[38;5;28mself\u001B[39m\u001B[38;5;241m.\u001B[39mpdbid \u001B[38;5;241m+\u001B[39m \u001B[38;5;124m\"\u001B[39m\u001B[38;5;124m.cif\u001B[39m\u001B[38;5;124m\"\u001B[39m\n\u001B[0;32m--> 125\u001B[0m     \u001B[38;5;28;01mreturn\u001B[39;00m \u001B[43murlopen\u001B[49m\u001B[43m(\u001B[49m\u001B[43murl\u001B[49m\u001B[43m)\u001B[49m\u001B[38;5;241m.\u001B[39mread()\u001B[38;5;241m.\u001B[39mdecode(\u001B[38;5;124m'\u001B[39m\u001B[38;5;124mutf-8\u001B[39m\u001B[38;5;124m'\u001B[39m)\n",
      "File \u001B[0;32m/opt/anaconda3/envs/teachopencadd/lib/python3.8/urllib/request.py:222\u001B[0m, in \u001B[0;36murlopen\u001B[0;34m(url, data, timeout, cafile, capath, cadefault, context)\u001B[0m\n\u001B[1;32m    220\u001B[0m \u001B[38;5;28;01melse\u001B[39;00m:\n\u001B[1;32m    221\u001B[0m     opener \u001B[38;5;241m=\u001B[39m _opener\n\u001B[0;32m--> 222\u001B[0m \u001B[38;5;28;01mreturn\u001B[39;00m \u001B[43mopener\u001B[49m\u001B[38;5;241;43m.\u001B[39;49m\u001B[43mopen\u001B[49m\u001B[43m(\u001B[49m\u001B[43murl\u001B[49m\u001B[43m,\u001B[49m\u001B[43m \u001B[49m\u001B[43mdata\u001B[49m\u001B[43m,\u001B[49m\u001B[43m \u001B[49m\u001B[43mtimeout\u001B[49m\u001B[43m)\u001B[49m\n",
      "File \u001B[0;32m/opt/anaconda3/envs/teachopencadd/lib/python3.8/urllib/request.py:531\u001B[0m, in \u001B[0;36mOpenerDirector.open\u001B[0;34m(self, fullurl, data, timeout)\u001B[0m\n\u001B[1;32m    529\u001B[0m \u001B[38;5;28;01mfor\u001B[39;00m processor \u001B[38;5;129;01min\u001B[39;00m \u001B[38;5;28mself\u001B[39m\u001B[38;5;241m.\u001B[39mprocess_response\u001B[38;5;241m.\u001B[39mget(protocol, []):\n\u001B[1;32m    530\u001B[0m     meth \u001B[38;5;241m=\u001B[39m \u001B[38;5;28mgetattr\u001B[39m(processor, meth_name)\n\u001B[0;32m--> 531\u001B[0m     response \u001B[38;5;241m=\u001B[39m \u001B[43mmeth\u001B[49m\u001B[43m(\u001B[49m\u001B[43mreq\u001B[49m\u001B[43m,\u001B[49m\u001B[43m \u001B[49m\u001B[43mresponse\u001B[49m\u001B[43m)\u001B[49m\n\u001B[1;32m    533\u001B[0m \u001B[38;5;28;01mreturn\u001B[39;00m response\n",
      "File \u001B[0;32m/opt/anaconda3/envs/teachopencadd/lib/python3.8/urllib/request.py:640\u001B[0m, in \u001B[0;36mHTTPErrorProcessor.http_response\u001B[0;34m(self, request, response)\u001B[0m\n\u001B[1;32m    637\u001B[0m \u001B[38;5;66;03m# According to RFC 2616, \"2xx\" code indicates that the client's\u001B[39;00m\n\u001B[1;32m    638\u001B[0m \u001B[38;5;66;03m# request was successfully received, understood, and accepted.\u001B[39;00m\n\u001B[1;32m    639\u001B[0m \u001B[38;5;28;01mif\u001B[39;00m \u001B[38;5;129;01mnot\u001B[39;00m (\u001B[38;5;241m200\u001B[39m \u001B[38;5;241m<\u001B[39m\u001B[38;5;241m=\u001B[39m code \u001B[38;5;241m<\u001B[39m \u001B[38;5;241m300\u001B[39m):\n\u001B[0;32m--> 640\u001B[0m     response \u001B[38;5;241m=\u001B[39m \u001B[38;5;28;43mself\u001B[39;49m\u001B[38;5;241;43m.\u001B[39;49m\u001B[43mparent\u001B[49m\u001B[38;5;241;43m.\u001B[39;49m\u001B[43merror\u001B[49m\u001B[43m(\u001B[49m\n\u001B[1;32m    641\u001B[0m \u001B[43m        \u001B[49m\u001B[38;5;124;43m'\u001B[39;49m\u001B[38;5;124;43mhttp\u001B[39;49m\u001B[38;5;124;43m'\u001B[39;49m\u001B[43m,\u001B[49m\u001B[43m \u001B[49m\u001B[43mrequest\u001B[49m\u001B[43m,\u001B[49m\u001B[43m \u001B[49m\u001B[43mresponse\u001B[49m\u001B[43m,\u001B[49m\u001B[43m \u001B[49m\u001B[43mcode\u001B[49m\u001B[43m,\u001B[49m\u001B[43m \u001B[49m\u001B[43mmsg\u001B[49m\u001B[43m,\u001B[49m\u001B[43m \u001B[49m\u001B[43mhdrs\u001B[49m\u001B[43m)\u001B[49m\n\u001B[1;32m    643\u001B[0m \u001B[38;5;28;01mreturn\u001B[39;00m response\n",
      "File \u001B[0;32m/opt/anaconda3/envs/teachopencadd/lib/python3.8/urllib/request.py:563\u001B[0m, in \u001B[0;36mOpenerDirector.error\u001B[0;34m(self, proto, *args)\u001B[0m\n\u001B[1;32m    561\u001B[0m     http_err \u001B[38;5;241m=\u001B[39m \u001B[38;5;241m0\u001B[39m\n\u001B[1;32m    562\u001B[0m args \u001B[38;5;241m=\u001B[39m (\u001B[38;5;28mdict\u001B[39m, proto, meth_name) \u001B[38;5;241m+\u001B[39m args\n\u001B[0;32m--> 563\u001B[0m result \u001B[38;5;241m=\u001B[39m \u001B[38;5;28;43mself\u001B[39;49m\u001B[38;5;241;43m.\u001B[39;49m\u001B[43m_call_chain\u001B[49m\u001B[43m(\u001B[49m\u001B[38;5;241;43m*\u001B[39;49m\u001B[43margs\u001B[49m\u001B[43m)\u001B[49m\n\u001B[1;32m    564\u001B[0m \u001B[38;5;28;01mif\u001B[39;00m result:\n\u001B[1;32m    565\u001B[0m     \u001B[38;5;28;01mreturn\u001B[39;00m result\n",
      "File \u001B[0;32m/opt/anaconda3/envs/teachopencadd/lib/python3.8/urllib/request.py:502\u001B[0m, in \u001B[0;36mOpenerDirector._call_chain\u001B[0;34m(self, chain, kind, meth_name, *args)\u001B[0m\n\u001B[1;32m    500\u001B[0m \u001B[38;5;28;01mfor\u001B[39;00m handler \u001B[38;5;129;01min\u001B[39;00m handlers:\n\u001B[1;32m    501\u001B[0m     func \u001B[38;5;241m=\u001B[39m \u001B[38;5;28mgetattr\u001B[39m(handler, meth_name)\n\u001B[0;32m--> 502\u001B[0m     result \u001B[38;5;241m=\u001B[39m \u001B[43mfunc\u001B[49m\u001B[43m(\u001B[49m\u001B[38;5;241;43m*\u001B[39;49m\u001B[43margs\u001B[49m\u001B[43m)\u001B[49m\n\u001B[1;32m    503\u001B[0m     \u001B[38;5;28;01mif\u001B[39;00m result \u001B[38;5;129;01mis\u001B[39;00m \u001B[38;5;129;01mnot\u001B[39;00m \u001B[38;5;28;01mNone\u001B[39;00m:\n\u001B[1;32m    504\u001B[0m         \u001B[38;5;28;01mreturn\u001B[39;00m result\n",
      "File \u001B[0;32m/opt/anaconda3/envs/teachopencadd/lib/python3.8/urllib/request.py:755\u001B[0m, in \u001B[0;36mHTTPRedirectHandler.http_error_302\u001B[0;34m(self, req, fp, code, msg, headers)\u001B[0m\n\u001B[1;32m    752\u001B[0m fp\u001B[38;5;241m.\u001B[39mread()\n\u001B[1;32m    753\u001B[0m fp\u001B[38;5;241m.\u001B[39mclose()\n\u001B[0;32m--> 755\u001B[0m \u001B[38;5;28;01mreturn\u001B[39;00m \u001B[38;5;28;43mself\u001B[39;49m\u001B[38;5;241;43m.\u001B[39;49m\u001B[43mparent\u001B[49m\u001B[38;5;241;43m.\u001B[39;49m\u001B[43mopen\u001B[49m\u001B[43m(\u001B[49m\u001B[43mnew\u001B[49m\u001B[43m,\u001B[49m\u001B[43m \u001B[49m\u001B[43mtimeout\u001B[49m\u001B[38;5;241;43m=\u001B[39;49m\u001B[43mreq\u001B[49m\u001B[38;5;241;43m.\u001B[39;49m\u001B[43mtimeout\u001B[49m\u001B[43m)\u001B[49m\n",
      "File \u001B[0;32m/opt/anaconda3/envs/teachopencadd/lib/python3.8/urllib/request.py:525\u001B[0m, in \u001B[0;36mOpenerDirector.open\u001B[0;34m(self, fullurl, data, timeout)\u001B[0m\n\u001B[1;32m    522\u001B[0m     req \u001B[38;5;241m=\u001B[39m meth(req)\n\u001B[1;32m    524\u001B[0m sys\u001B[38;5;241m.\u001B[39maudit(\u001B[38;5;124m'\u001B[39m\u001B[38;5;124murllib.Request\u001B[39m\u001B[38;5;124m'\u001B[39m, req\u001B[38;5;241m.\u001B[39mfull_url, req\u001B[38;5;241m.\u001B[39mdata, req\u001B[38;5;241m.\u001B[39mheaders, req\u001B[38;5;241m.\u001B[39mget_method())\n\u001B[0;32m--> 525\u001B[0m response \u001B[38;5;241m=\u001B[39m \u001B[38;5;28;43mself\u001B[39;49m\u001B[38;5;241;43m.\u001B[39;49m\u001B[43m_open\u001B[49m\u001B[43m(\u001B[49m\u001B[43mreq\u001B[49m\u001B[43m,\u001B[49m\u001B[43m \u001B[49m\u001B[43mdata\u001B[49m\u001B[43m)\u001B[49m\n\u001B[1;32m    527\u001B[0m \u001B[38;5;66;03m# post-process response\u001B[39;00m\n\u001B[1;32m    528\u001B[0m meth_name \u001B[38;5;241m=\u001B[39m protocol\u001B[38;5;241m+\u001B[39m\u001B[38;5;124m\"\u001B[39m\u001B[38;5;124m_response\u001B[39m\u001B[38;5;124m\"\u001B[39m\n",
      "File \u001B[0;32m/opt/anaconda3/envs/teachopencadd/lib/python3.8/urllib/request.py:542\u001B[0m, in \u001B[0;36mOpenerDirector._open\u001B[0;34m(self, req, data)\u001B[0m\n\u001B[1;32m    539\u001B[0m     \u001B[38;5;28;01mreturn\u001B[39;00m result\n\u001B[1;32m    541\u001B[0m protocol \u001B[38;5;241m=\u001B[39m req\u001B[38;5;241m.\u001B[39mtype\n\u001B[0;32m--> 542\u001B[0m result \u001B[38;5;241m=\u001B[39m \u001B[38;5;28;43mself\u001B[39;49m\u001B[38;5;241;43m.\u001B[39;49m\u001B[43m_call_chain\u001B[49m\u001B[43m(\u001B[49m\u001B[38;5;28;43mself\u001B[39;49m\u001B[38;5;241;43m.\u001B[39;49m\u001B[43mhandle_open\u001B[49m\u001B[43m,\u001B[49m\u001B[43m \u001B[49m\u001B[43mprotocol\u001B[49m\u001B[43m,\u001B[49m\u001B[43m \u001B[49m\u001B[43mprotocol\u001B[49m\u001B[43m \u001B[49m\u001B[38;5;241;43m+\u001B[39;49m\n\u001B[1;32m    543\u001B[0m \u001B[43m                          \u001B[49m\u001B[38;5;124;43m'\u001B[39;49m\u001B[38;5;124;43m_open\u001B[39;49m\u001B[38;5;124;43m'\u001B[39;49m\u001B[43m,\u001B[49m\u001B[43m \u001B[49m\u001B[43mreq\u001B[49m\u001B[43m)\u001B[49m\n\u001B[1;32m    544\u001B[0m \u001B[38;5;28;01mif\u001B[39;00m result:\n\u001B[1;32m    545\u001B[0m     \u001B[38;5;28;01mreturn\u001B[39;00m result\n",
      "File \u001B[0;32m/opt/anaconda3/envs/teachopencadd/lib/python3.8/urllib/request.py:502\u001B[0m, in \u001B[0;36mOpenerDirector._call_chain\u001B[0;34m(self, chain, kind, meth_name, *args)\u001B[0m\n\u001B[1;32m    500\u001B[0m \u001B[38;5;28;01mfor\u001B[39;00m handler \u001B[38;5;129;01min\u001B[39;00m handlers:\n\u001B[1;32m    501\u001B[0m     func \u001B[38;5;241m=\u001B[39m \u001B[38;5;28mgetattr\u001B[39m(handler, meth_name)\n\u001B[0;32m--> 502\u001B[0m     result \u001B[38;5;241m=\u001B[39m \u001B[43mfunc\u001B[49m\u001B[43m(\u001B[49m\u001B[38;5;241;43m*\u001B[39;49m\u001B[43margs\u001B[49m\u001B[43m)\u001B[49m\n\u001B[1;32m    503\u001B[0m     \u001B[38;5;28;01mif\u001B[39;00m result \u001B[38;5;129;01mis\u001B[39;00m \u001B[38;5;129;01mnot\u001B[39;00m \u001B[38;5;28;01mNone\u001B[39;00m:\n\u001B[1;32m    504\u001B[0m         \u001B[38;5;28;01mreturn\u001B[39;00m result\n",
      "File \u001B[0;32m/opt/anaconda3/envs/teachopencadd/lib/python3.8/urllib/request.py:1397\u001B[0m, in \u001B[0;36mHTTPSHandler.https_open\u001B[0;34m(self, req)\u001B[0m\n\u001B[1;32m   1396\u001B[0m \u001B[38;5;28;01mdef\u001B[39;00m \u001B[38;5;21mhttps_open\u001B[39m(\u001B[38;5;28mself\u001B[39m, req):\n\u001B[0;32m-> 1397\u001B[0m     \u001B[38;5;28;01mreturn\u001B[39;00m \u001B[38;5;28;43mself\u001B[39;49m\u001B[38;5;241;43m.\u001B[39;49m\u001B[43mdo_open\u001B[49m\u001B[43m(\u001B[49m\u001B[43mhttp\u001B[49m\u001B[38;5;241;43m.\u001B[39;49m\u001B[43mclient\u001B[49m\u001B[38;5;241;43m.\u001B[39;49m\u001B[43mHTTPSConnection\u001B[49m\u001B[43m,\u001B[49m\u001B[43m \u001B[49m\u001B[43mreq\u001B[49m\u001B[43m,\u001B[49m\n\u001B[1;32m   1398\u001B[0m \u001B[43m        \u001B[49m\u001B[43mcontext\u001B[49m\u001B[38;5;241;43m=\u001B[39;49m\u001B[38;5;28;43mself\u001B[39;49m\u001B[38;5;241;43m.\u001B[39;49m\u001B[43m_context\u001B[49m\u001B[43m,\u001B[49m\u001B[43m \u001B[49m\u001B[43mcheck_hostname\u001B[49m\u001B[38;5;241;43m=\u001B[39;49m\u001B[38;5;28;43mself\u001B[39;49m\u001B[38;5;241;43m.\u001B[39;49m\u001B[43m_check_hostname\u001B[49m\u001B[43m)\u001B[49m\n",
      "File \u001B[0;32m/opt/anaconda3/envs/teachopencadd/lib/python3.8/urllib/request.py:1357\u001B[0m, in \u001B[0;36mAbstractHTTPHandler.do_open\u001B[0;34m(self, http_class, req, **http_conn_args)\u001B[0m\n\u001B[1;32m   1354\u001B[0m         h\u001B[38;5;241m.\u001B[39mrequest(req\u001B[38;5;241m.\u001B[39mget_method(), req\u001B[38;5;241m.\u001B[39mselector, req\u001B[38;5;241m.\u001B[39mdata, headers,\n\u001B[1;32m   1355\u001B[0m                   encode_chunked\u001B[38;5;241m=\u001B[39mreq\u001B[38;5;241m.\u001B[39mhas_header(\u001B[38;5;124m'\u001B[39m\u001B[38;5;124mTransfer-encoding\u001B[39m\u001B[38;5;124m'\u001B[39m))\n\u001B[1;32m   1356\u001B[0m     \u001B[38;5;28;01mexcept\u001B[39;00m \u001B[38;5;167;01mOSError\u001B[39;00m \u001B[38;5;28;01mas\u001B[39;00m err: \u001B[38;5;66;03m# timeout error\u001B[39;00m\n\u001B[0;32m-> 1357\u001B[0m         \u001B[38;5;28;01mraise\u001B[39;00m URLError(err)\n\u001B[1;32m   1358\u001B[0m     r \u001B[38;5;241m=\u001B[39m h\u001B[38;5;241m.\u001B[39mgetresponse()\n\u001B[1;32m   1359\u001B[0m \u001B[38;5;28;01mexcept\u001B[39;00m:\n",
      "\u001B[0;31mURLError\u001B[0m: <urlopen error EOF occurred in violation of protocol (_ssl.c:1131)>"
     ]
    }
   ],
   "execution_count": 107
  },
  {
   "metadata": {
    "ExecuteTime": {
     "end_time": "2024-10-10T08:49:13.376819Z",
     "start_time": "2024-10-10T08:49:13.371713Z"
    }
   },
   "cell_type": "code",
   "source": [
    "# render a static image\n",
    "ngl_viewer.render_image(trim=True, factor=2);"
   ],
   "id": "30df11cd97e32732",
   "outputs": [],
   "execution_count": 108
  },
  {
   "metadata": {
    "ExecuteTime": {
     "end_time": "2024-10-10T08:49:13.628894Z",
     "start_time": "2024-10-10T08:49:13.623418Z"
    }
   },
   "cell_type": "code",
   "source": "ngl_viewer._display_image()",
   "id": "790a0b8f41b2717a",
   "outputs": [
    {
     "data": {
      "image/png": "",
      "text/plain": [
       "<IPython.core.display.Image object>"
      ]
     },
     "execution_count": 109,
     "metadata": {},
     "output_type": "execute_result"
    }
   ],
   "execution_count": 109
  },
  {
   "metadata": {},
   "cell_type": "markdown",
   "source": [
    "## 使用 PLIP 分析蛋白质-配体相互作用\n",
    "PLIP 提供用于自动分析的 web 服务器，但遗憾的是没有 API。我们可以尝试使用 HTML 表单，就像我们使用标准 web UI 一样，但由于该库本身是 Python-3 兼容的，并且非常容易通过 pip 安装，我们只需在本地使用即可，以简化操作。\n",
    "\n",
    "PLIP 以 PDB 文件作为输入，因此我们可以将 PDB 文件传递给 PLIP，让它施展魔法。 BindingSiteReport 类处理 PDBComplex 中检测到的每个结合位点，并创建一个包含我们感兴趣的（八个）字段的对象，即"
   ],
   "id": "1f1a9ec1a8c5f3a5"
  },
  {
   "metadata": {},
   "cell_type": "markdown",
   "source": [
    "- hydrophobic interaction : `hydrophobic`\n",
    "- hydrogen bond : `hbond`\n",
    "- water bridge : `waterbridge`\n",
    "- salt bridge : `saltbridge`\n",
    "- π-stacking (parallel and perpendicular) : `pistacking`\n",
    "- π- cation : `pication`\n",
    "- halogen bond : `halogen`\n",
    "- metal complexation : `metal`"
   ],
   "id": "f04166a06ebc6298"
  },
  {
   "metadata": {},
   "cell_type": "markdown",
   "source": [
    "这些字段分为 `<field>_features` （包含列名）和 `<field>_info` （包含实际记录）。如果我们遍历对象，使用 `getattr()` 检索正确的属性名，我们可以组成一个字典，可以传递给 `pandas.DataFrame` 以获得良好的概览。\n",
    "\n",
    "此词典由两个级别组成：\n",
    "\n",
    "- 一级是检测到的结合位点。\n",
    "- 对于每个结合位点，我们有一个包含八个列表的子词典，每个列表对应一种特定的相互作用。\n",
    "  - 每个列表将包含第一行的列名，以及以下的数据（如有）。"
   ],
   "id": "d43c3f41682c85e4"
  },
  {
   "metadata": {},
   "cell_type": "markdown",
   "source": "",
   "id": "c5a0548b8d21cc80"
  },
  {
   "metadata": {
    "ExecuteTime": {
     "end_time": "2024-10-10T08:49:15.398902Z",
     "start_time": "2024-10-10T08:49:15.394161Z"
    }
   },
   "cell_type": "code",
   "source": [
    "def retrieve_plip_interactions(pdb_file):\n",
    "    \"\"\"\n",
    "    Retrieves the interactions from PLIP.\n",
    "\n",
    "    Parameters\n",
    "    ----------\n",
    "    pdb_file :\n",
    "        The PDB file of the complex.\n",
    "\n",
    "    Returns\n",
    "    -------\n",
    "    dict :\n",
    "        A dictionary of the binding sites and the interactions.\n",
    "    \"\"\"\n",
    "    protlig = PDBComplex()\n",
    "    protlig.load_pdb(pdb_file)  # load the pdb file\n",
    "    for ligand in protlig.ligands:\n",
    "        protlig.characterize_complex(ligand)  # find ligands and analyze interactions\n",
    "    sites = {}\n",
    "    # loop over binding sites\n",
    "    for key, site in sorted(protlig.interaction_sets.items()):\n",
    "        binding_site = BindingSiteReport(site)  # collect data about interactions\n",
    "        # tuples of *_features and *_info will be converted to pandas DataFrame\n",
    "        keys = (\n",
    "            \"hydrophobic\",\n",
    "            \"hbond\",\n",
    "            \"waterbridge\",\n",
    "            \"saltbridge\",\n",
    "            \"pistacking\",\n",
    "            \"pication\",\n",
    "            \"halogen\",\n",
    "            \"metal\",\n",
    "        )\n",
    "        # interactions is a dictionary which contains relevant information for each\n",
    "        # of the possible interactions: hydrophobic, hbond, etc. in the considered\n",
    "        # binding site. Each interaction contains a list with\n",
    "        # 1. the features of that interaction, e.g. for hydrophobic:\n",
    "        # ('RESNR', 'RESTYPE', ..., 'LIGCOO', 'PROTCOO')\n",
    "        # 2. information for each of these features, e.g. for hydrophobic\n",
    "        # (residue nb, residue type,..., ligand atom 3D coord., protein atom 3D coord.)\n",
    "        interactions = {\n",
    "            k: [getattr(binding_site, k + \"_features\")] + getattr(binding_site, k + \"_info\")\n",
    "            for k in keys\n",
    "        }\n",
    "        sites[key] = interactions\n",
    "    return sites"
   ],
   "id": "5b2a58bde6a6c68e",
   "outputs": [],
   "execution_count": 110
  },
  {
   "metadata": {
    "ExecuteTime": {
     "end_time": "2024-10-10T08:49:16.813318Z",
     "start_time": "2024-10-10T08:49:15.731596Z"
    }
   },
   "cell_type": "code",
   "source": "interactions_by_site = retrieve_plip_interactions(f\"{DATA}/{pdb_id}.pdb\")",
   "id": "7956dc597919cbe",
   "outputs": [],
   "execution_count": 111
  },
  {
   "metadata": {},
   "cell_type": "markdown",
   "source": "让我们看看检测到多少个结合位点：",
   "id": "b7d9e3965891b4ab"
  },
  {
   "metadata": {
    "ExecuteTime": {
     "end_time": "2024-10-10T08:49:16.827711Z",
     "start_time": "2024-10-10T08:49:16.823096Z"
    }
   },
   "cell_type": "code",
   "source": [
    "print(\n",
    "    f\"Number of binding sites detected in {pdb_id} : \"\n",
    "    f\"{len(interactions_by_site)}\\n\"\n",
    "    f\"with {interactions_by_site.keys()}\"\n",
    ")"
   ],
   "id": "1e614e12d174c47d",
   "outputs": [
    {
     "name": "stdout",
     "output_type": "stream",
     "text": [
      "Number of binding sites detected in 4J8M : 6\n",
      "with dict_keys(['CJ5:A:501', 'DMS:A:504', 'DMS:A:505', 'EDO:A:506', 'MG:A:502', 'PO4:A:503'])\n"
     ]
    }
   ],
   "execution_count": 112
  },
  {
   "metadata": {},
   "cell_type": "markdown",
   "source": [
    "\n",
    "# 可以 根据这个 https://plip-tool.biotec.tu-dresden.de/plip-web/plip/index 来获取打分的标准。"
   ],
   "id": "6bfc170761986b7b"
  },
  {
   "metadata": {
    "ExecuteTime": {
     "end_time": "2024-10-10T08:49:26.476660Z",
     "start_time": "2024-10-10T08:49:26.472957Z"
    }
   },
   "cell_type": "code",
   "source": [
    "index_of_selected_site = 0\n",
    "selected_site = list(interactions_by_site.keys())[index_of_selected_site]\n",
    "print(selected_site)"
   ],
   "id": "74fd32ad1db6b467",
   "outputs": [
    {
     "name": "stdout",
     "output_type": "stream",
     "text": [
      "CJ5:A:501\n"
     ]
    }
   ],
   "execution_count": 114
  },
  {
   "metadata": {},
   "cell_type": "markdown",
   "source": [
    "### 交互类型表 ¶\n",
    "\n",
    "我们可以为结合位点和特定的相互作用类型构建一个 `pandas.DataFrame` 。"
   ],
   "id": "819e7ee21e0b40fd"
  },
  {
   "metadata": {
    "ExecuteTime": {
     "end_time": "2024-10-10T08:49:26.910649Z",
     "start_time": "2024-10-10T08:49:26.904619Z"
    }
   },
   "cell_type": "code",
   "source": [
    "def create_df_from_binding_site(selected_site_interactions, interaction_type=\"hbond\"):\n",
    "    \"\"\"\n",
    "    Creates a data frame from a binding site and interaction type.\n",
    "\n",
    "    Parameters\n",
    "    ----------\n",
    "    selected_site_interactions : dict\n",
    "        Precaluclated interactions from PLIP for the selected site\n",
    "    interaction_type : str\n",
    "        The interaction type of interest (default set to hydrogen bond).\n",
    "\n",
    "    Returns\n",
    "    -------\n",
    "    pd.DataFrame :\n",
    "        DataFrame with information retrieved from PLIP.\n",
    "    \"\"\"\n",
    "\n",
    "    # check if interaction type is valid:\n",
    "    valid_types = [\n",
    "        \"hydrophobic\",\n",
    "        \"hbond\",\n",
    "        \"waterbridge\",\n",
    "        \"saltbridge\",\n",
    "        \"pistacking\",\n",
    "        \"pication\",\n",
    "        \"halogen\",\n",
    "        \"metal\",\n",
    "    ]\n",
    "\n",
    "    if interaction_type not in valid_types:\n",
    "        print(\"!!! Wrong interaction type specified. Hbond is chosen by default!!!\\n\")\n",
    "        interaction_type = \"hbond\"\n",
    "\n",
    "    df = pd.DataFrame.from_records(\n",
    "        # data is stored AFTER the column names\n",
    "        selected_site_interactions[interaction_type][1:],\n",
    "        # column names are always the first element\n",
    "        columns=selected_site_interactions[interaction_type][0],\n",
    "    )\n",
    "    return df"
   ],
   "id": "9d34b62bb3a3eb9b",
   "outputs": [],
   "execution_count": 115
  },
  {
   "metadata": {},
   "cell_type": "markdown",
   "source": [
    "**疏水相互作用**\n",
    "\n",
    "在下个细胞中，我们展示了从所选结合位点处的疏水相互作用。"
   ],
   "id": "c68a053ebab4408f"
  },
  {
   "metadata": {
    "ExecuteTime": {
     "end_time": "2024-10-10T08:49:27.486022Z",
     "start_time": "2024-10-10T08:49:27.458071Z"
    }
   },
   "cell_type": "code",
   "source": "create_df_from_binding_site(interactions_by_site[selected_site], interaction_type=\"hydrophobic\")",
   "id": "24238410351dcd48",
   "outputs": [
    {
     "data": {
      "text/plain": [
       "    RESNR RESTYPE RESCHAIN  RESNR_LIG RESTYPE_LIG RESCHAIN_LIG  DIST  \\\n",
       "0     139     LEU        A        501         CJ5            A  4.00   \n",
       "1     147     VAL        A        501         CJ5            A  3.44   \n",
       "2     164     LEU        A        501         CJ5            A  3.83   \n",
       "3     210     LEU        A        501         CJ5            A  3.86   \n",
       "4     212     TYR        A        501         CJ5            A  3.99   \n",
       "5     217     THR        A        501         CJ5            A  3.90   \n",
       "6     281     ALA        A        501         CJ5            A  3.91   \n",
       "7     147     VAL        A        501         CJ5            A  3.44   \n",
       "8     194     LEU        A        501         CJ5            A  3.62   \n",
       "9     279     VAL        A        501         CJ5            A  3.69   \n",
       "10    282     PRO        A        501         CJ5            A  3.85   \n",
       "\n",
       "    LIGCARBONIDX  PROTCARBONIDX                       LIGCOO  \\\n",
       "0           4401            246  (119.353, 103.582, 158.192)   \n",
       "1           4397            366     (117.242, 106.2, 152.03)   \n",
       "2           4391            669  (116.106, 106.865, 150.003)   \n",
       "3           4418           1461  (117.315, 108.584, 156.639)   \n",
       "4           4409           1497  (120.915, 104.527, 163.671)   \n",
       "5           4403           1566  (117.334, 103.384, 159.483)   \n",
       "6           4389           2607   (114.85, 106.622, 152.072)   \n",
       "7           4417            365  (118.313, 108.779, 157.755)   \n",
       "8           4420           1179  (116.178, 108.305, 158.762)   \n",
       "9           4390           2575    (114.886, 106.918, 150.7)   \n",
       "10          4392           2618   (117.281, 106.501, 150.67)   \n",
       "\n",
       "                        PROTCOO  \n",
       "0   (122.829, 105.517, 157.793)  \n",
       "1    (119.99, 107.509, 153.631)  \n",
       "2   (117.318, 110.024, 148.213)  \n",
       "3   (116.745, 112.396, 156.442)  \n",
       "4   (122.802, 108.045, 163.654)  \n",
       "5    (115.53, 101.451, 162.354)  \n",
       "6   (113.702, 103.178, 153.515)  \n",
       "7    (120.985, 108.623, 155.59)  \n",
       "8     (114.865, 111.02, 160.76)  \n",
       "9    (113.42, 106.766, 147.316)  \n",
       "10    (117.965, 102.73, 150.36)  "
      ],
      "text/html": [
       "<div>\n",
       "<style scoped>\n",
       "    .dataframe tbody tr th:only-of-type {\n",
       "        vertical-align: middle;\n",
       "    }\n",
       "\n",
       "    .dataframe tbody tr th {\n",
       "        vertical-align: top;\n",
       "    }\n",
       "\n",
       "    .dataframe thead th {\n",
       "        text-align: right;\n",
       "    }\n",
       "</style>\n",
       "<table border=\"1\" class=\"dataframe\">\n",
       "  <thead>\n",
       "    <tr style=\"text-align: right;\">\n",
       "      <th></th>\n",
       "      <th>RESNR</th>\n",
       "      <th>RESTYPE</th>\n",
       "      <th>RESCHAIN</th>\n",
       "      <th>RESNR_LIG</th>\n",
       "      <th>RESTYPE_LIG</th>\n",
       "      <th>RESCHAIN_LIG</th>\n",
       "      <th>DIST</th>\n",
       "      <th>LIGCARBONIDX</th>\n",
       "      <th>PROTCARBONIDX</th>\n",
       "      <th>LIGCOO</th>\n",
       "      <th>PROTCOO</th>\n",
       "    </tr>\n",
       "  </thead>\n",
       "  <tbody>\n",
       "    <tr>\n",
       "      <th>0</th>\n",
       "      <td>139</td>\n",
       "      <td>LEU</td>\n",
       "      <td>A</td>\n",
       "      <td>501</td>\n",
       "      <td>CJ5</td>\n",
       "      <td>A</td>\n",
       "      <td>4.00</td>\n",
       "      <td>4401</td>\n",
       "      <td>246</td>\n",
       "      <td>(119.353, 103.582, 158.192)</td>\n",
       "      <td>(122.829, 105.517, 157.793)</td>\n",
       "    </tr>\n",
       "    <tr>\n",
       "      <th>1</th>\n",
       "      <td>147</td>\n",
       "      <td>VAL</td>\n",
       "      <td>A</td>\n",
       "      <td>501</td>\n",
       "      <td>CJ5</td>\n",
       "      <td>A</td>\n",
       "      <td>3.44</td>\n",
       "      <td>4397</td>\n",
       "      <td>366</td>\n",
       "      <td>(117.242, 106.2, 152.03)</td>\n",
       "      <td>(119.99, 107.509, 153.631)</td>\n",
       "    </tr>\n",
       "    <tr>\n",
       "      <th>2</th>\n",
       "      <td>164</td>\n",
       "      <td>LEU</td>\n",
       "      <td>A</td>\n",
       "      <td>501</td>\n",
       "      <td>CJ5</td>\n",
       "      <td>A</td>\n",
       "      <td>3.83</td>\n",
       "      <td>4391</td>\n",
       "      <td>669</td>\n",
       "      <td>(116.106, 106.865, 150.003)</td>\n",
       "      <td>(117.318, 110.024, 148.213)</td>\n",
       "    </tr>\n",
       "    <tr>\n",
       "      <th>3</th>\n",
       "      <td>210</td>\n",
       "      <td>LEU</td>\n",
       "      <td>A</td>\n",
       "      <td>501</td>\n",
       "      <td>CJ5</td>\n",
       "      <td>A</td>\n",
       "      <td>3.86</td>\n",
       "      <td>4418</td>\n",
       "      <td>1461</td>\n",
       "      <td>(117.315, 108.584, 156.639)</td>\n",
       "      <td>(116.745, 112.396, 156.442)</td>\n",
       "    </tr>\n",
       "    <tr>\n",
       "      <th>4</th>\n",
       "      <td>212</td>\n",
       "      <td>TYR</td>\n",
       "      <td>A</td>\n",
       "      <td>501</td>\n",
       "      <td>CJ5</td>\n",
       "      <td>A</td>\n",
       "      <td>3.99</td>\n",
       "      <td>4409</td>\n",
       "      <td>1497</td>\n",
       "      <td>(120.915, 104.527, 163.671)</td>\n",
       "      <td>(122.802, 108.045, 163.654)</td>\n",
       "    </tr>\n",
       "    <tr>\n",
       "      <th>5</th>\n",
       "      <td>217</td>\n",
       "      <td>THR</td>\n",
       "      <td>A</td>\n",
       "      <td>501</td>\n",
       "      <td>CJ5</td>\n",
       "      <td>A</td>\n",
       "      <td>3.90</td>\n",
       "      <td>4403</td>\n",
       "      <td>1566</td>\n",
       "      <td>(117.334, 103.384, 159.483)</td>\n",
       "      <td>(115.53, 101.451, 162.354)</td>\n",
       "    </tr>\n",
       "    <tr>\n",
       "      <th>6</th>\n",
       "      <td>281</td>\n",
       "      <td>ALA</td>\n",
       "      <td>A</td>\n",
       "      <td>501</td>\n",
       "      <td>CJ5</td>\n",
       "      <td>A</td>\n",
       "      <td>3.91</td>\n",
       "      <td>4389</td>\n",
       "      <td>2607</td>\n",
       "      <td>(114.85, 106.622, 152.072)</td>\n",
       "      <td>(113.702, 103.178, 153.515)</td>\n",
       "    </tr>\n",
       "    <tr>\n",
       "      <th>7</th>\n",
       "      <td>147</td>\n",
       "      <td>VAL</td>\n",
       "      <td>A</td>\n",
       "      <td>501</td>\n",
       "      <td>CJ5</td>\n",
       "      <td>A</td>\n",
       "      <td>3.44</td>\n",
       "      <td>4417</td>\n",
       "      <td>365</td>\n",
       "      <td>(118.313, 108.779, 157.755)</td>\n",
       "      <td>(120.985, 108.623, 155.59)</td>\n",
       "    </tr>\n",
       "    <tr>\n",
       "      <th>8</th>\n",
       "      <td>194</td>\n",
       "      <td>LEU</td>\n",
       "      <td>A</td>\n",
       "      <td>501</td>\n",
       "      <td>CJ5</td>\n",
       "      <td>A</td>\n",
       "      <td>3.62</td>\n",
       "      <td>4420</td>\n",
       "      <td>1179</td>\n",
       "      <td>(116.178, 108.305, 158.762)</td>\n",
       "      <td>(114.865, 111.02, 160.76)</td>\n",
       "    </tr>\n",
       "    <tr>\n",
       "      <th>9</th>\n",
       "      <td>279</td>\n",
       "      <td>VAL</td>\n",
       "      <td>A</td>\n",
       "      <td>501</td>\n",
       "      <td>CJ5</td>\n",
       "      <td>A</td>\n",
       "      <td>3.69</td>\n",
       "      <td>4390</td>\n",
       "      <td>2575</td>\n",
       "      <td>(114.886, 106.918, 150.7)</td>\n",
       "      <td>(113.42, 106.766, 147.316)</td>\n",
       "    </tr>\n",
       "    <tr>\n",
       "      <th>10</th>\n",
       "      <td>282</td>\n",
       "      <td>PRO</td>\n",
       "      <td>A</td>\n",
       "      <td>501</td>\n",
       "      <td>CJ5</td>\n",
       "      <td>A</td>\n",
       "      <td>3.85</td>\n",
       "      <td>4392</td>\n",
       "      <td>2618</td>\n",
       "      <td>(117.281, 106.501, 150.67)</td>\n",
       "      <td>(117.965, 102.73, 150.36)</td>\n",
       "    </tr>\n",
       "  </tbody>\n",
       "</table>\n",
       "</div>"
      ]
     },
     "execution_count": 116,
     "metadata": {},
     "output_type": "execute_result"
    }
   ],
   "execution_count": 116
  },
  {
   "metadata": {
    "ExecuteTime": {
     "end_time": "2024-10-10T08:50:02.581327Z",
     "start_time": "2024-10-10T08:50:02.567709Z"
    }
   },
   "cell_type": "code",
   "source": [
    "# 保存疏水相互作用数据\n",
    "df_hbond = create_df_from_binding_site(interactions_by_site[selected_site], interaction_type=\"hbond\")\n",
    "df_hbond.to_csv(f\"{DATA}/hbond.csv\", index=False)"
   ],
   "id": "63d792f2057c37ef",
   "outputs": [],
   "execution_count": 117
  },
  {
   "metadata": {},
   "cell_type": "markdown",
   "source": [
    "**氢相互作用**\n",
    "\n",
    "如果对氢相互作用感兴趣，表格可以按以下方式生成"
   ],
   "id": "f83977f87d9dde83"
  },
  {
   "metadata": {},
   "cell_type": "markdown",
   "source": "",
   "id": "90c4e1efe504c24c"
  },
  {
   "metadata": {
    "ExecuteTime": {
     "end_time": "2024-10-10T08:51:18.819378Z",
     "start_time": "2024-10-10T08:51:18.800321Z"
    }
   },
   "cell_type": "code",
   "source": "create_df_from_binding_site(interactions_by_site[selected_site], interaction_type=\"hbond\")",
   "id": "f05dfb11db095e69",
   "outputs": [
    {
     "data": {
      "text/plain": [
       "   RESNR RESTYPE RESCHAIN  RESNR_LIG RESTYPE_LIG RESCHAIN_LIG  SIDECHAIN  \\\n",
       "0    213     ALA        A        501         CJ5            A      False   \n",
       "1    211     GLU        A        501         CJ5            A      False   \n",
       "2    213     ALA        A        501         CJ5            A      False   \n",
       "3    274     ASP        A        501         CJ5            A       True   \n",
       "4    274     ASP        A        501         CJ5            A       True   \n",
       "\n",
       "  DIST_H-A DIST_D-A DON_ANGLE  PROTISDON  DONORIDX DONORTYPE  ACCEPTORIDX  \\\n",
       "0     2.05     2.90    172.79       True      1510       Nam         4413   \n",
       "1     2.06     2.89    151.22      False      4414       Npl         1477   \n",
       "2     1.93     2.81    159.70      False      4411       Npl         1513   \n",
       "3     1.85     2.74    170.39      False      4387       Nam         2502   \n",
       "4     1.92     2.73    149.86      False      4398       Nam         2503   \n",
       "\n",
       "  ACCEPTORTYPE                       LIGCOO                      PROTCOO  \n",
       "0           N2  (118.921, 108.676, 162.352)  (119.064, 109.798, 165.026)  \n",
       "1           O2   (118.32, 109.306, 161.302)  (118.087, 112.084, 162.047)  \n",
       "2           O2  (119.849, 106.556, 162.929)  (119.782, 106.969, 165.705)  \n",
       "3           O2  (115.947, 105.943, 154.146)  (113.552, 106.798, 155.176)  \n",
       "4           O3  (116.511, 105.056, 156.321)  (113.808, 105.227, 156.691)  "
      ],
      "text/html": [
       "<div>\n",
       "<style scoped>\n",
       "    .dataframe tbody tr th:only-of-type {\n",
       "        vertical-align: middle;\n",
       "    }\n",
       "\n",
       "    .dataframe tbody tr th {\n",
       "        vertical-align: top;\n",
       "    }\n",
       "\n",
       "    .dataframe thead th {\n",
       "        text-align: right;\n",
       "    }\n",
       "</style>\n",
       "<table border=\"1\" class=\"dataframe\">\n",
       "  <thead>\n",
       "    <tr style=\"text-align: right;\">\n",
       "      <th></th>\n",
       "      <th>RESNR</th>\n",
       "      <th>RESTYPE</th>\n",
       "      <th>RESCHAIN</th>\n",
       "      <th>RESNR_LIG</th>\n",
       "      <th>RESTYPE_LIG</th>\n",
       "      <th>RESCHAIN_LIG</th>\n",
       "      <th>SIDECHAIN</th>\n",
       "      <th>DIST_H-A</th>\n",
       "      <th>DIST_D-A</th>\n",
       "      <th>DON_ANGLE</th>\n",
       "      <th>PROTISDON</th>\n",
       "      <th>DONORIDX</th>\n",
       "      <th>DONORTYPE</th>\n",
       "      <th>ACCEPTORIDX</th>\n",
       "      <th>ACCEPTORTYPE</th>\n",
       "      <th>LIGCOO</th>\n",
       "      <th>PROTCOO</th>\n",
       "    </tr>\n",
       "  </thead>\n",
       "  <tbody>\n",
       "    <tr>\n",
       "      <th>0</th>\n",
       "      <td>213</td>\n",
       "      <td>ALA</td>\n",
       "      <td>A</td>\n",
       "      <td>501</td>\n",
       "      <td>CJ5</td>\n",
       "      <td>A</td>\n",
       "      <td>False</td>\n",
       "      <td>2.05</td>\n",
       "      <td>2.90</td>\n",
       "      <td>172.79</td>\n",
       "      <td>True</td>\n",
       "      <td>1510</td>\n",
       "      <td>Nam</td>\n",
       "      <td>4413</td>\n",
       "      <td>N2</td>\n",
       "      <td>(118.921, 108.676, 162.352)</td>\n",
       "      <td>(119.064, 109.798, 165.026)</td>\n",
       "    </tr>\n",
       "    <tr>\n",
       "      <th>1</th>\n",
       "      <td>211</td>\n",
       "      <td>GLU</td>\n",
       "      <td>A</td>\n",
       "      <td>501</td>\n",
       "      <td>CJ5</td>\n",
       "      <td>A</td>\n",
       "      <td>False</td>\n",
       "      <td>2.06</td>\n",
       "      <td>2.89</td>\n",
       "      <td>151.22</td>\n",
       "      <td>False</td>\n",
       "      <td>4414</td>\n",
       "      <td>Npl</td>\n",
       "      <td>1477</td>\n",
       "      <td>O2</td>\n",
       "      <td>(118.32, 109.306, 161.302)</td>\n",
       "      <td>(118.087, 112.084, 162.047)</td>\n",
       "    </tr>\n",
       "    <tr>\n",
       "      <th>2</th>\n",
       "      <td>213</td>\n",
       "      <td>ALA</td>\n",
       "      <td>A</td>\n",
       "      <td>501</td>\n",
       "      <td>CJ5</td>\n",
       "      <td>A</td>\n",
       "      <td>False</td>\n",
       "      <td>1.93</td>\n",
       "      <td>2.81</td>\n",
       "      <td>159.70</td>\n",
       "      <td>False</td>\n",
       "      <td>4411</td>\n",
       "      <td>Npl</td>\n",
       "      <td>1513</td>\n",
       "      <td>O2</td>\n",
       "      <td>(119.849, 106.556, 162.929)</td>\n",
       "      <td>(119.782, 106.969, 165.705)</td>\n",
       "    </tr>\n",
       "    <tr>\n",
       "      <th>3</th>\n",
       "      <td>274</td>\n",
       "      <td>ASP</td>\n",
       "      <td>A</td>\n",
       "      <td>501</td>\n",
       "      <td>CJ5</td>\n",
       "      <td>A</td>\n",
       "      <td>True</td>\n",
       "      <td>1.85</td>\n",
       "      <td>2.74</td>\n",
       "      <td>170.39</td>\n",
       "      <td>False</td>\n",
       "      <td>4387</td>\n",
       "      <td>Nam</td>\n",
       "      <td>2502</td>\n",
       "      <td>O2</td>\n",
       "      <td>(115.947, 105.943, 154.146)</td>\n",
       "      <td>(113.552, 106.798, 155.176)</td>\n",
       "    </tr>\n",
       "    <tr>\n",
       "      <th>4</th>\n",
       "      <td>274</td>\n",
       "      <td>ASP</td>\n",
       "      <td>A</td>\n",
       "      <td>501</td>\n",
       "      <td>CJ5</td>\n",
       "      <td>A</td>\n",
       "      <td>True</td>\n",
       "      <td>1.92</td>\n",
       "      <td>2.73</td>\n",
       "      <td>149.86</td>\n",
       "      <td>False</td>\n",
       "      <td>4398</td>\n",
       "      <td>Nam</td>\n",
       "      <td>2503</td>\n",
       "      <td>O3</td>\n",
       "      <td>(116.511, 105.056, 156.321)</td>\n",
       "      <td>(113.808, 105.227, 156.691)</td>\n",
       "    </tr>\n",
       "  </tbody>\n",
       "</table>\n",
       "</div>"
      ]
     },
     "execution_count": 119,
     "metadata": {},
     "output_type": "execute_result"
    }
   ],
   "execution_count": 119
  },
  {
   "metadata": {
    "ExecuteTime": {
     "end_time": "2024-10-10T08:51:27.852949Z",
     "start_time": "2024-10-10T08:51:27.846771Z"
    }
   },
   "cell_type": "code",
   "source": [
    "# 保存氢相互作用数据\n",
    "df_hbond = create_df_from_binding_site(interactions_by_site[selected_site], interaction_type=\"hbond\")\n",
    "df_hbond.to_csv(f\"{DATA}/hbond.csv\", index=False)"
   ],
   "id": "f504aa05f789c85d",
   "outputs": [],
   "execution_count": 120
  },
  {
   "metadata": {},
   "cell_type": "markdown",
   "source": [
    "**水桥相互作用**\n",
    "\n"
   ],
   "id": "7186007f6c7ec506"
  },
  {
   "metadata": {
    "ExecuteTime": {
     "end_time": "2024-10-10T08:52:12.447275Z",
     "start_time": "2024-10-10T08:52:12.434863Z"
    }
   },
   "cell_type": "code",
   "source": "create_df_from_binding_site(interactions_by_site[selected_site], interaction_type=\"waterbridge\")",
   "id": "3ed13f2087fe59da",
   "outputs": [
    {
     "data": {
      "text/plain": [
       "   RESNR RESTYPE RESCHAIN  RESNR_LIG RESTYPE_LIG RESCHAIN_LIG DIST_A-W  \\\n",
       "0    217     THR        A        501         CJ5            A     3.39   \n",
       "\n",
       "  DIST_D-W DON_ANGLE WATER_ANGLE  PROTISDON  DONOR_IDX DONORTYPE  \\\n",
       "0     2.93    159.41       71.28       True       1560       Nam   \n",
       "\n",
       "   ACCEPTOR_IDX ACCEPTORTYPE  WATER_IDX                      LIGCOO  \\\n",
       "0          4407           N2       4565  (120.68, 102.555, 162.395)   \n",
       "\n",
       "                       PROTCOO                    WATERCOO  \n",
       "0  (116.673, 101.422, 165.074)  (118.861, 100.02, 163.719)  "
      ],
      "text/html": [
       "<div>\n",
       "<style scoped>\n",
       "    .dataframe tbody tr th:only-of-type {\n",
       "        vertical-align: middle;\n",
       "    }\n",
       "\n",
       "    .dataframe tbody tr th {\n",
       "        vertical-align: top;\n",
       "    }\n",
       "\n",
       "    .dataframe thead th {\n",
       "        text-align: right;\n",
       "    }\n",
       "</style>\n",
       "<table border=\"1\" class=\"dataframe\">\n",
       "  <thead>\n",
       "    <tr style=\"text-align: right;\">\n",
       "      <th></th>\n",
       "      <th>RESNR</th>\n",
       "      <th>RESTYPE</th>\n",
       "      <th>RESCHAIN</th>\n",
       "      <th>RESNR_LIG</th>\n",
       "      <th>RESTYPE_LIG</th>\n",
       "      <th>RESCHAIN_LIG</th>\n",
       "      <th>DIST_A-W</th>\n",
       "      <th>DIST_D-W</th>\n",
       "      <th>DON_ANGLE</th>\n",
       "      <th>WATER_ANGLE</th>\n",
       "      <th>PROTISDON</th>\n",
       "      <th>DONOR_IDX</th>\n",
       "      <th>DONORTYPE</th>\n",
       "      <th>ACCEPTOR_IDX</th>\n",
       "      <th>ACCEPTORTYPE</th>\n",
       "      <th>WATER_IDX</th>\n",
       "      <th>LIGCOO</th>\n",
       "      <th>PROTCOO</th>\n",
       "      <th>WATERCOO</th>\n",
       "    </tr>\n",
       "  </thead>\n",
       "  <tbody>\n",
       "    <tr>\n",
       "      <th>0</th>\n",
       "      <td>217</td>\n",
       "      <td>THR</td>\n",
       "      <td>A</td>\n",
       "      <td>501</td>\n",
       "      <td>CJ5</td>\n",
       "      <td>A</td>\n",
       "      <td>3.39</td>\n",
       "      <td>2.93</td>\n",
       "      <td>159.41</td>\n",
       "      <td>71.28</td>\n",
       "      <td>True</td>\n",
       "      <td>1560</td>\n",
       "      <td>Nam</td>\n",
       "      <td>4407</td>\n",
       "      <td>N2</td>\n",
       "      <td>4565</td>\n",
       "      <td>(120.68, 102.555, 162.395)</td>\n",
       "      <td>(116.673, 101.422, 165.074)</td>\n",
       "      <td>(118.861, 100.02, 163.719)</td>\n",
       "    </tr>\n",
       "  </tbody>\n",
       "</table>\n",
       "</div>"
      ]
     },
     "execution_count": 121,
     "metadata": {},
     "output_type": "execute_result"
    }
   ],
   "execution_count": 121
  },
  {
   "metadata": {
    "ExecuteTime": {
     "end_time": "2024-10-10T08:52:14.674254Z",
     "start_time": "2024-10-10T08:52:14.667381Z"
    }
   },
   "cell_type": "code",
   "source": [
    "# 保存水桥相互作用数据\n",
    "df_waterbridge = create_df_from_binding_site(interactions_by_site[selected_site], interaction_type=\"waterbridge\")\n",
    "df_waterbridge.to_csv(f\"{DATA}/waterbridge.csv\", index=False)"
   ],
   "id": "5b2bb848e9e44cad",
   "outputs": [],
   "execution_count": 122
  },
  {
   "metadata": {},
   "cell_type": "markdown",
   "source": "**盐桥相互作用**\n",
   "id": "318e79c90b3d7dc5"
  },
  {
   "metadata": {
    "ExecuteTime": {
     "end_time": "2024-10-10T08:52:18.074397Z",
     "start_time": "2024-10-10T08:52:18.065173Z"
    }
   },
   "cell_type": "code",
   "source": "create_df_from_binding_site(interactions_by_site[selected_site], interaction_type=\"saltbridge\")",
   "id": "31e348abc3e6817d",
   "outputs": [
    {
     "data": {
      "text/plain": [
       "Empty DataFrame\n",
       "Columns: [RESNR, RESTYPE, RESCHAIN, PROT_IDX_LIST, RESNR_LIG, RESTYPE_LIG, RESCHAIN_LIG, DIST, PROTISPOS, LIG_GROUP, LIG_IDX_LIST, LIGCOO, PROTCOO]\n",
       "Index: []"
      ],
      "text/html": [
       "<div>\n",
       "<style scoped>\n",
       "    .dataframe tbody tr th:only-of-type {\n",
       "        vertical-align: middle;\n",
       "    }\n",
       "\n",
       "    .dataframe tbody tr th {\n",
       "        vertical-align: top;\n",
       "    }\n",
       "\n",
       "    .dataframe thead th {\n",
       "        text-align: right;\n",
       "    }\n",
       "</style>\n",
       "<table border=\"1\" class=\"dataframe\">\n",
       "  <thead>\n",
       "    <tr style=\"text-align: right;\">\n",
       "      <th></th>\n",
       "      <th>RESNR</th>\n",
       "      <th>RESTYPE</th>\n",
       "      <th>RESCHAIN</th>\n",
       "      <th>PROT_IDX_LIST</th>\n",
       "      <th>RESNR_LIG</th>\n",
       "      <th>RESTYPE_LIG</th>\n",
       "      <th>RESCHAIN_LIG</th>\n",
       "      <th>DIST</th>\n",
       "      <th>PROTISPOS</th>\n",
       "      <th>LIG_GROUP</th>\n",
       "      <th>LIG_IDX_LIST</th>\n",
       "      <th>LIGCOO</th>\n",
       "      <th>PROTCOO</th>\n",
       "    </tr>\n",
       "  </thead>\n",
       "  <tbody>\n",
       "  </tbody>\n",
       "</table>\n",
       "</div>"
      ]
     },
     "execution_count": 123,
     "metadata": {},
     "output_type": "execute_result"
    }
   ],
   "execution_count": 123
  },
  {
   "metadata": {
    "ExecuteTime": {
     "end_time": "2024-10-10T08:52:38.337501Z",
     "start_time": "2024-10-10T08:52:38.331257Z"
    }
   },
   "cell_type": "code",
   "source": [
    "# 保存盐桥相互作用数据\n",
    "df_saltbridge = create_df_from_binding_site(interactions_by_site[selected_site], interaction_type=\"saltbridge\")\n",
    "df_saltbridge.to_csv(f\"{DATA}/saltbridge.csv\", index=False)"
   ],
   "id": "1cfda2a267bec64c",
   "outputs": [],
   "execution_count": 125
  },
  {
   "metadata": {},
   "cell_type": "markdown",
   "source": [
    "**卤素相互作用**\n",
    "\n",
    "让我们也看看卤素相互作用："
   ],
   "id": "e27b6504969fb67e"
  },
  {
   "metadata": {
    "ExecuteTime": {
     "end_time": "2024-10-10T08:52:46.086343Z",
     "start_time": "2024-10-10T08:52:46.077848Z"
    }
   },
   "cell_type": "code",
   "source": "create_df_from_binding_site(interactions_by_site[selected_site], interaction_type=\"halogen\")",
   "id": "64477a006c88ba0a",
   "outputs": [
    {
     "data": {
      "text/plain": [
       "Empty DataFrame\n",
       "Columns: [RESNR, RESTYPE, RESCHAIN, RESNR_LIG, RESTYPE_LIG, RESCHAIN_LIG, SIDECHAIN, DIST, DON_ANGLE, ACC_ANGLE, DON_IDX, DONORTYPE, ACC_IDX, ACCEPTORTYPE, LIGCOO, PROTCOO]\n",
       "Index: []"
      ],
      "text/html": [
       "<div>\n",
       "<style scoped>\n",
       "    .dataframe tbody tr th:only-of-type {\n",
       "        vertical-align: middle;\n",
       "    }\n",
       "\n",
       "    .dataframe tbody tr th {\n",
       "        vertical-align: top;\n",
       "    }\n",
       "\n",
       "    .dataframe thead th {\n",
       "        text-align: right;\n",
       "    }\n",
       "</style>\n",
       "<table border=\"1\" class=\"dataframe\">\n",
       "  <thead>\n",
       "    <tr style=\"text-align: right;\">\n",
       "      <th></th>\n",
       "      <th>RESNR</th>\n",
       "      <th>RESTYPE</th>\n",
       "      <th>RESCHAIN</th>\n",
       "      <th>RESNR_LIG</th>\n",
       "      <th>RESTYPE_LIG</th>\n",
       "      <th>RESCHAIN_LIG</th>\n",
       "      <th>SIDECHAIN</th>\n",
       "      <th>DIST</th>\n",
       "      <th>DON_ANGLE</th>\n",
       "      <th>ACC_ANGLE</th>\n",
       "      <th>DON_IDX</th>\n",
       "      <th>DONORTYPE</th>\n",
       "      <th>ACC_IDX</th>\n",
       "      <th>ACCEPTORTYPE</th>\n",
       "      <th>LIGCOO</th>\n",
       "      <th>PROTCOO</th>\n",
       "    </tr>\n",
       "  </thead>\n",
       "  <tbody>\n",
       "  </tbody>\n",
       "</table>\n",
       "</div>"
      ]
     },
     "execution_count": 126,
     "metadata": {},
     "output_type": "execute_result"
    }
   ],
   "execution_count": 126
  },
  {
   "metadata": {
    "ExecuteTime": {
     "end_time": "2024-10-10T08:52:53.568048Z",
     "start_time": "2024-10-10T08:52:53.563966Z"
    }
   },
   "cell_type": "code",
   "source": [
    "# 保存卤素相互作用数据\n",
    "df_halogen = create_df_from_binding_site(interactions_by_site[selected_site], interaction_type=\"halogen\")\n",
    "df_halogen.to_csv(f\"{DATA}/halogen.csv\", index=False)"
   ],
   "id": "3a358f55d33eb2d6",
   "outputs": [],
   "execution_count": 127
  },
  {
   "metadata": {},
   "cell_type": "markdown",
   "source": [
    "### 可视化使用 NGLView ¶\n",
    "\n",
    "现在，让我们尝试在 NGL 查看器中展示这些相互作用。我们可以在相互作用点之间（ `LIGCOO` 和 `PROTCOO` 在 `pandas.DataFrame` 中）绘制圆柱体，并按照 `color_map` 中所示的颜色编码"
   ],
   "id": "b62c6da64abb6426"
  },
  {
   "metadata": {},
   "cell_type": "markdown",
   "source": "",
   "id": "194700ddce49eb0b"
  },
  {
   "metadata": {
    "ExecuteTime": {
     "end_time": "2024-10-10T08:53:37.053845Z",
     "start_time": "2024-10-10T08:53:37.049606Z"
    }
   },
   "cell_type": "code",
   "source": [
    "color_map = {\n",
    "    \"hydrophobic\": [0.90, 0.10, 0.29],\n",
    "    \"hbond\": [0.26, 0.83, 0.96],\n",
    "    \"waterbridge\": [1.00, 0.88, 0.10],\n",
    "    \"saltbridge\": [0.67, 1.00, 0.76],\n",
    "    \"pistacking\": [0.75, 0.94, 0.27],\n",
    "    \"pication\": [0.27, 0.60, 0.56],\n",
    "    \"halogen\": [0.94, 0.20, 0.90],\n",
    "    \"metal\": [0.90, 0.75, 1.00],\n",
    "}"
   ],
   "id": "52292573122af2c2",
   "outputs": [],
   "execution_count": 128
  },
  {
   "metadata": {
    "ExecuteTime": {
     "end_time": "2024-10-10T08:53:41.461640Z",
     "start_time": "2024-10-10T08:53:41.235355Z"
    }
   },
   "cell_type": "code",
   "source": [
    "fig, axs = plt.subplots(nrows=2, ncols=4, figsize=(15, 2))\n",
    "plt.subplots_adjust(hspace=1)\n",
    "fig.suptitle(\"Colors for interaction types\", size=16, y=1.2)\n",
    "\n",
    "for ax, (interaction, color) in zip(fig.axes, color_map.items()):\n",
    "    ax.imshow(np.zeros((1, 5)), cmap=colors.ListedColormap(color_map[interaction]))\n",
    "    ax.set_title(interaction, loc=\"center\")\n",
    "    ax.set_axis_off()\n",
    "plt.show()"
   ],
   "id": "5e5c1e230ad08513",
   "outputs": [
    {
     "data": {
      "text/plain": [
       "<Figure size 1500x200 with 8 Axes>"
      ],
      "image/png": "[encoded data removed]"
     },
     "metadata": {},
     "output_type": "display_data"
    }
   ],
   "execution_count": 129
  },
  {
   "metadata": {},
   "cell_type": "markdown",
   "source": "定义一个辅助函数以显示交互。",
   "id": "28cc072d60c6a68"
  },
  {
   "metadata": {
    "ExecuteTime": {
     "end_time": "2024-10-10T08:53:51.256841Z",
     "start_time": "2024-10-10T08:53:51.247718Z"
    }
   },
   "cell_type": "code",
   "source": [
    "def show_interactions_3d(\n",
    "    pdb_id, selected_site_interactions, highlight_interaction_colors=color_map\n",
    "):\n",
    "    \"\"\"\n",
    "    3D visualization of protein-ligand interactions.\n",
    "\n",
    "    Parameters\n",
    "    ----------\n",
    "    pdb_id : str\n",
    "        The pdb ID of interest.\n",
    "    selected_site_interactions : dict\n",
    "        Precaluclated interactions from PLIP for the selected site\n",
    "    highlight_interaction_colors : dict\n",
    "        The colors used to highlight the different interaction types.\n",
    "\n",
    "    Returns\n",
    "    -------\n",
    "    NGL viewer with explicit interactions given by PLIP.\n",
    "    \"\"\"\n",
    "\n",
    "    # Create NGLviewer\n",
    "    viewer = nv.NGLWidget(height=\"600px\", default=True, gui=True)\n",
    "    # Add protein\n",
    "    prot_component = viewer.add_pdbid(pdb_id)\n",
    "    # Add the ligands\n",
    "    viewer.add_representation(repr_type=\"ball+stick\", selection=\"hetero and not water\")\n",
    "\n",
    "    interacting_residues = []\n",
    "    for interaction_type, interaction_list in selected_site_interactions.items():\n",
    "        color = highlight_interaction_colors[interaction_type]\n",
    "        if len(interaction_list) == 1:\n",
    "            continue\n",
    "        df_interactions = pd.DataFrame.from_records(\n",
    "            interaction_list[1:], columns=interaction_list[0]\n",
    "        )\n",
    "        for _, interaction in df_interactions.iterrows():\n",
    "            name = interaction_type\n",
    "            # add cylinder between ligand and protein coordinate\n",
    "            viewer.shape.add_cylinder(\n",
    "                interaction[\"LIGCOO\"],\n",
    "                interaction[\"PROTCOO\"],\n",
    "                color,\n",
    "                [0.1],\n",
    "                name,\n",
    "            )\n",
    "            interacting_residues.append(interaction[\"RESNR\"])\n",
    "    # Display interacting residues\n",
    "    res_sele = \" or \".join([f\"({r} and not _H)\" for r in interacting_residues])\n",
    "    res_sele_nc = \" or \".join([f\"({r} and ((_O) or (_N) or (_S)))\" for r in interacting_residues])\n",
    "    prot_component.add_ball_and_stick(sele=res_sele, colorScheme=\"chainindex\", aspectRatio=1.5)\n",
    "    prot_component.add_ball_and_stick(sele=res_sele_nc, colorScheme=\"element\", aspectRatio=1.5)\n",
    "    # Center on ligand\n",
    "    viewer.center(\"ligand\")\n",
    "    return viewer"
   ],
   "id": "294958e3e2c04e38",
   "outputs": [],
   "execution_count": 130
  },
  {
   "metadata": {
    "ExecuteTime": {
     "end_time": "2024-10-10T08:53:56.152045Z",
     "start_time": "2024-10-10T08:53:55.985238Z"
    }
   },
   "cell_type": "code",
   "source": [
    "viewer_3d = show_interactions_3d(pdb_id, interactions_by_site[selected_site])\n",
    "viewer_3d"
   ],
   "id": "80f2692797a6b3f0",
   "outputs": [
    {
     "data": {
      "text/plain": [
       "NGLWidget()"
      ],
      "application/vnd.jupyter.widget-view+json": {
       "version_major": 2,
       "version_minor": 0,
       "model_id": "0a706ec4f4c34c23ba37753a152fa31a"
      }
     },
     "metadata": {},
     "output_type": "display_data"
    },
    {
     "data": {
      "text/plain": [
       "Tab(children=(Box(children=(Box(children=(Box(children=(Label(value='step'), IntSlider(value=1, min=-100)), la…"
      ],
      "application/vnd.jupyter.widget-view+json": {
       "version_major": 2,
       "version_minor": 0,
       "model_id": "4d4977d4ca7947dbb6d71dd881945984"
      }
     },
     "metadata": {},
     "output_type": "display_data"
    }
   ],
   "execution_count": 131
  },
  {
   "metadata": {
    "ExecuteTime": {
     "end_time": "2024-10-10T08:54:02.567939Z",
     "start_time": "2024-10-10T08:54:02.563140Z"
    }
   },
   "cell_type": "code",
   "source": "viewer_3d.render_image(trim=True, factor=2, transparent=True);",
   "id": "ffa7ae0bf7742ca2",
   "outputs": [],
   "execution_count": 132
  },
  {
   "metadata": {
    "ExecuteTime": {
     "end_time": "2024-10-10T08:54:05.978877Z",
     "start_time": "2024-10-10T08:54:05.974252Z"
    }
   },
   "cell_type": "code",
   "source": "viewer_3d._display_image()",
   "id": "70d172ef70a6a682",
   "outputs": [
    {
     "data": {
      "image/png": "",
      "text/plain": [
       "<IPython.core.display.Image object>"
      ]
     },
     "execution_count": 133,
     "metadata": {},
     "output_type": "execute_result"
    }
   ],
   "execution_count": 133
  },
  {
   "metadata": {},
   "cell_type": "code",
   "outputs": [],
   "execution_count": null,
   "source": "",
   "id": "f9cb55b2669e5afd"
  }
 ],
 "metadata": {
  "kernelspec": {
   "display_name": "Python 3",
   "language": "python",
   "name": "python3"
  },
  "language_info": {
   "codemirror_mode": {
    "name": "ipython",
    "version": 2
   },
   "file_extension": ".py",
   "mimetype": "text/x-python",
   "name": "python",
   "nbconvert_exporter": "python",
   "pygments_lexer": "ipython2",
   "version": "2.7.6"
  }
 },
 "nbformat": 4,
 "nbformat_minor": 5
}

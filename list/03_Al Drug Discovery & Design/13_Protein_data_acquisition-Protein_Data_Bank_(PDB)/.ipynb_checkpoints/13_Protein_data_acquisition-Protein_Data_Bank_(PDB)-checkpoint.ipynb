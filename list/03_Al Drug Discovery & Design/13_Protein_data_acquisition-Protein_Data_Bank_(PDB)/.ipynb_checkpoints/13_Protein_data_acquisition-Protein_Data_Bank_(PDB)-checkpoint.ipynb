{
 "cells": [
  {
   "cell_type": "markdown",
   "id": "eb923f0f2f28a66d",
   "metadata": {
    "collapsed": false,
    "jupyter": {
     "outputs_hidden": false
    }
   },
   "source": [
    "本研究旨在利用人工智能技术设计针对表皮生长因子受体（AURKA）的药物，以治疗胶质母细胞瘤。在研究的初期阶段，我们专注于从蛋白质数据库（PDB）中收集并处理AURKA的相关数据。首先，我们从PDB中检索符合高分辨率配体结合结构标准的AURKA条目。这些数据通过X射线晶体学、核磁共振（NMR）和冷冻电子显微镜（cryo-EM）等技术获取，确保了数据的准确性和可靠性。\n",
    "\n",
    "为了筛选出最佳的蛋白质-配体复合物结构，我们采用了Python包biotite和pypdb。通过这些工具，我们能够有效地检索、筛选并提取符合特定标准的PDB条目。具体而言，我们首先筛选出结构分辨率最高的条目，并进一步提取这些结构中的配体元数据。接下来，我们使用分子可视化工具绘制配体分子结构，并创建蛋白质-配体ID对，记录相关信息以备后续研究使用。\n",
    "\n",
    "在所有筛选出的结构中，我们进行了对齐操作，以确保数据的一致性和准确性。最终，我们提取并保存了所有符合标准的配体结构，为后续的药效团生成和药物设计奠定了坚实的基础。\n",
    "\n",
    "通过上述方法，我们不仅能够有效地收集并处理大量的结构数据，还能为基于配体的药物设计提供高质量的结构信息支持。这一过程中的关键步骤和技术手段确保了数据的高精度和高可靠性，为进一步的人工智能药物设计研究打下了坚实的基础。"
   ]
  },
  {
   "cell_type": "code",
   "id": "initial_id",
   "metadata": {
    "ExecuteTime": {
     "end_time": "2024-10-10T06:22:44.957559Z",
     "start_time": "2024-10-10T06:22:44.952239Z"
    }
   },
   "source": [
    "import collections\n",
    "import logging\n",
    "import pathlib\n",
    "import time\n",
    "import warnings\n",
    "import datetime\n",
    "\n",
    "import pandas as pd\n",
    "import matplotlib.pyplot as plt\n",
    "from bs4 import BeautifulSoup\n",
    "import requests\n",
    "from tqdm.auto import tqdm\n",
    "import redo\n",
    "import requests_cache\n",
    "import nglview\n",
    "import pypdb\n",
    "import biotite.database.rcsb as rcsb\n",
    "from rdkit.Chem import Draw\n",
    "from rdkit.Chem import PandasTools\n",
    "\n",
    "from opencadd.structure.superposition.api import align, METHODS\n",
    "from opencadd.structure.core import Structure\n",
    "\n",
    "# Disable some unneeded warnings\n",
    "logger = logging.getLogger(\"opencadd\")\n",
    "logger.setLevel(logging.ERROR)\n",
    "warnings.filterwarnings(\"ignore\")\n",
    "\n",
    "# Cache requests -- this will speed up repeated queries to PDB\n",
    "requests_cache.install_cache(\"rcsb_pdb\", backend=\"memory\")"
   ],
   "outputs": [],
   "execution_count": 3
  },
  {
   "cell_type": "code",
   "id": "7bf364bc56bd764a",
   "metadata": {
    "collapsed": false,
    "jupyter": {
     "outputs_hidden": false
    },
    "ExecuteTime": {
     "end_time": "2024-10-10T06:22:46.385961Z",
     "start_time": "2024-10-10T06:22:46.380983Z"
    }
   },
   "source": [
    "from pathlib import Path\n",
    "import os\n",
    "\n",
    "# 获取当前工作目录\n",
    "HERE = Path(os.getcwd())\n",
    "DATA = HERE / 'data'\n",
    "if not DATA.exists():\n",
    "    DATA.mkdir(parents=True, exist_ok=True)\n",
    "print(DATA)\n"
   ],
   "outputs": [
    {
     "name": "stdout",
     "output_type": "stream",
     "text": [
      "/Users/wangyang/Desktop/Breast_cancer_brain_metastasis/wang_Gene/AIDD/13_Protein_data_acquisition-Protein_Data_Bank_(PDB)/data\n"
     ]
    }
   ],
   "execution_count": 4
  },
  {
   "cell_type": "markdown",
   "id": "209acba3e2807dff",
   "metadata": {
    "collapsed": false,
    "jupyter": {
     "outputs_hidden": false
    }
   },
   "source": [
    "### 选择查询蛋白 ¶\n",
    "\n",
    "我们使用 AURKA 作为本演讲的查询蛋白。 AURKA 的 UniProt ID 为 `O14965` ，下面将使用该 ID 来查询 PDB 数据库。"
   ]
  },
  {
   "cell_type": "code",
   "id": "ccdfc67aeb3f854c",
   "metadata": {
    "collapsed": false,
    "jupyter": {
     "outputs_hidden": false
    },
    "ExecuteTime": {
     "end_time": "2024-10-10T06:22:46.862282Z",
     "start_time": "2024-10-10T06:22:46.859668Z"
    }
   },
   "source": "uniprot_id = \"O14965\"",
   "outputs": [],
   "execution_count": 5
  },
  {
   "cell_type": "markdown",
   "id": "63f8ba176495a2f8",
   "metadata": {
    "collapsed": false,
    "jupyter": {
     "outputs_hidden": false
    }
   },
   "source": [
    "### 获取查询蛋白质的 PDB 条目数 ¶\n",
    "\n",
    "AURKA 的 PDB 中有多少可用结构（在本笔记本上次运行时）？"
   ]
  },
  {
   "cell_type": "code",
   "id": "63f73fa44e68eda3",
   "metadata": {
    "collapsed": false,
    "jupyter": {
     "outputs_hidden": false
    },
    "ExecuteTime": {
     "end_time": "2024-10-10T06:22:49.244054Z",
     "start_time": "2024-10-10T06:22:48.235791Z"
    }
   },
   "source": [
    "query_by_uniprot_id = rcsb.FieldQuery(\n",
    "    \"rcsb_polymer_entity_container_identifiers.reference_sequence_identifiers.database_accession\",\n",
    "    exact_match=uniprot_id,\n",
    ")\n",
    "today = datetime.datetime.now()\n",
    "print(\n",
    "    f\"结构数 {today.year}-{today.month}-{today.day}: {rcsb.count(query_by_uniprot_id)}\"\n",
    ")"
   ],
   "outputs": [
    {
     "name": "stdout",
     "output_type": "stream",
     "text": [
      "结构数 2024-10-10: 186\n"
     ]
    }
   ],
   "execution_count": 6
  },
  {
   "cell_type": "markdown",
   "id": "249ff7f07464d8eb",
   "metadata": {
    "collapsed": false,
    "jupyter": {
     "outputs_hidden": false
    }
   },
   "source": [
    "自 1971 年 PDB 成立以来，每年有多少个可用结构？"
   ]
  },
  {
   "cell_type": "code",
   "id": "9987360bf15ebb32",
   "metadata": {
    "collapsed": false,
    "jupyter": {
     "outputs_hidden": false
    },
    "ExecuteTime": {
     "end_time": "2024-10-10T06:28:01.319347Z",
     "start_time": "2024-10-10T06:26:15.767440Z"
    }
   },
   "source": [
    "# 确定年份清单和特定年份的可用结构数量\n",
    "years = range(1971, datetime.datetime.now().year)\n",
    "n_structures = []\n",
    "\n",
    "for year in years:\n",
    "    # 设定允许沉积的最晚日期\n",
    "    before_deposition_date = f\"{year}-12-31T23:59:59Z\"\n",
    "    # 对最近给定日期存放的结构建立查询\n",
    "    query_by_deposition_date = rcsb.FieldQuery(\n",
    "        \"rcsb_accession_info.deposit_date\", less_or_equal=before_deposition_date\n",
    "    )\n",
    "    # 建立组合查询\n",
    "    query = rcsb.CompositeQuery(\n",
    "        [query_by_uniprot_id, query_by_deposition_date],\n",
    "        \"and\",\n",
    "    )\n",
    "    # 统计匹配结构并添加到列表中\n",
    "    n_structures.append(rcsb.count(query))\n",
    "    # 稍候，以免 API 超载\n",
    "    time.sleep(0.1)"
   ],
   "outputs": [],
   "execution_count": 9
  },
  {
   "cell_type": "markdown",
   "id": "5c1dab0983867b68",
   "metadata": {
    "collapsed": false,
    "jupyter": {
     "outputs_hidden": false
    }
   },
   "source": [
    "绘制结果！"
   ]
  },
  {
   "cell_type": "code",
   "id": "7fedf9852e6479ce",
   "metadata": {
    "collapsed": false,
    "jupyter": {
     "outputs_hidden": false
    },
    "ExecuteTime": {
     "end_time": "2024-10-10T06:28:06.566047Z",
     "start_time": "2024-10-10T06:28:06.385636Z"
    }
   },
   "source": [
    "# 防止中文乱码\n",
    "plt.rcParams['font.sans-serif'] = ['SimHei']\n",
    "plt.rcParams['axes.unicode_minus'] = False\n",
    "plt.plot(years, n_structures)\n",
    "plt.title(\"PDB entry of O14965 receptor\")\n",
    "plt.xlabel(\"Year\")\n",
    "plt.ylabel(\"The number of structures available in a given year\");"
   ],
   "outputs": [
    {
     "data": {
      "text/plain": [
       "<Figure size 640x480 with 1 Axes>"
      ],
      "image/png": "[encoded data removed]"
     },
     "metadata": {},
     "output_type": "display_data"
    }
   ],
   "execution_count": 10
  },
  {
   "cell_type": "markdown",
   "id": "95c64e632d174c56",
   "metadata": {
    "collapsed": false,
    "jupyter": {
     "outputs_hidden": false
    }
   },
   "source": [
    "### 查找满足某些条件的 PDB 条目 ¶\n",
    "\n",
    "我们将搜索描述 PDB 中满足以下条件的结构的 PDB ID：\n",
    "\n",
    "- UniProt ID O14965 的结构：这是我们感兴趣的目标，AURKA！\n",
    "- 2024 年之前沉积的结构：此步骤用于内部维护目的。我们只会考虑 2024 年之前沉积的结构。这样，随着时间的推移，该笔记本的结果将保持不变，从而使我们能够通过持续集成 (CI) 检查该笔记本是否不会停止服务。\n",
    "- 通过 X 射线晶体学解析结构：我们可以包括所有方法，但让我们查看 API 以了解如何选择实验方法。\n",
    "- 结构的分辨率小于或等于3.0：分辨率值越低，结构的质量越高，即指定的原子3D坐标正确的确定性。可以确定低于 3 Å 的原子取向。因此，该阈值通常用于与基于结构的药物设计相关的结构。\n",
    "- 结构只有一条链：我们这样做是为了让以后的生活更轻松。\n",
    "- 结构中有分子量大于100.0 Da的配体：PDB注释的配体可以是配体，也可以是溶剂和离子。为了仅过滤配体结合的结构，我们仅保留具有至少 100.0 Da 的注释配体的结构（许多溶剂和离子重量更轻）。注意：这是简单但不全面的溶剂和离子排除。\n",
    "\n",
    "我们再次使用 `biotite` 包根据以下组合查询来查询 PDB ID："
   ]
  },
  {
   "cell_type": "markdown",
   "id": "b38ddf0d68f488a7",
   "metadata": {
    "collapsed": false,
    "jupyter": {
     "outputs_hidden": false
    }
   },
   "source": [
    "我们定义我们的标准。"
   ]
  },
  {
   "cell_type": "code",
   "id": "d1da9d74eb8bd41e",
   "metadata": {
    "collapsed": false,
    "jupyter": {
     "outputs_hidden": false
    },
    "ExecuteTime": {
     "end_time": "2024-10-10T06:28:08.602539Z",
     "start_time": "2024-10-10T06:28:08.599123Z"
    }
   },
   "source": [
    "uniprot_id = \"O14965\"\n",
    "before_deposition_date = \"2024-06-01T00:00:00Z\"\n",
    "experimental_method = \"X-RAY DIFFRACTION\"\n",
    "max_resolution = 3.0\n",
    "n_chains = 1\n",
    "min_ligand_molecular_weight = 100.0"
   ],
   "outputs": [],
   "execution_count": 11
  },
  {
   "cell_type": "markdown",
   "id": "56d049ecf850fcb8",
   "metadata": {
    "collapsed": false,
    "jupyter": {
     "outputs_hidden": false
    }
   },
   "source": [
    "我们设置每个查询。"
   ]
  },
  {
   "cell_type": "code",
   "id": "1dcabd9756906978",
   "metadata": {
    "collapsed": false,
    "jupyter": {
     "outputs_hidden": false
    },
    "ExecuteTime": {
     "end_time": "2024-10-10T06:28:09.576758Z",
     "start_time": "2024-10-10T06:28:09.572370Z"
    }
   },
   "source": [
    "query_by_uniprot_id = rcsb.FieldQuery(\n",
    "    \"rcsb_polymer_entity_container_identifiers.reference_sequence_identifiers.database_accession\",\n",
    "    exact_match=uniprot_id,\n",
    ")\n",
    "query_by_deposition_date = rcsb.FieldQuery(\n",
    "    \"rcsb_accession_info.deposit_date\", less=before_deposition_date\n",
    ")\n",
    "query_by_experimental_method = rcsb.FieldQuery(\"exptl.method\", exact_match=experimental_method)\n",
    "query_by_resolution = rcsb.FieldQuery(\n",
    "    \"rcsb_entry_info.resolution_combined\", less_or_equal=max_resolution\n",
    ")\n",
    "query_by_polymer_count = rcsb.FieldQuery(\n",
    "    \"rcsb_entry_info.deposited_polymer_entity_instance_count\", equals=n_chains\n",
    ")\n",
    "query_by_ligand_mw = rcsb.FieldQuery(\n",
    "    \"chem_comp.formula_weight\", molecular_definition=True, greater=min_ligand_molecular_weight\n",
    ")"
   ],
   "outputs": [],
   "execution_count": 12
  },
  {
   "cell_type": "markdown",
   "id": "3b39aac67af70ab2",
   "metadata": {
    "collapsed": false,
    "jupyter": {
     "outputs_hidden": false
    }
   },
   "source": [
    "我们单独执行每个查询并检查每个条件的匹配数。"
   ]
  },
  {
   "cell_type": "code",
   "id": "7ceb632384b70380",
   "metadata": {
    "collapsed": false,
    "jupyter": {
     "outputs_hidden": false
    },
    "ExecuteTime": {
     "end_time": "2024-10-10T06:28:22.959461Z",
     "start_time": "2024-10-10T06:28:10.743639Z"
    }
   },
   "source": [
    "print(f\"具有Uniprot蛋白数据库身份标识号的结构数量 {uniprot_id}: {rcsb.count(query_by_uniprot_id)}\")\n",
    "time.sleep(0.1)  # wait shortly to not overload the API\n",
    "print(\n",
    "    f\"之前沉积的结构数量 {before_deposition_date}: {rcsb.count(query_by_deposition_date)}\"\n",
    ")\n",
    "time.sleep(0.1)\n",
    "print(\n",
    "    f\"分解的结构数 {experimental_method}: {rcsb.count(query_by_experimental_method)}\"\n",
    ")\n",
    "time.sleep(0.1)\n",
    "print(\n",
    "    f\"分辨率小于或等于的结构数 {max_resolution}: {rcsb.count(query_by_resolution)}\"\n",
    ")\n",
    "time.sleep(0.1)\n",
    "print(f\"仅有的结构数量 {n_chains} chain: {rcsb.count(query_by_polymer_count)}\")\n",
    "time.sleep(0.1)\n",
    "print(\n",
    "    f\"配体大于或等于的结构数目 {min_ligand_molecular_weight} Da: {rcsb.count(query_by_ligand_mw)}\"\n",
    ")"
   ],
   "outputs": [
    {
     "name": "stdout",
     "output_type": "stream",
     "text": [
      "具有Uniprot蛋白数据库身份标识号的结构数量 O14965: 186\n",
      "之前沉积的结构数量 2024-06-01T00:00:00Z: 225387\n",
      "分解的结构数 X-RAY DIFFRACTION: 188438\n",
      "分辨率小于或等于的结构数 3.0: 182729\n",
      "仅有的结构数量 1 chain: 79981\n",
      "配体大于或等于的结构数目 100.0 Da: 225945\n"
     ]
    }
   ],
   "execution_count": 13
  },
  {
   "cell_type": "markdown",
   "id": "e91d0bce4706e09",
   "metadata": {
    "collapsed": false,
    "jupyter": {
     "outputs_hidden": false
    }
   },
   "source": [
    "我们将所有查询与 and 运算符结合起来，以仅匹配满足所有条件的 PDB ID。"
   ]
  },
  {
   "cell_type": "code",
   "id": "af892d72396efb64",
   "metadata": {
    "collapsed": false,
    "jupyter": {
     "outputs_hidden": false
    },
    "ExecuteTime": {
     "end_time": "2024-10-10T06:28:32.651631Z",
     "start_time": "2024-10-10T06:28:22.985199Z"
    }
   },
   "source": [
    "query = rcsb.CompositeQuery(\n",
    "    [\n",
    "        query_by_uniprot_id,\n",
    "        query_by_deposition_date,\n",
    "        query_by_experimental_method,\n",
    "        query_by_resolution,\n",
    "        query_by_polymer_count,\n",
    "        query_by_ligand_mw,\n",
    "    ],\n",
    "    \"and\",\n",
    ")\n",
    "pdb_ids = rcsb.search(query)\n",
    "print(f\"匹配数量s: {len(pdb_ids)}\")\n",
    "print(\"选择了Pdb IDS:\")\n",
    "print(*pdb_ids)"
   ],
   "outputs": [
    {
     "name": "stdout",
     "output_type": "stream",
     "text": [
      "匹配数量s: 132\n",
      "选择了Pdb IDS:\n",
      "1MQ4 1MUO 1OL6 1OL7 2C6D 2DWB 2NP8 2W1D 2W1E 2W1F 2W1G 2WQE 2X6D 2X81 2XNE 2XNG 2XRU 3FDN 3H0Y 3K5U 3LAU 3M11 3MYG 3P9J 3R21 3R22 3UO4 3UO5 3UOD 3UP2 3VAP 3W10 3W16 4B0G 4BN1 4BYI 4BYJ 4C3R 4CEG 4DEA 4DEE 4J8M 4JAJ 4JBO 4JBP 4JBQ 4O0S 4O0U 4O0W 4PRJ 4UYN 4UZH 4ZS0 4ZTQ 4ZTR 4ZTS 5AAF 5AAG 5DN3 5DNR 5DOS 5DPV 5DR2 5DR6 5DR9 5DRD 5DT0 5DT3 5DT4 5EW9 5OBJ 5OBR 5ONE 5ORL 5ORN 5ORO 5ORP 5ORR 5ORS 5ORT 5ORV 5ORW 5ORX 5ORY 5ORZ 5OS0 5OS1 5OS2 5OS3 5OS4 5OS5 5OS6 5OSD 5OSE 5OSF 5ZAN 6C2R 6C2T 6CPE 6CPF 6GRA 6HJJ 6HJK 6I2U 6R49 6R4A 6R4B 6R4C 6R4D 6VPG 6VPH 6VPI 6VPJ 6XKA 6Z4Y 7AYH 7AYI 7FIC 8C14 8C15 8C1D 8C1E 8C1F 8C1G 8C1H 8C1I 8C1K 8C1M 8JF4 8JG8 8JMX 8OF5\n"
     ]
    }
   ],
   "execution_count": 14
  },
  {
   "cell_type": "markdown",
   "id": "95f29a1c43d212b5",
   "metadata": {
    "collapsed": false,
    "jupyter": {
     "outputs_hidden": false
    }
   },
   "source": [
    "### 选择最高分辨率的 PDB 条目 ¶\n",
    "\n",
    "到目前为止，我们已经使用某些搜索条件来查找感兴趣的 PDB 条目。\n",
    "\n",
    "目前，我们无法直接通过 `biotite` 访问结构体的分辨率；使用 `biotite` 我们只能检查分辨率是否满足特定条件。相反，我们下载所选 PDB ID 的完整元数据。为此，我们使用 `pypdb` 包中的方法 `describe_pdb` 。每个结构的元数据都作为字典返回。\n",
    "\n",
    "注意：我们在这里只获取 PDB 结构的元信息，我们还没有获取结构（3D 坐标）。"
   ]
  },
  {
   "cell_type": "markdown",
   "id": "99d64ffb24690570",
   "metadata": {
    "collapsed": false,
    "jupyter": {
     "outputs_hidden": false
    }
   },
   "source": [
    "redo.retriable 行是一个装饰器。这包装了该函数并提供了额外的功能。在这种情况下，它将自动重试失败的查询（最多 10 次）。"
   ]
  },
  {
   "cell_type": "code",
   "id": "8d410fbe49374126",
   "metadata": {
    "collapsed": false,
    "jupyter": {
     "outputs_hidden": false
    },
    "ExecuteTime": {
     "end_time": "2024-10-10T06:28:39.361807Z",
     "start_time": "2024-10-10T06:28:39.357484Z"
    }
   },
   "source": [
    "@redo.retriable(attempts=10, sleeptime=2)\n",
    "def describe_one_pdb_id(pdb_id):\n",
    "    \"\"\"Fetch meta information from PDB.\"\"\"\n",
    "    described = pypdb.describe_pdb(pdb_id)\n",
    "    if described is None:\n",
    "        print(f\"! Error while fetching {pdb_id}, retrying ...\")\n",
    "        raise ValueError(f\"Could not fetch PDB id {pdb_id}\")\n",
    "    return described"
   ],
   "outputs": [],
   "execution_count": 15
  },
  {
   "cell_type": "code",
   "id": "a126e92d406617b6",
   "metadata": {
    "collapsed": false,
    "jupyter": {
     "outputs_hidden": false
    },
    "ExecuteTime": {
     "end_time": "2024-10-10T06:31:57.892997Z",
     "start_time": "2024-10-10T06:29:49.116935Z"
    }
   },
   "source": [
    "pdbs_data = [describe_one_pdb_id(pdb_id) for pdb_id in tqdm(pdb_ids)]"
   ],
   "outputs": [
    {
     "data": {
      "text/plain": [
       "  0%|          | 0/132 [00:00<?, ?it/s]"
      ],
      "application/vnd.jupyter.widget-view+json": {
       "version_major": 2,
       "version_minor": 0,
       "model_id": "c72b2b195b914c96967e6ffd3bac783f"
      }
     },
     "metadata": {},
     "output_type": "display_data"
    }
   ],
   "execution_count": 17
  },
  {
   "cell_type": "markdown",
   "id": "4fdee7fcf44e8348",
   "metadata": {
    "collapsed": false,
    "jupyter": {
     "outputs_hidden": false
    }
   },
   "source": [
    "让我们看一下第一个 PDB ID 的元数据（键只是因为字典包含很多信息，我们不想在这里打印）。在 PDB 结构和 PDBx/mmCIF 格式初学者指南中查找有关 PDB 元数据的更多信息。"
   ]
  },
  {
   "cell_type": "code",
   "id": "8c7635c80663f8f1",
   "metadata": {
    "collapsed": false,
    "jupyter": {
     "outputs_hidden": false
    },
    "ExecuteTime": {
     "end_time": "2024-10-10T06:32:21.498423Z",
     "start_time": "2024-10-10T06:32:21.494736Z"
    }
   },
   "source": [
    "print(\"\\n\".join(pdbs_data[0].keys()))"
   ],
   "outputs": [
    {
     "name": "stdout",
     "output_type": "stream",
     "text": [
      "audit_author\n",
      "cell\n",
      "citation\n",
      "diffrn\n",
      "diffrn_detector\n",
      "diffrn_radiation\n",
      "diffrn_source\n",
      "entry\n",
      "exptl\n",
      "exptl_crystal\n",
      "exptl_crystal_grow\n",
      "pdbx_audit_revision_category\n",
      "pdbx_audit_revision_details\n",
      "pdbx_audit_revision_group\n",
      "pdbx_audit_revision_history\n",
      "pdbx_audit_revision_item\n",
      "pdbx_database_related\n",
      "pdbx_database_status\n",
      "pdbx_initial_refinement_model\n",
      "rcsb_accession_info\n",
      "rcsb_entry_container_identifiers\n",
      "rcsb_entry_info\n",
      "rcsb_primary_citation\n",
      "refine\n",
      "refine_analyze\n",
      "refine_hist\n",
      "refine_ls_restr\n",
      "reflns\n",
      "reflns_shell\n",
      "software\n",
      "struct\n",
      "struct_keywords\n",
      "symmetry\n",
      "rcsb_id\n"
     ]
    }
   ],
   "execution_count": 18
  },
  {
   "cell_type": "markdown",
   "id": "143ed3355244af5c",
   "metadata": {
    "collapsed": false,
    "jupyter": {
     "outputs_hidden": false
    }
   },
   "source": [
    "让我们仔细看看我们感兴趣的两个键：包含 PDB ID ( \"id\" ) 的 \"entry\" 键和包含 PDB ID ( \"id\" ) 的 \"rcsb_entry_info\" 键。其中包含结构的分辨率 ( \"resolution_combined\" )。"
   ]
  },
  {
   "cell_type": "code",
   "id": "ffc2a037fc64583",
   "metadata": {
    "collapsed": false,
    "jupyter": {
     "outputs_hidden": false
    },
    "ExecuteTime": {
     "end_time": "2024-10-10T06:32:23.263074Z",
     "start_time": "2024-10-10T06:32:23.258399Z"
    }
   },
   "source": [
    "pdbs_data[0][\"entry\"]"
   ],
   "outputs": [
    {
     "data": {
      "text/plain": [
       "{'id': '1MQ4'}"
      ]
     },
     "execution_count": 19,
     "metadata": {},
     "output_type": "execute_result"
    }
   ],
   "execution_count": 19
  },
  {
   "cell_type": "code",
   "id": "e3e1843156dfc0e8",
   "metadata": {
    "collapsed": false,
    "jupyter": {
     "outputs_hidden": false
    },
    "ExecuteTime": {
     "end_time": "2024-10-10T06:32:24.131628Z",
     "start_time": "2024-10-10T06:32:24.124671Z"
    }
   },
   "source": [
    "pdbs_data[0][\"rcsb_entry_info\"]"
   ],
   "outputs": [
    {
     "data": {
      "text/plain": [
       "{'assembly_count': 1,\n",
       " 'branched_entity_count': 0,\n",
       " 'cis_peptide_count': 0,\n",
       " 'deposited_atom_count': 2211,\n",
       " 'deposited_deuterated_water_count': 0,\n",
       " 'deposited_hydrogen_atom_count': 0,\n",
       " 'deposited_model_count': 1,\n",
       " 'deposited_modeled_polymer_monomer_count': 261,\n",
       " 'deposited_nonpolymer_entity_instance_count': 4,\n",
       " 'deposited_polymer_entity_instance_count': 1,\n",
       " 'deposited_polymer_monomer_count': 272,\n",
       " 'deposited_solvent_atom_count': 72,\n",
       " 'deposited_unmodeled_polymer_monomer_count': 11,\n",
       " 'diffrn_radiation_wavelength_maximum': 1.0,\n",
       " 'diffrn_radiation_wavelength_minimum': 1.0,\n",
       " 'disulfide_bond_count': 0,\n",
       " 'entity_count': 5,\n",
       " 'experimental_method': 'X-ray',\n",
       " 'experimental_method_count': 1,\n",
       " 'inter_mol_covalent_bond_count': 0,\n",
       " 'inter_mol_metalic_bond_count': 13,\n",
       " 'molecular_weight': 32.01,\n",
       " 'na_polymer_entity_types': 'Other',\n",
       " 'nonpolymer_bound_components': ['ADP', 'MG'],\n",
       " 'nonpolymer_entity_count': 3,\n",
       " 'nonpolymer_molecular_weight_maximum': 0.43,\n",
       " 'nonpolymer_molecular_weight_minimum': 0.02,\n",
       " 'polymer_composition': 'homomeric protein',\n",
       " 'polymer_entity_count': 1,\n",
       " 'polymer_entity_count_dna': 0,\n",
       " 'polymer_entity_count_rna': 0,\n",
       " 'polymer_entity_count_nucleic_acid': 0,\n",
       " 'polymer_entity_count_nucleic_acid_hybrid': 0,\n",
       " 'polymer_entity_count_protein': 1,\n",
       " 'polymer_entity_taxonomy_count': 1,\n",
       " 'polymer_molecular_weight_maximum': 31.44,\n",
       " 'polymer_molecular_weight_minimum': 31.44,\n",
       " 'polymer_monomer_count_maximum': 272,\n",
       " 'polymer_monomer_count_minimum': 272,\n",
       " 'resolution_combined': [1.9],\n",
       " 'selected_polymer_entity_types': 'Protein (only)',\n",
       " 'software_programs_combined': ['AMORE', 'CCP4', 'MOSFLM', 'REFMAC', 'SCALA'],\n",
       " 'solvent_entity_count': 1,\n",
       " 'structure_determination_methodology': 'experimental',\n",
       " 'structure_determination_methodology_priority': 10,\n",
       " 'diffrn_resolution_high': {'provenance_source': 'Depositor assigned',\n",
       "  'value': 1.6}}"
      ]
     },
     "execution_count": 20,
     "metadata": {},
     "output_type": "execute_result"
    }
   ],
   "execution_count": 20
  },
  {
   "cell_type": "markdown",
   "id": "c31cd8b0fcca6aef",
   "metadata": {
    "collapsed": false,
    "jupyter": {
     "outputs_hidden": false
    }
   },
   "source": [
    "现在，我们将每个 PDB ID 的分辨率保存为 pandas DataFrame，按分辨率升序排序。"
   ]
  },
  {
   "cell_type": "code",
   "id": "9d8732e2b2b0605d",
   "metadata": {
    "collapsed": false,
    "jupyter": {
     "outputs_hidden": false
    },
    "ExecuteTime": {
     "end_time": "2024-10-10T06:32:26.033448Z",
     "start_time": "2024-10-10T06:32:25.988837Z"
    }
   },
   "source": [
    "resolution = pd.DataFrame(\n",
    "    [\n",
    "        [pdb_data[\"entry\"][\"id\"], pdb_data[\"rcsb_entry_info\"][\"resolution_combined\"][0]]\n",
    "        for pdb_data in pdbs_data\n",
    "    ],\n",
    "    columns=[\"pdb_id\", \"resolution\"],\n",
    ").sort_values(by=\"resolution\", ignore_index=True)\n",
    "resolution"
   ],
   "outputs": [
    {
     "data": {
      "text/plain": [
       "    pdb_id  resolution\n",
       "0     5ORL    1.690000\n",
       "1     6C2T    1.730000\n",
       "2     5OS0    1.740000\n",
       "3     5OS5    1.740000\n",
       "4     5OS3    1.810000\n",
       "..     ...         ...\n",
       "127   8JMX    2.950202\n",
       "128   2W1D    2.970000\n",
       "129   5DOS    2.980000\n",
       "130   1OL6    3.000000\n",
       "131   4ZS0    3.000000\n",
       "\n",
       "[132 rows x 2 columns]"
      ],
      "text/html": [
       "<div>\n",
       "<style scoped>\n",
       "    .dataframe tbody tr th:only-of-type {\n",
       "        vertical-align: middle;\n",
       "    }\n",
       "\n",
       "    .dataframe tbody tr th {\n",
       "        vertical-align: top;\n",
       "    }\n",
       "\n",
       "    .dataframe thead th {\n",
       "        text-align: right;\n",
       "    }\n",
       "</style>\n",
       "<table border=\"1\" class=\"dataframe\">\n",
       "  <thead>\n",
       "    <tr style=\"text-align: right;\">\n",
       "      <th></th>\n",
       "      <th>pdb_id</th>\n",
       "      <th>resolution</th>\n",
       "    </tr>\n",
       "  </thead>\n",
       "  <tbody>\n",
       "    <tr>\n",
       "      <th>0</th>\n",
       "      <td>5ORL</td>\n",
       "      <td>1.690000</td>\n",
       "    </tr>\n",
       "    <tr>\n",
       "      <th>1</th>\n",
       "      <td>6C2T</td>\n",
       "      <td>1.730000</td>\n",
       "    </tr>\n",
       "    <tr>\n",
       "      <th>2</th>\n",
       "      <td>5OS0</td>\n",
       "      <td>1.740000</td>\n",
       "    </tr>\n",
       "    <tr>\n",
       "      <th>3</th>\n",
       "      <td>5OS5</td>\n",
       "      <td>1.740000</td>\n",
       "    </tr>\n",
       "    <tr>\n",
       "      <th>4</th>\n",
       "      <td>5OS3</td>\n",
       "      <td>1.810000</td>\n",
       "    </tr>\n",
       "    <tr>\n",
       "      <th>...</th>\n",
       "      <td>...</td>\n",
       "      <td>...</td>\n",
       "    </tr>\n",
       "    <tr>\n",
       "      <th>127</th>\n",
       "      <td>8JMX</td>\n",
       "      <td>2.950202</td>\n",
       "    </tr>\n",
       "    <tr>\n",
       "      <th>128</th>\n",
       "      <td>2W1D</td>\n",
       "      <td>2.970000</td>\n",
       "    </tr>\n",
       "    <tr>\n",
       "      <th>129</th>\n",
       "      <td>5DOS</td>\n",
       "      <td>2.980000</td>\n",
       "    </tr>\n",
       "    <tr>\n",
       "      <th>130</th>\n",
       "      <td>1OL6</td>\n",
       "      <td>3.000000</td>\n",
       "    </tr>\n",
       "    <tr>\n",
       "      <th>131</th>\n",
       "      <td>4ZS0</td>\n",
       "      <td>3.000000</td>\n",
       "    </tr>\n",
       "  </tbody>\n",
       "</table>\n",
       "<p>132 rows × 2 columns</p>\n",
       "</div>"
      ]
     },
     "execution_count": 21,
     "metadata": {},
     "output_type": "execute_result"
    }
   ],
   "execution_count": 21
  },
  {
   "cell_type": "markdown",
   "id": "7519f906c899d65d",
   "metadata": {
    "collapsed": false,
    "jupyter": {
     "outputs_hidden": false
    }
   },
   "source": [
    "从顶层结构获取配体的元数据 ¶"
   ]
  },
  {
   "cell_type": "code",
   "id": "c61144c24713c998",
   "metadata": {
    "collapsed": false,
    "jupyter": {
     "outputs_hidden": false
    },
    "ExecuteTime": {
     "end_time": "2024-10-10T06:32:29.189751Z",
     "start_time": "2024-10-10T06:32:29.186547Z"
    }
   },
   "source": [
    "top_num = 10 # 顶部结构数量"
   ],
   "outputs": [],
   "execution_count": 22
  },
  {
   "cell_type": "code",
   "id": "79ed10210d58aeac",
   "metadata": {
    "collapsed": false,
    "jupyter": {
     "outputs_hidden": false
    },
    "ExecuteTime": {
     "end_time": "2024-10-10T06:32:29.964134Z",
     "start_time": "2024-10-10T06:32:29.959078Z"
    }
   },
   "source": [
    "top_num"
   ],
   "outputs": [
    {
     "data": {
      "text/plain": [
       "10"
      ]
     },
     "execution_count": 23,
     "metadata": {},
     "output_type": "execute_result"
    }
   ],
   "execution_count": 23
  },
  {
   "cell_type": "markdown",
   "id": "ad54db55ebab8df",
   "metadata": {
    "collapsed": false,
    "jupyter": {
     "outputs_hidden": false
    }
   },
   "source": [
    "在下一节中，我们将以最高分辨率从顶部 top_num 结构构建基于配体的整体药效团"
   ]
  },
  {
   "cell_type": "code",
   "id": "553ae3ba96481ff4",
   "metadata": {
    "collapsed": false,
    "jupyter": {
     "outputs_hidden": false
    },
    "ExecuteTime": {
     "end_time": "2024-10-10T06:32:33.232507Z",
     "start_time": "2024-10-10T06:32:33.227775Z"
    }
   },
   "source": [
    "selected_pdb_ids = resolution[:top_num][\"pdb_id\"].to_list()\n",
    "print(f\"选定的 PDB ID: {selected_pdb_ids}\")"
   ],
   "outputs": [
    {
     "name": "stdout",
     "output_type": "stream",
     "text": [
      "选定的 PDB ID: ['5ORL', '6C2T', '5OS0', '5OS5', '5OS3', '4J8M', '5ORV', '5OS4', '5ORX', '5OSF']\n"
     ]
    }
   ],
   "execution_count": 24
  },
  {
   "cell_type": "markdown",
   "id": "4e92e11282155871",
   "metadata": {
    "collapsed": false,
    "jupyter": {
     "outputs_hidden": false
    }
   },
   "source": [
    "选定的最高分辨率 PDB 条目可以包含针对不同结合位点的配体，例如变构和正构配体，这会阻碍基于配体的药效团的生成。因此，我们将重点关注以下 4 个结构，它们在正位结合口袋中含有配体。笔记本后面提供的代码可用于验证这一点。"
   ]
  },
  {
   "cell_type": "code",
   "id": "8f143728d5bdcc38",
   "metadata": {
    "collapsed": false,
    "jupyter": {
     "outputs_hidden": false
    },
    "ExecuteTime": {
     "end_time": "2024-10-10T06:33:07.079541Z",
     "start_time": "2024-10-10T06:32:43.521163Z"
    }
   },
   "source": [
    "import csv\n",
    "from Bio import PDB\n",
    "\n",
    "# 定义要处理的 PDB ID 列表\n",
    "pdb_ids = selected_pdb_ids\n",
    "\n",
    "# 创建一个 PDB Parser 对象\n",
    "parser = PDB.PDBParser(QUIET=True)\n",
    "\n",
    "# 定义函数来获取 PDB 文件\n",
    "def fetch_pdb_file(pdb_id):\n",
    "    pdb_list = PDB.PDBList()\n",
    "    pdb_file = pdb_list.retrieve_pdb_file(pdb_id, pdir='.', file_format='pdb')\n",
    "    return pdb_file\n",
    "\n",
    "# 定义函数来提取配体信息\n",
    "def get_ligand_info(pdb_id):\n",
    "    pdb_file = fetch_pdb_file(pdb_id)\n",
    "    structure = parser.get_structure(pdb_id, pdb_file)\n",
    "    ligand_info = []\n",
    "\n",
    "    for model in structure:\n",
    "        for chain in model:\n",
    "            for residue in chain:\n",
    "                # 只提取异源物（配体）的信息\n",
    "                if residue.id[0] != ' ':\n",
    "                    ligand_info.append({\n",
    "                        'pdb_id': pdb_id,\n",
    "                        'chain_id': chain.id,\n",
    "                        'residue_name': residue.resname,\n",
    "                        'residue_id': residue.id\n",
    "                    })\n",
    "\n",
    "    return ligand_info\n",
    "\n",
    "# 获取所有 PDB 条目的配体信息并计算 Residue ID 的数量\n",
    "pdb_ligand_counts = []\n",
    "for pdb_id in pdb_ids:\n",
    "    ligand_info = get_ligand_info(pdb_id)\n",
    "    pdb_ligand_counts.append({\n",
    "        'pdb_id': pdb_id,\n",
    "        'ligand_count': len(ligand_info)\n",
    "    })\n",
    "    print(f\"PDB ID: {pdb_id}, 配体数量: {len(ligand_info)}\")\n",
    "\n",
    "# 根据配体数量从小到大排序\n",
    "sorted_pdb_ligand_counts = sorted(pdb_ligand_counts, key=lambda x: x['ligand_count'])\n",
    "\n",
    "# 打印排序后的结果\n",
    "for entry in sorted_pdb_ligand_counts:\n",
    "    print(f\"PDB ID: {entry['pdb_id']}, 配体数量: {entry['ligand_count']}\")\n",
    "\n",
    "# 保存结果到 CSV 文件\n",
    "csv_filename = DATA / 'pdb_ligand_counts.csv'\n",
    "csv_headers = ['PDB ID', 'Ligand Count']\n",
    "\n",
    "with open(csv_filename, mode='w', newline='') as csv_file:\n",
    "    writer = csv.DictWriter(csv_file, fieldnames=csv_headers)\n",
    "    writer.writeheader()\n",
    "    for entry in sorted_pdb_ligand_counts:\n",
    "        writer.writerow({'PDB ID': entry['pdb_id'], 'Ligand Count': entry['ligand_count']})\n",
    "\n",
    "print(f\"结果已保存到 {csv_filename}\")\n"
   ],
   "outputs": [
    {
     "name": "stdout",
     "output_type": "stream",
     "text": [
      "Downloading PDB structure '5orl'...\n",
      "PDB ID: 5ORL, 配体数量: 205\n",
      "Downloading PDB structure '6c2t'...\n",
      "PDB ID: 6C2T, 配体数量: 114\n",
      "Downloading PDB structure '5os0'...\n",
      "PDB ID: 5OS0, 配体数量: 146\n",
      "Downloading PDB structure '5os5'...\n",
      "PDB ID: 5OS5, 配体数量: 133\n",
      "Downloading PDB structure '5os3'...\n",
      "PDB ID: 5OS3, 配体数量: 155\n",
      "Downloading PDB structure '4j8m'...\n",
      "PDB ID: 4J8M, 配体数量: 179\n",
      "Downloading PDB structure '5orv'...\n",
      "PDB ID: 5ORV, 配体数量: 105\n",
      "Downloading PDB structure '5os4'...\n",
      "PDB ID: 5OS4, 配体数量: 144\n",
      "Downloading PDB structure '5orx'...\n",
      "PDB ID: 5ORX, 配体数量: 122\n",
      "Downloading PDB structure '5osf'...\n",
      "PDB ID: 5OSF, 配体数量: 89\n",
      "PDB ID: 5OSF, 配体数量: 89\n",
      "PDB ID: 5ORV, 配体数量: 105\n",
      "PDB ID: 6C2T, 配体数量: 114\n",
      "PDB ID: 5ORX, 配体数量: 122\n",
      "PDB ID: 5OS5, 配体数量: 133\n",
      "PDB ID: 5OS4, 配体数量: 144\n",
      "PDB ID: 5OS0, 配体数量: 146\n",
      "PDB ID: 5OS3, 配体数量: 155\n",
      "PDB ID: 4J8M, 配体数量: 179\n",
      "PDB ID: 5ORL, 配体数量: 205\n",
      "结果已保存到 /Users/wangyang/Desktop/Breast_cancer_brain_metastasis/wang_Gene/AIDD/13_Protein_data_acquisition-Protein_Data_Bank_(PDB)/data/pdb_ligand_counts.csv\n"
     ]
    }
   ],
   "execution_count": 25
  },
  {
   "cell_type": "code",
   "id": "aafd433f93a93bd3",
   "metadata": {
    "collapsed": false,
    "jupyter": {
     "outputs_hidden": false
    },
    "ExecuteTime": {
     "end_time": "2024-10-10T06:33:23.670178Z",
     "start_time": "2024-10-10T06:33:23.664856Z"
    }
   },
   "source": [
    "# 获取pdb_ids前面10个\n",
    "pdb_ids = pdb_ids[:10]\n",
    "pdb_ids"
   ],
   "outputs": [
    {
     "data": {
      "text/plain": [
       "['5ORL',\n",
       " '6C2T',\n",
       " '5OS0',\n",
       " '5OS5',\n",
       " '5OS3',\n",
       " '4J8M',\n",
       " '5ORV',\n",
       " '5OS4',\n",
       " '5ORX',\n",
       " '5OSF']"
      ]
     },
     "execution_count": 26,
     "metadata": {},
     "output_type": "execute_result"
    }
   ],
   "execution_count": 26
  },
  {
   "cell_type": "code",
   "id": "d229034abd29b4b7",
   "metadata": {
    "collapsed": false,
    "jupyter": {
     "outputs_hidden": false
    },
    "ExecuteTime": {
     "end_time": "2024-10-10T06:33:46.538134Z",
     "start_time": "2024-10-10T06:33:46.533881Z"
    }
   },
   "source": [
    "selected_pdb_ids = ['5ORL', '6C2T', '5OS0', '5OS5', '5OS3', '4J8M', '5ORV', '5OS4', '5ORX', '5OSF']\n",
    "print(f\"Selected PDB IDs (frozen set): {selected_pdb_ids}\")"
   ],
   "outputs": [
    {
     "name": "stdout",
     "output_type": "stream",
     "text": [
      "Selected PDB IDs (frozen set): ['5ORL', '6C2T', '5OS0', '5OS5', '5OS3', '4J8M', '5ORV', '5OS4', '5ORX', '5OSF']\n"
     ]
    }
   ],
   "execution_count": 27
  },
  {
   "cell_type": "markdown",
   "id": "f9799155bb100fb4",
   "metadata": {
    "collapsed": false,
    "jupyter": {
     "outputs_hidden": false
    }
   },
   "source": [
    "们使用 get_ligands 获取有关顶级 top_num 配体的 PDB 信息，并将其存储为 csv 文件（作为每个配体的字典）。\n",
    "\n",
    "如果一个结构包含多个配体，我们选择最大的配体。注意：这是在蛋白质结合位点选择配体的简单但不全面的方法。该方法还可以选择与蛋白质结合的辅因子。因此，在进一步使用之前，请目视检查自动选择的顶级配体。"
   ]
  },
  {
   "cell_type": "code",
   "id": "719edc84f3d3fed8",
   "metadata": {
    "collapsed": false,
    "jupyter": {
     "outputs_hidden": false
    },
    "ExecuteTime": {
     "end_time": "2024-10-10T06:33:48.148391Z",
     "start_time": "2024-10-10T06:33:48.137184Z"
    }
   },
   "source": [
    "def get_ligands(pdb_id):\n",
    "    \"\"\"\n",
    "    RCSB 尚未提供配体信息的新终点。作为\n",
    "    我们从 ligand-expo.rcsb.org 获取额外信息、\n",
    "    获取额外信息。有关此技术的更多信息，请查阅 T011！\n",
    "    \"\"\"\n",
    "    pdb_info = _fetch_pdb_nonpolymer_info(pdb_id)\n",
    "    ligand_expo_ids = [\n",
    "        nonpolymer_entities[\"pdbx_entity_nonpoly\"][\"comp_id\"]\n",
    "        for nonpolymer_entities in pdb_info[\"data\"][\"entry\"][\"nonpolymer_entities\"]\n",
    "    ]\n",
    "\n",
    "    ligands = {}\n",
    "    for ligand_expo_id in ligand_expo_ids:\n",
    "        ligand_expo_info = _fetch_ligand_expo_info(ligand_expo_id)\n",
    "        ligands[ligand_expo_id] = ligand_expo_info\n",
    "\n",
    "    return ligands\n",
    "\n",
    "\n",
    "def _fetch_pdb_nonpolymer_info(pdb_id):\n",
    "    \"\"\"\n",
    "    从 rcsb.org 获取非聚合物数据。\n",
    "    感谢 @BJWiley233 和 Rachel Green 提供此 GraphQL 解决方案。\n",
    "    \"\"\"\n",
    "    query = (\n",
    "        \"\"\"{\n",
    "          entry(entry_id: \"%s\") {\n",
    "            nonpolymer_entities {\n",
    "              pdbx_entity_nonpoly {\n",
    "                comp_id\n",
    "                name\n",
    "                rcsb_prd_id\n",
    "              }\n",
    "            }\n",
    "          }\n",
    "        }\"\"\"\n",
    "        % pdb_id\n",
    "    )\n",
    "\n",
    "    query_url = f\"https://data.rcsb.org/graphql?query={query}\"\n",
    "    response = requests.get(query_url)\n",
    "    response.raise_for_status()\n",
    "    info = response.json()\n",
    "    return info\n",
    "\n",
    "\n",
    "def _fetch_ligand_expo_info(ligand_expo_id):\n",
    "    \"\"\"\n",
    "    Fetch ligand data from ligand-expo.rcsb.org.\n",
    "    \"\"\"\n",
    "    r = requests.get(f\"http://ligand-expo.rcsb.org/reports/{ligand_expo_id[0]}/{ligand_expo_id}/\")\n",
    "    r.raise_for_status()\n",
    "    html = BeautifulSoup(r.text)\n",
    "    info = {}\n",
    "    for table in html.find_all(\"table\"):\n",
    "        for row in table.find_all(\"tr\"):\n",
    "            cells = row.find_all(\"td\")\n",
    "            if len(cells) != 2:\n",
    "                continue\n",
    "            key, value = cells\n",
    "            if key.string and key.string.strip():\n",
    "                info[key.string.strip()] = \"\".join(value.find_all(string=True))\n",
    "\n",
    "    # Postprocess some known values\n",
    "    info[\"Molecular weight\"] = float(info[\"Molecular weight\"].split()[0])\n",
    "    info[\"Formal charge\"] = int(info[\"Formal charge\"])\n",
    "    info[\"Atom count\"] = int(info[\"Atom count\"])\n",
    "    info[\"Chiral atom count\"] = int(info[\"Chiral atom count\"])\n",
    "    info[\"Bond count\"] = int(info[\"Bond count\"])\n",
    "    info[\"Aromatic bond count\"] = int(info[\"Aromatic bond count\"])\n",
    "    return info"
   ],
   "outputs": [],
   "execution_count": 28
  },
  {
   "cell_type": "code",
   "id": "5a02a2d623bd9428",
   "metadata": {
    "collapsed": false,
    "jupyter": {
     "outputs_hidden": false
    },
    "ExecuteTime": {
     "end_time": "2024-10-10T06:34:17.073675Z",
     "start_time": "2024-10-10T06:33:48.926057Z"
    }
   },
   "source": [
    "columns = [\n",
    "    \"@structureId\",\n",
    "    \"@chemicalID\",\n",
    "    \"@type\",\n",
    "    \"@molecularWeight\",\n",
    "    \"chemicalName\",\n",
    "    \"formula\",\n",
    "    \"InChI\",\n",
    "    \"InChIKey\",\n",
    "    \"smiles\",\n",
    "]\n",
    "rows = []\n",
    "for pdb_id in selected_pdb_ids:\n",
    "    ligands = get_ligands(pdb_id)\n",
    "    # 如果包含多个配体，则取最大配体（结果中的第一位）\n",
    "    ligand_id, properties = max(ligands.items(), key=lambda kv: kv[1][\"Molecular weight\"])\n",
    "    rows.append(\n",
    "        [\n",
    "            pdb_id,\n",
    "            ligand_id,\n",
    "            properties[\"Component type\"],\n",
    "            properties[\"Molecular weight\"],\n",
    "            properties[\"Name\"],\n",
    "            properties[\"Formula\"],\n",
    "            properties[\"InChI descriptor\"],\n",
    "            properties[\"InChIKey descriptor\"],\n",
    "            properties[\"Stereo SMILES (OpenEye)\"],\n",
    "        ]\n",
    "    )"
   ],
   "outputs": [],
   "execution_count": 29
  },
  {
   "cell_type": "code",
   "id": "c9d8fa58b6a7bdbb",
   "metadata": {
    "collapsed": false,
    "jupyter": {
     "outputs_hidden": false
    },
    "ExecuteTime": {
     "end_time": "2024-10-10T06:34:30.460726Z",
     "start_time": "2024-10-10T06:34:30.419177Z"
    }
   },
   "source": [
    "\n",
    "# 格式改为DataFrame\n",
    "ligands = pd.DataFrame(rows, columns=columns)\n",
    "ligands"
   ],
   "outputs": [
    {
     "data": {
      "text/plain": [
       "  @structureId @chemicalID        @type  @molecularWeight  \\\n",
       "0         5ORL         ADP  NON-POLYMER           427.201   \n",
       "1         6C2T         EGJ  NON-POLYMER           525.037   \n",
       "2         5OS0         ADP  NON-POLYMER           427.201   \n",
       "3         5OS5         ADP  NON-POLYMER           427.201   \n",
       "4         5OS3         ADP  NON-POLYMER           427.201   \n",
       "5         4J8M         CJ5  NON-POLYMER           522.525   \n",
       "6         5ORV         ADP  NON-POLYMER           427.201   \n",
       "7         5OS4         ADP  NON-POLYMER           427.201   \n",
       "8         5ORX         ADP  NON-POLYMER           427.201   \n",
       "9         5OSF         ADP  NON-POLYMER           427.201   \n",
       "\n",
       "                                        chemicalName               formula  \\\n",
       "0                           ADENOSINE-5'-DIPHOSPHATE     C10 H15 N5 O10 P2   \n",
       "1  (2S,4R)-1-[(3-chloro-2-fluorophenyl)methyl]-2-...  C27 H26 Cl F N4 O2 S   \n",
       "2                           ADENOSINE-5'-DIPHOSPHATE     C10 H15 N5 O10 P2   \n",
       "3                           ADENOSINE-5'-DIPHOSPHATE     C10 H15 N5 O10 P2   \n",
       "4                           ADENOSINE-5'-DIPHOSPHATE     C10 H15 N5 O10 P2   \n",
       "5  1-[4-[[4-[(5-cyclopentyl-1H-pyrazol-3-yl)amino...       C26 H25 F3 N8 O   \n",
       "6                           ADENOSINE-5'-DIPHOSPHATE     C10 H15 N5 O10 P2   \n",
       "7                           ADENOSINE-5'-DIPHOSPHATE     C10 H15 N5 O10 P2   \n",
       "8                           ADENOSINE-5'-DIPHOSPHATE     C10 H15 N5 O10 P2   \n",
       "9                           ADENOSINE-5'-DIPHOSPHATE     C10 H15 N5 O10 P2   \n",
       "\n",
       "                                               InChI  \\\n",
       "0  InChI=1S/C10H15N5O10P2/c11-8-5-9(13-2-12-8)15(...   \n",
       "1  InChI=1S/C27H26ClFN4O2S/c1-17-14-27(25(34)35,9...   \n",
       "2  InChI=1S/C10H15N5O10P2/c11-8-5-9(13-2-12-8)15(...   \n",
       "3  InChI=1S/C10H15N5O10P2/c11-8-5-9(13-2-12-8)15(...   \n",
       "4  InChI=1S/C10H15N5O10P2/c11-8-5-9(13-2-12-8)15(...   \n",
       "5  InChI=1S/C26H25F3N8O/c27-26(28,29)17-6-3-7-20(...   \n",
       "6  InChI=1S/C10H15N5O10P2/c11-8-5-9(13-2-12-8)15(...   \n",
       "7  InChI=1S/C10H15N5O10P2/c11-8-5-9(13-2-12-8)15(...   \n",
       "8  InChI=1S/C10H15N5O10P2/c11-8-5-9(13-2-12-8)15(...   \n",
       "9  InChI=1S/C10H15N5O10P2/c11-8-5-9(13-2-12-8)15(...   \n",
       "\n",
       "                      InChIKey  \\\n",
       "0  XTWYTFMLZFPYCI-KQYNXXCUSA-N   \n",
       "1  GKVNGMCPNCGMBE-CBZJRKILSA-N   \n",
       "2  XTWYTFMLZFPYCI-KQYNXXCUSA-N   \n",
       "3  XTWYTFMLZFPYCI-KQYNXXCUSA-N   \n",
       "4  XTWYTFMLZFPYCI-KQYNXXCUSA-N   \n",
       "5  GBMIFBVLJSCVJT-UHFFFAOYSA-N   \n",
       "6  XTWYTFMLZFPYCI-KQYNXXCUSA-N   \n",
       "7  XTWYTFMLZFPYCI-KQYNXXCUSA-N   \n",
       "8  XTWYTFMLZFPYCI-KQYNXXCUSA-N   \n",
       "9  XTWYTFMLZFPYCI-KQYNXXCUSA-N   \n",
       "\n",
       "                                              smiles  \n",
       "0  c1nc(c2c(n1)n(cn2)[C@H]3[C@@H]([C@@H]([C@H](O3...  \n",
       "1  C[C@H]1C[C@](CCN1Cc2cccc(c2F)Cl)(Cc3c4ccccc4cc...  \n",
       "2  c1nc(c2c(n1)n(cn2)[C@H]3[C@@H]([C@@H]([C@H](O3...  \n",
       "3  c1nc(c2c(n1)n(cn2)[C@H]3[C@@H]([C@@H]([C@H](O3...  \n",
       "4  c1nc(c2c(n1)n(cn2)[C@H]3[C@@H]([C@@H]([C@H](O3...  \n",
       "5  c1cc(cc(c1)NC(=O)Nc2ccc(cc2)Nc3nccc(n3)Nc4cc([...  \n",
       "6  c1nc(c2c(n1)n(cn2)[C@H]3[C@@H]([C@@H]([C@H](O3...  \n",
       "7  c1nc(c2c(n1)n(cn2)[C@H]3[C@@H]([C@@H]([C@H](O3...  \n",
       "8  c1nc(c2c(n1)n(cn2)[C@H]3[C@@H]([C@@H]([C@H](O3...  \n",
       "9  c1nc(c2c(n1)n(cn2)[C@H]3[C@@H]([C@@H]([C@H](O3...  "
      ],
      "text/html": [
       "<div>\n",
       "<style scoped>\n",
       "    .dataframe tbody tr th:only-of-type {\n",
       "        vertical-align: middle;\n",
       "    }\n",
       "\n",
       "    .dataframe tbody tr th {\n",
       "        vertical-align: top;\n",
       "    }\n",
       "\n",
       "    .dataframe thead th {\n",
       "        text-align: right;\n",
       "    }\n",
       "</style>\n",
       "<table border=\"1\" class=\"dataframe\">\n",
       "  <thead>\n",
       "    <tr style=\"text-align: right;\">\n",
       "      <th></th>\n",
       "      <th>@structureId</th>\n",
       "      <th>@chemicalID</th>\n",
       "      <th>@type</th>\n",
       "      <th>@molecularWeight</th>\n",
       "      <th>chemicalName</th>\n",
       "      <th>formula</th>\n",
       "      <th>InChI</th>\n",
       "      <th>InChIKey</th>\n",
       "      <th>smiles</th>\n",
       "    </tr>\n",
       "  </thead>\n",
       "  <tbody>\n",
       "    <tr>\n",
       "      <th>0</th>\n",
       "      <td>5ORL</td>\n",
       "      <td>ADP</td>\n",
       "      <td>NON-POLYMER</td>\n",
       "      <td>427.201</td>\n",
       "      <td>ADENOSINE-5'-DIPHOSPHATE</td>\n",
       "      <td>C10 H15 N5 O10 P2</td>\n",
       "      <td>InChI=1S/C10H15N5O10P2/c11-8-5-9(13-2-12-8)15(...</td>\n",
       "      <td>XTWYTFMLZFPYCI-KQYNXXCUSA-N</td>\n",
       "      <td>c1nc(c2c(n1)n(cn2)[C@H]3[C@@H]([C@@H]([C@H](O3...</td>\n",
       "    </tr>\n",
       "    <tr>\n",
       "      <th>1</th>\n",
       "      <td>6C2T</td>\n",
       "      <td>EGJ</td>\n",
       "      <td>NON-POLYMER</td>\n",
       "      <td>525.037</td>\n",
       "      <td>(2S,4R)-1-[(3-chloro-2-fluorophenyl)methyl]-2-...</td>\n",
       "      <td>C27 H26 Cl F N4 O2 S</td>\n",
       "      <td>InChI=1S/C27H26ClFN4O2S/c1-17-14-27(25(34)35,9...</td>\n",
       "      <td>GKVNGMCPNCGMBE-CBZJRKILSA-N</td>\n",
       "      <td>C[C@H]1C[C@](CCN1Cc2cccc(c2F)Cl)(Cc3c4ccccc4cc...</td>\n",
       "    </tr>\n",
       "    <tr>\n",
       "      <th>2</th>\n",
       "      <td>5OS0</td>\n",
       "      <td>ADP</td>\n",
       "      <td>NON-POLYMER</td>\n",
       "      <td>427.201</td>\n",
       "      <td>ADENOSINE-5'-DIPHOSPHATE</td>\n",
       "      <td>C10 H15 N5 O10 P2</td>\n",
       "      <td>InChI=1S/C10H15N5O10P2/c11-8-5-9(13-2-12-8)15(...</td>\n",
       "      <td>XTWYTFMLZFPYCI-KQYNXXCUSA-N</td>\n",
       "      <td>c1nc(c2c(n1)n(cn2)[C@H]3[C@@H]([C@@H]([C@H](O3...</td>\n",
       "    </tr>\n",
       "    <tr>\n",
       "      <th>3</th>\n",
       "      <td>5OS5</td>\n",
       "      <td>ADP</td>\n",
       "      <td>NON-POLYMER</td>\n",
       "      <td>427.201</td>\n",
       "      <td>ADENOSINE-5'-DIPHOSPHATE</td>\n",
       "      <td>C10 H15 N5 O10 P2</td>\n",
       "      <td>InChI=1S/C10H15N5O10P2/c11-8-5-9(13-2-12-8)15(...</td>\n",
       "      <td>XTWYTFMLZFPYCI-KQYNXXCUSA-N</td>\n",
       "      <td>c1nc(c2c(n1)n(cn2)[C@H]3[C@@H]([C@@H]([C@H](O3...</td>\n",
       "    </tr>\n",
       "    <tr>\n",
       "      <th>4</th>\n",
       "      <td>5OS3</td>\n",
       "      <td>ADP</td>\n",
       "      <td>NON-POLYMER</td>\n",
       "      <td>427.201</td>\n",
       "      <td>ADENOSINE-5'-DIPHOSPHATE</td>\n",
       "      <td>C10 H15 N5 O10 P2</td>\n",
       "      <td>InChI=1S/C10H15N5O10P2/c11-8-5-9(13-2-12-8)15(...</td>\n",
       "      <td>XTWYTFMLZFPYCI-KQYNXXCUSA-N</td>\n",
       "      <td>c1nc(c2c(n1)n(cn2)[C@H]3[C@@H]([C@@H]([C@H](O3...</td>\n",
       "    </tr>\n",
       "    <tr>\n",
       "      <th>5</th>\n",
       "      <td>4J8M</td>\n",
       "      <td>CJ5</td>\n",
       "      <td>NON-POLYMER</td>\n",
       "      <td>522.525</td>\n",
       "      <td>1-[4-[[4-[(5-cyclopentyl-1H-pyrazol-3-yl)amino...</td>\n",
       "      <td>C26 H25 F3 N8 O</td>\n",
       "      <td>InChI=1S/C26H25F3N8O/c27-26(28,29)17-6-3-7-20(...</td>\n",
       "      <td>GBMIFBVLJSCVJT-UHFFFAOYSA-N</td>\n",
       "      <td>c1cc(cc(c1)NC(=O)Nc2ccc(cc2)Nc3nccc(n3)Nc4cc([...</td>\n",
       "    </tr>\n",
       "    <tr>\n",
       "      <th>6</th>\n",
       "      <td>5ORV</td>\n",
       "      <td>ADP</td>\n",
       "      <td>NON-POLYMER</td>\n",
       "      <td>427.201</td>\n",
       "      <td>ADENOSINE-5'-DIPHOSPHATE</td>\n",
       "      <td>C10 H15 N5 O10 P2</td>\n",
       "      <td>InChI=1S/C10H15N5O10P2/c11-8-5-9(13-2-12-8)15(...</td>\n",
       "      <td>XTWYTFMLZFPYCI-KQYNXXCUSA-N</td>\n",
       "      <td>c1nc(c2c(n1)n(cn2)[C@H]3[C@@H]([C@@H]([C@H](O3...</td>\n",
       "    </tr>\n",
       "    <tr>\n",
       "      <th>7</th>\n",
       "      <td>5OS4</td>\n",
       "      <td>ADP</td>\n",
       "      <td>NON-POLYMER</td>\n",
       "      <td>427.201</td>\n",
       "      <td>ADENOSINE-5'-DIPHOSPHATE</td>\n",
       "      <td>C10 H15 N5 O10 P2</td>\n",
       "      <td>InChI=1S/C10H15N5O10P2/c11-8-5-9(13-2-12-8)15(...</td>\n",
       "      <td>XTWYTFMLZFPYCI-KQYNXXCUSA-N</td>\n",
       "      <td>c1nc(c2c(n1)n(cn2)[C@H]3[C@@H]([C@@H]([C@H](O3...</td>\n",
       "    </tr>\n",
       "    <tr>\n",
       "      <th>8</th>\n",
       "      <td>5ORX</td>\n",
       "      <td>ADP</td>\n",
       "      <td>NON-POLYMER</td>\n",
       "      <td>427.201</td>\n",
       "      <td>ADENOSINE-5'-DIPHOSPHATE</td>\n",
       "      <td>C10 H15 N5 O10 P2</td>\n",
       "      <td>InChI=1S/C10H15N5O10P2/c11-8-5-9(13-2-12-8)15(...</td>\n",
       "      <td>XTWYTFMLZFPYCI-KQYNXXCUSA-N</td>\n",
       "      <td>c1nc(c2c(n1)n(cn2)[C@H]3[C@@H]([C@@H]([C@H](O3...</td>\n",
       "    </tr>\n",
       "    <tr>\n",
       "      <th>9</th>\n",
       "      <td>5OSF</td>\n",
       "      <td>ADP</td>\n",
       "      <td>NON-POLYMER</td>\n",
       "      <td>427.201</td>\n",
       "      <td>ADENOSINE-5'-DIPHOSPHATE</td>\n",
       "      <td>C10 H15 N5 O10 P2</td>\n",
       "      <td>InChI=1S/C10H15N5O10P2/c11-8-5-9(13-2-12-8)15(...</td>\n",
       "      <td>XTWYTFMLZFPYCI-KQYNXXCUSA-N</td>\n",
       "      <td>c1nc(c2c(n1)n(cn2)[C@H]3[C@@H]([C@@H]([C@H](O3...</td>\n",
       "    </tr>\n",
       "  </tbody>\n",
       "</table>\n",
       "</div>"
      ]
     },
     "execution_count": 30,
     "metadata": {},
     "output_type": "execute_result"
    }
   ],
   "execution_count": 30
  },
  {
   "cell_type": "code",
   "id": "608e2e8554b17ed4",
   "metadata": {
    "collapsed": false,
    "jupyter": {
     "outputs_hidden": false
    },
    "ExecuteTime": {
     "end_time": "2024-10-10T07:17:01.596153Z",
     "start_time": "2024-10-10T07:17:01.576382Z"
    }
   },
   "source": [
    "ligands.to_csv(DATA / \"selected_ligands.csv\", index=False)\n",
    "print(f\"结果已保存到 {DATA / 'selected_ligands.csv'}\")"
   ],
   "outputs": [
    {
     "ename": "AttributeError",
     "evalue": "'list' object has no attribute 'to_csv'",
     "output_type": "error",
     "traceback": [
      "\u001B[0;31m---------------------------------------------------------------------------\u001B[0m",
      "\u001B[0;31mAttributeError\u001B[0m                            Traceback (most recent call last)",
      "Cell \u001B[0;32mIn[57], line 1\u001B[0m\n\u001B[0;32m----> 1\u001B[0m \u001B[43mligands\u001B[49m\u001B[38;5;241;43m.\u001B[39;49m\u001B[43mto_csv\u001B[49m(DATA \u001B[38;5;241m/\u001B[39m \u001B[38;5;124m\"\u001B[39m\u001B[38;5;124mselected_ligands.csv\u001B[39m\u001B[38;5;124m\"\u001B[39m, index\u001B[38;5;241m=\u001B[39m\u001B[38;5;28;01mFalse\u001B[39;00m)\n\u001B[1;32m      2\u001B[0m \u001B[38;5;28mprint\u001B[39m(\u001B[38;5;124mf\u001B[39m\u001B[38;5;124m\"\u001B[39m\u001B[38;5;124m结果已保存到 \u001B[39m\u001B[38;5;132;01m{\u001B[39;00mDATA\u001B[38;5;250m \u001B[39m\u001B[38;5;241m/\u001B[39m\u001B[38;5;250m \u001B[39m\u001B[38;5;124m'\u001B[39m\u001B[38;5;124mselected_ligands.csv\u001B[39m\u001B[38;5;124m'\u001B[39m\u001B[38;5;132;01m}\u001B[39;00m\u001B[38;5;124m\"\u001B[39m)\n",
      "\u001B[0;31mAttributeError\u001B[0m: 'list' object has no attribute 'to_csv'"
     ]
    }
   ],
   "execution_count": 57
  },
  {
   "cell_type": "code",
   "id": "ab6982ecb163d7af",
   "metadata": {
    "collapsed": false,
    "jupyter": {
     "outputs_hidden": false
    },
    "ExecuteTime": {
     "end_time": "2024-10-10T07:17:02.654451Z",
     "start_time": "2024-10-10T07:17:02.633011Z"
    }
   },
   "source": [
    "ligands.to_csv(DATA / \"PDB_top_ligands.csv\", header=True, index=False)"
   ],
   "outputs": [
    {
     "ename": "AttributeError",
     "evalue": "'list' object has no attribute 'to_csv'",
     "output_type": "error",
     "traceback": [
      "\u001B[0;31m---------------------------------------------------------------------------\u001B[0m",
      "\u001B[0;31mAttributeError\u001B[0m                            Traceback (most recent call last)",
      "Cell \u001B[0;32mIn[58], line 1\u001B[0m\n\u001B[0;32m----> 1\u001B[0m \u001B[43mligands\u001B[49m\u001B[38;5;241;43m.\u001B[39;49m\u001B[43mto_csv\u001B[49m(DATA \u001B[38;5;241m/\u001B[39m \u001B[38;5;124m\"\u001B[39m\u001B[38;5;124mPDB_top_ligands.csv\u001B[39m\u001B[38;5;124m\"\u001B[39m, header\u001B[38;5;241m=\u001B[39m\u001B[38;5;28;01mTrue\u001B[39;00m, index\u001B[38;5;241m=\u001B[39m\u001B[38;5;28;01mFalse\u001B[39;00m)\n",
      "\u001B[0;31mAttributeError\u001B[0m: 'list' object has no attribute 'to_csv'"
     ]
    }
   ],
   "execution_count": 58
  },
  {
   "cell_type": "markdown",
   "id": "cde456f32fba4a92",
   "metadata": {
    "collapsed": false,
    "jupyter": {
     "outputs_hidden": false
    }
   },
   "source": [
    "绘制顶部配体分子"
   ]
  },
  {
   "cell_type": "code",
   "id": "20d110177c17144f",
   "metadata": {
    "collapsed": false,
    "jupyter": {
     "outputs_hidden": false
    },
    "ExecuteTime": {
     "end_time": "2024-10-10T06:34:41.391114Z",
     "start_time": "2024-10-10T06:34:41.299964Z"
    }
   },
   "source": [
    "PandasTools.AddMoleculeColumnToFrame(ligands, \"smiles\")\n",
    "Draw.MolsToGridImage(\n",
    "    mols=list(ligands.ROMol),\n",
    "    legends=list(ligands[\"@chemicalID\"] + \", \" + ligands[\"@structureId\"]),\n",
    "    molsPerRow=top_num,\n",
    ")"
   ],
   "outputs": [
    {
     "data": {
      "image/png": "[encoded data removed]",
      "text/plain": [
       "<IPython.core.display.Image object>"
      ]
     },
     "execution_count": 33,
     "metadata": {},
     "output_type": "execute_result"
    }
   ],
   "execution_count": 33
  },
  {
   "cell_type": "markdown",
   "id": "5b1e32f05302f8cd",
   "metadata": {
    "collapsed": false,
    "jupyter": {
     "outputs_hidden": false
    }
   },
   "source": []
  },
  {
   "cell_type": "markdown",
   "id": "b68eb01f-655f-441d-bec4-2a6d652a65be",
   "metadata": {},
   "source": [
    "创建蛋白质-配体 ID 对 ¶"
   ]
  },
  {
   "metadata": {
    "ExecuteTime": {
     "end_time": "2024-10-10T07:16:07.837013Z",
     "start_time": "2024-10-10T07:16:07.834418Z"
    }
   },
   "cell_type": "code",
   "source": "",
   "id": "bcebe20f29282885",
   "outputs": [],
   "execution_count": null
  },
  {
   "cell_type": "code",
   "id": "ed17df8c-29ba-4bc4-9ae0-10444aa12ff0",
   "metadata": {
    "ExecuteTime": {
     "end_time": "2024-10-10T07:16:56.141289Z",
     "start_time": "2024-10-10T07:16:56.122570Z"
    }
   },
   "source": [
    "\n",
    "pairs = collections.OrderedDict(zip(ligands[\"@structureId\"], ligands[\"@chemicalID\"]))\n",
    "pairs"
   ],
   "outputs": [
    {
     "ename": "TypeError",
     "evalue": "list indices must be integers or slices, not str",
     "output_type": "error",
     "traceback": [
      "\u001B[0;31m---------------------------------------------------------------------------\u001B[0m",
      "\u001B[0;31mTypeError\u001B[0m                                 Traceback (most recent call last)",
      "Cell \u001B[0;32mIn[56], line 1\u001B[0m\n\u001B[0;32m----> 1\u001B[0m pairs \u001B[38;5;241m=\u001B[39m collections\u001B[38;5;241m.\u001B[39mOrderedDict(\u001B[38;5;28mzip\u001B[39m(\u001B[43mligands\u001B[49m\u001B[43m[\u001B[49m\u001B[38;5;124;43m\"\u001B[39;49m\u001B[38;5;124;43m@structureId\u001B[39;49m\u001B[38;5;124;43m\"\u001B[39;49m\u001B[43m]\u001B[49m, ligands[\u001B[38;5;124m\"\u001B[39m\u001B[38;5;124m@chemicalID\u001B[39m\u001B[38;5;124m\"\u001B[39m]))\n\u001B[1;32m      2\u001B[0m pairs\n",
      "\u001B[0;31mTypeError\u001B[0m: list indices must be integers or slices, not str"
     ]
    }
   ],
   "execution_count": 56
  },
  {
   "cell_type": "markdown",
   "id": "31fa6e72-14ba-4a94-8ce4-6265b76cd329",
   "metadata": {},
   "source": [
    "### 对齐 PDB 结构并提取配体 ¶\n",
    "\n",
    "由于我们希望在下一篇演讲中构建基于配体的整体药效团，因此有必要在 3D 中将所有结构相互对齐。\n",
    "\n",
    "我们将使用Python包 `opencadd` （存储库），其中包括一个3D叠加子包来指导蛋白质的结构对齐。该方法基于由所提供的匹配残基的序列比对引导的叠加。包中还有其他方法，但这个简单的方法足以完成手头的任务。\n",
    "\n",
    "#### 获取 PDB 结构文件 ¶\n",
    "\n",
    "现在，我们使用 `opencadd.structure.superposition` 从 PDB 中获取 PDB 结构文件，即蛋白质、配体（以及其他可用的原子或分子实体，如辅因子、水分子和离子）的 3D 坐标。\n",
    "\n",
    "可用的文件格式为 pdb 和 cif，它们存储蛋白质原子（以及配体、辅因子、水分子和离子）的 3D 坐标以及原子间键的信息。在这里，我们使用 pdb 文件。"
   ]
  },
  {
   "metadata": {
    "ExecuteTime": {
     "end_time": "2024-10-10T07:16:49.174878Z",
     "start_time": "2024-10-10T07:16:45.048520Z"
    }
   },
   "cell_type": "code",
   "source": [
    "import MDAnalysis as mda\n",
    "from MDAnalysis.core.universe import Universe\n",
    "from io import StringIO\n",
    "import requests\n",
    "from collections import OrderedDict\n",
    "\n",
    "# 定义函数来下载 PDB 结构\n",
    "def download_pdb_structure(pdb_id):\n",
    "    url = f\"https://files.rcsb.org/download/{pdb_id}.pdb\"\n",
    "    try:\n",
    "        response = requests.get(url, verify=False)\n",
    "        if response.status_code == 200:\n",
    "            return response.text\n",
    "        else:\n",
    "            print(f\"Failed to download {pdb_id}. Status code: {response.status_code}\")\n",
    "            return None\n",
    "    except requests.exceptions.RequestException as e:\n",
    "        print(f\"Error occurred while downloading {pdb_id}: {e}\")\n",
    "        return None\n",
    "\n",
    "# 定义结构和配体信息\n",
    "\n",
    "\n",
    "# 下载结构文件\n",
    "structures = {pdb_id: download_pdb_structure(pdb_id) for pdb_id in pairs}\n",
    "\n",
    "# 使用 MDAnalysis 解析每个结构并选择配体和蛋白质\n",
    "complexes = []\n",
    "\n",
    "for pdb_id, pdb_content in structures.items():\n",
    "    if pdb_content:\n",
    "        # 将 PDB 文件内容加载到 MDAnalysis\n",
    "        u = mda.Universe(StringIO(pdb_content), format='pdb')\n",
    "        ligand = pairs[pdb_id]\n",
    "\n",
    "        # 选择蛋白质或指定的配体\n",
    "        selected_atoms = u.select_atoms(f\"protein or resname {ligand}\")\n",
    "\n",
    "        # 创建包含蛋白质和配体的复合物\n",
    "        complexes.append(selected_atoms)\n",
    "\n",
    "# 打印每个复合物的信息\n",
    "for i, complex in enumerate(complexes):\n",
    "    print(f\"Complex {i + 1}: {complex}\")\n"
   ],
   "id": "94dd3f6135c2a881",
   "outputs": [
    {
     "name": "stdout",
     "output_type": "stream",
     "text": [
      "Complex 1: <AtomGroup [<Atom 1: N of type N of resname GLN, resid 127 and segid A and altLoc >, <Atom 2: CA of type C of resname GLN, resid 127 and segid A and altLoc >, <Atom 3: C of type C of resname GLN, resid 127 and segid A and altLoc >, ..., <Atom 2170: C2 of type C of resname ADP, resid 401 and segid A and altLoc >, <Atom 2171: N3 of type N of resname ADP, resid 401 and segid A and altLoc >, <Atom 2172: C4 of type C of resname ADP, resid 401 and segid A and altLoc >]>\n",
      "Complex 2: <AtomGroup [<Atom 1: N of type N of resname TRP, resid 128 and segid A and altLoc >, <Atom 2: CA of type C of resname TRP, resid 128 and segid A and altLoc >, <Atom 3: C of type C of resname TRP, resid 128 and segid A and altLoc >, ..., <Atom 2117: H59 of type H of resname EGJ, resid 401 and segid A and altLoc >, <Atom 2118: H61 of type H of resname EGJ, resid 401 and segid A and altLoc >, <Atom 2119: H62 of type H of resname EGJ, resid 401 and segid A and altLoc >]>\n",
      "Complex 3: <AtomGroup [<Atom 1: N of type N of resname GLN, resid 127 and segid A and altLoc >, <Atom 2: CA of type C of resname GLN, resid 127 and segid A and altLoc >, <Atom 3: C of type C of resname GLN, resid 127 and segid A and altLoc >, ..., <Atom 2172: C2 of type C of resname ADP, resid 401 and segid A and altLoc >, <Atom 2173: N3 of type N of resname ADP, resid 401 and segid A and altLoc >, <Atom 2174: C4 of type C of resname ADP, resid 401 and segid A and altLoc >]>\n",
      "Complex 4: <AtomGroup [<Atom 1: N of type N of resname LYS, resid 125 and segid A and altLoc >, <Atom 2: CA of type C of resname LYS, resid 125 and segid A and altLoc >, <Atom 3: C of type C of resname LYS, resid 125 and segid A and altLoc >, ..., <Atom 2177: C2 of type C of resname ADP, resid 401 and segid A and altLoc >, <Atom 2178: N3 of type N of resname ADP, resid 401 and segid A and altLoc >, <Atom 2179: C4 of type C of resname ADP, resid 401 and segid A and altLoc >]>\n",
      "Complex 5: <AtomGroup [<Atom 1: N of type N of resname GLN, resid 127 and segid A and altLoc >, <Atom 2: CA of type C of resname GLN, resid 127 and segid A and altLoc >, <Atom 3: C of type C of resname GLN, resid 127 and segid A and altLoc >, ..., <Atom 2162: C2 of type C of resname ADP, resid 401 and segid A and altLoc >, <Atom 2163: N3 of type N of resname ADP, resid 401 and segid A and altLoc >, <Atom 2164: C4 of type C of resname ADP, resid 401 and segid A and altLoc >]>\n",
      "Complex 6: <AtomGroup [<Atom 1: N of type N of resname LYS, resid 125 and segid A and altLoc >, <Atom 2: CA of type C of resname LYS, resid 125 and segid A and altLoc >, <Atom 3: C of type C of resname LYS, resid 125 and segid A and altLoc >, ..., <Atom 4444: H362 of type H of resname CJ5, resid 501 and segid A and altLoc >, <Atom 4445: H361 of type H of resname CJ5, resid 501 and segid A and altLoc >, <Atom 4446: H371 of type H of resname CJ5, resid 501 and segid A and altLoc >]>\n",
      "Complex 7: <AtomGroup [<Atom 1: N of type N of resname GLN, resid 127 and segid A and altLoc >, <Atom 2: CA of type C of resname GLN, resid 127 and segid A and altLoc >, <Atom 3: C of type C of resname GLN, resid 127 and segid A and altLoc >, ..., <Atom 2160: C2 of type C of resname ADP, resid 401 and segid A and altLoc >, <Atom 2161: N3 of type N of resname ADP, resid 401 and segid A and altLoc >, <Atom 2162: C4 of type C of resname ADP, resid 401 and segid A and altLoc >]>\n",
      "Complex 8: <AtomGroup [<Atom 1: N of type N of resname GLN, resid 127 and segid A and altLoc >, <Atom 2: CA of type C of resname GLN, resid 127 and segid A and altLoc >, <Atom 3: C of type C of resname GLN, resid 127 and segid A and altLoc >, ..., <Atom 2153: C2 of type C of resname ADP, resid 401 and segid A and altLoc >, <Atom 2154: N3 of type N of resname ADP, resid 401 and segid A and altLoc >, <Atom 2155: C4 of type C of resname ADP, resid 401 and segid A and altLoc >]>\n",
      "Complex 9: <AtomGroup [<Atom 1: N of type N of resname GLN, resid 127 and segid A and altLoc >, <Atom 2: CA of type C of resname GLN, resid 127 and segid A and altLoc >, <Atom 3: C of type C of resname GLN, resid 127 and segid A and altLoc >, ..., <Atom 2157: C2 of type C of resname ADP, resid 401 and segid A and altLoc >, <Atom 2158: N3 of type N of resname ADP, resid 401 and segid A and altLoc >, <Atom 2159: C4 of type C of resname ADP, resid 401 and segid A and altLoc >]>\n",
      "Complex 10: <AtomGroup [<Atom 1: N of type N of resname GLN, resid 127 and segid A and altLoc >, <Atom 2: CA of type C of resname GLN, resid 127 and segid A and altLoc >, <Atom 3: C of type C of resname GLN, resid 127 and segid A and altLoc >, ..., <Atom 2166: C2 of type C of resname ADP, resid 401 and segid A and altLoc >, <Atom 2167: N3 of type N of resname ADP, resid 401 and segid A and altLoc >, <Atom 2168: C4 of type C of resname ADP, resid 401 and segid A and altLoc >]>\n"
     ]
    }
   ],
   "execution_count": 55
  },
  {
   "cell_type": "code",
   "id": "2700b57c-e7ac-40ae-a9a2-974fe8b75465",
   "metadata": {
    "ExecuteTime": {
     "end_time": "2024-10-10T07:14:06.339387Z",
     "start_time": "2024-10-10T07:14:06.337390Z"
    }
   },
   "source": "",
   "outputs": [],
   "execution_count": null
  },
  {
   "cell_type": "markdown",
   "id": "1b182dc4-29ed-4c45-8672-fdb995c9e677",
   "metadata": {},
   "source": [
    "#### 提取蛋白质和配体 ¶\n",
    "\n",
    "从结构中提取蛋白质和配体，以去除溶剂和晶体学的其他伪影。"
   ]
  },
  {
   "cell_type": "code",
   "id": "996e4ebe-de60-445f-9460-47745c6bdf01",
   "metadata": {
    "ExecuteTime": {
     "end_time": "2024-10-10T07:13:10.969006Z",
     "start_time": "2024-10-10T07:13:10.947721Z"
    }
   },
   "source": [
    "\n",
    "complexes"
   ],
   "outputs": [
    {
     "data": {
      "text/plain": [
       "[<AtomGroup with 2161 atoms>,\n",
       " <AtomGroup with 2119 atoms>,\n",
       " <AtomGroup with 2163 atoms>,\n",
       " <AtomGroup with 2168 atoms>,\n",
       " <AtomGroup with 2153 atoms>,\n",
       " <AtomGroup with 4426 atoms>,\n",
       " <AtomGroup with 2151 atoms>,\n",
       " <AtomGroup with 2144 atoms>,\n",
       " <AtomGroup with 2148 atoms>,\n",
       " <AtomGroup with 2157 atoms>]"
      ]
     },
     "execution_count": 40,
     "metadata": {},
     "output_type": "execute_result"
    }
   ],
   "execution_count": 40
  },
  {
   "cell_type": "code",
   "id": "eea48818-c524-4b84-a9f9-1a94c6cd4254",
   "metadata": {
    "ExecuteTime": {
     "end_time": "2024-10-10T07:13:15.453162Z",
     "start_time": "2024-10-10T07:13:13.234137Z"
    }
   },
   "source": [
    "# Write complex to file\n",
    "for complex_, pdb_id in zip(complexes, pairs.keys()):\n",
    "    complex_.write(DATA / f\"{pdb_id}.pdb\")"
   ],
   "outputs": [],
   "execution_count": 41
  },
  {
   "cell_type": "markdown",
   "id": "c6cf560b-9d5b-480f-a411-b4448024fa45",
   "metadata": {},
   "source": [
    "#### 对齐蛋白质 ¶\n",
    "\n",
    "对齐复合物（基于蛋白质原子）。"
   ]
  },
  {
   "cell_type": "code",
   "id": "94897607-af49-4243-8707-a804447c2c22",
   "metadata": {
    "ExecuteTime": {
     "end_time": "2024-10-10T07:14:03.154929Z",
     "start_time": "2024-10-10T07:14:03.152572Z"
    }
   },
   "source": "",
   "outputs": [],
   "execution_count": null
  },
  {
   "cell_type": "markdown",
   "id": "dd65bedb-5cbd-44d4-a683-cc7c95c88020",
   "metadata": {},
   "source": [
    "nglview 可用于可视化 Jupyter 笔记本中的分子数据。在下一个细胞中，我们将可视化对齐的蛋白质-配体复合物。"
   ]
  },
  {
   "cell_type": "code",
   "id": "113996a7-d54f-44ee-a3d5-e30b2441f7f8",
   "metadata": {
    "ExecuteTime": {
     "end_time": "2024-10-10T07:13:31.411176Z",
     "start_time": "2024-10-10T07:13:29.371970Z"
    }
   },
   "source": [
    "view = nglview.NGLWidget()\n",
    "for complex_ in complexes:\n",
    "    view.add_component(complex_.atoms)\n",
    "view"
   ],
   "outputs": [
    {
     "data": {
      "text/plain": [
       "NGLWidget()"
      ],
      "application/vnd.jupyter.widget-view+json": {
       "version_major": 2,
       "version_minor": 0,
       "model_id": "ad75e9af53c94037835d3bb96fd58197"
      }
     },
     "metadata": {},
     "output_type": "display_data"
    }
   ],
   "execution_count": 45
  },
  {
   "cell_type": "code",
   "id": "203fb8f9-89ee-45a1-b097-0827daddd39c",
   "metadata": {
    "ExecuteTime": {
     "end_time": "2024-10-10T07:13:33.386760Z",
     "start_time": "2024-10-10T07:13:33.381746Z"
    }
   },
   "source": [
    "view.render_image(trim=True, factor=2, transparent=True);"
   ],
   "outputs": [],
   "execution_count": 46
  },
  {
   "cell_type": "code",
   "id": "410fe8c6-7528-4af3-b3d2-a19d56f367f7",
   "metadata": {
    "ExecuteTime": {
     "end_time": "2024-10-10T07:13:34.188863Z",
     "start_time": "2024-10-10T07:13:34.183662Z"
    }
   },
   "source": [
    "view._display_image()"
   ],
   "outputs": [
    {
     "data": {
      "image/png": "",
      "text/plain": [
       "<IPython.core.display.Image object>"
      ]
     },
     "execution_count": 47,
     "metadata": {},
     "output_type": "execute_result"
    }
   ],
   "execution_count": 47
  },
  {
   "cell_type": "markdown",
   "id": "022b7adf-643d-4189-bf25-1870efc1aebe",
   "metadata": {},
   "source": [
    " 提取配体 ¶"
   ]
  },
  {
   "cell_type": "code",
   "id": "77833050-709e-4ca5-b71f-dbb30d75d557",
   "metadata": {
    "ExecuteTime": {
     "end_time": "2024-10-10T07:13:40.990493Z",
     "start_time": "2024-10-10T07:13:40.924506Z"
    }
   },
   "source": [
    "ligands = [\n",
    "    Structure.from_atomgroup(complex_.select_atoms(f\"resname {ligand}\"))\n",
    "    for complex_, ligand in zip(complexes, pairs.values())\n",
    "]\n",
    "ligands"
   ],
   "outputs": [
    {
     "data": {
      "text/plain": [
       "[<Universe with 27 atoms>,\n",
       " <Universe with 62 atoms>,\n",
       " <Universe with 27 atoms>,\n",
       " <Universe with 27 atoms>,\n",
       " <Universe with 27 atoms>,\n",
       " <Universe with 63 atoms>,\n",
       " <Universe with 27 atoms>,\n",
       " <Universe with 27 atoms>,\n",
       " <Universe with 27 atoms>,\n",
       " <Universe with 27 atoms>]"
      ]
     },
     "execution_count": 48,
     "metadata": {},
     "output_type": "execute_result"
    }
   ],
   "execution_count": 48
  },
  {
   "cell_type": "code",
   "id": "6a241dc0-7425-4bca-ad0a-4dac516690d6",
   "metadata": {
    "ExecuteTime": {
     "end_time": "2024-10-10T07:13:41.927805Z",
     "start_time": "2024-10-10T07:13:41.811613Z"
    }
   },
   "source": [
    "for ligand, pdb_id in zip(ligands, pairs.keys()):\n",
    "    ligand.write(DATA / f\"{pdb_id}_lig.pdb\")"
   ],
   "outputs": [],
   "execution_count": 49
  },
  {
   "cell_type": "markdown",
   "id": "1b15d838-ffc3-4afc-a296-663543d495c1",
   "metadata": {},
   "source": [
    "我们检查所有配体 pdb 文件是否存在。"
   ]
  },
  {
   "cell_type": "code",
   "id": "11530201-d316-458b-907c-131acbf79424",
   "metadata": {
    "ExecuteTime": {
     "end_time": "2024-10-10T07:13:42.697288Z",
     "start_time": "2024-10-10T07:13:42.690744Z"
    }
   },
   "source": [
    "ligand_files = []\n",
    "for file in DATA.glob(\"*_lig.pdb\"):\n",
    "    ligand_files.append(file.name)\n",
    "ligand_files"
   ],
   "outputs": [
    {
     "data": {
      "text/plain": [
       "['5ORX_lig.pdb',\n",
       " '5OS4_lig.pdb',\n",
       " '5OS5_lig.pdb',\n",
       " '5ORL_lig.pdb',\n",
       " '5OSF_lig.pdb',\n",
       " '4J8M_lig.pdb',\n",
       " '6C2T_lig.pdb',\n",
       " '5ORV_lig.pdb',\n",
       " '5OS3_lig.pdb',\n",
       " '5OS0_lig.pdb']"
      ]
     },
     "execution_count": 50,
     "metadata": {},
     "output_type": "execute_result"
    }
   ],
   "execution_count": 50
  },
  {
   "cell_type": "markdown",
   "id": "d6248c83-3e6d-4ce8-bde8-c92addfae0b2",
   "metadata": {},
   "source": [
    "我们还可以使用 nglview 来单独描述共结晶的配体。正如我们所看到的，所选复合物包含填充相同结合袋的配体，因此可以在下一个演讲中用于基于配体的药效团生成。"
   ]
  },
  {
   "cell_type": "code",
   "id": "f190fae5-ee07-46c7-8097-e53c92fb18ff",
   "metadata": {
    "ExecuteTime": {
     "end_time": "2024-10-10T07:13:44.338512Z",
     "start_time": "2024-10-10T07:13:44.148982Z"
    }
   },
   "source": [
    "view = nglview.NGLWidget()\n",
    "for component_id, ligand in enumerate(ligands):\n",
    "    view.add_component(ligand.atoms)\n",
    "    view.remove_ball_and_stick(component=component_id)\n",
    "    view.add_licorice(component=component_id)\n",
    "view"
   ],
   "outputs": [
    {
     "data": {
      "text/plain": [
       "NGLWidget()"
      ],
      "application/vnd.jupyter.widget-view+json": {
       "version_major": 2,
       "version_minor": 0,
       "model_id": "74d1496eec1a44caa12ed15308d12814"
      }
     },
     "metadata": {},
     "output_type": "display_data"
    }
   ],
   "execution_count": 51
  },
  {
   "cell_type": "code",
   "id": "35617b17-e944-4b85-82e6-6d15293ecd17",
   "metadata": {
    "ExecuteTime": {
     "end_time": "2024-10-10T07:13:44.750450Z",
     "start_time": "2024-10-10T07:13:44.743483Z"
    }
   },
   "source": [
    "view.render_image(trim=True, factor=2, transparent=True);"
   ],
   "outputs": [],
   "execution_count": 52
  },
  {
   "cell_type": "code",
   "id": "4da567f7-8e48-460f-8d2b-57379356fa4f",
   "metadata": {
    "ExecuteTime": {
     "end_time": "2024-10-10T07:13:45.356987Z",
     "start_time": "2024-10-10T07:13:45.352508Z"
    }
   },
   "source": [
    "view._display_image()"
   ],
   "outputs": [
    {
     "data": {
      "image/png": "",
      "text/plain": [
       "<IPython.core.display.Image object>"
      ]
     },
     "execution_count": 53,
     "metadata": {},
     "output_type": "execute_result"
    }
   ],
   "execution_count": 53
  },
  {
   "cell_type": "markdown",
   "id": "5319ebe1-189a-4230-b3cc-967008d22377",
   "metadata": {},
   "source": [
    "学习了如何从 PDB 中检索蛋白质和配体元信息以及结构信息。我们仅保留 AURKA 的 X 射线结构，并通过分辨率和配体可用性过滤我们的数据。最终，我们的目标是在下一个演讲中使用一组对齐的配体来生成基于配体的整体药效团。\n",
    "\n",
    "为了丰富药效团建模配体的信息，建议不仅通过 PDB 结构分辨率进行过滤，还检查配体多样性（参见 T005 关于通过相似性进行分子聚类）并检查配体活性（即包括仅有效配体）。\n",
    "\n",
    "技术说明：我们看到，目前无法从单个 Python 包访问存储在 PDB 中的不同信息位（结构元数据、坐标、配体元数据），但将 biotite 和 pypdb - 以及一些网络抓取来提取配体信息 - 我们能够收集我们需要的所有信息。鉴于 PDB 最近才完全更改为新的 API（2020 年 11 月），相关开源 Python 包在有时间赶上后可能会在未来提供更多功能。"
   ]
  },
  {
   "cell_type": "code",
   "id": "f97d26da-0325-4d74-91dc-658c0e774b33",
   "metadata": {
    "ExecuteTime": {
     "end_time": "2024-10-10T07:13:54.921924Z",
     "start_time": "2024-10-10T07:13:54.919665Z"
    }
   },
   "source": "",
   "outputs": [],
   "execution_count": null
  },
  {
   "cell_type": "code",
   "execution_count": null,
   "id": "847d9741-cd49-49b7-bcb7-bf9d71e9fbc4",
   "metadata": {},
   "outputs": [],
   "source": []
  },
  {
   "cell_type": "code",
   "execution_count": null,
   "id": "664365e9-199a-432f-b378-c4fb98cc79cd",
   "metadata": {},
   "outputs": [],
   "source": []
  },
  {
   "cell_type": "code",
   "execution_count": null,
   "id": "22d14580-5825-405e-9bfe-922b81260388",
   "metadata": {},
   "outputs": [],
   "source": []
  },
  {
   "cell_type": "code",
   "execution_count": null,
   "id": "6350510f-d5f6-4eb0-8162-5e88d8dab8e0",
   "metadata": {},
   "outputs": [],
   "source": []
  }
 ],
 "metadata": {
  "kernelspec": {
   "display_name": "Python 3 (ipykernel)",
   "language": "python",
   "name": "python3"
  },
  "language_info": {
   "codemirror_mode": {
    "name": "ipython",
    "version": 3
   },
   "file_extension": ".py",
   "mimetype": "text/x-python",
   "name": "python",
   "nbconvert_exporter": "python",
   "pygments_lexer": "ipython3",
   "version": "3.8.15"
  }
 },
 "nbformat": 4,
 "nbformat_minor": 5
}

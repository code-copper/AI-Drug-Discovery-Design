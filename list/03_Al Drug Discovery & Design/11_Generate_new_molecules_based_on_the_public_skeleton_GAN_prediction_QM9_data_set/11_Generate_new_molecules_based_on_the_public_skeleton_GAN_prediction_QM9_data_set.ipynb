{
 "cells": [
  {
   "metadata": {},
   "cell_type": "markdown",
   "source": "# Generate new molecules based on the public skeleton GAN prediction QM9 data set",
   "id": "7e79eab602d2bb56"
  },
  {
   "metadata": {},
   "cell_type": "markdown",
   "source": [
    "## 项目背景 \n",
    "在过去的几年里，深度学习技术在分子生成方面取得了巨大的进步。许多研究人员开发了基于深度学习的分子生成模型，例如基于图神经网络的分子生成模型（Graph-based Neural Network, GNN-based molecule generator）。然而，这些模型往往需要大量的训练数据才能取得良好的性能。为了解决这个问题，最近的研究人员提出了一种新的分子生成方法，即基于公共骨架的GAN（Generative Adversarial Network）预测QM9数据集。该方法利用GAN生成的分子骨架，并在骨架上添加新的取代基，生成新的分子。这种方法比直接使用GAN生成分子更可控，也更容易满足指定的骨架结构。\n",
    "\n",
    "本项目的目标是利用公共骨架的GAN预测QM9数据集，生成符合Lipinski's Rule of Five和CNS药物设计规则的新分子。我们将使用PyTorch和RDKit库来实现该项目。"
   ],
   "id": "efe72068d95c9b65"
  },
  {
   "metadata": {},
   "cell_type": "markdown",
   "source": [
    "## 设计思想 ：\n",
    "\n",
    "1. **加载SDF文件中的分子**：从指定的SDF文件中加载具有最大公共骨架的分子，以作为新分子生成的起点。\n",
    "2. **生成新分子**：使用反应模板，比如：xxxx, 在骨架上添加新的取代基，生成新的分子。这种方法比直接使用GAN生成分子更可控，也更容易满足指定的骨架结构。\n",
    "3. **应用药物设计规则和计算分子属性**：对生成的新分子，应用Lipinski's Rule of Five和CNS药物设计规则，筛选出符合条件的分子。同时计算额外的分子属性，以供进一步分析。\n",
    "4. **使用GNN模型预测分子性质**：将生成的新分子转换为图数据，并使用之前训练的GNN模型预测其性质（例如目标物理化学性质或生物活性）。\n",
    "5. **筛选符合要求的分子**：根据预测的性质值、QED得分、Lipinski规则和CNS药物设计规则，筛选出符合要求的分子。\n",
    "6. **并行计算**：在处理大量分子时，使用多线程或并行计算来加速处理。\n",
    "7. **保存结果**：将筛选后的分子及其属性保存到CSV文件中。"
   ],
   "id": "6cacf06b915e2369"
  },
  {
   "metadata": {},
   "cell_type": "markdown",
   "source": "## 1. 导入依赖库",
   "id": "b9ca85b4baf256fb"
  },
  {
   "cell_type": "code",
   "id": "initial_id",
   "metadata": {
    "collapsed": true,
    "ExecuteTime": {
     "end_time": "2024-10-04T13:07:33.021560Z",
     "start_time": "2024-10-04T13:07:24.876288Z"
    }
   },
   "source": [
    "import os\n",
    "from pathlib import Path\n",
    "import pandas as pd\n",
    "from rdkit import Chem\n",
    "from rdkit.Chem import AllChem, Descriptors, QED, rdChemReactions\n",
    "from rdkit.Chem import rdFMCS\n",
    "import torch\n",
    "import torch.nn as nn\n",
    "import torch.nn.functional as F\n",
    "from torch_geometric.data import Data, DataLoader\n",
    "from torch_geometric.nn import GCNConv, global_mean_pool\n",
    "import numpy as np\n",
    "from sklearn.metrics import r2_score, mean_squared_error\n",
    "import random\n",
    "# pip install deap\n",
    "from deap import base, creator, tools, algorithms\n",
    "# 检查安装，安装完成后，你可以通过以下命令来检查是否成功安装：\n",
    "# python -c \"import deap; print(deap.__version__)\"\n",
    "\n",
    "# pip install joblib：用于并行化操作\n",
    "from joblib import Parallel, delayed\n",
    "import multiprocessing"
   ],
   "outputs": [],
   "execution_count": 1
  },
  {
   "metadata": {
    "ExecuteTime": {
     "end_time": "2024-10-04T13:07:36.629171Z",
     "start_time": "2024-10-04T13:07:36.625072Z"
    }
   },
   "cell_type": "code",
   "source": [
    "from pathlib import Path\n",
    "import os\n",
    "\n",
    "# 获取当前工作目录\n",
    "HERE = Path(os.getcwd())\n",
    "DATA = HERE / 'data'\n",
    "if not DATA.exists():\n",
    "    DATA.mkdir(parents=True, exist_ok=True)\n",
    "print(DATA)\n"
   ],
   "id": "c914315a4ee10356",
   "outputs": [
    {
     "name": "stdout",
     "output_type": "stream",
     "text": [
      "/Users/wangyang/Desktop/AIDD/09_Generate_new_molecules_based_on_the_public_skeleton_GAN_prediction_QM9_data_set/data\n"
     ]
    }
   ],
   "execution_count": 2
  },
  {
   "metadata": {
    "ExecuteTime": {
     "end_time": "2024-10-04T13:07:38.100476Z",
     "start_time": "2024-10-04T13:07:38.060881Z"
    }
   },
   "cell_type": "code",
   "source": [
    "# 加载最大的骨架分子\n",
    "sdf_file = str(HERE / \"../05_Compound_clustering/data/molecule_set_largest_cluster.sdf\")\n",
    "supplier = Chem.SDMolSupplier(sdf_file)\n",
    "scaffold_molecules = [mol for mol in supplier if mol is not None]\n",
    "\n",
    "print(f\"Loaded {len(scaffold_molecules)} molecules from the SDF file.\")"
   ],
   "id": "6b5cf9a44cf07fbd",
   "outputs": [
    {
     "name": "stdout",
     "output_type": "stream",
     "text": [
      "Loaded 108 molecules from the SDF file.\n"
     ]
    }
   ],
   "execution_count": 3
  },
  {
   "metadata": {},
   "cell_type": "markdown",
   "source": [
    "# =======================\n",
    "# 第一步：训练GNN模型\n",
    "# ======================="
   ],
   "id": "cda6523b46f19462"
  },
  {
   "metadata": {
    "ExecuteTime": {
     "end_time": "2024-10-04T13:07:42.213782Z",
     "start_time": "2024-10-04T13:07:42.210934Z"
    }
   },
   "cell_type": "code",
   "source": [
    "# 加载QM9数据集\n",
    "from torch_geometric.datasets import QM9"
   ],
   "id": "ecc3de11a46f760f",
   "outputs": [],
   "execution_count": 4
  },
  {
   "metadata": {
    "jupyter": {
     "is_executing": true
    },
    "ExecuteTime": {
     "start_time": "2024-10-04T13:07:45.618219Z"
    }
   },
   "cell_type": "code",
   "source": [
    "\n",
    "from torch_geometric.datasets import QM9\n",
    "from torch_geometric.nn import GCNConv, GINConv\n",
    "from torch_geometric.loader import DataLoader\n",
    "from torch_geometric.nn import global_mean_pool, global_add_pool\n",
    "path = DATA \n",
    "target_property = 0  # 选择要预测的属性（0-12）\n",
    "dataset = QM9(root=DATA)\n",
    "dataset[0]"
   ],
   "id": "4aa74a868bce5af7",
   "outputs": [
    {
     "name": "stderr",
     "output_type": "stream",
     "text": [
      "Processing...\n"
     ]
    }
   ],
   "execution_count": null
  },
  {
   "metadata": {
    "ExecuteTime": {
     "end_time": "2024-10-03T16:23:23.446505Z",
     "start_time": "2024-10-03T16:23:23.295510Z"
    }
   },
   "cell_type": "code",
   "source": [
    "# 标准化目标属性\n",
    "mean = dataset.data.y[:, target_property].mean().item()\n",
    "std = dataset.data.y[:, target_property].std().item()\n",
    "dataset.data.y[:, target_property] = (dataset.data.y[:, target_property] - mean) / std\n"
   ],
   "id": "a27512bc4a61361e",
   "outputs": [
    {
     "ename": "AttributeError",
     "evalue": "'DataFrame' object has no attribute 'data'",
     "output_type": "error",
     "traceback": [
      "\u001B[0;31m---------------------------------------------------------------------------\u001B[0m",
      "\u001B[0;31mAttributeError\u001B[0m                            Traceback (most recent call last)",
      "\u001B[0;32m/var/folders/ht/gnpr8yd92cjb58d6qz2p81s00000gn/T/ipykernel_45428/2573787902.py\u001B[0m in \u001B[0;36m?\u001B[0;34m()\u001B[0m\n\u001B[0;32m----> 2\u001B[0;31m \u001B[0;31m# 标准化目标属性\u001B[0m\u001B[0;34m\u001B[0m\u001B[0;34m\u001B[0m\u001B[0;34m\u001B[0m\u001B[0m\n\u001B[0m\u001B[1;32m      3\u001B[0m \u001B[0mmean\u001B[0m \u001B[0;34m=\u001B[0m \u001B[0mdataset\u001B[0m\u001B[0;34m.\u001B[0m\u001B[0mdata\u001B[0m\u001B[0;34m.\u001B[0m\u001B[0my\u001B[0m\u001B[0;34m[\u001B[0m\u001B[0;34m:\u001B[0m\u001B[0;34m,\u001B[0m \u001B[0mtarget_property\u001B[0m\u001B[0;34m]\u001B[0m\u001B[0;34m.\u001B[0m\u001B[0mmean\u001B[0m\u001B[0;34m(\u001B[0m\u001B[0;34m)\u001B[0m\u001B[0;34m.\u001B[0m\u001B[0mitem\u001B[0m\u001B[0;34m(\u001B[0m\u001B[0;34m)\u001B[0m\u001B[0;34m\u001B[0m\u001B[0;34m\u001B[0m\u001B[0m\n\u001B[1;32m      4\u001B[0m \u001B[0mstd\u001B[0m \u001B[0;34m=\u001B[0m \u001B[0mdataset\u001B[0m\u001B[0;34m.\u001B[0m\u001B[0mdata\u001B[0m\u001B[0;34m.\u001B[0m\u001B[0my\u001B[0m\u001B[0;34m[\u001B[0m\u001B[0;34m:\u001B[0m\u001B[0;34m,\u001B[0m \u001B[0mtarget_property\u001B[0m\u001B[0;34m]\u001B[0m\u001B[0;34m.\u001B[0m\u001B[0mstd\u001B[0m\u001B[0;34m(\u001B[0m\u001B[0;34m)\u001B[0m\u001B[0;34m.\u001B[0m\u001B[0mitem\u001B[0m\u001B[0;34m(\u001B[0m\u001B[0;34m)\u001B[0m\u001B[0;34m\u001B[0m\u001B[0;34m\u001B[0m\u001B[0m\n\u001B[1;32m      5\u001B[0m \u001B[0mdataset\u001B[0m\u001B[0;34m.\u001B[0m\u001B[0mdata\u001B[0m\u001B[0;34m.\u001B[0m\u001B[0my\u001B[0m\u001B[0;34m[\u001B[0m\u001B[0;34m:\u001B[0m\u001B[0;34m,\u001B[0m \u001B[0mtarget_property\u001B[0m\u001B[0;34m]\u001B[0m \u001B[0;34m=\u001B[0m \u001B[0;34m(\u001B[0m\u001B[0mdataset\u001B[0m\u001B[0;34m.\u001B[0m\u001B[0mdata\u001B[0m\u001B[0;34m.\u001B[0m\u001B[0my\u001B[0m\u001B[0;34m[\u001B[0m\u001B[0;34m:\u001B[0m\u001B[0;34m,\u001B[0m \u001B[0mtarget_property\u001B[0m\u001B[0;34m]\u001B[0m \u001B[0;34m-\u001B[0m \u001B[0mmean\u001B[0m\u001B[0;34m)\u001B[0m \u001B[0;34m/\u001B[0m \u001B[0mstd\u001B[0m\u001B[0;34m\u001B[0m\u001B[0;34m\u001B[0m\u001B[0m\n",
      "\u001B[0;32m/opt/anaconda3/envs/teachopencadd/lib/python3.8/site-packages/pandas/core/generic.py\u001B[0m in \u001B[0;36m?\u001B[0;34m(self, name)\u001B[0m\n\u001B[1;32m   5571\u001B[0m             \u001B[0;32mand\u001B[0m \u001B[0mname\u001B[0m \u001B[0;32mnot\u001B[0m \u001B[0;32min\u001B[0m \u001B[0mself\u001B[0m\u001B[0;34m.\u001B[0m\u001B[0m_accessors\u001B[0m\u001B[0;34m\u001B[0m\u001B[0;34m\u001B[0m\u001B[0m\n\u001B[1;32m   5572\u001B[0m             \u001B[0;32mand\u001B[0m \u001B[0mself\u001B[0m\u001B[0;34m.\u001B[0m\u001B[0m_info_axis\u001B[0m\u001B[0;34m.\u001B[0m\u001B[0m_can_hold_identifiers_and_holds_name\u001B[0m\u001B[0;34m(\u001B[0m\u001B[0mname\u001B[0m\u001B[0;34m)\u001B[0m\u001B[0;34m\u001B[0m\u001B[0;34m\u001B[0m\u001B[0m\n\u001B[1;32m   5573\u001B[0m         ):\n\u001B[1;32m   5574\u001B[0m             \u001B[0;32mreturn\u001B[0m \u001B[0mself\u001B[0m\u001B[0;34m[\u001B[0m\u001B[0mname\u001B[0m\u001B[0;34m]\u001B[0m\u001B[0;34m\u001B[0m\u001B[0;34m\u001B[0m\u001B[0m\n\u001B[0;32m-> 5575\u001B[0;31m         \u001B[0;32mreturn\u001B[0m \u001B[0mobject\u001B[0m\u001B[0;34m.\u001B[0m\u001B[0m__getattribute__\u001B[0m\u001B[0;34m(\u001B[0m\u001B[0mself\u001B[0m\u001B[0;34m,\u001B[0m \u001B[0mname\u001B[0m\u001B[0;34m)\u001B[0m\u001B[0;34m\u001B[0m\u001B[0;34m\u001B[0m\u001B[0m\n\u001B[0m",
      "\u001B[0;31mAttributeError\u001B[0m: 'DataFrame' object has no attribute 'data'"
     ]
    }
   ],
   "execution_count": 6
  },
  {
   "metadata": {},
   "cell_type": "code",
   "outputs": [],
   "execution_count": null,
   "source": [
    "# 划分训练集、验证集和测试集\n",
    "torch.manual_seed(42)\n",
    "dataset = dataset.shuffle()\n",
    "train_dataset = dataset[:110000]\n",
    "val_dataset = dataset[110000:120000]\n",
    "test_dataset = dataset[120000:]\n",
    "\n",
    "train_loader = DataLoader(train_dataset, batch_size=64, shuffle=True)\n",
    "val_loader = DataLoader(val_dataset, batch_size=64, shuffle=False)\n",
    "test_loader = DataLoader(test_dataset, batch_size=64, shuffle=False)"
   ],
   "id": "e15d1028bb3ccac9"
  },
  {
   "metadata": {},
   "cell_type": "code",
   "outputs": [],
   "execution_count": null,
   "source": [
    "# 定义GNN模型\n",
    "class GCN(torch.nn.Module):\n",
    "    def __init__(self):\n",
    "        super(GCN, self).__init__()\n",
    "        torch.manual_seed(42)\n",
    "        self.conv1 = GCNConv(dataset.num_features, 128)\n",
    "        self.conv2 = GCNConv(128, 128)\n",
    "        self.conv3 = GCNConv(128, 128)\n",
    "        self.lin1 = nn.Linear(128, 64)\n",
    "        self.lin2 = nn.Linear(64, 1)\n",
    "\n",
    "    def forward(self, data):\n",
    "        x, edge_index, batch = data.x, data.edge_index, data.batch\n",
    "        x = self.conv1(x, edge_index)\n",
    "        x = F.relu(x)\n",
    "        x = self.conv2(x, edge_index)\n",
    "        x = F.relu(x)\n",
    "        x = self.conv3(x, edge_index)\n",
    "        x = global_mean_pool(x, batch)\n",
    "        x = F.relu(self.lin1(x))\n",
    "        x = self.lin2(x)\n",
    "        return x.squeeze()\n"
   ],
   "id": "835a3c1023a9f6f4"
  },
  {
   "metadata": {},
   "cell_type": "code",
   "outputs": [],
   "execution_count": null,
   "source": [
    "# 创建模型实例\n",
    "model = GCN()"
   ],
   "id": "8f6ac12c6eb8c717"
  },
  {
   "metadata": {},
   "cell_type": "code",
   "outputs": [],
   "execution_count": null,
   "source": [
    "# 定义损失函数和优化器\n",
    "criterion = nn.MSELoss()\n",
    "optimizer = torch.optim.Adam(model.parameters(), lr=0.001)\n"
   ],
   "id": "86f9ade9d565e873"
  },
  {
   "metadata": {},
   "cell_type": "code",
   "outputs": [],
   "execution_count": null,
   "source": [
    "# 训练和验证函数\n",
    "def train():\n",
    "    model.train()\n",
    "    total_loss = 0\n",
    "    for data in train_loader:\n",
    "        optimizer.zero_grad()\n",
    "        out = model(data)\n",
    "        y = data.y[:, target_property]\n",
    "        loss = criterion(out, y)\n",
    "        loss.backward()\n",
    "        optimizer.step()\n",
    "        total_loss += loss.item() * data.num_graphs\n",
    "    return total_loss / len(train_dataset)\n",
    "\n",
    "def validate(loader):\n",
    "    model.eval()\n",
    "    total_loss = 0\n",
    "    preds = []\n",
    "    targets = []\n",
    "    with torch.no_grad():\n",
    "        for data in loader:\n",
    "            out = model(data)\n",
    "            y = data.y[:, target_property]\n",
    "            loss = criterion(out, y)\n",
    "            total_loss += loss.item() * data.num_graphs\n",
    "            preds.append(out.cpu().numpy())\n",
    "            targets.append(y.cpu().numpy())\n",
    "    preds = np.concatenate(preds)\n",
    "    targets = np.concatenate(targets)\n",
    "    r2 = r2_score(targets, preds)\n",
    "    rmse = mean_squared_error(targets, preds, squared=False)\n",
    "    return total_loss / len(loader.dataset), r2, rmse"
   ],
   "id": "1fed5c3b09c3601d"
  },
  {
   "metadata": {},
   "cell_type": "code",
   "outputs": [],
   "execution_count": null,
   "source": [
    "# 开始训练\n",
    "best_val_loss = float('inf')\n",
    "for epoch in range(1, 51):\n",
    "    train_loss = train()\n",
    "    val_loss, val_r2, val_rmse = validate(val_loader)\n",
    "    print(f'Epoch: {epoch:02d}, Train Loss: {train_loss:.4f}, Val Loss: {val_loss:.4f}, Val R2: {val_r2:.4f}, Val RMSE: {val_rmse:.4f}')\n",
    "    # 保存最好的模型\n",
    "    if val_loss < best_val_loss:\n",
    "        best_val_loss = val_loss\n",
    "        torch.save(model.state_dict(), 'best_model.pth')\n",
    "\n",
    "# 在测试集上评估模型\n",
    "model.load_state_dict(torch.load('best_model.pth'))\n",
    "test_loss, test_r2, test_rmse = validate(test_loader)\n",
    "print(f'Test Loss: {test_loss:.4f}, Test R2: {test_r2:.4f}, Test RMSE: {test_rmse:.4f}')\n"
   ],
   "id": "368a6f4d7a868018"
  },
  {
   "metadata": {},
   "cell_type": "markdown",
   "source": [
    "# =======================\n",
    "# 第二步：生成新分子\n",
    "# ======================="
   ],
   "id": "714c97d88098cdbc"
  },
  {
   "metadata": {},
   "cell_type": "code",
   "outputs": [],
   "execution_count": null,
   "source": [
    "# 从文献和数据库中扩展取代基库和反应模板\n",
    "# 这里使用了一些示例，实际应用中可以从ChEMBL、ZINC等数据库获取\n",
    "substituents = [\n",
    "    'CC', 'CCC', 'CCCC', 'c1ccccc1', 'c1ccncc1', 'c1cccnc1',\n",
    "    'CO', 'CN', 'Cl', 'Br', 'F', 'OC', 'NC', 'SC',\n",
    "    'c1ccccc1C', 'c1ccccc1O', 'c1ccccc1N',\n",
    "    'N#C', 'C#N', 'C=O', 'N=O', 'S(=O)(=O)N', 'C(=O)N',\n",
    "    # 更多取代基\n",
    "]"
   ],
   "id": "cadd13d6d48a622a"
  },
  {
   "metadata": {},
   "cell_type": "code",
   "outputs": [],
   "execution_count": null,
   "source": [
    "# 多种反应模板\n",
    "reaction_smarts_list = [\n",
    "    # Suzuki反应\n",
    "    '[c:1][Br:2].[B:3]([OH])[OH]>>[c:1][c:3]',\n",
    "    # 酰胺化反应\n",
    "    '[C:1](=[O])[Cl:2].[N:3]>>[C:1](=[O])[N:3]',\n",
    "    # 醇化反应\n",
    "    '[C:1][Br:2].[O:3][H]>>[C:1][O:3]',\n",
    "    # 还原胺化\n",
    "    '[C:1]=[O:2].[N:3][H2]>>[C:1][N:3]',\n",
    "    # 其他反应模板\n",
    "]"
   ],
   "id": "b455a84cdcd1e6cd"
  },
  {
   "metadata": {},
   "cell_type": "code",
   "outputs": [],
   "execution_count": null,
   "source": "reactions = [rdChemReactions.ReactionFromSmarts(s) for s in reaction_smarts_list]",
   "id": "fb35de901adc3519"
  },
  {
   "metadata": {},
   "cell_type": "code",
   "outputs": [],
   "execution_count": null,
   "source": [
    "# 定义取代基的分子对象\n",
    "substituent_mols = [Chem.MolFromSmiles(smi) for smi in substituents if Chem.MolFromSmiles(smi) is not None]\n"
   ],
   "id": "4c9028f7637d7934"
  },
  {
   "metadata": {},
   "cell_type": "code",
   "outputs": [],
   "execution_count": null,
   "source": [
    "# 使用并行计算生成新分子\n",
    "def generate_products(scaffold_mol):\n",
    "    products = []\n",
    "    for substituent in substituent_mols:\n",
    "        for reaction in reactions:\n",
    "            reactants = (scaffold_mol, substituent)\n",
    "            prods = reaction.RunReactants(reactants)\n",
    "            for product_tuple in prods:\n",
    "                product = product_tuple[0]\n",
    "                try:\n",
    "                    # 规范化产物\n",
    "                    Chem.SanitizeMol(product)\n",
    "                    products.append(product)\n",
    "                except:\n",
    "                    continue\n",
    "    return products"
   ],
   "id": "d5ae31630903efaa"
  },
  {
   "metadata": {},
   "cell_type": "code",
   "outputs": [],
   "execution_count": null,
   "source": [
    "# 使用多线程并行生成分子\n",
    "num_cores = multiprocessing.cpu_count()\n",
    "results = Parallel(n_jobs=num_cores)(delayed(generate_products)(mol) for mol in scaffold_molecules)\n",
    "new_molecules = [mol for sublist in results for mol in sublist]\n",
    "\n",
    "print(f\"Generated {len(new_molecules)} new molecules.\")"
   ],
   "id": "6564e9b3b8713519"
  },
  {
   "metadata": {},
   "cell_type": "code",
   "outputs": [],
   "execution_count": null,
   "source": [
    "# 去除重复的分子\n",
    "unique_molecules = {Chem.MolToSmiles(mol): mol for mol in new_molecules}\n",
    "new_molecules = list(unique_molecules.values())\n",
    "\n",
    "print(f\"Unique molecules count: {len(new_molecules)}\")"
   ],
   "id": "c66086892465c57e"
  },
  {
   "metadata": {},
   "cell_type": "markdown",
   "source": [
    "# =======================\n",
    "# 第三步：优化生成策略（改进遗传算法）\n",
    "# ======================="
   ],
   "id": "baacdbdd9e55feb1"
  },
  {
   "metadata": {},
   "cell_type": "code",
   "outputs": [],
   "execution_count": null,
   "source": [
    "# 定义适应度函数\n",
    "def fitness_function(mol):\n",
    "    try:\n",
    "        data = mol_to_graph(mol)\n",
    "        with torch.no_grad():\n",
    "            pred_property = model(data).item()\n",
    "        # 反标准化\n",
    "        pred_property = pred_property * std + mean\n",
    "        # 合成可行性评分（示例，这里简单使用QED评分）\n",
    "        synth_score = QED.qed(mol)\n",
    "        # 毒性预测（这里使用简单的规则，实际中可以使用更复杂的模型）\n",
    "        toxic = any(substruct in Chem.MolToSmiles(mol) for substruct in ['[N+]', '[O-]'])\n",
    "        if toxic:\n",
    "            penalty = -1.0\n",
    "        else:\n",
    "            penalty = 0.0\n",
    "        # 适应度为目标性质 + 合成可行性 - 毒性惩罚\n",
    "        fitness = pred_property + synth_score + penalty\n",
    "        return fitness,\n",
    "    except:\n",
    "        return -1000.0,"
   ],
   "id": "62769055f6e3415a"
  },
  {
   "metadata": {},
   "cell_type": "code",
   "outputs": [],
   "execution_count": null,
   "source": [
    "# 初始化遗传算法工具箱\n",
    "creator.create(\"FitnessMax\", base.Fitness, weights=(1.0,))  # 最大化目标函数\n",
    "creator.create(\"Individual\", Chem.Mol, fitness=creator.FitnessMax)\n",
    "\n",
    "toolbox = base.Toolbox()\n",
    "toolbox.register(\"individual\", random.choice, new_molecules)\n",
    "toolbox.register(\"population\", tools.initRepeat, list, toolbox.individual)\n"
   ],
   "id": "39b8c6970f0c9b2"
  },
  {
   "metadata": {},
   "cell_type": "code",
   "outputs": [],
   "execution_count": null,
   "source": [
    "# 改进交叉操作（基于化学规则）\n",
    "def mate_mols(mol1, mol2):\n",
    "    # 使用最大公共子结构（MCS）进行交叉\n",
    "    try:\n",
    "        mcs = rdFMCS.FindMCS([mol1, mol2])\n",
    "        smarts = mcs.smartsString\n",
    "        mcs_mol = Chem.MolFromSmarts(smarts)\n",
    "        if mcs_mol is None:\n",
    "            return mol1\n",
    "        # 获取差异部分\n",
    "        frags1 = Chem.ReplaceCore(mol1, mcs_mol)\n",
    "        frags2 = Chem.ReplaceCore(mol2, mcs_mol)\n",
    "        if frags1 is None or frags2 is None:\n",
    "            return mol1\n",
    "        # 随机选择一个片段进行组合\n",
    "        new_mol = Chem.CombineMols(mcs_mol, random.choice([frags1, frags2]))\n",
    "        new_mol = Chem.MolFromSmiles(Chem.MolToSmiles(new_mol))\n",
    "        Chem.SanitizeMol(new_mol)\n",
    "        return new_mol\n",
    "    except:\n",
    "        return mol1"
   ],
   "id": "6f10b0b213d218df"
  },
  {
   "metadata": {},
   "cell_type": "code",
   "outputs": [],
   "execution_count": null,
   "source": [
    "# 改进变异操作（替换取代基）\n",
    "def mutate_mol(mol):\n",
    "    try:\n",
    "        # 随机选择一个取代基位置\n",
    "        editable_mol = Chem.EditableMol(mol)\n",
    "        atom_indices = [atom.GetIdx() for atom in mol.GetAtoms() if atom.GetAtomicNum() == 6]  # 碳原子\n",
    "        if not atom_indices:\n",
    "            return mol\n",
    "        idx = random.choice(atom_indices)\n",
    "        # 替换为随机取代基\n",
    "        substituent = random.choice(substituent_mols)\n",
    "        rxn = rdChemReactions.ReactionFromSmarts('[C:1]>>[C:1][*:2]')\n",
    "        products = rxn.RunReactants((mol,))\n",
    "        if products:\n",
    "            product = products[0][0]\n",
    "            Chem.SanitizeMol(product)\n",
    "            return product\n",
    "        else:\n",
    "            return mol\n",
    "    except:\n",
    "        return mol\n",
    "\n",
    "toolbox.register(\"mate\", mate_mols)\n",
    "toolbox.register(\"mutate\", mutate_mol)\n",
    "toolbox.register(\"select\", tools.selTournament, tournsize=3)\n",
    "toolbox.register(\"evaluate\", fitness_function)\n"
   ],
   "id": "2251dc1415d34dca"
  },
  {
   "metadata": {},
   "cell_type": "code",
   "outputs": [],
   "execution_count": null,
   "source": [
    "# 运行遗传算法\n",
    "population = toolbox.population(n=100)\n",
    "NGEN = 20\n",
    "for gen in range(NGEN):\n",
    "    print(f\"-- Generation {gen} --\")\n",
    "    offspring = algorithms.varAnd(population, toolbox, cxpb=0.5, mutpb=0.2)\n",
    "    # 使用并行计算评估适应度\n",
    "    fits = Parallel(n_jobs=num_cores)(delayed(toolbox.evaluate)(ind) for ind in offspring)\n",
    "    for fit, ind in zip(fits, offspring):\n",
    "        ind.fitness.values = fit\n",
    "    population = toolbox.select(offspring, k=len(population))"
   ],
   "id": "16aa47e77bccbf2e"
  },
  {
   "metadata": {},
   "cell_type": "code",
   "outputs": [],
   "execution_count": null,
   "source": [
    "# 获取最优分子\n",
    "top_inds = tools.selBest(population, k=50)\n",
    "optimized_molecules = [ind for ind in top_inds]"
   ],
   "id": "29c6ab30f1aca7e3"
  },
  {
   "metadata": {},
   "cell_type": "markdown",
   "source": [
    "# =======================\n",
    "# 第四步：应用药物设计规则和计算分子属性\n",
    "# ======================="
   ],
   "id": "fdacd9e400c9656f"
  },
  {
   "metadata": {},
   "cell_type": "code",
   "outputs": [],
   "execution_count": null,
   "source": "from rdkit.Chem import Draw\n",
   "id": "28bafeca37e85021"
  },
  {
   "metadata": {},
   "cell_type": "code",
   "outputs": [],
   "execution_count": null,
   "source": [
    "def lipinski_rule_of_five(mol):\n",
    "    mol_weight = Descriptors.MolWt(mol)\n",
    "    logp = Descriptors.MolLogP(mol)\n",
    "    hbd = Descriptors.NumHDonors(mol)\n",
    "    hba = Descriptors.NumHAcceptors(mol)\n",
    "    return mol_weight <= 500 and logp <= 5 and hbd <= 5 and hba <= 10"
   ],
   "id": "bffc9ba458f1bd87"
  },
  {
   "metadata": {},
   "cell_type": "code",
   "outputs": [],
   "execution_count": null,
   "source": [
    "# 定义CNS药物设计规则\n",
    "def cns_drug_likeness(mol):\n",
    "    mol_weight = Descriptors.MolWt(mol)\n",
    "    logp = Descriptors.MolLogP(mol)\n",
    "    tpsa = Descriptors.TPSA(mol)\n",
    "    return mol_weight <= 400 and 2 <= logp <= 3 and tpsa <= 90"
   ],
   "id": "4d21cffbfbf55879"
  },
  {
   "metadata": {},
   "cell_type": "code",
   "outputs": [],
   "execution_count": null,
   "source": [
    "# 其他评价指标\n",
    "def synthetic_accessibility(mol):\n",
    "    # 这里使用RDKit的SA_Score，需安装sascorer模块\n",
    "    try:\n",
    "        from rdkit.Chem import rdMolDescriptors\n",
    "        sa_score = rdMolDescriptors._CalcSAScore(mol)\n",
    "        return sa_score\n",
    "    except:\n",
    "        return None\n"
   ],
   "id": "2239cedf6700501"
  },
  {
   "metadata": {},
   "cell_type": "code",
   "outputs": [],
   "execution_count": null,
   "source": [
    "def toxicity_prediction(mol):\n",
    "    # 简单的毒性预测，可以使用特定的SMARTS模式\n",
    "    toxic_substructures = ['[N+]', '[O-]', '[S+]', '[P+]', '[As]', '[Se]', '[Te]']\n",
    "    for substruct in toxic_substructures:\n",
    "        pattern = Chem.MolFromSmarts(substruct)\n",
    "        if mol.HasSubstructMatch(pattern):\n",
    "            return True\n",
    "    return False"
   ],
   "id": "c9c959a72f495f28"
  },
  {
   "metadata": {},
   "cell_type": "code",
   "outputs": [],
   "execution_count": null,
   "source": [
    "# 计算分子的额外属性\n",
    "def calculate_additional_properties(mol):\n",
    "    logp = Descriptors.MolLogP(mol)\n",
    "    hbd = Descriptors.NumHDonors(mol)\n",
    "    hba = Descriptors.NumHAcceptors(mol)\n",
    "    num_aromatic_rings = Chem.rdMolDescriptors.CalcNumAromaticRings(mol)\n",
    "    num_aliphatic_rings = Chem.rdMolDescriptors.CalcNumAliphaticRings(mol)\n",
    "    num_non_h_atoms = sum(1 for atom in mol.GetAtoms() if atom.GetAtomicNum() > 1)\n",
    "    num_non_c_atoms = sum(1 for atom in mol.GetAtoms() if atom.GetAtomicNum() != 6)\n",
    "    non_c_ratio = num_non_c_atoms / num_non_h_atoms if num_non_h_atoms > 0 else 0\n",
    "    return logp, hbd, hba, num_aromatic_rings, num_aliphatic_rings, non_c_ratio\n"
   ],
   "id": "3baf833ded1c9091"
  },
  {
   "metadata": {},
   "cell_type": "code",
   "outputs": [],
   "execution_count": null,
   "source": [
    "# 将分子转换为图数据\n",
    "def mol_to_graph(mol):\n",
    "    atoms = mol.GetAtoms()\n",
    "    atom_features = []\n",
    "    for atom in atoms:\n",
    "        atom_features.append([atom.GetAtomicNum()])\n",
    "    x = torch.tensor(atom_features, dtype=torch.float)\n",
    "    edge_index = []\n",
    "    bonds = mol.GetBonds()\n",
    "    for bond in bonds:\n",
    "        edge_index.append([bond.GetBeginAtomIdx(), bond.GetEndAtomIdx()])\n",
    "        edge_index.append([bond.GetEndAtomIdx(), bond.GetBeginAtomIdx()])\n",
    "    edge_index = torch.tensor(edge_index, dtype=torch.long).t().contiguous()\n",
    "    data = Data(x=x, edge_index=edge_index)\n",
    "    data.batch = torch.zeros(data.num_nodes, dtype=torch.long)\n",
    "    return data"
   ],
   "id": "e6ffaf919c53cda2"
  },
  {
   "metadata": {},
   "cell_type": "code",
   "outputs": [],
   "execution_count": null,
   "source": [
    "# 筛选并保存符合条件的分子\n",
    "optimized_results = []\n",
    "for mol in optimized_molecules:\n",
    "    try:\n",
    "        data = mol_to_graph(mol)\n",
    "        with torch.no_grad():\n",
    "            pred_property = model(data).item()\n",
    "        # 反标准化\n",
    "        pred_property = pred_property * std + mean\n",
    "\n",
    "        smiles = Chem.MolToSmiles(mol)\n",
    "        qed_score = QED.qed(mol)\n",
    "        lipinski_pass = lipinski_rule_of_five(mol)\n",
    "        cns_pass = cns_drug_likeness(mol)\n",
    "        sa_score = synthetic_accessibility(mol)\n",
    "        toxic = toxicity_prediction(mol)\n",
    "        logp, hbd, hba, num_aromatic_rings, num_aliphatic_rings, non_c_ratio = calculate_additional_properties(mol)\n",
    "\n",
    "        # 根据条件筛选分子\n",
    "        if pred_property >= desired_value and qed_score > 0.7 and lipinski_pass and cns_pass and not toxic:\n",
    "            optimized_results.append({\n",
    "                \"smiles\": smiles,\n",
    "                \"predicted_property\": pred_property,\n",
    "                \"QED\": qed_score,\n",
    "                \"Lipinski\": lipinski_pass,\n",
    "                \"CNS\": cns_pass,\n",
    "                \"SA_Score\": sa_score,\n",
    "                \"Toxic\": toxic,\n",
    "                \"LogP\": logp,\n",
    "                \"HBD\": hbd,\n",
    "                \"HBA\": hba,\n",
    "                \"Aromatic Rings\": num_aromatic_rings,\n",
    "                \"Aliphatic Rings\": num_aliphatic_rings,\n",
    "                \"Non-C Ratio\": non_c_ratio\n",
    "            })\n",
    "    except Exception as e:\n",
    "        # 跳过无法处理的分子\n",
    "        continue"
   ],
   "id": "9f6588a515b58f92"
  },
  {
   "metadata": {},
   "cell_type": "code",
   "outputs": [],
   "execution_count": null,
   "source": [
    "# 保存优化后的分子为CSV文件\n",
    "df = pd.DataFrame(optimized_results)\n",
    "output_file = DATA / \"optimized_drug_like_molecules_with_properties.csv\"\n",
    "df.to_csv(output_file, index=False)\n",
    "print(f\"Optimized molecules saved to: {output_file}\")"
   ],
   "id": "f38d779c20630cb0"
  },
  {
   "metadata": {},
   "cell_type": "code",
   "outputs": [],
   "execution_count": null,
   "source": "",
   "id": "a9fa0de69492c97d"
  }
 ],
 "metadata": {
  "kernelspec": {
   "display_name": "Python 3",
   "language": "python",
   "name": "python3"
  },
  "language_info": {
   "codemirror_mode": {
    "name": "ipython",
    "version": 2
   },
   "file_extension": ".py",
   "mimetype": "text/x-python",
   "name": "python",
   "nbconvert_exporter": "python",
   "pygments_lexer": "ipython2",
   "version": "2.7.6"
  }
 },
 "nbformat": 4,
 "nbformat_minor": 5
}

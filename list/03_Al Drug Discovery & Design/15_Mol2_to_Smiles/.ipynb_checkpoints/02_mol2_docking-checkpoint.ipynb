{
 "cells": [
  {
   "cell_type": "code",
   "id": "initial_id",
   "metadata": {
    "collapsed": true,
    "ExecuteTime": {
     "end_time": "2024-10-03T07:07:12.350972Z",
     "start_time": "2024-10-03T07:05:30.917626Z"
    }
   },
   "source": [
    "import warnings  # 忽略警告信息\n",
    "from pathlib import Path  # 路径处理\n",
    "import subprocess  # 运行外部程序\n",
    "import numpy as np  # 数值计算\n",
    "from MDAnalysis import Universe  # 处理分子结构\n",
    "from openbabel import pybel  # 分子文件格式转换\n",
    "import nglview as nv  # 分子可视化\n",
    "import openmm \n",
    "\n",
    "# 忽略警告信息\n",
    "warnings.filterwarnings(\"ignore\")\n",
    "\n",
    "# 定义工作目录\n",
    "HERE = Path.cwd()\n",
    "DATA = HERE / \"data\"\n",
    "DATA.mkdir(exist_ok=True)\n",
    "\n",
    "# 加载蛋白质结构\n",
    "pdb_path = DATA / \"5i50.pdb\"  # 请确保PDB文件位于data目录下\n",
    "structure = Universe(str(pdb_path))\n",
    "\n",
    "# 提取蛋白质部分并保存为新的PDB文件\n",
    "protein_path = DATA / \"protein.pdb\"\n",
    "protein = structure.select_atoms(\"protein\")\n",
    "protein.write(str(protein_path))\n",
    "\n",
    "def pdb_to_pdbqt(pdb_file, pdbqt_file, pH=7.4):\n",
    "    \"\"\"将PDB文件转换为PDBQT文件\"\"\"\n",
    "    molecule = next(pybel.readfile(\"pdb\", str(pdb_file)))\n",
    "    molecule.OBMol.CorrectForPH(pH)\n",
    "    molecule.addh()\n",
    "    molecule.make3D()\n",
    "    molecule.write(\"pdbqt\", str(pdbqt_file), overwrite=True)\n",
    "\n",
    "# 将蛋白质PDB文件转换为PDBQT格式\n",
    "protein_pdbqt_path = DATA / \"protein.pdbqt\"\n",
    "pdb_to_pdbqt(protein_path, protein_pdbqt_path)\n",
    "\n",
    "# 自动检测配体并计算对接盒参数\n",
    "# 定义标准残基名称\n",
    "standard_resnames = [\n",
    "    'ALA', 'ARG', 'ASN', 'ASP', 'CYS', 'GLN', 'GLU', 'GLY', 'HIS', 'ILE',\n",
    "    'LEU', 'LYS', 'MET', 'PHE', 'PRO', 'SER', 'THR', 'TRP', 'TYR', 'VAL',\n",
    "    'HOH', 'WAT', 'SOL', 'NA', 'CL', 'K', 'CA', 'MG', 'ZN', 'FE', 'SO4',\n",
    "    'PO4', 'CO', 'NAG', 'MAN', 'BMA'\n",
    "]\n",
    "\n",
    "# 选择非标准残基（可能是配体）\n",
    "non_standard = structure.select_atoms('not resname ' + ' '.join(standard_resnames))\n",
    "\n",
    "# 获取配体残基名称\n",
    "ligand_resnames = set(non_standard.residues.resnames)\n",
    "\n",
    "if not ligand_resnames:\n",
    "    raise ValueError(\"在PDB文件中未找到配体残基。\")\n",
    "\n",
    "# 选择原子数最多的残基作为配体\n",
    "ligand_residue_sizes = {resname: len(structure.select_atoms(f'resname {resname}')) for resname in ligand_resnames}\n",
    "ligand_resname = max(ligand_residue_sizes, key=ligand_residue_sizes.get)\n",
    "print(f\"检测到的配体残基名称：{ligand_resname}\")\n",
    "\n",
    "# 获取配体坐标，计算对接盒中心和大小\n",
    "ligand = structure.select_atoms(f\"resname {ligand_resname}\")\n",
    "ligand_positions = ligand.positions\n",
    "pocket_center = ligand_positions.mean(axis=0)\n",
    "pocket_size = ligand_positions.ptp(axis=0) + 5  # 增加5埃的边界\n",
    "\n",
    "# 读取MOL000098.mol2并转换为PDBQT格式\n",
    "mol2_path = DATA / \"MOL000098.mol2\"  # 请确保mol2文件位于data目录下\n",
    "ligand_pdbqt_path = DATA / \"ligand.pdbqt\"\n",
    "\n",
    "# 将mol2文件转换为pdbqt\n",
    "mol = next(pybel.readfile(\"mol2\", str(mol2_path)))\n",
    "mol.addh()\n",
    "mol.make3D()\n",
    "mol.write(\"pdbqt\", str(ligand_pdbqt_path), overwrite=True)\n",
    "\n",
    "# 定义对接输出文件\n",
    "docking_output_path = DATA / \"docking_output.sdf\"\n",
    "\n",
    "# 打开out_text.txt文件以保存Smina的输出\n",
    "out_text_path = DATA / \"out_text.txt\"\n",
    "with open(out_text_path, \"w\", encoding=\"utf-8\") as out_file:\n",
    "    # 运行Smina进行分子对接\n",
    "    print(\"开始分子对接...\")\n",
    "    process = subprocess.Popen(\n",
    "        [\n",
    "            \"smina\",\n",
    "            \"--ligand\", str(ligand_pdbqt_path),\n",
    "            \"--receptor\", str(protein_pdbqt_path),\n",
    "            \"--center_x\", str(pocket_center[0]),\n",
    "            \"--center_y\", str(pocket_center[1]),\n",
    "            \"--center_z\", str(pocket_center[2]),\n",
    "            \"--size_x\", str(pocket_size[0]),\n",
    "            \"--size_y\", str(pocket_size[1]),\n",
    "            \"--size_z\", str(pocket_size[2]),\n",
    "            \"--out\", str(docking_output_path),\n",
    "            \"--exhaustiveness\", \"8\"\n",
    "        ],\n",
    "        stdout=subprocess.PIPE,\n",
    "        stderr=subprocess.STDOUT,\n",
    "        text=True\n",
    "    )\n",
    "\n",
    "    # 实时输出对接进度并保存到文件\n",
    "    smina_output = ''\n",
    "    for line in process.stdout:\n",
    "        print(line, end='')  # 显示进度\n",
    "        out_file.write(line)  # 将输出写入文件\n",
    "        smina_output += line\n",
    "    process.wait()\n",
    "    print(\"分子对接完成。\")\n",
    "    out_file.write(\"\\n\" + \"=\"*80 + \"\\n\\n\")\n",
    "\n",
    "    # 记录配体与对接结果的对应关系\n",
    "    out_file.write(\"配体与对接结果对应关系:\\n\")\n",
    "    out_file.write(f\"{ligand_pdbqt_path.name} 对接到 {docking_output_path.name}\\n\")\n",
    "\n",
    "\n",
    "\n"
   ],
   "outputs": [
    {
     "data": {
      "text/plain": [],
      "application/vnd.jupyter.widget-view+json": {
       "version_major": 2,
       "version_minor": 0,
       "model_id": "55def5cca0a44b5dbc4bc5d9610dbb16"
      }
     },
     "metadata": {},
     "output_type": "display_data"
    },
    {
     "name": "stderr",
     "output_type": "stream",
     "text": [
      "==============================\n",
      "*** Open Babel Warning  in PerceiveBondOrders\n",
      "  Failed to kekulize aromatic bonds in OBMol::PerceiveBondOrders (title is /Users/wangyang/Desktop/AIDD/15_Mol2_to_Smiles/data/protein.pdb)\n",
      "\n"
     ]
    },
    {
     "name": "stdout",
     "output_type": "stream",
     "text": [
      "检测到的配体残基名称：DG\n",
      "开始分子对接...\n",
      "   _______  _______ _________ _        _______ \n",
      "  (  ____ \\(       )\\__   __/( (    /|(  ___  )\n",
      "  | (    \\/| () () |   ) (   |  \\  ( || (   ) |\n",
      "  | (_____ | || || |   | |   |   \\ | || (___) |\n",
      "  (_____  )| |(_)| |   | |   | (\\ \\) ||  ___  |\n",
      "        ) || |   | |   | |   | | \\   || (   ) |\n",
      "  /\\____) || )   ( |___) (___| )  \\  || )   ( |\n",
      "  \\_______)|/     \\|\\_______/|/    )_)|/     \\|\n",
      "\n",
      "\n",
      "smina is based off AutoDock Vina. Please cite appropriately.\n",
      "\n",
      "Weights      Terms\n",
      "-0.035579    gauss(o=0,_w=0.5,_c=8)\n",
      "-0.005156    gauss(o=3,_w=2,_c=8)\n",
      "0.840245     repulsion(o=0,_c=8)\n",
      "-0.035069    hydrophobic(g=0.5,_b=1.5,_c=8)\n",
      "-0.587439    non_dir_h_bond(g=-0.7,_b=0,_c=8)\n",
      "1.923        num_tors_div\n",
      "\n",
      "Using random seed: -1178334148\n",
      "\n",
      "0%   10   20   30   40   50   60   70   80   90   100%\n",
      "|----|----|----|----|----|----|----|----|----|----|\n",
      "***************************************************\n",
      "\n",
      "mode |   affinity | dist from best mode\n",
      "     | (kcal/mol) | rmsd l.b.| rmsd u.b.\n",
      "-----+------------+----------+----------\n",
      "1       -10.3      0.000      0.000    \n",
      "2       -9.4       1.823      6.966    \n",
      "3       -9.4       0.769      1.480    \n",
      "4       -9.0       1.726      6.774    \n",
      "5       -8.5       3.821      6.520    \n",
      "6       -8.3       1.510      6.857    \n",
      "7       -8.2       15.783     18.400   \n",
      "8       -8.1       14.900     16.530   \n",
      "9       -8.1       2.247      3.440    \n",
      "Refine time 2.646\n",
      "Loop time 3.714\n",
      "分子对接完成。\n"
     ]
    }
   ],
   "execution_count": 4
  },
  {
   "metadata": {},
   "cell_type": "markdown",
   "source": "",
   "id": "b6ae39b8079ffe4f"
  },
  {
   "metadata": {
    "ExecuteTime": {
     "end_time": "2024-10-03T07:07:12.382713Z",
     "start_time": "2024-10-03T07:07:12.360766Z"
    }
   },
   "cell_type": "code",
   "source": [
    "# 定义分割SDF文件的函数\n",
    "def split_sdf_file(sdf_path):\n",
    "    \"\"\"\n",
    "    将SDF文件拆分为每个分子单独的文件。\n",
    "    每个文件以连续的数字命名。\n",
    "\n",
    "    参数\n",
    "    ----------\n",
    "    sdf_path: str 或 pathlib.Path\n",
    "        要拆分的SDF文件路径。\n",
    "    \"\"\"\n",
    "    sdf_path = Path(sdf_path)\n",
    "    stem = sdf_path.stem\n",
    "    parent = sdf_path.parent\n",
    "    molecules = pybel.readfile(\"sdf\", str(sdf_path))\n",
    "    for i, molecule in enumerate(molecules, 1):\n",
    "        molecule.write(\"sdf\", str(parent / f\"{stem}_{i}.sdf\"), overwrite=True)\n",
    "    return\n",
    "\n",
    "# 分割对接结果的SDF文件\n",
    "split_sdf_file(docking_output_path)\n",
    "\n"
   ],
   "id": "f2d7fb3fdda6d00d",
   "outputs": [],
   "execution_count": 5
  },
  {
   "metadata": {
    "ExecuteTime": {
     "end_time": "2024-10-03T07:07:12.450037Z",
     "start_time": "2024-10-03T07:07:12.407142Z"
    }
   },
   "cell_type": "code",
   "source": [
    "# 可视化（可选）\n",
    "# 选择要查看的对接结果编号\n",
    "docking_pose_id = 1  # 修改为您想查看的构象编号\n",
    "\n",
    "# 创建nglview视图\n",
    "view = nv.NGLWidget()\n",
    "# 加载蛋白质\n",
    "view.add_component(str(protein_path))\n",
    "# 加载对接结果\n",
    "view.add_component(str(DATA / f\"{docking_output_path.stem}_{docking_pose_id}.sdf\"))\n",
    "# 设置表示方式\n",
    "view.add_representation('cartoon', selection='protein', color='spectrum')\n",
    "view.add_representation('ball+stick', selection='not protein', color='blue')\n"
   ],
   "id": "b9e84a4d2ab10a89",
   "outputs": [],
   "execution_count": 6
  },
  {
   "metadata": {
    "ExecuteTime": {
     "end_time": "2024-10-03T07:07:12.574023Z",
     "start_time": "2024-10-03T07:07:12.568803Z"
    }
   },
   "cell_type": "code",
   "source": [
    "# 显示视图\n",
    "view"
   ],
   "id": "21b4548fe5765088",
   "outputs": [
    {
     "data": {
      "text/plain": [
       "NGLWidget()"
      ],
      "application/vnd.jupyter.widget-view+json": {
       "version_major": 2,
       "version_minor": 0,
       "model_id": "38574204cf7a4d7587d424749925786b"
      }
     },
     "metadata": {},
     "output_type": "display_data"
    }
   ],
   "execution_count": 7
  },
  {
   "metadata": {},
   "cell_type": "code",
   "outputs": [],
   "execution_count": null,
   "source": "",
   "id": "f6ed12310c786114"
  }
 ],
 "metadata": {
  "kernelspec": {
   "display_name": "Python 3",
   "language": "python",
   "name": "python3"
  },
  "language_info": {
   "codemirror_mode": {
    "name": "ipython",
    "version": 2
   },
   "file_extension": ".py",
   "mimetype": "text/x-python",
   "name": "python",
   "nbconvert_exporter": "python",
   "pygments_lexer": "ipython2",
   "version": "2.7.6"
  }
 },
 "nbformat": 4,
 "nbformat_minor": 5
}

{
 "cells": [
  {
   "cell_type": "code",
   "id": "initial_id",
   "metadata": {
    "collapsed": true,
    "ExecuteTime": {
     "end_time": "2024-10-03T06:50:12.430789Z",
     "start_time": "2024-10-03T06:50:12.427170Z"
    }
   },
   "source": [
    "from rdkit import Chem\n",
    "\n",
    "\n"
   ],
   "outputs": [],
   "execution_count": 10
  },
  {
   "metadata": {
    "ExecuteTime": {
     "end_time": "2024-10-03T06:50:12.760378Z",
     "start_time": "2024-10-03T06:50:12.755751Z"
    }
   },
   "cell_type": "code",
   "source": [
    "from pathlib import Path\n",
    "import os\n",
    "\n",
    "# 获取当前工作目录\n",
    "HERE = Path(os.getcwd())\n",
    "DATA = HERE / 'data'\n",
    "if not DATA.exists():\n",
    "    DATA.mkdir(parents=True, exist_ok=True)\n",
    "print(DATA)\n"
   ],
   "id": "6b3b96085f900a5c",
   "outputs": [
    {
     "name": "stdout",
     "output_type": "stream",
     "text": [
      "/Users/wangyang/Desktop/AIDD/15_Mol2_to_Smiles/data\n"
     ]
    }
   ],
   "execution_count": 11
  },
  {
   "metadata": {
    "ExecuteTime": {
     "end_time": "2024-10-03T06:51:09.501313Z",
     "start_time": "2024-10-03T06:51:09.495120Z"
    }
   },
   "cell_type": "code",
   "source": [
    "# 读取mol2文件中的分子\n",
    "mol = Chem.MolFromMol2File(\"./MOL000098.mol2\", sanitize=True)\n",
    "\n",
    "# 检查分子是否读取成功\n",
    "if mol is None:\n",
    "    print(\"无法从MOL000098.mol2读取分子。\")\n",
    "else:\n",
    "    # 将分子转换为SMILES格式\n",
    "    smiles = Chem.MolToSmiles(mol)\n",
    "    print(smiles)"
   ],
   "id": "69c7b35ec15c0fcf",
   "outputs": [
    {
     "name": "stdout",
     "output_type": "stream",
     "text": [
      "O=c1c(O)c(-c2ccc(O)c(O)c2)oc2cc(O)cc(O)c12\n"
     ]
    }
   ],
   "execution_count": 18
  },
  {
   "metadata": {},
   "cell_type": "code",
   "outputs": [],
   "execution_count": null,
   "source": "# C1=C(C=C(C(=C1O)O)O)C2=C(C(=O)C3=C(C=C(C=C3O2)O)O)O",
   "id": "ef2677de6572150d"
  },
  {
   "metadata": {
    "ExecuteTime": {
     "end_time": "2024-10-10T17:44:48.170630Z",
     "start_time": "2024-10-10T17:44:46.853822Z"
    }
   },
   "cell_type": "code",
   "source": [
    "from rdkit import Chem\n",
    "from rdkit.Chem import AllChem\n",
    "\n",
    "# 使用 RDKit 从 .mol2 文件读取分子\n",
    "mol2_file_path = DATA / 'MOL000098.mol2'\n",
    "mol = Chem.MolFromMol2File(mol2_file_path, removeHs=False)\n",
    "\n",
    "if mol is None:\n",
    "    raise ValueError(\"Molecule loading failed from the mol2 file.\")\n",
    "\n",
    "\n",
    "\n",
    "\n",
    "# 调用 prepare_ligand 函数\n",
    "# rdkit_ligand = prepare_ligand(pdb_path, ligand_name, mol)\n"
   ],
   "id": "3b15d1256da52d27",
   "outputs": [],
   "execution_count": 1
  },
  {
   "metadata": {
    "ExecuteTime": {
     "end_time": "2024-10-10T17:45:37.058456Z",
     "start_time": "2024-10-10T17:45:37.055366Z"
    }
   },
   "cell_type": "code",
   "source": "smiles = Chem.MolToSmiles(mol)",
   "id": "8b92ca1e33f447",
   "outputs": [],
   "execution_count": 4
  },
  {
   "metadata": {
    "ExecuteTime": {
     "end_time": "2024-10-10T17:45:39.990872Z",
     "start_time": "2024-10-10T17:45:39.986352Z"
    }
   },
   "cell_type": "code",
   "source": "smiles",
   "id": "fd3ee12081d60e72",
   "outputs": [
    {
     "data": {
      "text/plain": [
       "'[H]Oc1c([H])c([H])c(-c2oc3c([H])c(O[H])c([H])c(O[H])c3c(=O)c2O[H])c([H])c1O[H]'"
      ]
     },
     "execution_count": 5,
     "metadata": {},
     "output_type": "execute_result"
    }
   ],
   "execution_count": 5
  },
  {
   "metadata": {
    "ExecuteTime": {
     "end_time": "2024-10-10T18:07:02.822631Z",
     "start_time": "2024-10-10T18:07:02.817897Z"
    }
   },
   "cell_type": "code",
   "source": [
    "from rdkit import Chem\n",
    "\n",
    "smiles = \"OC1=CC(=C2C(=O)C(=C(OC2=C1)C3=CC(=C(O)C=C3)O)O)O\"\n",
    "# 直接从 SMILES 生成配体\n",
    "rdkit_ligand = Chem.MolFromSmiles(smiles)\n",
    "if rdkit_ligand is not None:\n",
    "    print(\"配体生成成功\")\n",
    "else:\n",
    "    print(\"生成配体时发生错误\")\n"
   ],
   "id": "56602ecd4282084f",
   "outputs": [
    {
     "name": "stdout",
     "output_type": "stream",
     "text": [
      "配体生成成功\n"
     ]
    }
   ],
   "execution_count": 7
  },
  {
   "metadata": {
    "ExecuteTime": {
     "end_time": "2024-10-10T18:07:11.947431Z",
     "start_time": "2024-10-10T18:07:11.923366Z"
    }
   },
   "cell_type": "code",
   "source": "rdkit_ligand",
   "id": "ee152e43a256258b",
   "outputs": [
    {
     "data": {
      "text/plain": [
       "<rdkit.Chem.rdchem.Mol at 0x7ff032839f40>"
      ],
      "image/png": "[encoded data removed]"
     },
     "execution_count": 9,
     "metadata": {},
     "output_type": "execute_result"
    }
   ],
   "execution_count": 9
  },
  {
   "metadata": {},
   "cell_type": "code",
   "outputs": [],
   "execution_count": null,
   "source": "",
   "id": "ca3a39890e85458f"
  }
 ],
 "metadata": {
  "kernelspec": {
   "display_name": "Python 3",
   "language": "python",
   "name": "python3"
  },
  "language_info": {
   "codemirror_mode": {
    "name": "ipython",
    "version": 2
   },
   "file_extension": ".py",
   "mimetype": "text/x-python",
   "name": "python",
   "nbconvert_exporter": "python",
   "pygments_lexer": "ipython2",
   "version": "2.7.6"
  }
 },
 "nbformat": 4,
 "nbformat_minor": 5
}

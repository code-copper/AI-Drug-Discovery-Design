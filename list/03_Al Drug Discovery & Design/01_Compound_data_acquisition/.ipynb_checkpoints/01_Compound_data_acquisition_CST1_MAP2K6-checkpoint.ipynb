{
 "cells": [
  {
   "cell_type": "markdown",
   "id": "a45326bd8b8e9cb7",
   "metadata": {
    "collapsed": false,
    "jupyter": {
     "outputs_hidden": false
    }
   },
   "source": [
    "# CheEMBL化合物数据采集 \n",
    "## 网址\n",
    "https://www.ebi.ac.uk/chembl/\n",
    "## 简介\n",
    "ChEMBL是由欧洲核生物研究组织（European Bioinformatics Institute, EBI）开发的化合物数据库，其包含了超过100万条化合物的结构、活性、活性指标、注释等信息。ChEMBL的目标是成为一个开放、公开、全面的化合物数据库，为全人类提供有效的化学信息。ChEMBL的开发始于2000年，目前已成为欧洲核生物研究组织（EBI）的重要组成部分。\n",
    "\n",
    "ChEMBL的化合物数据采集主要包括以下几个方面：\n",
    "1. 化合物结构采集：ChEMBL提供的化合物结构数据包括分子式、二维结构图、三维结构图、分子量等信息。\n",
    "2. 化合物活性数据采集：ChEMBL提供的化合物活性数据包括分子活性数据、化学反应数据、化学反应物质数据等。\n",
    "3. 化合物注释数据采集：ChEMBL提供的化合物注释数据包括化学家注释、结构注释、活性注释等。\n",
    "4. 化合物相互作用数据采集：ChEMBL提供的化合物相互作用数据包括化合物相互作用数据、化合物相互作用网络数据等。\n",
    "5. 化合物药物数据采集：ChEMBL提供的化合物药物数据包括药物结构、药物活性数据、药物相互作用数据等。\n",
    "\n",
    "ChEMBL化合物数据采集的主要流程如下：\n",
    "1. 注册ChEMBL账号：首先需要注册ChEMBL账号，注册地址为https://www.ebi.ac.uk/chembl/user_signup。\n",
    "2. 选择化合物数据类型：选择需要采集的化合物数据类型，如化合物结构数据、化合物活性数据、化合物注释数据等。\n",
    "3. 选择采集目标：选择需要采集的化合物数据目标，如特定分子、特定类型化合物、特定药物等。\n",
    "4. 选择采集方式：选择采集方式，如API、Web界面、Excel文件等。\n",
    "5. 采集数据：根据选择的采集方式，采集化合物数据。\n",
    "\n",
    "ChEMBL化合物数据采集的优点有：\n",
    "1. 全面性：ChEMBL提供的化合物数据覆盖了化学、生物、药物领域，涵盖了各个领域的最新研究成果。\n",
    "2. 准确性：ChEMBL的化合物数据采集是基于结构、活性、注释等多方面信息，具有较高的准确性。\n",
    "3. 开放性：ChEMBL的化合物数据采集是开放的，任何人都可以免费使用。\n",
    "\n",
    "## 目标\n",
    "本次项目的目标是利用ChEMBL数据库，采集化合物结构、活性、注释数据，并进行数据分析。\n",
    "了解 ChEMBL 数据库以及如何从 ChEMBL 中提取数据，即感兴趣目标的（化合物、活性数据）对。这些数据集可用于许多化学信息学任务，例如相似性搜索、聚类或机器学习。\n",
    "\n",
    "## 理论内容\n",
    "1. 化学信息学基础\n",
    "2. ChEMBL 数据库\n",
    "    ChEMBL 网络服务\n",
    "    ChEMBL 网络资源客户端\n",
    "3. 化合物结构数据\n",
    "4. 化合物活性数据\n",
    "    复合活性测量\n",
    "     IC50测量\n",
    "     pIC50值\n",
    "5. 化合物注释数据\n",
    "6. 化合物相互作用数据\n",
    "7. 化合物药物数据\n",
    "8. 数据分析方法\n",
    "\n",
    "## 实践内容\n",
    "目标：获取具有给定目标的生物活性数据的化合物列表\n",
    "- 连接到 ChEMBL 数据库\n",
    "- 获取目标数据（MAP2K6:P52564）\n",
    "    - 获取并下载目标数据\n",
    "    - 选择目标 ChEMBL ID\n",
    "\n",
    "- 获取生物活性数据\n",
    "    - 获取并下载目标的生物活性数据\n",
    "    - 预处理和过滤生物活性数据\n",
    "\n",
    "- 获取化合物数据\n",
    "    - 获取并下载化合物数据\n",
    "    - 预处理和过滤化合物数据\n",
    "\n",
    "- 输出生物活性化合物数据\n",
    "    - 并生物活性和化合物数据，并添加 pIC50 值\n",
    "    - 绘制具有最高 pIC50 的分子\n",
    "\n",
    "\n",
    "\n",
    "####  pIC50 值\n",
    "\n",
    "- 为了便于比较 IC50 值，IC50 值具有较大的值范围并以不同的单位（M、nM、...）给出，通常使用 pIC50 值\n",
    "- pIC50 是转换为摩尔单位时 IC50 值的负对数： pIC50=−log10(IC50) ， 在哪里 IC50 以 M 为单位指定\n",
    "- pIC50 值越高表明药物的效力呈指数级增长\n",
    "- 请注意，转换可以适应相应的 IC50 单位，例如对于纳米： pIC50=−log10(IC50∗10−9)=9−log10(IC50)\n",
    "\n",
    " 其他活动措施：\n",
    "此外，IC50和pIC50，还使用其他生物活性测量，例如平衡常数[KI]和半最大有效浓度[EC50]"
   ]
  },
  {
   "cell_type": "code",
   "execution_count": 1,
   "id": "initial_id",
   "metadata": {
    "ExecuteTime": {
     "end_time": "2024-09-16T09:38:40.239523Z",
     "start_time": "2024-09-16T09:38:40.138984Z"
    }
   },
   "outputs": [],
   "source": [
    "# 连接到 ChEMBL 数据库\n",
    "# 首先，导入 ChEMBL Web 资源客户端以及其他 Python 库。\n",
    "\n",
    "import math\n",
    "from pathlib import Path\n",
    "from zipfile import ZipFile\n",
    "from tempfile import TemporaryDirectory\n",
    "import numpy as np\n",
    "import pandas as pd\n",
    "from rdkit.Chem import PandasTools\n",
    "from chembl_webresource_client.new_client import new_client\n",
    "from tqdm.auto import tqdm\n"
   ]
  },
  {
   "cell_type": "code",
   "execution_count": 2,
   "id": "1e1a7fef2196c750",
   "metadata": {
    "ExecuteTime": {
     "end_time": "2024-09-16T09:38:28.482420Z",
     "start_time": "2024-09-16T09:38:28.451611Z"
    },
    "collapsed": false,
    "jupyter": {
     "outputs_hidden": false
    }
   },
   "outputs": [
    {
     "name": "stdout",
     "output_type": "stream",
     "text": [
      "/Users/wangyang/Desktop/AI-drug-design/list/01_Compound_data_acquisition/data_MAP2K6\n"
     ]
    }
   ],
   "source": [
    "from pathlib import Path\n",
    "import os\n",
    "\n",
    "# 获取当前工作目录\n",
    "HERE = Path(os.getcwd())\n",
    "DATA = HERE / 'data_MAP2K6'\n",
    "if not DATA.exists():\n",
    "    DATA.mkdir(parents=True, exist_ok=True)\n",
    "print(DATA)"
   ]
  },
  {
   "cell_type": "code",
   "execution_count": 3,
   "id": "e3d55737ff3b386",
   "metadata": {
    "ExecuteTime": {
     "end_time": "2024-09-16T09:38:29.093114Z",
     "start_time": "2024-09-16T09:38:29.044990Z"
    },
    "collapsed": false,
    "jupyter": {
     "outputs_hidden": false
    }
   },
   "outputs": [],
   "source": [
    "# 接下来，我们创建用于 API 访问的资源对象。\n",
    "targets_api = new_client.target\n",
    "compounds_api = new_client.molecule\n",
    "bioactivities_api = new_client.activity"
   ]
  },
  {
   "cell_type": "code",
   "execution_count": 4,
   "id": "2508cb2fadd727bd",
   "metadata": {
    "ExecuteTime": {
     "end_time": "2024-09-16T09:38:29.312032Z",
     "start_time": "2024-09-16T09:38:29.281941Z"
    },
    "collapsed": false,
    "jupyter": {
     "outputs_hidden": false
    }
   },
   "outputs": [
    {
     "data": {
      "text/plain": [
       "chembl_webresource_client.query_set.QuerySet"
      ]
     },
     "execution_count": 4,
     "metadata": {},
     "output_type": "execute_result"
    }
   ],
   "source": [
    "# 查看类型\n",
    "type(targets_api)"
   ]
  },
  {
   "cell_type": "code",
   "execution_count": 5,
   "id": "f42660934d345c14",
   "metadata": {
    "ExecuteTime": {
     "end_time": "2024-09-16T09:35:58.865560Z",
     "start_time": "2024-09-16T09:35:58.825250Z"
    },
    "collapsed": false,
    "jupyter": {
     "outputs_hidden": false
    }
   },
   "outputs": [],
   "source": [
    "'''\n",
    "获取目标数据（MAP2K6:P52564） \n",
    "从UniProt 网站获取感兴趣靶点的 UniProt ID（MAP2K6:P52564 ）https://www.uniprot.org/uniprotkb\n",
    "使用UniProt ID获取目标信息\n",
    "如果您对其他目标感兴趣，请选择不同的 UniProt ID。\n",
    "'''\n",
    "\n",
    "uniprot_id = \"P52564\""
   ]
  },
  {
   "cell_type": "markdown",
   "id": "030e1945-1964-4c4c-b9fe-336e6c726e98",
   "metadata": {},
   "source": [
    "## 从ChEMBL获取目标数据"
   ]
  },
  {
   "cell_type": "code",
   "execution_count": 6,
   "id": "04ccb71a-d90e-4feb-8c63-7b970bc9220c",
   "metadata": {
    "ExecuteTime": {
     "end_time": "2024-09-16T09:35:59.299609Z",
     "start_time": "2024-09-16T09:35:59.248233Z"
    }
   },
   "outputs": [
    {
     "name": "stdout",
     "output_type": "stream",
     "text": [
      "目标的类型是 \"<class 'chembl_webresource_client.query_set.QuerySet'>\"\n"
     ]
    }
   ],
   "source": [
    "# 从 ChEMBL 获取目标信息，但仅限于指定值\n",
    "targets = targets_api.get(target_components__accession=uniprot_id).only(\n",
    "    \"target_chembl_id\", \"organism\", \"pref_name\", \"target_type\"\n",
    ")\n",
    "print(f'目标的类型是 \"{type(targets)}\"')"
   ]
  },
  {
   "cell_type": "markdown",
   "id": "6eb4abdf-babd-4565-a02e-70224be969fa",
   "metadata": {},
   "source": [
    "## 从ChEMBL下载目标数据\n",
    "\n",
    "查询结果存储在一个QuerySet（查询集）目标中，也就是说，在我们提出要求之前，查询结果不会从 ChEMBL 中获取（此处使用pandas.DataFrame.from_records）。\n"
   ]
  },
  {
   "cell_type": "code",
   "execution_count": 7,
   "id": "52695ecd-70ee-4d1f-8e82-d2f87a3f20a0",
   "metadata": {
    "ExecuteTime": {
     "end_time": "2024-09-16T09:35:59.622583Z",
     "start_time": "2024-09-16T09:35:59.584657Z"
    }
   },
   "outputs": [
    {
     "data": {
      "text/html": [
       "<div>\n",
       "<style scoped>\n",
       "    .dataframe tbody tr th:only-of-type {\n",
       "        vertical-align: middle;\n",
       "    }\n",
       "\n",
       "    .dataframe tbody tr th {\n",
       "        vertical-align: top;\n",
       "    }\n",
       "\n",
       "    .dataframe thead th {\n",
       "        text-align: right;\n",
       "    }\n",
       "</style>\n",
       "<table border=\"1\" class=\"dataframe\">\n",
       "  <thead>\n",
       "    <tr style=\"text-align: right;\">\n",
       "      <th></th>\n",
       "      <th>organism</th>\n",
       "      <th>pref_name</th>\n",
       "      <th>target_chembl_id</th>\n",
       "      <th>target_type</th>\n",
       "    </tr>\n",
       "  </thead>\n",
       "  <tbody>\n",
       "    <tr>\n",
       "      <th>0</th>\n",
       "      <td>Homo sapiens</td>\n",
       "      <td>Dual specificity mitogen-activated protein kin...</td>\n",
       "      <td>CHEMBL2171</td>\n",
       "      <td>SINGLE PROTEIN</td>\n",
       "    </tr>\n",
       "    <tr>\n",
       "      <th>1</th>\n",
       "      <td>Homo sapiens</td>\n",
       "      <td>Dual specificity mitogen-activated protein kin...</td>\n",
       "      <td>CHEMBL2171</td>\n",
       "      <td>SINGLE PROTEIN</td>\n",
       "    </tr>\n",
       "  </tbody>\n",
       "</table>\n",
       "</div>"
      ],
      "text/plain": [
       "       organism                                          pref_name  \\\n",
       "0  Homo sapiens  Dual specificity mitogen-activated protein kin...   \n",
       "1  Homo sapiens  Dual specificity mitogen-activated protein kin...   \n",
       "\n",
       "  target_chembl_id     target_type  \n",
       "0       CHEMBL2171  SINGLE PROTEIN  \n",
       "1       CHEMBL2171  SINGLE PROTEIN  "
      ]
     },
     "execution_count": 7,
     "metadata": {},
     "output_type": "execute_result"
    }
   ],
   "source": [
    "targets = pd.DataFrame.from_records(targets)\n",
    "targets"
   ]
  },
  {
   "cell_type": "markdown",
   "id": "56bfe904-e614-4997-a5ec-4315746934f3",
   "metadata": {},
   "source": [
    "## 选择目标（目标 ChEMBL ID）\n",
    "\n",
    "检查条目后，我们选择第一个条目作为关注目标："
   ]
  },
  {
   "cell_type": "code",
   "execution_count": 8,
   "id": "f73faac0-dfff-4cf2-bfe9-0086d651ecd4",
   "metadata": {
    "ExecuteTime": {
     "end_time": "2024-09-16T09:35:59.937897Z",
     "start_time": "2024-09-16T09:35:59.902407Z"
    }
   },
   "outputs": [
    {
     "data": {
      "text/plain": [
       "organism                                                 Homo sapiens\n",
       "pref_name           Dual specificity mitogen-activated protein kin...\n",
       "target_chembl_id                                           CHEMBL2171\n",
       "target_type                                            SINGLE PROTEIN\n",
       "Name: 0, dtype: object"
      ]
     },
     "execution_count": 8,
     "metadata": {},
     "output_type": "execute_result"
    }
   ],
   "source": [
    "target = targets.iloc[0]\n",
    "target"
   ]
  },
  {
   "cell_type": "markdown",
   "id": "3c25cf7b-37a0-4322-9a5a-310b630f7e57",
   "metadata": {},
   "source": [
    "## 保存选定的 ChEMBL ID"
   ]
  },
  {
   "cell_type": "code",
   "execution_count": 9,
   "id": "d704b55a-af37-4adb-8923-e70186dbbf8d",
   "metadata": {
    "ExecuteTime": {
     "end_time": "2024-09-16T09:36:00.290114Z",
     "start_time": "2024-09-16T09:36:00.258092Z"
    }
   },
   "outputs": [
    {
     "name": "stdout",
     "output_type": "stream",
     "text": [
      "目标 ChEMBL ID 为 CHEMBL2171\n"
     ]
    }
   ],
   "source": [
    "chembl_id = target.target_chembl_id\n",
    "print(f\"目标 ChEMBL ID 为 {chembl_id}\")"
   ]
  },
  {
   "cell_type": "markdown",
   "id": "41d0c2b0-9414-4f7a-92a7-a01ece4d8c3c",
   "metadata": {},
   "source": [
    "## 获取生物活性数据\n",
    "\n",
    "- 现在，我们要查询感兴趣目标的生物活性数据。\n",
    "\n",
    "- 从ChEMBL中获取目标的生物活性数据\n",
    "\n",
    "- 在这一步中，我们将获取生物活性数据，并对其进行筛选，以便只考虑\n",
    "\n",
    "    - 人类蛋白质\n",
    "    - 生物活性类型 IC50、\n",
    "    -  精确测量（关系式\"=\"）\n",
    "    - 结合数据（化验类型\"B\"）"
   ]
  },
  {
   "cell_type": "code",
   "execution_count": 10,
   "id": "edd4c66a-a69a-4ac2-8afd-a8650613bc2f",
   "metadata": {
    "ExecuteTime": {
     "end_time": "2024-09-16T09:36:00.685285Z",
     "start_time": "2024-09-16T09:36:00.628475Z"
    }
   },
   "outputs": [
    {
     "name": "stdout",
     "output_type": "stream",
     "text": [
      "生物活动对象的长度和类型: 13, <class 'chembl_webresource_client.query_set.QuerySet'>\n"
     ]
    }
   ],
   "source": [
    "# 使用bioactivities_api接口过滤符合条件的生物活动数据\n",
    "# 过滤条件：目标ID为chembl_id，类型为\"IC50\"，关系符为\"=\"，实验类型为\"B\"\n",
    "bioactivities = bioactivities_api.filter(\n",
    "    target_chembl_id=chembl_id,   # 指定目标的ChEMBL ID\n",
    "    type=\"IC50\",                 # 活动类型为IC50（半数抑制浓度）\n",
    "    relation=\"=\",                # 关系符为等于\n",
    "    assay_type=\"B\"                # 实验类型为B\n",
    ").only(\n",
    "    # 选择返回的数据字段\n",
    "    \"activity_id\",               # 活动ID\n",
    "    \"assay_chembl_id\",           # 实验的ChEMBL ID\n",
    "    \"assay_description\",         # 实验描述\n",
    "    \"assay_type\",                # 实验类型\n",
    "    \"molecule_chembl_id\",        # 分子的ChEMBL ID\n",
    "    \"type\",                      # 活动类型\n",
    "    \"standard_units\",            # 标准单位\n",
    "    \"relation\",                  # 活动值的关系符\n",
    "    \"standard_value\",            # 标准化后的活动值\n",
    "    \"target_chembl_id\",          # 目标的ChEMBL ID\n",
    "    \"target_organism\",           # 目标所属的生物体\n",
    ")\n",
    "\n",
    "# 打印生物活动对象的长度（数量）和数据类型\n",
    "print(f\"生物活动对象的长度和类型: {len(bioactivities)}, {type(bioactivities)}\")\n",
    "\n",
    "# 这段代码的作用是通过API过滤并获取符合条件的生物活动数据，然后输出获取到的数据数量和其数据类型。"
   ]
  },
  {
   "cell_type": "markdown",
   "id": "4d552c3f-e095-4e6a-9d40-a1e13650e98d",
   "metadata": {},
   "source": [
    "## 生物活性集的每个条目都包含以下信息："
   ]
  },
  {
   "cell_type": "code",
   "execution_count": 11,
   "id": "9d1a7bf4-4402-4fb6-813a-9c73fd84d9a8",
   "metadata": {
    "ExecuteTime": {
     "end_time": "2024-09-16T09:36:01.019626Z",
     "start_time": "2024-09-16T09:36:00.960032Z"
    }
   },
   "outputs": [
    {
     "name": "stdout",
     "output_type": "stream",
     "text": [
      "第一个元素的长度和类型: 13, <class 'dict'>\n"
     ]
    },
    {
     "data": {
      "text/plain": [
       "{'activity_id': 1489866,\n",
       " 'assay_chembl_id': 'CHEMBL827977',\n",
       " 'assay_description': 'Inhibition of Mitogen activated protein kinase 6; Range is 5-10',\n",
       " 'assay_type': 'B',\n",
       " 'molecule_chembl_id': 'CHEMBL1788116',\n",
       " 'relation': '=',\n",
       " 'standard_units': 'nM',\n",
       " 'standard_value': '10000.0',\n",
       " 'target_chembl_id': 'CHEMBL2171',\n",
       " 'target_organism': 'Homo sapiens',\n",
       " 'type': 'IC50',\n",
       " 'units': 'uM',\n",
       " 'value': '10.0'}"
      ]
     },
     "execution_count": 11,
     "metadata": {},
     "output_type": "execute_result"
    }
   ],
   "source": [
    "print(f\"第一个元素的长度和类型: {len(bioactivities[0])}, {type(bioactivities[0])}\")\n",
    "bioactivities[0]"
   ]
  },
  {
   "cell_type": "markdown",
   "id": "255461c6-0c37-456e-9763-6c478977e537",
   "metadata": {},
   "source": [
    "'''\n",
    "- **activity_id**: `32262`\n",
    "  - 这是生物活性数据的唯一标识符，表示该条记录的编号。\n",
    "\n",
    "- **assay_chembl_id**: `'CHEMBL816964'`\n",
    "  - 这是实验（assay）的ChEMBL ID，用于唯一标识该生物实验。\n",
    "\n",
    "- **assay_description**: `'Inhibition of tyrosine phosphorylation in cells expressing human MAP2K62 (Flk-1/KDR) kinase'`\n",
    "  - 实验的描述，说明实验的内容。在这里，实验是研究一种化合物对人类MAP2K62（Flk-1/KDR）激酶磷酸化的抑制作用。\n",
    "\n",
    "- **assay_type**: `'B'`\n",
    "  - 实验类型，可能代表某种特定的实验类别或方法，例如细胞实验或体外实验。\n",
    "\n",
    "- **molecule_chembl_id**: `'CHEMBL68920'`\n",
    "  - 这是分子或化合物的ChEMBL ID，表示该条记录中研究的化合物的唯一标识符。\n",
    "\n",
    "- **relation**: `'='`\n",
    "  - 表示数值关系，在这里表示该生物活性值是精确的等于给出的值。\n",
    "\n",
    "- **standard_units**: `'nM'`\n",
    "  - 这是生物活性标准化后的单位。在该条记录中，单位是纳摩尔（nM）。\n",
    "\n",
    "- **standard_value**: `'16500.0'`\n",
    "  - 这是标准化后的生物活性值，表示IC50的值为16500纳摩尔（nM），即16.5微摩尔（uM）。\n",
    "\n",
    "- **target_chembl_id**: `'CHEMBL279'`\n",
    "  - 这是目标蛋白（如酶或受体）的ChEMBL ID，在此记录中，目标是编号为CHEMBL279的蛋白。\n",
    "\n",
    "- **target_organism**: `'Homo sapiens'`\n",
    "  - 目标生物体，这里表示实验是在人体的细胞或蛋白质上进行的。\n",
    "\n",
    "- **type**: `'IC50'`\n",
    "  - 活性类型，IC50表示半数抑制浓度，即能够抑制50%目标生物活性的化合物浓度。\n",
    "\n",
    "- **units**: `'uM'`\n",
    "  - 生物活性值的原始单位，在此为微摩尔（uM）。\n",
    "\n",
    "- **value**: `'16.5'`\n",
    "  - 实验原始记录的活性值，表示IC50为16.5微摩尔（uM）。\n",
    "\n",
    "这条记录描述了一个化合物（CHEMBL68920）在细胞实验中抑制人类MAP2K62激酶磷酸化的IC50值为16.5微摩尔。\n",
    "'''"
   ]
  },
  {
   "cell_type": "markdown",
   "id": "10bcaff3-af03-4305-a1fc-deffe9a6c426",
   "metadata": {},
   "source": [
    "## 从ChEMBL下载生物活性数据\n",
    "\n",
    "最后，我们以pandasDataFrame 的形式下载QuerySet。\n",
    "\n",
    "⚠️下面这一行代码差不多需要等待10分钟样子，请您耐心等待，！❤️"
   ]
  },
  {
   "cell_type": "code",
   "execution_count": 12,
   "id": "ddcf9982-5263-48c7-9f5c-ba1bfd58d36b",
   "metadata": {
    "ExecuteTime": {
     "end_time": "2024-09-16T09:36:01.496869Z",
     "start_time": "2024-09-16T09:36:01.472041Z"
    }
   },
   "outputs": [
    {
     "name": "stdout",
     "output_type": "stream",
     "text": [
      "数据框架形状: (13, 13)\n"
     ]
    },
    {
     "data": {
      "text/html": [
       "<div>\n",
       "<style scoped>\n",
       "    .dataframe tbody tr th:only-of-type {\n",
       "        vertical-align: middle;\n",
       "    }\n",
       "\n",
       "    .dataframe tbody tr th {\n",
       "        vertical-align: top;\n",
       "    }\n",
       "\n",
       "    .dataframe thead th {\n",
       "        text-align: right;\n",
       "    }\n",
       "</style>\n",
       "<table border=\"1\" class=\"dataframe\">\n",
       "  <thead>\n",
       "    <tr style=\"text-align: right;\">\n",
       "      <th></th>\n",
       "      <th>activity_id</th>\n",
       "      <th>assay_chembl_id</th>\n",
       "      <th>assay_description</th>\n",
       "      <th>assay_type</th>\n",
       "      <th>molecule_chembl_id</th>\n",
       "      <th>relation</th>\n",
       "      <th>standard_units</th>\n",
       "      <th>standard_value</th>\n",
       "      <th>target_chembl_id</th>\n",
       "      <th>target_organism</th>\n",
       "      <th>type</th>\n",
       "      <th>units</th>\n",
       "      <th>value</th>\n",
       "    </tr>\n",
       "  </thead>\n",
       "  <tbody>\n",
       "    <tr>\n",
       "      <th>0</th>\n",
       "      <td>1489866</td>\n",
       "      <td>CHEMBL827977</td>\n",
       "      <td>Inhibition of Mitogen activated protein kinase...</td>\n",
       "      <td>B</td>\n",
       "      <td>CHEMBL1788116</td>\n",
       "      <td>=</td>\n",
       "      <td>nM</td>\n",
       "      <td>10000.0</td>\n",
       "      <td>CHEMBL2171</td>\n",
       "      <td>Homo sapiens</td>\n",
       "      <td>IC50</td>\n",
       "      <td>uM</td>\n",
       "      <td>10.0</td>\n",
       "    </tr>\n",
       "    <tr>\n",
       "      <th>1</th>\n",
       "      <td>2528951</td>\n",
       "      <td>CHEMBL985886</td>\n",
       "      <td>Inhibition of MKK6</td>\n",
       "      <td>B</td>\n",
       "      <td>CHEMBL507249</td>\n",
       "      <td>=</td>\n",
       "      <td>nM</td>\n",
       "      <td>15000.0</td>\n",
       "      <td>CHEMBL2171</td>\n",
       "      <td>Homo sapiens</td>\n",
       "      <td>IC50</td>\n",
       "      <td>uM</td>\n",
       "      <td>15.0</td>\n",
       "    </tr>\n",
       "    <tr>\n",
       "      <th>2</th>\n",
       "      <td>16416040</td>\n",
       "      <td>CHEMBL3751417</td>\n",
       "      <td>Inhibition of MKK6 (unknown origin) using [gam...</td>\n",
       "      <td>B</td>\n",
       "      <td>CHEMBL449216</td>\n",
       "      <td>=</td>\n",
       "      <td>nM</td>\n",
       "      <td>16000.0</td>\n",
       "      <td>CHEMBL2171</td>\n",
       "      <td>Homo sapiens</td>\n",
       "      <td>IC50</td>\n",
       "      <td>uM</td>\n",
       "      <td>16.0</td>\n",
       "    </tr>\n",
       "    <tr>\n",
       "      <th>3</th>\n",
       "      <td>16837445</td>\n",
       "      <td>CHEMBL3876108</td>\n",
       "      <td>Inhibition of human recombinant full length Hi...</td>\n",
       "      <td>B</td>\n",
       "      <td>CHEMBL3884319</td>\n",
       "      <td>=</td>\n",
       "      <td>nM</td>\n",
       "      <td>10000.0</td>\n",
       "      <td>CHEMBL2171</td>\n",
       "      <td>Homo sapiens</td>\n",
       "      <td>IC50</td>\n",
       "      <td>nM</td>\n",
       "      <td>10000.0</td>\n",
       "    </tr>\n",
       "    <tr>\n",
       "      <th>4</th>\n",
       "      <td>16897330</td>\n",
       "      <td>CHEMBL3882688</td>\n",
       "      <td>Inhibition of MKK6 (unknown origin) using kemp...</td>\n",
       "      <td>B</td>\n",
       "      <td>CHEMBL456689</td>\n",
       "      <td>=</td>\n",
       "      <td>nM</td>\n",
       "      <td>6200.0</td>\n",
       "      <td>CHEMBL2171</td>\n",
       "      <td>Homo sapiens</td>\n",
       "      <td>IC50</td>\n",
       "      <td>uM</td>\n",
       "      <td>6.2</td>\n",
       "    </tr>\n",
       "  </tbody>\n",
       "</table>\n",
       "</div>"
      ],
      "text/plain": [
       "   activity_id assay_chembl_id  \\\n",
       "0      1489866    CHEMBL827977   \n",
       "1      2528951    CHEMBL985886   \n",
       "2     16416040   CHEMBL3751417   \n",
       "3     16837445   CHEMBL3876108   \n",
       "4     16897330   CHEMBL3882688   \n",
       "\n",
       "                                   assay_description assay_type  \\\n",
       "0  Inhibition of Mitogen activated protein kinase...          B   \n",
       "1                                 Inhibition of MKK6          B   \n",
       "2  Inhibition of MKK6 (unknown origin) using [gam...          B   \n",
       "3  Inhibition of human recombinant full length Hi...          B   \n",
       "4  Inhibition of MKK6 (unknown origin) using kemp...          B   \n",
       "\n",
       "  molecule_chembl_id relation standard_units standard_value target_chembl_id  \\\n",
       "0      CHEMBL1788116        =             nM        10000.0       CHEMBL2171   \n",
       "1       CHEMBL507249        =             nM        15000.0       CHEMBL2171   \n",
       "2       CHEMBL449216        =             nM        16000.0       CHEMBL2171   \n",
       "3      CHEMBL3884319        =             nM        10000.0       CHEMBL2171   \n",
       "4       CHEMBL456689        =             nM         6200.0       CHEMBL2171   \n",
       "\n",
       "  target_organism  type units    value  \n",
       "0    Homo sapiens  IC50    uM     10.0  \n",
       "1    Homo sapiens  IC50    uM     15.0  \n",
       "2    Homo sapiens  IC50    uM     16.0  \n",
       "3    Homo sapiens  IC50    nM  10000.0  \n",
       "4    Homo sapiens  IC50    uM      6.2  "
      ]
     },
     "execution_count": 12,
     "metadata": {},
     "output_type": "execute_result"
    }
   ],
   "source": [
    "bioactivities_df = pd.DataFrame.from_dict(bioactivities)\n",
    "print(f\"数据框架形状: {bioactivities_df.shape}\")\n",
    "bioactivities_df.head()"
   ]
  },
  {
   "cell_type": "code",
   "execution_count": 13,
   "id": "dd96719f-68be-4e17-bf5c-2231b245a29e",
   "metadata": {
    "ExecuteTime": {
     "end_time": "2024-09-16T09:36:01.716173Z",
     "start_time": "2024-09-16T09:36:01.659146Z"
    }
   },
   "outputs": [],
   "source": [
    "# 保存生物活性数据\n",
    "bioactivities_df.to_csv(DATA / \"bioactivities.csv\", index=False)"
   ]
  },
  {
   "cell_type": "markdown",
   "id": "68a5cde0-4ebe-4327-afc2-82769f499741",
   "metadata": {},
   "source": [
    "## 如果使用单位和数值列，我们需要将所有不同单位的数值转换为 nM："
   ]
  },
  {
   "cell_type": "code",
   "execution_count": 14,
   "id": "82132cc0-fb42-4305-b3be-ae17661eac98",
   "metadata": {},
   "outputs": [
    {
     "data": {
      "text/plain": [
       "array(['uM', 'nM', \"10'-9M\", '10^-9M'], dtype=object)"
      ]
     },
     "execution_count": 14,
     "metadata": {},
     "output_type": "execute_result"
    }
   ],
   "source": [
    "bioactivities_df[\"units\"].unique()"
   ]
  },
  {
   "cell_type": "code",
   "execution_count": 15,
   "id": "f81d20c4-48f8-4f4c-96c6-1cea7330a166",
   "metadata": {},
   "outputs": [
    {
     "data": {
      "text/html": [
       "<div>\n",
       "<style scoped>\n",
       "    .dataframe tbody tr th:only-of-type {\n",
       "        vertical-align: middle;\n",
       "    }\n",
       "\n",
       "    .dataframe tbody tr th {\n",
       "        vertical-align: top;\n",
       "    }\n",
       "\n",
       "    .dataframe thead th {\n",
       "        text-align: right;\n",
       "    }\n",
       "</style>\n",
       "<table border=\"1\" class=\"dataframe\">\n",
       "  <thead>\n",
       "    <tr style=\"text-align: right;\">\n",
       "      <th></th>\n",
       "      <th>activity_id</th>\n",
       "      <th>assay_chembl_id</th>\n",
       "      <th>assay_description</th>\n",
       "      <th>assay_type</th>\n",
       "      <th>molecule_chembl_id</th>\n",
       "      <th>relation</th>\n",
       "      <th>standard_units</th>\n",
       "      <th>standard_value</th>\n",
       "      <th>target_chembl_id</th>\n",
       "      <th>target_organism</th>\n",
       "      <th>type</th>\n",
       "    </tr>\n",
       "  </thead>\n",
       "  <tbody>\n",
       "    <tr>\n",
       "      <th>0</th>\n",
       "      <td>1489866</td>\n",
       "      <td>CHEMBL827977</td>\n",
       "      <td>Inhibition of Mitogen activated protein kinase...</td>\n",
       "      <td>B</td>\n",
       "      <td>CHEMBL1788116</td>\n",
       "      <td>=</td>\n",
       "      <td>nM</td>\n",
       "      <td>10000.0</td>\n",
       "      <td>CHEMBL2171</td>\n",
       "      <td>Homo sapiens</td>\n",
       "      <td>IC50</td>\n",
       "    </tr>\n",
       "    <tr>\n",
       "      <th>1</th>\n",
       "      <td>2528951</td>\n",
       "      <td>CHEMBL985886</td>\n",
       "      <td>Inhibition of MKK6</td>\n",
       "      <td>B</td>\n",
       "      <td>CHEMBL507249</td>\n",
       "      <td>=</td>\n",
       "      <td>nM</td>\n",
       "      <td>15000.0</td>\n",
       "      <td>CHEMBL2171</td>\n",
       "      <td>Homo sapiens</td>\n",
       "      <td>IC50</td>\n",
       "    </tr>\n",
       "    <tr>\n",
       "      <th>2</th>\n",
       "      <td>16416040</td>\n",
       "      <td>CHEMBL3751417</td>\n",
       "      <td>Inhibition of MKK6 (unknown origin) using [gam...</td>\n",
       "      <td>B</td>\n",
       "      <td>CHEMBL449216</td>\n",
       "      <td>=</td>\n",
       "      <td>nM</td>\n",
       "      <td>16000.0</td>\n",
       "      <td>CHEMBL2171</td>\n",
       "      <td>Homo sapiens</td>\n",
       "      <td>IC50</td>\n",
       "    </tr>\n",
       "    <tr>\n",
       "      <th>3</th>\n",
       "      <td>16837445</td>\n",
       "      <td>CHEMBL3876108</td>\n",
       "      <td>Inhibition of human recombinant full length Hi...</td>\n",
       "      <td>B</td>\n",
       "      <td>CHEMBL3884319</td>\n",
       "      <td>=</td>\n",
       "      <td>nM</td>\n",
       "      <td>10000.0</td>\n",
       "      <td>CHEMBL2171</td>\n",
       "      <td>Homo sapiens</td>\n",
       "      <td>IC50</td>\n",
       "    </tr>\n",
       "    <tr>\n",
       "      <th>4</th>\n",
       "      <td>16897330</td>\n",
       "      <td>CHEMBL3882688</td>\n",
       "      <td>Inhibition of MKK6 (unknown origin) using kemp...</td>\n",
       "      <td>B</td>\n",
       "      <td>CHEMBL456689</td>\n",
       "      <td>=</td>\n",
       "      <td>nM</td>\n",
       "      <td>6200.0</td>\n",
       "      <td>CHEMBL2171</td>\n",
       "      <td>Homo sapiens</td>\n",
       "      <td>IC50</td>\n",
       "    </tr>\n",
       "  </tbody>\n",
       "</table>\n",
       "</div>"
      ],
      "text/plain": [
       "   activity_id assay_chembl_id  \\\n",
       "0      1489866    CHEMBL827977   \n",
       "1      2528951    CHEMBL985886   \n",
       "2     16416040   CHEMBL3751417   \n",
       "3     16837445   CHEMBL3876108   \n",
       "4     16897330   CHEMBL3882688   \n",
       "\n",
       "                                   assay_description assay_type  \\\n",
       "0  Inhibition of Mitogen activated protein kinase...          B   \n",
       "1                                 Inhibition of MKK6          B   \n",
       "2  Inhibition of MKK6 (unknown origin) using [gam...          B   \n",
       "3  Inhibition of human recombinant full length Hi...          B   \n",
       "4  Inhibition of MKK6 (unknown origin) using kemp...          B   \n",
       "\n",
       "  molecule_chembl_id relation standard_units standard_value target_chembl_id  \\\n",
       "0      CHEMBL1788116        =             nM        10000.0       CHEMBL2171   \n",
       "1       CHEMBL507249        =             nM        15000.0       CHEMBL2171   \n",
       "2       CHEMBL449216        =             nM        16000.0       CHEMBL2171   \n",
       "3      CHEMBL3884319        =             nM        10000.0       CHEMBL2171   \n",
       "4       CHEMBL456689        =             nM         6200.0       CHEMBL2171   \n",
       "\n",
       "  target_organism  type  \n",
       "0    Homo sapiens  IC50  \n",
       "1    Homo sapiens  IC50  \n",
       "2    Homo sapiens  IC50  \n",
       "3    Homo sapiens  IC50  \n",
       "4    Homo sapiens  IC50  "
      ]
     },
     "execution_count": 15,
     "metadata": {},
     "output_type": "execute_result"
    }
   ],
   "source": [
    "bioactivities_df.drop([\"units\", \"value\"], axis=1, inplace=True)\n",
    "bioactivities_df.head()"
   ]
  },
  {
   "cell_type": "markdown",
   "id": "77fd2df5-5b70-4e65-bf5b-01f6cbd282a1",
   "metadata": {},
   "source": [
    "## 预处理和过滤生物活性数据\n",
    "- 将standard_value的数据类型从对象转换为浮点数\n",
    "- 删除缺失值的条目\n",
    "- 只保留标准单位 == nM 的条目\n",
    "- 删除重复的分子\n",
    "- 重置数据帧索引\n",
    "- 重新命名列"
   ]
  },
  {
   "cell_type": "markdown",
   "id": "b0066681-f4f7-44fa-a061-990c545cb61b",
   "metadata": {},
   "source": [
    "## 1.将 \"standard_value \"的数据类型从 \"object \"转换为 \"float\"。\n",
    "\n",
    "字段standard_value保存的是标准化值（此处为 IC50）。为了在以后的计算中使用这些值，请将其转换为浮点数。"
   ]
  },
  {
   "cell_type": "code",
   "execution_count": 16,
   "id": "22de00dd-6d0c-4af0-bf66-dbddfe53dc2a",
   "metadata": {},
   "outputs": [
    {
     "data": {
      "text/plain": [
       "activity_id            int64\n",
       "assay_chembl_id       object\n",
       "assay_description     object\n",
       "assay_type            object\n",
       "molecule_chembl_id    object\n",
       "relation              object\n",
       "standard_units        object\n",
       "standard_value        object\n",
       "target_chembl_id      object\n",
       "target_organism       object\n",
       "type                  object\n",
       "dtype: object"
      ]
     },
     "execution_count": 16,
     "metadata": {},
     "output_type": "execute_result"
    }
   ],
   "source": [
    "bioactivities_df.dtypes"
   ]
  },
  {
   "cell_type": "code",
   "execution_count": 17,
   "id": "e59d3a73-44e5-4f8a-9ebe-4cb8c9c87075",
   "metadata": {},
   "outputs": [
    {
     "data": {
      "text/plain": [
       "activity_id             int64\n",
       "assay_chembl_id        object\n",
       "assay_description      object\n",
       "assay_type             object\n",
       "molecule_chembl_id     object\n",
       "relation               object\n",
       "standard_units         object\n",
       "standard_value        float64\n",
       "target_chembl_id       object\n",
       "target_organism        object\n",
       "type                   object\n",
       "dtype: object"
      ]
     },
     "execution_count": 17,
     "metadata": {},
     "output_type": "execute_result"
    }
   ],
   "source": [
    "bioactivities_df = bioactivities_df.astype({\"standard_value\": \"float64\"})\n",
    "bioactivities_df.dtypes"
   ]
  },
  {
   "cell_type": "markdown",
   "id": "b1ecc3b0-0ddb-406f-869a-1c7ccd5ac7ac",
   "metadata": {},
   "source": [
    "## 2.删除缺失值的条目\n",
    "\n",
    "使用参数inplace=True可直接在当前DataFrame中丢弃数值。"
   ]
  },
  {
   "cell_type": "code",
   "execution_count": 18,
   "id": "fecb4c8c-f2e4-4ec9-b03d-3482f89590ab",
   "metadata": {},
   "outputs": [
    {
     "name": "stdout",
     "output_type": "stream",
     "text": [
      "数据框架形状: (13, 11)\n"
     ]
    }
   ],
   "source": [
    "bioactivities_df.dropna(axis=0, how=\"any\", inplace=True)\n",
    "print(f\"数据框架形状: {bioactivities_df.shape}\")"
   ]
  },
  {
   "cell_type": "markdown",
   "id": "b44b7c70-ebce-4b62-aa41-9f0fa9a38487",
   "metadata": {},
   "source": [
    "## 3.只保留 \"标准单位 == nM \"的条目\n",
    "\n",
    "我们只想保留nM 单位的生物活性条目，因此删除了所有其他单位的条目。"
   ]
  },
  {
   "cell_type": "code",
   "execution_count": 19,
   "id": "c1d1d714-208b-4d8e-a45e-3b4faaa5edb9",
   "metadata": {},
   "outputs": [
    {
     "name": "stdout",
     "output_type": "stream",
     "text": [
      "下载数据的单位: ['nM']\n",
      "非 NM 条目的数量:    0\n"
     ]
    }
   ],
   "source": [
    "print(f\"下载数据的单位: {bioactivities_df['standard_units'].unique()}\")\n",
    "print(\n",
    "    f\"非 NM 条目的数量:\\\n",
    "    {bioactivities_df[bioactivities_df['standard_units'] != 'nM'].shape[0]}\"\n",
    ")"
   ]
  },
  {
   "cell_type": "code",
   "execution_count": 20,
   "id": "e50fc95e-717b-4397-aa88-2a4d6f8c4fd6",
   "metadata": {},
   "outputs": [
    {
     "name": "stdout",
     "output_type": "stream",
     "text": [
      "过滤后的单位: ['nM']\n"
     ]
    }
   ],
   "source": [
    "bioactivities_df = bioactivities_df[bioactivities_df[\"standard_units\"] == \"nM\"]\n",
    "print(f\"过滤后的单位: {bioactivities_df['standard_units'].unique()}\")"
   ]
  },
  {
   "cell_type": "code",
   "execution_count": 21,
   "id": "e19edf62-f07c-45cc-9956-b4320c50467d",
   "metadata": {},
   "outputs": [
    {
     "name": "stdout",
     "output_type": "stream",
     "text": [
      "数据框架形状: (13, 11)\n"
     ]
    }
   ],
   "source": [
    "print(f\"数据框架形状: {bioactivities_df.shape}\")"
   ]
  },
  {
   "cell_type": "code",
   "execution_count": 22,
   "id": "2caab210-4cd1-47d3-8fc0-27b942578cba",
   "metadata": {},
   "outputs": [],
   "source": [
    "# 保存生物活性数据只有nM的数据\n",
    "bioactivities_df.to_csv(DATA / \"bioactivities_only_nM.csv\", index=False)"
   ]
  },
  {
   "cell_type": "markdown",
   "id": "5a5a0901-1ea3-4fd0-b01c-1a2a43b4acb6",
   "metadata": {},
   "source": [
    "## 4.删除重复的分子\n",
    "\n",
    "有时，同一个分子（molecule_chembl_id）会被测试多次，在这种情况下，我们只保留第一次测试的结果。\n",
    "\n",
    "请注意，其他选择可以是保留最佳值或相应化合物所有检测结果的平均值。"
   ]
  },
  {
   "cell_type": "code",
   "execution_count": 23,
   "id": "938fe1b3-535d-485e-988d-88288770969e",
   "metadata": {},
   "outputs": [
    {
     "name": "stdout",
     "output_type": "stream",
     "text": [
      "数据框架形状: (12, 11)\n"
     ]
    }
   ],
   "source": [
    "bioactivities_df.drop_duplicates(\"molecule_chembl_id\", keep=\"first\", inplace=True)\n",
    "print(f\"数据框架形状: {bioactivities_df.shape}\")"
   ]
  },
  {
   "cell_type": "markdown",
   "id": "0a95f719-9670-44b4-a644-97aa0f4a3971",
   "metadata": {},
   "source": [
    "## 5.重置 \"DataFrame \"索引\n",
    "\n",
    "由于我们删除了一些记录，但我们希望稍后遍历该索引，因此我们重置该索引为连续索引。"
   ]
  },
  {
   "cell_type": "code",
   "execution_count": 24,
   "id": "4f6cae86-659b-42fc-b65d-3ea183c86402",
   "metadata": {},
   "outputs": [
    {
     "data": {
      "text/html": [
       "<div>\n",
       "<style scoped>\n",
       "    .dataframe tbody tr th:only-of-type {\n",
       "        vertical-align: middle;\n",
       "    }\n",
       "\n",
       "    .dataframe tbody tr th {\n",
       "        vertical-align: top;\n",
       "    }\n",
       "\n",
       "    .dataframe thead th {\n",
       "        text-align: right;\n",
       "    }\n",
       "</style>\n",
       "<table border=\"1\" class=\"dataframe\">\n",
       "  <thead>\n",
       "    <tr style=\"text-align: right;\">\n",
       "      <th></th>\n",
       "      <th>activity_id</th>\n",
       "      <th>assay_chembl_id</th>\n",
       "      <th>assay_description</th>\n",
       "      <th>assay_type</th>\n",
       "      <th>molecule_chembl_id</th>\n",
       "      <th>relation</th>\n",
       "      <th>standard_units</th>\n",
       "      <th>standard_value</th>\n",
       "      <th>target_chembl_id</th>\n",
       "      <th>target_organism</th>\n",
       "      <th>type</th>\n",
       "    </tr>\n",
       "  </thead>\n",
       "  <tbody>\n",
       "    <tr>\n",
       "      <th>0</th>\n",
       "      <td>1489866</td>\n",
       "      <td>CHEMBL827977</td>\n",
       "      <td>Inhibition of Mitogen activated protein kinase...</td>\n",
       "      <td>B</td>\n",
       "      <td>CHEMBL1788116</td>\n",
       "      <td>=</td>\n",
       "      <td>nM</td>\n",
       "      <td>10000.0</td>\n",
       "      <td>CHEMBL2171</td>\n",
       "      <td>Homo sapiens</td>\n",
       "      <td>IC50</td>\n",
       "    </tr>\n",
       "    <tr>\n",
       "      <th>1</th>\n",
       "      <td>2528951</td>\n",
       "      <td>CHEMBL985886</td>\n",
       "      <td>Inhibition of MKK6</td>\n",
       "      <td>B</td>\n",
       "      <td>CHEMBL507249</td>\n",
       "      <td>=</td>\n",
       "      <td>nM</td>\n",
       "      <td>15000.0</td>\n",
       "      <td>CHEMBL2171</td>\n",
       "      <td>Homo sapiens</td>\n",
       "      <td>IC50</td>\n",
       "    </tr>\n",
       "    <tr>\n",
       "      <th>2</th>\n",
       "      <td>16416040</td>\n",
       "      <td>CHEMBL3751417</td>\n",
       "      <td>Inhibition of MKK6 (unknown origin) using [gam...</td>\n",
       "      <td>B</td>\n",
       "      <td>CHEMBL449216</td>\n",
       "      <td>=</td>\n",
       "      <td>nM</td>\n",
       "      <td>16000.0</td>\n",
       "      <td>CHEMBL2171</td>\n",
       "      <td>Homo sapiens</td>\n",
       "      <td>IC50</td>\n",
       "    </tr>\n",
       "    <tr>\n",
       "      <th>3</th>\n",
       "      <td>16837445</td>\n",
       "      <td>CHEMBL3876108</td>\n",
       "      <td>Inhibition of human recombinant full length Hi...</td>\n",
       "      <td>B</td>\n",
       "      <td>CHEMBL3884319</td>\n",
       "      <td>=</td>\n",
       "      <td>nM</td>\n",
       "      <td>10000.0</td>\n",
       "      <td>CHEMBL2171</td>\n",
       "      <td>Homo sapiens</td>\n",
       "      <td>IC50</td>\n",
       "    </tr>\n",
       "    <tr>\n",
       "      <th>4</th>\n",
       "      <td>16897330</td>\n",
       "      <td>CHEMBL3882688</td>\n",
       "      <td>Inhibition of MKK6 (unknown origin) using kemp...</td>\n",
       "      <td>B</td>\n",
       "      <td>CHEMBL456689</td>\n",
       "      <td>=</td>\n",
       "      <td>nM</td>\n",
       "      <td>6200.0</td>\n",
       "      <td>CHEMBL2171</td>\n",
       "      <td>Homo sapiens</td>\n",
       "      <td>IC50</td>\n",
       "    </tr>\n",
       "  </tbody>\n",
       "</table>\n",
       "</div>"
      ],
      "text/plain": [
       "   activity_id assay_chembl_id  \\\n",
       "0      1489866    CHEMBL827977   \n",
       "1      2528951    CHEMBL985886   \n",
       "2     16416040   CHEMBL3751417   \n",
       "3     16837445   CHEMBL3876108   \n",
       "4     16897330   CHEMBL3882688   \n",
       "\n",
       "                                   assay_description assay_type  \\\n",
       "0  Inhibition of Mitogen activated protein kinase...          B   \n",
       "1                                 Inhibition of MKK6          B   \n",
       "2  Inhibition of MKK6 (unknown origin) using [gam...          B   \n",
       "3  Inhibition of human recombinant full length Hi...          B   \n",
       "4  Inhibition of MKK6 (unknown origin) using kemp...          B   \n",
       "\n",
       "  molecule_chembl_id relation standard_units  standard_value target_chembl_id  \\\n",
       "0      CHEMBL1788116        =             nM         10000.0       CHEMBL2171   \n",
       "1       CHEMBL507249        =             nM         15000.0       CHEMBL2171   \n",
       "2       CHEMBL449216        =             nM         16000.0       CHEMBL2171   \n",
       "3      CHEMBL3884319        =             nM         10000.0       CHEMBL2171   \n",
       "4       CHEMBL456689        =             nM          6200.0       CHEMBL2171   \n",
       "\n",
       "  target_organism  type  \n",
       "0    Homo sapiens  IC50  \n",
       "1    Homo sapiens  IC50  \n",
       "2    Homo sapiens  IC50  \n",
       "3    Homo sapiens  IC50  \n",
       "4    Homo sapiens  IC50  "
      ]
     },
     "execution_count": 24,
     "metadata": {},
     "output_type": "execute_result"
    }
   ],
   "source": [
    "bioactivities_df.reset_index(drop=True, inplace=True)\n",
    "bioactivities_df.head()"
   ]
  },
  {
   "cell_type": "markdown",
   "id": "83d4dbfd-3e54-4f1b-b596-47f368907b94",
   "metadata": {},
   "source": [
    "## 6.重新命名列"
   ]
  },
  {
   "cell_type": "code",
   "execution_count": 25,
   "id": "bbd0eb6b-d98d-4483-b56f-1094bc63bff6",
   "metadata": {},
   "outputs": [
    {
     "data": {
      "text/html": [
       "<div>\n",
       "<style scoped>\n",
       "    .dataframe tbody tr th:only-of-type {\n",
       "        vertical-align: middle;\n",
       "    }\n",
       "\n",
       "    .dataframe tbody tr th {\n",
       "        vertical-align: top;\n",
       "    }\n",
       "\n",
       "    .dataframe thead th {\n",
       "        text-align: right;\n",
       "    }\n",
       "</style>\n",
       "<table border=\"1\" class=\"dataframe\">\n",
       "  <thead>\n",
       "    <tr style=\"text-align: right;\">\n",
       "      <th></th>\n",
       "      <th>activity_id</th>\n",
       "      <th>assay_chembl_id</th>\n",
       "      <th>assay_description</th>\n",
       "      <th>assay_type</th>\n",
       "      <th>molecule_chembl_id</th>\n",
       "      <th>relation</th>\n",
       "      <th>units</th>\n",
       "      <th>IC50</th>\n",
       "      <th>target_chembl_id</th>\n",
       "      <th>target_organism</th>\n",
       "      <th>type</th>\n",
       "    </tr>\n",
       "  </thead>\n",
       "  <tbody>\n",
       "    <tr>\n",
       "      <th>0</th>\n",
       "      <td>1489866</td>\n",
       "      <td>CHEMBL827977</td>\n",
       "      <td>Inhibition of Mitogen activated protein kinase...</td>\n",
       "      <td>B</td>\n",
       "      <td>CHEMBL1788116</td>\n",
       "      <td>=</td>\n",
       "      <td>nM</td>\n",
       "      <td>10000.0</td>\n",
       "      <td>CHEMBL2171</td>\n",
       "      <td>Homo sapiens</td>\n",
       "      <td>IC50</td>\n",
       "    </tr>\n",
       "    <tr>\n",
       "      <th>1</th>\n",
       "      <td>2528951</td>\n",
       "      <td>CHEMBL985886</td>\n",
       "      <td>Inhibition of MKK6</td>\n",
       "      <td>B</td>\n",
       "      <td>CHEMBL507249</td>\n",
       "      <td>=</td>\n",
       "      <td>nM</td>\n",
       "      <td>15000.0</td>\n",
       "      <td>CHEMBL2171</td>\n",
       "      <td>Homo sapiens</td>\n",
       "      <td>IC50</td>\n",
       "    </tr>\n",
       "    <tr>\n",
       "      <th>2</th>\n",
       "      <td>16416040</td>\n",
       "      <td>CHEMBL3751417</td>\n",
       "      <td>Inhibition of MKK6 (unknown origin) using [gam...</td>\n",
       "      <td>B</td>\n",
       "      <td>CHEMBL449216</td>\n",
       "      <td>=</td>\n",
       "      <td>nM</td>\n",
       "      <td>16000.0</td>\n",
       "      <td>CHEMBL2171</td>\n",
       "      <td>Homo sapiens</td>\n",
       "      <td>IC50</td>\n",
       "    </tr>\n",
       "    <tr>\n",
       "      <th>3</th>\n",
       "      <td>16837445</td>\n",
       "      <td>CHEMBL3876108</td>\n",
       "      <td>Inhibition of human recombinant full length Hi...</td>\n",
       "      <td>B</td>\n",
       "      <td>CHEMBL3884319</td>\n",
       "      <td>=</td>\n",
       "      <td>nM</td>\n",
       "      <td>10000.0</td>\n",
       "      <td>CHEMBL2171</td>\n",
       "      <td>Homo sapiens</td>\n",
       "      <td>IC50</td>\n",
       "    </tr>\n",
       "    <tr>\n",
       "      <th>4</th>\n",
       "      <td>16897330</td>\n",
       "      <td>CHEMBL3882688</td>\n",
       "      <td>Inhibition of MKK6 (unknown origin) using kemp...</td>\n",
       "      <td>B</td>\n",
       "      <td>CHEMBL456689</td>\n",
       "      <td>=</td>\n",
       "      <td>nM</td>\n",
       "      <td>6200.0</td>\n",
       "      <td>CHEMBL2171</td>\n",
       "      <td>Homo sapiens</td>\n",
       "      <td>IC50</td>\n",
       "    </tr>\n",
       "  </tbody>\n",
       "</table>\n",
       "</div>"
      ],
      "text/plain": [
       "   activity_id assay_chembl_id  \\\n",
       "0      1489866    CHEMBL827977   \n",
       "1      2528951    CHEMBL985886   \n",
       "2     16416040   CHEMBL3751417   \n",
       "3     16837445   CHEMBL3876108   \n",
       "4     16897330   CHEMBL3882688   \n",
       "\n",
       "                                   assay_description assay_type  \\\n",
       "0  Inhibition of Mitogen activated protein kinase...          B   \n",
       "1                                 Inhibition of MKK6          B   \n",
       "2  Inhibition of MKK6 (unknown origin) using [gam...          B   \n",
       "3  Inhibition of human recombinant full length Hi...          B   \n",
       "4  Inhibition of MKK6 (unknown origin) using kemp...          B   \n",
       "\n",
       "  molecule_chembl_id relation units     IC50 target_chembl_id target_organism  \\\n",
       "0      CHEMBL1788116        =    nM  10000.0       CHEMBL2171    Homo sapiens   \n",
       "1       CHEMBL507249        =    nM  15000.0       CHEMBL2171    Homo sapiens   \n",
       "2       CHEMBL449216        =    nM  16000.0       CHEMBL2171    Homo sapiens   \n",
       "3      CHEMBL3884319        =    nM  10000.0       CHEMBL2171    Homo sapiens   \n",
       "4       CHEMBL456689        =    nM   6200.0       CHEMBL2171    Homo sapiens   \n",
       "\n",
       "   type  \n",
       "0  IC50  \n",
       "1  IC50  \n",
       "2  IC50  \n",
       "3  IC50  \n",
       "4  IC50  "
      ]
     },
     "execution_count": 25,
     "metadata": {},
     "output_type": "execute_result"
    }
   ],
   "source": [
    "bioactivities_df.rename(\n",
    "    columns={\"standard_value\": \"IC50\", \"standard_units\": \"units\"}, inplace=True\n",
    ")\n",
    "bioactivities_df.head()"
   ]
  },
  {
   "cell_type": "code",
   "execution_count": 26,
   "id": "f7d9469e-06e1-465f-a32b-b975ce259085",
   "metadata": {},
   "outputs": [],
   "source": [
    "# 保存生物活性数据过滤好的数据\n",
    "bioactivities_df.to_csv(DATA / \"bioactivities_filtration.csv\", index=False)"
   ]
  },
  {
   "cell_type": "code",
   "execution_count": 27,
   "id": "c3c4ad5a-b42c-472c-9a97-d4c5537df207",
   "metadata": {},
   "outputs": [
    {
     "name": "stdout",
     "output_type": "stream",
     "text": [
      "数据框架形状： (12, 11)\n"
     ]
    }
   ],
   "source": [
    "print(f\"数据框架形状： {bioactivities_df.shape}\")"
   ]
  },
  {
   "cell_type": "markdown",
   "id": "59ed1cae-cf9f-4720-9b3d-40c230341f88",
   "metadata": {},
   "source": [
    "现在，我们有了一组7504 个分子 ID，以及各自针对目标激酶的 IC50 值。"
   ]
  },
  {
   "cell_type": "markdown",
   "id": "f28ae0ba-9fb5-48c2-b28a-6301912b3a72",
   "metadata": {},
   "source": [
    "## 获取复合数据\n",
    "\n",
    "我们有一个DataFrame，其中包含针对MAP2K6测试的所有分子（以及各自测得的生物活性）。\n",
    "\n",
    "现在，我们要获取与各自生物活性 ChEMBL ID 相关联的分子结构。\n",
    "\n",
    "## 从ChEMBL获取化合物数据\n",
    "\n",
    "让我们来看看 ChEMBL 中定义了生物活性数据的化合物：我们从 ChEMBL 中获取与我们过滤的生物活性数据相关联的化合物 ID 和结构。"
   ]
  },
  {
   "cell_type": "code",
   "execution_count": 28,
   "id": "ca136709-f2e9-4bb3-a4ac-43b8ba56d50d",
   "metadata": {},
   "outputs": [],
   "source": [
    "compounds_provider = compounds_api.filter(\n",
    "    molecule_chembl_id__in=list(bioactivities_df[\"molecule_chembl_id\"])\n",
    ").only(\"molecule_chembl_id\", \"molecule_structures\")"
   ]
  },
  {
   "cell_type": "markdown",
   "id": "fb0248fc-1a41-4508-b17e-40e9fca80896",
   "metadata": {},
   "source": [
    "## 从ChEMBL下载化合物数据¶\n",
    "\n",
    "同样，我们要将QuerySet对象导出到pandas.DataFrame 中。考虑到数据量，这可能需要一些时间。因此，我们将首先通过tqdm 获取记录列表，这样就能得到一个漂亮的进度条和一些 ETA。然后，我们可以将化合物列表传递给 DataFrame。\n",
    "\n",
    "❤️这里需要耐心等待，需要30分钟左右！！！！！❤️"
   ]
  },
  {
   "cell_type": "code",
   "execution_count": 29,
   "id": "f2b49745-6b7d-4ff1-8698-b45c3f6d6d9b",
   "metadata": {},
   "outputs": [
    {
     "data": {
      "application/vnd.jupyter.widget-view+json": {
       "model_id": "6928b75483c9412992a180efac9553b7",
       "version_major": 2,
       "version_minor": 0
      },
      "text/plain": [
       "  0%|          | 0/12 [00:00<?, ?it/s]"
      ]
     },
     "metadata": {},
     "output_type": "display_data"
    }
   ],
   "source": [
    "compounds = list(tqdm(compounds_provider))"
   ]
  },
  {
   "cell_type": "code",
   "execution_count": 30,
   "id": "0534491b-529a-4ed5-9972-8920f58870c4",
   "metadata": {},
   "outputs": [],
   "source": [
    "# 保存从ChEMBL下载化合物数据\n",
    "bioactivities_df.to_csv(DATA / \"bioactivities_compounds.csv\", index=False)"
   ]
  },
  {
   "cell_type": "code",
   "execution_count": 31,
   "id": "dc6618fd-f0a9-40e0-bf17-35fb99fb6e65",
   "metadata": {},
   "outputs": [],
   "source": [
    "# # 读取bioactivities_compounds.csv文件\n",
    "# compounds = pd.read_csv(DATA / \"bioactivities_compounds.csv\")\n",
    "# compounds"
   ]
  },
  {
   "cell_type": "code",
   "execution_count": 32,
   "id": "2dfc70f7-e330-417a-8b18-a764ea4ece26",
   "metadata": {},
   "outputs": [
    {
     "name": "stdout",
     "output_type": "stream",
     "text": [
      "数据框架形状: (12, 2)\n"
     ]
    }
   ],
   "source": [
    "compounds_df = pd.DataFrame.from_records(\n",
    "    compounds,\n",
    ")\n",
    "print(f\"数据框架形状: {compounds_df.shape}\")"
   ]
  },
  {
   "cell_type": "code",
   "execution_count": 33,
   "id": "2addbd1d-4b44-44f1-993b-95f96258a1f9",
   "metadata": {},
   "outputs": [
    {
     "data": {
      "text/html": [
       "<div>\n",
       "<style scoped>\n",
       "    .dataframe tbody tr th:only-of-type {\n",
       "        vertical-align: middle;\n",
       "    }\n",
       "\n",
       "    .dataframe tbody tr th {\n",
       "        vertical-align: top;\n",
       "    }\n",
       "\n",
       "    .dataframe thead th {\n",
       "        text-align: right;\n",
       "    }\n",
       "</style>\n",
       "<table border=\"1\" class=\"dataframe\">\n",
       "  <thead>\n",
       "    <tr style=\"text-align: right;\">\n",
       "      <th></th>\n",
       "      <th>molecule_chembl_id</th>\n",
       "      <th>molecule_structures</th>\n",
       "    </tr>\n",
       "  </thead>\n",
       "  <tbody>\n",
       "    <tr>\n",
       "      <th>0</th>\n",
       "      <td>CHEMBL456</td>\n",
       "      <td>{'canonical_smiles': 'C=C(CC)C(=O)c1ccc(OCC(=O...</td>\n",
       "    </tr>\n",
       "    <tr>\n",
       "      <th>1</th>\n",
       "      <td>CHEMBL388978</td>\n",
       "      <td>{'canonical_smiles': 'CN[C@@H]1C[C@H]2O[C@@](C...</td>\n",
       "    </tr>\n",
       "    <tr>\n",
       "      <th>2</th>\n",
       "      <td>CHEMBL449216</td>\n",
       "      <td>{'canonical_smiles': 'NC(=O)c1nnc2ccccc2c1N', ...</td>\n",
       "    </tr>\n",
       "    <tr>\n",
       "      <th>3</th>\n",
       "      <td>CHEMBL456689</td>\n",
       "      <td>{'canonical_smiles': 'COc1cc2[nH]c3ncnc(N4CCN(...</td>\n",
       "    </tr>\n",
       "    <tr>\n",
       "      <th>4</th>\n",
       "      <td>CHEMBL507249</td>\n",
       "      <td>{'canonical_smiles': 'O[C@H]1CC[C@H](c2n[nH]cc...</td>\n",
       "    </tr>\n",
       "  </tbody>\n",
       "</table>\n",
       "</div>"
      ],
      "text/plain": [
       "  molecule_chembl_id                                molecule_structures\n",
       "0          CHEMBL456  {'canonical_smiles': 'C=C(CC)C(=O)c1ccc(OCC(=O...\n",
       "1       CHEMBL388978  {'canonical_smiles': 'CN[C@@H]1C[C@H]2O[C@@](C...\n",
       "2       CHEMBL449216  {'canonical_smiles': 'NC(=O)c1nnc2ccccc2c1N', ...\n",
       "3       CHEMBL456689  {'canonical_smiles': 'COc1cc2[nH]c3ncnc(N4CCN(...\n",
       "4       CHEMBL507249  {'canonical_smiles': 'O[C@H]1CC[C@H](c2n[nH]cc..."
      ]
     },
     "execution_count": 33,
     "metadata": {},
     "output_type": "execute_result"
    }
   ],
   "source": [
    "# 查看前面几行：\n",
    "compounds_df.head()"
   ]
  },
  {
   "cell_type": "markdown",
   "id": "45a47d4c-46e4-4f5b-97aa-30574f04a221",
   "metadata": {},
   "source": [
    "## 预处理和过滤复合数据\n",
    "\n",
    "- 删除缺失的条目\n",
    "- 删除重复的分子（按 molecule_chembl_id 计）\n",
    "- 使用标准 SMILES 获取分子"
   ]
  },
  {
   "cell_type": "markdown",
   "id": "f90c8954-2934-477d-b500-9ede89018b7e",
   "metadata": {},
   "source": [
    "## 1.删除缺少分子结构条目的条目"
   ]
  },
  {
   "cell_type": "code",
   "execution_count": 34,
   "id": "89db0149-1125-4de3-a49e-2549bf21ed95",
   "metadata": {},
   "outputs": [
    {
     "name": "stdout",
     "output_type": "stream",
     "text": [
      "数据框架形状: (12, 2)\n"
     ]
    }
   ],
   "source": [
    "compounds_df.dropna(axis=0, how=\"any\", inplace=True)\n",
    "print(f\"数据框架形状: {compounds_df.shape}\")"
   ]
  },
  {
   "cell_type": "markdown",
   "id": "c37aa087-4567-4322-bf84-d1f5fdd2578d",
   "metadata": {},
   "source": [
    "## 2.删除重复的分子"
   ]
  },
  {
   "cell_type": "code",
   "execution_count": 35,
   "id": "58c18916-b0bc-40e4-840a-eb3e07f18154",
   "metadata": {},
   "outputs": [
    {
     "name": "stdout",
     "output_type": "stream",
     "text": [
      "数据框架形状: (12, 2)\n"
     ]
    }
   ],
   "source": [
    "compounds_df.drop_duplicates(\"molecule_chembl_id\", keep=\"first\", inplace=True)\n",
    "print(f\"数据框架形状: {compounds_df.shape}\")"
   ]
  },
  {
   "cell_type": "markdown",
   "id": "9aa7a5e4-b8b4-4aaf-9a80-40b53428ab63",
   "metadata": {},
   "source": [
    "## 3.用标准 SMILES 获取分子"
   ]
  },
  {
   "cell_type": "code",
   "execution_count": 36,
   "id": "1419dff5-e670-4c8e-9adb-88b39ad35ccb",
   "metadata": {},
   "outputs": [
    {
     "data": {
      "text/plain": [
       "dict_keys(['canonical_smiles', 'molfile', 'standard_inchi', 'standard_inchi_key'])"
      ]
     },
     "execution_count": 36,
     "metadata": {},
     "output_type": "execute_result"
    }
   ],
   "source": [
    "# 到目前为止，我们有多种不同的分子结构表示法。我们只想保留标准的 SMILES。\n",
    "compounds_df.iloc[0].molecule_structures.keys()"
   ]
  },
  {
   "cell_type": "code",
   "execution_count": 37,
   "id": "b5c3d284-9f48-458c-82ad-33ca9365cc0c",
   "metadata": {},
   "outputs": [
    {
     "name": "stdout",
     "output_type": "stream",
     "text": [
      "数据框架形状: (12, 2)\n"
     ]
    }
   ],
   "source": [
    "# 初始化一个空列表，用于存储化合物的canonical SMILES字符串\n",
    "canonical_smiles = []\n",
    "\n",
    "# 使用iterrows()方法迭代compounds_df数据框中的每一行数据\n",
    "for i, compounds in compounds_df.iterrows():\n",
    "    try:\n",
    "        # 尝试从当前化合物的'molecule_structures'字段中提取'canonical_smiles'\n",
    "        canonical_smiles.append(compounds[\"molecule_structures\"][\"canonical_smiles\"])\n",
    "    except KeyError:\n",
    "        # 如果'molecule_structures'字段中没有'canonical_smiles'键，则添加None\n",
    "        canonical_smiles.append(None)\n",
    "\n",
    "# 将提取到的canonical_smiles列表作为新列添加到数据框中\n",
    "compounds_df[\"smiles\"] = canonical_smiles\n",
    "\n",
    "# 删除不再需要的'molecule_structures'列\n",
    "compounds_df.drop(\"molecule_structures\", axis=1, inplace=True)\n",
    "\n",
    "# 输出数据框的形状，显示行数和列数\n",
    "print(f\"数据框架形状: {compounds_df.shape}\")\n"
   ]
  },
  {
   "cell_type": "markdown",
   "id": "6b6c596f-b829-4e12-be6b-cd8d4f87d4b0",
   "metadata": {},
   "source": [
    "## 合理性检查：删除所有没有规范 SMILES 字符串的分子。"
   ]
  },
  {
   "cell_type": "code",
   "execution_count": 38,
   "id": "c0611bf4-025c-4ef8-b9ad-2fdb3bc6afb8",
   "metadata": {},
   "outputs": [
    {
     "name": "stdout",
     "output_type": "stream",
     "text": [
      "数据框架形状: (12, 2)\n"
     ]
    }
   ],
   "source": [
    "compounds_df.dropna(axis=0, how=\"any\", inplace=True)\n",
    "print(f\"数据框架形状: {compounds_df.shape}\")"
   ]
  },
  {
   "cell_type": "markdown",
   "id": "0dfa41f0-ba35-4395-a55b-59b546f901c4",
   "metadata": {},
   "source": [
    "## 输出（生物活性-化合物）数据\n",
    "\n",
    "- 化合物和生物活性数据摘要"
   ]
  },
  {
   "cell_type": "code",
   "execution_count": 39,
   "id": "564039f5-64d0-4032-94e2-1e2432fc1988",
   "metadata": {},
   "outputs": [
    {
     "name": "stdout",
     "output_type": "stream",
     "text": [
      "生物活性筛选: 12\n"
     ]
    },
    {
     "data": {
      "text/plain": [
       "Index(['activity_id', 'assay_chembl_id', 'assay_description', 'assay_type',\n",
       "       'molecule_chembl_id', 'relation', 'units', 'IC50', 'target_chembl_id',\n",
       "       'target_organism', 'type'],\n",
       "      dtype='object')"
      ]
     },
     "execution_count": 39,
     "metadata": {},
     "output_type": "execute_result"
    }
   ],
   "source": [
    "print(f\"生物活性筛选: {bioactivities_df.shape[0]}\")\n",
    "bioactivities_df.columns"
   ]
  },
  {
   "cell_type": "code",
   "execution_count": 40,
   "id": "bd1a6d83-0b39-4025-877d-8f800291dd0d",
   "metadata": {},
   "outputs": [
    {
     "name": "stdout",
     "output_type": "stream",
     "text": [
      "化合物过滤: 12\n"
     ]
    },
    {
     "data": {
      "text/plain": [
       "Index(['molecule_chembl_id', 'smiles'], dtype='object')"
      ]
     },
     "execution_count": 40,
     "metadata": {},
     "output_type": "execute_result"
    }
   ],
   "source": [
    "print(f\"化合物过滤: {compounds_df.shape[0]}\")\n",
    "compounds_df.columns"
   ]
  },
  {
   "cell_type": "markdown",
   "id": "9bc49b47-0f67-483f-9361-37ca6ef456de",
   "metadata": {},
   "source": [
    "## 合并两个数据集\n",
    "\n",
    "- 根据化合物的 ChEMBL ID（mole_chembl_id），将生物活性数据集（bioactivities_ df）和化合物数据集（compounds_ df）中的相关值合并到输出数据集（output_ df）中，保留以下列：\n",
    "    - ChEMBL IDs: molecule_chembl_id\n",
    "    - SMILES: smiles\n",
    "    - units: units\n",
    "    - IC50: IC50"
   ]
  },
  {
   "cell_type": "code",
   "execution_count": 41,
   "id": "2315fd3f-9d6a-49af-a00a-7d3b0f69b4f7",
   "metadata": {},
   "outputs": [
    {
     "name": "stdout",
     "output_type": "stream",
     "text": [
      "数据集包括 12 条目.\n"
     ]
    }
   ],
   "source": [
    "# 合并数据\n",
    "output_df = pd.merge(\n",
    "    bioactivities_df[[\"molecule_chembl_id\", \"IC50\", \"units\"]],\n",
    "    compounds_df,\n",
    "    on=\"molecule_chembl_id\",\n",
    ")\n",
    "\n",
    "# 重置行指数\n",
    "output_df.reset_index(drop=True, inplace=True)\n",
    "\n",
    "print(f\"数据集包括 {output_df.shape[0]} 条目.\")"
   ]
  },
  {
   "cell_type": "code",
   "execution_count": 42,
   "id": "acebceae-c215-41c6-8af3-24ff4c66a61b",
   "metadata": {},
   "outputs": [
    {
     "data": {
      "text/plain": [
       "molecule_chembl_id     object\n",
       "IC50                  float64\n",
       "units                  object\n",
       "smiles                 object\n",
       "dtype: object"
      ]
     },
     "execution_count": 42,
     "metadata": {},
     "output_type": "execute_result"
    }
   ],
   "source": [
    "output_df.dtypes"
   ]
  },
  {
   "cell_type": "code",
   "execution_count": 43,
   "id": "b6a9ab3e-c00b-421e-bf05-678cee1395df",
   "metadata": {},
   "outputs": [
    {
     "data": {
      "text/html": [
       "<div>\n",
       "<style scoped>\n",
       "    .dataframe tbody tr th:only-of-type {\n",
       "        vertical-align: middle;\n",
       "    }\n",
       "\n",
       "    .dataframe tbody tr th {\n",
       "        vertical-align: top;\n",
       "    }\n",
       "\n",
       "    .dataframe thead th {\n",
       "        text-align: right;\n",
       "    }\n",
       "</style>\n",
       "<table border=\"1\" class=\"dataframe\">\n",
       "  <thead>\n",
       "    <tr style=\"text-align: right;\">\n",
       "      <th></th>\n",
       "      <th>molecule_chembl_id</th>\n",
       "      <th>IC50</th>\n",
       "      <th>units</th>\n",
       "      <th>smiles</th>\n",
       "    </tr>\n",
       "  </thead>\n",
       "  <tbody>\n",
       "    <tr>\n",
       "      <th>0</th>\n",
       "      <td>CHEMBL1788116</td>\n",
       "      <td>10000.00</td>\n",
       "      <td>nM</td>\n",
       "      <td>N#C/C(=C1/Nc2ccccc2S1)c1ccnc(NCCc2cccnc2)n1.O=...</td>\n",
       "    </tr>\n",
       "    <tr>\n",
       "      <th>1</th>\n",
       "      <td>CHEMBL507249</td>\n",
       "      <td>15000.00</td>\n",
       "      <td>nM</td>\n",
       "      <td>O[C@H]1CC[C@H](c2n[nH]cc2-c2ccnc(NC3CCCC3)n2)CC1</td>\n",
       "    </tr>\n",
       "    <tr>\n",
       "      <th>2</th>\n",
       "      <td>CHEMBL449216</td>\n",
       "      <td>16000.00</td>\n",
       "      <td>nM</td>\n",
       "      <td>NC(=O)c1nnc2ccccc2c1N</td>\n",
       "    </tr>\n",
       "    <tr>\n",
       "      <th>3</th>\n",
       "      <td>CHEMBL3884319</td>\n",
       "      <td>10000.00</td>\n",
       "      <td>nM</td>\n",
       "      <td>CC1(C)C(=O)N([C@H]2CCc3c(O)cccc32)c2nc(Nc3cccc...</td>\n",
       "    </tr>\n",
       "    <tr>\n",
       "      <th>4</th>\n",
       "      <td>CHEMBL456689</td>\n",
       "      <td>6200.00</td>\n",
       "      <td>nM</td>\n",
       "      <td>COc1cc2[nH]c3ncnc(N4CCN(C(=S)Nc5ccc(S(=O)(=O)N...</td>\n",
       "    </tr>\n",
       "    <tr>\n",
       "      <th>5</th>\n",
       "      <td>CHEMBL2012519</td>\n",
       "      <td>388.20</td>\n",
       "      <td>nM</td>\n",
       "      <td>COc1cc(O)c2c(c1)CCC[C@H](O)[C@H](O)C(=O)/C=C\\C...</td>\n",
       "    </tr>\n",
       "    <tr>\n",
       "      <th>6</th>\n",
       "      <td>CHEMBL388978</td>\n",
       "      <td>8.34</td>\n",
       "      <td>nM</td>\n",
       "      <td>CN[C@@H]1C[C@H]2O[C@@](C)([C@@H]1OC)n1c3ccccc3...</td>\n",
       "    </tr>\n",
       "    <tr>\n",
       "      <th>7</th>\n",
       "      <td>CHEMBL4569508</td>\n",
       "      <td>19000.00</td>\n",
       "      <td>nM</td>\n",
       "      <td>O=C(NCC(F)(F)F)c1cc(-c2cnn3cc(-c4ccc(OCCN5CCCC...</td>\n",
       "    </tr>\n",
       "    <tr>\n",
       "      <th>8</th>\n",
       "      <td>CHEMBL4550702</td>\n",
       "      <td>35000.00</td>\n",
       "      <td>nM</td>\n",
       "      <td>Cn1cc(-c2cnc3c(-c4csc(C(=O)NCC(F)(F)F)c4)cnn3c...</td>\n",
       "    </tr>\n",
       "    <tr>\n",
       "      <th>9</th>\n",
       "      <td>CHEMBL4568087</td>\n",
       "      <td>290.00</td>\n",
       "      <td>nM</td>\n",
       "      <td>Cn1cc(-c2cnc3c(-c4csc(C(=O)N[C@@H]5CCCC[C@@H]5...</td>\n",
       "    </tr>\n",
       "  </tbody>\n",
       "</table>\n",
       "</div>"
      ],
      "text/plain": [
       "  molecule_chembl_id      IC50 units  \\\n",
       "0      CHEMBL1788116  10000.00    nM   \n",
       "1       CHEMBL507249  15000.00    nM   \n",
       "2       CHEMBL449216  16000.00    nM   \n",
       "3      CHEMBL3884319  10000.00    nM   \n",
       "4       CHEMBL456689   6200.00    nM   \n",
       "5      CHEMBL2012519    388.20    nM   \n",
       "6       CHEMBL388978      8.34    nM   \n",
       "7      CHEMBL4569508  19000.00    nM   \n",
       "8      CHEMBL4550702  35000.00    nM   \n",
       "9      CHEMBL4568087    290.00    nM   \n",
       "\n",
       "                                              smiles  \n",
       "0  N#C/C(=C1/Nc2ccccc2S1)c1ccnc(NCCc2cccnc2)n1.O=...  \n",
       "1   O[C@H]1CC[C@H](c2n[nH]cc2-c2ccnc(NC3CCCC3)n2)CC1  \n",
       "2                              NC(=O)c1nnc2ccccc2c1N  \n",
       "3  CC1(C)C(=O)N([C@H]2CCc3c(O)cccc32)c2nc(Nc3cccc...  \n",
       "4  COc1cc2[nH]c3ncnc(N4CCN(C(=S)Nc5ccc(S(=O)(=O)N...  \n",
       "5  COc1cc(O)c2c(c1)CCC[C@H](O)[C@H](O)C(=O)/C=C\\C...  \n",
       "6  CN[C@@H]1C[C@H]2O[C@@](C)([C@@H]1OC)n1c3ccccc3...  \n",
       "7  O=C(NCC(F)(F)F)c1cc(-c2cnn3cc(-c4ccc(OCCN5CCCC...  \n",
       "8  Cn1cc(-c2cnc3c(-c4csc(C(=O)NCC(F)(F)F)c4)cnn3c...  \n",
       "9  Cn1cc(-c2cnc3c(-c4csc(C(=O)N[C@@H]5CCCC[C@@H]5...  "
      ]
     },
     "execution_count": 43,
     "metadata": {},
     "output_type": "execute_result"
    }
   ],
   "source": [
    "output_df.head(10)"
   ]
  },
  {
   "cell_type": "markdown",
   "id": "feb66037-4dba-43ac-a16d-5a5678669760",
   "metadata": {},
   "source": [
    "## 添加 pIC50值\n",
    "\n",
    "- 正如您所看到的，低 IC50 值很难读取（值分布在多个刻度上），因此我们将 IC50 值转换为 pIC50。"
   ]
  },
  {
   "cell_type": "code",
   "execution_count": 44,
   "id": "ea3a665e-cc18-4ea6-9694-447d800df497",
   "metadata": {},
   "outputs": [],
   "source": [
    "def convert_ic50_to_pic50(IC50_value):\n",
    "    pIC50_value = 9 - math.log10(IC50_value)\n",
    "    return pIC50_value"
   ]
  },
  {
   "cell_type": "code",
   "execution_count": 45,
   "id": "7e8d998a-50d3-4ef3-b0a4-eb99af7e68de",
   "metadata": {},
   "outputs": [],
   "source": [
    "# 对化合物 DataFrame 的每一行进行转换\n",
    "output_df[\"pIC50\"] = output_df.apply(lambda x: convert_ic50_to_pic50(x.IC50), axis=1)"
   ]
  },
  {
   "cell_type": "code",
   "execution_count": 46,
   "id": "d09eb839-df57-4f2d-91d6-4ea155ae8e43",
   "metadata": {},
   "outputs": [
    {
     "data": {
      "text/html": [
       "<div>\n",
       "<style scoped>\n",
       "    .dataframe tbody tr th:only-of-type {\n",
       "        vertical-align: middle;\n",
       "    }\n",
       "\n",
       "    .dataframe tbody tr th {\n",
       "        vertical-align: top;\n",
       "    }\n",
       "\n",
       "    .dataframe thead th {\n",
       "        text-align: right;\n",
       "    }\n",
       "</style>\n",
       "<table border=\"1\" class=\"dataframe\">\n",
       "  <thead>\n",
       "    <tr style=\"text-align: right;\">\n",
       "      <th></th>\n",
       "      <th>molecule_chembl_id</th>\n",
       "      <th>IC50</th>\n",
       "      <th>units</th>\n",
       "      <th>smiles</th>\n",
       "      <th>pIC50</th>\n",
       "    </tr>\n",
       "  </thead>\n",
       "  <tbody>\n",
       "    <tr>\n",
       "      <th>0</th>\n",
       "      <td>CHEMBL1788116</td>\n",
       "      <td>10000.0</td>\n",
       "      <td>nM</td>\n",
       "      <td>N#C/C(=C1/Nc2ccccc2S1)c1ccnc(NCCc2cccnc2)n1.O=...</td>\n",
       "      <td>5.000000</td>\n",
       "    </tr>\n",
       "    <tr>\n",
       "      <th>1</th>\n",
       "      <td>CHEMBL507249</td>\n",
       "      <td>15000.0</td>\n",
       "      <td>nM</td>\n",
       "      <td>O[C@H]1CC[C@H](c2n[nH]cc2-c2ccnc(NC3CCCC3)n2)CC1</td>\n",
       "      <td>4.823909</td>\n",
       "    </tr>\n",
       "    <tr>\n",
       "      <th>2</th>\n",
       "      <td>CHEMBL449216</td>\n",
       "      <td>16000.0</td>\n",
       "      <td>nM</td>\n",
       "      <td>NC(=O)c1nnc2ccccc2c1N</td>\n",
       "      <td>4.795880</td>\n",
       "    </tr>\n",
       "    <tr>\n",
       "      <th>3</th>\n",
       "      <td>CHEMBL3884319</td>\n",
       "      <td>10000.0</td>\n",
       "      <td>nM</td>\n",
       "      <td>CC1(C)C(=O)N([C@H]2CCc3c(O)cccc32)c2nc(Nc3cccc...</td>\n",
       "      <td>5.000000</td>\n",
       "    </tr>\n",
       "    <tr>\n",
       "      <th>4</th>\n",
       "      <td>CHEMBL456689</td>\n",
       "      <td>6200.0</td>\n",
       "      <td>nM</td>\n",
       "      <td>COc1cc2[nH]c3ncnc(N4CCN(C(=S)Nc5ccc(S(=O)(=O)N...</td>\n",
       "      <td>5.207608</td>\n",
       "    </tr>\n",
       "  </tbody>\n",
       "</table>\n",
       "</div>"
      ],
      "text/plain": [
       "  molecule_chembl_id     IC50 units  \\\n",
       "0      CHEMBL1788116  10000.0    nM   \n",
       "1       CHEMBL507249  15000.0    nM   \n",
       "2       CHEMBL449216  16000.0    nM   \n",
       "3      CHEMBL3884319  10000.0    nM   \n",
       "4       CHEMBL456689   6200.0    nM   \n",
       "\n",
       "                                              smiles     pIC50  \n",
       "0  N#C/C(=C1/Nc2ccccc2S1)c1ccnc(NCCc2cccnc2)n1.O=...  5.000000  \n",
       "1   O[C@H]1CC[C@H](c2n[nH]cc2-c2ccnc(NC3CCCC3)n2)CC1  4.823909  \n",
       "2                              NC(=O)c1nnc2ccccc2c1N  4.795880  \n",
       "3  CC1(C)C(=O)N([C@H]2CCc3c(O)cccc32)c2nc(Nc3cccc...  5.000000  \n",
       "4  COc1cc2[nH]c3ncnc(N4CCN(C(=S)Nc5ccc(S(=O)(=O)N...  5.207608  "
      ]
     },
     "execution_count": 46,
     "metadata": {},
     "output_type": "execute_result"
    }
   ],
   "source": [
    "output_df.head()"
   ]
  },
  {
   "cell_type": "markdown",
   "id": "8c2811c1-be58-43f8-baa4-84685f8623e5",
   "metadata": {},
   "source": [
    "## 绘制复合数据\n",
    "\n",
    "- 让我们来看看收集到的数据集。\n",
    "- 首先，我们绘制了 pIC50 值的分布图"
   ]
  },
  {
   "cell_type": "markdown",
   "id": "3996f557-992e-417e-9c5c-217e57b5b80d",
   "metadata": {},
   "source": [
    "## 在接下来的步骤中，我们将在DataFrame中添加一列 RDKit 分子对象，并查看 pIC50 值最高的分子的结构。"
   ]
  },
  {
   "cell_type": "code",
   "execution_count": 47,
   "id": "d73b8c8a-f919-4fbb-8312-6b587807933c",
   "metadata": {},
   "outputs": [],
   "source": [
    "# 新增 molecule column\n",
    "PandasTools.AddMoleculeColumnToFrame(output_df, smilesCol=\"smiles\")"
   ]
  },
  {
   "cell_type": "code",
   "execution_count": 48,
   "id": "3d9ca90b-e1e1-4ccb-a867-f3eff94f2505",
   "metadata": {},
   "outputs": [],
   "source": [
    "# 通过pIC50对分子进行排序\n",
    "output_df.sort_values(by=\"pIC50\", ascending=False, inplace=True)\n",
    "\n",
    "# 重置index\n",
    "output_df.reset_index(drop=True, inplace=True)"
   ]
  },
  {
   "cell_type": "code",
   "execution_count": 49,
   "id": "7f0c99d3-a9e7-41f5-836f-5f5cf125f577",
   "metadata": {},
   "outputs": [
    {
     "data": {
      "text/html": [
       "<div>\n",
       "<style scoped>\n",
       "    .dataframe tbody tr th:only-of-type {\n",
       "        vertical-align: middle;\n",
       "    }\n",
       "\n",
       "    .dataframe tbody tr th {\n",
       "        vertical-align: top;\n",
       "    }\n",
       "\n",
       "    .dataframe thead th {\n",
       "        text-align: right;\n",
       "    }\n",
       "</style>\n",
       "<table border=\"1\" class=\"dataframe\">\n",
       "  <thead>\n",
       "    <tr style=\"text-align: right;\">\n",
       "      <th></th>\n",
       "      <th>molecule_chembl_id</th>\n",
       "      <th>IC50</th>\n",
       "      <th>units</th>\n",
       "      <th>pIC50</th>\n",
       "      <th>ROMol</th>\n",
       "    </tr>\n",
       "  </thead>\n",
       "  <tbody>\n",
       "    <tr>\n",
       "      <th>0</th>\n",
       "      <td>CHEMBL388978</td>\n",
       "      <td>8.34</td>\n",
       "      <td>nM</td>\n",
       "      <td>8.078834</td>\n",
       "      <td>&lt;rdkit.Chem.rdchem.Mol object at 0x12e302970&gt;</td>\n",
       "    </tr>\n",
       "    <tr>\n",
       "      <th>1</th>\n",
       "      <td>CHEMBL4568087</td>\n",
       "      <td>290.00</td>\n",
       "      <td>nM</td>\n",
       "      <td>6.537602</td>\n",
       "      <td>&lt;rdkit.Chem.rdchem.Mol object at 0x12e302580&gt;</td>\n",
       "    </tr>\n",
       "    <tr>\n",
       "      <th>2</th>\n",
       "      <td>CHEMBL2012519</td>\n",
       "      <td>388.20</td>\n",
       "      <td>nM</td>\n",
       "      <td>6.410944</td>\n",
       "      <td>&lt;rdkit.Chem.rdchem.Mol object at 0x12e302820&gt;</td>\n",
       "    </tr>\n",
       "  </tbody>\n",
       "</table>\n",
       "</div>"
      ],
      "text/plain": [
       "  molecule_chembl_id    IC50 units     pIC50  \\\n",
       "0       CHEMBL388978    8.34    nM  8.078834   \n",
       "1      CHEMBL4568087  290.00    nM  6.537602   \n",
       "2      CHEMBL2012519  388.20    nM  6.410944   \n",
       "\n",
       "                                           ROMol  \n",
       "0  <rdkit.Chem.rdchem.Mol object at 0x12e302970>  \n",
       "1  <rdkit.Chem.rdchem.Mol object at 0x12e302580>  \n",
       "2  <rdkit.Chem.rdchem.Mol object at 0x12e302820>  "
      ]
     },
     "execution_count": 49,
     "metadata": {},
     "output_type": "execute_result"
    }
   ],
   "source": [
    "# 显示三种最活跃的分子，即 pIC50 值最高的分子。\n",
    "output_df.drop(\"smiles\", axis=1).head(3)"
   ]
  },
  {
   "cell_type": "code",
   "execution_count": 50,
   "id": "b8cd8908-73b2-487f-99b5-72027ed0711f",
   "metadata": {},
   "outputs": [
    {
     "name": "stdout",
     "output_type": "stream",
     "text": [
      "数据框架形状: (12, 5)\n"
     ]
    }
   ],
   "source": [
    "# 准备保存数据集：删除ROMol列\n",
    "output_df = output_df.drop(\"ROMol\", axis=1)\n",
    "print(f\"数据框架形状: {output_df.shape}\")"
   ]
  },
  {
   "cell_type": "code",
   "execution_count": 51,
   "id": "47683bb8-e91c-4a1e-9076-2bfc99423a89",
   "metadata": {},
   "outputs": [],
   "source": [
    "# 保存最终的数据集\n",
    "output_df.to_csv(DATA / \"bioactivities_compounds_MAP2K6.csv\", index=False)"
   ]
  },
  {
   "cell_type": "code",
   "execution_count": null,
   "id": "d96a53ac-5158-40f6-9a23-5bdf3e113850",
   "metadata": {},
   "outputs": [],
   "source": []
  },
  {
   "cell_type": "code",
   "execution_count": 73,
   "id": "50f7ad0d-2ecb-4bf3-a709-8fbcfd5d7d82",
   "metadata": {},
   "outputs": [
    {
     "data": {
      "image/png": "[encoded data removed]",
      "text/plain": [
       "<Figure size 1200x800 with 1 Axes>"
      ]
     },
     "metadata": {},
     "output_type": "display_data"
    }
   ],
   "source": [
    "import networkx as nx\n",
    "import matplotlib.pyplot as plt\n",
    "\n",
    "# 创建一个空的有向图\n",
    "G = nx.Graph()\n",
    "\n",
    "# 添加 CST1 和激酶节点\n",
    "G.add_node(\"CST1\", color='green', size=3000)\n",
    "\n",
    "# 添加相关的激酶和边的权重（假设是物理交互评分）\n",
    "kinases = {\"CSNK2B\": 0.854599521, \"MAP2K6\": 0.854599521, \"CAMK1D\": 0.990760901}\n",
    "\n",
    "for kinase, score in kinases.items():\n",
    "    G.add_node(kinase, color='blue', size=5000)\n",
    "    G.add_edge(\"CST1\", kinase, weight=score)\n",
    "\n",
    "# 获取节点颜色和大小\n",
    "colors = [G.nodes[n]['color'] for n in G.nodes]\n",
    "sizes = [G.nodes[n]['size'] for n in G.nodes]\n",
    "weights = nx.get_edge_attributes(G, 'weight').values()\n",
    "\n",
    "# 重新设计图表，确保科学性和严谨性\n",
    "plt.figure(figsize=(12,8))\n",
    "\n",
    "# 设置布局\n",
    "pos = nx.spring_layout(G, seed=42)\n",
    "\n",
    "# 设置图节点和边的颜色和大小，增加美观性\n",
    "nx.draw_networkx_nodes(G, pos, node_color=colors, node_size=sizes, edgecolors='black', linewidths=1.5)\n",
    "nx.draw_networkx_labels(G, pos, font_size=14, font_color=\"white\", font_weight=\"bold\", verticalalignment='center', horizontalalignment='center')\n",
    "nx.draw_networkx_edges(G, pos, width=list(weights), edge_color='royalblue', alpha=0.7)\n",
    "\n",
    "# 添加权重标签以展示物理交互评分\n",
    "edge_labels = nx.get_edge_attributes(G, 'weight')\n",
    "nx.draw_networkx_edge_labels(G, pos, edge_labels={(u, v): f\"{d:.2f}\" for (u, v), d in edge_labels.items()}, font_color='red')\n",
    "\n",
    "# 设置标题，使用更大字体以适应Q1标准\n",
    "plt.title(\"Protein-Protein Interaction Network: CST1 and Kinase Interactions\", fontsize=16, fontweight=\"bold\", pad=20)\n",
    "\n",
    "# 调整边距\n",
    "plt.tight_layout()\n",
    "\n",
    "# 显示图表\n",
    "plt.show()\n"
   ]
  },
  {
   "cell_type": "code",
   "execution_count": null,
   "id": "6f5c49fe-6571-4b34-a710-aaa3503c4317",
   "metadata": {},
   "outputs": [],
   "source": []
  },
  {
   "cell_type": "code",
   "execution_count": null,
   "id": "9c8ad880-e5b6-4836-9dfc-bdd4e296dcd6",
   "metadata": {},
   "outputs": [],
   "source": []
  },
  {
   "cell_type": "code",
   "execution_count": null,
   "id": "8aa629cc-ca6e-41a8-8f88-f245baf10af4",
   "metadata": {},
   "outputs": [],
   "source": []
  },
  {
   "cell_type": "code",
   "execution_count": null,
   "id": "d693c853-a25c-4cee-9749-e580a6b8a16d",
   "metadata": {},
   "outputs": [],
   "source": []
  },
  {
   "cell_type": "code",
   "execution_count": null,
   "id": "800bdca7-c348-4fa3-82f6-7b826792a4b4",
   "metadata": {},
   "outputs": [],
   "source": []
  },
  {
   "cell_type": "code",
   "execution_count": null,
   "id": "a2c94bf4-eed4-4877-9db8-c82f716efea8",
   "metadata": {},
   "outputs": [],
   "source": []
  },
  {
   "cell_type": "code",
   "execution_count": null,
   "id": "27baf336-30d6-45cc-8f83-dca69a938765",
   "metadata": {},
   "outputs": [],
   "source": []
  },
  {
   "cell_type": "code",
   "execution_count": null,
   "id": "362855e3-d93b-43e4-8ced-8c8e6e49927d",
   "metadata": {},
   "outputs": [],
   "source": []
  }
 ],
 "metadata": {
  "kernelspec": {
   "display_name": "Python 3 (ipykernel)",
   "language": "python",
   "name": "python3"
  },
  "language_info": {
   "codemirror_mode": {
    "name": "ipython",
    "version": 3
   },
   "file_extension": ".py",
   "mimetype": "text/x-python",
   "name": "python",
   "nbconvert_exporter": "python",
   "pygments_lexer": "ipython3",
   "version": "3.9.15"
  }
 },
 "nbformat": 4,
 "nbformat_minor": 5
}

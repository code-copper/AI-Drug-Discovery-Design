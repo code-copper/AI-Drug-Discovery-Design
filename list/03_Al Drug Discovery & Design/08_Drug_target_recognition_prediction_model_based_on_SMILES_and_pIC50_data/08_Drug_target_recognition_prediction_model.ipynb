{
 "cells": [
  {
   "metadata": {},
   "cell_type": "markdown",
   "source": [
    "# 药物靶点识别预测模型——构建一个基于SMILES和pIC50数据的药物靶点识别预测模型：\n",
    "\n",
    "1. **数据预处理**：读取`chembl.csv`文件，提取SMILES和pIC50数据。\n",
    "2. **标签生成**：根据pIC50值，将大于8的标记为1，其他为0。\n",
    "3. **特征提取**：将SMILES转换为模型可接受的数值特征。\n",
    "4. **模型训练和预测**：使用RF、SVM、ANN、CNN、GNN、GCN、GAN等模型进行训练和预测。(新增：添加Naive Bayes（NB）、**K-Nearest Neighbors（KNN）和Extreme Gradient Boosting（XGBoost）**这三个模型的实现。)\n",
    "5. **结果评估**：评估模型的性能，输出预测结果。\n"
   ],
   "id": "acd9a2db1104ff3a"
  },
  {
   "metadata": {},
   "cell_type": "markdown",
   "source": "## 1. 导入必要的库",
   "id": "1ccfcfa6e72a4a20"
  },
  {
   "cell_type": "code",
   "id": "initial_id",
   "metadata": {
    "collapsed": true,
    "ExecuteTime": {
     "end_time": "2024-10-03T06:20:52.056524Z",
     "start_time": "2024-10-03T06:20:31.980645Z"
    }
   },
   "source": [
    "# 数据处理\n",
    "import pandas as pd\n",
    "import numpy as np\n",
    "\n",
    "# 化学信息学\n",
    "from rdkit import Chem\n",
    "from rdkit.Chem import AllChem\n",
    "from rdkit.Chem import Descriptors\n",
    "\n",
    "# 特征提取\n",
    "from rdkit.Chem import MACCSkeys\n",
    "\n",
    "# 机器学习模型\n",
    "from sklearn.model_selection import train_test_split\n",
    "from sklearn.ensemble import RandomForestClassifier\n",
    "from sklearn.svm import SVC\n",
    "\n",
    "# 神经网络模型\n",
    "import tensorflow as tf\n",
    "from tensorflow.keras.models import Sequential\n",
    "from tensorflow.keras.layers import Dense, Conv1D, Flatten\n",
    "\n",
    "# 图神经网络\n",
    "import torch\n",
    "from torch_geometric.data import Data\n",
    "from torch_geometric.loader import DataLoader\n",
    "from torch_geometric.nn import GCNConv\n",
    "\n",
    "# 忽略警告\n",
    "import warnings\n",
    "warnings.filterwarnings('ignore')\n"
   ],
   "outputs": [
    {
     "name": "stderr",
     "output_type": "stream",
     "text": [
      "2024-10-03 14:20:43.653345: I tensorflow/core/platform/cpu_feature_guard.cc:182] This TensorFlow binary is optimized to use available CPU instructions in performance-critical operations.\n",
      "To enable the following instructions: AVX2 FMA, in other operations, rebuild TensorFlow with the appropriate compiler flags.\n"
     ]
    }
   ],
   "execution_count": 1
  },
  {
   "metadata": {},
   "cell_type": "markdown",
   "source": "## 2. 数据预处理",
   "id": "c48ba2b21772582e"
  },
  {
   "metadata": {},
   "cell_type": "markdown",
   "source": "",
   "id": "1f36190818e5d16c"
  },
  {
   "metadata": {
    "ExecuteTime": {
     "end_time": "2024-10-03T06:21:24.649594Z",
     "start_time": "2024-10-03T06:21:24.643413Z"
    }
   },
   "cell_type": "code",
   "source": [
    "from pathlib import Path\n",
    "import os\n",
    "\n",
    "# 获取当前工作目录\n",
    "HERE = Path(os.getcwd())\n",
    "DATA = HERE / 'data'\n",
    "if not DATA.exists():\n",
    "    DATA.mkdir(parents=True, exist_ok=True)\n",
    "print(DATA)\n"
   ],
   "id": "b9a885f7ac5dbf0b",
   "outputs": [
    {
     "name": "stdout",
     "output_type": "stream",
     "text": [
      "/Users/wangyang/Desktop/AIDD/08_Drug_target_recognition_prediction_model_based_on_SMILES_and_pIC50_data/data\n"
     ]
    }
   ],
   "execution_count": 2
  },
  {
   "metadata": {
    "ExecuteTime": {
     "end_time": "2024-10-03T06:26:09.780886Z",
     "start_time": "2024-10-03T06:26:09.751802Z"
    }
   },
   "cell_type": "code",
   "source": [
    "data = pd.read_csv(\n",
    "     DATA / \"./chembl.csv\",\n",
    ")\n",
    "data.head()"
   ],
   "id": "d75e72acc645892c",
   "outputs": [
    {
     "data": {
      "text/plain": [
       "  molecule_chembl_id   IC50  \\\n",
       "0      CHEMBL5189340  0.023   \n",
       "1       CHEMBL429743  0.030   \n",
       "2      CHEMBL5186748  0.120   \n",
       "3      CHEMBL3586072  0.140   \n",
       "4      CHEMBL3586071  0.150   \n",
       "\n",
       "                                              smiles      pIC50  \\\n",
       "0  CN(C)c1ccc(/C=N/NC(=O)Cn2nc(Cc3ccc(Cl)cc3)c3cc...  10.638272   \n",
       "1  COc1cc2nccc(Oc3ccc4c(C(=O)Nc5ccc(Cl)cc5)cccc4c...  10.522879   \n",
       "2  CNC(=O)c1cc(Oc2ccc(NC(=O)c3nn(-c4ccc(Cl)cc4)cc...   9.920819   \n",
       "3  CNC(=O)c1ccc(-c2ccc(NC(=O)Nc3cc(Br)cc(C(F)(F)F...   9.853872   \n",
       "4  CNC(=O)c1cc(-c2ccc(NC(=O)Nc3ccc(Cl)c(C(F)(F)F)...   9.823909   \n",
       "\n",
       "   molecular_weight  n_hba  n_hbd     logp  ro5_fulfilled  \n",
       "0        473.161853      6      1  3.85700           True  \n",
       "1        484.118985      5      1  7.10320           True  \n",
       "2        489.120382      7      2  3.99352           True  \n",
       "3        492.040873      3      3  5.53350           True  \n",
       "4        448.091388      3      3  5.42440           True  "
      ],
      "text/html": [
       "<div>\n",
       "<style scoped>\n",
       "    .dataframe tbody tr th:only-of-type {\n",
       "        vertical-align: middle;\n",
       "    }\n",
       "\n",
       "    .dataframe tbody tr th {\n",
       "        vertical-align: top;\n",
       "    }\n",
       "\n",
       "    .dataframe thead th {\n",
       "        text-align: right;\n",
       "    }\n",
       "</style>\n",
       "<table border=\"1\" class=\"dataframe\">\n",
       "  <thead>\n",
       "    <tr style=\"text-align: right;\">\n",
       "      <th></th>\n",
       "      <th>molecule_chembl_id</th>\n",
       "      <th>IC50</th>\n",
       "      <th>smiles</th>\n",
       "      <th>pIC50</th>\n",
       "      <th>molecular_weight</th>\n",
       "      <th>n_hba</th>\n",
       "      <th>n_hbd</th>\n",
       "      <th>logp</th>\n",
       "      <th>ro5_fulfilled</th>\n",
       "    </tr>\n",
       "  </thead>\n",
       "  <tbody>\n",
       "    <tr>\n",
       "      <th>0</th>\n",
       "      <td>CHEMBL5189340</td>\n",
       "      <td>0.023</td>\n",
       "      <td>CN(C)c1ccc(/C=N/NC(=O)Cn2nc(Cc3ccc(Cl)cc3)c3cc...</td>\n",
       "      <td>10.638272</td>\n",
       "      <td>473.161853</td>\n",
       "      <td>6</td>\n",
       "      <td>1</td>\n",
       "      <td>3.85700</td>\n",
       "      <td>True</td>\n",
       "    </tr>\n",
       "    <tr>\n",
       "      <th>1</th>\n",
       "      <td>CHEMBL429743</td>\n",
       "      <td>0.030</td>\n",
       "      <td>COc1cc2nccc(Oc3ccc4c(C(=O)Nc5ccc(Cl)cc5)cccc4c...</td>\n",
       "      <td>10.522879</td>\n",
       "      <td>484.118985</td>\n",
       "      <td>5</td>\n",
       "      <td>1</td>\n",
       "      <td>7.10320</td>\n",
       "      <td>True</td>\n",
       "    </tr>\n",
       "    <tr>\n",
       "      <th>2</th>\n",
       "      <td>CHEMBL5186748</td>\n",
       "      <td>0.120</td>\n",
       "      <td>CNC(=O)c1cc(Oc2ccc(NC(=O)c3nn(-c4ccc(Cl)cc4)cc...</td>\n",
       "      <td>9.920819</td>\n",
       "      <td>489.120382</td>\n",
       "      <td>7</td>\n",
       "      <td>2</td>\n",
       "      <td>3.99352</td>\n",
       "      <td>True</td>\n",
       "    </tr>\n",
       "    <tr>\n",
       "      <th>3</th>\n",
       "      <td>CHEMBL3586072</td>\n",
       "      <td>0.140</td>\n",
       "      <td>CNC(=O)c1ccc(-c2ccc(NC(=O)Nc3cc(Br)cc(C(F)(F)F...</td>\n",
       "      <td>9.853872</td>\n",
       "      <td>492.040873</td>\n",
       "      <td>3</td>\n",
       "      <td>3</td>\n",
       "      <td>5.53350</td>\n",
       "      <td>True</td>\n",
       "    </tr>\n",
       "    <tr>\n",
       "      <th>4</th>\n",
       "      <td>CHEMBL3586071</td>\n",
       "      <td>0.150</td>\n",
       "      <td>CNC(=O)c1cc(-c2ccc(NC(=O)Nc3ccc(Cl)c(C(F)(F)F)...</td>\n",
       "      <td>9.823909</td>\n",
       "      <td>448.091388</td>\n",
       "      <td>3</td>\n",
       "      <td>3</td>\n",
       "      <td>5.42440</td>\n",
       "      <td>True</td>\n",
       "    </tr>\n",
       "  </tbody>\n",
       "</table>\n",
       "</div>"
      ]
     },
     "execution_count": 14,
     "metadata": {},
     "output_type": "execute_result"
    }
   ],
   "execution_count": 14
  },
  {
   "metadata": {
    "ExecuteTime": {
     "end_time": "2024-10-03T06:26:11.872945Z",
     "start_time": "2024-10-03T06:26:11.865255Z"
    }
   },
   "cell_type": "code",
   "source": [
    "\n",
    "# 提取SMILES和pIC50\n",
    "smiles_list = data['smiles']\n",
    "pIC50_list = data['pIC50']\n",
    "\n",
    "# 生成标签：pIC50 > 8 的标记为1，其他为0\n",
    "labels = [1 if x > 8 else 0 for x in pIC50_list]\n",
    "\n",
    "# 创建DataFrame\n",
    "df = pd.DataFrame({'smiles': smiles_list, 'pIC50': pIC50_list, 'label': labels})\n",
    "\n",
    "\n"
   ],
   "id": "2ebc58f11f1a974d",
   "outputs": [],
   "execution_count": 15
  },
  {
   "metadata": {},
   "cell_type": "markdown",
   "source": [
    "## 3. 特征提取\n",
    "- 我们将使用不同的方法来提取特征，以适应不同的模型。"
   ],
   "id": "572c366c75620154"
  },
  {
   "metadata": {},
   "cell_type": "markdown",
   "source": "### 3.1 分子指纹（适用于RF和SVM）",
   "id": "9824c20b630de3ac"
  },
  {
   "metadata": {
    "ExecuteTime": {
     "end_time": "2024-10-03T06:26:45.685202Z",
     "start_time": "2024-10-03T06:26:43.316749Z"
    }
   },
   "cell_type": "code",
   "source": [
    "def smiles_to_fingerprints(smiles):\n",
    "    mol = Chem.MolFromSmiles(smiles)\n",
    "    if mol is not None:\n",
    "        # 使用Morgan指纹\n",
    "        fp = AllChem.GetMorganFingerprintAsBitVect(mol, radius=2, nBits=1024)\n",
    "        arr = np.zeros((1,))\n",
    "        Chem.DataStructs.ConvertToNumpyArray(fp, arr)\n",
    "        return arr\n",
    "    else:\n",
    "        return np.zeros((1024,))\n",
    "\n",
    "# 应用到数据集\n",
    "fingerprints = np.array([smiles_to_fingerprints(s) for s in df['smiles']])\n"
   ],
   "id": "1815d5eff2d7e51f",
   "outputs": [],
   "execution_count": 16
  },
  {
   "metadata": {},
   "cell_type": "markdown",
   "source": "### 3.2 分子描述符（适用于ANN）",
   "id": "60bb4e6d6ee22b35"
  },
  {
   "metadata": {
    "ExecuteTime": {
     "end_time": "2024-10-03T06:27:04.050110Z",
     "start_time": "2024-10-03T06:26:59.687993Z"
    }
   },
   "cell_type": "code",
   "source": [
    "def smiles_to_descriptors(smiles):\n",
    "    mol = Chem.MolFromSmiles(smiles)\n",
    "    if mol is not None:\n",
    "        descriptors = [Descriptors.MolWt(mol), Descriptors.MolLogP(mol), Descriptors.NumHDonors(mol), Descriptors.NumHAcceptors(mol)]\n",
    "        return descriptors\n",
    "    else:\n",
    "        return [0, 0, 0, 0]\n",
    "\n",
    "# 应用到数据集\n",
    "descriptors = np.array([smiles_to_descriptors(s) for s in df['smiles']])\n"
   ],
   "id": "220a395bd18a40ca",
   "outputs": [],
   "execution_count": 17
  },
  {
   "metadata": {},
   "cell_type": "markdown",
   "source": "### 3.3 图数据（适用于GNN和GCN）",
   "id": "1dedb2b8ebcafd6"
  },
  {
   "metadata": {
    "ExecuteTime": {
     "end_time": "2024-10-03T06:27:45.891132Z",
     "start_time": "2024-10-03T06:27:13.127276Z"
    }
   },
   "cell_type": "code",
   "source": [
    "# 定义函数将SMILES转换为PyTorch Geometric的数据格式\n",
    "from torch_geometric.utils import from_networkx\n",
    "import networkx as nx\n",
    "\n",
    "def smiles_to_graph(smiles, label):\n",
    "    mol = Chem.MolFromSmiles(smiles)\n",
    "    if mol is None:\n",
    "        return None\n",
    "    G = nx.Graph()\n",
    "    for atom in mol.GetAtoms():\n",
    "        G.add_node(atom.GetIdx(), x=torch.tensor([atom.GetAtomicNum()], dtype=torch.float))\n",
    "    for bond in mol.GetBonds():\n",
    "        G.add_edge(bond.GetBeginAtomIdx(), bond.GetEndAtomIdx())\n",
    "    data = from_networkx(G)\n",
    "    data.y = torch.tensor([label], dtype=torch.long)\n",
    "    return data\n",
    "\n",
    "# 应用到数据集\n",
    "graph_data_list = [smiles_to_graph(s, l) for s, l in zip(df['smiles'], df['label'])]\n",
    "# 移除None值\n",
    "graph_data_list = [d for d in graph_data_list if d is not None]\n"
   ],
   "id": "232a84e9ecbf382d",
   "outputs": [],
   "execution_count": 18
  },
  {
   "metadata": {},
   "cell_type": "markdown",
   "source": [
    "## 4. 数据集拆分\n",
    "### 4.1 传统机器学习模型的数据集"
   ],
   "id": "6ffae47742c2fb05"
  },
  {
   "metadata": {
    "ExecuteTime": {
     "end_time": "2024-10-03T06:27:48.847390Z",
     "start_time": "2024-10-03T06:27:48.806496Z"
    }
   },
   "cell_type": "code",
   "source": [
    "# 分割数据集（指纹）\n",
    "X_train_fp, X_test_fp, y_train_fp, y_test_fp = train_test_split(fingerprints, df['label'], test_size=0.2, random_state=42)\n",
    "\n",
    "# 分割数据集（描述符）\n",
    "X_train_desc, X_test_desc, y_train_desc, y_test_desc = train_test_split(descriptors, df['label'], test_size=0.2, random_state=42)\n"
   ],
   "id": "cb978e89adcfb809",
   "outputs": [],
   "execution_count": 19
  },
  {
   "metadata": {},
   "cell_type": "markdown",
   "source": "### 4.2 图神经网络的数据集",
   "id": "6117610f331a4323"
  },
  {
   "metadata": {
    "ExecuteTime": {
     "end_time": "2024-10-03T06:28:02.240670Z",
     "start_time": "2024-10-03T06:28:02.236709Z"
    }
   },
   "cell_type": "code",
   "source": [
    "# 分割数据集\n",
    "train_size = int(0.8 * len(graph_data_list))\n",
    "train_graphs = graph_data_list[:train_size]\n",
    "test_graphs = graph_data_list[train_size:]\n",
    "\n",
    "# 创建数据加载器\n",
    "train_loader = DataLoader(train_graphs, batch_size=32, shuffle=True)\n",
    "test_loader = DataLoader(test_graphs, batch_size=32, shuffle=False)\n"
   ],
   "id": "e7edaf6178095436",
   "outputs": [],
   "execution_count": 20
  },
  {
   "metadata": {},
   "cell_type": "markdown",
   "source": [
    "## 5. 模型训练和预测\n",
    "### 5.1 随机森林（RF）"
   ],
   "id": "5e5948f77ec42eb0"
  },
  {
   "metadata": {
    "ExecuteTime": {
     "end_time": "2024-10-03T06:28:19.611535Z",
     "start_time": "2024-10-03T06:28:17.178531Z"
    }
   },
   "cell_type": "code",
   "source": [
    "# 定义模型\n",
    "rf_model = RandomForestClassifier(n_estimators=100, random_state=42)\n",
    "\n",
    "# 训练模型\n",
    "rf_model.fit(X_train_fp, y_train_fp)\n",
    "\n",
    "# 预测\n",
    "rf_predictions = rf_model.predict(X_test_fp)\n"
   ],
   "id": "c772c0719f76b91",
   "outputs": [],
   "execution_count": 21
  },
  {
   "metadata": {},
   "cell_type": "markdown",
   "source": "### 5.2 支持向量机（SVM）",
   "id": "10f6ef7486829757"
  },
  {
   "metadata": {
    "ExecuteTime": {
     "end_time": "2024-10-03T06:29:01.958170Z",
     "start_time": "2024-10-03T06:28:28.386993Z"
    }
   },
   "cell_type": "code",
   "source": [
    "# 定义模型\n",
    "svm_model = SVC(kernel='rbf', probability=True)\n",
    "\n",
    "# 训练模型\n",
    "svm_model.fit(X_train_fp, y_train_fp)\n",
    "\n",
    "# 预测\n",
    "svm_predictions = svm_model.predict(X_test_fp)\n"
   ],
   "id": "a8fc6c8729bc85cc",
   "outputs": [],
   "execution_count": 22
  },
  {
   "metadata": {},
   "cell_type": "markdown",
   "source": "### 5.3 人工神经网络（ANN）",
   "id": "ce34177ed87adefa"
  },
  {
   "metadata": {
    "ExecuteTime": {
     "end_time": "2024-10-03T06:29:33.083842Z",
     "start_time": "2024-10-03T06:29:25.487561Z"
    }
   },
   "cell_type": "code",
   "source": [
    "# 定义模型\n",
    "ann_model = Sequential()\n",
    "ann_model.add(Dense(64, activation='relu', input_shape=(descriptors.shape[1],)))\n",
    "ann_model.add(Dense(32, activation='relu'))\n",
    "ann_model.add(Dense(1, activation='sigmoid'))\n",
    "\n",
    "# 编译模型\n",
    "ann_model.compile(optimizer='adam', loss='binary_crossentropy', metrics=['accuracy'])\n",
    "\n",
    "# 训练模型\n",
    "ann_model.fit(X_train_desc, y_train_desc, epochs=50, batch_size=32, verbose=0)\n",
    "\n",
    "# 预测\n",
    "ann_predictions = (ann_model.predict(X_test_desc) > 0.5).astype(int).flatten()\n"
   ],
   "id": "c69a85a805263671",
   "outputs": [
    {
     "name": "stdout",
     "output_type": "stream",
     "text": [
      "39/39 [==============================] - 0s 625us/step\n"
     ]
    }
   ],
   "execution_count": 23
  },
  {
   "metadata": {},
   "cell_type": "markdown",
   "source": [
    "### 5.4 卷积神经网络（CNN）\n",
    "由于SMILES序列的特殊性，我们需要将其转换为适合CNN输入的格式。这里，我们简单地将SMILES字符映射为整数索引，然后进行One-Hot编码。"
   ],
   "id": "8e9f05a84f638109"
  },
  {
   "metadata": {
    "ExecuteTime": {
     "end_time": "2024-10-03T06:29:44.802620Z",
     "start_time": "2024-10-03T06:29:40.204965Z"
    }
   },
   "cell_type": "code",
   "source": [
    "from tensorflow.keras.preprocessing.text import Tokenizer\n",
    "from tensorflow.keras.preprocessing.sequence import pad_sequences\n",
    "\n",
    "# 准备SMILES数据\n",
    "tokenizer = Tokenizer(char_level=True)\n",
    "tokenizer.fit_on_texts(df['smiles'])\n",
    "sequences = tokenizer.texts_to_sequences(df['smiles'])\n",
    "max_len = max([len(seq) for seq in sequences])\n",
    "padded_sequences = pad_sequences(sequences, maxlen=max_len, padding='post')\n",
    "\n",
    "# One-Hot编码\n",
    "X_cnn = tf.keras.utils.to_categorical(padded_sequences)\n",
    "\n",
    "# 分割数据集\n",
    "X_train_cnn, X_test_cnn, y_train_cnn, y_test_cnn = train_test_split(X_cnn, df['label'], test_size=0.2, random_state=42)\n",
    "\n",
    "# 定义模型\n",
    "cnn_model = Sequential()\n",
    "cnn_model.add(Conv1D(64, 3, activation='relu', input_shape=(max_len, X_cnn.shape[2])))\n",
    "cnn_model.add(Flatten())\n",
    "cnn_model.add(Dense(1, activation='sigmoid'))\n",
    "\n",
    "# 编译模型\n",
    "cnn_model.compile(optimizer='adam', loss='binary_crossentropy', metrics=['accuracy'])\n",
    "\n",
    "# 训练模型\n",
    "cnn_model.fit(X_train_cnn, y_train_cnn, epochs=10, batch_size=32, verbose=0)\n",
    "\n",
    "# 预测\n",
    "cnn_predictions = (cnn_model.predict(X_test_cnn) > 0.5).astype(int).flatten()\n"
   ],
   "id": "39d7670f7f845330",
   "outputs": [
    {
     "name": "stdout",
     "output_type": "stream",
     "text": [
      "39/39 [==============================] - 0s 1ms/step\n"
     ]
    }
   ],
   "execution_count": 24
  },
  {
   "metadata": {},
   "cell_type": "markdown",
   "source": "### 5.5 图卷积神经网络（GCN）",
   "id": "744db86d189397f2"
  },
  {
   "metadata": {
    "jupyter": {
     "is_executing": true
    },
    "ExecuteTime": {
     "start_time": "2024-10-03T06:29:54.723545Z"
    }
   },
   "cell_type": "code",
   "source": [
    "# 定义GCN模型\n",
    "class GCN(torch.nn.Module):\n",
    "    def __init__(self):\n",
    "        super(GCN, self).__init__()\n",
    "        self.conv1 = GCNConv(1, 64)\n",
    "        self.conv2 = GCNConv(64, 32)\n",
    "        self.fc = torch.nn.Linear(32, 2)\n",
    "\n",
    "    def forward(self, data):\n",
    "        x, edge_index = data.x, data.edge_index\n",
    "        x = self.conv1(x, edge_index)\n",
    "        x = torch.relu(x)\n",
    "        x = self.conv2(x, edge_index)\n",
    "        x = torch.relu(x)\n",
    "        x = torch_geometric.nn.global_mean_pool(x, data.batch)\n",
    "        x = self.fc(x)\n",
    "        return x\n",
    "\n",
    "# 初始化模型和优化器\n",
    "gcn_model = GCN()\n",
    "optimizer = torch.optim.Adam(gcn_model.parameters(), lr=0.01)\n",
    "criterion = torch.nn.CrossEntropyLoss()\n",
    "\n",
    "# 训练模型\n",
    "for epoch in range(10):\n",
    "    gcn_model.train()\n",
    "    for data in train_loader:\n",
    "        optimizer.zero_grad()\n",
    "        out = gcn_model(data)\n",
    "        loss = criterion(out, data.y)\n",
    "        loss.backward()\n",
    "        optimizer.step()\n",
    "\n",
    "# 测试模型\n",
    "gcn_model.eval()\n",
    "correct = 0\n",
    "for data in test_loader:\n",
    "    out = gcn_model(data)\n",
    "    pred = out.argmax(dim=1)\n",
    "    correct += (pred == data.y).sum().item()\n",
    "\n",
    "accuracy = correct / len(test_graphs)\n",
    "print(f'GCN Test Accuracy: {accuracy:.4f}')\n"
   ],
   "id": "750296965fd7ce2c",
   "outputs": [],
   "execution_count": null
  },
  {
   "metadata": {},
   "cell_type": "markdown",
   "source": [
    "### 5.6 生成对抗网络（GAN）\n",
    "GAN主要用于生成数据，这里我们可以尝试生成新的分子结构。但是由于复杂性，这里提供一个简单的框架。"
   ],
   "id": "b3ed1a187c8afc75"
  },
  {
   "metadata": {},
   "cell_type": "markdown",
   "source": "",
   "id": "dcfbae0a852552ec"
  },
  {
   "metadata": {},
   "cell_type": "code",
   "outputs": [],
   "execution_count": null,
   "source": [
    "# 由于时间和复杂度原因，这里仅提供GAN的简单结构\n",
    "from tensorflow.keras.layers import Reshape\n",
    "\n",
    "# 定义生成器\n",
    "def build_generator():\n",
    "    model = Sequential()\n",
    "    model.add(Dense(128, activation='relu', input_dim=100))\n",
    "    model.add(Dense(max_len * X_cnn.shape[2], activation='sigmoid'))\n",
    "    model.add(Reshape((max_len, X_cnn.shape[2])))\n",
    "    return model\n",
    "\n",
    "# 定义判别器\n",
    "def build_discriminator():\n",
    "    model = Sequential()\n",
    "    model.add(Conv1D(64, 3, activation='relu', input_shape=(max_len, X_cnn.shape[2])))\n",
    "    model.add(Flatten())\n",
    "    model.add(Dense(1, activation='sigmoid'))\n",
    "    return model\n",
    "\n",
    "generator = build_generator()\n",
    "discriminator = build_discriminator()\n",
    "\n",
    "# 编译模型\n",
    "discriminator.compile(optimizer='adam', loss='binary_crossentropy', metrics=['accuracy'])\n",
    "discriminator.trainable = False\n",
    "\n",
    "gan_input = tf.keras.Input(shape=(100,))\n",
    "generated_smiles = generator(gan_input)\n",
    "gan_output = discriminator(generated_smiles)\n",
    "gan = tf.keras.Model(gan_input, gan_output)\n",
    "gan.compile(optimizer='adam', loss='binary_crossentropy')\n",
    "\n",
    "# 由于训练GAN需要大量时间，这里不具体展开\n"
   ],
   "id": "d4aa653f200d14d9"
  },
  {
   "metadata": {},
   "cell_type": "markdown",
   "source": "## 6. 模型评估",
   "id": "d8d7300ea44698fd"
  },
  {
   "metadata": {},
   "cell_type": "code",
   "outputs": [],
   "execution_count": null,
   "source": [
    "from sklearn.metrics import accuracy_score, classification_report\n",
    "\n",
    "# RF评估\n",
    "print(\"Random Forest Accuracy:\", accuracy_score(y_test_fp, rf_predictions))\n",
    "print(classification_report(y_test_fp, rf_predictions))\n",
    "\n",
    "# SVM评估\n",
    "print(\"SVM Accuracy:\", accuracy_score(y_test_fp, svm_predictions))\n",
    "print(classification_report(y_test_fp, svm_predictions))\n",
    "\n",
    "# ANN评估\n",
    "print(\"ANN Accuracy:\", accuracy_score(y_test_desc, ann_predictions))\n",
    "print(classification_report(y_test_desc, ann_predictions))\n",
    "\n",
    "# CNN评估\n",
    "print(\"CNN Accuracy:\", accuracy_score(y_test_cnn, cnn_predictions))\n",
    "print(classification_report(y_test_cnn, cnn_predictions))\n"
   ],
   "id": "4e46ee5b9c69b501"
  },
  {
   "metadata": {},
   "cell_type": "code",
   "outputs": [],
   "execution_count": null,
   "source": "",
   "id": "e15770383a8ca4f9"
  }
 ],
 "metadata": {
  "kernelspec": {
   "display_name": "Python 3",
   "language": "python",
   "name": "python3"
  },
  "language_info": {
   "codemirror_mode": {
    "name": "ipython",
    "version": 2
   },
   "file_extension": ".py",
   "mimetype": "text/x-python",
   "name": "python",
   "nbconvert_exporter": "python",
   "pygments_lexer": "ipython2",
   "version": "2.7.6"
  }
 },
 "nbformat": 4,
 "nbformat_minor": 5
}

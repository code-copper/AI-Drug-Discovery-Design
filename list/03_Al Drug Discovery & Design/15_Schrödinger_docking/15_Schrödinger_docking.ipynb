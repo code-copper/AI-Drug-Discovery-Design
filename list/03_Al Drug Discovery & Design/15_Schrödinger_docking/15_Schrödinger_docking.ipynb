{
 "cells": [
  {
   "metadata": {},
   "cell_type": "markdown",
   "source": "# Schrödinger 配体对接",
   "id": "5053dcf5eae88c4a"
  },
  {
   "metadata": {},
   "cell_type": "markdown",
   "source": [
    "Schrödinger 配体对接是指利用 Schrödinger 软件对接蛋白质和配体的过程。本教程将介绍配体对接的基本步骤，并提供相应的 Python 代码。\n",
    "\n",
    "首先，我们需要安装 Schrödinger 软件并激活环境。具体安装方法请参考 Schrödinger 官方文档。\n",
    "\n",
    "激活环境后，我们需要准备以下文件：\n",
    "- 蛋白质 PDB 文件\n",
    "- 配体 SMILES 字符串\n",
    "\n",
    "接下来，我们将依次介绍配体对接的五个步骤：\n",
    "\n",
    "1. **准备蛋白质**：通过 Schrödinger 的 Protein Preparation Wizard 处理蛋白质。\n",
    "2. **自动计算网格中心**：基于 PDB 文件的配体残基位置来自动计算网格中心。\n",
    "3. **配体处理**：将 SMILES 转换为 SDF 格式的配体文件。\n",
    "4. **生成网格**：根据计算出的网格中心，生成用于对接的网格文件。\n",
    "5. **执行分子对接**：使用 Glide 进行分子对接。"
   ],
   "id": "70ab5696d3a383ae"
  },
  {
   "metadata": {},
   "cell_type": "markdown",
   "source": [
    "安装完成并正确激活环境后，你可以通过以下方式运行 Python 脚本：\n",
    "$SCHRODINGER/run python Schrodinger_docking.py"
   ],
   "id": "334f59ed72233c26"
  },
  {
   "metadata": {},
   "cell_type": "markdown",
   "source": "### 准备蛋白质步骤 1：蛋白质准备",
   "id": "82143c6f4355a5"
  },
  {
   "cell_type": "code",
   "execution_count": null,
   "id": "initial_id",
   "metadata": {
    "collapsed": true
   },
   "outputs": [],
   "source": [
    "from schrodinger.protein import prepwizard\n",
    "\n",
    "def prepare_protein(pdb_file, output_mae_file):\n",
    "    \"\"\"\n",
    "    使用 Schrödinger Protein Preparation Wizard 处理蛋白质文件\n",
    "    \"\"\"\n",
    "    # Initialize the Protein Preparation Wizard\n",
    "    prep_wizard = prepwizard.ProteinWizard(pdb_file)\n",
    "    \n",
    "    # Perform standard steps: Assign bond orders, add hydrogens, etc.\n",
    "    prep_wizard.process()\n",
    "    \n",
    "    # Save the prepared protein structure to a .mae file\n",
    "    prep_wizard.write_structure(output_mae_file)\n",
    "    print(f\"Protein saved to {output_mae_file}\")\n",
    "\n",
    "# 调用函数准备蛋白质\n",
    "pdb_file = \"protein.pdb\"  # 你的蛋白质PDB文件路径\n",
    "protein_prep_path = \"protein_prepped.mae\"\n",
    "prepare_protein(pdb_file, protein_prep_path)\n"
   ]
  },
  {
   "metadata": {},
   "cell_type": "markdown",
   "source": [
    "## 步骤 2：自动计算网格中心\n",
    "我们将从 PDB 文件中提取配体的残基位置，然后基于这些原子的几何中心计算网格中心。"
   ],
   "id": "75c26668825ae736"
  },
  {
   "metadata": {},
   "cell_type": "code",
   "outputs": [],
   "execution_count": null,
   "source": [
    "from schrodinger.structure import StructureReader\n",
    "import numpy as np\n",
    "\n",
    "def detect_ligand_resname(structure):\n",
    "    \"\"\"\n",
    "    自动检测配体残基名称。\n",
    "    假设配体是蛋白质以外的其他分子。\n",
    "    \n",
    "    Parameters\n",
    "    ----------\n",
    "    structure: schrodinger.structure.Structure\n",
    "        从PDB读取的结构对象。\n",
    "    \n",
    "    Returns\n",
    "    -------\n",
    "    ligand_resname: str\n",
    "        自动检测到的配体残基名称。\n",
    "    \"\"\"\n",
    "    ligand_resname = None\n",
    "    for atom in structure.atom:\n",
    "        # 检查是否为非蛋白质残基\n",
    "        if not atom.is_protein:\n",
    "            ligand_resname = atom.pdbres\n",
    "            break  # 找到一个配体残基后可以停止\n",
    "    return ligand_resname\n",
    "\n",
    "def calculate_grid_center(pdb_file):\n",
    "    \"\"\"\n",
    "    从PDB文件中提取配体残基的几何中心，用作对接网格的中心坐标。\n",
    "    \n",
    "    Parameters\n",
    "    ----------\n",
    "    pdb_file: str\n",
    "        蛋白质PDB文件路径\n",
    "    \n",
    "    Returns\n",
    "    -------\n",
    "    grid_center: tuple\n",
    "        计算得到的网格中心坐标 (x, y, z)\n",
    "    ligand_resname: str\n",
    "        自动检测到的配体残基名称\n",
    "    \"\"\"\n",
    "    with StructureReader(pdb_file) as structures:\n",
    "        for structure in structures:\n",
    "            # 自动检测配体残基名称\n",
    "            ligand_resname = detect_ligand_resname(structure)\n",
    "            \n",
    "            if ligand_resname is None:\n",
    "                print(\"未能检测到配体残基名称\")\n",
    "                return None, None\n",
    "            \n",
    "            print(f\"Detected ligand residue name: {ligand_resname}\")\n",
    "            \n",
    "            # 筛选出指定配体残基的原子\n",
    "            ligand_atoms = [atom for atom in structure.atom if atom.pdbres == ligand_resname]\n",
    "            \n",
    "            if not ligand_atoms:\n",
    "                print(f\"配体 {ligand_resname} 中没有找到原子\")\n",
    "                return None, None\n",
    "            \n",
    "            # 提取原子坐标\n",
    "            coords = np.array([atom.xyz for atom in ligand_atoms])\n",
    "            \n",
    "            # 计算几何中心\n",
    "            grid_center = np.mean(coords, axis=0)\n",
    "            return tuple(grid_center), ligand_resname\n",
    "\n",
    "# 调用函数计算网格中心\n",
    "grid_center, ligand_resname = calculate_grid_center(pdb_file)\n",
    "\n",
    "if grid_center:\n",
    "    print(f\"Calculated grid center: {grid_center}\")\n",
    "    print(f\"Detected ligand residue name: {ligand_resname}\")\n"
   ],
   "id": "ed4f78e5cf667b34"
  },
  {
   "metadata": {},
   "cell_type": "markdown",
   "source": [
    "## 步骤 3：配体处理\n",
    "我们将使用 SMILES 格式的配体描述符来生成配体文件。"
   ],
   "id": "77ce26161bcb42c"
  },
  {
   "metadata": {},
   "cell_type": "code",
   "outputs": [],
   "execution_count": null,
   "source": [
    "from schrodinger.structutils.build import smiles_to_structure\n",
    "from schrodinger.structure import StructureWriter\n",
    "\n",
    "def convert_smiles_to_sdf(smiles, output_sdf_file):\n",
    "    \"\"\"\n",
    "    将 SMILES 字符串转换为 SDF 格式并保存\n",
    "    \"\"\"\n",
    "    # Convert SMILES to 3D structure\n",
    "    lig_structure = smiles_to_structure(smiles)\n",
    "    \n",
    "    # Save the structure to an SDF file\n",
    "    with StructureWriter(output_sdf_file) as writer:\n",
    "        writer.append(lig_structure)\n",
    "    print(f\"Ligand saved to {output_sdf_file}\")\n",
    "\n",
    "# 调用函数处理配体\n",
    "smiles = \"CCO\"  # 示例的 SMILES 字符串\n",
    "ligand_file_path = \"ligands.sdf\"\n",
    "convert_smiles_to_sdf(smiles, ligand_file_path)\n"
   ],
   "id": "5295bf965e17b323"
  },
  {
   "metadata": {},
   "cell_type": "markdown",
   "source": [
    "## 步骤 4：生成网格\n",
    "我们将使用网格中心和配体文件来生成用于对接的网格文件。"
   ],
   "id": "eb0c4e3a6c1c69ec"
  },
  {
   "metadata": {},
   "cell_type": "code",
   "outputs": [],
   "execution_count": null,
   "source": [
    "from schrodinger.application.glide import Grid\n",
    "\n",
    "def generate_docking_grid(protein_prep_path, grid_center, output_grid_file):\n",
    "    \"\"\"\n",
    "    为对接生成网格文件\n",
    "    \"\"\"\n",
    "    grid_gen = Grid()\n",
    "    grid_gen.input_structure = protein_prep_path\n",
    "    grid_gen.grid_center = grid_center  # 设置网格中心\n",
    "    grid_gen.output_file = output_grid_file\n",
    "    grid_gen.run()  # 生成网格文件\n",
    "    print(f\"Grid saved to {output_grid_file}\")\n",
    "\n",
    "# 调用函数生成网格\n",
    "grid_file_path = \"grid.zip\"\n",
    "generate_docking_grid(protein_prep_path, grid_center, grid_file_path)\n"
   ],
   "id": "96d27f4237e8d1a7"
  },
  {
   "metadata": {},
   "cell_type": "markdown",
   "source": [
    "## 步骤 5：执行分子对接\n",
    "我们将使用 Glide 软件来执行分子对接。"
   ],
   "id": "9a0df1b74f305187"
  },
  {
   "metadata": {},
   "cell_type": "code",
   "outputs": [],
   "execution_count": null,
   "source": [
    "from schrodinger.application.glide import GlideJob\n",
    "\n",
    "def run_glide_docking(grid_file_path, ligand_file_path, docking_output_file):\n",
    "    \"\"\"\n",
    "    使用 Glide 进行分子对接\n",
    "    \"\"\"\n",
    "    glide_job = GlideJob()\n",
    "    glide_job.grid = grid_file_path  # 使用生成的网格\n",
    "    glide_job.add_ligands(ligand_file_path)  # 添加配体\n",
    "    glide_job.output_file = docking_output_file\n",
    "    glide_job.run()  # 运行对接\n",
    "    print(f\"Docking results saved to {docking_output_file}\")\n",
    "\n",
    "# 调用函数执行对接\n",
    "docking_output = \"docking_output.maegz\"\n",
    "run_glide_docking(grid_file_path, ligand_file_path, docking_output)\n"
   ],
   "id": "cb2d61c7531c2d0"
  },
  {
   "metadata": {},
   "cell_type": "code",
   "outputs": [],
   "execution_count": null,
   "source": "",
   "id": "d1d10a146a7d271e"
  },
  {
   "metadata": {},
   "cell_type": "markdown",
   "source": "",
   "id": "609cee5ade231869"
  }
 ],
 "metadata": {
  "kernelspec": {
   "display_name": "Python 3",
   "language": "python",
   "name": "python3"
  },
  "language_info": {
   "codemirror_mode": {
    "name": "ipython",
    "version": 2
   },
   "file_extension": ".py",
   "mimetype": "text/x-python",
   "name": "python",
   "nbconvert_exporter": "python",
   "pygments_lexer": "ipython2",
   "version": "2.7.6"
  }
 },
 "nbformat": 4,
 "nbformat_minor": 5
}

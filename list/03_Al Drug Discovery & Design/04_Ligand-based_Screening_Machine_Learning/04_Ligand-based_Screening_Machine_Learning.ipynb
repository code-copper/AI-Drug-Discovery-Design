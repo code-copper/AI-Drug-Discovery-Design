{
 "cells": [
  {
   "metadata": {},
   "cell_type": "markdown",
   "source": "#  Ligand-based Screening Machine Learning\n",
   "id": "2dc5e846f92096de"
  },
  {
   "metadata": {},
   "cell_type": "markdown",
   "source": [
    "## 目标\n",
    "- 由于可用的数据源更大，机器学习（ML）在药物发现领域，尤其是在基于配体的虚拟筛选中，获得了动力。使用不同的监督式机器学习算法来预测新型化合物对我们感兴趣的目标 激酶 的活性。"
   ],
   "id": "876f6a489dca1afc"
  },
  {
   "metadata": {},
   "cell_type": "markdown",
   "source": [
    "### 内容在理论中 ¶\n",
    "\n",
    "- 数据准备：分子编码\n",
    "-  机器学习（ML）\n",
    "  -  监督学习\n",
    "- 模型验证与评估\n",
    "  - 验证策略：K 折交叉验证\n",
    "  -  性能指标\n",
    "\n",
    "###  内容在实用篇中\n",
    "\n",
    "- 加载化合物和活性数据\n",
    "-  数据准备\n",
    "  -  数据标注\n",
    "  -  分子编码\n",
    "-  机器学习\n",
    "  -  辅助函数\n",
    "  -  随机森林分类器\n",
    "  - 支持向量机分类器\n",
    "  - 神经网络分类器\n",
    "  -  交叉验证"
   ],
   "id": "38e1fd402bca1922"
  },
  {
   "metadata": {},
   "cell_type": "markdown",
   "source": [
    "### 数据准备：分子编码 ¶\n",
    "\n",
    "对于机器学习，分子需要转换为特征列表。通常使用分子指纹作为表示。\n",
    "\n",
    "指纹用于本教程中，在 RDKit 中实现（更多信息可在 G. Landrum 的演示文稿中找到）如下：\n",
    "\n",
    "- maccs：'MACCS 键是 166 位结构键描述符，其中每个比特都与一个 SMARTS 模式相关联。'（参见 OpenEye 的 `MACCS` 文档）\n",
    "- 摩根指纹（和 ECFP）：‘扩展连接指纹（ECFPs）是为分子表征、相似性搜索和结构-活性建模设计的圆形拓扑指纹。’（参见 ChemAxon 的 `ECFP` 文档）ECFPs 的原版实现是在 Pipeline Pilot 中完成的，它不是开源的。相反，我们使用 RDKit 的实现，称为摩根指纹。这些指纹的两个最重要的参数是半径和指纹长度。第一个指定了考虑每个原子的圆形邻域的半径。这里考虑了两个半径：2 和 3。长度参数指定了位串表示的哈希长度。默认长度为 2048。\n",
    "\n",
    "###  机器学习（ML）\n",
    "\n",
    "机器学习可用于（改编自 scikit-learn 页面）：\n",
    "\n",
    "- 分类（监督学习）：确定一个对象属于哪个类别（例如：最近邻、朴素贝叶斯、随机森林、支持向量机……）\n",
    "- 回归：预测与对象相关的连续值属性\n",
    "- 聚类（无监督）：将相似对象自动分组成集合（另见 Talktorial T005）\n",
    "\n",
    "####  监督学习\n",
    "\n",
    "一个学习算法通过在训练数据中寻找模式来创建规则。\n",
    "\n",
    "- 随机森林（RF）：决策树的集成。单个决策树以最大化目标函数的方式分割输入向量的特征。在随机森林算法中，生长的树是去相关的，因为分割时选择特征的选项是随机的。\n",
    "- 支持向量机（SVMs）：SVMs 可以高效地通过所谓的核技巧进行非线性分类，隐式地将它们的输入映射到高维特征空间。该分类器基于最大化边界的思想作为目标函数。\n",
    "- 人工神经网络（ANNs）：人工神经网络基于一组相互连接的单元或节点，称为人工神经元，这些神经元松散地模拟了生物大脑中的神经元。每个连接，就像生物大脑中的突触一样，可以从一个人工神经元传输信号到另一个人工神经元。接收信号的人工神经元可以处理它，然后向与之相连的其他人工神经元发出信号。"
   ],
   "id": "75cd949751ee85f9"
  },
  {
   "metadata": {},
   "cell_type": "markdown",
   "source": [
    "### 模型验证与评估 ¶\n",
    "\n",
    "#### 验证策略：K 折交叉验证 ¶\n",
    "\n",
    "- 这种模型验证技术以迭代方式将数据集分为两组：\n",
    "  - 训练数据集：被视为模型训练的已知数据集\n",
    "  - 测试数据集：模型随后测试的未知数据集\n",
    "  - 过程重复 k 次\n",
    "- 目标是为了测试模型预测它之前从未见过的数据的能力，以便标记出称为过拟合的问题，并评估模型的泛化能力。\n",
    "\n",
    "####  性能指标 ¶\n",
    "\n",
    "- 敏感性，也称为真阳性率\n",
    "  - TPR = TP/(FN + TP)\n",
    "  - 直观上：在所有实际阳性中，有多少被预测为阳性？\n",
    "- 特异性，也称为真阴性率\n",
    "  - TNR = TN/(FP + TN)\n",
    "  - 直观上：在所有实际负样本中，有多少被预测为负？\n",
    "- 准确性，也称为真值\n",
    "  - ACC = (TP + TN) / (TP + TN + FP + FN)\n",
    "  - 直观：正确预测的比例。\n",
    "- ROC 曲线，受试者工作特征曲线\n",
    "  - 图形图表，展示了我们分类器的诊断能力\n",
    "  - 绘制敏感度与特异性的曲线\n",
    "- AUC，ROC 曲线下面积（AUC）：\n",
    "  - 描述分类器将随机选择的正例排在负例之上的概率\n",
    "  - 值在 0 到 1 之间，数值越高越好\n",
    "\n",
    "| 模型预测的内容 | 真实活性     | 真无效       |\n",
    "| :------------- | :----------- | :----------- |\n",
    "| 活跃           | 真阳性（TP） | 假阳性（FP） |\n",
    "| 无效           | 假阴性（FN） | 真阴性（TN） |"
   ],
   "id": "fb2995ed380f5a67"
  },
  {
   "cell_type": "code",
   "id": "initial_id",
   "metadata": {
    "collapsed": true,
    "ExecuteTime": {
     "end_time": "2024-10-08T02:59:34.185822Z",
     "start_time": "2024-10-08T02:59:34.174842Z"
    }
   },
   "source": [
    "from pathlib import Path\n",
    "from warnings import filterwarnings\n",
    "import time\n",
    "\n",
    "import pandas as pd\n",
    "import numpy as np\n",
    "from sklearn import svm, metrics, clone\n",
    "from sklearn.ensemble import RandomForestClassifier\n",
    "from sklearn.neural_network import MLPClassifier\n",
    "from sklearn.model_selection import KFold, train_test_split\n",
    "from sklearn.metrics import auc, accuracy_score, recall_score\n",
    "from sklearn.metrics import roc_curve, roc_auc_score\n",
    "import matplotlib.pyplot as plt\n",
    "from rdkit import Chem\n",
    "from rdkit.Chem import MACCSkeys, rdFingerprintGenerator\n",
    "\n",
    "from teachopencadd.utils import seed_everything\n",
    "\n",
    "# Silence some expected warnings\n",
    "filterwarnings(\"ignore\")\n",
    "# Fix seed for reproducible results\n",
    "SEED = 22\n",
    "seed_everything(SEED)"
   ],
   "outputs": [],
   "execution_count": 4
  },
  {
   "metadata": {
    "ExecuteTime": {
     "end_time": "2024-10-08T02:59:35.536287Z",
     "start_time": "2024-10-08T02:59:35.531371Z"
    }
   },
   "cell_type": "code",
   "source": [
    "from pathlib import Path\n",
    "import os\n",
    "\n",
    "# 获取当前工作目录\n",
    "HERE = Path(os.getcwd())\n",
    "DATA = HERE / 'data'\n",
    "if not DATA.exists():\n",
    "    DATA.mkdir(parents=True, exist_ok=True)\n",
    "print(DATA)\n"
   ],
   "id": "49ddf149c04c6553",
   "outputs": [
    {
     "name": "stdout",
     "output_type": "stream",
     "text": [
      "/Users/wangyang/Desktop/Breast_cancer_brain_metastasis/wang_Gene/AIDD/04_Ligand-based_Screening_Machine_Learning/data\n"
     ]
    }
   ],
   "execution_count": 5
  },
  {
   "metadata": {},
   "cell_type": "markdown",
   "source": [
    "### 加载化合物和活性数据 ¶\n",
    "\n",
    "让我们首先加载数据，该数据聚焦于表皮生长因子受体（EGFR）激酶。来自 03 的 csv 文件被加载到一个数据框中，其中包含重要的列：\n",
    "\n",
    "- CHEMBL-ID\n",
    "- SMILES 字符串对应的化合物\n",
    "-  测量亲和力：pIC50"
   ],
   "id": "9a333951be47fc79"
  },
  {
   "metadata": {
    "ExecuteTime": {
     "end_time": "2024-10-08T02:59:36.620198Z",
     "start_time": "2024-10-08T02:59:36.595063Z"
    }
   },
   "cell_type": "code",
   "source": [
    "# Read data from previous talktorials\n",
    "chembl_df = pd.read_csv(\n",
    "    HERE / \"../03_Molecular_filtration_of_unwanted_substructures/data/data_ubstructures_matches.csv\"\n",
    ")\n",
    "\n",
    "# Look at head\n",
    "print(\"Shape of dataframe : \", chembl_df.shape)\n",
    "chembl_df.head()\n",
    "# NBVAL_CHECK_OUTPUT"
   ],
   "id": "6e04e191db751abe",
   "outputs": [
    {
     "name": "stdout",
     "output_type": "stream",
     "text": [
      "Shape of dataframe :  (1738, 7)\n"
     ]
    },
    {
     "data": {
      "text/plain": [
       "  molecule_chembl_id   IC50 units  \\\n",
       "0      CHEMBL3685304  0.010    nM   \n",
       "1      CHEMBL4443279  0.012    nM   \n",
       "2      CHEMBL4462759  0.012    nM   \n",
       "3      CHEMBL4476212  0.012    nM   \n",
       "4      CHEMBL3675462  0.030    nM   \n",
       "\n",
       "                                              smiles      pIC50  \\\n",
       "0  C[C@@H](Nc1ncnc2c(C(N)=O)cccc12)c1cccc(NC(=O)c...  11.000000   \n",
       "1       Fc1ccccc1Oc1nc(Nc2ccc(-c3nnn[nH]3)cc2)ncc1Cl  10.920819   \n",
       "2    COc1ccc(Oc2nc(Nc3ccc(-c4nnn[nH]4)cc3)ncc2Cl)cc1  10.920819   \n",
       "3     Fc1ccc(Oc2nc(Nc3ccc(-c4nnn[nH]4)cc3)ncc2Cl)cc1  10.920819   \n",
       "4  C[C@@H](Nc1ncnc2c(C(N)=O)cccc12)c1cccc(NC(=O)c...  10.522879   \n",
       "\n",
       "   ro5_fulfilled                                             ROMol  \n",
       "0           True  <rdkit.Chem.rdchem.Mol object at 0x7fd465e18100>  \n",
       "1           True  <rdkit.Chem.rdchem.Mol object at 0x7fd465e18fa0>  \n",
       "2           True  <rdkit.Chem.rdchem.Mol object at 0x7fd465e181c0>  \n",
       "3           True  <rdkit.Chem.rdchem.Mol object at 0x7fd465e18580>  \n",
       "4           True  <rdkit.Chem.rdchem.Mol object at 0x7fd465e18ee0>  "
      ],
      "text/html": [
       "<div>\n",
       "<style scoped>\n",
       "    .dataframe tbody tr th:only-of-type {\n",
       "        vertical-align: middle;\n",
       "    }\n",
       "\n",
       "    .dataframe tbody tr th {\n",
       "        vertical-align: top;\n",
       "    }\n",
       "\n",
       "    .dataframe thead th {\n",
       "        text-align: right;\n",
       "    }\n",
       "</style>\n",
       "<table border=\"1\" class=\"dataframe\">\n",
       "  <thead>\n",
       "    <tr style=\"text-align: right;\">\n",
       "      <th></th>\n",
       "      <th>molecule_chembl_id</th>\n",
       "      <th>IC50</th>\n",
       "      <th>units</th>\n",
       "      <th>smiles</th>\n",
       "      <th>pIC50</th>\n",
       "      <th>ro5_fulfilled</th>\n",
       "      <th>ROMol</th>\n",
       "    </tr>\n",
       "  </thead>\n",
       "  <tbody>\n",
       "    <tr>\n",
       "      <th>0</th>\n",
       "      <td>CHEMBL3685304</td>\n",
       "      <td>0.010</td>\n",
       "      <td>nM</td>\n",
       "      <td>C[C@@H](Nc1ncnc2c(C(N)=O)cccc12)c1cccc(NC(=O)c...</td>\n",
       "      <td>11.000000</td>\n",
       "      <td>True</td>\n",
       "      <td>&lt;rdkit.Chem.rdchem.Mol object at 0x7fd465e18100&gt;</td>\n",
       "    </tr>\n",
       "    <tr>\n",
       "      <th>1</th>\n",
       "      <td>CHEMBL4443279</td>\n",
       "      <td>0.012</td>\n",
       "      <td>nM</td>\n",
       "      <td>Fc1ccccc1Oc1nc(Nc2ccc(-c3nnn[nH]3)cc2)ncc1Cl</td>\n",
       "      <td>10.920819</td>\n",
       "      <td>True</td>\n",
       "      <td>&lt;rdkit.Chem.rdchem.Mol object at 0x7fd465e18fa0&gt;</td>\n",
       "    </tr>\n",
       "    <tr>\n",
       "      <th>2</th>\n",
       "      <td>CHEMBL4462759</td>\n",
       "      <td>0.012</td>\n",
       "      <td>nM</td>\n",
       "      <td>COc1ccc(Oc2nc(Nc3ccc(-c4nnn[nH]4)cc3)ncc2Cl)cc1</td>\n",
       "      <td>10.920819</td>\n",
       "      <td>True</td>\n",
       "      <td>&lt;rdkit.Chem.rdchem.Mol object at 0x7fd465e181c0&gt;</td>\n",
       "    </tr>\n",
       "    <tr>\n",
       "      <th>3</th>\n",
       "      <td>CHEMBL4476212</td>\n",
       "      <td>0.012</td>\n",
       "      <td>nM</td>\n",
       "      <td>Fc1ccc(Oc2nc(Nc3ccc(-c4nnn[nH]4)cc3)ncc2Cl)cc1</td>\n",
       "      <td>10.920819</td>\n",
       "      <td>True</td>\n",
       "      <td>&lt;rdkit.Chem.rdchem.Mol object at 0x7fd465e18580&gt;</td>\n",
       "    </tr>\n",
       "    <tr>\n",
       "      <th>4</th>\n",
       "      <td>CHEMBL3675462</td>\n",
       "      <td>0.030</td>\n",
       "      <td>nM</td>\n",
       "      <td>C[C@@H](Nc1ncnc2c(C(N)=O)cccc12)c1cccc(NC(=O)c...</td>\n",
       "      <td>10.522879</td>\n",
       "      <td>True</td>\n",
       "      <td>&lt;rdkit.Chem.rdchem.Mol object at 0x7fd465e18ee0&gt;</td>\n",
       "    </tr>\n",
       "  </tbody>\n",
       "</table>\n",
       "</div>"
      ]
     },
     "execution_count": 6,
     "metadata": {},
     "output_type": "execute_result"
    }
   ],
   "execution_count": 6
  },
  {
   "metadata": {
    "ExecuteTime": {
     "end_time": "2024-10-08T02:59:37.306512Z",
     "start_time": "2024-10-08T02:59:37.294241Z"
    }
   },
   "cell_type": "code",
   "source": [
    "# Keep only the columns we want\n",
    "chembl_df = chembl_df[[\"molecule_chembl_id\", \"smiles\", \"pIC50\"]]\n",
    "chembl_df.head()# NBVAL_CHECK_OUTPUT"
   ],
   "id": "d41b9c26b32b3cfc",
   "outputs": [
    {
     "data": {
      "text/plain": [
       "  molecule_chembl_id                                             smiles  \\\n",
       "0      CHEMBL3685304  C[C@@H](Nc1ncnc2c(C(N)=O)cccc12)c1cccc(NC(=O)c...   \n",
       "1      CHEMBL4443279       Fc1ccccc1Oc1nc(Nc2ccc(-c3nnn[nH]3)cc2)ncc1Cl   \n",
       "2      CHEMBL4462759    COc1ccc(Oc2nc(Nc3ccc(-c4nnn[nH]4)cc3)ncc2Cl)cc1   \n",
       "3      CHEMBL4476212     Fc1ccc(Oc2nc(Nc3ccc(-c4nnn[nH]4)cc3)ncc2Cl)cc1   \n",
       "4      CHEMBL3675462  C[C@@H](Nc1ncnc2c(C(N)=O)cccc12)c1cccc(NC(=O)c...   \n",
       "\n",
       "       pIC50  \n",
       "0  11.000000  \n",
       "1  10.920819  \n",
       "2  10.920819  \n",
       "3  10.920819  \n",
       "4  10.522879  "
      ],
      "text/html": [
       "<div>\n",
       "<style scoped>\n",
       "    .dataframe tbody tr th:only-of-type {\n",
       "        vertical-align: middle;\n",
       "    }\n",
       "\n",
       "    .dataframe tbody tr th {\n",
       "        vertical-align: top;\n",
       "    }\n",
       "\n",
       "    .dataframe thead th {\n",
       "        text-align: right;\n",
       "    }\n",
       "</style>\n",
       "<table border=\"1\" class=\"dataframe\">\n",
       "  <thead>\n",
       "    <tr style=\"text-align: right;\">\n",
       "      <th></th>\n",
       "      <th>molecule_chembl_id</th>\n",
       "      <th>smiles</th>\n",
       "      <th>pIC50</th>\n",
       "    </tr>\n",
       "  </thead>\n",
       "  <tbody>\n",
       "    <tr>\n",
       "      <th>0</th>\n",
       "      <td>CHEMBL3685304</td>\n",
       "      <td>C[C@@H](Nc1ncnc2c(C(N)=O)cccc12)c1cccc(NC(=O)c...</td>\n",
       "      <td>11.000000</td>\n",
       "    </tr>\n",
       "    <tr>\n",
       "      <th>1</th>\n",
       "      <td>CHEMBL4443279</td>\n",
       "      <td>Fc1ccccc1Oc1nc(Nc2ccc(-c3nnn[nH]3)cc2)ncc1Cl</td>\n",
       "      <td>10.920819</td>\n",
       "    </tr>\n",
       "    <tr>\n",
       "      <th>2</th>\n",
       "      <td>CHEMBL4462759</td>\n",
       "      <td>COc1ccc(Oc2nc(Nc3ccc(-c4nnn[nH]4)cc3)ncc2Cl)cc1</td>\n",
       "      <td>10.920819</td>\n",
       "    </tr>\n",
       "    <tr>\n",
       "      <th>3</th>\n",
       "      <td>CHEMBL4476212</td>\n",
       "      <td>Fc1ccc(Oc2nc(Nc3ccc(-c4nnn[nH]4)cc3)ncc2Cl)cc1</td>\n",
       "      <td>10.920819</td>\n",
       "    </tr>\n",
       "    <tr>\n",
       "      <th>4</th>\n",
       "      <td>CHEMBL3675462</td>\n",
       "      <td>C[C@@H](Nc1ncnc2c(C(N)=O)cccc12)c1cccc(NC(=O)c...</td>\n",
       "      <td>10.522879</td>\n",
       "    </tr>\n",
       "  </tbody>\n",
       "</table>\n",
       "</div>"
      ]
     },
     "execution_count": 7,
     "metadata": {},
     "output_type": "execute_result"
    }
   ],
   "execution_count": 7
  },
  {
   "metadata": {},
   "cell_type": "markdown",
   "source": [
    "### 数据准备 ¶\n",
    "\n",
    "####  数据标注 ¶\n",
    "\n",
    "我们需要将每种化合物分类为活性或非活性。因此，我们使用 pIC50 值。\n",
    "\n",
    "- pIC50 = -log10(IC50)\n",
    "- IC50 描述了抑制体外过程中 50%所需的物质量。\n",
    "- 一个常用的离散化 pIC50 数据的截断值是 6.3，我们将用于我们的实验\n",
    "- 请注意，文献中还有其他关于活动截止点的建议，范围从 5 到 7 的 pIC50 值，甚至可以定义一个排除范围，以确定何时不取数据点。"
   ],
   "id": "e6c8491bbc0af4cf"
  },
  {
   "metadata": {
    "ExecuteTime": {
     "end_time": "2024-10-08T02:59:38.064209Z",
     "start_time": "2024-10-08T02:59:38.052304Z"
    }
   },
   "cell_type": "code",
   "source": [
    "# Add column for activity\n",
    "chembl_df[\"active\"] = np.zeros(len(chembl_df))\n",
    "\n",
    "# Mark every molecule as active with an pIC50 of >= 6.3, 0 otherwise\n",
    "# 在这里因为我的PIC50很多都是大的值，我想用大于8.0作为阀值，这样可以过滤掉一些不活跃的化合物\n",
    "chembl_df.loc[chembl_df[chembl_df.pIC50 >= 8.0].index, \"active\"] = 1.0\n",
    "\n",
    "print(\"Number of active compounds:\", int(chembl_df.active.sum()))\n",
    "print(\"Number of inactive compounds:\", len(chembl_df) - int(chembl_df.active.sum()))"
   ],
   "id": "b7ffe71f4e9b1a78",
   "outputs": [
    {
     "name": "stdout",
     "output_type": "stream",
     "text": [
      "Number of active compounds: 475\n",
      "Number of inactive compounds: 1263\n"
     ]
    }
   ],
   "execution_count": 8
  },
  {
   "metadata": {
    "ExecuteTime": {
     "end_time": "2024-10-08T02:59:38.455942Z",
     "start_time": "2024-10-08T02:59:38.444112Z"
    }
   },
   "cell_type": "code",
   "source": "chembl_df.head()",
   "id": "de0d8c1b634d25c5",
   "outputs": [
    {
     "data": {
      "text/plain": [
       "  molecule_chembl_id                                             smiles  \\\n",
       "0      CHEMBL3685304  C[C@@H](Nc1ncnc2c(C(N)=O)cccc12)c1cccc(NC(=O)c...   \n",
       "1      CHEMBL4443279       Fc1ccccc1Oc1nc(Nc2ccc(-c3nnn[nH]3)cc2)ncc1Cl   \n",
       "2      CHEMBL4462759    COc1ccc(Oc2nc(Nc3ccc(-c4nnn[nH]4)cc3)ncc2Cl)cc1   \n",
       "3      CHEMBL4476212     Fc1ccc(Oc2nc(Nc3ccc(-c4nnn[nH]4)cc3)ncc2Cl)cc1   \n",
       "4      CHEMBL3675462  C[C@@H](Nc1ncnc2c(C(N)=O)cccc12)c1cccc(NC(=O)c...   \n",
       "\n",
       "       pIC50  active  \n",
       "0  11.000000     1.0  \n",
       "1  10.920819     1.0  \n",
       "2  10.920819     1.0  \n",
       "3  10.920819     1.0  \n",
       "4  10.522879     1.0  "
      ],
      "text/html": [
       "<div>\n",
       "<style scoped>\n",
       "    .dataframe tbody tr th:only-of-type {\n",
       "        vertical-align: middle;\n",
       "    }\n",
       "\n",
       "    .dataframe tbody tr th {\n",
       "        vertical-align: top;\n",
       "    }\n",
       "\n",
       "    .dataframe thead th {\n",
       "        text-align: right;\n",
       "    }\n",
       "</style>\n",
       "<table border=\"1\" class=\"dataframe\">\n",
       "  <thead>\n",
       "    <tr style=\"text-align: right;\">\n",
       "      <th></th>\n",
       "      <th>molecule_chembl_id</th>\n",
       "      <th>smiles</th>\n",
       "      <th>pIC50</th>\n",
       "      <th>active</th>\n",
       "    </tr>\n",
       "  </thead>\n",
       "  <tbody>\n",
       "    <tr>\n",
       "      <th>0</th>\n",
       "      <td>CHEMBL3685304</td>\n",
       "      <td>C[C@@H](Nc1ncnc2c(C(N)=O)cccc12)c1cccc(NC(=O)c...</td>\n",
       "      <td>11.000000</td>\n",
       "      <td>1.0</td>\n",
       "    </tr>\n",
       "    <tr>\n",
       "      <th>1</th>\n",
       "      <td>CHEMBL4443279</td>\n",
       "      <td>Fc1ccccc1Oc1nc(Nc2ccc(-c3nnn[nH]3)cc2)ncc1Cl</td>\n",
       "      <td>10.920819</td>\n",
       "      <td>1.0</td>\n",
       "    </tr>\n",
       "    <tr>\n",
       "      <th>2</th>\n",
       "      <td>CHEMBL4462759</td>\n",
       "      <td>COc1ccc(Oc2nc(Nc3ccc(-c4nnn[nH]4)cc3)ncc2Cl)cc1</td>\n",
       "      <td>10.920819</td>\n",
       "      <td>1.0</td>\n",
       "    </tr>\n",
       "    <tr>\n",
       "      <th>3</th>\n",
       "      <td>CHEMBL4476212</td>\n",
       "      <td>Fc1ccc(Oc2nc(Nc3ccc(-c4nnn[nH]4)cc3)ncc2Cl)cc1</td>\n",
       "      <td>10.920819</td>\n",
       "      <td>1.0</td>\n",
       "    </tr>\n",
       "    <tr>\n",
       "      <th>4</th>\n",
       "      <td>CHEMBL3675462</td>\n",
       "      <td>C[C@@H](Nc1ncnc2c(C(N)=O)cccc12)c1cccc(NC(=O)c...</td>\n",
       "      <td>10.522879</td>\n",
       "      <td>1.0</td>\n",
       "    </tr>\n",
       "  </tbody>\n",
       "</table>\n",
       "</div>"
      ]
     },
     "execution_count": 9,
     "metadata": {},
     "output_type": "execute_result"
    }
   ],
   "execution_count": 9
  },
  {
   "metadata": {},
   "cell_type": "markdown",
   "source": [
    "#### 分子编码\n",
    "\n",
    "现在我们定义了一个函数 `smiles_to_fp` ，用于从 SMILES 生成指纹。目前，我们包含了以下指纹之间的选择：\n",
    "\n",
    "-  maccs \n",
    "-  morgan2 和 morgan3"
   ],
   "id": "9b72fb2ec90e445d"
  },
  {
   "metadata": {
    "ExecuteTime": {
     "end_time": "2024-10-08T02:59:39.097483Z",
     "start_time": "2024-10-08T02:59:39.091890Z"
    }
   },
   "cell_type": "code",
   "source": [
    "def smiles_to_fp(smiles, method=\"maccs\", n_bits=2048):\n",
    "    \"\"\"\n",
    "    Encode a molecule from a SMILES string into a fingerprint.\n",
    "\n",
    "    Parameters\n",
    "    ----------\n",
    "    smiles : str\n",
    "        The SMILES string defining the molecule.\n",
    "\n",
    "    method : str\n",
    "        The type of fingerprint to use. Default is MACCS keys.\n",
    "\n",
    "    n_bits : int\n",
    "        The length of the fingerprint.\n",
    "\n",
    "    Returns\n",
    "    -------\n",
    "    array\n",
    "        The fingerprint array.\n",
    "\n",
    "    \"\"\"\n",
    "\n",
    "    # convert smiles to RDKit mol object\n",
    "    mol = Chem.MolFromSmiles(smiles)\n",
    "\n",
    "    if method == \"maccs\":\n",
    "        return np.array(MACCSkeys.GenMACCSKeys(mol))\n",
    "    if method == \"morgan2\":\n",
    "        fpg = rdFingerprintGenerator.GetMorganGenerator(radius=2, fpSize=n_bits)\n",
    "        return np.array(fpg.GetFingerprint(mol))\n",
    "    if method == \"morgan3\":\n",
    "        fpg = rdFingerprintGenerator.GetMorganGenerator(radius=3, fpSize=n_bits)\n",
    "        return np.array(fpg.GetFingerprint(mol))\n",
    "    else:\n",
    "        # NBVAL_CHECK_OUTPUT\n",
    "        print(f\"Warning: Wrong method specified: {method}. Default will be used instead.\")\n",
    "        return np.array(MACCSkeys.GenMACCSKeys(mol))"
   ],
   "id": "e3ec3be3f17c3af1",
   "outputs": [],
   "execution_count": 10
  },
  {
   "metadata": {
    "ExecuteTime": {
     "end_time": "2024-10-08T02:59:39.493565Z",
     "start_time": "2024-10-08T02:59:39.490258Z"
    }
   },
   "cell_type": "code",
   "source": "compound_df = chembl_df.copy()",
   "id": "84273ed6d4bd0751",
   "outputs": [],
   "execution_count": 11
  },
  {
   "metadata": {
    "ExecuteTime": {
     "end_time": "2024-10-08T02:59:45.897787Z",
     "start_time": "2024-10-08T02:59:39.911682Z"
    }
   },
   "cell_type": "code",
   "source": [
    "# Add column for fingerprint\n",
    "compound_df[\"fp\"] = compound_df[\"smiles\"].apply(smiles_to_fp)\n",
    "compound_df.head(3)"
   ],
   "id": "f16c8eb716a068de",
   "outputs": [
    {
     "data": {
      "text/plain": [
       "  molecule_chembl_id                                             smiles  \\\n",
       "0      CHEMBL3685304  C[C@@H](Nc1ncnc2c(C(N)=O)cccc12)c1cccc(NC(=O)c...   \n",
       "1      CHEMBL4443279       Fc1ccccc1Oc1nc(Nc2ccc(-c3nnn[nH]3)cc2)ncc1Cl   \n",
       "2      CHEMBL4462759    COc1ccc(Oc2nc(Nc3ccc(-c4nnn[nH]4)cc3)ncc2Cl)cc1   \n",
       "\n",
       "       pIC50  active                                                 fp  \n",
       "0  11.000000     1.0  [0, 0, 0, 0, 0, 0, 0, 0, 0, 0, 0, 0, 0, 0, 0, ...  \n",
       "1  10.920819     1.0  [0, 0, 0, 0, 0, 0, 0, 0, 0, 0, 0, 0, 0, 0, 0, ...  \n",
       "2  10.920819     1.0  [0, 0, 0, 0, 0, 0, 0, 0, 0, 0, 0, 0, 0, 0, 0, ...  "
      ],
      "text/html": [
       "<div>\n",
       "<style scoped>\n",
       "    .dataframe tbody tr th:only-of-type {\n",
       "        vertical-align: middle;\n",
       "    }\n",
       "\n",
       "    .dataframe tbody tr th {\n",
       "        vertical-align: top;\n",
       "    }\n",
       "\n",
       "    .dataframe thead th {\n",
       "        text-align: right;\n",
       "    }\n",
       "</style>\n",
       "<table border=\"1\" class=\"dataframe\">\n",
       "  <thead>\n",
       "    <tr style=\"text-align: right;\">\n",
       "      <th></th>\n",
       "      <th>molecule_chembl_id</th>\n",
       "      <th>smiles</th>\n",
       "      <th>pIC50</th>\n",
       "      <th>active</th>\n",
       "      <th>fp</th>\n",
       "    </tr>\n",
       "  </thead>\n",
       "  <tbody>\n",
       "    <tr>\n",
       "      <th>0</th>\n",
       "      <td>CHEMBL3685304</td>\n",
       "      <td>C[C@@H](Nc1ncnc2c(C(N)=O)cccc12)c1cccc(NC(=O)c...</td>\n",
       "      <td>11.000000</td>\n",
       "      <td>1.0</td>\n",
       "      <td>[0, 0, 0, 0, 0, 0, 0, 0, 0, 0, 0, 0, 0, 0, 0, ...</td>\n",
       "    </tr>\n",
       "    <tr>\n",
       "      <th>1</th>\n",
       "      <td>CHEMBL4443279</td>\n",
       "      <td>Fc1ccccc1Oc1nc(Nc2ccc(-c3nnn[nH]3)cc2)ncc1Cl</td>\n",
       "      <td>10.920819</td>\n",
       "      <td>1.0</td>\n",
       "      <td>[0, 0, 0, 0, 0, 0, 0, 0, 0, 0, 0, 0, 0, 0, 0, ...</td>\n",
       "    </tr>\n",
       "    <tr>\n",
       "      <th>2</th>\n",
       "      <td>CHEMBL4462759</td>\n",
       "      <td>COc1ccc(Oc2nc(Nc3ccc(-c4nnn[nH]4)cc3)ncc2Cl)cc1</td>\n",
       "      <td>10.920819</td>\n",
       "      <td>1.0</td>\n",
       "      <td>[0, 0, 0, 0, 0, 0, 0, 0, 0, 0, 0, 0, 0, 0, 0, ...</td>\n",
       "    </tr>\n",
       "  </tbody>\n",
       "</table>\n",
       "</div>"
      ]
     },
     "execution_count": 12,
     "metadata": {},
     "output_type": "execute_result"
    }
   ],
   "execution_count": 12
  },
  {
   "metadata": {},
   "cell_type": "markdown",
   "source": [
    "### 机器学习（ML）\n",
    "\n",
    "在以下内容中，我们将尝试几种机器学习（ML）方法来分类我们的分子。我们将使用：\n",
    "\n",
    "-  随机森林（RF）\n",
    "- 支持向量机（SVM）\n",
    "- 人工神经网络（ANN）\n",
    "\n",
    "此外，我们还将对结果进行评论。\n",
    "\n",
    "目标是为了测试模型预测它之前从未见过的数据的能力，以便标记出称为过拟合的问题，并评估模型的泛化能力。\n",
    "\n",
    "我们首先定义一个函数 `model_training_and_validation` ，它在一个随机划分的训练-测试数据集上拟合模型，并返回在测试集上评估的度量，如准确率、灵敏度、特异性和 AUC。我们还使用 `plot_roc_curves_for_models` 绘制 ROC 曲线。\n",
    "\n",
    "我们随后定义了一个名为 `crossvalidation` 的函数，该函数执行交叉验证过程并打印出结果在各个折叠中的统计数据。"
   ],
   "id": "76daaffd2cce10cf"
  },
  {
   "metadata": {},
   "cell_type": "markdown",
   "source": [
    "辅助函数 ¶\n",
    "辅助函数用于绘制自定义 ROC 曲线。代码灵感来源于 Stack Overflow。"
   ],
   "id": "f144a9922e20405"
  },
  {
   "metadata": {
    "ExecuteTime": {
     "end_time": "2024-10-08T02:59:47.475998Z",
     "start_time": "2024-10-08T02:59:47.470077Z"
    }
   },
   "cell_type": "code",
   "source": [
    "def plot_roc_curves_for_models(models, test_x, test_y, save_png=False):\n",
    "    \"\"\"\n",
    "    Helper function to plot customized roc curve.\n",
    "\n",
    "    Parameters\n",
    "    ----------\n",
    "    models: dict\n",
    "        Dictionary of pretrained machine learning models.\n",
    "    test_x: list\n",
    "        Molecular fingerprints for test set.\n",
    "    test_y: list\n",
    "        Associated activity labels for test set.\n",
    "    save_png: bool\n",
    "        Save image to disk (default = False)\n",
    "\n",
    "    Returns\n",
    "    -------\n",
    "    fig:\n",
    "        Figure.\n",
    "    \"\"\"\n",
    "\n",
    "    fig, ax = plt.subplots()\n",
    "\n",
    "    # Below for loop iterates through your models list\n",
    "    for model in models:\n",
    "        # Select the model\n",
    "        ml_model = model[\"model\"]\n",
    "        # Prediction probability on test set\n",
    "        test_prob = ml_model.predict_proba(test_x)[:, 1]\n",
    "        # Prediction class on test set\n",
    "        test_pred = ml_model.predict(test_x)\n",
    "        # Compute False postive rate and True positive rate\n",
    "        fpr, tpr, thresholds = metrics.roc_curve(test_y, test_prob)\n",
    "        # Calculate Area under the curve to display on the plot\n",
    "        auc = roc_auc_score(test_y, test_prob)\n",
    "        # Plot the computed values\n",
    "        ax.plot(fpr, tpr, label=(f\"{model['label']} AUC area = {auc:.2f}\"))\n",
    "\n",
    "    # Custom settings for the plot\n",
    "    ax.plot([0, 1], [0, 1], \"r--\")\n",
    "    ax.set_xlabel(\"False Positive Rate\")\n",
    "    ax.set_ylabel(\"True Positive Rate\")\n",
    "    ax.set_title(\"Receiver Operating Characteristic\")\n",
    "    ax.legend(loc=\"lower right\")\n",
    "    # Save plot\n",
    "    if save_png:\n",
    "        fig.savefig(f\"{DATA}/roc_auc\", dpi=300, bbox_inches=\"tight\", transparent=True)\n",
    "    return fig"
   ],
   "id": "a05bc7c2027a2df1",
   "outputs": [],
   "execution_count": 13
  },
  {
   "metadata": {},
   "cell_type": "markdown",
   "source": "辅助函数用于计算模型性能。",
   "id": "2cf7a006e51382b7"
  },
  {
   "metadata": {
    "ExecuteTime": {
     "end_time": "2024-10-08T02:59:48.731404Z",
     "start_time": "2024-10-08T02:59:48.726849Z"
    }
   },
   "cell_type": "code",
   "source": [
    "def model_performance(ml_model, test_x, test_y, verbose=True):\n",
    "    \"\"\"\n",
    "    Helper function to calculate model performance\n",
    "\n",
    "    Parameters\n",
    "    ----------\n",
    "    ml_model: sklearn model object\n",
    "        The machine learning model to train.\n",
    "    test_x: list\n",
    "        Molecular fingerprints for test set.\n",
    "    test_y: list\n",
    "        Associated activity labels for test set.\n",
    "    verbose: bool\n",
    "        Print performance measure (default = True)\n",
    "\n",
    "    Returns\n",
    "    -------\n",
    "    tuple:\n",
    "        Accuracy, sensitivity, specificity, auc on test set.\n",
    "    \"\"\"\n",
    "\n",
    "    # Prediction probability on test set\n",
    "    test_prob = ml_model.predict_proba(test_x)[:, 1]\n",
    "\n",
    "    # Prediction class on test set\n",
    "    test_pred = ml_model.predict(test_x)\n",
    "\n",
    "    # Performance of model on test set\n",
    "    accuracy = accuracy_score(test_y, test_pred)\n",
    "    sens = recall_score(test_y, test_pred)\n",
    "    spec = recall_score(test_y, test_pred, pos_label=0)\n",
    "    auc = roc_auc_score(test_y, test_prob)\n",
    "\n",
    "    if verbose:\n",
    "        # Print performance results\n",
    "        # NBVAL_CHECK_OUTPUT        print(f\"Accuracy: {accuracy:.2}\")\n",
    "        print(f\"Sensitivity: {sens:.2f}\")\n",
    "        print(f\"Specificity: {spec:.2f}\")\n",
    "        print(f\"AUC: {auc:.2f}\")\n",
    "\n",
    "    return accuracy, sens, spec, auc"
   ],
   "id": "9d3166b4abaf179c",
   "outputs": [],
   "execution_count": 14
  },
  {
   "metadata": {},
   "cell_type": "markdown",
   "source": "辅助函数，用于在数据的随机训练-测试分割上拟合机器学习模型，并返回性能指标。",
   "id": "f24566756f6eeadc"
  },
  {
   "metadata": {
    "ExecuteTime": {
     "end_time": "2024-10-08T02:59:49.603564Z",
     "start_time": "2024-10-08T02:59:49.600057Z"
    }
   },
   "cell_type": "code",
   "source": [
    "def model_training_and_validation(ml_model, name, splits, verbose=True):\n",
    "    \"\"\"\n",
    "    Fit a machine learning model on a random train-test split of the data\n",
    "    and return the performance measures.\n",
    "\n",
    "    Parameters\n",
    "    ----------\n",
    "    ml_model: sklearn model object\n",
    "        The machine learning model to train.\n",
    "    name: str\n",
    "        Name of machine learning algorithm: RF, SVM, ANN\n",
    "    splits: list\n",
    "        List of desciptor and label data: train_x, test_x, train_y, test_y.\n",
    "    verbose: bool\n",
    "        Print performance info (default = True)\n",
    "\n",
    "    Returns\n",
    "    -------\n",
    "    tuple:\n",
    "        Accuracy, sensitivity, specificity, auc on test set.\n",
    "\n",
    "    \"\"\"\n",
    "    train_x, test_x, train_y, test_y = splits\n",
    "\n",
    "    # Fit the model\n",
    "    ml_model.fit(train_x, train_y)\n",
    "\n",
    "    # Calculate model performance results\n",
    "    accuracy, sens, spec, auc = model_performance(ml_model, test_x, test_y, verbose)\n",
    "\n",
    "    return accuracy, sens, spec, auc"
   ],
   "id": "5548db21bf2fa8ec",
   "outputs": [],
   "execution_count": 15
  },
  {
   "metadata": {},
   "cell_type": "markdown",
   "source": "预处理：分割数据（将用于其他模型）",
   "id": "2c03af73554be751"
  },
  {
   "metadata": {
    "ExecuteTime": {
     "end_time": "2024-10-08T02:59:50.676751Z",
     "start_time": "2024-10-08T02:59:50.667286Z"
    }
   },
   "cell_type": "code",
   "source": [
    "fingerprint_to_model = compound_df.fp.tolist()\n",
    "label_to_model = compound_df.active.tolist()\n",
    "\n",
    "# Split data randomly in train and test set\n",
    "# note that we use test/train_x for the respective fingerprint splits\n",
    "# and test/train_y for the respective label splits\n",
    "(\n",
    "    static_train_x,\n",
    "    static_test_x,\n",
    "    static_train_y,\n",
    "    static_test_y,\n",
    ") = train_test_split(fingerprint_to_model, label_to_model, test_size=0.2, random_state=SEED)\n",
    "splits = [static_train_x, static_test_x, static_train_y, static_test_y]\n",
    "# NBVAL_CHECK_OUTPUT\n",
    "print(\"Training data size:\", len(static_train_x))\n",
    "print(\"Test data size:\", len(static_test_x))"
   ],
   "id": "e4001fc43d80ad9",
   "outputs": [
    {
     "name": "stdout",
     "output_type": "stream",
     "text": [
      "Training data size: 1390\n",
      "Test data size: 348\n"
     ]
    }
   ],
   "execution_count": 16
  },
  {
   "metadata": {},
   "cell_type": "markdown",
   "source": [
    "随机森林分类器 ¶\n",
    "我们从随机森林分类器开始，首先设置参数。\n",
    "\n",
    "我们在随机训练-测试分割上训练模型并绘制结果。"
   ],
   "id": "9737ec42fa4ba3e7"
  },
  {
   "metadata": {
    "ExecuteTime": {
     "end_time": "2024-10-08T02:59:52.054474Z",
     "start_time": "2024-10-08T02:59:52.051027Z"
    }
   },
   "cell_type": "code",
   "source": [
    "# Set model parameter for random forest\n",
    "param = {\n",
    "    \"n_estimators\": 100,  # number of trees to grows\n",
    "    \"criterion\": \"entropy\",  # cost function to be optimized for a split\n",
    "}\n",
    "model_RF = RandomForestClassifier(**param)"
   ],
   "id": "5266cd072607c485",
   "outputs": [],
   "execution_count": 17
  },
  {
   "metadata": {
    "ExecuteTime": {
     "end_time": "2024-10-08T02:59:52.837734Z",
     "start_time": "2024-10-08T02:59:52.609078Z"
    }
   },
   "cell_type": "code",
   "source": [
    "# Fit model on single split\n",
    "performance_measures = model_training_and_validation(model_RF, \"RF\", splits)"
   ],
   "id": "88eb3683e4c125d5",
   "outputs": [
    {
     "name": "stdout",
     "output_type": "stream",
     "text": [
      "Sensitivity: 0.70\n",
      "Specificity: 0.95\n",
      "AUC: 0.92\n"
     ]
    }
   ],
   "execution_count": 18
  },
  {
   "metadata": {
    "ExecuteTime": {
     "end_time": "2024-10-08T02:59:53.383581Z",
     "start_time": "2024-10-08T02:59:53.164588Z"
    }
   },
   "cell_type": "code",
   "source": [
    "# Initialize the list that stores all models. First one is RF.\n",
    "model_list = [{\"label\": \"Model_RF\", \"model\": model_RF}]\n",
    "# Plot roc curve\n",
    "plot_roc_curves_for_models(model_list, static_test_x, static_test_y);"
   ],
   "id": "a96c46e1efa2e76e",
   "outputs": [
    {
     "data": {
      "text/plain": [
       "<Figure size 640x480 with 1 Axes>"
      ],
      "image/png": "[encoded data removed]"
     },
     "metadata": {},
     "output_type": "display_data"
    }
   ],
   "execution_count": 19
  },
  {
   "metadata": {},
   "cell_type": "markdown",
   "source": " Support vector machine (SVM) ¶",
   "id": "862c1061a5e551b"
  },
  {
   "metadata": {
    "ExecuteTime": {
     "end_time": "2024-10-08T02:59:56.546539Z",
     "start_time": "2024-10-08T02:59:55.791161Z"
    }
   },
   "cell_type": "code",
   "source": [
    "# Specify model\n",
    "model_SVM = svm.SVC(kernel=\"rbf\", C=1, gamma=0.1, probability=True)\n",
    "\n",
    "# Fit model on single split\n",
    "performance_measures = model_training_and_validation(model_SVM, \"SVM\", splits)"
   ],
   "id": "b21de7e92be32c79",
   "outputs": [
    {
     "name": "stdout",
     "output_type": "stream",
     "text": [
      "Sensitivity: 0.67\n",
      "Specificity: 0.97\n",
      "AUC: 0.91\n"
     ]
    }
   ],
   "execution_count": 20
  },
  {
   "metadata": {
    "ExecuteTime": {
     "end_time": "2024-10-08T02:59:56.919318Z",
     "start_time": "2024-10-08T02:59:56.657467Z"
    }
   },
   "cell_type": "code",
   "source": [
    "# Append SVM model\n",
    "model_list.append({\"label\": \"Model_SVM\", \"model\": model_SVM})\n",
    "# Plot roc curve\n",
    "plot_roc_curves_for_models(model_list, static_test_x, static_test_y);"
   ],
   "id": "94e4e8261d874d1d",
   "outputs": [
    {
     "data": {
      "text/plain": [
       "<Figure size 640x480 with 1 Axes>"
      ],
      "image/png": "[encoded data removed]"
     },
     "metadata": {},
     "output_type": "display_data"
    }
   ],
   "execution_count": 21
  },
  {
   "metadata": {},
   "cell_type": "markdown",
   "source": [
    "人工神经网络（ANN）¶\n",
    "神经网络分类器 ¶\n",
    "我们在这里尝试的最后一种方法是神经网络模型。我们使用 2 层 MLPClassifier（多层感知器分类器）进行训练：第一层有 5 个神经元，第二层有 3 个神经元。和之前一样，我们进行交叉验证并绘制结果图"
   ],
   "id": "58e91c6ffd2f6989"
  },
  {
   "metadata": {
    "ExecuteTime": {
     "end_time": "2024-10-08T02:59:59.816456Z",
     "start_time": "2024-10-08T02:59:58.217574Z"
    }
   },
   "cell_type": "code",
   "source": [
    "# Specify model\n",
    "model_ANN = MLPClassifier(hidden_layer_sizes=(5, 3), random_state=SEED)\n",
    "\n",
    "# Fit model on single split\n",
    "performance_measures = model_training_and_validation(model_ANN, \"ANN\", splits)"
   ],
   "id": "8f96867b0853f03c",
   "outputs": [
    {
     "name": "stdout",
     "output_type": "stream",
     "text": [
      "Sensitivity: 0.69\n",
      "Specificity: 0.94\n",
      "AUC: 0.89\n"
     ]
    }
   ],
   "execution_count": 22
  },
  {
   "metadata": {
    "ExecuteTime": {
     "end_time": "2024-10-08T03:00:00.543649Z",
     "start_time": "2024-10-08T02:59:59.966448Z"
    }
   },
   "cell_type": "code",
   "source": [
    "# Append ANN model\n",
    "model_list.append({\"label\": \"Model_ANN\", \"model\": model_ANN})\n",
    "# Plot roc curve\n",
    "plot_roc_curves_for_models(model_list, static_test_x, static_test_y, True);"
   ],
   "id": "69086ea8d469f701",
   "outputs": [
    {
     "data": {
      "text/plain": [
       "<Figure size 640x480 with 1 Axes>"
      ],
      "image/png": "[encoded data removed]"
     },
     "metadata": {},
     "output_type": "display_data"
    }
   ],
   "execution_count": 23
  },
  {
   "metadata": {},
   "cell_type": "markdown",
   "source": [
    "交叉验证 ¶\n",
    "接下来，我们将对三种不同的模型进行交叉验证实验。因此，我们定义了一个用于机器学习模型训练和验证的辅助函数，以在交叉验证循环中进行"
   ],
   "id": "9da64df7b23d56e1"
  },
  {
   "metadata": {},
   "cell_type": "markdown",
   "source": [
    "# AUC曲线  Model RF AUC  ，Model_ SVM AUC ，Model ANN AUC 之间的差异分析及其P value\n",
    "# 这些p值是通过DeLong检验计算得出的，用于比较不同模型的ROC曲线下面积（AUC）是否存在统计学上的显著差异。"
   ],
   "id": "a845c53ab08583a"
  },
  {
   "metadata": {
    "ExecuteTime": {
     "end_time": "2024-10-08T03:00:02.061114Z",
     "start_time": "2024-10-08T03:00:01.962498Z"
    }
   },
   "cell_type": "code",
   "source": [
    "# AUC曲线  Model RF AUC  ，Model_ SVM AUC ，Model ANN AUC 之间的差异分析及其P value\n",
    "# 这些p值是通过DeLong检验计算得出的，用于比较不同模型的ROC曲线下面积（AUC）是否存在统计学上的显著差异。\n",
    "# ❤️ ⚠️注意：这里简化了DeLong测试的实施。为了获得更准确、更稳健的实现，请考虑使用deltaroc等库。\n",
    "\n",
    "from scipy import stats\n",
    "\n",
    "def delong_roc_test(y_true, y_scores_1, y_scores_2):\n",
    "    \"\"\"\n",
    "    Compute p-value for hypothesis that two ROC AUCs are different using DeLong's test.\n",
    "    \n",
    "    Parameters\n",
    "    ----------\n",
    "    y_true : array-like\n",
    "        True binary labels.\n",
    "    y_scores_1 : array-like\n",
    "        Scores from the first classifier.\n",
    "    y_scores_2 : array-like\n",
    "        Scores from the second classifier.\n",
    "    \n",
    "    Returns\n",
    "    -------\n",
    "    p_value : float\n",
    "        Two-sided p-value.\n",
    "    \"\"\"\n",
    "    from sklearn.metrics import roc_curve\n",
    "    import numpy as np\n",
    "\n",
    "    def _compute_midrank(x):\n",
    "        \"\"\"Computes midranks.\"\"\"\n",
    "        x = np.asarray(x)\n",
    "        idx = np.argsort(x)\n",
    "        sorted_x = x[idx]\n",
    "        N = len(x)\n",
    "        T = np.zeros(N, dtype=float)\n",
    "        i = 0\n",
    "        while i < N:\n",
    "            j = i\n",
    "            while j < N - 1 and sorted_x[j] == sorted_x[j + 1]:\n",
    "                j += 1\n",
    "            T[idx[i:j + 1]] = 0.5 * (i + j + 2)\n",
    "            i = j + 1\n",
    "        return T\n",
    "\n",
    "    def _compute_statistics(y_true, y_pred):\n",
    "        \"\"\"Computes AUC and var.\"\"\"\n",
    "        y_true = np.array(y_true)\n",
    "        y_pred = np.array(y_pred)\n",
    "        pos_label = y_true == 1\n",
    "        neg_label = y_true == 0\n",
    "        n_pos = np.sum(pos_label)\n",
    "        n_neg = np.sum(neg_label)\n",
    "        pos_scores = y_pred[pos_label]\n",
    "        neg_scores = y_pred[neg_label]\n",
    "        pos_rank = _compute_midrank(np.concatenate((pos_scores, neg_scores)))[:n_pos]\n",
    "        auc = (np.sum(pos_rank) - n_pos * (n_pos + 1) / 2) / (n_pos * n_neg)\n",
    "        return auc\n",
    "\n",
    "    auc1 = _compute_statistics(y_true, y_scores_1)\n",
    "    auc2 = _compute_statistics(y_true, y_scores_2)\n",
    "\n",
    "    z = (auc1 - auc2) / np.sqrt((auc1 * (1 - auc1) + auc2 * (1 - auc2)) / len(y_true))\n",
    "    p_value = stats.norm.sf(abs(z)) * 2  # Two-sided\n",
    "    return p_value\n",
    "\n",
    "# Get the prediction probabilities for each model\n",
    "test_x = static_test_x\n",
    "test_y = static_test_y\n",
    "\n",
    "model_probs = {}\n",
    "for model in model_list:\n",
    "    label = model['label']\n",
    "    clf = model['model']\n",
    "    probs = clf.predict_proba(test_x)[:, 1]\n",
    "    model_probs[label] = probs\n",
    "\n",
    "# Now, perform DeLong's test between each pair of models\n",
    "model_labels = [model['label'] for model in model_list]\n",
    "p_values = {}\n",
    "for i in range(len(model_labels)):\n",
    "    for j in range(i + 1, len(model_labels)):\n",
    "        model1 = model_labels[i]\n",
    "        model2 = model_labels[j]\n",
    "        p_value = delong_roc_test(test_y, model_probs[model1], model_probs[model2])\n",
    "        p_values[(model1, model2)] = p_value\n",
    "        print(f\"P-value between {model1} and {model2}: {p_value:.4f}\")\n",
    "\n",
    "\n"
   ],
   "id": "3480dd47c0730c3e",
   "outputs": [
    {
     "name": "stdout",
     "output_type": "stream",
     "text": [
      "P-value between Model_RF and Model_SVM: 0.4758\n",
      "P-value between Model_RF and Model_ANN: 0.1434\n",
      "P-value between Model_SVM and Model_ANN: 0.4518\n"
     ]
    }
   ],
   "execution_count": 24
  },
  {
   "metadata": {},
   "cell_type": "markdown",
   "source": [
    "**Model_RF 和 Model_ANN 之间的p值为0.0428**\n",
    "\n",
    "- **含义**：p值小于0.05，表示在95%的置信水平下，随机森林模型（Model_RF）和人工神经网络模型（Model_ANN）的AUC之间存在统计学上显著的差异。\n",
    "- **结论**：这意味着这两个模型的性能在区分活性和非活性化合物方面有显著不同，其中一个模型可能明显优于另一个。\n",
    "\n",
    "**Model_RF 和 Model_SVM 之间的p值为0.2009**\n",
    "\n",
    "- **含义**：p值大于0.05，表示随机森林模型（Model_RF）和支持向量机模型（Model_SVM）的AUC之间没有统计学上显著的差异。\n",
    "- **结论**：这意味着这两个模型在区分活性和非活性化合物的能力上没有显著的性能差异，它们的预测效果可以认为是相当的。\n",
    "\n",
    "**Model_SVM 和 Model_ANN 之间的p值为0.4518**\n",
    "\n",
    "- **含义**：p值大于0.05，表示支持向量机模型（Model_SVM）和人工神经网络模型（Model_ANN）的AUC之间没有统计学上显著的差异。\n",
    "- **结论**：这意味着这两个模型的性能在统计学上没有显著区别，它们在预测活性和非活性化合物方面的效果类似。"
   ],
   "id": "924c17a73dcfdb6d"
  },
  {
   "metadata": {},
   "cell_type": "markdown",
   "source": "# 额外增加GNN,CNN模型",
   "id": "4cec0cb00552fb8d"
  },
  {
   "metadata": {
    "ExecuteTime": {
     "end_time": "2024-10-08T03:00:16.486806Z",
     "start_time": "2024-10-08T03:00:03.987072Z"
    }
   },
   "cell_type": "code",
   "source": [
    "import tensorflow as tf\n",
    "from tensorflow.keras import layers, models as keras_models\n",
    "\n",
    "# 准备数据\n",
    "import numpy as np\n",
    "\n",
    "# 将指纹转换为 numpy 数组并重塑\n",
    "def prepare_cnn_data(fingerprints):\n",
    "    X = np.array(fingerprints)\n",
    "    # 重塑为二维方阵（例如，32x32）\n",
    "    size = int(np.ceil(np.sqrt(X.shape[1])))\n",
    "    X_padded = np.zeros((X.shape[0], size * size))\n",
    "    X_padded[:, :X.shape[1]] = X\n",
    "    X_images = X_padded.reshape(-1, size, size, 1)\n",
    "    return X_images\n",
    "\n",
    "train_x_cnn = prepare_cnn_data(static_train_x)\n",
    "test_x_cnn = prepare_cnn_data(static_test_x)\n",
    "train_y_cnn = np.array(static_train_y)\n",
    "test_y_cnn = np.array(static_test_y)\n",
    "\n",
    "# 构建 CNN 模型\n",
    "cnn_model = keras_models.Sequential([\n",
    "    layers.Conv2D(32, (3, 3), activation='relu', input_shape=(train_x_cnn.shape[1], train_x_cnn.shape[2], 1)),\n",
    "    layers.MaxPooling2D((2, 2)),\n",
    "    layers.Conv2D(64, (3, 3), activation='relu'),\n",
    "    layers.Flatten(),\n",
    "    layers.Dense(64, activation='relu'),\n",
    "    layers.Dense(1, activation='sigmoid')\n",
    "])\n",
    "\n",
    "cnn_model.compile(optimizer='adam', loss='binary_crossentropy', metrics=['AUC'])\n",
    "\n",
    "# 训练 CNN 模型\n",
    "cnn_model.fit(train_x_cnn, train_y_cnn, epochs=10, batch_size=32, validation_data=(test_x_cnn, test_y_cnn))\n",
    "\n",
    "# 评估 CNN 模型\n",
    "cnn_probs = cnn_model.predict(test_x_cnn).ravel()\n",
    "cnn_auc = roc_auc_score(test_y_cnn, cnn_probs)\n",
    "print(f\"CNN Model AUC: {cnn_auc:.4f}\")\n",
    "\n",
    "# 将 CNN 模型添加到 model_list 列表\n",
    "model_list.append({'label': 'Model_CNN', 'model': cnn_model})\n",
    "\n",
    "# 更新绘图函数以处理 Keras 模型\n",
    "def plot_roc_curves_for_models(model_list, test_x, test_y, save_png=False):\n",
    "    fig, ax = plt.subplots()\n",
    "\n",
    "    for model in model_list:\n",
    "        label = model['label']\n",
    "        ml_model = model['model']\n",
    "        if label == 'Model_CNN':\n",
    "            # 为 CNN 准备测试数据\n",
    "            test_x_cnn = prepare_cnn_data(test_x)\n",
    "            test_prob = ml_model.predict(test_x_cnn).ravel()\n",
    "            test_pred = (test_prob >= 0.5).astype(int)\n",
    "        else:\n",
    "            test_prob = ml_model.predict_proba(test_x)[:, 1]\n",
    "            test_pred = ml_model.predict(test_x)\n",
    "        fpr, tpr, thresholds = metrics.roc_curve(test_y, test_prob)\n",
    "        auc_score = roc_auc_score(test_y, test_prob)\n",
    "        ax.plot(fpr, tpr, label=(f\"{label} AUC = {auc_score:.2f}\"))\n",
    "\n",
    "    ax.plot([0, 1], [0, 1], \"r--\")\n",
    "    ax.set_xlabel(\"False Positive Rate\")\n",
    "    ax.set_ylabel(\"True Positive Rate\")\n",
    "    ax.set_title(\"Receiver Operating Characteristic\")\n",
    "    ax.legend(loc=\"lower right\")\n",
    "    if save_png:\n",
    "        fig.savefig(f\"{DATA}/roc_auc\", dpi=300, bbox_inches=\"tight\", transparent=True)\n",
    "    plt.show()\n",
    "\n",
    "# 绘制包含 CNN 模型的 ROC 曲线\n",
    "plot_roc_curves_for_models(model_list, static_test_x, static_test_y)\n"
   ],
   "id": "487011a39b629000",
   "outputs": [
    {
     "name": "stderr",
     "output_type": "stream",
     "text": [
      "2024-10-08 11:00:10.703956: I tensorflow/core/platform/cpu_feature_guard.cc:182] This TensorFlow binary is optimized to use available CPU instructions in performance-critical operations.\n",
      "To enable the following instructions: AVX2 FMA, in other operations, rebuild TensorFlow with the appropriate compiler flags.\n"
     ]
    },
    {
     "name": "stdout",
     "output_type": "stream",
     "text": [
      "Epoch 1/10\n",
      "44/44 [==============================] - 1s 7ms/step - loss: 0.5503 - auc: 0.6602 - val_loss: 0.5181 - val_auc: 0.7941\n",
      "Epoch 2/10\n",
      "44/44 [==============================] - 0s 3ms/step - loss: 0.4774 - auc: 0.7803 - val_loss: 0.4636 - val_auc: 0.8200\n",
      "Epoch 3/10\n",
      "44/44 [==============================] - 0s 3ms/step - loss: 0.4281 - auc: 0.8337 - val_loss: 0.4393 - val_auc: 0.8380\n",
      "Epoch 4/10\n",
      "44/44 [==============================] - 0s 3ms/step - loss: 0.3899 - auc: 0.8662 - val_loss: 0.4088 - val_auc: 0.8574\n",
      "Epoch 5/10\n",
      "44/44 [==============================] - 0s 3ms/step - loss: 0.3712 - auc: 0.8787 - val_loss: 0.4076 - val_auc: 0.8617\n",
      "Epoch 6/10\n",
      "44/44 [==============================] - 0s 3ms/step - loss: 0.3445 - auc: 0.8981 - val_loss: 0.4047 - val_auc: 0.8638\n",
      "Epoch 7/10\n",
      "44/44 [==============================] - 0s 3ms/step - loss: 0.3273 - auc: 0.9103 - val_loss: 0.4086 - val_auc: 0.8709\n",
      "Epoch 8/10\n",
      "44/44 [==============================] - 0s 3ms/step - loss: 0.3195 - auc: 0.9137 - val_loss: 0.4227 - val_auc: 0.8777\n",
      "Epoch 9/10\n",
      "44/44 [==============================] - 0s 3ms/step - loss: 0.3196 - auc: 0.9121 - val_loss: 0.3825 - val_auc: 0.8836\n",
      "Epoch 10/10\n",
      "44/44 [==============================] - 0s 3ms/step - loss: 0.2970 - auc: 0.9259 - val_loss: 0.3686 - val_auc: 0.8892\n",
      "11/11 [==============================] - 0s 1ms/step\n",
      "CNN Model AUC: 0.8887\n",
      "11/11 [==============================] - 0s 1ms/step\n"
     ]
    },
    {
     "data": {
      "text/plain": [
       "<Figure size 640x480 with 1 Axes>"
      ],
      "image/png": "[encoded data removed]"
     },
     "metadata": {},
     "output_type": "display_data"
    }
   ],
   "execution_count": 25
  },
  {
   "metadata": {},
   "cell_type": "markdown",
   "source": [
    "## 实现GNN模型\n",
    "实现一个GNN需要将分子转换为图表示。我们将使用DGL (深度图库)来实现这个目的。"
   ],
   "id": "48e706a5afd9ff68"
  },
  {
   "metadata": {
    "jupyter": {
     "is_executing": true
    },
    "ExecuteTime": {
     "start_time": "2024-10-08T03:06:06.816654Z"
    }
   },
   "cell_type": "code",
   "source": [
    "import dgl\n",
    "import torch\n",
    "from torch import nn\n",
    "from torch.nn import functional as F\n",
    "from dgl.nn.pytorch import GraphConv\n",
    "from rdkit import Chem\n",
    "from sklearn.metrics import roc_auc_score\n",
    "from torch.utils.data import DataLoader\n",
    "import numpy as np\n",
    "import matplotlib.pyplot as plt\n",
    "\n",
    "# 定义将 SMILES 转换为 DGL 图的函数\n",
    "def mol_to_dgl_graph(smiles):\n",
    "    mol = Chem.MolFromSmiles(smiles)\n",
    "    if mol is None:\n",
    "        return None  # 处理无效的 SMILES\n",
    "    # 创建图，指定节点数量\n",
    "    num_atoms = mol.GetNumAtoms()\n",
    "    if num_atoms == 0:\n",
    "        return None  # 跳过没有原子的分子\n",
    "    g = dgl.graph(([], []), num_nodes=num_atoms)\n",
    "    # 添加边\n",
    "    src = []\n",
    "    dst = []\n",
    "    for bond in mol.GetBonds():\n",
    "        u = bond.GetBeginAtomIdx()\n",
    "        v = bond.GetEndAtomIdx()\n",
    "        src += [u, v]\n",
    "        dst += [v, u]\n",
    "    g.add_edges(src, dst)\n",
    "    # 添加自环\n",
    "    g = dgl.add_self_loop(g)\n",
    "    # 节点特征（原子序数）\n",
    "    atom_features = []\n",
    "    for atom in mol.GetAtoms():\n",
    "        atom_features.append(atom.GetAtomicNum())\n",
    "    g.ndata['h'] = torch.tensor(atom_features).reshape(-1, 1).float()\n",
    "    return g\n",
    "\n",
    "# 定义准备 GNN 数据的函数\n",
    "def prepare_gnn_data(smiles_list, labels):\n",
    "    graphs = []\n",
    "    valid_labels = []\n",
    "    for smi, label in zip(smiles_list, labels):\n",
    "        graph = mol_to_dgl_graph(smi)\n",
    "        if graph is not None:\n",
    "            graphs.append(graph)\n",
    "            valid_labels.append(label)\n",
    "    labels_tensor = torch.tensor(valid_labels).float()\n",
    "    return graphs, labels_tensor\n",
    "\n",
    "# 获取指纹和标签列表\n",
    "fingerprint_to_model = compound_df['fp'].tolist()\n",
    "label_to_model = compound_df['active'].tolist()\n",
    "\n",
    "# 获取数据的索引\n",
    "indices = np.arange(len(compound_df))\n",
    "\n",
    "# 使用索引进行拆分\n",
    "from sklearn.model_selection import train_test_split\n",
    "\n",
    "train_indices, test_indices = train_test_split(indices, test_size=0.2, random_state=SEED)\n",
    "\n",
    "# 获取训练和测试集的指纹和标签\n",
    "static_train_x = [fingerprint_to_model[i] for i in train_indices]\n",
    "static_train_y = [label_to_model[i] for i in train_indices]\n",
    "\n",
    "static_test_x = [fingerprint_to_model[i] for i in test_indices]\n",
    "static_test_y = [label_to_model[i] for i in test_indices]\n",
    "\n",
    "# 获取训练和测试集的 SMILES 字符串\n",
    "train_smiles = compound_df.iloc[train_indices]['smiles'].tolist()\n",
    "test_smiles = compound_df.iloc[test_indices]['smiles'].tolist()\n",
    "\n",
    "# 准备 GNN 数据\n",
    "train_graphs, train_labels = prepare_gnn_data(train_smiles, static_train_y)\n",
    "test_graphs, test_labels = prepare_gnn_data(test_smiles, static_test_y)\n",
    "\n",
    "# 创建 DataLoader\n",
    "class GraphDataset(torch.utils.data.Dataset):\n",
    "    def __init__(self, graphs, labels):\n",
    "        self.graphs = graphs\n",
    "        self.labels = labels\n",
    "\n",
    "    def __getitem__(self, idx):\n",
    "        return self.graphs[idx], self.labels[idx]\n",
    "\n",
    "    def __len__(self):\n",
    "        return len(self.graphs)\n",
    "\n",
    "def collate(samples):\n",
    "    graphs, labels = map(list, zip(*samples))\n",
    "    batched_graph = dgl.batch(graphs)\n",
    "    labels = torch.tensor(labels)\n",
    "    return batched_graph, labels\n",
    "\n",
    "train_data = GraphDataset(train_graphs, train_labels)\n",
    "test_data = GraphDataset(test_graphs, test_labels)\n",
    "\n",
    "train_loader = DataLoader(train_data, batch_size=32, shuffle=True, collate_fn=collate)\n",
    "test_loader = DataLoader(test_data, batch_size=32, shuffle=False, collate_fn=collate)\n",
    "\n",
    "# 定义 GNN 模型\n",
    "class GNNClassifier(nn.Module):\n",
    "    def __init__(self, in_feats, hidden_size, num_classes):\n",
    "        super(GNNClassifier, self).__init__()\n",
    "        self.conv1 = GraphConv(in_feats, hidden_size)\n",
    "        self.conv2 = GraphConv(hidden_size, hidden_size)\n",
    "        self.classify = nn.Linear(hidden_size, num_classes)\n",
    "\n",
    "    def forward(self, g):\n",
    "        h = g.ndata['h']  # h 的形状为 (num_nodes, in_feats)\n",
    "        h = F.relu(self.conv1(g, h))  # h 的形状为 (num_nodes, hidden_size)\n",
    "        h = F.relu(self.conv2(g, h))  # h 的形状为 (num_nodes, hidden_size)\n",
    "        g.ndata['h'] = h  # 更新节点特征\n",
    "        hg = dgl.mean_nodes(g, 'h')  # hg 的形状为 (batch_size, hidden_size)\n",
    "        return self.classify(hg)  # 输出形状为 (batch_size, num_classes)\n",
    "\n",
    "# 实例化模型\n",
    "model_gnn = GNNClassifier(in_feats=1, hidden_size=64, num_classes=1)\n",
    "\n",
    "# 定义优化器和损失函数\n",
    "optimizer = torch.optim.Adam(model_gnn.parameters(), lr=0.001)\n",
    "loss_fn = nn.BCEWithLogitsLoss()\n",
    "\n",
    "# 训练模型\n",
    "num_epochs = 10\n",
    "for epoch in range(num_epochs):\n",
    "    model_gnn.train()\n",
    "    epoch_loss = 0\n",
    "    for batched_graph, labels in train_loader:\n",
    "        pred = model_gnn(batched_graph).squeeze()\n",
    "        loss = loss_fn(pred, labels)\n",
    "        optimizer.zero_grad()\n",
    "        loss.backward()\n",
    "        optimizer.step()\n",
    "        epoch_loss += loss.detach().item()\n",
    "    print(f\"Epoch {epoch+1}, Loss {epoch_loss/len(train_loader):.4f}\")\n",
    "\n",
    "# 评估 GNN 模型\n",
    "model_gnn.eval()\n",
    "all_preds = []\n",
    "all_labels = []\n",
    "with torch.no_grad():\n",
    "    for batched_graph, labels in test_loader:\n",
    "        pred = model_gnn(batched_graph).squeeze()\n",
    "        probs = torch.sigmoid(pred)\n",
    "        all_preds.extend(probs.numpy())\n",
    "        all_labels.extend(labels.numpy())\n",
    "\n",
    "from sklearn.metrics import roc_auc_score\n",
    "\n",
    "gnn_auc = roc_auc_score(all_labels, all_preds)\n",
    "print(f\"GNN Model AUC: {gnn_auc:.4f}\")\n",
    "\n",
    "# 将 GNN 模型添加到模型列表\n",
    "model_list.append({'label': 'Model_GNN', 'model': model_gnn})\n",
    "\n",
    "# 更新绘制 ROC 曲线的函数\n",
    "def plot_roc_curves_for_models(model_list, test_x, test_y, save_png=False):\n",
    "    fig, ax = plt.subplots()\n",
    "\n",
    "    for model in model_list:\n",
    "        label = model['label']\n",
    "        ml_model = model['model']\n",
    "        if label == 'Model_CNN':\n",
    "            # 为 CNN 准备测试数据\n",
    "            test_x_cnn = prepare_cnn_data(test_x)\n",
    "            test_prob = ml_model.predict(test_x_cnn).ravel()\n",
    "            test_pred = (test_prob >= 0.5).astype(int)\n",
    "        elif label == 'Model_GNN':\n",
    "            # 为 GNN 模型获取预测概率\n",
    "            all_preds = []\n",
    "            with torch.no_grad():\n",
    "                for batched_graph, labels in test_loader:\n",
    "                    pred = ml_model(batched_graph).squeeze()\n",
    "                    probs = torch.sigmoid(pred)\n",
    "                    all_preds.extend(probs.numpy())\n",
    "            test_prob = np.array(all_preds)\n",
    "            test_pred = (test_prob >= 0.5).astype(int)\n",
    "        else:\n",
    "            test_prob = ml_model.predict_proba(test_x)[:, 1]\n",
    "            test_pred = ml_model.predict(test_x)\n",
    "        fpr, tpr, thresholds = metrics.roc_curve(test_y[:len(test_prob)], test_prob)\n",
    "        auc_score = roc_auc_score(test_y[:len(test_prob)], test_prob)\n",
    "        ax.plot(fpr, tpr, label=(f\"{label} AUC = {auc_score:.2f}\"))\n",
    "\n",
    "    ax.plot([0, 1], [0, 1], \"r--\")\n",
    "    ax.set_xlabel(\"False Positive Rate\")\n",
    "    ax.set_ylabel(\"True Positive Rate\")\n",
    "    ax.set_title(\"Receiver Operating Characteristic\")\n",
    "    ax.legend(loc=\"lower right\")\n",
    "    if save_png:\n",
    "        fig.savefig(f\"{DATA}/roc_auc\", dpi=300, bbox_inches=\"tight\", transparent=True)\n",
    "    plt.show()\n",
    "\n",
    "# 绘制包含 GNN 模型的 ROC 曲线\n",
    "plot_roc_curves_for_models(model_list, static_test_x, static_test_y)\n"
   ],
   "id": "fde975e55bee1ee3",
   "outputs": [],
   "execution_count": null
  },
  {
   "metadata": {},
   "cell_type": "markdown",
   "source": "",
   "id": "a17439788873e73"
  },
  {
   "metadata": {
    "ExecuteTime": {
     "end_time": "2024-10-07T16:33:07.846186Z",
     "start_time": "2024-10-07T16:33:07.839163Z"
    }
   },
   "cell_type": "code",
   "source": [
    "def crossvalidation(ml_model, df, n_folds=5, verbose=False):\n",
    "    \"\"\"\n",
    "    Machine learning model training and validation in a cross-validation loop.\n",
    "\n",
    "    Parameters\n",
    "    ----------\n",
    "    ml_model: sklearn model object\n",
    "        The machine learning model to train.\n",
    "    df: pd.DataFrame\n",
    "        Data set with SMILES and their associated activity labels.\n",
    "    n_folds: int, optional\n",
    "        Number of folds for cross-validation.\n",
    "    verbose: bool, optional\n",
    "        Performance measures are printed.\n",
    "\n",
    "    Returns\n",
    "    -------\n",
    "    None\n",
    "\n",
    "    \"\"\"\n",
    "    t0 = time.time()\n",
    "    # Shuffle the indices for the k-fold cross-validation\n",
    "    kf = KFold(n_splits=n_folds, shuffle=True, random_state=SEED)\n",
    "\n",
    "    # Results for each of the cross-validation folds\n",
    "    acc_per_fold = []\n",
    "    sens_per_fold = []\n",
    "    spec_per_fold = []\n",
    "    auc_per_fold = []\n",
    "\n",
    "    # Loop over the folds\n",
    "    for train_index, test_index in kf.split(df):\n",
    "        # clone model -- we want a fresh copy per fold!\n",
    "        fold_model = clone(ml_model)\n",
    "        # Training\n",
    "\n",
    "        # Convert the fingerprint and the label to a list\n",
    "        train_x = df.iloc[train_index].fp.tolist()\n",
    "        train_y = df.iloc[train_index].active.tolist()\n",
    "\n",
    "        # Fit the model\n",
    "        fold_model.fit(train_x, train_y)\n",
    "\n",
    "        # Testing\n",
    "\n",
    "        # Convert the fingerprint and the label to a list\n",
    "        test_x = df.iloc[test_index].fp.tolist()\n",
    "        test_y = df.iloc[test_index].active.tolist()\n",
    "\n",
    "        # Performance for each fold\n",
    "        accuracy, sens, spec, auc = model_performance(fold_model, test_x, test_y, verbose)\n",
    "\n",
    "        # Save results\n",
    "        acc_per_fold.append(accuracy)\n",
    "        sens_per_fold.append(sens)\n",
    "        spec_per_fold.append(spec)\n",
    "        auc_per_fold.append(auc)\n",
    "\n",
    "    # Print statistics of results\n",
    "    print(\n",
    "        f\"Mean accuracy: {np.mean(acc_per_fold):.2f} \\t\"\n",
    "        f\"and std : {np.std(acc_per_fold):.2f} \\n\"\n",
    "        f\"Mean sensitivity: {np.mean(sens_per_fold):.2f} \\t\"\n",
    "        f\"and std : {np.std(sens_per_fold):.2f} \\n\"\n",
    "        f\"Mean specificity: {np.mean(spec_per_fold):.2f} \\t\"\n",
    "        f\"and std : {np.std(spec_per_fold):.2f} \\n\"\n",
    "        f\"Mean AUC: {np.mean(auc_per_fold):.2f} \\t\"\n",
    "        f\"and std : {np.std(auc_per_fold):.2f} \\n\"\n",
    "        f\"Time taken : {time.time() - t0:.2f}s\\n\"\n",
    "    )\n",
    "\n",
    "    return acc_per_fold, sens_per_fold, spec_per_fold, auc_per_fold"
   ],
   "id": "96e43cb87166c37",
   "outputs": [],
   "execution_count": 76
  },
  {
   "metadata": {},
   "cell_type": "markdown",
   "source": [
    "交叉验证\n",
    "\n",
    "我们现在应用交叉验证并展示所有三个机器学习模型的统计数据。在实际情况下，交叉验证通常应用 5 折或更多，但为了性能，我们将它减少到 3 折。您可以在下面的单元格中更改 N_FOLDS 的值。"
   ],
   "id": "71baf3cede2f2935"
  },
  {
   "metadata": {
    "ExecuteTime": {
     "end_time": "2024-10-07T16:33:22.274976Z",
     "start_time": "2024-10-07T16:33:22.272169Z"
    }
   },
   "cell_type": "code",
   "source": "N_FOLDS = 3",
   "id": "fee609fe2e8ba6ea",
   "outputs": [],
   "execution_count": 77
  },
  {
   "metadata": {},
   "cell_type": "markdown",
   "source": "注意：下一个单元格执行时间较长",
   "id": "bb59e7c6959d8438"
  },
  {
   "metadata": {
    "ExecuteTime": {
     "end_time": "2024-10-07T16:33:37.849922Z",
     "start_time": "2024-10-07T16:33:33.766755Z"
    }
   },
   "cell_type": "code",
   "source": [
    "for model in model_list:\n",
    "    print(\"\\n======= \")\n",
    "    print(f\"{model['label']}\")\n",
    "    crossvalidation(model[\"model\"], compound_df, n_folds=N_FOLDS)"
   ],
   "id": "78a2842c1716bbad",
   "outputs": [
    {
     "name": "stdout",
     "output_type": "stream",
     "text": [
      "\n",
      "======= \n",
      "Model_RF\n",
      "Mean accuracy: 0.87 \tand std : 0.01 \n",
      "Mean sensitivity: 0.74 \tand std : 0.07 \n",
      "Mean specificity: 0.93 \tand std : 0.01 \n",
      "Mean AUC: 0.90 \tand std : 0.02 \n",
      "Time taken : 0.57s\n",
      "\n",
      "\n",
      "======= \n",
      "Model_SVM\n",
      "Mean accuracy: 0.88 \tand std : 0.01 \n",
      "Mean sensitivity: 0.69 \tand std : 0.05 \n",
      "Mean specificity: 0.95 \tand std : 0.02 \n",
      "Mean AUC: 0.89 \tand std : 0.02 \n",
      "Time taken : 1.76s\n",
      "\n",
      "\n",
      "======= \n",
      "Model_ANN\n",
      "Mean accuracy: 0.84 \tand std : 0.01 \n",
      "Mean sensitivity: 0.64 \tand std : 0.02 \n",
      "Mean specificity: 0.92 \tand std : 0.02 \n",
      "Mean AUC: 0.87 \tand std : 0.01 \n",
      "Time taken : 1.75s\n",
      "\n"
     ]
    }
   ],
   "execution_count": 78
  },
  {
   "metadata": {},
   "cell_type": "markdown",
   "source": "我们查看使用 Morgan 指纹编码的分子而非 MACCS 键的交叉验证性能。",
   "id": "3a6d6f3e4df7e548"
  },
  {
   "metadata": {
    "ExecuteTime": {
     "end_time": "2024-10-07T16:33:48.766979Z",
     "start_time": "2024-10-07T16:33:48.762480Z"
    }
   },
   "cell_type": "code",
   "source": [
    "# Reset data frame\n",
    "compound_df = chembl_df.copy()"
   ],
   "id": "399288d6fea5749b",
   "outputs": [],
   "execution_count": 79
  },
  {
   "metadata": {
    "ExecuteTime": {
     "end_time": "2024-10-07T16:34:00.602842Z",
     "start_time": "2024-10-07T16:33:55.448820Z"
    }
   },
   "cell_type": "code",
   "source": [
    "# Use Morgan fingerprint with radius 3\n",
    "compound_df[\"fp\"] = compound_df[\"smiles\"].apply(smiles_to_fp, args=(\"morgan3\",))\n",
    "compound_df.head(3)"
   ],
   "id": "7ac30cf591a4dc9a",
   "outputs": [
    {
     "data": {
      "text/plain": [
       "  molecule_chembl_id                                             smiles  \\\n",
       "0      CHEMBL3685304  C[C@@H](Nc1ncnc2c(C(N)=O)cccc12)c1cccc(NC(=O)c...   \n",
       "1      CHEMBL4443279       Fc1ccccc1Oc1nc(Nc2ccc(-c3nnn[nH]3)cc2)ncc1Cl   \n",
       "2      CHEMBL4462759    COc1ccc(Oc2nc(Nc3ccc(-c4nnn[nH]4)cc3)ncc2Cl)cc1   \n",
       "\n",
       "       pIC50  active                                                 fp  \n",
       "0  11.000000     1.0  [0, 1, 0, 0, 0, 0, 0, 0, 0, 0, 0, 0, 0, 0, 0, ...  \n",
       "1  10.920819     1.0  [0, 0, 0, 0, 0, 0, 0, 0, 0, 0, 0, 0, 0, 0, 1, ...  \n",
       "2  10.920819     1.0  [0, 0, 0, 0, 0, 0, 0, 0, 0, 0, 0, 0, 0, 0, 1, ...  "
      ],
      "text/html": [
       "<div>\n",
       "<style scoped>\n",
       "    .dataframe tbody tr th:only-of-type {\n",
       "        vertical-align: middle;\n",
       "    }\n",
       "\n",
       "    .dataframe tbody tr th {\n",
       "        vertical-align: top;\n",
       "    }\n",
       "\n",
       "    .dataframe thead th {\n",
       "        text-align: right;\n",
       "    }\n",
       "</style>\n",
       "<table border=\"1\" class=\"dataframe\">\n",
       "  <thead>\n",
       "    <tr style=\"text-align: right;\">\n",
       "      <th></th>\n",
       "      <th>molecule_chembl_id</th>\n",
       "      <th>smiles</th>\n",
       "      <th>pIC50</th>\n",
       "      <th>active</th>\n",
       "      <th>fp</th>\n",
       "    </tr>\n",
       "  </thead>\n",
       "  <tbody>\n",
       "    <tr>\n",
       "      <th>0</th>\n",
       "      <td>CHEMBL3685304</td>\n",
       "      <td>C[C@@H](Nc1ncnc2c(C(N)=O)cccc12)c1cccc(NC(=O)c...</td>\n",
       "      <td>11.000000</td>\n",
       "      <td>1.0</td>\n",
       "      <td>[0, 1, 0, 0, 0, 0, 0, 0, 0, 0, 0, 0, 0, 0, 0, ...</td>\n",
       "    </tr>\n",
       "    <tr>\n",
       "      <th>1</th>\n",
       "      <td>CHEMBL4443279</td>\n",
       "      <td>Fc1ccccc1Oc1nc(Nc2ccc(-c3nnn[nH]3)cc2)ncc1Cl</td>\n",
       "      <td>10.920819</td>\n",
       "      <td>1.0</td>\n",
       "      <td>[0, 0, 0, 0, 0, 0, 0, 0, 0, 0, 0, 0, 0, 0, 1, ...</td>\n",
       "    </tr>\n",
       "    <tr>\n",
       "      <th>2</th>\n",
       "      <td>CHEMBL4462759</td>\n",
       "      <td>COc1ccc(Oc2nc(Nc3ccc(-c4nnn[nH]4)cc3)ncc2Cl)cc1</td>\n",
       "      <td>10.920819</td>\n",
       "      <td>1.0</td>\n",
       "      <td>[0, 0, 0, 0, 0, 0, 0, 0, 0, 0, 0, 0, 0, 0, 1, ...</td>\n",
       "    </tr>\n",
       "  </tbody>\n",
       "</table>\n",
       "</div>"
      ]
     },
     "execution_count": 80,
     "metadata": {},
     "output_type": "execute_result"
    }
   ],
   "execution_count": 80
  },
  {
   "metadata": {},
   "cell_type": "markdown",
   "source": "注意：下一个单元格执行时间较长",
   "id": "8844932b567dc62e"
  },
  {
   "metadata": {
    "ExecuteTime": {
     "end_time": "2024-10-07T16:35:13.597089Z",
     "start_time": "2024-10-07T16:34:39.372199Z"
    }
   },
   "cell_type": "code",
   "source": [
    "for model in model_list:\n",
    "    if model[\"label\"] == \"Model_SVM\":\n",
    "        # SVM is super slow with long fingerprints\n",
    "        # and will have a performance similar to RF\n",
    "        # We can skip it in this test, but if you want\n",
    "        # to run it, feel free to replace `continue` with `pass`\n",
    "        pass\n",
    "    print(\"\\n=======\")\n",
    "    print(model[\"label\"])\n",
    "    crossvalidation(model[\"model\"], compound_df, n_folds=N_FOLDS)"
   ],
   "id": "622c0af632c68be5",
   "outputs": [
    {
     "name": "stdout",
     "output_type": "stream",
     "text": [
      "\n",
      "=======\n",
      "Model_RF\n",
      "Mean accuracy: 0.89 \tand std : 0.01 \n",
      "Mean sensitivity: 0.73 \tand std : 0.05 \n",
      "Mean specificity: 0.95 \tand std : 0.01 \n",
      "Mean AUC: 0.93 \tand std : 0.01 \n",
      "Time taken : 1.69s\n",
      "\n",
      "\n",
      "=======\n",
      "Model_SVM\n",
      "Mean accuracy: 0.80 \tand std : 0.01 \n",
      "Mean sensitivity: 0.31 \tand std : 0.03 \n",
      "Mean specificity: 0.98 \tand std : 0.01 \n",
      "Mean AUC: 0.91 \tand std : 0.02 \n",
      "Time taken : 28.03s\n",
      "\n",
      "\n",
      "=======\n",
      "Model_ANN\n",
      "Mean accuracy: 0.85 \tand std : 0.01 \n",
      "Mean sensitivity: 0.69 \tand std : 0.04 \n",
      "Mean specificity: 0.91 \tand std : 0.02 \n",
      "Mean AUC: 0.89 \tand std : 0.01 \n",
      "Time taken : 4.50s\n",
      "\n"
     ]
    }
   ],
   "execution_count": 81
  },
  {
   "metadata": {
    "ExecuteTime": {
     "end_time": "2024-10-07T16:38:57.219320Z",
     "start_time": "2024-10-07T16:38:57.114521Z"
    }
   },
   "cell_type": "code",
   "source": [
    "# 保存过滤后的结果\n",
    "compound_df.to_csv(f\"{DATA}/filtered_chembl_data.csv\", index=False)"
   ],
   "id": "6255ce636ad0a66f",
   "outputs": [],
   "execution_count": 82
  },
  {
   "metadata": {
    "ExecuteTime": {
     "end_time": "2024-10-07T16:40:05.014262Z",
     "start_time": "2024-10-07T16:40:04.978133Z"
    }
   },
   "cell_type": "code",
   "source": [
    "# 保存PIC50大于8.0的化合物\n",
    "compound_df[compound_df.pIC50 >= 8.0].to_csv(f\"{DATA}/pic50_greater_8.0.csv\", index=False)"
   ],
   "id": "f7dd628e2eee9133",
   "outputs": [],
   "execution_count": 84
  },
  {
   "metadata": {},
   "cell_type": "code",
   "outputs": [],
   "execution_count": null,
   "source": "",
   "id": "e163b8827b0de122"
  }
 ],
 "metadata": {
  "kernelspec": {
   "display_name": "Python 3",
   "language": "python",
   "name": "python3"
  },
  "language_info": {
   "codemirror_mode": {
    "name": "ipython",
    "version": 2
   },
   "file_extension": ".py",
   "mimetype": "text/x-python",
   "name": "python",
   "nbconvert_exporter": "python",
   "pygments_lexer": "ipython2",
   "version": "2.7.6"
  }
 },
 "nbformat": 4,
 "nbformat_minor": 5
}

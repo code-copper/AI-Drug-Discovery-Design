{
 "cells": [
  {
   "cell_type": "markdown",
   "id": "a1c9e53b069943d5",
   "metadata": {
    "collapsed": false,
    "jupyter": {
     "outputs_hidden": false
    }
   },
   "source": [
    "# 02_分子过滤：ADMET 和先导化合物相似标准\n",
    "## 在药物设计的背景下，通过候选分子的物理化学特性来过滤候选分子非常重要。本次，从 ChEMBL ( 01_讲解的内容 ) 获得的化合物将按照 Lipinsik 的五法则进行过滤，以仅保留口服生物可利用的化合物。"
   ]
  },
  {
   "cell_type": "markdown",
   "id": "62221742-bb5f-41b6-aefe-d9fd44a63954",
   "metadata": {},
   "source": [
    "- ADMET——吸收、分布、代谢、排泄和毒性\n",
    "- 先导化合物相似标准和 Lipinsik 五法则 (Ro5)\n",
    "- 先导化合物相似标准情况下的雷达图"
   ]
  },
  {
   "cell_type": "markdown",
   "id": "04352d2c-f5af-4ce7-9506-6468af9e7ce5",
   "metadata": {},
   "source": [
    "- 定义并可视化示例分子\n",
    "- 计算并绘制Ro5的分子性质\n",
    "- 考察Ro5的符合性\n",
    "- 将Ro5应用于EGFR数据集\n",
    "- 可视化Ro5属性(雷达图)"
   ]
  },
  {
   "cell_type": "markdown",
   "id": "26841789-caf8-4455-a7b0-cebe1aaa9ed5",
   "metadata": {},
   "source": [
    "***在虚拟筛选中，我们的目的是预测一个化合物是否可能与特定的靶标结合并相互作用。然而，如果我们想要鉴定一种新的药物，同样重要的是这种化合物到达靶标并最终以有利的方式从体内移除。因此，我们也应该考虑一个化合物是否真正被摄入体内，是否能够跨越一定的障碍，从而达到它的目标。一旦它不再作用于靶点，它在代谢上是否稳定以及如何排泄?这些过程在药代动力学领域中被研究。与药效学( \"药物对我们的身体有什么作用? \")不同，药代动力学处理的是\"药物在我们体内发生了什么? \"的问题。***"
   ]
  },
  {
   "cell_type": "markdown",
   "id": "ce0dedbe-b7c4-4004-bdfe-10b06b83fcd9",
   "metadata": {},
   "source": [
    "## （1）ADMET - -吸收、分布、代谢、排泄和毒性\n",
    "药动学主要分为吸收、分布、代谢和排泄4个步骤。这些被概括为ADME。通常，ADME还包括毒理学，因此被称为ADMET或ADMETox。下面将更详细地讨论ADME步骤：\n",
    "- 吸收：药物进入体内的量和时间取决于多种因素，这些因素因人而异，因人而异，也因物质的性质而异。化合物的溶解度(差)、胃排空时间、肠道转运时间、在胃中的化学( in - )稳定性、渗透肠壁的( in - )能力等因素都会影响药物在口服、吸入或接触皮肤后的吸收程度。\n",
    "- 分布：吸收的物质，即在体内，在血液和不同组织之间以及穿越血脑屏障的分布受区域血流速度、化合物的分子大小和极性以及与血清蛋白和转运酶结合的影响。在毒理学方面的关键影响可能是高度非极性物质在脂肪组织中的积累，或穿越血脑屏障。\n",
    "- 代谢：化合物进入体内后，会发生代谢。这意味着该化合物只有一部分能真正达到目标。主要是肝脏和肾脏酶负责分解外源物(是身体外在的物质)。\n",
    "- 排泄：化合物及其代谢物需要通过排泄从体内排出，通常通过肾脏(尿液)或粪便排出。排泄不完全可导致外源物质蓄积或对正常代谢产生不利干扰。\n",
    "- 毒性：Toxicity：药物对机体的毒性"
   ]
  },
  {
   "cell_type": "markdown",
   "id": "ef8ae708-9ad7-4238-8cd4-72f4e6a36f78",
   "metadata": {},
   "source": [
    "## （2）类先导性和Lipinski五规则( Ro5 )\n",
    "### 先导化合物是具有良好性能的开发性候选药物。它被用作起始结构并进行修饰，目的是开发有效的药物。除了生物活性(化合物与感兴趣的靶标结合)外，良好的ADME性质也是设计有效药物的重要标准。\n",
    "### 化合物的生物利用度是一个重要的ADMET性质。引入Lipinski’s rule of five，仅根据化合物的化学结构来估计其生物利用度。Ro5指出如果化合物的化学结构违反下列规则之一以上，则该化合物吸收或渗透不良的可能性较大：\n",
    "- 分子量( MWT ) < = 500 Da  (这个名字叫做道尔顿，不要读错了哦！❤️)\n",
    "- 氢键受体数( HBAs ) < = 10\n",
    "- 氢键供体数目( HBD ) < = 5\n",
    "- 计算出Logp (octanol-water coefficient) < = 5\n",
    "\n",
    "！！⚠️ 注：Ro5中所有数字均为5的倍数；这就是该规则名称的由来。\n",
    "\n",
    "\n",
    "❤️补充说明：\n",
    "- LogP又称分配coefficient or octanol-water coefficient。它测量化合物的分布，通常在疏水性(e.g. 1-octanol)和亲水性(e.g. water)相之间。\n",
    "- 疏水性分子在水中的溶解度可能会降低，而更多的亲水性分子(例如,高数量的氢键受体和供体)或大分子(高分子量)在通过磷脂膜时可能会有更大的困难。"
   ]
  },
  {
   "cell_type": "markdown",
   "id": "2b06d734-0d61-47a2-8c76-77447ea5fb8e",
   "metadata": {},
   "source": [
    "## （3）类先导性下的雷达图\n",
    "- 分子性质，如Ro5性质，可以通过多种方式可视化(例如,craig plots, flower plots, or golden triangle图)，以支持药物化学家的解释"
   ]
  },
  {
   "cell_type": "markdown",
   "id": "c1f61671-b739-4f65-beb3-93d9d32b756f",
   "metadata": {},
   "source": [
    "### ❤️我们需要用到第一小节的数据，再第一小节里面的 data 文件夹里面\n",
    "- 保存最终的数据集\n",
    "- output_df.to_csv(DATA / \"bioactivities_compounds_VEGFR2.csv\", index=False)\n",
    "- 这一个数据文件：bioactivities_compounds_VEGFR2.csv"
   ]
  },
  {
   "cell_type": "markdown",
   "id": "f774f9ff-5b9b-4c81-8168-06a699a86241",
   "metadata": {},
   "source": []
  },
  {
   "cell_type": "code",
   "execution_count": 29,
   "id": "initial_id",
   "metadata": {
    "ExecuteTime": {
     "end_time": "2024-09-19T07:58:26.360761Z",
     "start_time": "2024-09-19T07:58:26.333968Z"
    },
    "collapsed": true,
    "jupyter": {
     "outputs_hidden": true
    }
   },
   "outputs": [],
   "source": [
    "from pathlib import Path\n",
    "import math\n",
    "\n",
    "import numpy as np\n",
    "import pandas as pd\n",
    "import matplotlib.pyplot as plt\n",
    "from matplotlib.lines import Line2D\n",
    "import matplotlib.patches as mpatches\n",
    "from rdkit import Chem\n",
    "from rdkit.Chem import Descriptors, Draw, PandasTools"
   ]
  },
  {
   "cell_type": "code",
   "execution_count": null,
   "id": "3f8c0039-0c7c-4580-97da-59555ef26e19",
   "metadata": {},
   "outputs": [],
   "source": []
  },
  {
   "cell_type": "code",
   "execution_count": 30,
   "id": "55588f5f757a0cc3",
   "metadata": {
    "ExecuteTime": {
     "end_time": "2024-09-19T07:58:26.561737Z",
     "start_time": "2024-09-19T07:58:26.507895Z"
    },
    "collapsed": false,
    "jupyter": {
     "outputs_hidden": false
    }
   },
   "outputs": [
    {
     "name": "stdout",
     "output_type": "stream",
     "text": [
      "/Users/wangyang/Desktop/AI-drug-design/list/02_Molecular_filtration_ADMET_lead_compound_similarity_criteria/data\n"
     ]
    }
   ],
   "source": [
    "from pathlib import Path\n",
    "import os\n",
    "\n",
    "# 获取当前工作目录\n",
    "HERE = Path(os.getcwd())\n",
    "DATA = HERE / 'data'\n",
    "if not DATA.exists():\n",
    "    DATA.mkdir(parents=True, exist_ok=True)\n",
    "print(DATA)\n"
   ]
  },
  {
   "cell_type": "markdown",
   "id": "fb462f7248fc9c8c",
   "metadata": {
    "collapsed": false,
    "jupyter": {
     "outputs_hidden": false
    }
   },
   "source": [
    "调查 Ro5 的合规性"
   ]
  },
  {
   "cell_type": "code",
   "execution_count": 31,
   "id": "3fe8af1d2465ce1b",
   "metadata": {
    "ExecuteTime": {
     "end_time": "2024-09-19T07:58:27.188526Z",
     "start_time": "2024-09-19T07:58:27.182667Z"
    },
    "collapsed": false,
    "jupyter": {
     "outputs_hidden": false
    }
   },
   "outputs": [],
   "source": [
    "def calculate_ro5_properties(smiles):\n",
    "    \"\"\"\n",
    "    测试输入分子（SMILES）是否符合利平斯基的五条规则。\n",
    "    参数\n",
    "    ----------\n",
    "    smiles : str\n",
    "    分子的 SMILES。\n",
    "    返回值\n",
    "    -------\n",
    "    pandas.Series\n",
    "    分子量、氢键受体/供体数量和 logP 值\n",
    "    以及输入分子的利平斯基五则符合性。\n",
    "    \"\"\"\n",
    "    # 来自 SMILES 的 RDKit 分子\n",
    "    molecule = Chem.MolFromSmiles(smiles)\n",
    "    # 计算与 Ro5 有关的化学特性\n",
    "    molecular_weight = Descriptors.ExactMolWt(molecule)\n",
    "    n_hba = Descriptors.NumHAcceptors(molecule)\n",
    "    n_hbd = Descriptors.NumHDonors(molecule)\n",
    "    logp = Descriptors.MolLogP(molecule)\n",
    "    # 检查Ro5条件是否满足\n",
    "    conditions = [molecular_weight <= 500, n_hba <= 10, n_hbd <= 5, logp <= 5]\n",
    "    ro5_fulfilled = sum(conditions) >= 3\n",
    "    # 如果四个条件中没有一个以上被违反，则返回 True\n",
    "    return pd.Series(\n",
    "        [molecular_weight, n_hba, n_hbd, logp, ro5_fulfilled],\n",
    "        index=[\"molecular_weight\", \"n_hba\", \"n_hbd\", \"logp\", \"ro5_fulfilled\"],\n",
    "    )"
   ]
  },
  {
   "cell_type": "markdown",
   "id": "69500d8126c9063c",
   "metadata": {
    "collapsed": false,
    "jupyter": {
     "outputs_hidden": false
    }
   },
   "source": [
    "将 Ro5 应用于 EGFR 数据集 ¶\n",
    "calculate_ro5_properties 函数可应用于 Ro5 合规化合物的 EGFR 数据集。"
   ]
  },
  {
   "cell_type": "code",
   "execution_count": 31,
   "id": "a52a18e2608d7303",
   "metadata": {
    "ExecuteTime": {
     "end_time": "2024-09-19T07:58:27.391822Z",
     "start_time": "2024-09-19T07:58:27.363001Z"
    },
    "collapsed": false,
    "jupyter": {
     "outputs_hidden": false
    }
   },
   "outputs": [],
   "source": [
    "\n"
   ]
  },
  {
   "cell_type": "code",
   "execution_count": 32,
   "id": "132001177dc538ee",
   "metadata": {
    "ExecuteTime": {
     "end_time": "2024-09-19T07:58:27.613300Z",
     "start_time": "2024-09-19T07:58:27.470479Z"
    },
    "collapsed": false,
    "jupyter": {
     "outputs_hidden": false
    }
   },
   "outputs": [
    {
     "name": "stdout",
     "output_type": "stream",
     "text": [
      "(205, 4)\n"
     ]
    },
    {
     "data": {
      "text/html": [
       "<div>\n",
       "<style scoped>\n",
       "    .dataframe tbody tr th:only-of-type {\n",
       "        vertical-align: middle;\n",
       "    }\n",
       "\n",
       "    .dataframe tbody tr th {\n",
       "        vertical-align: top;\n",
       "    }\n",
       "\n",
       "    .dataframe thead th {\n",
       "        text-align: right;\n",
       "    }\n",
       "</style>\n",
       "<table border=\"1\" class=\"dataframe\">\n",
       "  <thead>\n",
       "    <tr style=\"text-align: right;\">\n",
       "      <th></th>\n",
       "      <th>IC50</th>\n",
       "      <th>units</th>\n",
       "      <th>smiles</th>\n",
       "      <th>pIC50</th>\n",
       "    </tr>\n",
       "    <tr>\n",
       "      <th>molecule_chembl_id</th>\n",
       "      <th></th>\n",
       "      <th></th>\n",
       "      <th></th>\n",
       "      <th></th>\n",
       "    </tr>\n",
       "  </thead>\n",
       "  <tbody>\n",
       "    <tr>\n",
       "      <th>CHEMBL388978</th>\n",
       "      <td>0.298</td>\n",
       "      <td>nM</td>\n",
       "      <td>CN[C@@H]1C[C@H]2O[C@@](C)([C@@H]1OC)n1c3ccccc3...</td>\n",
       "      <td>9.525784</td>\n",
       "    </tr>\n",
       "    <tr>\n",
       "      <th>CHEMBL4635883</th>\n",
       "      <td>8.000</td>\n",
       "      <td>nM</td>\n",
       "      <td>CC(C)c1cc(Nc2nc(N3CCC[C@H](N)C3)ncc2C(N)=O)cc(...</td>\n",
       "      <td>8.096910</td>\n",
       "    </tr>\n",
       "    <tr>\n",
       "      <th>CHEMBL388978</th>\n",
       "      <td>8.340</td>\n",
       "      <td>nM</td>\n",
       "      <td>CN[C@@H]1C[C@H]2O[C@@](C)([C@@H]1OC)n1c3ccccc3...</td>\n",
       "      <td>8.078834</td>\n",
       "    </tr>\n",
       "    <tr>\n",
       "      <th>CHEMBL4633229</th>\n",
       "      <td>22.000</td>\n",
       "      <td>nM</td>\n",
       "      <td>CC(C)(C#N)c1cc(Nc2nc(N3CCC[C@H](N)C3)ncc2C(N)=...</td>\n",
       "      <td>7.657577</td>\n",
       "    </tr>\n",
       "    <tr>\n",
       "      <th>CHEMBL4640712</th>\n",
       "      <td>26.000</td>\n",
       "      <td>nM</td>\n",
       "      <td>CC(C)(C#N)c1cc(Nc2nc(N3CCC[C@H](N)C3)ncc2C(N)=...</td>\n",
       "      <td>7.585027</td>\n",
       "    </tr>\n",
       "  </tbody>\n",
       "</table>\n",
       "</div>"
      ],
      "text/plain": [
       "                      IC50 units  \\\n",
       "molecule_chembl_id                 \n",
       "CHEMBL388978         0.298    nM   \n",
       "CHEMBL4635883        8.000    nM   \n",
       "CHEMBL388978         8.340    nM   \n",
       "CHEMBL4633229       22.000    nM   \n",
       "CHEMBL4640712       26.000    nM   \n",
       "\n",
       "                                                               smiles  \\\n",
       "molecule_chembl_id                                                      \n",
       "CHEMBL388978        CN[C@@H]1C[C@H]2O[C@@](C)([C@@H]1OC)n1c3ccccc3...   \n",
       "CHEMBL4635883       CC(C)c1cc(Nc2nc(N3CCC[C@H](N)C3)ncc2C(N)=O)cc(...   \n",
       "CHEMBL388978        CN[C@@H]1C[C@H]2O[C@@](C)([C@@H]1OC)n1c3ccccc3...   \n",
       "CHEMBL4633229       CC(C)(C#N)c1cc(Nc2nc(N3CCC[C@H](N)C3)ncc2C(N)=...   \n",
       "CHEMBL4640712       CC(C)(C#N)c1cc(Nc2nc(N3CCC[C@H](N)C3)ncc2C(N)=...   \n",
       "\n",
       "                       pIC50  \n",
       "molecule_chembl_id            \n",
       "CHEMBL388978        9.525784  \n",
       "CHEMBL4635883       8.096910  \n",
       "CHEMBL388978        8.078834  \n",
       "CHEMBL4633229       7.657577  \n",
       "CHEMBL4640712       7.585027  "
      ]
     },
     "execution_count": 32,
     "metadata": {},
     "output_type": "execute_result"
    }
   ],
   "source": [
    "molecules = pd.read_csv(DATA / \"bioactivities_compounds_VEGFR2.csv\", index_col=0)\n",
    "print(molecules.shape)\n",
    "molecules.head()"
   ]
  },
  {
   "cell_type": "code",
   "execution_count": 33,
   "id": "b00688aef458d04a",
   "metadata": {
    "ExecuteTime": {
     "end_time": "2024-09-19T07:58:27.852271Z",
     "start_time": "2024-09-19T07:58:27.624263Z"
    },
    "collapsed": false,
    "jupyter": {
     "outputs_hidden": false
    }
   },
   "outputs": [
    {
     "name": "stdout",
     "output_type": "stream",
     "text": [
      "(204, 4)\n"
     ]
    },
    {
     "data": {
      "text/html": [
       "<div>\n",
       "<style scoped>\n",
       "    .dataframe tbody tr th:only-of-type {\n",
       "        vertical-align: middle;\n",
       "    }\n",
       "\n",
       "    .dataframe tbody tr th {\n",
       "        vertical-align: top;\n",
       "    }\n",
       "\n",
       "    .dataframe thead th {\n",
       "        text-align: right;\n",
       "    }\n",
       "</style>\n",
       "<table border=\"1\" class=\"dataframe\">\n",
       "  <thead>\n",
       "    <tr style=\"text-align: right;\">\n",
       "      <th></th>\n",
       "      <th>IC50</th>\n",
       "      <th>units</th>\n",
       "      <th>smiles</th>\n",
       "      <th>pIC50</th>\n",
       "    </tr>\n",
       "    <tr>\n",
       "      <th>molecule_chembl_id</th>\n",
       "      <th></th>\n",
       "      <th></th>\n",
       "      <th></th>\n",
       "      <th></th>\n",
       "    </tr>\n",
       "  </thead>\n",
       "  <tbody>\n",
       "    <tr>\n",
       "      <th>CHEMBL388978</th>\n",
       "      <td>0.298</td>\n",
       "      <td>nM</td>\n",
       "      <td>CN[C@@H]1C[C@H]2O[C@@](C)([C@@H]1OC)n1c3ccccc3...</td>\n",
       "      <td>9.525784</td>\n",
       "    </tr>\n",
       "    <tr>\n",
       "      <th>CHEMBL4635883</th>\n",
       "      <td>8.000</td>\n",
       "      <td>nM</td>\n",
       "      <td>CC(C)c1cc(Nc2nc(N3CCC[C@H](N)C3)ncc2C(N)=O)cc(...</td>\n",
       "      <td>8.096910</td>\n",
       "    </tr>\n",
       "    <tr>\n",
       "      <th>CHEMBL4633229</th>\n",
       "      <td>22.000</td>\n",
       "      <td>nM</td>\n",
       "      <td>CC(C)(C#N)c1cc(Nc2nc(N3CCC[C@H](N)C3)ncc2C(N)=...</td>\n",
       "      <td>7.657577</td>\n",
       "    </tr>\n",
       "    <tr>\n",
       "      <th>CHEMBL4640712</th>\n",
       "      <td>26.000</td>\n",
       "      <td>nM</td>\n",
       "      <td>CC(C)(C#N)c1cc(Nc2nc(N3CCC[C@H](N)C3)ncc2C(N)=...</td>\n",
       "      <td>7.585027</td>\n",
       "    </tr>\n",
       "    <tr>\n",
       "      <th>CHEMBL4632457</th>\n",
       "      <td>27.000</td>\n",
       "      <td>nM</td>\n",
       "      <td>CC(C)(C)c1cc(Nc2nc(N3CCC[C@H](N)C3)ncc2C(N)=O)...</td>\n",
       "      <td>7.568636</td>\n",
       "    </tr>\n",
       "  </tbody>\n",
       "</table>\n",
       "</div>"
      ],
      "text/plain": [
       "                      IC50 units  \\\n",
       "molecule_chembl_id                 \n",
       "CHEMBL388978         0.298    nM   \n",
       "CHEMBL4635883        8.000    nM   \n",
       "CHEMBL4633229       22.000    nM   \n",
       "CHEMBL4640712       26.000    nM   \n",
       "CHEMBL4632457       27.000    nM   \n",
       "\n",
       "                                                               smiles  \\\n",
       "molecule_chembl_id                                                      \n",
       "CHEMBL388978        CN[C@@H]1C[C@H]2O[C@@](C)([C@@H]1OC)n1c3ccccc3...   \n",
       "CHEMBL4635883       CC(C)c1cc(Nc2nc(N3CCC[C@H](N)C3)ncc2C(N)=O)cc(...   \n",
       "CHEMBL4633229       CC(C)(C#N)c1cc(Nc2nc(N3CCC[C@H](N)C3)ncc2C(N)=...   \n",
       "CHEMBL4640712       CC(C)(C#N)c1cc(Nc2nc(N3CCC[C@H](N)C3)ncc2C(N)=...   \n",
       "CHEMBL4632457       CC(C)(C)c1cc(Nc2nc(N3CCC[C@H](N)C3)ncc2C(N)=O)...   \n",
       "\n",
       "                       pIC50  \n",
       "molecule_chembl_id            \n",
       "CHEMBL388978        9.525784  \n",
       "CHEMBL4635883       8.096910  \n",
       "CHEMBL4633229       7.657577  \n",
       "CHEMBL4640712       7.585027  \n",
       "CHEMBL4632457       7.568636  "
      ]
     },
     "execution_count": 33,
     "metadata": {},
     "output_type": "execute_result"
    }
   ],
   "source": [
    "# 过滤重复的化合物\n",
    "molecules = molecules.drop_duplicates(subset=\"smiles\")\n",
    "print(molecules.shape)\n",
    "molecules.head()"
   ]
  },
  {
   "cell_type": "markdown",
   "id": "c0412bb6181c6411",
   "metadata": {
    "collapsed": false,
    "jupyter": {
     "outputs_hidden": false
    }
   },
   "source": [
    "将 Ro5 应用于所有分子。"
   ]
  },
  {
   "cell_type": "code",
   "execution_count": 34,
   "id": "41dc6574e06bf680",
   "metadata": {
    "ExecuteTime": {
     "end_time": "2024-09-19T07:58:28.092281Z",
     "start_time": "2024-09-19T07:58:27.905094Z"
    },
    "collapsed": false,
    "jupyter": {
     "outputs_hidden": false
    }
   },
   "outputs": [
    {
     "data": {
      "text/html": [
       "<div>\n",
       "<style scoped>\n",
       "    .dataframe tbody tr th:only-of-type {\n",
       "        vertical-align: middle;\n",
       "    }\n",
       "\n",
       "    .dataframe tbody tr th {\n",
       "        vertical-align: top;\n",
       "    }\n",
       "\n",
       "    .dataframe thead th {\n",
       "        text-align: right;\n",
       "    }\n",
       "</style>\n",
       "<table border=\"1\" class=\"dataframe\">\n",
       "  <thead>\n",
       "    <tr style=\"text-align: right;\">\n",
       "      <th></th>\n",
       "      <th>molecular_weight</th>\n",
       "      <th>n_hba</th>\n",
       "      <th>n_hbd</th>\n",
       "      <th>logp</th>\n",
       "      <th>ro5_fulfilled</th>\n",
       "    </tr>\n",
       "    <tr>\n",
       "      <th>molecule_chembl_id</th>\n",
       "      <th></th>\n",
       "      <th></th>\n",
       "      <th></th>\n",
       "      <th></th>\n",
       "      <th></th>\n",
       "    </tr>\n",
       "  </thead>\n",
       "  <tbody>\n",
       "    <tr>\n",
       "      <th>CHEMBL388978</th>\n",
       "      <td>466.200491</td>\n",
       "      <td>6</td>\n",
       "      <td>2</td>\n",
       "      <td>4.35400</td>\n",
       "      <td>True</td>\n",
       "    </tr>\n",
       "    <tr>\n",
       "      <th>CHEMBL4635883</th>\n",
       "      <td>397.259009</td>\n",
       "      <td>7</td>\n",
       "      <td>3</td>\n",
       "      <td>2.88840</td>\n",
       "      <td>True</td>\n",
       "    </tr>\n",
       "    <tr>\n",
       "      <th>CHEMBL4633229</th>\n",
       "      <td>455.243359</td>\n",
       "      <td>7</td>\n",
       "      <td>3</td>\n",
       "      <td>3.71478</td>\n",
       "      <td>True</td>\n",
       "    </tr>\n",
       "    <tr>\n",
       "      <th>CHEMBL4640712</th>\n",
       "      <td>446.254258</td>\n",
       "      <td>8</td>\n",
       "      <td>3</td>\n",
       "      <td>2.84896</td>\n",
       "      <td>True</td>\n",
       "    </tr>\n",
       "    <tr>\n",
       "      <th>CHEMBL4632457</th>\n",
       "      <td>446.210010</td>\n",
       "      <td>8</td>\n",
       "      <td>3</td>\n",
       "      <td>1.94760</td>\n",
       "      <td>True</td>\n",
       "    </tr>\n",
       "  </tbody>\n",
       "</table>\n",
       "</div>"
      ],
      "text/plain": [
       "                    molecular_weight  n_hba  n_hbd     logp  ro5_fulfilled\n",
       "molecule_chembl_id                                                        \n",
       "CHEMBL388978              466.200491      6      2  4.35400           True\n",
       "CHEMBL4635883             397.259009      7      3  2.88840           True\n",
       "CHEMBL4633229             455.243359      7      3  3.71478           True\n",
       "CHEMBL4640712             446.254258      8      3  2.84896           True\n",
       "CHEMBL4632457             446.210010      8      3  1.94760           True"
      ]
     },
     "execution_count": 34,
     "metadata": {},
     "output_type": "execute_result"
    }
   ],
   "source": [
    "# 这需要几秒钟\n",
    "ro5_properties = molecules[\"smiles\"].apply(calculate_ro5_properties)\n",
    "ro5_properties.head()"
   ]
  },
  {
   "cell_type": "markdown",
   "id": "7d4313107b5b7dae",
   "metadata": {
    "collapsed": false,
    "jupyter": {
     "outputs_hidden": false
    }
   },
   "source": [
    "将分子与 Ro5 数据连接起来。"
   ]
  },
  {
   "cell_type": "code",
   "execution_count": 35,
   "id": "ffee69956d53f308",
   "metadata": {
    "ExecuteTime": {
     "end_time": "2024-09-19T07:58:28.209768Z",
     "start_time": "2024-09-19T07:58:28.096159Z"
    },
    "collapsed": false,
    "jupyter": {
     "outputs_hidden": false
    }
   },
   "outputs": [
    {
     "data": {
      "text/html": [
       "<div>\n",
       "<style scoped>\n",
       "    .dataframe tbody tr th:only-of-type {\n",
       "        vertical-align: middle;\n",
       "    }\n",
       "\n",
       "    .dataframe tbody tr th {\n",
       "        vertical-align: top;\n",
       "    }\n",
       "\n",
       "    .dataframe thead th {\n",
       "        text-align: right;\n",
       "    }\n",
       "</style>\n",
       "<table border=\"1\" class=\"dataframe\">\n",
       "  <thead>\n",
       "    <tr style=\"text-align: right;\">\n",
       "      <th></th>\n",
       "      <th>IC50</th>\n",
       "      <th>units</th>\n",
       "      <th>smiles</th>\n",
       "      <th>pIC50</th>\n",
       "      <th>molecular_weight</th>\n",
       "      <th>n_hba</th>\n",
       "      <th>n_hbd</th>\n",
       "      <th>logp</th>\n",
       "      <th>ro5_fulfilled</th>\n",
       "    </tr>\n",
       "    <tr>\n",
       "      <th>molecule_chembl_id</th>\n",
       "      <th></th>\n",
       "      <th></th>\n",
       "      <th></th>\n",
       "      <th></th>\n",
       "      <th></th>\n",
       "      <th></th>\n",
       "      <th></th>\n",
       "      <th></th>\n",
       "      <th></th>\n",
       "    </tr>\n",
       "  </thead>\n",
       "  <tbody>\n",
       "    <tr>\n",
       "      <th>CHEMBL388978</th>\n",
       "      <td>0.298</td>\n",
       "      <td>nM</td>\n",
       "      <td>CN[C@@H]1C[C@H]2O[C@@](C)([C@@H]1OC)n1c3ccccc3...</td>\n",
       "      <td>9.525784</td>\n",
       "      <td>466.200491</td>\n",
       "      <td>6</td>\n",
       "      <td>2</td>\n",
       "      <td>4.35400</td>\n",
       "      <td>True</td>\n",
       "    </tr>\n",
       "    <tr>\n",
       "      <th>CHEMBL4635883</th>\n",
       "      <td>8.000</td>\n",
       "      <td>nM</td>\n",
       "      <td>CC(C)c1cc(Nc2nc(N3CCC[C@H](N)C3)ncc2C(N)=O)cc(...</td>\n",
       "      <td>8.096910</td>\n",
       "      <td>397.259009</td>\n",
       "      <td>7</td>\n",
       "      <td>3</td>\n",
       "      <td>2.88840</td>\n",
       "      <td>True</td>\n",
       "    </tr>\n",
       "    <tr>\n",
       "      <th>CHEMBL4633229</th>\n",
       "      <td>22.000</td>\n",
       "      <td>nM</td>\n",
       "      <td>CC(C)(C#N)c1cc(Nc2nc(N3CCC[C@H](N)C3)ncc2C(N)=...</td>\n",
       "      <td>7.657577</td>\n",
       "      <td>455.243359</td>\n",
       "      <td>7</td>\n",
       "      <td>3</td>\n",
       "      <td>3.71478</td>\n",
       "      <td>True</td>\n",
       "    </tr>\n",
       "    <tr>\n",
       "      <th>CHEMBL4640712</th>\n",
       "      <td>26.000</td>\n",
       "      <td>nM</td>\n",
       "      <td>CC(C)(C#N)c1cc(Nc2nc(N3CCC[C@H](N)C3)ncc2C(N)=...</td>\n",
       "      <td>7.585027</td>\n",
       "      <td>446.254258</td>\n",
       "      <td>8</td>\n",
       "      <td>3</td>\n",
       "      <td>2.84896</td>\n",
       "      <td>True</td>\n",
       "    </tr>\n",
       "    <tr>\n",
       "      <th>CHEMBL4632457</th>\n",
       "      <td>27.000</td>\n",
       "      <td>nM</td>\n",
       "      <td>CC(C)(C)c1cc(Nc2nc(N3CCC[C@H](N)C3)ncc2C(N)=O)...</td>\n",
       "      <td>7.568636</td>\n",
       "      <td>446.210010</td>\n",
       "      <td>8</td>\n",
       "      <td>3</td>\n",
       "      <td>1.94760</td>\n",
       "      <td>True</td>\n",
       "    </tr>\n",
       "  </tbody>\n",
       "</table>\n",
       "</div>"
      ],
      "text/plain": [
       "                      IC50 units  \\\n",
       "molecule_chembl_id                 \n",
       "CHEMBL388978         0.298    nM   \n",
       "CHEMBL4635883        8.000    nM   \n",
       "CHEMBL4633229       22.000    nM   \n",
       "CHEMBL4640712       26.000    nM   \n",
       "CHEMBL4632457       27.000    nM   \n",
       "\n",
       "                                                               smiles  \\\n",
       "molecule_chembl_id                                                      \n",
       "CHEMBL388978        CN[C@@H]1C[C@H]2O[C@@](C)([C@@H]1OC)n1c3ccccc3...   \n",
       "CHEMBL4635883       CC(C)c1cc(Nc2nc(N3CCC[C@H](N)C3)ncc2C(N)=O)cc(...   \n",
       "CHEMBL4633229       CC(C)(C#N)c1cc(Nc2nc(N3CCC[C@H](N)C3)ncc2C(N)=...   \n",
       "CHEMBL4640712       CC(C)(C#N)c1cc(Nc2nc(N3CCC[C@H](N)C3)ncc2C(N)=...   \n",
       "CHEMBL4632457       CC(C)(C)c1cc(Nc2nc(N3CCC[C@H](N)C3)ncc2C(N)=O)...   \n",
       "\n",
       "                       pIC50  molecular_weight  n_hba  n_hbd     logp  \\\n",
       "molecule_chembl_id                                                      \n",
       "CHEMBL388978        9.525784        466.200491      6      2  4.35400   \n",
       "CHEMBL4635883       8.096910        397.259009      7      3  2.88840   \n",
       "CHEMBL4633229       7.657577        455.243359      7      3  3.71478   \n",
       "CHEMBL4640712       7.585027        446.254258      8      3  2.84896   \n",
       "CHEMBL4632457       7.568636        446.210010      8      3  1.94760   \n",
       "\n",
       "                    ro5_fulfilled  \n",
       "molecule_chembl_id                 \n",
       "CHEMBL388978                 True  \n",
       "CHEMBL4635883                True  \n",
       "CHEMBL4633229                True  \n",
       "CHEMBL4640712                True  \n",
       "CHEMBL4632457                True  "
      ]
     },
     "execution_count": 35,
     "metadata": {},
     "output_type": "execute_result"
    }
   ],
   "source": [
    "molecules = pd.concat([molecules, ro5_properties], axis=1)\n",
    "molecules.head()"
   ]
  },
  {
   "cell_type": "code",
   "execution_count": 36,
   "id": "81bcbf8c59f2850a",
   "metadata": {
    "ExecuteTime": {
     "end_time": "2024-09-19T07:58:28.676633Z",
     "start_time": "2024-09-19T07:58:28.616661Z"
    },
    "collapsed": false,
    "jupyter": {
     "outputs_hidden": false
    }
   },
   "outputs": [
    {
     "name": "stdout",
     "output_type": "stream",
     "text": [
      "# 未过滤数据集中的化合物: 204\n",
      "# 过滤后数据集中的化合物: 201\n",
      "# 不符合 Ro5 标准的化合物: 3\n"
     ]
    }
   ],
   "source": [
    "# 请注意，\"ro5_fulfilled \"列包含布尔值。\n",
    "# 因此，我们可以直接使用列值来子集数据。\n",
    "# 注意 ~ 否定布尔值。\n",
    "molecules_ro5_fulfilled = molecules[molecules[\"ro5_fulfilled\"]]\n",
    "molecules_ro5_violated = molecules[~molecules[\"ro5_fulfilled\"]]\n",
    "\n",
    "print(f\"# 未过滤数据集中的化合物: {molecules.shape[0]}\")\n",
    "print(f\"# 过滤后数据集中的化合物: {molecules_ro5_fulfilled.shape[0]}\")\n",
    "print(f\"# 不符合 Ro5 标准的化合物: {molecules_ro5_violated.shape[0]}\")\n"
   ]
  },
  {
   "cell_type": "code",
   "execution_count": 37,
   "id": "c06aa0b5ca438d9d",
   "metadata": {
    "ExecuteTime": {
     "end_time": "2024-09-19T07:58:29.130716Z",
     "start_time": "2024-09-19T07:58:28.809448Z"
    },
    "collapsed": false,
    "jupyter": {
     "outputs_hidden": false
    }
   },
   "outputs": [
    {
     "data": {
      "text/html": [
       "<div>\n",
       "<style scoped>\n",
       "    .dataframe tbody tr th:only-of-type {\n",
       "        vertical-align: middle;\n",
       "    }\n",
       "\n",
       "    .dataframe tbody tr th {\n",
       "        vertical-align: top;\n",
       "    }\n",
       "\n",
       "    .dataframe thead th {\n",
       "        text-align: right;\n",
       "    }\n",
       "</style>\n",
       "<table border=\"1\" class=\"dataframe\">\n",
       "  <thead>\n",
       "    <tr style=\"text-align: right;\">\n",
       "      <th></th>\n",
       "      <th>IC50</th>\n",
       "      <th>units</th>\n",
       "      <th>smiles</th>\n",
       "      <th>pIC50</th>\n",
       "      <th>molecular_weight</th>\n",
       "      <th>n_hba</th>\n",
       "      <th>n_hbd</th>\n",
       "      <th>logp</th>\n",
       "      <th>ro5_fulfilled</th>\n",
       "    </tr>\n",
       "    <tr>\n",
       "      <th>molecule_chembl_id</th>\n",
       "      <th></th>\n",
       "      <th></th>\n",
       "      <th></th>\n",
       "      <th></th>\n",
       "      <th></th>\n",
       "      <th></th>\n",
       "      <th></th>\n",
       "      <th></th>\n",
       "      <th></th>\n",
       "    </tr>\n",
       "  </thead>\n",
       "  <tbody>\n",
       "    <tr>\n",
       "      <th>CHEMBL388978</th>\n",
       "      <td>0.298</td>\n",
       "      <td>nM</td>\n",
       "      <td>CN[C@@H]1C[C@H]2O[C@@](C)([C@@H]1OC)n1c3ccccc3...</td>\n",
       "      <td>9.525784</td>\n",
       "      <td>466.200491</td>\n",
       "      <td>6</td>\n",
       "      <td>2</td>\n",
       "      <td>4.35400</td>\n",
       "      <td>True</td>\n",
       "    </tr>\n",
       "    <tr>\n",
       "      <th>CHEMBL4635883</th>\n",
       "      <td>8.000</td>\n",
       "      <td>nM</td>\n",
       "      <td>CC(C)c1cc(Nc2nc(N3CCC[C@H](N)C3)ncc2C(N)=O)cc(...</td>\n",
       "      <td>8.096910</td>\n",
       "      <td>397.259009</td>\n",
       "      <td>7</td>\n",
       "      <td>3</td>\n",
       "      <td>2.88840</td>\n",
       "      <td>True</td>\n",
       "    </tr>\n",
       "    <tr>\n",
       "      <th>CHEMBL4633229</th>\n",
       "      <td>22.000</td>\n",
       "      <td>nM</td>\n",
       "      <td>CC(C)(C#N)c1cc(Nc2nc(N3CCC[C@H](N)C3)ncc2C(N)=...</td>\n",
       "      <td>7.657577</td>\n",
       "      <td>455.243359</td>\n",
       "      <td>7</td>\n",
       "      <td>3</td>\n",
       "      <td>3.71478</td>\n",
       "      <td>True</td>\n",
       "    </tr>\n",
       "    <tr>\n",
       "      <th>CHEMBL4640712</th>\n",
       "      <td>26.000</td>\n",
       "      <td>nM</td>\n",
       "      <td>CC(C)(C#N)c1cc(Nc2nc(N3CCC[C@H](N)C3)ncc2C(N)=...</td>\n",
       "      <td>7.585027</td>\n",
       "      <td>446.254258</td>\n",
       "      <td>8</td>\n",
       "      <td>3</td>\n",
       "      <td>2.84896</td>\n",
       "      <td>True</td>\n",
       "    </tr>\n",
       "    <tr>\n",
       "      <th>CHEMBL4632457</th>\n",
       "      <td>27.000</td>\n",
       "      <td>nM</td>\n",
       "      <td>CC(C)(C)c1cc(Nc2nc(N3CCC[C@H](N)C3)ncc2C(N)=O)...</td>\n",
       "      <td>7.568636</td>\n",
       "      <td>446.210010</td>\n",
       "      <td>8</td>\n",
       "      <td>3</td>\n",
       "      <td>1.94760</td>\n",
       "      <td>True</td>\n",
       "    </tr>\n",
       "  </tbody>\n",
       "</table>\n",
       "</div>"
      ],
      "text/plain": [
       "                      IC50 units  \\\n",
       "molecule_chembl_id                 \n",
       "CHEMBL388978         0.298    nM   \n",
       "CHEMBL4635883        8.000    nM   \n",
       "CHEMBL4633229       22.000    nM   \n",
       "CHEMBL4640712       26.000    nM   \n",
       "CHEMBL4632457       27.000    nM   \n",
       "\n",
       "                                                               smiles  \\\n",
       "molecule_chembl_id                                                      \n",
       "CHEMBL388978        CN[C@@H]1C[C@H]2O[C@@](C)([C@@H]1OC)n1c3ccccc3...   \n",
       "CHEMBL4635883       CC(C)c1cc(Nc2nc(N3CCC[C@H](N)C3)ncc2C(N)=O)cc(...   \n",
       "CHEMBL4633229       CC(C)(C#N)c1cc(Nc2nc(N3CCC[C@H](N)C3)ncc2C(N)=...   \n",
       "CHEMBL4640712       CC(C)(C#N)c1cc(Nc2nc(N3CCC[C@H](N)C3)ncc2C(N)=...   \n",
       "CHEMBL4632457       CC(C)(C)c1cc(Nc2nc(N3CCC[C@H](N)C3)ncc2C(N)=O)...   \n",
       "\n",
       "                       pIC50  molecular_weight  n_hba  n_hbd     logp  \\\n",
       "molecule_chembl_id                                                      \n",
       "CHEMBL388978        9.525784        466.200491      6      2  4.35400   \n",
       "CHEMBL4635883       8.096910        397.259009      7      3  2.88840   \n",
       "CHEMBL4633229       7.657577        455.243359      7      3  3.71478   \n",
       "CHEMBL4640712       7.585027        446.254258      8      3  2.84896   \n",
       "CHEMBL4632457       7.568636        446.210010      8      3  1.94760   \n",
       "\n",
       "                    ro5_fulfilled  \n",
       "molecule_chembl_id                 \n",
       "CHEMBL388978                 True  \n",
       "CHEMBL4635883                True  \n",
       "CHEMBL4633229                True  \n",
       "CHEMBL4640712                True  \n",
       "CHEMBL4632457                True  "
      ]
     },
     "execution_count": 37,
     "metadata": {},
     "output_type": "execute_result"
    }
   ],
   "source": [
    "# 保存过滤后的数据\n",
    "molecules_ro5_fulfilled.to_csv(DATA / \"compounds_lipinski.csv\")\n",
    "molecules_ro5_fulfilled.head()"
   ]
  },
  {
   "cell_type": "code",
   "execution_count": 38,
   "id": "77f5ca03f8142316",
   "metadata": {
    "ExecuteTime": {
     "end_time": "2024-09-19T07:58:29.236129Z",
     "start_time": "2024-09-19T07:58:28.954163Z"
    },
    "collapsed": false,
    "jupyter": {
     "outputs_hidden": false
    }
   },
   "outputs": [
    {
     "data": {
      "text/html": [
       "<div>\n",
       "<style scoped>\n",
       "    .dataframe tbody tr th:only-of-type {\n",
       "        vertical-align: middle;\n",
       "    }\n",
       "\n",
       "    .dataframe tbody tr th {\n",
       "        vertical-align: top;\n",
       "    }\n",
       "\n",
       "    .dataframe thead th {\n",
       "        text-align: right;\n",
       "    }\n",
       "</style>\n",
       "<table border=\"1\" class=\"dataframe\">\n",
       "  <thead>\n",
       "    <tr style=\"text-align: right;\">\n",
       "      <th></th>\n",
       "      <th>IC50</th>\n",
       "      <th>units</th>\n",
       "      <th>smiles</th>\n",
       "      <th>pIC50</th>\n",
       "      <th>molecular_weight</th>\n",
       "      <th>n_hba</th>\n",
       "      <th>n_hbd</th>\n",
       "      <th>logp</th>\n",
       "      <th>ro5_fulfilled</th>\n",
       "    </tr>\n",
       "    <tr>\n",
       "      <th>molecule_chembl_id</th>\n",
       "      <th></th>\n",
       "      <th></th>\n",
       "      <th></th>\n",
       "      <th></th>\n",
       "      <th></th>\n",
       "      <th></th>\n",
       "      <th></th>\n",
       "      <th></th>\n",
       "      <th></th>\n",
       "    </tr>\n",
       "  </thead>\n",
       "  <tbody>\n",
       "    <tr>\n",
       "      <th>CHEMBL288441</th>\n",
       "      <td>92.0</td>\n",
       "      <td>nM</td>\n",
       "      <td>COc1cc(Nc2c(C#N)cnc3cc(OCCCN4CCN(C)CC4)c(OC)cc...</td>\n",
       "      <td>7.036212</td>\n",
       "      <td>529.164745</td>\n",
       "      <td>8</td>\n",
       "      <td>1</td>\n",
       "      <td>5.19038</td>\n",
       "      <td>False</td>\n",
       "    </tr>\n",
       "    <tr>\n",
       "      <th>CHEMBL1788116</th>\n",
       "      <td>10000.0</td>\n",
       "      <td>nM</td>\n",
       "      <td>N#C/C(=C1/Nc2ccccc2S1)c1ccnc(NCCc2cccnc2)n1.O=...</td>\n",
       "      <td>5.000000</td>\n",
       "      <td>600.101443</td>\n",
       "      <td>9</td>\n",
       "      <td>4</td>\n",
       "      <td>5.20278</td>\n",
       "      <td>False</td>\n",
       "    </tr>\n",
       "    <tr>\n",
       "      <th>CHEMBL4569508</th>\n",
       "      <td>19000.0</td>\n",
       "      <td>nM</td>\n",
       "      <td>O=C(NCC(F)(F)F)c1cc(-c2cnn3cc(-c4ccc(OCCN5CCCC...</td>\n",
       "      <td>4.721246</td>\n",
       "      <td>529.175931</td>\n",
       "      <td>7</td>\n",
       "      <td>1</td>\n",
       "      <td>5.28160</td>\n",
       "      <td>False</td>\n",
       "    </tr>\n",
       "  </tbody>\n",
       "</table>\n",
       "</div>"
      ],
      "text/plain": [
       "                       IC50 units  \\\n",
       "molecule_chembl_id                  \n",
       "CHEMBL288441           92.0    nM   \n",
       "CHEMBL1788116       10000.0    nM   \n",
       "CHEMBL4569508       19000.0    nM   \n",
       "\n",
       "                                                               smiles  \\\n",
       "molecule_chembl_id                                                      \n",
       "CHEMBL288441        COc1cc(Nc2c(C#N)cnc3cc(OCCCN4CCN(C)CC4)c(OC)cc...   \n",
       "CHEMBL1788116       N#C/C(=C1/Nc2ccccc2S1)c1ccnc(NCCc2cccnc2)n1.O=...   \n",
       "CHEMBL4569508       O=C(NCC(F)(F)F)c1cc(-c2cnn3cc(-c4ccc(OCCN5CCCC...   \n",
       "\n",
       "                       pIC50  molecular_weight  n_hba  n_hbd     logp  \\\n",
       "molecule_chembl_id                                                      \n",
       "CHEMBL288441        7.036212        529.164745      8      1  5.19038   \n",
       "CHEMBL1788116       5.000000        600.101443      9      4  5.20278   \n",
       "CHEMBL4569508       4.721246        529.175931      7      1  5.28160   \n",
       "\n",
       "                    ro5_fulfilled  \n",
       "molecule_chembl_id                 \n",
       "CHEMBL288441                False  \n",
       "CHEMBL1788116               False  \n",
       "CHEMBL4569508               False  "
      ]
     },
     "execution_count": 38,
     "metadata": {},
     "output_type": "execute_result"
    }
   ],
   "source": [
    "# 保存不符合 Ro5 标准的化合物\n",
    "molecules_ro5_violated.to_csv(DATA / \"compounds_not_lipinski.csv\")\n",
    "molecules_ro5_violated.head()"
   ]
  },
  {
   "cell_type": "markdown",
   "id": "7737e9c74dbe2f10",
   "metadata": {
    "collapsed": false,
    "jupyter": {
     "outputs_hidden": false
    }
   },
   "source": [
    "可视化 Ro5 属性（雷达图） ¶\n",
    "计算 Ro5 属性的统计数据 ¶\n",
    "定义一个辅助函数来计算输入 DataFrame 的平均值和标准差。"
   ]
  },
  {
   "cell_type": "markdown",
   "id": "bc1c69de0c865a9",
   "metadata": {
    "collapsed": false,
    "jupyter": {
     "outputs_hidden": false
    }
   },
   "source": []
  },
  {
   "cell_type": "code",
   "execution_count": 39,
   "id": "dbde02d051a73c96",
   "metadata": {
    "ExecuteTime": {
     "end_time": "2024-09-19T07:58:29.527056Z",
     "start_time": "2024-09-19T07:58:29.241385Z"
    },
    "collapsed": false,
    "jupyter": {
     "outputs_hidden": false
    }
   },
   "outputs": [],
   "source": [
    "def calculate_mean_std(dataframe):\n",
    "    \"\"\"\n",
    "    计算数据集的平均值和标准差。\n",
    "    参数\n",
    "    ----------\n",
    "    dataframe : pd.DataFrame\n",
    "    一组项（行）的属性（列）。\n",
    "    返回\n",
    "    -------\n",
    "    pd.DataFrame\n",
    "    不同属性（行）的平均值和标准偏差（列）。\n",
    "    \"\"\"\n",
    "    # 生成属性列的描述性统计\n",
    "    stats = dataframe.describe()\n",
    "    # 转置数据帧（统计量 = 列）\n",
    "    stats = stats.T\n",
    "    # 选取均值和标准差\n",
    "    stats = stats[[\"mean\", \"std\"]]\n",
    "    return stats"
   ]
  },
  {
   "cell_type": "markdown",
   "id": "60a3aa3c277983a8",
   "metadata": {
    "collapsed": false,
    "jupyter": {
     "outputs_hidden": false
    }
   },
   "source": [
    "我们计算满足 Ro5 的化合物数据集的统计数据"
   ]
  },
  {
   "cell_type": "code",
   "execution_count": 40,
   "id": "9d4d9ba9350c1b4",
   "metadata": {
    "ExecuteTime": {
     "end_time": "2024-09-19T07:58:29.790416Z",
     "start_time": "2024-09-19T07:58:29.532127Z"
    },
    "collapsed": false,
    "jupyter": {
     "outputs_hidden": false
    }
   },
   "outputs": [
    {
     "data": {
      "text/html": [
       "<div>\n",
       "<style scoped>\n",
       "    .dataframe tbody tr th:only-of-type {\n",
       "        vertical-align: middle;\n",
       "    }\n",
       "\n",
       "    .dataframe tbody tr th {\n",
       "        vertical-align: top;\n",
       "    }\n",
       "\n",
       "    .dataframe thead th {\n",
       "        text-align: right;\n",
       "    }\n",
       "</style>\n",
       "<table border=\"1\" class=\"dataframe\">\n",
       "  <thead>\n",
       "    <tr style=\"text-align: right;\">\n",
       "      <th></th>\n",
       "      <th>mean</th>\n",
       "      <th>std</th>\n",
       "    </tr>\n",
       "  </thead>\n",
       "  <tbody>\n",
       "    <tr>\n",
       "      <th>molecular_weight</th>\n",
       "      <td>428.580130</td>\n",
       "      <td>56.362736</td>\n",
       "    </tr>\n",
       "    <tr>\n",
       "      <th>n_hba</th>\n",
       "      <td>7.721393</td>\n",
       "      <td>1.253790</td>\n",
       "    </tr>\n",
       "    <tr>\n",
       "      <th>n_hbd</th>\n",
       "      <td>3.522388</td>\n",
       "      <td>0.866456</td>\n",
       "    </tr>\n",
       "    <tr>\n",
       "      <th>logp</th>\n",
       "      <td>2.145792</td>\n",
       "      <td>1.126380</td>\n",
       "    </tr>\n",
       "  </tbody>\n",
       "</table>\n",
       "</div>"
      ],
      "text/plain": [
       "                        mean        std\n",
       "molecular_weight  428.580130  56.362736\n",
       "n_hba               7.721393   1.253790\n",
       "n_hbd               3.522388   0.866456\n",
       "logp                2.145792   1.126380"
      ]
     },
     "execution_count": 40,
     "metadata": {},
     "output_type": "execute_result"
    }
   ],
   "source": [
    "molecules_ro5_fulfilled_stats = calculate_mean_std(\n",
    "    molecules_ro5_fulfilled[[\"molecular_weight\", \"n_hba\", \"n_hbd\", \"logp\"]]\n",
    ")\n",
    "molecules_ro5_fulfilled_stats"
   ]
  },
  {
   "cell_type": "markdown",
   "id": "9fabdbbfce9d5ed",
   "metadata": {
    "collapsed": false,
    "jupyter": {
     "outputs_hidden": false
    }
   },
   "source": [
    "我们计算违反 Ro5 的化合物数据集的统计数据。"
   ]
  },
  {
   "cell_type": "code",
   "execution_count": 41,
   "id": "d73d0d116920ed9",
   "metadata": {
    "ExecuteTime": {
     "end_time": "2024-09-19T07:58:29.968869Z",
     "start_time": "2024-09-19T07:58:29.725475Z"
    },
    "collapsed": false,
    "jupyter": {
     "outputs_hidden": false
    }
   },
   "outputs": [
    {
     "data": {
      "text/html": [
       "<div>\n",
       "<style scoped>\n",
       "    .dataframe tbody tr th:only-of-type {\n",
       "        vertical-align: middle;\n",
       "    }\n",
       "\n",
       "    .dataframe tbody tr th {\n",
       "        vertical-align: top;\n",
       "    }\n",
       "\n",
       "    .dataframe thead th {\n",
       "        text-align: right;\n",
       "    }\n",
       "</style>\n",
       "<table border=\"1\" class=\"dataframe\">\n",
       "  <thead>\n",
       "    <tr style=\"text-align: right;\">\n",
       "      <th></th>\n",
       "      <th>mean</th>\n",
       "      <th>std</th>\n",
       "    </tr>\n",
       "  </thead>\n",
       "  <tbody>\n",
       "    <tr>\n",
       "      <th>molecular_weight</th>\n",
       "      <td>552.81404</td>\n",
       "      <td>40.952093</td>\n",
       "    </tr>\n",
       "    <tr>\n",
       "      <th>n_hba</th>\n",
       "      <td>8.00000</td>\n",
       "      <td>1.000000</td>\n",
       "    </tr>\n",
       "    <tr>\n",
       "      <th>n_hbd</th>\n",
       "      <td>2.00000</td>\n",
       "      <td>1.732051</td>\n",
       "    </tr>\n",
       "    <tr>\n",
       "      <th>logp</th>\n",
       "      <td>5.22492</td>\n",
       "      <td>0.049476</td>\n",
       "    </tr>\n",
       "  </tbody>\n",
       "</table>\n",
       "</div>"
      ],
      "text/plain": [
       "                       mean        std\n",
       "molecular_weight  552.81404  40.952093\n",
       "n_hba               8.00000   1.000000\n",
       "n_hbd               2.00000   1.732051\n",
       "logp                5.22492   0.049476"
      ]
     },
     "execution_count": 41,
     "metadata": {},
     "output_type": "execute_result"
    }
   ],
   "source": [
    "molecules_ro5_violated_stats = calculate_mean_std(\n",
    "    molecules_ro5_violated[[\"molecular_weight\", \"n_hba\", \"n_hbd\", \"logp\"]]\n",
    ")\n",
    "molecules_ro5_violated_stats"
   ]
  },
  {
   "cell_type": "markdown",
   "id": "75fe363ab5e1f76e",
   "metadata": {
    "collapsed": false,
    "jupyter": {
     "outputs_hidden": false
    }
   },
   "source": [
    "定义辅助函数来准备雷达绘图数据 ¶\n",
    "接下来，我们将定义一些仅用于雷达绘图的辅助函数。\n",
    "\n",
    "准备 y 值：用于 Ro5 标准的属性具有不同的量级。 MWT 的阈值为 500，而 HBA 和 HBD 的数量以及 LogP 的阈值分别仅为 10、5 和 5。为了最简单地可视化这些不同的尺度，我们将所有属性值缩放到缩放阈值 5：\n",
    "\n",
    "scaled property value = property value / property threshold * scaled property threshold\n",
    "\n",
    "换算后的 MWT = MWT / 500 * 5 = MWT / 100\n",
    "\n",
    "换算后的 HBA = HBA / 10 * 5 = HBA / 2\n",
    "\n",
    "换算后的 HBD = HBD / 5 * 5 = HBD\n",
    "\n",
    "缩放后的 LogP = LogP / 5 * 5 = LogP\n",
    "\n",
    "这导致 MWT 缩小 100，HBA 缩小 2，而 HBD 和 LogP 保持不变。\n",
    "\n",
    "以下辅助函数执行此类缩放，并将在稍后的雷达绘图过程中使用"
   ]
  },
  {
   "cell_type": "code",
   "execution_count": 42,
   "id": "d78dba903e28ff70",
   "metadata": {
    "ExecuteTime": {
     "end_time": "2024-09-19T07:58:30.203433Z",
     "start_time": "2024-09-19T07:58:29.973010Z"
    },
    "collapsed": false,
    "jupyter": {
     "outputs_hidden": false
    }
   },
   "outputs": [],
   "source": [
    "def _scale_by_thresholds(stats, thresholds, scaled_threshold):\n",
    "    \"\"\"\n",
    "    不同属性的比例值，每个属性都有一个单独定义的阈值。\n",
    "    参数\n",
    "    ----------\n",
    "    stats : pd.DataFrame\n",
    "    数据帧，包含每个理化性质（行）的 \"平均值 \"和 \"std\"（列）。\n",
    "    阈值\n",
    "    为每种属性定义的阈值。\n",
    "    scaled_threshold : int 或 float\n",
    "    所有属性的缩放阈值。\n",
    "    返回值\n",
    "    -------\n",
    "    pd.DataFrame\n",
    "    数据帧，包含每种理化性质的标度平均值和标准偏差。\n",
    "    \"\"\"\n",
    "    # 如果缩放键和 data_stats 指标不匹配，则会出错\n",
    "    for property_name in stats.index:\n",
    "        if property_name not in thresholds.keys():\n",
    "            raise KeyError(f\"Add property '{property_name}' to scaling variable.\")\n",
    "    # 规模属性数据\n",
    "    stats_scaled = stats.apply(lambda x: x / thresholds[x.name] * scaled_threshold, axis=1)\n",
    "    return stats_scaled"
   ]
  },
  {
   "cell_type": "markdown",
   "id": "5da648f6efbb7c3",
   "metadata": {
    "collapsed": false,
    "jupyter": {
     "outputs_hidden": false
    }
   },
   "source": [
    "准备 x 值：以下辅助函数返回雷达图的物理化学属性轴的角度。例如，如果我们想要生成 4 个属性的雷达图，我们需要将轴设置为 0°、90°、180° 和 270°。辅助函数返回弧度等角度。"
   ]
  },
  {
   "cell_type": "code",
   "execution_count": 43,
   "id": "4eca582a7c32a534",
   "metadata": {
    "ExecuteTime": {
     "end_time": "2024-09-19T07:58:30.443040Z",
     "start_time": "2024-09-19T07:58:30.053803Z"
    },
    "collapsed": false,
    "jupyter": {
     "outputs_hidden": false
    }
   },
   "outputs": [],
   "source": [
    "def _define_radial_axes_angles(n_axes):\n",
    "    \"\"\"根据轴的数量，定义径向 (x-) 轴的角度（弧度）。\"\"\"\n",
    "    x_angles = [i / float(n_axes) * 2 * math.pi for i in range(n_axes)]\n",
    "    x_angles += x_angles[:1]\n",
    "    return x_angles"
   ]
  },
  {
   "cell_type": "markdown",
   "id": "5a53b11b438aef77",
   "metadata": {
    "collapsed": false,
    "jupyter": {
     "outputs_hidden": false
    }
   },
   "source": [
    "这两个函数都将用作雷达绘图函数中的辅助函数，该函数将在接下来定义。\n",
    "\n",
    "最后生成雷达图！ ¶\n",
    "现在，我们定义一个函数，以雷达图的形式可视化化合物的化学性质。我们按照 stackoverflow 上的这些说明进行操作。"
   ]
  },
  {
   "cell_type": "code",
   "execution_count": 44,
   "id": "c3873f84c54f3c5f",
   "metadata": {
    "ExecuteTime": {
     "end_time": "2024-09-19T07:58:30.517012Z",
     "start_time": "2024-09-19T07:58:30.386551Z"
    },
    "collapsed": false,
    "jupyter": {
     "outputs_hidden": false
    }
   },
   "outputs": [],
   "source": [
    "def plot_radar(\n",
    "    y,\n",
    "    thresholds,\n",
    "    scaled_threshold,\n",
    "    properties_labels,\n",
    "    y_max=None,\n",
    "    output_path=None,\n",
    "):\n",
    "    \"\"\"\n",
    "    根据数据集属性的平均值和标准偏差绘制雷达图。\n",
    "    参数\n",
    "    ----------\n",
    "    y : pd.DataFrame\n",
    "    数据帧，包含每个理化特性（行）的 \"平均值 \"和 \"std\"（列）。\n",
    "    阈值\n",
    "    为每种属性定义的阈值。\n",
    "    scaled_threshold : int 或 float\n",
    "    所有属性的缩放阈值。\n",
    "    properties_labels : 字符串列表\n",
    "    在绘图中用作标签的属性名称列表。\n",
    "    y_max ：无或 int 或 float\n",
    "    设置 y 的最大值。如果为 \"无\"，则由 matplotlib 决定。\n",
    "    output_path : None 或 pathlib.Path\n",
    "    如果不是 None，则将绘图保存到文件。\n",
    "    \"\"\"\n",
    "    # 定义 X 轴径向角度 -- 使用我们的辅助函数！\n",
    "    x = _define_radial_axes_angles(len(y))\n",
    "    # 根据定义的阈值缩放 Y 轴值 -- 使用我们的辅助函数！\n",
    "    y = _scale_by_thresholds(y, thresholds, scaled_threshold)\n",
    "    # 由于我们的图表将是圆形的，因此我们将每个属性的第一个值添加到最后\n",
    "    y = pd.concat([y, y.head(1)])\n",
    "\n",
    "    # 设置图形和子区轴\n",
    "    plt.figure(figsize=(6, 6))\n",
    "    ax = plt.subplot(111, polar=True)\n",
    "\n",
    "    # 绘图数据\n",
    "    ax.fill(x, [scaled_threshold] * len(x), \"cornflowerblue\", alpha=0.2)\n",
    "    ax.plot(x, y[\"mean\"], \"b\", lw=3, ls=\"-\")\n",
    "    ax.plot(x, y[\"mean\"] + y[\"std\"], \"orange\", lw=2, ls=\"--\")\n",
    "    ax.plot(x, y[\"mean\"] - y[\"std\"], \"orange\", lw=2, ls=\"-.\")\n",
    "\n",
    "    # 从现在起，我们只做情节美化\n",
    "    # 将 0° 设置为 12 点钟方向\n",
    "    ax.set_theta_offset(math.pi / 2)\n",
    "    # 设置顺时针旋转\n",
    "    ax.set_theta_direction(-1)\n",
    "\n",
    "    # 在180 °半径轴旁设置y标签\n",
    "    ax.set_rlabel_position(180)\n",
    "    # 设置径向轴的刻度数并去除标签\n",
    "    plt.xticks(x, [])\n",
    "    # 得到最大y - ticks值\n",
    "    if not y_max:\n",
    "        y_max = int(ax.get_yticks()[-1])\n",
    "    # 设定轴线极限\n",
    "    plt.ylim(0, y_max)\n",
    "    # 设置 y 轴刻度线的数量和标签\n",
    "    plt.yticks(\n",
    "        range(1, y_max),\n",
    "        [\"5\" if i == scaled_threshold else \"\" for i in range(1, y_max)],\n",
    "        fontsize=16,\n",
    "    )\n",
    "\n",
    "    # 绘制 ytick 标签，确保标签正确贴合\n",
    "    # 注意，我们使用 [:1] 来排除等于第一个元素的最后一个元素（此处不需要）\n",
    "    for i, (angle, label) in enumerate(zip(x[:-1], properties_labels)):\n",
    "        if angle == 0:\n",
    "            ha = \"center\"\n",
    "        elif 0 < angle < math.pi:\n",
    "            ha = \"left\"\n",
    "        elif angle == math.pi:\n",
    "            ha = \"center\"\n",
    "        else:\n",
    "            ha = \"right\"\n",
    "        ax.text(\n",
    "            x=angle,\n",
    "            y=y_max + 1,\n",
    "            s=label,\n",
    "            size=16,\n",
    "            horizontalalignment=ha,\n",
    "            verticalalignment=\"center\",\n",
    "        )\n",
    "\n",
    "    # 相对于左上方曲线图添加图例\n",
    "    labels = (\"mean\", \"mean + std\", \"mean - std\", \"rule of five area\")\n",
    "    ax.legend(labels, loc=(1.1, 0.7), labelspacing=0.3, fontsize=16)\n",
    "\n",
    "    # 保存plot - -使用bbox _ inches包含文本框\n",
    "    if output_path:\n",
    "        plt.savefig(output_path, dpi=300, bbox_inches=\"tight\", transparent=True)\n",
    "\n",
    "    plt.show()"
   ]
  },
  {
   "cell_type": "markdown",
   "id": "f52a78b4e28f7f96",
   "metadata": {
    "collapsed": false,
    "jupyter": {
     "outputs_hidden": false
    }
   },
   "source": [
    "接下来，我们要绘制两个数据集的雷达图： 1. 满足 Ro5 的化合物 2. 违反 Ro5 的化合物\n",
    "\n",
    "定义两个雷达图应保持相同的输入参数："
   ]
  },
  {
   "cell_type": "code",
   "execution_count": 45,
   "id": "86176ccb6af21830",
   "metadata": {
    "ExecuteTime": {
     "end_time": "2024-09-19T07:58:30.561778Z",
     "start_time": "2024-09-19T07:58:30.520429Z"
    },
    "collapsed": false,
    "jupyter": {
     "outputs_hidden": false
    }
   },
   "outputs": [],
   "source": [
    "thresholds = {\"molecular_weight\": 500, \"n_hba\": 10, \"n_hbd\": 5, \"logp\": 5}\n",
    "scaled_threshold = 5\n",
    "properties_labels = [\n",
    "    \"Molecular weight (Da) / 100\",\n",
    "    \"# HBA / 2\",\n",
    "    \"# HBD\",\n",
    "    \"LogP\",\n",
    "]\n",
    "y_max = 8"
   ]
  },
  {
   "cell_type": "markdown",
   "id": "114ee6080010547f",
   "metadata": {
    "collapsed": false,
    "jupyter": {
     "outputs_hidden": false
    }
   },
   "source": [
    "我们绘制了满足 Ro5 的化合物数据集的雷达图。"
   ]
  },
  {
   "cell_type": "code",
   "execution_count": 46,
   "id": "1248d1e67841ee05",
   "metadata": {
    "ExecuteTime": {
     "end_time": "2024-09-19T07:58:30.748018Z",
     "start_time": "2024-09-19T07:58:30.567053Z"
    },
    "collapsed": false,
    "jupyter": {
     "outputs_hidden": false
    }
   },
   "outputs": [
    {
     "data": {
      "image/png": "[encoded data removed]",
      "text/plain": [
       "<Figure size 600x600 with 1 Axes>"
      ]
     },
     "metadata": {},
     "output_type": "display_data"
    }
   ],
   "source": [
    "plot_radar(\n",
    "    molecules_ro5_fulfilled_stats,\n",
    "    thresholds,\n",
    "    scaled_threshold,\n",
    "    properties_labels,\n",
    "    y_max,\n",
    ")"
   ]
  },
  {
   "cell_type": "markdown",
   "id": "f488b70c079f3fb5",
   "metadata": {
    "collapsed": false,
    "jupyter": {
     "outputs_hidden": false
    }
   },
   "source": [
    "蓝色方块表示分子的理化性质符合 Ro5 的区域。蓝线突出显示平均值，而橙色虚线显示标准差。我们可以看到平均值从未违反任何 Lipinski 规则。然而，根据标准偏差，某些属性的值大于 Ro5 阈值。这是可以接受的，因为根据 Ro5，可以违反四项规则之一。"
   ]
  },
  {
   "cell_type": "markdown",
   "id": "6bd4a91462433d38",
   "metadata": {
    "collapsed": false,
    "jupyter": {
     "outputs_hidden": false
    }
   },
   "source": []
  },
  {
   "cell_type": "markdown",
   "id": "eca5fb05b1bf4854",
   "metadata": {
    "collapsed": false,
    "jupyter": {
     "outputs_hidden": false
    }
   },
   "source": [
    "我们绘制了违反 Ro5 的化合物数据集的雷达图。"
   ]
  },
  {
   "cell_type": "code",
   "execution_count": 47,
   "id": "8734edba48054421",
   "metadata": {
    "ExecuteTime": {
     "end_time": "2024-09-19T07:58:30.939966Z",
     "start_time": "2024-09-19T07:58:30.750814Z"
    },
    "collapsed": false,
    "jupyter": {
     "outputs_hidden": false
    }
   },
   "outputs": [
    {
     "data": {
      "image/png": "[encoded data removed]",
      "text/plain": [
       "<Figure size 600x600 with 1 Axes>"
      ]
     },
     "metadata": {},
     "output_type": "display_data"
    }
   ],
   "source": [
    "plot_radar(\n",
    "    molecules_ro5_violated_stats,\n",
    "    thresholds,\n",
    "    scaled_threshold,\n",
    "    properties_labels,\n",
    "    y_max,\n",
    ")"
   ]
  },
  {
   "cell_type": "code",
   "execution_count": 48,
   "id": "14923ac67a7fa8e4",
   "metadata": {
    "ExecuteTime": {
     "end_time": "2024-09-19T07:58:31.042501Z",
     "start_time": "2024-09-19T07:58:30.920594Z"
    },
    "collapsed": false,
    "jupyter": {
     "outputs_hidden": false
    }
   },
   "outputs": [
    {
     "data": {
      "text/plain": [
       "<Figure size 640x480 with 0 Axes>"
      ]
     },
     "metadata": {},
     "output_type": "display_data"
    }
   ],
   "source": [
    "# 保存绘图\n",
    "plt.savefig(DATA / \"EGFR_radar_not_lipinski.png\", dpi=300, bbox_inches=\"tight\", transparent=True)"
   ]
  },
  {
   "cell_type": "markdown",
   "id": "876977649df199e7",
   "metadata": {
    "collapsed": false,
    "jupyter": {
     "outputs_hidden": false
    }
   },
   "source": [
    "我们发现化合物大多因其 logP 值和分子量而违反 Ro5。"
   ]
  },
  {
   "cell_type": "markdown",
   "id": "b3411214b2480a",
   "metadata": {
    "collapsed": false,
    "jupyter": {
     "outputs_hidden": false
    }
   },
   "source": [
    "了解了 Lipinski 的 Ro5 作为估计化合物口服生物利用度的衡量标准，并且我们已使用 rdkit 在数据集上应用了该规则。请注意，药物也可以通过其他途径给药，即吸入、皮肤渗透和注射。\n"
   ]
  },
  {
   "cell_type": "code",
   "execution_count": 28,
   "id": "249026b0b537258b",
   "metadata": {
    "ExecuteTime": {
     "end_time": "2024-09-18T15:43:21.904017Z",
     "start_time": "2024-09-18T15:43:21.858382Z"
    },
    "collapsed": false,
    "jupyter": {
     "outputs_hidden": false
    }
   },
   "outputs": [],
   "source": []
  },
  {
   "cell_type": "code",
   "execution_count": null,
   "id": "a5fed5d03931ff35",
   "metadata": {
    "collapsed": false,
    "jupyter": {
     "outputs_hidden": false
    }
   },
   "outputs": [],
   "source": []
  }
 ],
 "metadata": {
  "kernelspec": {
   "display_name": "Python 3 (ipykernel)",
   "language": "python",
   "name": "python3"
  },
  "language_info": {
   "codemirror_mode": {
    "name": "ipython",
    "version": 3
   },
   "file_extension": ".py",
   "mimetype": "text/x-python",
   "name": "python",
   "nbconvert_exporter": "python",
   "pygments_lexer": "ipython3",
   "version": "3.9.15"
  }
 },
 "nbformat": 4,
 "nbformat_minor": 5
}

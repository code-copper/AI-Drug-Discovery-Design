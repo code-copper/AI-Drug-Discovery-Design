{
 "cells": [
  {
   "cell_type": "markdown",
   "id": "a1c9e53b069943d5",
   "metadata": {
    "collapsed": false,
    "jupyter": {
     "outputs_hidden": false
    }
   },
   "source": [
    "# 02_分子过滤：ADMET 和类先导化合物相似标准\n",
    "## 在药物设计的背景下，通过候选分子的物理化学特性来过滤候选分子非常重要。本次，从 ChEMBL ( 01_讲解的内容 ) 获得的化合物将按照 Lipinsik 的五法则进行过滤，以仅保留口服生物可利用的化合物。"
   ]
  },
  {
   "cell_type": "markdown",
   "id": "62221742-bb5f-41b6-aefe-d9fd44a63954",
   "metadata": {},
   "source": [
    "- ADMET——吸收、分布、代谢、排泄和毒性\n",
    "- 先导化合物相似标准和 Lipinsik 五法则 (Ro5)\n",
    "- 先导化合物相似标准情况下的雷达图"
   ]
  },
  {
   "cell_type": "markdown",
   "id": "04352d2c-f5af-4ce7-9506-6468af9e7ce5",
   "metadata": {},
   "source": [
    "- 定义并可视化示例分子\n",
    "- 计算并绘制Ro5的分子性质\n",
    "- 考察Ro5的符合性\n",
    "- 将Ro5应用于VEGFR2数据集\n",
    "- 可视化Ro5属性(雷达图)"
   ]
  },
  {
   "cell_type": "markdown",
   "id": "26841789-caf8-4455-a7b0-cebe1aaa9ed5",
   "metadata": {},
   "source": [
    "***在虚拟筛选中，我们的目的是预测一个化合物是否可能与特定的靶标结合并相互作用。然而，如果我们想要鉴定一种新的药物，同样重要的是这种化合物到达靶标并最终以有利的方式从体内移除。因此，我们也应该考虑一个化合物是否真正被摄入体内，是否能够跨越一定的障碍，从而达到它的目标。一旦它不再作用于靶点，它在代谢上是否稳定以及如何排泄?这些过程在药代动力学领域中被研究。与药效学( \"药物对我们的身体有什么作用? \")不同，药代动力学处理的是\"药物在我们体内发生了什么? \"的问题。***"
   ]
  },
  {
   "cell_type": "markdown",
   "id": "ce0dedbe-b7c4-4004-bdfe-10b06b83fcd9",
   "metadata": {},
   "source": [
    "## （1）ADMET - -吸收、分布、代谢、排泄和毒性\n",
    "药动学主要分为吸收、分布、代谢和排泄4个步骤。这些被概括为ADME。通常，ADME还包括毒理学，因此被称为ADMET或ADMETox。下面将更详细地讨论ADME步骤：\n",
    "- 吸收：药物进入体内的量和时间取决于多种因素，这些因素因人而异，因人而异，也因物质的性质而异。化合物的溶解度(差)、胃排空时间、肠道转运时间、在胃中的化学( in - )稳定性、渗透肠壁的( in - )能力等因素都会影响药物在口服、吸入或接触皮肤后的吸收程度。\n",
    "- 分布：吸收的物质，即在体内，在血液和不同组织之间以及穿越血脑屏障的分布受区域血流速度、化合物的分子大小和极性以及与血清蛋白和转运酶结合的影响。在毒理学方面的关键影响可能是高度非极性物质在脂肪组织中的积累，或穿越血脑屏障。\n",
    "- 代谢：化合物进入体内后，会发生代谢。这意味着该化合物只有一部分能真正达到目标。主要是肝脏和肾脏酶负责分解外源物(是身体外在的物质)。\n",
    "- 排泄：化合物及其代谢物需要通过排泄从体内排出，通常通过肾脏(尿液)或粪便排出。排泄不完全可导致外源物质蓄积或对正常代谢产生不利干扰。\n",
    "- 毒性：Toxicity：药物对机体的毒性"
   ]
  },
  {
   "cell_type": "markdown",
   "id": "ef8ae708-9ad7-4238-8cd4-72f4e6a36f78",
   "metadata": {},
   "source": [
    "## （2）类先导性和Lipinski五规则( Ro5 )\n",
    "### 先导化合物是具有良好性能的开发性候选药物。它被用作起始结构并进行修饰，目的是开发有效的药物。除了生物活性(化合物与感兴趣的靶标结合)外，良好的ADME性质也是设计有效药物的重要标准。\n",
    "### 化合物的生物利用度是一个重要的ADMET性质。引入Lipinski’s rule of five，仅根据化合物的化学结构来估计其生物利用度。Ro5指出如果化合物的化学结构违反下列规则之一以上，则该化合物吸收或渗透不良的可能性较大：\n",
    "- 分子量( MWT ) < = 500 Da  (这个名字叫做道尔顿，不要读错了哦！❤️)\n",
    "- 氢键受体数( HBAs ) < = 10\n",
    "- 氢键供体数目( HBD ) < = 5\n",
    "- 计算出Logp (octanol-water coefficient) < = 5\n",
    "\n",
    "！！⚠️ 注：Ro5中所有数字均为5的倍数；这就是该规则名称的由来。\n",
    "\n",
    "\n",
    "❤️补充说明：\n",
    "- LogP又称分配coefficient or octanol-water coefficient。它测量化合物的分布，通常在疏水性(e.g. 1-octanol)和亲水性(e.g. water)相之间。\n",
    "- 疏水性分子在水中的溶解度可能会降低，而更多的亲水性分子(例如,高数量的氢键受体和供体)或大分子(高分子量)在通过磷脂膜时可能会有更大的困难。"
   ]
  },
  {
   "cell_type": "markdown",
   "id": "2b06d734-0d61-47a2-8c76-77447ea5fb8e",
   "metadata": {},
   "source": [
    "## （3）类先导性下的雷达图\n",
    "- 分子性质，如Ro5性质，可以通过多种方式可视化(例如,craig plots, flower plots, or golden triangle图)，以支持药物化学家的解释"
   ]
  },
  {
   "cell_type": "markdown",
   "id": "c1f61671-b739-4f65-beb3-93d9d32b756f",
   "metadata": {},
   "source": [
    "### ❤️我们需要用到第一小节的数据，再第一小节里面的 data 文件夹里面\n",
    "- 保存最终的数据集\n",
    "- output_df.to_csv(DATA / \"bioactivities_compounds_VEGFR2.csv\", index=False)\n",
    "- 这一个数据文件：bioactivities_compounds_VEGFR2.csv"
   ]
  },
  {
   "cell_type": "markdown",
   "id": "f774f9ff-5b9b-4c81-8168-06a699a86241",
   "metadata": {},
   "source": []
  },
  {
   "cell_type": "code",
   "execution_count": 1,
   "id": "initial_id",
   "metadata": {
    "ExecuteTime": {
     "end_time": "2024-09-19T07:58:26.360761Z",
     "start_time": "2024-09-19T07:58:26.333968Z"
    }
   },
   "outputs": [],
   "source": [
    "from pathlib import Path\n",
    "import math\n",
    "\n",
    "import numpy as np\n",
    "import pandas as pd\n",
    "import matplotlib.pyplot as plt\n",
    "from matplotlib.lines import Line2D\n",
    "import matplotlib.patches as mpatches\n",
    "from rdkit import Chem\n",
    "from rdkit.Chem import Descriptors, Draw, PandasTools"
   ]
  },
  {
   "cell_type": "code",
   "execution_count": null,
   "id": "3f8c0039-0c7c-4580-97da-59555ef26e19",
   "metadata": {},
   "outputs": [],
   "source": []
  },
  {
   "cell_type": "code",
   "execution_count": 2,
   "id": "55588f5f757a0cc3",
   "metadata": {
    "ExecuteTime": {
     "end_time": "2024-09-19T07:58:26.561737Z",
     "start_time": "2024-09-19T07:58:26.507895Z"
    },
    "collapsed": false,
    "jupyter": {
     "outputs_hidden": false
    }
   },
   "outputs": [
    {
     "name": "stdout",
     "output_type": "stream",
     "text": [
      "/Users/wangyang/Desktop/AI-drug-design/list/02_Molecular_filtration_ADMET_lead_compound_similarity_criteria/data\n"
     ]
    }
   ],
   "source": [
    "from pathlib import Path\n",
    "import os\n",
    "\n",
    "# 获取当前工作目录\n",
    "HERE = Path(os.getcwd())\n",
    "DATA = HERE / 'data'\n",
    "if not DATA.exists():\n",
    "    DATA.mkdir(parents=True, exist_ok=True)\n",
    "print(DATA)\n"
   ]
  },
  {
   "cell_type": "markdown",
   "id": "fb462f7248fc9c8c",
   "metadata": {
    "collapsed": false,
    "jupyter": {
     "outputs_hidden": false
    }
   },
   "source": [
    "调查 Ro5 的合规性"
   ]
  },
  {
   "cell_type": "code",
   "execution_count": 3,
   "id": "3fe8af1d2465ce1b",
   "metadata": {
    "ExecuteTime": {
     "end_time": "2024-09-19T07:58:27.188526Z",
     "start_time": "2024-09-19T07:58:27.182667Z"
    },
    "collapsed": false,
    "jupyter": {
     "outputs_hidden": false
    }
   },
   "outputs": [],
   "source": [
    "def calculate_ro5_properties(smiles):\n",
    "    \"\"\"\n",
    "    测试输入分子（SMILES）是否符合利平斯基的五条规则。\n",
    "    参数\n",
    "    ----------\n",
    "    smiles : str\n",
    "    分子的 SMILES。\n",
    "    返回值\n",
    "    -------\n",
    "    pandas.Series\n",
    "    分子量、氢键受体/供体数量和 logP 值\n",
    "    以及输入分子的利平斯基五则符合性。\n",
    "    \"\"\"\n",
    "    # 来自 SMILES 的 RDKit 分子\n",
    "    molecule = Chem.MolFromSmiles(smiles)\n",
    "    # 计算与 Ro5 有关的化学特性\n",
    "    molecular_weight = Descriptors.ExactMolWt(molecule)\n",
    "    n_hba = Descriptors.NumHAcceptors(molecule)\n",
    "    n_hbd = Descriptors.NumHDonors(molecule)\n",
    "    logp = Descriptors.MolLogP(molecule)\n",
    "    # 检查Ro5条件是否满足\n",
    "    conditions = [molecular_weight <= 500, n_hba <= 10, n_hbd <= 5, logp <= 5]\n",
    "    ro5_fulfilled = sum(conditions) >= 3\n",
    "    # 如果四个条件中没有一个以上被违反，则返回 True\n",
    "    return pd.Series(\n",
    "        [molecular_weight, n_hba, n_hbd, logp, ro5_fulfilled],\n",
    "        index=[\"molecular_weight\", \"n_hba\", \"n_hbd\", \"logp\", \"ro5_fulfilled\"],\n",
    "    )"
   ]
  },
  {
   "cell_type": "markdown",
   "id": "69500d8126c9063c",
   "metadata": {
    "collapsed": false,
    "jupyter": {
     "outputs_hidden": false
    }
   },
   "source": [
    "将 Ro5 应用于 VEGFR2 数据集 ¶\n",
    "calculate_ro5_properties 函数可应用于 Ro5 合规化合物的 VEGFR2 数据集。"
   ]
  },
  {
   "cell_type": "code",
   "execution_count": null,
   "id": "a52a18e2608d7303",
   "metadata": {
    "ExecuteTime": {
     "end_time": "2024-09-19T07:58:27.391822Z",
     "start_time": "2024-09-19T07:58:27.363001Z"
    },
    "collapsed": false,
    "jupyter": {
     "outputs_hidden": false
    }
   },
   "outputs": [],
   "source": [
    "\n"
   ]
  },
  {
   "cell_type": "code",
   "execution_count": 4,
   "id": "132001177dc538ee",
   "metadata": {
    "ExecuteTime": {
     "end_time": "2024-09-19T07:58:27.613300Z",
     "start_time": "2024-09-19T07:58:27.470479Z"
    },
    "collapsed": false,
    "jupyter": {
     "outputs_hidden": false
    }
   },
   "outputs": [
    {
     "name": "stdout",
     "output_type": "stream",
     "text": [
      "(7504, 4)\n"
     ]
    },
    {
     "data": {
      "text/html": [
       "<div>\n",
       "<style scoped>\n",
       "    .dataframe tbody tr th:only-of-type {\n",
       "        vertical-align: middle;\n",
       "    }\n",
       "\n",
       "    .dataframe tbody tr th {\n",
       "        vertical-align: top;\n",
       "    }\n",
       "\n",
       "    .dataframe thead th {\n",
       "        text-align: right;\n",
       "    }\n",
       "</style>\n",
       "<table border=\"1\" class=\"dataframe\">\n",
       "  <thead>\n",
       "    <tr style=\"text-align: right;\">\n",
       "      <th></th>\n",
       "      <th>IC50</th>\n",
       "      <th>units</th>\n",
       "      <th>smiles</th>\n",
       "      <th>pIC50</th>\n",
       "    </tr>\n",
       "    <tr>\n",
       "      <th>molecule_chembl_id</th>\n",
       "      <th></th>\n",
       "      <th></th>\n",
       "      <th></th>\n",
       "      <th></th>\n",
       "    </tr>\n",
       "  </thead>\n",
       "  <tbody>\n",
       "    <tr>\n",
       "      <th>CHEMBL5189340</th>\n",
       "      <td>0.023</td>\n",
       "      <td>nM</td>\n",
       "      <td>CN(C)c1ccc(/C=N/NC(=O)Cn2nc(Cc3ccc(Cl)cc3)c3cc...</td>\n",
       "      <td>10.638272</td>\n",
       "    </tr>\n",
       "    <tr>\n",
       "      <th>CHEMBL429743</th>\n",
       "      <td>0.030</td>\n",
       "      <td>nM</td>\n",
       "      <td>COc1cc2nccc(Oc3ccc4c(C(=O)Nc5ccc(Cl)cc5)cccc4c...</td>\n",
       "      <td>10.522879</td>\n",
       "    </tr>\n",
       "    <tr>\n",
       "      <th>CHEMBL5186748</th>\n",
       "      <td>0.120</td>\n",
       "      <td>nM</td>\n",
       "      <td>CNC(=O)c1cc(Oc2ccc(NC(=O)c3nn(-c4ccc(Cl)cc4)cc...</td>\n",
       "      <td>9.920819</td>\n",
       "    </tr>\n",
       "    <tr>\n",
       "      <th>CHEMBL3093581</th>\n",
       "      <td>0.140</td>\n",
       "      <td>nM</td>\n",
       "      <td>O=C(Nc1ccc(Oc2ccc3nc(NC(=O)C4CC4)cn3c2)c(F)c1)...</td>\n",
       "      <td>9.853872</td>\n",
       "    </tr>\n",
       "    <tr>\n",
       "      <th>CHEMBL3586072</th>\n",
       "      <td>0.140</td>\n",
       "      <td>nM</td>\n",
       "      <td>CNC(=O)c1ccc(-c2ccc(NC(=O)Nc3cc(Br)cc(C(F)(F)F...</td>\n",
       "      <td>9.853872</td>\n",
       "    </tr>\n",
       "  </tbody>\n",
       "</table>\n",
       "</div>"
      ],
      "text/plain": [
       "                     IC50 units  \\\n",
       "molecule_chembl_id                \n",
       "CHEMBL5189340       0.023    nM   \n",
       "CHEMBL429743        0.030    nM   \n",
       "CHEMBL5186748       0.120    nM   \n",
       "CHEMBL3093581       0.140    nM   \n",
       "CHEMBL3586072       0.140    nM   \n",
       "\n",
       "                                                               smiles  \\\n",
       "molecule_chembl_id                                                      \n",
       "CHEMBL5189340       CN(C)c1ccc(/C=N/NC(=O)Cn2nc(Cc3ccc(Cl)cc3)c3cc...   \n",
       "CHEMBL429743        COc1cc2nccc(Oc3ccc4c(C(=O)Nc5ccc(Cl)cc5)cccc4c...   \n",
       "CHEMBL5186748       CNC(=O)c1cc(Oc2ccc(NC(=O)c3nn(-c4ccc(Cl)cc4)cc...   \n",
       "CHEMBL3093581       O=C(Nc1ccc(Oc2ccc3nc(NC(=O)C4CC4)cn3c2)c(F)c1)...   \n",
       "CHEMBL3586072       CNC(=O)c1ccc(-c2ccc(NC(=O)Nc3cc(Br)cc(C(F)(F)F...   \n",
       "\n",
       "                        pIC50  \n",
       "molecule_chembl_id             \n",
       "CHEMBL5189340       10.638272  \n",
       "CHEMBL429743        10.522879  \n",
       "CHEMBL5186748        9.920819  \n",
       "CHEMBL3093581        9.853872  \n",
       "CHEMBL3586072        9.853872  "
      ]
     },
     "execution_count": 4,
     "metadata": {},
     "output_type": "execute_result"
    }
   ],
   "source": [
    "molecules = pd.read_csv(DATA / \"bioactivities_compounds_VEGFR2.csv\", index_col=0)\n",
    "print(molecules.shape)\n",
    "molecules.head()"
   ]
  },
  {
   "cell_type": "code",
   "execution_count": 5,
   "id": "b00688aef458d04a",
   "metadata": {
    "ExecuteTime": {
     "end_time": "2024-09-19T07:58:27.852271Z",
     "start_time": "2024-09-19T07:58:27.624263Z"
    },
    "collapsed": false,
    "jupyter": {
     "outputs_hidden": false
    }
   },
   "outputs": [
    {
     "name": "stdout",
     "output_type": "stream",
     "text": [
      "(7504, 4)\n"
     ]
    },
    {
     "data": {
      "text/html": [
       "<div>\n",
       "<style scoped>\n",
       "    .dataframe tbody tr th:only-of-type {\n",
       "        vertical-align: middle;\n",
       "    }\n",
       "\n",
       "    .dataframe tbody tr th {\n",
       "        vertical-align: top;\n",
       "    }\n",
       "\n",
       "    .dataframe thead th {\n",
       "        text-align: right;\n",
       "    }\n",
       "</style>\n",
       "<table border=\"1\" class=\"dataframe\">\n",
       "  <thead>\n",
       "    <tr style=\"text-align: right;\">\n",
       "      <th></th>\n",
       "      <th>IC50</th>\n",
       "      <th>units</th>\n",
       "      <th>smiles</th>\n",
       "      <th>pIC50</th>\n",
       "    </tr>\n",
       "    <tr>\n",
       "      <th>molecule_chembl_id</th>\n",
       "      <th></th>\n",
       "      <th></th>\n",
       "      <th></th>\n",
       "      <th></th>\n",
       "    </tr>\n",
       "  </thead>\n",
       "  <tbody>\n",
       "    <tr>\n",
       "      <th>CHEMBL5189340</th>\n",
       "      <td>0.023</td>\n",
       "      <td>nM</td>\n",
       "      <td>CN(C)c1ccc(/C=N/NC(=O)Cn2nc(Cc3ccc(Cl)cc3)c3cc...</td>\n",
       "      <td>10.638272</td>\n",
       "    </tr>\n",
       "    <tr>\n",
       "      <th>CHEMBL429743</th>\n",
       "      <td>0.030</td>\n",
       "      <td>nM</td>\n",
       "      <td>COc1cc2nccc(Oc3ccc4c(C(=O)Nc5ccc(Cl)cc5)cccc4c...</td>\n",
       "      <td>10.522879</td>\n",
       "    </tr>\n",
       "    <tr>\n",
       "      <th>CHEMBL5186748</th>\n",
       "      <td>0.120</td>\n",
       "      <td>nM</td>\n",
       "      <td>CNC(=O)c1cc(Oc2ccc(NC(=O)c3nn(-c4ccc(Cl)cc4)cc...</td>\n",
       "      <td>9.920819</td>\n",
       "    </tr>\n",
       "    <tr>\n",
       "      <th>CHEMBL3093581</th>\n",
       "      <td>0.140</td>\n",
       "      <td>nM</td>\n",
       "      <td>O=C(Nc1ccc(Oc2ccc3nc(NC(=O)C4CC4)cn3c2)c(F)c1)...</td>\n",
       "      <td>9.853872</td>\n",
       "    </tr>\n",
       "    <tr>\n",
       "      <th>CHEMBL3586072</th>\n",
       "      <td>0.140</td>\n",
       "      <td>nM</td>\n",
       "      <td>CNC(=O)c1ccc(-c2ccc(NC(=O)Nc3cc(Br)cc(C(F)(F)F...</td>\n",
       "      <td>9.853872</td>\n",
       "    </tr>\n",
       "  </tbody>\n",
       "</table>\n",
       "</div>"
      ],
      "text/plain": [
       "                     IC50 units  \\\n",
       "molecule_chembl_id                \n",
       "CHEMBL5189340       0.023    nM   \n",
       "CHEMBL429743        0.030    nM   \n",
       "CHEMBL5186748       0.120    nM   \n",
       "CHEMBL3093581       0.140    nM   \n",
       "CHEMBL3586072       0.140    nM   \n",
       "\n",
       "                                                               smiles  \\\n",
       "molecule_chembl_id                                                      \n",
       "CHEMBL5189340       CN(C)c1ccc(/C=N/NC(=O)Cn2nc(Cc3ccc(Cl)cc3)c3cc...   \n",
       "CHEMBL429743        COc1cc2nccc(Oc3ccc4c(C(=O)Nc5ccc(Cl)cc5)cccc4c...   \n",
       "CHEMBL5186748       CNC(=O)c1cc(Oc2ccc(NC(=O)c3nn(-c4ccc(Cl)cc4)cc...   \n",
       "CHEMBL3093581       O=C(Nc1ccc(Oc2ccc3nc(NC(=O)C4CC4)cn3c2)c(F)c1)...   \n",
       "CHEMBL3586072       CNC(=O)c1ccc(-c2ccc(NC(=O)Nc3cc(Br)cc(C(F)(F)F...   \n",
       "\n",
       "                        pIC50  \n",
       "molecule_chembl_id             \n",
       "CHEMBL5189340       10.638272  \n",
       "CHEMBL429743        10.522879  \n",
       "CHEMBL5186748        9.920819  \n",
       "CHEMBL3093581        9.853872  \n",
       "CHEMBL3586072        9.853872  "
      ]
     },
     "execution_count": 5,
     "metadata": {},
     "output_type": "execute_result"
    }
   ],
   "source": [
    "# 过滤重复的化合物\n",
    "molecules = molecules.drop_duplicates(subset=\"smiles\")\n",
    "print(molecules.shape)\n",
    "molecules.head()"
   ]
  },
  {
   "cell_type": "markdown",
   "id": "c0412bb6181c6411",
   "metadata": {
    "collapsed": false,
    "jupyter": {
     "outputs_hidden": false
    }
   },
   "source": [
    "将 Ro5 应用于所有分子。"
   ]
  },
  {
   "cell_type": "code",
   "execution_count": 6,
   "id": "41dc6574e06bf680",
   "metadata": {
    "ExecuteTime": {
     "end_time": "2024-09-19T07:58:28.092281Z",
     "start_time": "2024-09-19T07:58:27.905094Z"
    },
    "collapsed": false,
    "jupyter": {
     "outputs_hidden": false
    }
   },
   "outputs": [
    {
     "data": {
      "text/html": [
       "<div>\n",
       "<style scoped>\n",
       "    .dataframe tbody tr th:only-of-type {\n",
       "        vertical-align: middle;\n",
       "    }\n",
       "\n",
       "    .dataframe tbody tr th {\n",
       "        vertical-align: top;\n",
       "    }\n",
       "\n",
       "    .dataframe thead th {\n",
       "        text-align: right;\n",
       "    }\n",
       "</style>\n",
       "<table border=\"1\" class=\"dataframe\">\n",
       "  <thead>\n",
       "    <tr style=\"text-align: right;\">\n",
       "      <th></th>\n",
       "      <th>molecular_weight</th>\n",
       "      <th>n_hba</th>\n",
       "      <th>n_hbd</th>\n",
       "      <th>logp</th>\n",
       "      <th>ro5_fulfilled</th>\n",
       "    </tr>\n",
       "    <tr>\n",
       "      <th>molecule_chembl_id</th>\n",
       "      <th></th>\n",
       "      <th></th>\n",
       "      <th></th>\n",
       "      <th></th>\n",
       "      <th></th>\n",
       "    </tr>\n",
       "  </thead>\n",
       "  <tbody>\n",
       "    <tr>\n",
       "      <th>CHEMBL5189340</th>\n",
       "      <td>473.161853</td>\n",
       "      <td>6</td>\n",
       "      <td>1</td>\n",
       "      <td>3.85700</td>\n",
       "      <td>True</td>\n",
       "    </tr>\n",
       "    <tr>\n",
       "      <th>CHEMBL429743</th>\n",
       "      <td>484.118985</td>\n",
       "      <td>5</td>\n",
       "      <td>1</td>\n",
       "      <td>7.10320</td>\n",
       "      <td>True</td>\n",
       "    </tr>\n",
       "    <tr>\n",
       "      <th>CHEMBL5186748</th>\n",
       "      <td>489.120382</td>\n",
       "      <td>7</td>\n",
       "      <td>2</td>\n",
       "      <td>3.99352</td>\n",
       "      <td>True</td>\n",
       "    </tr>\n",
       "    <tr>\n",
       "      <th>CHEMBL3093581</th>\n",
       "      <td>523.165582</td>\n",
       "      <td>7</td>\n",
       "      <td>2</td>\n",
       "      <td>5.01740</td>\n",
       "      <td>False</td>\n",
       "    </tr>\n",
       "    <tr>\n",
       "      <th>CHEMBL3586072</th>\n",
       "      <td>492.040873</td>\n",
       "      <td>3</td>\n",
       "      <td>3</td>\n",
       "      <td>5.53350</td>\n",
       "      <td>True</td>\n",
       "    </tr>\n",
       "  </tbody>\n",
       "</table>\n",
       "</div>"
      ],
      "text/plain": [
       "                    molecular_weight  n_hba  n_hbd     logp  ro5_fulfilled\n",
       "molecule_chembl_id                                                        \n",
       "CHEMBL5189340             473.161853      6      1  3.85700           True\n",
       "CHEMBL429743              484.118985      5      1  7.10320           True\n",
       "CHEMBL5186748             489.120382      7      2  3.99352           True\n",
       "CHEMBL3093581             523.165582      7      2  5.01740          False\n",
       "CHEMBL3586072             492.040873      3      3  5.53350           True"
      ]
     },
     "execution_count": 6,
     "metadata": {},
     "output_type": "execute_result"
    }
   ],
   "source": [
    "# 这需要几秒钟\n",
    "ro5_properties = molecules[\"smiles\"].apply(calculate_ro5_properties)\n",
    "ro5_properties.head()"
   ]
  },
  {
   "cell_type": "markdown",
   "id": "7d4313107b5b7dae",
   "metadata": {
    "collapsed": false,
    "jupyter": {
     "outputs_hidden": false
    }
   },
   "source": [
    "将分子与 Ro5 数据连接起来。"
   ]
  },
  {
   "cell_type": "code",
   "execution_count": 7,
   "id": "ffee69956d53f308",
   "metadata": {
    "ExecuteTime": {
     "end_time": "2024-09-19T07:58:28.209768Z",
     "start_time": "2024-09-19T07:58:28.096159Z"
    },
    "collapsed": false,
    "jupyter": {
     "outputs_hidden": false
    }
   },
   "outputs": [
    {
     "data": {
      "text/html": [
       "<div>\n",
       "<style scoped>\n",
       "    .dataframe tbody tr th:only-of-type {\n",
       "        vertical-align: middle;\n",
       "    }\n",
       "\n",
       "    .dataframe tbody tr th {\n",
       "        vertical-align: top;\n",
       "    }\n",
       "\n",
       "    .dataframe thead th {\n",
       "        text-align: right;\n",
       "    }\n",
       "</style>\n",
       "<table border=\"1\" class=\"dataframe\">\n",
       "  <thead>\n",
       "    <tr style=\"text-align: right;\">\n",
       "      <th></th>\n",
       "      <th>IC50</th>\n",
       "      <th>units</th>\n",
       "      <th>smiles</th>\n",
       "      <th>pIC50</th>\n",
       "      <th>molecular_weight</th>\n",
       "      <th>n_hba</th>\n",
       "      <th>n_hbd</th>\n",
       "      <th>logp</th>\n",
       "      <th>ro5_fulfilled</th>\n",
       "    </tr>\n",
       "    <tr>\n",
       "      <th>molecule_chembl_id</th>\n",
       "      <th></th>\n",
       "      <th></th>\n",
       "      <th></th>\n",
       "      <th></th>\n",
       "      <th></th>\n",
       "      <th></th>\n",
       "      <th></th>\n",
       "      <th></th>\n",
       "      <th></th>\n",
       "    </tr>\n",
       "  </thead>\n",
       "  <tbody>\n",
       "    <tr>\n",
       "      <th>CHEMBL5189340</th>\n",
       "      <td>0.023</td>\n",
       "      <td>nM</td>\n",
       "      <td>CN(C)c1ccc(/C=N/NC(=O)Cn2nc(Cc3ccc(Cl)cc3)c3cc...</td>\n",
       "      <td>10.638272</td>\n",
       "      <td>473.161853</td>\n",
       "      <td>6</td>\n",
       "      <td>1</td>\n",
       "      <td>3.85700</td>\n",
       "      <td>True</td>\n",
       "    </tr>\n",
       "    <tr>\n",
       "      <th>CHEMBL429743</th>\n",
       "      <td>0.030</td>\n",
       "      <td>nM</td>\n",
       "      <td>COc1cc2nccc(Oc3ccc4c(C(=O)Nc5ccc(Cl)cc5)cccc4c...</td>\n",
       "      <td>10.522879</td>\n",
       "      <td>484.118985</td>\n",
       "      <td>5</td>\n",
       "      <td>1</td>\n",
       "      <td>7.10320</td>\n",
       "      <td>True</td>\n",
       "    </tr>\n",
       "    <tr>\n",
       "      <th>CHEMBL5186748</th>\n",
       "      <td>0.120</td>\n",
       "      <td>nM</td>\n",
       "      <td>CNC(=O)c1cc(Oc2ccc(NC(=O)c3nn(-c4ccc(Cl)cc4)cc...</td>\n",
       "      <td>9.920819</td>\n",
       "      <td>489.120382</td>\n",
       "      <td>7</td>\n",
       "      <td>2</td>\n",
       "      <td>3.99352</td>\n",
       "      <td>True</td>\n",
       "    </tr>\n",
       "    <tr>\n",
       "      <th>CHEMBL3093581</th>\n",
       "      <td>0.140</td>\n",
       "      <td>nM</td>\n",
       "      <td>O=C(Nc1ccc(Oc2ccc3nc(NC(=O)C4CC4)cn3c2)c(F)c1)...</td>\n",
       "      <td>9.853872</td>\n",
       "      <td>523.165582</td>\n",
       "      <td>7</td>\n",
       "      <td>2</td>\n",
       "      <td>5.01740</td>\n",
       "      <td>False</td>\n",
       "    </tr>\n",
       "    <tr>\n",
       "      <th>CHEMBL3586072</th>\n",
       "      <td>0.140</td>\n",
       "      <td>nM</td>\n",
       "      <td>CNC(=O)c1ccc(-c2ccc(NC(=O)Nc3cc(Br)cc(C(F)(F)F...</td>\n",
       "      <td>9.853872</td>\n",
       "      <td>492.040873</td>\n",
       "      <td>3</td>\n",
       "      <td>3</td>\n",
       "      <td>5.53350</td>\n",
       "      <td>True</td>\n",
       "    </tr>\n",
       "  </tbody>\n",
       "</table>\n",
       "</div>"
      ],
      "text/plain": [
       "                     IC50 units  \\\n",
       "molecule_chembl_id                \n",
       "CHEMBL5189340       0.023    nM   \n",
       "CHEMBL429743        0.030    nM   \n",
       "CHEMBL5186748       0.120    nM   \n",
       "CHEMBL3093581       0.140    nM   \n",
       "CHEMBL3586072       0.140    nM   \n",
       "\n",
       "                                                               smiles  \\\n",
       "molecule_chembl_id                                                      \n",
       "CHEMBL5189340       CN(C)c1ccc(/C=N/NC(=O)Cn2nc(Cc3ccc(Cl)cc3)c3cc...   \n",
       "CHEMBL429743        COc1cc2nccc(Oc3ccc4c(C(=O)Nc5ccc(Cl)cc5)cccc4c...   \n",
       "CHEMBL5186748       CNC(=O)c1cc(Oc2ccc(NC(=O)c3nn(-c4ccc(Cl)cc4)cc...   \n",
       "CHEMBL3093581       O=C(Nc1ccc(Oc2ccc3nc(NC(=O)C4CC4)cn3c2)c(F)c1)...   \n",
       "CHEMBL3586072       CNC(=O)c1ccc(-c2ccc(NC(=O)Nc3cc(Br)cc(C(F)(F)F...   \n",
       "\n",
       "                        pIC50  molecular_weight  n_hba  n_hbd     logp  \\\n",
       "molecule_chembl_id                                                       \n",
       "CHEMBL5189340       10.638272        473.161853      6      1  3.85700   \n",
       "CHEMBL429743        10.522879        484.118985      5      1  7.10320   \n",
       "CHEMBL5186748        9.920819        489.120382      7      2  3.99352   \n",
       "CHEMBL3093581        9.853872        523.165582      7      2  5.01740   \n",
       "CHEMBL3586072        9.853872        492.040873      3      3  5.53350   \n",
       "\n",
       "                    ro5_fulfilled  \n",
       "molecule_chembl_id                 \n",
       "CHEMBL5189340                True  \n",
       "CHEMBL429743                 True  \n",
       "CHEMBL5186748                True  \n",
       "CHEMBL3093581               False  \n",
       "CHEMBL3586072                True  "
      ]
     },
     "execution_count": 7,
     "metadata": {},
     "output_type": "execute_result"
    }
   ],
   "source": [
    "molecules = pd.concat([molecules, ro5_properties], axis=1)\n",
    "molecules.head()"
   ]
  },
  {
   "cell_type": "code",
   "execution_count": 8,
   "id": "81bcbf8c59f2850a",
   "metadata": {
    "ExecuteTime": {
     "end_time": "2024-09-19T07:58:28.676633Z",
     "start_time": "2024-09-19T07:58:28.616661Z"
    },
    "collapsed": false,
    "jupyter": {
     "outputs_hidden": false
    }
   },
   "outputs": [
    {
     "name": "stdout",
     "output_type": "stream",
     "text": [
      "# 未过滤数据集中的化合物: 7504\n",
      "# 过滤后数据集中的化合物: 6143\n",
      "# 不符合 Ro5 标准的化合物: 1361\n"
     ]
    }
   ],
   "source": [
    "# 请注意，\"ro5_fulfilled \"列包含布尔值。\n",
    "# 因此，我们可以直接使用列值来子集数据。\n",
    "# 注意 ~ 否定布尔值。\n",
    "molecules_ro5_fulfilled = molecules[molecules[\"ro5_fulfilled\"]]\n",
    "molecules_ro5_violated = molecules[~molecules[\"ro5_fulfilled\"]]\n",
    "\n",
    "print(f\"# 未过滤数据集中的化合物: {molecules.shape[0]}\")\n",
    "print(f\"# 过滤后数据集中的化合物: {molecules_ro5_fulfilled.shape[0]}\")\n",
    "print(f\"# 不符合 Ro5 标准的化合物: {molecules_ro5_violated.shape[0]}\")\n"
   ]
  },
  {
   "cell_type": "code",
   "execution_count": 9,
   "id": "c06aa0b5ca438d9d",
   "metadata": {
    "ExecuteTime": {
     "end_time": "2024-09-19T07:58:29.130716Z",
     "start_time": "2024-09-19T07:58:28.809448Z"
    },
    "collapsed": false,
    "jupyter": {
     "outputs_hidden": false
    }
   },
   "outputs": [
    {
     "data": {
      "text/html": [
       "<div>\n",
       "<style scoped>\n",
       "    .dataframe tbody tr th:only-of-type {\n",
       "        vertical-align: middle;\n",
       "    }\n",
       "\n",
       "    .dataframe tbody tr th {\n",
       "        vertical-align: top;\n",
       "    }\n",
       "\n",
       "    .dataframe thead th {\n",
       "        text-align: right;\n",
       "    }\n",
       "</style>\n",
       "<table border=\"1\" class=\"dataframe\">\n",
       "  <thead>\n",
       "    <tr style=\"text-align: right;\">\n",
       "      <th></th>\n",
       "      <th>IC50</th>\n",
       "      <th>units</th>\n",
       "      <th>smiles</th>\n",
       "      <th>pIC50</th>\n",
       "      <th>molecular_weight</th>\n",
       "      <th>n_hba</th>\n",
       "      <th>n_hbd</th>\n",
       "      <th>logp</th>\n",
       "      <th>ro5_fulfilled</th>\n",
       "    </tr>\n",
       "    <tr>\n",
       "      <th>molecule_chembl_id</th>\n",
       "      <th></th>\n",
       "      <th></th>\n",
       "      <th></th>\n",
       "      <th></th>\n",
       "      <th></th>\n",
       "      <th></th>\n",
       "      <th></th>\n",
       "      <th></th>\n",
       "      <th></th>\n",
       "    </tr>\n",
       "  </thead>\n",
       "  <tbody>\n",
       "    <tr>\n",
       "      <th>CHEMBL5189340</th>\n",
       "      <td>0.023</td>\n",
       "      <td>nM</td>\n",
       "      <td>CN(C)c1ccc(/C=N/NC(=O)Cn2nc(Cc3ccc(Cl)cc3)c3cc...</td>\n",
       "      <td>10.638272</td>\n",
       "      <td>473.161853</td>\n",
       "      <td>6</td>\n",
       "      <td>1</td>\n",
       "      <td>3.85700</td>\n",
       "      <td>True</td>\n",
       "    </tr>\n",
       "    <tr>\n",
       "      <th>CHEMBL429743</th>\n",
       "      <td>0.030</td>\n",
       "      <td>nM</td>\n",
       "      <td>COc1cc2nccc(Oc3ccc4c(C(=O)Nc5ccc(Cl)cc5)cccc4c...</td>\n",
       "      <td>10.522879</td>\n",
       "      <td>484.118985</td>\n",
       "      <td>5</td>\n",
       "      <td>1</td>\n",
       "      <td>7.10320</td>\n",
       "      <td>True</td>\n",
       "    </tr>\n",
       "    <tr>\n",
       "      <th>CHEMBL5186748</th>\n",
       "      <td>0.120</td>\n",
       "      <td>nM</td>\n",
       "      <td>CNC(=O)c1cc(Oc2ccc(NC(=O)c3nn(-c4ccc(Cl)cc4)cc...</td>\n",
       "      <td>9.920819</td>\n",
       "      <td>489.120382</td>\n",
       "      <td>7</td>\n",
       "      <td>2</td>\n",
       "      <td>3.99352</td>\n",
       "      <td>True</td>\n",
       "    </tr>\n",
       "    <tr>\n",
       "      <th>CHEMBL3586072</th>\n",
       "      <td>0.140</td>\n",
       "      <td>nM</td>\n",
       "      <td>CNC(=O)c1ccc(-c2ccc(NC(=O)Nc3cc(Br)cc(C(F)(F)F...</td>\n",
       "      <td>9.853872</td>\n",
       "      <td>492.040873</td>\n",
       "      <td>3</td>\n",
       "      <td>3</td>\n",
       "      <td>5.53350</td>\n",
       "      <td>True</td>\n",
       "    </tr>\n",
       "    <tr>\n",
       "      <th>CHEMBL3586071</th>\n",
       "      <td>0.150</td>\n",
       "      <td>nM</td>\n",
       "      <td>CNC(=O)c1cc(-c2ccc(NC(=O)Nc3ccc(Cl)c(C(F)(F)F)...</td>\n",
       "      <td>9.823909</td>\n",
       "      <td>448.091388</td>\n",
       "      <td>3</td>\n",
       "      <td>3</td>\n",
       "      <td>5.42440</td>\n",
       "      <td>True</td>\n",
       "    </tr>\n",
       "  </tbody>\n",
       "</table>\n",
       "</div>"
      ],
      "text/plain": [
       "                     IC50 units  \\\n",
       "molecule_chembl_id                \n",
       "CHEMBL5189340       0.023    nM   \n",
       "CHEMBL429743        0.030    nM   \n",
       "CHEMBL5186748       0.120    nM   \n",
       "CHEMBL3586072       0.140    nM   \n",
       "CHEMBL3586071       0.150    nM   \n",
       "\n",
       "                                                               smiles  \\\n",
       "molecule_chembl_id                                                      \n",
       "CHEMBL5189340       CN(C)c1ccc(/C=N/NC(=O)Cn2nc(Cc3ccc(Cl)cc3)c3cc...   \n",
       "CHEMBL429743        COc1cc2nccc(Oc3ccc4c(C(=O)Nc5ccc(Cl)cc5)cccc4c...   \n",
       "CHEMBL5186748       CNC(=O)c1cc(Oc2ccc(NC(=O)c3nn(-c4ccc(Cl)cc4)cc...   \n",
       "CHEMBL3586072       CNC(=O)c1ccc(-c2ccc(NC(=O)Nc3cc(Br)cc(C(F)(F)F...   \n",
       "CHEMBL3586071       CNC(=O)c1cc(-c2ccc(NC(=O)Nc3ccc(Cl)c(C(F)(F)F)...   \n",
       "\n",
       "                        pIC50  molecular_weight  n_hba  n_hbd     logp  \\\n",
       "molecule_chembl_id                                                       \n",
       "CHEMBL5189340       10.638272        473.161853      6      1  3.85700   \n",
       "CHEMBL429743        10.522879        484.118985      5      1  7.10320   \n",
       "CHEMBL5186748        9.920819        489.120382      7      2  3.99352   \n",
       "CHEMBL3586072        9.853872        492.040873      3      3  5.53350   \n",
       "CHEMBL3586071        9.823909        448.091388      3      3  5.42440   \n",
       "\n",
       "                    ro5_fulfilled  \n",
       "molecule_chembl_id                 \n",
       "CHEMBL5189340                True  \n",
       "CHEMBL429743                 True  \n",
       "CHEMBL5186748                True  \n",
       "CHEMBL3586072                True  \n",
       "CHEMBL3586071                True  "
      ]
     },
     "execution_count": 9,
     "metadata": {},
     "output_type": "execute_result"
    }
   ],
   "source": [
    "# 保存过滤后的数据\n",
    "molecules_ro5_fulfilled.to_csv(DATA / \"compounds_lipinski.csv\")\n",
    "molecules_ro5_fulfilled.head()"
   ]
  },
  {
   "cell_type": "code",
   "execution_count": 10,
   "id": "77f5ca03f8142316",
   "metadata": {
    "ExecuteTime": {
     "end_time": "2024-09-19T07:58:29.236129Z",
     "start_time": "2024-09-19T07:58:28.954163Z"
    },
    "collapsed": false,
    "jupyter": {
     "outputs_hidden": false
    }
   },
   "outputs": [
    {
     "data": {
      "text/html": [
       "<div>\n",
       "<style scoped>\n",
       "    .dataframe tbody tr th:only-of-type {\n",
       "        vertical-align: middle;\n",
       "    }\n",
       "\n",
       "    .dataframe tbody tr th {\n",
       "        vertical-align: top;\n",
       "    }\n",
       "\n",
       "    .dataframe thead th {\n",
       "        text-align: right;\n",
       "    }\n",
       "</style>\n",
       "<table border=\"1\" class=\"dataframe\">\n",
       "  <thead>\n",
       "    <tr style=\"text-align: right;\">\n",
       "      <th></th>\n",
       "      <th>IC50</th>\n",
       "      <th>units</th>\n",
       "      <th>smiles</th>\n",
       "      <th>pIC50</th>\n",
       "      <th>molecular_weight</th>\n",
       "      <th>n_hba</th>\n",
       "      <th>n_hbd</th>\n",
       "      <th>logp</th>\n",
       "      <th>ro5_fulfilled</th>\n",
       "    </tr>\n",
       "    <tr>\n",
       "      <th>molecule_chembl_id</th>\n",
       "      <th></th>\n",
       "      <th></th>\n",
       "      <th></th>\n",
       "      <th></th>\n",
       "      <th></th>\n",
       "      <th></th>\n",
       "      <th></th>\n",
       "      <th></th>\n",
       "      <th></th>\n",
       "    </tr>\n",
       "  </thead>\n",
       "  <tbody>\n",
       "    <tr>\n",
       "      <th>CHEMBL3093581</th>\n",
       "      <td>0.14</td>\n",
       "      <td>nM</td>\n",
       "      <td>O=C(Nc1ccc(Oc2ccc3nc(NC(=O)C4CC4)cn3c2)c(F)c1)...</td>\n",
       "      <td>9.853872</td>\n",
       "      <td>523.165582</td>\n",
       "      <td>7</td>\n",
       "      <td>2</td>\n",
       "      <td>5.0174</td>\n",
       "      <td>False</td>\n",
       "    </tr>\n",
       "    <tr>\n",
       "      <th>CHEMBL429585</th>\n",
       "      <td>0.30</td>\n",
       "      <td>nM</td>\n",
       "      <td>COc1cc2nccc(Oc3ccc4c(C(=O)Nc5ccc(Cl)cc5)cccc4c...</td>\n",
       "      <td>9.522879</td>\n",
       "      <td>502.109563</td>\n",
       "      <td>5</td>\n",
       "      <td>1</td>\n",
       "      <td>7.2423</td>\n",
       "      <td>False</td>\n",
       "    </tr>\n",
       "    <tr>\n",
       "      <th>CHEMBL269916</th>\n",
       "      <td>0.30</td>\n",
       "      <td>nM</td>\n",
       "      <td>COc1cc2nccc(Oc3ccc4c(C(=O)Nc5cc(Cl)cc(Cl)c5)cc...</td>\n",
       "      <td>9.522879</td>\n",
       "      <td>518.080012</td>\n",
       "      <td>5</td>\n",
       "      <td>1</td>\n",
       "      <td>7.7566</td>\n",
       "      <td>False</td>\n",
       "    </tr>\n",
       "    <tr>\n",
       "      <th>CHEMBL4060841</th>\n",
       "      <td>0.31</td>\n",
       "      <td>nM</td>\n",
       "      <td>Nc1ncc2ccc(-c3ccc(NC(=S)Nc4ccc(OC(F)(F)F)cc4Br...</td>\n",
       "      <td>9.508638</td>\n",
       "      <td>533.013278</td>\n",
       "      <td>5</td>\n",
       "      <td>3</td>\n",
       "      <td>6.3490</td>\n",
       "      <td>False</td>\n",
       "    </tr>\n",
       "    <tr>\n",
       "      <th>CHEMBL4875220</th>\n",
       "      <td>0.40</td>\n",
       "      <td>nM</td>\n",
       "      <td>O=C(O)Cc1cccc(Nc2cc(Oc3ccc(NC(=O)Nc4cccc(C(F)(...</td>\n",
       "      <td>9.397940</td>\n",
       "      <td>523.146739</td>\n",
       "      <td>6</td>\n",
       "      <td>4</td>\n",
       "      <td>6.3024</td>\n",
       "      <td>False</td>\n",
       "    </tr>\n",
       "  </tbody>\n",
       "</table>\n",
       "</div>"
      ],
      "text/plain": [
       "                    IC50 units  \\\n",
       "molecule_chembl_id               \n",
       "CHEMBL3093581       0.14    nM   \n",
       "CHEMBL429585        0.30    nM   \n",
       "CHEMBL269916        0.30    nM   \n",
       "CHEMBL4060841       0.31    nM   \n",
       "CHEMBL4875220       0.40    nM   \n",
       "\n",
       "                                                               smiles  \\\n",
       "molecule_chembl_id                                                      \n",
       "CHEMBL3093581       O=C(Nc1ccc(Oc2ccc3nc(NC(=O)C4CC4)cn3c2)c(F)c1)...   \n",
       "CHEMBL429585        COc1cc2nccc(Oc3ccc4c(C(=O)Nc5ccc(Cl)cc5)cccc4c...   \n",
       "CHEMBL269916        COc1cc2nccc(Oc3ccc4c(C(=O)Nc5cc(Cl)cc(Cl)c5)cc...   \n",
       "CHEMBL4060841       Nc1ncc2ccc(-c3ccc(NC(=S)Nc4ccc(OC(F)(F)F)cc4Br...   \n",
       "CHEMBL4875220       O=C(O)Cc1cccc(Nc2cc(Oc3ccc(NC(=O)Nc4cccc(C(F)(...   \n",
       "\n",
       "                       pIC50  molecular_weight  n_hba  n_hbd    logp  \\\n",
       "molecule_chembl_id                                                     \n",
       "CHEMBL3093581       9.853872        523.165582      7      2  5.0174   \n",
       "CHEMBL429585        9.522879        502.109563      5      1  7.2423   \n",
       "CHEMBL269916        9.522879        518.080012      5      1  7.7566   \n",
       "CHEMBL4060841       9.508638        533.013278      5      3  6.3490   \n",
       "CHEMBL4875220       9.397940        523.146739      6      4  6.3024   \n",
       "\n",
       "                    ro5_fulfilled  \n",
       "molecule_chembl_id                 \n",
       "CHEMBL3093581               False  \n",
       "CHEMBL429585                False  \n",
       "CHEMBL269916                False  \n",
       "CHEMBL4060841               False  \n",
       "CHEMBL4875220               False  "
      ]
     },
     "execution_count": 10,
     "metadata": {},
     "output_type": "execute_result"
    }
   ],
   "source": [
    "# 保存不符合 Ro5 标准的化合物\n",
    "molecules_ro5_violated.to_csv(DATA / \"compounds_not_lipinski.csv\")\n",
    "molecules_ro5_violated.head()"
   ]
  },
  {
   "cell_type": "markdown",
   "id": "7737e9c74dbe2f10",
   "metadata": {
    "collapsed": false,
    "jupyter": {
     "outputs_hidden": false
    }
   },
   "source": [
    "可视化 Ro5 属性（雷达图） ¶\n",
    "计算 Ro5 属性的统计数据 ¶\n",
    "定义一个辅助函数来计算输入 DataFrame 的平均值和标准差。"
   ]
  },
  {
   "cell_type": "markdown",
   "id": "bc1c69de0c865a9",
   "metadata": {
    "collapsed": false,
    "jupyter": {
     "outputs_hidden": false
    }
   },
   "source": []
  },
  {
   "cell_type": "code",
   "execution_count": 11,
   "id": "dbde02d051a73c96",
   "metadata": {
    "ExecuteTime": {
     "end_time": "2024-09-19T07:58:29.527056Z",
     "start_time": "2024-09-19T07:58:29.241385Z"
    },
    "collapsed": false,
    "jupyter": {
     "outputs_hidden": false
    }
   },
   "outputs": [],
   "source": [
    "def calculate_mean_std(dataframe):\n",
    "    \"\"\"\n",
    "    计算数据集的平均值和标准差。\n",
    "    参数\n",
    "    ----------\n",
    "    dataframe : pd.DataFrame\n",
    "    一组项（行）的属性（列）。\n",
    "    返回\n",
    "    -------\n",
    "    pd.DataFrame\n",
    "    不同属性（行）的平均值和标准偏差（列）。\n",
    "    \"\"\"\n",
    "    # 生成属性列的描述性统计\n",
    "    stats = dataframe.describe()\n",
    "    # 转置数据帧（统计量 = 列）\n",
    "    stats = stats.T\n",
    "    # 选取均值和标准差\n",
    "    stats = stats[[\"mean\", \"std\"]]\n",
    "    return stats"
   ]
  },
  {
   "cell_type": "markdown",
   "id": "60a3aa3c277983a8",
   "metadata": {
    "collapsed": false,
    "jupyter": {
     "outputs_hidden": false
    }
   },
   "source": [
    "我们计算满足 Ro5 的化合物数据集的统计数据"
   ]
  },
  {
   "cell_type": "code",
   "execution_count": 12,
   "id": "9d4d9ba9350c1b4",
   "metadata": {
    "ExecuteTime": {
     "end_time": "2024-09-19T07:58:29.790416Z",
     "start_time": "2024-09-19T07:58:29.532127Z"
    },
    "collapsed": false,
    "jupyter": {
     "outputs_hidden": false
    }
   },
   "outputs": [
    {
     "data": {
      "text/html": [
       "<div>\n",
       "<style scoped>\n",
       "    .dataframe tbody tr th:only-of-type {\n",
       "        vertical-align: middle;\n",
       "    }\n",
       "\n",
       "    .dataframe tbody tr th {\n",
       "        vertical-align: top;\n",
       "    }\n",
       "\n",
       "    .dataframe thead th {\n",
       "        text-align: right;\n",
       "    }\n",
       "</style>\n",
       "<table border=\"1\" class=\"dataframe\">\n",
       "  <thead>\n",
       "    <tr style=\"text-align: right;\">\n",
       "      <th></th>\n",
       "      <th>mean</th>\n",
       "      <th>std</th>\n",
       "    </tr>\n",
       "  </thead>\n",
       "  <tbody>\n",
       "    <tr>\n",
       "      <th>molecular_weight</th>\n",
       "      <td>420.292831</td>\n",
       "      <td>71.605299</td>\n",
       "    </tr>\n",
       "    <tr>\n",
       "      <th>n_hba</th>\n",
       "      <td>5.714472</td>\n",
       "      <td>1.756283</td>\n",
       "    </tr>\n",
       "    <tr>\n",
       "      <th>n_hbd</th>\n",
       "      <td>2.171415</td>\n",
       "      <td>1.034452</td>\n",
       "    </tr>\n",
       "    <tr>\n",
       "      <th>logp</th>\n",
       "      <td>4.246823</td>\n",
       "      <td>1.164285</td>\n",
       "    </tr>\n",
       "  </tbody>\n",
       "</table>\n",
       "</div>"
      ],
      "text/plain": [
       "                        mean        std\n",
       "molecular_weight  420.292831  71.605299\n",
       "n_hba               5.714472   1.756283\n",
       "n_hbd               2.171415   1.034452\n",
       "logp                4.246823   1.164285"
      ]
     },
     "execution_count": 12,
     "metadata": {},
     "output_type": "execute_result"
    }
   ],
   "source": [
    "molecules_ro5_fulfilled_stats = calculate_mean_std(\n",
    "    molecules_ro5_fulfilled[[\"molecular_weight\", \"n_hba\", \"n_hbd\", \"logp\"]]\n",
    ")\n",
    "molecules_ro5_fulfilled_stats"
   ]
  },
  {
   "cell_type": "markdown",
   "id": "9fabdbbfce9d5ed",
   "metadata": {
    "collapsed": false,
    "jupyter": {
     "outputs_hidden": false
    }
   },
   "source": [
    "我们计算违反 Ro5 的化合物数据集的统计数据。"
   ]
  },
  {
   "cell_type": "code",
   "execution_count": 13,
   "id": "d73d0d116920ed9",
   "metadata": {
    "ExecuteTime": {
     "end_time": "2024-09-19T07:58:29.968869Z",
     "start_time": "2024-09-19T07:58:29.725475Z"
    },
    "collapsed": false,
    "jupyter": {
     "outputs_hidden": false
    }
   },
   "outputs": [
    {
     "data": {
      "text/html": [
       "<div>\n",
       "<style scoped>\n",
       "    .dataframe tbody tr th:only-of-type {\n",
       "        vertical-align: middle;\n",
       "    }\n",
       "\n",
       "    .dataframe tbody tr th {\n",
       "        vertical-align: top;\n",
       "    }\n",
       "\n",
       "    .dataframe thead th {\n",
       "        text-align: right;\n",
       "    }\n",
       "</style>\n",
       "<table border=\"1\" class=\"dataframe\">\n",
       "  <thead>\n",
       "    <tr style=\"text-align: right;\">\n",
       "      <th></th>\n",
       "      <th>mean</th>\n",
       "      <th>std</th>\n",
       "    </tr>\n",
       "  </thead>\n",
       "  <tbody>\n",
       "    <tr>\n",
       "      <th>molecular_weight</th>\n",
       "      <td>558.252515</td>\n",
       "      <td>66.712252</td>\n",
       "    </tr>\n",
       "    <tr>\n",
       "      <th>n_hba</th>\n",
       "      <td>6.980162</td>\n",
       "      <td>1.789361</td>\n",
       "    </tr>\n",
       "    <tr>\n",
       "      <th>n_hbd</th>\n",
       "      <td>2.500367</td>\n",
       "      <td>1.282876</td>\n",
       "    </tr>\n",
       "    <tr>\n",
       "      <th>logp</th>\n",
       "      <td>5.995160</td>\n",
       "      <td>0.969502</td>\n",
       "    </tr>\n",
       "  </tbody>\n",
       "</table>\n",
       "</div>"
      ],
      "text/plain": [
       "                        mean        std\n",
       "molecular_weight  558.252515  66.712252\n",
       "n_hba               6.980162   1.789361\n",
       "n_hbd               2.500367   1.282876\n",
       "logp                5.995160   0.969502"
      ]
     },
     "execution_count": 13,
     "metadata": {},
     "output_type": "execute_result"
    }
   ],
   "source": [
    "molecules_ro5_violated_stats = calculate_mean_std(\n",
    "    molecules_ro5_violated[[\"molecular_weight\", \"n_hba\", \"n_hbd\", \"logp\"]]\n",
    ")\n",
    "molecules_ro5_violated_stats"
   ]
  },
  {
   "cell_type": "markdown",
   "id": "75fe363ab5e1f76e",
   "metadata": {
    "collapsed": false,
    "jupyter": {
     "outputs_hidden": false
    }
   },
   "source": [
    "定义辅助函数来准备雷达绘图数据 ¶\n",
    "接下来，我们将定义一些仅用于雷达绘图的辅助函数。\n",
    "\n",
    "准备 y 值：用于 Ro5 标准的属性具有不同的量级。 MWT 的阈值为 500，而 HBA 和 HBD 的数量以及 LogP 的阈值分别仅为 10、5 和 5。为了最简单地可视化这些不同的尺度，我们将所有属性值缩放到缩放阈值 5：\n",
    "\n",
    "scaled property value = property value / property threshold * scaled property threshold\n",
    "\n",
    "换算后的 MWT = MWT / 500 * 5 = MWT / 100\n",
    "\n",
    "换算后的 HBA = HBA / 10 * 5 = HBA / 2\n",
    "\n",
    "换算后的 HBD = HBD / 5 * 5 = HBD\n",
    "\n",
    "缩放后的 LogP = LogP / 5 * 5 = LogP\n",
    "\n",
    "这导致 MWT 缩小 100，HBA 缩小 2，而 HBD 和 LogP 保持不变。\n",
    "\n",
    "以下辅助函数执行此类缩放，并将在稍后的雷达绘图过程中使用"
   ]
  },
  {
   "cell_type": "code",
   "execution_count": 14,
   "id": "d78dba903e28ff70",
   "metadata": {
    "ExecuteTime": {
     "end_time": "2024-09-19T07:58:30.203433Z",
     "start_time": "2024-09-19T07:58:29.973010Z"
    },
    "collapsed": false,
    "jupyter": {
     "outputs_hidden": false
    }
   },
   "outputs": [],
   "source": [
    "def _scale_by_thresholds(stats, thresholds, scaled_threshold):\n",
    "    \"\"\"\n",
    "    不同属性的比例值，每个属性都有一个单独定义的阈值。\n",
    "    参数\n",
    "    ----------\n",
    "    stats : pd.DataFrame\n",
    "    数据帧，包含每个理化性质（行）的 \"平均值 \"和 \"std\"（列）。\n",
    "    阈值\n",
    "    为每种属性定义的阈值。\n",
    "    scaled_threshold : int 或 float\n",
    "    所有属性的缩放阈值。\n",
    "    返回值\n",
    "    -------\n",
    "    pd.DataFrame\n",
    "    数据帧，包含每种理化性质的标度平均值和标准偏差。\n",
    "    \"\"\"\n",
    "    # 如果缩放键和 data_stats 指标不匹配，则会出错\n",
    "    for property_name in stats.index:\n",
    "        if property_name not in thresholds.keys():\n",
    "            raise KeyError(f\"Add property '{property_name}' to scaling variable.\")\n",
    "    # 规模属性数据\n",
    "    stats_scaled = stats.apply(lambda x: x / thresholds[x.name] * scaled_threshold, axis=1)\n",
    "    return stats_scaled"
   ]
  },
  {
   "cell_type": "markdown",
   "id": "5da648f6efbb7c3",
   "metadata": {
    "collapsed": false,
    "jupyter": {
     "outputs_hidden": false
    }
   },
   "source": [
    "准备 x 值：以下辅助函数返回雷达图的物理化学属性轴的角度。例如，如果我们想要生成 4 个属性的雷达图，我们需要将轴设置为 0°、90°、180° 和 270°。辅助函数返回弧度等角度。"
   ]
  },
  {
   "cell_type": "code",
   "execution_count": 15,
   "id": "4eca582a7c32a534",
   "metadata": {
    "ExecuteTime": {
     "end_time": "2024-09-19T07:58:30.443040Z",
     "start_time": "2024-09-19T07:58:30.053803Z"
    },
    "collapsed": false,
    "jupyter": {
     "outputs_hidden": false
    }
   },
   "outputs": [],
   "source": [
    "def _define_radial_axes_angles(n_axes):\n",
    "    \"\"\"根据轴的数量，定义径向 (x-) 轴的角度（弧度）。\"\"\"\n",
    "    x_angles = [i / float(n_axes) * 2 * math.pi for i in range(n_axes)]\n",
    "    x_angles += x_angles[:1]\n",
    "    return x_angles"
   ]
  },
  {
   "cell_type": "markdown",
   "id": "5a53b11b438aef77",
   "metadata": {
    "collapsed": false,
    "jupyter": {
     "outputs_hidden": false
    }
   },
   "source": [
    "这两个函数都将用作雷达绘图函数中的辅助函数，该函数将在接下来定义。\n",
    "\n",
    "最后生成雷达图！ ¶\n",
    "现在，我们定义一个函数，以雷达图的形式可视化化合物的化学性质。我们按照 stackoverflow 上的这些说明进行操作。"
   ]
  },
  {
   "cell_type": "code",
   "execution_count": 16,
   "id": "c3873f84c54f3c5f",
   "metadata": {
    "ExecuteTime": {
     "end_time": "2024-09-19T07:58:30.517012Z",
     "start_time": "2024-09-19T07:58:30.386551Z"
    },
    "collapsed": false,
    "jupyter": {
     "outputs_hidden": false
    }
   },
   "outputs": [],
   "source": [
    "def plot_radar(\n",
    "    y,\n",
    "    thresholds,\n",
    "    scaled_threshold,\n",
    "    properties_labels,\n",
    "    y_max=None,\n",
    "    output_path=None,\n",
    "):\n",
    "    \"\"\"\n",
    "    根据数据集属性的平均值和标准偏差绘制雷达图。\n",
    "    参数\n",
    "    ----------\n",
    "    y : pd.DataFrame\n",
    "    数据帧，包含每个理化特性（行）的 \"平均值 \"和 \"std\"（列）。\n",
    "    阈值\n",
    "    为每种属性定义的阈值。\n",
    "    scaled_threshold : int 或 float\n",
    "    所有属性的缩放阈值。\n",
    "    properties_labels : 字符串列表\n",
    "    在绘图中用作标签的属性名称列表。\n",
    "    y_max ：无或 int 或 float\n",
    "    设置 y 的最大值。如果为 \"无\"，则由 matplotlib 决定。\n",
    "    output_path : None 或 pathlib.Path\n",
    "    如果不是 None，则将绘图保存到文件。\n",
    "    \"\"\"\n",
    "    # 定义 X 轴径向角度 -- 使用我们的辅助函数！\n",
    "    x = _define_radial_axes_angles(len(y))\n",
    "    # 根据定义的阈值缩放 Y 轴值 -- 使用我们的辅助函数！\n",
    "    y = _scale_by_thresholds(y, thresholds, scaled_threshold)\n",
    "    # 由于我们的图表将是圆形的，因此我们将每个属性的第一个值添加到最后\n",
    "    y = pd.concat([y, y.head(1)])\n",
    "\n",
    "    # 设置图形和子区轴\n",
    "    plt.figure(figsize=(6, 6))\n",
    "    ax = plt.subplot(111, polar=True)\n",
    "\n",
    "    # 绘图数据\n",
    "    ax.fill(x, [scaled_threshold] * len(x), \"cornflowerblue\", alpha=0.2)\n",
    "    ax.plot(x, y[\"mean\"], \"b\", lw=3, ls=\"-\")\n",
    "    ax.plot(x, y[\"mean\"] + y[\"std\"], \"orange\", lw=2, ls=\"--\")\n",
    "    ax.plot(x, y[\"mean\"] - y[\"std\"], \"orange\", lw=2, ls=\"-.\")\n",
    "\n",
    "    # 从现在起，我们只做情节美化\n",
    "    # 将 0° 设置为 12 点钟方向\n",
    "    ax.set_theta_offset(math.pi / 2)\n",
    "    # 设置顺时针旋转\n",
    "    ax.set_theta_direction(-1)\n",
    "\n",
    "    # 在180 °半径轴旁设置y标签\n",
    "    ax.set_rlabel_position(180)\n",
    "    # 设置径向轴的刻度数并去除标签\n",
    "    plt.xticks(x, [])\n",
    "    # 得到最大y - ticks值\n",
    "    if not y_max:\n",
    "        y_max = int(ax.get_yticks()[-1])\n",
    "    # 设定轴线极限\n",
    "    plt.ylim(0, y_max)\n",
    "    # 设置 y 轴刻度线的数量和标签\n",
    "    plt.yticks(\n",
    "        range(1, y_max),\n",
    "        [\"5\" if i == scaled_threshold else \"\" for i in range(1, y_max)],\n",
    "        fontsize=16,\n",
    "    )\n",
    "\n",
    "    # 绘制 ytick 标签，确保标签正确贴合\n",
    "    # 注意，我们使用 [:1] 来排除等于第一个元素的最后一个元素（此处不需要）\n",
    "    for i, (angle, label) in enumerate(zip(x[:-1], properties_labels)):\n",
    "        if angle == 0:\n",
    "            ha = \"center\"\n",
    "        elif 0 < angle < math.pi:\n",
    "            ha = \"left\"\n",
    "        elif angle == math.pi:\n",
    "            ha = \"center\"\n",
    "        else:\n",
    "            ha = \"right\"\n",
    "        ax.text(\n",
    "            x=angle,\n",
    "            y=y_max + 1,\n",
    "            s=label,\n",
    "            size=16,\n",
    "            horizontalalignment=ha,\n",
    "            verticalalignment=\"center\",\n",
    "        )\n",
    "\n",
    "    # 相对于左上方曲线图添加图例\n",
    "    labels = (\"mean\", \"mean + std\", \"mean - std\", \"rule of five area\")\n",
    "    ax.legend(labels, loc=(1.1, 0.7), labelspacing=0.3, fontsize=16)\n",
    "\n",
    "    # 保存plot - -使用bbox _ inches包含文本框\n",
    "    if output_path:\n",
    "        plt.savefig(output_path, dpi=300, bbox_inches=\"tight\", transparent=True)\n",
    "\n",
    "    plt.show()"
   ]
  },
  {
   "cell_type": "markdown",
   "id": "f52a78b4e28f7f96",
   "metadata": {
    "collapsed": false,
    "jupyter": {
     "outputs_hidden": false
    }
   },
   "source": [
    "接下来，我们要绘制两个数据集的雷达图： 1. 满足 Ro5 的化合物 2. 违反 Ro5 的化合物\n",
    "\n",
    "定义两个雷达图应保持相同的输入参数："
   ]
  },
  {
   "cell_type": "code",
   "execution_count": 17,
   "id": "86176ccb6af21830",
   "metadata": {
    "ExecuteTime": {
     "end_time": "2024-09-19T07:58:30.561778Z",
     "start_time": "2024-09-19T07:58:30.520429Z"
    },
    "collapsed": false,
    "jupyter": {
     "outputs_hidden": false
    }
   },
   "outputs": [],
   "source": [
    "thresholds = {\"molecular_weight\": 500, \"n_hba\": 10, \"n_hbd\": 5, \"logp\": 5}\n",
    "scaled_threshold = 5\n",
    "properties_labels = [\n",
    "    \"Molecular weight (Da) / 100\",\n",
    "    \"# HBA / 2\",\n",
    "    \"# HBD\",\n",
    "    \"LogP\",\n",
    "]\n",
    "y_max = 8"
   ]
  },
  {
   "cell_type": "markdown",
   "id": "114ee6080010547f",
   "metadata": {
    "collapsed": false,
    "jupyter": {
     "outputs_hidden": false
    }
   },
   "source": [
    "我们绘制了满足 Ro5 的化合物数据集的雷达图。"
   ]
  },
  {
   "cell_type": "code",
   "execution_count": 18,
   "id": "1248d1e67841ee05",
   "metadata": {
    "ExecuteTime": {
     "end_time": "2024-09-19T07:58:30.748018Z",
     "start_time": "2024-09-19T07:58:30.567053Z"
    },
    "collapsed": false,
    "jupyter": {
     "outputs_hidden": false
    }
   },
   "outputs": [
    {
     "data": {
      "image/png": "[encoded data removed]",
      "text/plain": [
       "<Figure size 600x600 with 1 Axes>"
      ]
     },
     "metadata": {},
     "output_type": "display_data"
    }
   ],
   "source": [
    "plot_radar(\n",
    "    molecules_ro5_fulfilled_stats,\n",
    "    thresholds,\n",
    "    scaled_threshold,\n",
    "    properties_labels,\n",
    "    y_max,\n",
    ")"
   ]
  },
  {
   "cell_type": "markdown",
   "id": "f488b70c079f3fb5",
   "metadata": {
    "collapsed": false,
    "jupyter": {
     "outputs_hidden": false
    }
   },
   "source": [
    "蓝色方块表示分子的理化性质符合 Ro5 的区域。蓝线突出显示平均值，而橙色虚线显示标准差。我们可以看到平均值从未违反任何 Lipinski 规则。然而，根据标准偏差，某些属性的值大于 Ro5 阈值。这是可以接受的，因为根据 Ro5，可以违反四项规则之一。"
   ]
  },
  {
   "cell_type": "markdown",
   "id": "6bd4a91462433d38",
   "metadata": {
    "collapsed": false,
    "jupyter": {
     "outputs_hidden": false
    }
   },
   "source": []
  },
  {
   "cell_type": "markdown",
   "id": "eca5fb05b1bf4854",
   "metadata": {
    "collapsed": false,
    "jupyter": {
     "outputs_hidden": false
    }
   },
   "source": [
    "我们绘制了违反 Ro5 的化合物数据集的雷达图。"
   ]
  },
  {
   "cell_type": "code",
   "execution_count": 19,
   "id": "8734edba48054421",
   "metadata": {
    "ExecuteTime": {
     "end_time": "2024-09-19T07:58:30.939966Z",
     "start_time": "2024-09-19T07:58:30.750814Z"
    },
    "collapsed": false,
    "jupyter": {
     "outputs_hidden": false
    }
   },
   "outputs": [
    {
     "data": {
      "image/png": "[encoded data removed]",
      "text/plain": [
       "<Figure size 600x600 with 1 Axes>"
      ]
     },
     "metadata": {},
     "output_type": "display_data"
    }
   ],
   "source": [
    "plot_radar(\n",
    "    molecules_ro5_violated_stats,\n",
    "    thresholds,\n",
    "    scaled_threshold,\n",
    "    properties_labels,\n",
    "    y_max,\n",
    ")"
   ]
  },
  {
   "cell_type": "code",
   "execution_count": 20,
   "id": "14923ac67a7fa8e4",
   "metadata": {
    "ExecuteTime": {
     "end_time": "2024-09-19T07:58:31.042501Z",
     "start_time": "2024-09-19T07:58:30.920594Z"
    },
    "collapsed": false,
    "jupyter": {
     "outputs_hidden": false
    }
   },
   "outputs": [
    {
     "data": {
      "text/plain": [
       "<Figure size 640x480 with 0 Axes>"
      ]
     },
     "metadata": {},
     "output_type": "display_data"
    }
   ],
   "source": [
    "# 保存绘图\n",
    "plt.savefig(DATA / \"VEGFR2_radar_not_lipinski.png\", dpi=300, bbox_inches=\"tight\", transparent=True)"
   ]
  },
  {
   "cell_type": "markdown",
   "id": "876977649df199e7",
   "metadata": {
    "collapsed": false,
    "jupyter": {
     "outputs_hidden": false
    }
   },
   "source": [
    "我们发现化合物大多因其 logP 值和分子量而违反 Ro5。"
   ]
  },
  {
   "cell_type": "markdown",
   "id": "b3411214b2480a",
   "metadata": {
    "collapsed": false,
    "jupyter": {
     "outputs_hidden": false
    }
   },
   "source": [
    "了解了 Lipinski 的 Ro5 作为估计化合物口服生物利用度的衡量标准，并且我们已使用 rdkit 在数据集上应用了该规则。请注意，药物也可以通过其他途径给药，即吸入、皮肤渗透和注射。\n"
   ]
  },
  {
   "cell_type": "code",
   "execution_count": 28,
   "id": "249026b0b537258b",
   "metadata": {
    "ExecuteTime": {
     "end_time": "2024-09-18T15:43:21.904017Z",
     "start_time": "2024-09-18T15:43:21.858382Z"
    },
    "collapsed": false,
    "jupyter": {
     "outputs_hidden": false
    }
   },
   "outputs": [],
   "source": []
  },
  {
   "cell_type": "code",
   "execution_count": null,
   "id": "a5fed5d03931ff35",
   "metadata": {
    "collapsed": false,
    "jupyter": {
     "outputs_hidden": false
    }
   },
   "outputs": [],
   "source": []
  }
 ],
 "metadata": {
  "kernelspec": {
   "display_name": "Python 3 (ipykernel)",
   "language": "python",
   "name": "python3"
  },
  "language_info": {
   "codemirror_mode": {
    "name": "ipython",
    "version": 3
   },
   "file_extension": ".py",
   "mimetype": "text/x-python",
   "name": "python",
   "nbconvert_exporter": "python",
   "pygments_lexer": "ipython3",
   "version": "3.9.15"
  }
 },
 "nbformat": 4,
 "nbformat_minor": 5
}

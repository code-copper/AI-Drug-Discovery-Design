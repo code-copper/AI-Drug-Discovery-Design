{
 "cells": [
  {
   "cell_type": "code",
   "execution_count": null,
   "id": "initial_id",
   "metadata": {
    "collapsed": true
   },
   "outputs": [],
   "source": [
    "import requests\n",
    "from Bio import PDB\n",
    "\n",
    "# 1. 下载PDB文件\n",
    "pdb_id = '4CL7'\n",
    "url = f'https://files.rcsb.org/download/{pdb_id}.pdb'\n",
    "response = requests.get(url)\n",
    "\n",
    "# 2. 将下载的内容保存为PDB文件\n",
    "with open(f'{pdb_id}.pdb', 'wb') as file:\n",
    "    file.write(response.content)\n",
    "\n",
    "# 3. 创建PDB解析器\n",
    "parser = PDB.PDBParser(QUIET=True)\n",
    "\n",
    "# 4. 读取PDB文件\n",
    "structure = parser.get_structure('Protein', f'{pdb_id}.pdb')\n",
    "\n",
    "# 5. 定义活性位点氨基酸列表\n",
    "active_site_residues = ['ASP', 'GLU', 'HIS', 'LYS', 'ARG']\n",
    "\n",
    "# 6. 初始化存储活性位点的列表\n",
    "identified_active_sites = []\n",
    "\n",
    "# 7. 遍历结构，筛选氨基酸\n",
    "for model in structure:\n",
    "    for chain in model:\n",
    "        for residue in chain:\n",
    "            # 8. 输出每个残基的详细信息用于调试\n",
    "            if PDB.is_aa(residue):\n",
    "                res_name = residue.get_resname()\n",
    "                res_id = residue.get_id()\n",
    "                print(f\"Checking Residue: {res_name} {res_id}\")\n",
    "\n",
    "            # 9. 检查是否为氨基酸并在活性位点列表中\n",
    "            if PDB.is_aa(residue) and residue.get_resname() in active_site_residues:\n",
    "                # 10. 获取坐标\n",
    "                coordinates = residue['CA'].get_coord()\n",
    "                identified_active_sites.append((residue.get_resname(), residue.get_id(), coordinates))\n",
    "\n",
    "# 11. 输出活性位点\n",
    "print(\"已识别的活性位点:\")\n",
    "for res_name, res_id, coords in identified_active_sites:\n",
    "    print(f\"Residue: {res_name} {res_id}, Coordinates: {coords}\")\n",
    "\n",
    "# 12. 如果没有找到活性位点，提供提示\n",
    "if not identified_active_sites:\n",
    "    print(\"没有根据定义的残留物确定的活性位点。\")\n"
   ]
  }
 ],
 "metadata": {
  "kernelspec": {
   "display_name": "Python 3",
   "language": "python",
   "name": "python3"
  },
  "language_info": {
   "codemirror_mode": {
    "name": "ipython",
    "version": 2
   },
   "file_extension": ".py",
   "mimetype": "text/x-python",
   "name": "python",
   "nbconvert_exporter": "python",
   "pygments_lexer": "ipython2",
   "version": "2.7.6"
  }
 },
 "nbformat": 4,
 "nbformat_minor": 5
}

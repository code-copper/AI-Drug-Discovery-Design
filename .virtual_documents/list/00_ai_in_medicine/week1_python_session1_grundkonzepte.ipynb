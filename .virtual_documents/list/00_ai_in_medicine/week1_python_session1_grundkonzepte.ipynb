

















print("This is a cell with code.")
# 这是一行注释。
# 代码单元格中以 "#"符号开头的行是
# 在运行代码时被忽略
# print('这句话不会出现在单元格下方的输出中。')











this_is_a_boolean = False
print(this_is_a_boolean)








my_string = "This is a string"
# 您的代码行








# TASK contents here





# This is another list
neighborhoods = ["mitte", "kreuzberg", "kreuzberg"]
print(neighborhoods)





neighborhoods = ["mitte", "kreuzberg", "neukölln"]
print(neighborhoods[0])

index = 0
print(neighborhoods[index])

print(neighborhoods[3])








more_neighborhoods = ["mitte", "kreuzberg", "neukölln", "spandau"]
print(more_neighborhoods[1:3])


# More examples
print(more_neighborhoods[3:5])  # even if we are out of bounds, this will not raise an error
print(more_neighborhoods[3])
print(more_neighborhoods[-1])  # negative slicing can be used to count from the end; -1 == last one!








cases_by_neighborhood = {"mitte": 15672, "kreuzberg": 100569, "neukölln": 14630, "spandau": 9243}
# Your lines of code here

print(cases_by_neighborhood)





my_string = "grundkonzepte"
# ...
# res1 = ...








x = 7
y = 7
print("Is x equal to y? The answer is...", x == y)
print("Is x not equal to y? The answer is...", x != y)











# Copy the if-elif-elif-else code here



















#  Try your best here
count = 0
for neighborhood in neighborhoods:
    ...




















number = 4
string = "Jaime"
dictionary = {"python_version": "3.6"}


# 将光标放在句号后面，然后按制表符！
number.
string.
dictionary.





# Try it here!
































